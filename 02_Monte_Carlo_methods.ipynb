{
 "cells": [
  {
   "cell_type": "markdown",
   "metadata": {
    "colab_type": "text",
    "id": "MonTGYfCIDu_"
   },
   "source": [
    "# Monte Carlo methods\n",
    "Auhtor: Artur Kalinowski"
   ]
  },
  {
   "cell_type": "markdown",
   "metadata": {},
   "source": [
    "To pen the slides please use this [link](https://akalinow.github.io/Modern_Particle_Physics_Experiments/slides/monte_carlo_01.pdf)"
   ]
  },
  {
   "cell_type": "code",
   "execution_count": 8,
   "metadata": {},
   "outputs": [
    {
     "data": {
      "text/html": [
       "\n",
       "        <iframe\n",
       "            width=\"1000\"\n",
       "            height=\"700\"\n",
       "            src=\"https://akalinow.github.io/Modern_Particle_Physics_Experiments/slides/monte_carlo_01.pdf\"\n",
       "            frameborder=\"0\"\n",
       "            allowfullscreen\n",
       "        ></iframe>\n",
       "        "
      ],
      "text/plain": [
       "<IPython.lib.display.IFrame at 0x7f43a81c40b8>"
      ]
     },
     "execution_count": 8,
     "metadata": {},
     "output_type": "execute_result"
    }
   ],
   "source": [
    "from IPython.display import IFrame\n",
    "#This doess not work in colab use this [link] for slides \n",
    "IFrame(\"https://akalinow.github.io/Modern_Particle_Physics_Experiments/slides/monte_carlo_01.pdf\", width=1000, height=700)"
   ]
  },
  {
   "cell_type": "markdown",
   "metadata": {},
   "source": [
    "## Setup the environment"
   ]
  },
  {
   "cell_type": "code",
   "execution_count": null,
   "metadata": {
    "colab": {},
    "colab_type": "code",
    "id": "P2y_kbTMIDvD"
   },
   "outputs": [],
   "source": [
    "#import ROOT\n",
    "\n",
    "#Color printing\n",
    "from termcolor import colored\n",
    "\n",
    "#General data operations library\n",
    "import math\n",
    "import numpy as np\n",
    "\n",
    "#HEP specific tools\n",
    "import scipy.constants as scipy_constants\n",
    "\n",
    "#Plotting libraries\n",
    "import matplotlib.pyplot as plt\n",
    "\n",
    "#Increase plots font size\n",
    "params = {'legend.fontsize': 'xx-large',\n",
    "          'figure.figsize': (10, 7),\n",
    "         'axes.labelsize': 'xx-large',\n",
    "         'axes.titlesize':'xx-large',\n",
    "         'xtick.labelsize':'xx-large',\n",
    "         'ytick.labelsize':'xx-large'}\n",
    "plt.rcParams.update(params)"
   ]
  },
  {
   "cell_type": "markdown",
   "metadata": {},
   "source": [
    "## Exercise 1: random number generation"
   ]
  },
  {
   "cell_type": "markdown",
   "metadata": {},
   "source": [
    "### Print out the values and uncerainties of:\n",
    "\n",
    "* the Fermi constant\n",
    "* muon mass\n",
    "* electron mass\n",
    "* define variables ```G_F```, ```m_e``` and ```m_mu``` containg only the values of relevant contants"
   ]
  },
  {
   "cell_type": "code",
   "execution_count": null,
   "metadata": {},
   "outputs": [],
   "source": [
    "G_F = scipy_constants.physical_constants[\"Fermi coupling constant\"]\n",
    "m_e = scipy_constants.physical_constants[\"electron mass energy equivalent in MeV\"]\n",
    "m_mu = scipy_constants.physical_constants[\"muon mass energy equivalent in MeV\"]\n",
    "\n",
    "print(\"Fermi constant: {} +- {} {}\".format(G_F[0], G_F[2], G_F[1]))\n",
    "print(\"muon mass: \\t{} +- {} {}\".format(m_mu[0], m_mu[2], m_mu[1]))\n",
    "print(\"electron mass: \\t{} +- {} {}\".format(m_e[0], m_e[2], m_e[1]))\n",
    "\n",
    "G_F = G_F[0]\n",
    "m_e = m_e[0]\n",
    "m_mu = m_mu[0]"
   ]
  },
  {
   "cell_type": "markdown",
   "metadata": {},
   "source": [
    "* write a function coding the differential decay width: ```dGamma_dE(E)```\n",
    "* calculate the value of the total decay width: ```Gamma_tot```"
   ]
  },
  {
   "cell_type": "code",
   "execution_count": null,
   "metadata": {},
   "outputs": [],
   "source": [
    "def dGamma_dE(e):\n",
    "    value = G_F**2/(4.0*math.pi**3)\n",
    "    value *= m_mu**2*e**2*(1 - 4.0/3.0*e/m_mu)\n",
    "    return value\n",
    "\n",
    "Gamma_tot = G_F**2*m_mu**5/(192.0*math.pi**3)"
   ]
  },
  {
   "cell_type": "markdown",
   "metadata": {},
   "source": [
    "\n",
    "* what is the maximum electron energy ```e_max``` in muon decay (neglecting the neutrinos mass)?"
   ]
  },
  {
   "cell_type": "code",
   "execution_count": null,
   "metadata": {},
   "outputs": [],
   "source": [
    "e_max = (m_mu**2 - m_e**2)/(2.0*m_mu)\n",
    "print(\"Maximum electron energy in muon decay (neglecting neutrinos mass): {} MeV\".format(e_max))"
   ]
  },
  {
   "cell_type": "markdown",
   "metadata": {},
   "source": [
    "### Plot the probability for the electron energy\n",
    "\n",
    "* check that the normalisation is correct - calculate numerically\n",
    "\\begin{equation}\n",
    "\\int p(E) dE\n",
    "\\end{equation}\n"
   ]
  },
  {
   "cell_type": "code",
   "execution_count": null,
   "metadata": {},
   "outputs": [],
   "source": [
    "nPoints = 100\n",
    "e = np.linspace(0.0, e_max, nPoints)\n",
    "p = dGamma_dE(e)/Gamma_tot\n",
    "\n",
    "print(\"Integral of p(E) is:\",np.sum(p)*e_max/nPoints)\n",
    "\n",
    "fig, ax = plt.subplots(figsize=(6, 6))\n",
    "\n",
    "ax.plot(e,p, label=\"p(E)\");\n",
    "ax.set_xlabel(\"E [MeV]\")\n",
    "ax.set_ylabel(r\"$\\frac{1}{\\Gamma} \\frac{d\\Gamma}{dE}$\")\n",
    "ax.legend();"
   ]
  },
  {
   "cell_type": "markdown",
   "metadata": {},
   "source": [
    "### Generate \"events\" with energy distribution according to $\\mu \\rightarrow e \\nu$ decay\n",
    "\n",
    "* use \"hit and miss method\":\n",
    "    1) generate energy ```e``` from flat spectrum [0, $E_{max}$]\n",
    "    2) generate random number ```x``` from flat spectrum [0,1]\n",
    "    3) accept event if ```x<p(e)```\n",
    "    4) what is efficiency (=what fraction of events is kept) of this method?\n",
    "    5) How long it takes to generate 100k usefull events?\n",
    " \n",
    "--- \n",
    "**Hint:**  try to use numpy array operations instead of loops. This will be much faster.  "
   ]
  },
  {
   "cell_type": "code",
   "execution_count": null,
   "metadata": {},
   "outputs": [],
   "source": [
    "%%time\n",
    "\n",
    "nEvents = 2000000\n",
    "events = e_max*np.random.random_sample(nEvents)\n",
    "x = np.random.random_sample(nEvents)\n",
    "p = dGamma_dE(events)\n",
    "p = p/np.max(p)\n",
    "accept = x<p\n",
    "\n",
    "events = events[accept]\n",
    "print(\"Number of accepted events:\\t\",events.shape[0])\n",
    "print(\"Accepted events fraction:\\t\",events.shape[0]/nEvents)"
   ]
  },
  {
   "cell_type": "markdown",
   "metadata": {},
   "source": [
    "### Draw a histogram of the energy with p(E) overlaid"
   ]
  },
  {
   "cell_type": "code",
   "execution_count": null,
   "metadata": {},
   "outputs": [],
   "source": [
    "nPoints = 100\n",
    "e = np.linspace(0.0, e_max, nPoints)\n",
    "p = dGamma_dE(e)/Gamma_tot\n",
    "\n",
    "print(\"Integral of p(E) is:\",np.sum(p)*e_max/nPoints)\n",
    "\n",
    "fig, ax = plt.subplots(figsize=(6, 6))\n",
    "\n",
    "ax.plot(e,p, label=\"p(E)\");\n",
    "ax.hist(events,bins=20, density=True, label = \"MC events\")\n",
    "ax.set_xlabel(\"E [MeV]\")\n",
    "ax.set_ylabel(r\"$\\frac{1}{\\Gamma} \\frac{d\\Gamma}{dE}$\")\n",
    "ax.legend();"
   ]
  },
  {
   "cell_type": "markdown",
   "metadata": {},
   "source": [
    "### Define function ```efficiency(pt, eta)``` representing some detector efficiency. \n",
    "\n",
    "The efficiency plateau $\\epsilon_0$, and turn on $p_{T0}$ point should depend on $\\eta$:\n",
    "\n",
    "\\begin{equation}\n",
    "\\epsilon_{0} = 0.95 - |\\eta| \\cdot 0.1 \\\\\n",
    " p_{T0} = 50 + 20 \\cdot sin(\\eta)\n",
    "\\end{equation}\n",
    "\n",
    "Use the sigmoid function for the efficiency shape. The pT should be in range [0,100], an $\\eta$ in [-2.5, 2.5]."
   ]
  },
  {
   "cell_type": "code",
   "execution_count": null,
   "metadata": {},
   "outputs": [],
   "source": [
    "def efficiency(pt, eta):\n",
    "    pt0 = 50+20*np.sin(eta)\n",
    "    x = pt-pt0\n",
    "    epsilon0 = 0.95 - np.abs(eta)*0.1\n",
    "    return epsilon0/(1 + np.exp(-x))"
   ]
  },
  {
   "cell_type": "markdown",
   "metadata": {},
   "source": [
    "### Make 1D and 2D plots:\n",
    "\n",
    "* 1D plot for $\\epsilon(p_{T}, \\eta={-2, 0, 1})$\n",
    "* 2D plot for the full map $\\epsilon(p_{T}, \\eta)$"
   ]
  },
  {
   "cell_type": "code",
   "execution_count": null,
   "metadata": {},
   "outputs": [],
   "source": [
    "pt = np.arange(0,100,2.0)\n",
    "eta = np.arange(-2.5, 2.5, 0.1)\n",
    "pt_grid, eta_grid = np.meshgrid(pt, eta)\n",
    "\n",
    "fig, axes = plt.subplots(1, 2, figsize = (10, 6))  \n",
    "axes[0].plot(pt, efficiency(pt, -2.0), \"r\", label = r'$\\eta = -2.0$')\n",
    "axes[0].plot(pt, efficiency(pt, 0.0), \"g\",label = r'$\\eta = 0.0$')\n",
    "axes[0].plot(pt, efficiency(pt, 1.0), \"b\",label = r'$\\eta = 1.0$')\n",
    "\n",
    "maxY = 1.1\n",
    "maxX = 100\n",
    "axes[0].set_ylabel(r'$\\epsilon$');\n",
    "axes[0].set_xlabel(r'$p_{T}$');\n",
    "axes[0].grid()\n",
    "axes[0].set_ylim([0,maxY])\n",
    "axes[0].set_xlim([0,maxX])\n",
    "axes[0].set_title(\"efficiency vs pT\")\n",
    "axes[0].legend(loc='upper left')\n",
    "\n",
    "axes[1].contourf(pt_grid, eta_grid, efficiency(pt_grid, eta_grid))\n",
    "axes[1].set_ylabel(r'$\\eta$');\n",
    "axes[1].set_xlabel(r'$p_{T}$');\n",
    "\n",
    "plt.subplots_adjust(bottom=0.15, left=0.05, right=0.95, wspace=0.25, hspace=0.35)"
   ]
  },
  {
   "cell_type": "markdown",
   "metadata": {},
   "source": [
    "### Write a function ```generateData(nPoints, efficiency)``` that generates a sample of ```nPoints``` events, with information wheter an event was accepted, according to function ```effciency(pT, eta)``` that parametrises $\\epsilon$ \n",
    "\n",
    "* assume flat $p_{T}$ and $\\eta$ spectrum. The pT should be in range [0,100], an $\\eta$ in [-2.5, 2.5].\n",
    "* to each $(p_{T}, \\eta)$ pair assing a third variable: ```label``` randomly set to 0 or 1 according to the  ```efficiency(pt, eta)```\n",
    "* select evvents that \"passed the selection\" : ```label>0```\n",
    "* draw a efficiency histogram calculated from the sample, overlaid with efficiency curve for $|\\eta|<0.1$"
   ]
  },
  {
   "cell_type": "code",
   "execution_count": null,
   "metadata": {},
   "outputs": [],
   "source": [
    "def generateData(nPoints, efficiency):\n",
    "    scale = [100, 2*2.1]\n",
    "    offset = [0, -2.1]\n",
    "\n",
    "    features = np.random.random_sample(size=(nPoints,2))\n",
    "    features = features*scale + offset\n",
    "        \n",
    "    flatRndm = np.random.random_sample(size=(nPoints,))\n",
    "    labels = flatRndm<efficiency(features[:,0], features[:,1])\n",
    "    labels = np.reshape(labels, (-1,1))\n",
    "    return np.concatenate((features,labels), axis=1)"
   ]
  },
  {
   "cell_type": "markdown",
   "metadata": {},
   "source": [
    "* generate 100k events\n",
    "* select data rows with $|\\eta|<0.1$\n",
    "* further select accepted events with ```pass>0```\n",
    "* calculate efficiency a ratio of accepted to total events in bint of $p_{T}$. Use 10 bins. \n",
    "\n",
    "**Hints:** \n",
    "* for counting numbeszs of events in bins use ```np.hist```\n",
    "* for getting the bin centers use ```np.diff```"
   ]
  },
  {
   "cell_type": "code",
   "execution_count": null,
   "metadata": {},
   "outputs": [],
   "source": [
    "%%time\n",
    "nPoints = 1000000\n",
    "data = generateData(nPoints, efficiency)\n",
    "data_eta01 = data[np.abs(data[:,1])<0.1]\n",
    "data_pass = data_eta01[data_eta01[:,2]>0]\n",
    "\n",
    "pass_histo, bins = np.histogram(data_pass[:,0], bins=np.arange(0,100,10))\n",
    "all_histo, bins =  np.histogram(data_eta01[:,0], bins=np.arange(0,100,10))\n",
    "ratio = pass_histo/all_histo.astype(float)\n",
    "binCenters = bins[:-1] + np.diff(bins)"
   ]
  },
  {
   "cell_type": "markdown",
   "metadata": {},
   "source": [
    "* plot efficiency from function for $\\eta=0$\n",
    "* overlay efficiency from event counting from data\n",
    "* do the two agree? If not exactly, then why?"
   ]
  },
  {
   "cell_type": "code",
   "execution_count": null,
   "metadata": {},
   "outputs": [],
   "source": [
    "pt = np.arange(0,100,2.0)\n",
    "eta = np.arange(-2.5, 2.5, 0.1)\n",
    "pt_grid, eta_grid = np.meshgrid(pt, eta)\n",
    "\n",
    "fig, ax = plt.subplots(figsize = (6, 6))  \n",
    "ax.plot(pt, efficiency(pt, 0.0), \"g\",label = r' param. for $\\eta = 0.0$')\n",
    "ax.bar(binCenters, ratio, width=10,label = r' data for |$\\eta|<0.0$')\n",
    "\n",
    "maxY = 1.1\n",
    "maxX = 100\n",
    "ax.set_ylabel(r'$\\epsilon$');\n",
    "ax.set_xlabel(r'$p_{T}$');\n",
    "ax.grid()\n",
    "ax.set_ylim([0,maxY])\n",
    "ax.set_xlim([0,maxX])\n",
    "ax.set_title(\"efficiency vs pT\")\n",
    "ax.legend(loc='upper left');"
   ]
  }
 ],
 "metadata": {
  "colab": {
   "collapsed_sections": [],
   "name": "01a_Powtórka_numpy.ipynb",
   "provenance": [
    {
     "file_id": "0BzwQ_Lscn8yDWnZVeHU1MjluWFU",
     "timestamp": 1546856440599
    }
   ]
  },
  "kernelspec": {
   "display_name": "Python 3",
   "language": "python",
   "name": "python3"
  },
  "language_info": {
   "codemirror_mode": {
    "name": "ipython",
    "version": 3
   },
   "file_extension": ".py",
   "mimetype": "text/x-python",
   "name": "python",
   "nbconvert_exporter": "python",
   "pygments_lexer": "ipython3",
   "version": "3.6.9"
  }
 },
 "nbformat": 4,
 "nbformat_minor": 4
}
