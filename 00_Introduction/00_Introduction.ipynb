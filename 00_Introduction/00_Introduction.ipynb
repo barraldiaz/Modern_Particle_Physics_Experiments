{
 "cells": [
  {
   "cell_type": "markdown",
   "metadata": {
    "colab_type": "text",
    "id": "MonTGYfCIDu_",
    "tags": []
   },
   "source": [
    "# Python and computing tools introduction\n",
    "Auhtor: Artur Kalinowski"
   ]
  },
  {
   "cell_type": "markdown",
   "metadata": {
    "tags": []
   },
   "source": [
    "# Containers\n",
    "\n",
    "During the class we will use multiple packages and programs specific for high energy physics (HEP). To avoid the burden of installing and configuring them on every machine, we will use virtual environments known as containers. Containers are lightweight versions of old time virtual machines. Two popular environments used to run the containers are:\n",
    "\n",
    "* [Aptainer](https://apptainer.org/) (previously singularity)\n",
    "* [Docker](https://www.docker.com/)\n",
    "\n",
    "Both Docker and Aptainer can use the same input files. Docker is available for any operating system, Aptainer only for Linux ones. We will use a \n",
    "[akalinow/root-fedora35](https://hub.docker.com/repository/docker/akalinow/root-fedora35/general) container prepared for the classes. This is a container based on Fedora Linux ditribution, and conains all packages we will use during the classes.\n",
    "\n",
    "Detailed instructions on installing and starting Docker are given [here](https://github.com/akalinow/Modern_Particle_Physics_Experiments/blob/2022_2023/Docker/README.md)"
   ]
  },
  {
   "cell_type": "markdown",
   "metadata": {},
   "source": [
    "# Visual Studio Code\n",
    "\n",
    "Visual studio code has a number of usefull extentions allowing to connect to running containers. `We encourage` you to try it at home."
   ]
  },
  {
   "cell_type": "markdown",
   "metadata": {},
   "source": [
    "# Python introduction"
   ]
  },
  {
   "cell_type": "code",
   "execution_count": null,
   "metadata": {},
   "outputs": [],
   "source": [
    "#Single line comment starts with a single hash sign: #\n",
    "\n",
    "'''\n",
    "Multi line comment starts and ends with triple quatation mark.\n",
    "'''\n",
    "\n",
    "# A library is loaded with import\n",
    "import math\n",
    "\n",
    "# A library can be loaded, and given an alias \n",
    "import math as m\n",
    "\n",
    "# A single module or function witin library is loaded with\n",
    "from math import atan"
   ]
  },
  {
   "cell_type": "code",
   "execution_count": null,
   "metadata": {},
   "outputs": [],
   "source": [
    "# Printout to screen is made with `print(...)` function\n",
    "print(\"Helo world.\")\n",
    "\n",
    "#Nice formatting can be made with `format(...)` function of a string class:\n",
    "print(\"Pi is roughly {}, more precisely {:.4f}\".format(3.14, 4.0*atan(1.0)))\n",
    "\n",
    "#An eycandy colored text can be printer using package colored\n",
    "from termcolor import colored\n",
    "\n",
    "print(\"Quarks have thre colors: \",colored(\"R\",\"red\"),colored(\"G\",\"green\"),colored(\"B\",\"blue\") )\n",
    "\n",
    "# Library, but also class members can be listed with dir(...) function:\n",
    "print(dir(math))"
   ]
  },
  {
   "cell_type": "code",
   "execution_count": null,
   "metadata": {},
   "outputs": [],
   "source": [
    "#Variables are defined with name and value. Typing is not required\n",
    "text = \"A string variable.\"\n",
    "\n",
    "print(text)\n",
    "print(\"The \\\"text\\\" variable has type\",type(text))\n",
    "\n",
    "#Object variables and methods can be listed with dir(...) function:\n",
    "print(dir(text))"
   ]
  },
  {
   "cell_type": "code",
   "execution_count": null,
   "metadata": {},
   "outputs": [],
   "source": [
    "#Conditional statement is created using if, elif and else statements:\n",
    "x = 11\n",
    "\n",
    "if x%2==0:\n",
    "    print(\"x variable is even\")\n",
    "elif x%2==1:\n",
    "    print(\"x variable is odd\")\n",
    "else:\n",
    "    print(colored(\"This branch should never activate\",\"red\"))\n",
    "    \n",
    "#Iteration is made with for statement:\n",
    "for x in range(0,10):\n",
    "    print(x, end=\" \")  "
   ]
  },
  {
   "cell_type": "code",
   "execution_count": null,
   "metadata": {},
   "outputs": [],
   "source": [
    "#Some basic composite types:\n",
    "\n",
    "# List\n",
    "x = [1,2,3,4,5]\n",
    "\n",
    "index = 0\n",
    "print(\"Value of list item with index {} is {}\".format(index,x[index]))\n",
    "\n",
    "# Tuple - a constant list\n",
    "x = (10,20)\n",
    "print(\"Value of tuple item with index {} is {}\".format(index,x[index]))\n",
    "#x[0] = 12 # <--- this line gives error - you can not modify a tuple\n",
    "\n",
    "# Dictionary - an \"list\" indexed by key objects\n",
    "empty_dict = {}\n",
    "x = {\"one\": 1, \"two\": 2, \"three\": 3}\n",
    "print(\"The full dictionary:\",x)\n",
    "index = \"one\"\n",
    "print(\"Value of dictionary item with index \\\"{}\\\" is {}\".format(index,x[index]))"
   ]
  },
  {
   "cell_type": "code",
   "execution_count": null,
   "metadata": {},
   "outputs": [],
   "source": [
    "## Functions are defined with def statement.\n",
    "## functions can return many values - in that case a function returns tuple\n",
    "\n",
    "def myFunc(x):\n",
    "    return x, x**2\n",
    "\n",
    "x = myFunc(2)\n",
    "\n",
    "print(\"Type of x is \",type(x))\n",
    "print(\"Content of x is: \",x)\n",
    "\n",
    "#Multiple values returned by function cen be directly assigned to variables\n",
    "a,b = myFunc(2)\n",
    "print(\"a = {}, b = {}\".format(a,b))\n",
    "\n",
    "#It is also possible to catch only selected variables\n",
    "_,c = myFunc(2)\n",
    "d,_ = myFunc(2)\n",
    "print(\"c = {}, d = {}\".format(c,d))"
   ]
  },
  {
   "cell_type": "markdown",
   "metadata": {},
   "source": [
    "# Introduction to packages used during the Workshop\n",
    "\n",
    "During this workshop we will use only a core set of packages used for computation and plotting:\n",
    "\n",
    "* [numpy](https://numpy.org/) - The fundamental package for scientific computing with Python\n",
    "* [matplotlib](https://matplotlib.org/) - Visualization with Python\n",
    "* [ROOT](https://root.cern/doc/master/group__tutorial__pyroot.html) - Data analysis framework used in the hight energy physics community"
   ]
  },
  {
   "cell_type": "code",
   "execution_count": 2,
   "metadata": {},
   "outputs": [
    {
     "name": "stdout",
     "output_type": "stream",
     "text": [
      "Welcome to JupyROOT 6.24/04\n"
     ]
    }
   ],
   "source": [
    "import numpy as np\n",
    "import matplotlib.pyplot as plt\n",
    "import ROOT"
   ]
  },
  {
   "cell_type": "markdown",
   "metadata": {
    "tags": []
   },
   "source": [
    "## Numpy"
   ]
  },
  {
   "cell_type": "code",
   "execution_count": null,
   "metadata": {},
   "outputs": [],
   "source": [
    "#Numpy is a powerful library for mathematical operations. In particular is provides advanced matrix operations.\n",
    "\n",
    "x = np.array([(1,2,1),(5,5,4), (0,1,2)])\n",
    "print(colored(\"x :\\n\",\"blue\"),x,\"\\n\")\n",
    "print(colored(\"The shape of x is:\",\"blue\"),x.shape,\"\\n\")\n",
    "\n",
    "y = np.identity(x.shape[0])\n",
    "\n",
    "#Most of the matrix operations are element-wise\n",
    "print(colored(\"Result of x+y:\\n\",\"blue\"),x+y,\"\\n\")\n",
    "\n",
    "#Ordinary mathematical matrix operations have to selected with proper method:\n",
    "print(colored(\"Result of x dot y:\\n\",\"blue\"), x.dot(y),\"\\n\")\n",
    "\n",
    "#Matrices are extended (broadcasted) when dimensions do not allow for element wise operations.\n",
    "#the broadcasting is performed if is it possible for given input matrices shape:\n",
    "y = np.array([[1,2,3]])\n",
    "print(colored(\"y maxtrix is:\\n\",\"blue\"), y, \"\\n\")\n",
    "print(colored(\"Result of x*y:\\n\",\"blue\"),x*y,\"\\n\")\n",
    "\n",
    "#The broadcasting is performed if is it possible for given input matrices shape.\n",
    "#Select first two columns of the y matrix:\n",
    "y = y[:,0:2]\n",
    "print(colored(\"y maxtrix is:\\n\",\"blue\"),y,\"\\n\")\n",
    "#print(\"Result of x*y:\\n {}\\n\".format(x*y)) #<-- this line gives error, shape do not match for broadcasting\n",
    "\n",
    "#Create a 4x4 matrix filled with 1.0\n",
    "x = np.full((4,4), 1.0)\n",
    "print(colored(\"x matrix is:\\n\",\"blue\"),x,\"\\n\")\n",
    "\n",
    "#Sum all elements\n",
    "print(colored(\"Total sum of elements is:\",\"blue\"),np.sum(x))\n",
    "\n",
    "#Sum all columns\n",
    "print(colored(\"Total sum of columns for each row is:\",\"blue\"),np.sum(x, axis=1))"
   ]
  },
  {
   "cell_type": "markdown",
   "metadata": {
    "tags": []
   },
   "source": [
    "## Matplotlib\n",
    "\n",
    "Basic plots are made with matplotlib library. More advanced plots can be made with [seaborn](https://seaborn.pydata.org/) library"
   ]
  },
  {
   "cell_type": "code",
   "execution_count": null,
   "metadata": {},
   "outputs": [],
   "source": [
    "#Create z 2x2 plot set. Control plot size with figsize parameter\n",
    "axes = plt.figure(figsize=(10,10)).subplots(2, 2);\n",
    "\n",
    "#Create a list of points on the X axis\n",
    "x = np.arange(0,2.0*np.pi,0.01)\n",
    "\n",
    "#Calculate the desired functions for all the points in one line\n",
    "y1 = np.sin(x)\n",
    "y2 = np.cos(x)\n",
    "\n",
    "#Plot many lines on a single figure (called \"axis\" in matplotlib)\n",
    "axes[0,0].plot(x, y1, label=\"sin(x)\")\n",
    "axes[0,0].plot(x, y2, label=\"cos(x)\")\n",
    "axes[0,0].legend()\n",
    "axes[0,0].set_xlabel('x')\n",
    "axes[0,0].set_ylabel('y')\n",
    "\n",
    "#Plot on a different axis. X values are not provided - put index of a value on the X axis\n",
    "#Use Latex in labels, change a line style\n",
    "axes[0,1].plot(2*y1, label=r\"$2\\cdot sin(x)$\", linewidth=3, linestyle=\"--\",color=\"brown\")\n",
    "axes[0,1].set_xlabel('x')\n",
    "axes[0,1].set_ylabel('y')\n",
    "axes[0,1].legend()\n",
    "\n",
    "#Draw set of random points: 2 columns of 100 rows from a uniform distribution\n",
    "data = np.random.rand(2,100)\n",
    "print(colored(\"Random data matrix shape is:\",\"blue\"),data.shape)\n",
    "\n",
    "#Use each columns as a point coordinate\n",
    "axes[1,0].scatter(data[0,:], data[1,:], label=\"random points\")\n",
    "axes[1,0].set_xlabel('x')\n",
    "axes[1,0].set_ylabel('y')\n",
    "\n",
    "#Draw a set of random numberd from normal distribution\n",
    "data = np.random.randn(10000)\n",
    "\n",
    "#Plot a histogram of data values\n",
    "axes[1,1].hist(data, bins=20);\n",
    "axes[1,1].set_xlabel('Number of points')\n",
    "axes[1,1].set_ylabel('Value');"
   ]
  },
  {
   "cell_type": "markdown",
   "metadata": {},
   "source": [
    "## ROOT\n",
    "\n",
    "Data analysis can be mede with ROOT. This includes:\n",
    "\n",
    "* plotting\n",
    "* histogram operations (much more convenient than in other packeges)\n",
    "* function fit to data\n",
    "* much more..."
   ]
  },
  {
   "cell_type": "code",
   "execution_count": 38,
   "metadata": {},
   "outputs": [
    {
     "name": "stdout",
     "output_type": "stream",
     "text": [
      "Function integral =  0.9999702503316914\n",
      "Formula based function:     breit_wigner \n",
      "         breit_wigner : [1]/TMath::Pi()/2/(TMath::Power(x - [0],2) + TMath::Power([1]/2,2)) Ndim= 1, Npar= 2, Number= 0 \n",
      " Formula expression: \n",
      "\t[Gamma]/TMath::Pi()/2/(TMath::Power(x-[m],2)+TMath::Power([Gamma]/2,2)) \n"
     ]
    },
    {
     "name": "stderr",
     "output_type": "stream",
     "text": [
      "Warning in <TCanvas::Constructor>: Deleting canvas with same name: aCanvas\n",
      "Warning in <TROOT::Append>: Replacing existing TH1: hData (Potential memory leak).\n"
     ]
    },
    {
     "data": {
      "image/png": "[encoded data removed]",
      "text/plain": [
       "<IPython.core.display.Image object>"
      ]
     },
     "metadata": {},
     "output_type": "display_data"
    }
   ],
   "source": [
    "#Create a Canvas where the plot will be made\n",
    "aCanvas = ROOT.TCanvas( 'aCanvas', 'Example plots', 600, 400)\n",
    "aCanvas.Divide(2,1)\n",
    "aCanvas.Draw()\n",
    "\n",
    "#Create a function from given formula\n",
    "breit_wigner = ROOT.TF1( 'breit_wigner', '[1]/TMath::Pi()/2/(TMath::Power(x - [0],2) + TMath::Power([1]/2,2))', 2, 4)\n",
    "#Set names of the parameters\n",
    "breit_wigner.SetParName(0, \"m\")\n",
    "breit_wigner.SetParName(1, \"Gamma\")\n",
    "\n",
    "#Set the values of parameters\n",
    "breit_wigner.SetParameter(\"m\", 3.096)\n",
    "breit_wigner.SetParameter(\"Gamma\", 0.0000926)\n",
    "\n",
    "#Calculate the integral\n",
    "integral = breit_wigner.Integral(2,4)\n",
    "print(\"Function integral = \",integral)\n",
    "\n",
    "#Print the function definition\n",
    "breit_wigner.Print()\n",
    "\n",
    "#Draw the function\n",
    "aCanvas.cd(1)\n",
    "breit_wigner.Draw()\n",
    "\n",
    "\n",
    "#Create a histogram\n",
    "hData = ROOT.TH1F(\"hData\",\"Mass distribution;m [GeV/c^{2}];#events\",100,2,4)\n",
    "\n",
    "#Fill with random numbner samples from distribution given by user function\n",
    "nEvents = 10000\n",
    "hData.FillRandom('breit_wigner', nEvents)\n",
    "\n",
    "aCanvas.cd(2)\n",
    "hData.Draw()"
   ]
  },
  {
   "cell_type": "markdown",
   "metadata": {},
   "source": [
    "## Homework\n",
    "\n",
    "1)  generate random numbers following normal distributions using numbers from an uniform distribution\n",
    "2) Make control plots. \n",
    "\n",
    "**Generation:** \n",
    "\n",
    "Each of following steps should be implemented in **a single line of code**, three lines in total for all the steps.    \n",
    "* generate nPoints$\\times$nSamples (```nPoints``` rows, ```nSamples``` columns) matrix of random numbers from uniform distribution in range [0,1].\n",
    "  Use values: \n",
    "  \n",
    "  ```Python\n",
    "  \n",
    "    nPoints = 100000\n",
    "    nSamples = 120\n",
    "    \n",
    "  ```\n",
    "* for each row sum all the columns\n",
    "* subtract 0.5$\\times$nSamples and divide by $\\sqrt{nSamples/12}$\n",
    "\n",
    "**Control plots:**\n",
    "\n",
    "* plot histogram of the result on log and linear scales. Use ```bins=np.arange(-3,3,0.1)``` for the definition of bins\n",
    "* overlay a line for normal distribution with proper scaling\n",
    "* plot a ratio ```Histogram/Gauss```. Put attention to correct alignement between histogram and Gauss evaluation points"
   ]
  },
  {
   "cell_type": "code",
   "execution_count": 39,
   "metadata": {},
   "outputs": [
    {
     "name": "stdout",
     "output_type": "stream",
     "text": [
      "CPU times: user 2 µs, sys: 0 ns, total: 2 µs\n",
      "Wall time: 2.86 µs\n"
     ]
    },
    {
     "data": {
      "image/png": "[encoded data removed]",
      "text/plain": [
       "<Figure size 1080x504 with 3 Axes>"
      ]
     },
     "metadata": {
      "needs_background": "light"
     },
     "output_type": "display_data"
    }
   ],
   "source": [
    "%time\n",
    "nPoints = 100000\n",
    "nSamples = 120\n",
    "#BEGIN_SOLUTION\n",
    "data = np.random.rand(nPoints,nSamples)\n",
    "data = np.sum(data, axis=1)\n",
    "data = (data-0.5*nSamples)/np.sqrt(nSamples*1.0/12)\n",
    "\n",
    "axes = plt.figure(figsize=(15,7)).subplots(1,3)\n",
    "counts, bins, _ = axes[0].hist(data,bins=np.arange(-3,3,0.1))\n",
    "axes[1].hist(data,bins=np.arange(-3,3,0.1))\n",
    "axes[1].set_yscale('log')\n",
    "\n",
    "x = np.arange(-3.0+0.05,3.0-0.05,0.1)\n",
    "y = nPoints/np.sqrt(2*np.pi)*np.exp(-x**2/2)*0.1\n",
    "axes[0].plot(x,y, lw=3)\n",
    "axes[1].plot(x,y, lw=3)\n",
    "\n",
    "ratio = counts/y\n",
    "axes[2].plot(x, ratio, lw=3, color=\"orange\")\n",
    "axes[2].set_ylabel('Histogram/Gauss')\n",
    "#END_SOLUTION\n",
    "pass"
   ]
  },
  {
   "cell_type": "code",
   "execution_count": null,
   "metadata": {},
   "outputs": [],
   "source": []
  }
 ],
 "metadata": {
  "colab": {
   "collapsed_sections": [],
   "name": "01a_Powtórka_numpy.ipynb",
   "provenance": [
    {
     "file_id": "0BzwQ_Lscn8yDWnZVeHU1MjluWFU",
     "timestamp": 1546856440599
    }
   ]
  },
  "kernelspec": {
   "display_name": "Python 3",
   "language": "python",
   "name": "python3"
  },
  "language_info": {
   "codemirror_mode": {
    "name": "ipython",
    "version": 3
   },
   "file_extension": ".py",
   "mimetype": "text/x-python",
   "name": "python",
   "nbconvert_exporter": "python",
   "pygments_lexer": "ipython3",
   "version": "3.9.7"
  },
  "toc-autonumbering": false,
  "toc-showcode": false,
  "toc-showmarkdowntxt": false,
  "toc-showtags": false
 },
 "nbformat": 4,
 "nbformat_minor": 4
}
