{
 "cells": [
  {
   "cell_type": "markdown",
   "metadata": {},
   "source": [
    "# Simple Cosmic Rays Experiment (Part I)"
   ]
  },
  {
   "cell_type": "markdown",
   "metadata": {},
   "source": [
    "<font size=\"3\">In this notebook the Waiting Time Distribution is plotted for the internal triggers (BC) and the external triggers (AD) for a Cosmic Ray Experiment with a dead time $T_{dead}=220$ ms. At the end, we fit the distribution to a exponential function in order to obtain an estimation for the $\\tau$ and $N$ parameters. </font>"
   ]
  },
  {
   "cell_type": "markdown",
   "metadata": {},
   "source": [
    "## Setting the environment"
   ]
  },
  {
   "cell_type": "code",
   "execution_count": 6,
   "metadata": {},
   "outputs": [],
   "source": [
    "#Color printing\n",
    "from termcolor import colored\n",
    "\n",
    "from ROOT import *\n",
    "import numpy as np\n",
    "import pandas as pd\n",
    "import math\n",
    "\n",
    "\n",
    "\n",
    "#Opening the data file\n",
    "f = open('P1_DST_int_trg_BC.p1t', 'r')\n",
    "#f = open('P1_DST_int_trg_AD.p1t', 'r') #Uncomment this line if you want to use data for external triggers AD\n",
    "\n",
    "#Variables\n",
    "\n",
    "DST_TIME =[]\n",
    "\n",
    "N_bins_Dt = 100;\n",
    "X_MIN_Dt =    0.0;\n",
    "X_MAX_Dt = 1000.0; # [ms]"
   ]
  },
  {
   "cell_type": "markdown",
   "metadata": {},
   "source": [
    "## Reading data \n",
    "\n",
    "Pandas DataFrame object has many usefull methods to read the data from various sources"
   ]
  },
  {
   "cell_type": "code",
   "execution_count": 18,
   "metadata": {},
   "outputs": [
    {
     "name": "stdout",
     "output_type": "stream",
     "text": [
      "\u001b[34mData shape:\u001b[0m (17500,)\n"
     ]
    }
   ],
   "source": [
    "fileName = 'P1_DST_int_trg_BC.p1t'\n",
    "\n",
    "#read the whole file. Use only column with index==1\n",
    "dst_time = np.loadtxt(fname=fileName, usecols=2)\n",
    "print(colored(\"Data shape:\",\"blue\"),dst_time.shape)"
   ]
  },
  {
   "cell_type": "markdown",
   "metadata": {},
   "source": [
    "## Data preprocessing\n",
    "\n",
    "Calculate $\\Delta t = \\Delta t_{i+1} - \\Delta t_{i}$ or equivalently $\\Delta t = \\Delta t_{i} - \\Delta t_{i-1}$.</font>\n",
    "\n",
    "* create a \"rolled\" array\n",
    "* calculate difference between original and rolled arrays - this gives $\\Delta t = \\Delta t_{i+1} - \\Delta t_{i}$ \n",
    "* skip the last element of the difference, as this gives difference between last and first elements"
   ]
  },
  {
   "cell_type": "code",
   "execution_count": 31,
   "metadata": {},
   "outputs": [
    {
     "name": "stdout",
     "output_type": "stream",
     "text": [
      "Original data array:\n",
      " [   9592.    9886.   10121. ... 5664285. 5664552. 5664894.]\n",
      "Rolled data array:\n",
      " [   9886.   10121.   10607. ... 5664552. 5664894.    9592.]\n",
      "Difference: \n",
      " [294. 235. 486. ... 501. 267. 342.]\n"
     ]
    }
   ],
   "source": [
    "rolled = np.roll(dst_time, shift=-1)\n",
    "\n",
    "#calculate difference between rows\n",
    "dst_delta = rolled - dst_time\n",
    "\n",
    "#remove the last element\n",
    "dst_delta = dst_delta[:-1]\n",
    "\n",
    "print(\"Original data array:\\n\", dst_time)\n",
    "print(\"Rolled data array:\\n\", rolled)\n",
    "print(\"Difference: \\n\",dst_delta)"
   ]
  },
  {
   "cell_type": "markdown",
   "metadata": {},
   "source": [
    "## Fill the histogram for $\\Delta t$"
   ]
  },
  {
   "cell_type": "code",
   "execution_count": 32,
   "metadata": {},
   "outputs": [
    {
     "name": "stderr",
     "output_type": "stream",
     "text": [
      "Warning in <TROOT::Append>: Replacing existing TH1: h_DATA_Dt (Potential memory leak).\n"
     ]
    }
   ],
   "source": [
    "#Define the histogram\n",
    "his_Data_dt = TH1F(\"h_DATA_Dt\",'Data;#Delta t (ms); #events',N_bins_Dt,X_MIN_Dt,X_MAX_Dt)\n",
    "\n",
    "#Fill the histogram\n",
    "for aItem in dst_delta:\n",
    "    his_Data_dt.Fill(aItem)"
   ]
  },
  {
   "cell_type": "markdown",
   "metadata": {},
   "source": [
    "## Fitting the histogram"
   ]
  },
  {
   "cell_type": "markdown",
   "metadata": {},
   "source": [
    "<font size=\"3\"> Taking the Probability Density Function as <font size=\"4\"> $p(t) = \\frac{1}{\\tau} e^{-t/\\tau}$ </font> then we could calculate the number of events $N_{events}$ in $t > T_{dead}$ by integrating as below :</font>"
   ]
  },
  {
   "cell_type": "markdown",
   "metadata": {},
   "source": [
    " <font size=\"4\"> $N_{events} = \\int_{t > T_{dead}} N \\cdot p(t) \\cdot dt$ </font>"
   ]
  },
  {
   "cell_type": "markdown",
   "metadata": {},
   "source": [
    "<font size=\"3\"> but considering a discrete case we should use the next expression:</font>"
   ]
  },
  {
   "cell_type": "markdown",
   "metadata": {},
   "source": [
    " <font size=\"4\"> $N_{events}= \\sum_{n=0}^{N_{bins}} N \\cdot W \\cdot p(t_n)$ </font>"
   ]
  },
  {
   "cell_type": "markdown",
   "metadata": {},
   "source": [
    "<font size=\"3\"> where $N$ is taken as a proportional constant and $W$ is the width of the histogram bins. </font>"
   ]
  },
  {
   "cell_type": "markdown",
   "metadata": {},
   "source": [
    "<font size=\"3\"> Now, we could obtain an aproximation of  <font size=\"4\"> $f(t) = N \\cdot W \\cdot \\frac{1}{\\tau} e^{-t/\\tau}$ </font> by fitting this exponential function to our data distribution this will allow to obtaing values for the $N$ and $\\tau$ parameters. </font>"
   ]
  },
  {
   "cell_type": "code",
   "execution_count": 26,
   "metadata": {},
   "outputs": [
    {
     "name": "stdout",
     "output_type": "stream",
     "text": [
      " FCN=41.5355 FROM MIGRAD    STATUS=CONVERGED      95 CALLS          96 TOTAL\n",
      "                     EDM=4.29605e-09    STRATEGY= 1      ERROR MATRIX ACCURATE \n",
      "  EXT PARAMETER                                   STEP         FIRST   \n",
      "  NO.   NAME      VALUE            ERROR          SIZE      DERIVATIVE \n",
      "   1  N            1.45663e+05   2.61086e+03   4.76009e+00   4.50083e-08\n",
      "   2  tau          1.03847e+02   7.97878e-01   1.50713e-03   1.87284e-04\n",
      "                               ERR DEF= 0.5\n"
     ]
    },
    {
     "name": "stderr",
     "output_type": "stream",
     "text": [
      "Info in <TCanvas::MakeDefCanvas>:  created default TCanvas with name c1\n"
     ]
    }
   ],
   "source": [
    "### Fitting Delta t histogram\n",
    "\n",
    "#Our histogram have equidistant bins, bin number \"1\" below is \"any bin\"\n",
    "bin_w = his_Data_dt.GetXaxis().GetBinWidth(1)\n",
    "\n",
    "#Setting the exponential function for P(x)\n",
    "function_exp =str(bin_w)+\"*([0]/[1])*exp(-x/[1])\"       \n",
    "f_func_exp    =  TF1(\"Exp\", function_exp , 220.0, X_MAX_Dt)\n",
    "\n",
    "#Initializing the parameters\n",
    "tau   =   100.\n",
    "N_evt = 20000.\n",
    "\n",
    "f_func_exp.SetParName(0,\"N\")\n",
    "f_func_exp.SetParameter(0,N_evt)\n",
    "\n",
    "f_func_exp.SetParName(1,\"tau\")\n",
    "f_func_exp.SetParameter(1,tau)\n",
    "\n",
    "#Fitting histogram with a exponential function\n",
    "his_Data_dt.Fit(\"Exp\",\"OL\",\"\",220.0,X_MAX_Dt)\n",
    "\n",
    "#Obtaining parameters from the fitting\n",
    "N_err = f_func_exp.GetParError(0)\n",
    "tau_err = f_func_exp.GetParError(1)\n",
    "\n",
    "N     = f_func_exp.GetParameter(0)\n",
    "tau   = f_func_exp.GetParameter(1)"
   ]
  },
  {
   "cell_type": "markdown",
   "metadata": {},
   "source": [
    "## Plotting "
   ]
  },
  {
   "cell_type": "markdown",
   "metadata": {},
   "source": [
    "<font size=\"3\"> We plot the exponential function $f(t)$ with our data from $T_{dead}= 220$ ms to $T=1000$ ms. </font>"
   ]
  },
  {
   "cell_type": "code",
   "execution_count": 29,
   "metadata": {},
   "outputs": [
    {
     "name": "stdout",
     "output_type": "stream",
     "text": [
      "Value of    N: 145663.365497\n",
      "Value of    tau: 103.846747\n",
      "Minimun value of fitting is:  220\n",
      "Minimun value of fitting is:  1000.0\n",
      "Value of    NFD: 76.000000\n",
      "Value of    Chi2: 84.329367\n"
     ]
    },
    {
     "name": "stderr",
     "output_type": "stream",
     "text": [
      "Warning in <TCanvas::Constructor>: Deleting canvas with same name: myCanvasName2\n",
      "Info in <TCanvas::Print>: png file P1_VER_BC_FIT_DATA_Dt_lin.png has been created\n"
     ]
    },
    {
     "data": {
      "image/png": "[encoded data removed]",
      "text/plain": [
       "<IPython.core.display.Image object>"
      ]
     },
     "metadata": {},
     "output_type": "display_data"
    }
   ],
   "source": [
    "#Plotting histogram along the exponential function\n",
    "c2 = TCanvas(\"myCanvasName2\",\"The Canvas Title\",500,400)\n",
    "\n",
    "f_func_exp.SetLineColor(kRed)\n",
    "f_func_exp.SetLineWidth(1)\n",
    "f_func_exp.SetLineStyle(1)\n",
    "f_func_exp.Draw(\"same\")\n",
    "\n",
    "# Draw Fit and Histogram\n",
    "his_Data_dt.Draw(\"ex0\")\n",
    "c2.Draw()\n",
    "c2.SaveAs('P1_VER_BC_FIT_DATA_Dt_lin.png')\n",
    "#c2.SaveAs('P1_VER_AD_FIT_DATA_Dt_lin.png')\n",
    "\n",
    "print ('Value of    N: {0:2f}'.format(N))\n",
    "print ('Value of    tau: {0:2f}'.format(tau))\n",
    "print(\"Minimun value of fitting is: \", 220)\n",
    "print(\"Minimun value of fitting is: \", X_MAX_Dt) \n",
    "print ('Value of    NFD: {0:2f}'.format(f_func_exp.GetNDF()))\n",
    "print ('Value of    Chi2: {0:2f}'.format(f_func_exp.GetChisquare()))"
   ]
  },
  {
   "cell_type": "code",
   "execution_count": null,
   "metadata": {},
   "outputs": [],
   "source": []
  }
 ],
 "metadata": {
  "kernelspec": {
   "display_name": "Python 3",
   "language": "python",
   "name": "python3"
  },
  "language_info": {
   "codemirror_mode": {
    "name": "ipython",
    "version": 3
   },
   "file_extension": ".py",
   "mimetype": "text/x-python",
   "name": "python",
   "nbconvert_exporter": "python",
   "pygments_lexer": "ipython3",
   "version": "3.9.7"
  }
 },
 "nbformat": 4,
 "nbformat_minor": 4
}
