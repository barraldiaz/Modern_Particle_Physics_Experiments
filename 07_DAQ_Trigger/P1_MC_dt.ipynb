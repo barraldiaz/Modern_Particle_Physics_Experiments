{
 "cells": [
  {
   "cell_type": "markdown",
   "metadata": {},
   "source": [
    "# Simple Cosmic Rays Experiment (Part II)"
   ]
  },
  {
   "cell_type": "markdown",
   "metadata": {},
   "source": [
    "<font size=\"3\">The target of this notebook is generate events for the $\\Delta t$ distribution by using a Monte Carlo method as well as obtaining values for $N$ and $\\tau$ parameters by fitting an exponential function to data distribution. We take two cases to simulate, one is when the MC events are bigger than $T_{dead} = 220$ ms and the other case is by taking events from 0 ms, i.e, full events.</font>"
   ]
  },
  {
   "cell_type": "markdown",
   "metadata": {},
   "source": [
    "## Setting the environment"
   ]
  },
  {
   "cell_type": "code",
   "execution_count": 6,
   "metadata": {},
   "outputs": [
    {
     "name": "stderr",
     "output_type": "stream",
     "text": [
      "Warning in <TROOT::Append>: Replacing existing TH1: h_MC_Dt (Potential memory leak).\n",
      "Warning in <TROOT::Append>: Replacing existing TH1: h_MC_FULL_Dt (Potential memory leak).\n"
     ]
    }
   ],
   "source": [
    "#version: 20-APR-2023\n",
    "from ROOT import *\n",
    "import numpy as np\n",
    "import math\n",
    "\n",
    "#MC parameters\n",
    "\n",
    "N_MC_EVENTS_GEN = 100000 #Generating 100000 MC events\n",
    "TAU   = 103.8 # [ms]\n",
    "DEAD_TIME = 220.0 #[ms]\n",
    "\n",
    "## --- time between events\n",
    "N_bins_Dt = 100\n",
    "X_MIN_Dt =    0.0\n",
    "X_MAX_Dt = 1000.0 #// [ms]\n",
    "\n",
    "#Histograms for both cases\n",
    "h_MC_Dt = TH1F(\"h_MC_Dt\",\"h_MC_Dt;#Delta t (ms); #events\",N_bins_Dt,X_MIN_Dt,X_MAX_Dt);\n",
    "h_MC_FULL_Dt = TH1F(\"h_MC_FULL_Dt\",\"h_MC_FULL_Dt;#Delta t (ms); #events\",N_bins_Dt,X_MIN_Dt,X_MAX_Dt)"
   ]
  },
  {
   "cell_type": "markdown",
   "metadata": {},
   "source": [
    "## Generating MC data"
   ]
  },
  {
   "cell_type": "code",
   "execution_count": 7,
   "metadata": {},
   "outputs": [
    {
     "name": "stdout",
     "output_type": "stream",
     "text": [
      "gen_MC: N_gen =  100000\n",
      "gen_MC: N_acc =  32054\n",
      "gen_MC: i_exposure_time [ms] =  10342904.972830653\n",
      "gen_MC: tau       =  103.8\n",
      "gen_MC: dead_time =  220.0\n",
      "gen_MC: dead_time_frac  =  0.6818084492243031\n",
      "gen_MC: 1 - N_acc/N_gen =  0.67946\n",
      "CPU times: user 197 ms, sys: 24 ms, total: 221 ms\n",
      "Wall time: 219 ms\n"
     ]
    }
   ],
   "source": [
    "%%time \n",
    "\n",
    "#Starting to count accepted events with dt > Tdead\n",
    "i_acc=0\n",
    "\n",
    "dt_sum = DEAD_TIME #time spend until the end of dead time gate, first event is always accepted\n",
    "\n",
    "#Generate mane random numbers in one go\n",
    "dt = np.random.default_rng().exponential(TAU, N_MC_EVENTS_GEN)\n",
    "\n",
    "#Calculate cumulative sum of dead time = total elapsed time\n",
    "exposure_time = 0.0\n",
    "\n",
    "MC_TIME =[]\n",
    "\n",
    "#Loop over the generated events\n",
    "for aEvent in dt:\n",
    "    dt_sum += aEvent #time spend in current dead time gate\n",
    "    h_MC_FULL_Dt.Fill(dt_sum);\n",
    "    exposure_time += aEvent\n",
    "    \n",
    "    if dt_sum >= DEAD_TIME: \n",
    "        i_acc+=1\n",
    "        MC_TIME.append(exposure_time)\n",
    "        dt_sum = 0.0 #start new dead time gate\n",
    "        \n",
    "# calculate dead time fraction (two methods)\n",
    "tot_dead_time = i_acc*DEAD_TIME\n",
    "dead_time_frac = tot_dead_time/exposure_time\n",
    "\n",
    "print(\"gen_MC: N_gen = \", N_MC_EVENTS_GEN)\n",
    "print(\"gen_MC: N_acc = \" ,i_acc)\n",
    "print( \"gen_MC: i_exposure_time [ms] = \" ,exposure_time)\n",
    "print(\"gen_MC: tau       = \",TAU)\n",
    "print(\"gen_MC: dead_time = \" , DEAD_TIME)\n",
    "print(\"gen_MC: dead_time_frac  = \" , dead_time_frac )\n",
    "print( \"gen_MC: 1 - N_acc/N_gen = \",1.0 - i_acc/N_MC_EVENTS_GEN) "
   ]
  },
  {
   "cell_type": "markdown",
   "metadata": {},
   "source": [
    "## Filling histogram for $\\Delta t > T_{dead}$"
   ]
  },
  {
   "cell_type": "code",
   "execution_count": 8,
   "metadata": {},
   "outputs": [
    {
     "name": "stdout",
     "output_type": "stream",
     "text": [
      "Original data array:\n",
      " [40.47294879488429, 292.0489396246079, 655.663460914124, 950.518387424584, 1178.8158444019004]\n",
      "Rolled data array:\n",
      " [ 292.04893962  655.66346091  950.51838742 1178.8158444  1417.48436491]\n",
      "Difference: \n",
      " [251.57599083 363.61452129 294.85492651 228.29745698 238.66852051]\n"
     ]
    }
   ],
   "source": [
    "rolled = np.roll(MC_TIME, shift=-1)\n",
    "\n",
    "#calculate difference between rows\n",
    "dst_delta = rolled - MC_TIME\n",
    "\n",
    "#remove the last element\n",
    "dst_delta = dst_delta[:-1]\n",
    "\n",
    "print(\"Original data array:\\n\", MC_TIME[0:5])\n",
    "print(\"Rolled data array:\\n\", rolled[0:5])\n",
    "print(\"Difference: \\n\",dst_delta[0:5])\n",
    "\n",
    "#Fill the histogram\n",
    "for aItem in dst_delta:\n",
    "    h_MC_Dt.Fill(aItem)"
   ]
  },
  {
   "cell_type": "markdown",
   "metadata": {},
   "source": [
    "## Fitting and plotting the histogram for $\\Delta t > T_{dead}$"
   ]
  },
  {
   "cell_type": "markdown",
   "metadata": {},
   "source": [
    "<font size=\"3\"> In analogous way as in data notebook (PI_DATA_dt) we fit an exponential function $f(t)$ to our MC data. For a discrete case, the next expression establish the number of events in the $\\Delta t$ distribution from $T_{dead}=220$ ms to 1000 ms:  </font>"
   ]
  },
  {
   "cell_type": "markdown",
   "metadata": {},
   "source": [
    " <font size=\"4\"> $N_{events}= \\sum_{n=0}^{N_{bins}} N \\cdot W \\cdot p(t_n) = \\sum_{n=0}^{N_{bins}} f(t_n)$ </font>"
   ]
  },
  {
   "cell_type": "markdown",
   "metadata": {},
   "source": [
    "<font size=\"3\"> where $N$ is taken as a proportional constant, $W$ is the width of the histogram bins and <font size=\"4\">$P(t)= \\frac{1}{\\tau} e^{-t/\\tau}$. </font>"
   ]
  },
  {
   "cell_type": "code",
   "execution_count": 9,
   "metadata": {},
   "outputs": [
    {
     "name": "stdout",
     "output_type": "stream",
     "text": [
      "naive_f_td  =  0.8828202838944811\n",
      "proper_f_td =  0.6819385451369021\n",
      "Value of    N: 273619.853887\n",
      "Value of    tau: 102.609715\n",
      "Value of    NFD: 76.000000\n",
      "Value of    Chi2: 82.307362\n",
      " FCN=39.8484 FROM MIGRAD    STATUS=CONVERGED      88 CALLS          89 TOTAL\n",
      "                     EDM=3.20658e-10    STRATEGY= 1      ERROR MATRIX ACCURATE \n",
      "  EXT PARAMETER                                   STEP         FIRST   \n",
      "  NO.   NAME      VALUE            ERROR          SIZE      DERIVATIVE \n",
      "   1  N            2.73620e+05   3.65769e+03   6.28225e+00  -6.41199e-09\n",
      "   2  tau          1.02610e+02   5.82011e-01   1.06700e-03  -1.08600e-05\n",
      "                               ERR DEF= 0.5\n"
     ]
    },
    {
     "name": "stderr",
     "output_type": "stream",
     "text": [
      "Warning in <TCanvas::Constructor>: Deleting canvas with same name: canv1\n"
     ]
    },
    {
     "data": {
      "image/png": "[encoded data removed]",
      "text/plain": [
       "<IPython.core.display.Image object>"
      ]
     },
     "metadata": {},
     "output_type": "display_data"
    }
   ],
   "source": [
    "#Values for fitting\n",
    "XEPS = 4.0; #// [ms]\n",
    "bin_w = h_MC_Dt.GetXaxis().GetBinWidth(1)\n",
    "\n",
    "#Initial values for fitting\n",
    "N_evt = 20000.0\n",
    "tau   =   100.0\n",
    "\n",
    "## Exponential fitting\n",
    "\n",
    "s_func_exp = str(bin_w)+\"*([0]/[1]*exp(-x/[1]))\"\n",
    "f_func_exp    =  TF1(\"Exp\"     ,s_func_exp    ,DEAD_TIME, X_MAX_Dt) #DEAD_TIME-XEPS\n",
    "\n",
    "f_func_exp.SetParName(0,\"N\")\n",
    "f_func_exp.SetParameter(0,N_evt)\n",
    "  \n",
    "\n",
    "f_func_exp.SetParName(1,\"tau\")\n",
    "f_func_exp.SetParameter(1,tau)\n",
    "\n",
    "h_MC_Dt.Fit(\"Exp\",\"0L\",\"\",DEAD_TIME,X_MAX_Dt)\n",
    "\n",
    "##Constant fitting\n",
    "\n",
    "#we use the parameters value obtained from the exponential fitting to calculate the constant value\n",
    "N     = f_func_exp.GetParameter(0);\n",
    "tau   = f_func_exp.GetParameter(1);\n",
    "\n",
    "s_func_const = str(bin_w) + \"*([0]/[1]*exp(-[2]/[1]))\"\n",
    "f_func_const    = TF1(\"Const\"     ,s_func_const    ,0.0, DEAD_TIME)\n",
    "\n",
    "f_func_const.SetParameter(0,N)\n",
    "f_func_const.SetParameter(1,tau)\n",
    "f_func_const.SetParameter(2,DEAD_TIME) # ie.: DEAD_TIME\n",
    "\n",
    "## calculate fraction of dead time\n",
    "\n",
    "naive_f_td = 1.0 - exp(-DEAD_TIME/tau);\n",
    "proper_f_td = DEAD_TIME/(tau + DEAD_TIME);\n",
    "\n",
    "\n",
    "print(\"naive_f_td  = \", naive_f_td)\n",
    "print(\"proper_f_td = \" ,proper_f_td )\n",
    "\n",
    "########################################\n",
    "##Plotting the histograms and function##\n",
    "########################################\n",
    "\n",
    "canv1 = TCanvas(\"canv1\",\"canv1\",700,400)\n",
    "canv1.Divide(2,1)\n",
    "\n",
    "aPad = canv1.cd(1)\n",
    "aPad.SetLeftMargin(0.2)\n",
    "f_func_exp.SetLineColor(kRed);\n",
    "f_func_exp.SetLineWidth(1);\n",
    "f_func_exp.SetLineStyle(1); # 1 == solid, 2 == dashed, 3 == dotted\n",
    "f_func_exp.DrawCopy();\n",
    "\n",
    "f_func_const.SetLineColor(kRed);\n",
    "f_func_const.SetFillColor(kRed);\n",
    "f_func_const.SetLineWidth(2);\n",
    "f_func_const.SetLineStyle(1); # 1 == solid, 2 == dashed, 3 == dotted\n",
    "f_func_const.SetFillStyle(3344); # 1 == solid, 2 == dashed, 3 == dotted\n",
    "f_func_const.DrawCopy();\n",
    "  \n",
    "# plot once again DATA to have 'bullets' on top of histos and fitted functions\n",
    "\n",
    "h_MC_Dt.Draw(\"ex0\")\n",
    "f_func_exp.Draw(\"same\")\n",
    "f_func_const.Draw(\"same\");\n",
    "canv1.Draw()\n",
    "\n",
    "aPad = canv1.cd(2)\n",
    "aPad.SetLeftMargin(0.2)\n",
    "h_MC_Dt.Draw(\"e0 hist\")\n",
    "\n",
    "print ('Value of    N: {0:2f}'.format(N))\n",
    "print ('Value of    tau: {0:2f}'.format(tau))\n",
    "print ('Value of    NFD: {0:2f}'.format(f_func_exp.GetNDF()))\n",
    "print ('Value of    Chi2: {0:2f}'.format(f_func_exp.GetChisquare()))"
   ]
  },
  {
   "cell_type": "markdown",
   "metadata": {},
   "source": [
    "## Fitting and plotting histogram for full time "
   ]
  },
  {
   "cell_type": "code",
   "execution_count": 10,
   "metadata": {},
   "outputs": [
    {
     "name": "stdout",
     "output_type": "stream",
     "text": [
      "naive_f_td  =  0.8828247946601495\n",
      "proper_f_td =  0.6819424393790137\n",
      "Value of    N: 273638.915580\n",
      "Value of    tau: 102.607873\n",
      "Value of    NFD: 76.000000\n",
      "Value of    Chi2: 82.298408\n",
      " FCN=39.8455 FROM MIGRAD    STATUS=CONVERGED      90 CALLS          91 TOTAL\n",
      "                     EDM=3.67853e-10    STRATEGY= 1      ERROR MATRIX ACCURATE \n",
      "  EXT PARAMETER                                   STEP         FIRST   \n",
      "  NO.   NAME      VALUE            ERROR          SIZE      DERIVATIVE \n",
      "   1  N            2.73639e+05   3.65792e+03   6.28233e+00  -5.83091e-09\n",
      "   2  tau          1.02608e+02   5.81987e-01   1.06691e-03  -4.11497e-06\n",
      "                               ERR DEF= 0.5\n"
     ]
    },
    {
     "name": "stderr",
     "output_type": "stream",
     "text": [
      "Warning in <TCanvas::Constructor>: Deleting canvas with same name: canv2\n"
     ]
    },
    {
     "data": {
      "image/png": "[encoded data removed]",
      "text/plain": [
       "<IPython.core.display.Image object>"
      ]
     },
     "metadata": {},
     "output_type": "display_data"
    }
   ],
   "source": [
    "#Values for fitting\n",
    "bin_w = h_MC_FULL_Dt.GetXaxis().GetBinWidth(1)\n",
    "N_evt = 20000.0\n",
    "tau   =   100.0\n",
    "\n",
    "## Exponential function\n",
    "\n",
    "f_func_exp.SetParName(0,\"N\")\n",
    "f_func_exp.SetParameter(0,N_evt)\n",
    "  \n",
    "\n",
    "f_func_exp.SetParName(1,\"tau\")\n",
    "f_func_exp.SetParameter(1,tau)\n",
    "\n",
    "h_MC_FULL_Dt.Fit(\"Exp\",\"0L\",\"\",DEAD_TIME,X_MAX_Dt)\n",
    "\n",
    "##Constant function\n",
    "\n",
    "N     = f_func_exp.GetParameter(0);\n",
    "tau   = f_func_exp.GetParameter(1);\n",
    "\n",
    "s_func_const = str(bin_w) + \"*([0]/[1]*exp(-[2]/[1]))\"\n",
    "f_func_const    = TF1(\"Const\"     ,s_func_const    ,0.0, DEAD_TIME)\n",
    "\n",
    "f_func_const.SetParameter(0,N)\n",
    "f_func_const.SetParameter(1,tau)\n",
    "f_func_const.SetParameter(2,DEAD_TIME) # ie.: DEAD_TIME\n",
    "\n",
    "## calculate fraction of dead time\n",
    "\n",
    "naive_f_td = 1.0 - exp(-DEAD_TIME/tau);\n",
    "proper_f_td = DEAD_TIME/(tau + DEAD_TIME);\n",
    "\n",
    "print(\"naive_f_td  = \", naive_f_td)\n",
    "print(\"proper_f_td = \" ,proper_f_td )\n",
    "\n",
    "\n",
    "########################################\n",
    "##Plotting the histograms and function##\n",
    "########################################\n",
    "canv2 = TCanvas(\"canv2\",\"canv2\",700,400)\n",
    "canv2.Divide(2,1)\n",
    "\n",
    "aPad = canv2.cd(1)\n",
    "aPad.SetLeftMargin(0.2)\n",
    "f_func_exp.SetLineColor(kRed);\n",
    "f_func_exp.SetLineWidth(1);\n",
    "f_func_exp.SetLineStyle(1); # 1 == solid, 2 == dashed, 3 == dotted\n",
    "f_func_exp.DrawCopy();\n",
    "\n",
    "f_func_const.SetLineColor(kRed);\n",
    "f_func_const.SetFillColor(kRed);\n",
    "f_func_const.SetLineWidth(2);\n",
    "f_func_const.SetLineStyle(1); # 1 == solid, 2 == dashed, 3 == dotted\n",
    "f_func_const.SetFillStyle(3344); # 1 == solid, 2 == dashed, 3 == dotted\n",
    "f_func_const.DrawCopy();\n",
    "  \n",
    "# plot once again DATA to have 'bullets' on top of histos and fitted functions\n",
    "\n",
    "h_MC_FULL_Dt.Draw(\"ex0\")\n",
    "f_func_exp.Draw(\"same\")\n",
    "f_func_const.Draw(\"same\");\n",
    "canv2.Draw()\n",
    "\n",
    "aPad = canv2.cd(2)\n",
    "aPad.SetLeftMargin(0.2)\n",
    "h_MC_FULL_Dt.Draw(\"e0 hist\")\n",
    "\n",
    "print ('Value of    N: {0:2f}'.format(N))\n",
    "print ('Value of    tau: {0:2f}'.format(tau))\n",
    "print ('Value of    NFD: {0:2f}'.format(f_func_exp.GetNDF()))\n",
    "print ('Value of    Chi2: {0:2f}'.format(f_func_exp.GetChisquare()))"
   ]
  },
  {
   "cell_type": "code",
   "execution_count": null,
   "metadata": {},
   "outputs": [],
   "source": []
  }
 ],
 "metadata": {
  "kernelspec": {
   "display_name": "Python 3",
   "language": "python",
   "name": "python3"
  },
  "language_info": {
   "codemirror_mode": {
    "name": "ipython",
    "version": 3
   },
   "file_extension": ".py",
   "mimetype": "text/x-python",
   "name": "python",
   "nbconvert_exporter": "python",
   "pygments_lexer": "ipython3",
   "version": "3.6.12"
  }
 },
 "nbformat": 4,
 "nbformat_minor": 4
}
