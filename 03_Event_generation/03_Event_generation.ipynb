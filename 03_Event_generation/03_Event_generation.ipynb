{
 "cells": [
  {
   "cell_type": "markdown",
   "metadata": {},
   "source": [
    "# Event generation\n",
    "Auhtor: Piotr Podlaski"
   ]
  },
  {
   "cell_type": "markdown",
   "metadata": {
    "tags": []
   },
   "source": [
    "## Load ROOT and necessary python packages"
   ]
  },
  {
   "cell_type": "code",
   "execution_count": 1,
   "metadata": {},
   "outputs": [
    {
     "name": "stdout",
     "output_type": "stream",
     "text": [
      "Welcome to JupyROOT 6.24/04\n"
     ]
    }
   ],
   "source": [
    "import ROOT\n",
    "import os, sys, subprocess, time\n",
    "import py8settings as py8s\n",
    "from py8settings import PDF\n",
    "import itertools as it\n",
    "import ctypes\n",
    "\n",
    "%jsroot on"
   ]
  },
  {
   "cell_type": "markdown",
   "metadata": {},
   "source": [
    "## Play with Pythia8 settings and view events"
   ]
  },
  {
   "cell_type": "code",
   "execution_count": 2,
   "metadata": {},
   "outputs": [
    {
     "name": "stdout",
     "output_type": "stream",
     "text": [
      "You can now set the parameters for the incoming beams:\n"
     ]
    },
    {
     "data": {
      "application/vnd.jupyter.widget-view+json": {
       "model_id": "3a99035d0b0345479371ab758fc9b30f",
       "version_major": 2,
       "version_minor": 0
      },
      "text/plain": [
       "interactive(children=(Dropdown(description='beam A id  [Beams:idA]', index=9, layout=Layout(width='750px'), op…"
      ]
     },
     "metadata": {},
     "output_type": "display_data"
    }
   ],
   "source": [
    "cmnd_file = \"settings.cmnd\"\n",
    "\n",
    "#we start fresh\n",
    "if os.path.exists(cmnd_file):\n",
    "    os.remove(cmnd_file)\n",
    "os.system(\"touch \"+cmnd_file)\n",
    "\n",
    "#beam settings:\n",
    "py8s.beam_settings(cmnd_file)"
   ]
  },
  {
   "cell_type": "code",
   "execution_count": 3,
   "metadata": {},
   "outputs": [
    {
     "name": "stdout",
     "output_type": "stream",
     "text": [
      "You can now select the number of events, settings for the random seed, and processes:\n"
     ]
    },
    {
     "data": {
      "application/vnd.jupyter.widget-view+json": {
       "model_id": "fe50b560c803496a9c5d16493bd00cdd",
       "version_major": 2,
       "version_minor": 0
      },
      "text/plain": [
       "interactive(children=(IntText(value=100, description='# of events  [Main:numberOfEvents]', layout=Layout(width…"
      ]
     },
     "metadata": {},
     "output_type": "display_data"
    }
   ],
   "source": [
    "py8s.basic_settings(cmnd_file)"
   ]
  },
  {
   "cell_type": "code",
   "execution_count": 4,
   "metadata": {},
   "outputs": [
    {
     "name": "stdout",
     "output_type": "stream",
     "text": [
      "You can switch on/off different parts of the simulation:\n"
     ]
    },
    {
     "data": {
      "application/vnd.jupyter.widget-view+json": {
       "model_id": "f182e22072ff4f2f8f412e8b3109abe5",
       "version_major": 2,
       "version_minor": 0
      },
      "text/plain": [
       "interactive(children=(Checkbox(value=True, description='multi-parton interactions  [PartonLevel:MPI]', layout=…"
      ]
     },
     "metadata": {},
     "output_type": "display_data"
    }
   ],
   "source": [
    "py8s.onoff_settings(cmnd_file)"
   ]
  },
  {
   "cell_type": "code",
   "execution_count": 5,
   "metadata": {},
   "outputs": [
    {
     "name": "stdout",
     "output_type": "stream",
     "text": [
      "You can now select the phase-space cuts for 2 final-state particles:\n"
     ]
    },
    {
     "data": {
      "application/vnd.jupyter.widget-view+json": {
       "model_id": "d2dcf7c4b6e643fa91ce0e7301c44b85",
       "version_major": 2,
       "version_minor": 0
      },
      "text/plain": [
       "interactive(children=(FloatText(value=4.0, description='minimum invariant mass in GeV  [PhaseSpace:mHatMin]', …"
      ]
     },
     "metadata": {},
     "output_type": "display_data"
    }
   ],
   "source": [
    "# Write settings for phase-space cuts to file.\n",
    "py8s.pscuts_settings(cmnd_file, 2)"
   ]
  },
  {
   "cell_type": "code",
   "execution_count": 6,
   "metadata": {},
   "outputs": [
    {
     "name": "stdout",
     "output_type": "stream",
     "text": [
      "You can now set the main shower parameters:\n"
     ]
    },
    {
     "data": {
      "application/vnd.jupyter.widget-view+json": {
       "model_id": "4e84f1fe79064bb99ccb2bff2c5c7c3e",
       "version_major": 2,
       "version_minor": 0
      },
      "text/plain": [
       "interactive(children=(FloatText(value=0.1365, description='alphaS(m_Z) for final-state shower (0.06 - 0.25)  […"
      ]
     },
     "metadata": {},
     "output_type": "display_data"
    }
   ],
   "source": [
    "# Write settings for phase-space cuts to file.\n",
    "py8s.shower_settings(cmnd_file)"
   ]
  },
  {
   "cell_type": "code",
   "execution_count": 7,
   "metadata": {},
   "outputs": [],
   "source": [
    "# Write additional settings if needed.\n",
    "#py8s.more_settings(cmnd_file, [\"23:onMode = off\", \"23:onIfAny = 13\"])"
   ]
  },
  {
   "cell_type": "code",
   "execution_count": 8,
   "metadata": {
    "tags": []
   },
   "outputs": [
    {
     "name": "stdout",
     "output_type": "stream",
     "text": [
      "\n",
      " *------------------------------------------------------------------------------------* \n",
      " |                                                                                    | \n",
      " |  *------------------------------------------------------------------------------*  | \n",
      " |  |                                                                              |  | \n",
      " |  |                                                                              |  | \n",
      " |  |   PPP   Y   Y  TTTTT  H   H  III    A      Welcome to the Lund Monte Carlo!  |  | \n",
      " |  |   P  P   Y Y     T    H   H   I    A A     This is PYTHIA version 8.306      |  | \n",
      " |  |   PPP     Y      T    HHHHH   I   AAAAA    Last date of change: 28 Jun 2021  |  | \n",
      " |  |   P       Y      T    H   H   I   A   A                                      |  | \n",
      " |  |   P       Y      T    H   H  III  A   A    Now is 27 Feb 2022 at 20:16:59    |  | \n",
      " |  |                                                                              |  | \n",
      " |  |   Program documentation and an archive of historic versions is found on:     |  | \n",
      " |  |                                                                              |  | \n",
      " |  |                               https://pythia.org/                            |  | \n",
      " |  |                                                                              |  | \n",
      " |  |   PYTHIA is authored by a collaboration consisting of:                       |  | \n",
      " |  |                                                                              |  | \n",
      " |  |   Christian Bierlich, Nishita Desai, Leif Gellersen, Ilkka Helenius, Philip  |  | \n",
      " |  |   Ilten, Leif Lönnblad, Stephen Mrenna, Stefan Prestel, Christian Preuss,    |  | \n",
      " |  |   Torbjörn Sjöstrand, Peter Skands, Marius Utheim and Rob Verheyen.          |  | \n",
      " |  |                                                                              |  | \n",
      " |  |   The complete list of authors, including contact information and            |  | \n",
      " |  |   affiliations, can be found on https://pythia.org/.                         |  | \n",
      " |  |   Problems or bugs should be reported on email at authors@pythia.org.        |  | \n",
      " |  |                                                                              |  | \n",
      " |  |   The main program reference is 'An Introduction to PYTHIA 8.2',             |  | \n",
      " |  |   T. Sjöstrand et al, Comput. Phys. Commun. 191 (2015) 159                   |  | \n",
      " |  |   [arXiv:1410.3012 [hep-ph]]                                                 |  | \n",
      " |  |                                                                              |  | \n",
      " |  |   The main physics reference is the 'PYTHIA 6.4 Physics and Manual',         |  | \n",
      " |  |   T. Sjöstrand, S. Mrenna and P. Skands, JHEP05 (2006) 026 [hep-ph/0603175]  |  | \n",
      " |  |                                                                              |  | \n",
      " |  |   PYTHIA is released under the GNU General Public Licence version 2 or later.|  | \n",
      " |  |   Please respect the MCnet Guidelines for Event Generator Authors and Users. |  | \n",
      " |  |                                                                              |  | \n",
      " |  |   Disclaimer: this program comes without any guarantees.                     |  | \n",
      " |  |   Beware of errors and use common sense when interpreting results.           |  | \n",
      " |  |                                                                              |  | \n",
      " |  |   Copyright (C) 2021 Torbjörn Sjöstrand                                      |  | \n",
      " |  |                                                                              |  | \n",
      " |  |                                                                              |  | \n",
      " |  *------------------------------------------------------------------------------*  | \n",
      " |                                                                                    | \n",
      " *------------------------------------------------------------------------------------* \n",
      "\n",
      "\n",
      "INFORMATION:\n",
      "   Forcing PhaseSpace:pTHatMinDiverge to very small\n",
      "   value 0.05 GeV to prevent aggressive phase-space\n",
      "   restriction of deep-inelastic scattering configurations.\n",
      "   Default minimum value of 0.5 GeV may be reinstated from command\n",
      "   line or input file settings.\n",
      "\n",
      "NOTE THAT\n",
      "   2->2 processes in pp collisions require setting PhaseSpace:pTHatMin\n",
      "   2->2 processes in DIS collisions require setting PhaseSpace:Q2min\n",
      "   (see details in the ''Phase Space Cuts'' section of the online manual)\n",
      "\n",
      " *-------  PYTHIA Process Initialization  --------------------------*\n",
      " |                                                                  |\n",
      " | We collide e- with p+ at a CM energy of 3.003e+02 GeV            |\n",
      " |                                                                  |\n",
      " |------------------------------------------------------------------|\n",
      " |                                                    |             |\n",
      " | Subprocess                                    Code |   Estimated |\n",
      " |                                                    |    max (mb) |\n",
      " |                                                    |             |\n",
      " |------------------------------------------------------------------|\n",
      " |                                                    |             |\n",
      " | f f' -> f f' (t-channel gamma*/Z0)             211 |   2.062e-02 |\n",
      " | f_1 f_2 -> f_3 f_4 (t-channel W+-)             212 |   1.186e-05 |\n",
      " |                                                                  |\n",
      " *-------  End PYTHIA Process Initialization -----------------------*\n",
      "\n",
      " *-------  PYTHIA Flag + Mode + Parm + Word + FVec + MVec + PVec + WVec Settings (changes only)  ------------------* \n",
      " |                                                                                                                 | \n",
      " | Name                                          |                      Now |      Default         Min         Max | \n",
      " |                                               |                          |                                      | \n",
      " | Beams:eA                                      |                 27.50000 |     7000.000         0.0             | \n",
      " | Beams:eB                                      |                820.00000 |     7000.000         0.0             | \n",
      " | Beams:frameType                               |                        2 |            1           1           5 | \n",
      " | Beams:idA                                     |                       11 |         2212                         | \n",
      " | Main:numberOfEvents                           |                      100 |         1000           0             | \n",
      " | PhaseSpace:pTHatMin                           |                  1.00000 |          0.0         0.0             | \n",
      " | PhaseSpace:pTHatMinDiverge                    |                0.0500000 |      1.00000     0.50000             | \n",
      " | PhaseSpace:Q2Min                              |                  1.00000 |          0.0         0.0             | \n",
      " | WeakBosonExchange:all                         |                       on |          off                         | \n",
      " |                                                                                                                 | \n",
      " *-------  End PYTHIA Flag + Mode + Parm + Word + FVec + MVec + PVec + WVec Settings  -----------------------------* \n",
      "\n",
      " --------  PYTHIA Particle Data Table (changed only)  ------------------------------------------------------------------------------\n",
      " \n",
      "      id   name            antiName         spn chg col      m0        mWidth      mMin       mMax       tau0    res dec ext vis wid\n",
      "             no onMode   bRatio   meMode     products \n",
      "\n",
      " no particle data has been changed from its default value \n",
      "\n",
      " --------  End PYTHIA Particle Data Table  -----------------------------------------------------------------------------------------\n",
      "\n",
      " PYTHIA Info from Pythia::init: be aware that successive calls to init() do not clear previous settings.  \n",
      "\n",
      " *-------  PYTHIA Process Initialization  --------------------------*\n",
      " |                                                                  |\n",
      " | We collide e- with p+ at a CM energy of 3.003e+02 GeV            |\n",
      " |                                                                  |\n",
      " |------------------------------------------------------------------|\n",
      " |                                                    |             |\n",
      " | Subprocess                                    Code |   Estimated |\n",
      " |                                                    |    max (mb) |\n",
      " |                                                    |             |\n",
      " |------------------------------------------------------------------|\n",
      " |                                                    |             |\n",
      " | f f' -> f f' (t-channel gamma*/Z0)             211 |   2.062e-02 |\n",
      " | f_1 f_2 -> f_3 f_4 (t-channel W+-)             212 |   1.186e-05 |\n",
      " |                                                                  |\n",
      " *-------  End PYTHIA Process Initialization -----------------------*\n",
      "\n",
      " *-------  PYTHIA Flag + Mode + Parm + Word + FVec + MVec + PVec + WVec Settings (changes only)  ------------------* \n",
      " |                                                                                                                 | \n",
      " | Name                                          |                      Now |      Default         Min         Max | \n",
      " |                                               |                          |                                      | \n",
      " | Beams:eA                                      |                 27.50000 |     7000.000         0.0             | \n",
      " | Beams:eB                                      |                820.00000 |     7000.000         0.0             | \n",
      " | Beams:frameType                               |                        2 |            1           1           5 | \n",
      " | Beams:idA                                     |                       11 |         2212                         | \n",
      " | Main:numberOfEvents                           |                      100 |         1000           0             | \n",
      " | PhaseSpace:pTHatMin                           |                  1.00000 |          0.0         0.0             | \n",
      " | PhaseSpace:pTHatMinDiverge                    |                0.0500000 |      1.00000     0.50000             | \n",
      " | PhaseSpace:Q2Min                              |                  1.00000 |          0.0         0.0             | \n",
      " | WeakBosonExchange:all                         |                       on |          off                         | \n",
      " |                                                                                                                 | \n",
      " *-------  End PYTHIA Flag + Mode + Parm + Word + FVec + MVec + PVec + WVec Settings  -----------------------------* \n",
      "\n",
      " --------  PYTHIA Particle Data Table (changed only)  ------------------------------------------------------------------------------\n",
      " \n",
      "      id   name            antiName         spn chg col      m0        mWidth      mMin       mMax       tau0    res dec ext vis wid\n",
      "             no onMode   bRatio   meMode     products \n",
      "\n",
      " no particle data has been changed from its default value \n",
      "\n",
      " --------  End PYTHIA Particle Data Table  -----------------------------------------------------------------------------------------\n",
      "\n",
      " PYTHIA Warning in PhaseSpace2to2tauyz::trialKin: maximum for cross section violated  \n",
      "\n",
      " --------  PYTHIA Info Listing  ---------------------------------------- \n",
      " \n",
      " Beam A: id =     11, pz =  1.502e+02, e =  1.502e+02, m =  5.110e-04.\n",
      " Beam B: id =   2212, pz = -1.502e+02, e =  1.502e+02, m =  9.383e-01.\n",
      "\n",
      " In 1: id =   11, x =  9.988e-01, pdf =  2.410e+01 at Q2 =  4.093e+00.\n",
      " In 2: id =    3, x =  8.751e-04, pdf =  2.027e-01 at same Q2.\n",
      "\n",
      " Subprocess f f' -> f f' (t-channel gamma*/Z0) with code 211 is 2 -> 2.\n",
      " It has sHat =  7.884e+01,    tHat = -4.330e+00,    uHat = -7.451e+01,\n",
      "       pTHat =  2.017e+00,   m3Hat =  5.110e-04,   m4Hat =  5.000e-01,\n",
      "    thetaHat =  4.731e-01,  phiHat =  5.187e+00.\n",
      "     alphaEM =  7.498e-03,  alphaS =  3.386e-01    at Q2 =  4.093e+00.\n",
      "\n",
      " Impact parameter b =  0.000e+00 gives enhancement factor =  1.000e+00.\n",
      " Max pT scale for MPI =  3.003e+02, ISR =  2.023e+00, FSR =  2.023e+00.\n",
      " Number of MPI =     1, ISR =     2, FSRproc =     0, FSRreson =     0.\n",
      "\n",
      " --------  End PYTHIA Info Listing  ------------------------------------\n",
      "\n",
      " --------  PYTHIA Event Listing  (hard process)  -----------------------------------------------------------------------------------\n",
      " \n",
      "    no         id  name            status     mothers   daughters     colours      p_x        p_y        p_z         e          m \n",
      "     0         90  (system)           -11     0     0     0     0     0     0      0.000      0.000   -792.499    847.500    300.335\n",
      "     1         11  (e-)               -12     0     0     3     0     0     0      0.000      0.000     27.500     27.500      0.001\n",
      "     2       2212  (p+)               -12     0     0     4     0     0     0      0.000      0.000   -819.999    820.000      0.938\n",
      "     3         11  (e-)               -21     1     0     5     6     0     0      0.000      0.000     27.467     27.467      0.000\n",
      "     4          3  (s)                -21     2     0     5     6   101     0      0.000      0.000     -0.718      0.718      0.000\n",
      "     5         11  e-                  23     3     4     0     0     0     0      0.922     -1.793     25.837     25.915      0.001\n",
      "     6          3  s                   23     3     4     0     0   101     0     -0.922      1.793      0.913      2.269      0.500\n",
      "                                   Charge sum: -1.333           Momentum sum:      0.000      0.000     26.749     28.185      8.879\n",
      "\n",
      " --------  End PYTHIA Event Listing  -----------------------------------------------------------------------------------------------\n",
      "\n",
      " --------  PYTHIA Event Listing  (complete event)  ---------------------------------------------------------------------------------\n",
      " \n",
      "    no         id  name            status     mothers   daughters     colours      p_x        p_y        p_z         e          m \n",
      "     0         90  (system)           -11     0     0     0     0     0     0     -0.000     -0.000   -792.504    847.504    300.335\n",
      "     1         11  (e-)               -12     0     0    12     0     0     0      0.000     -0.000     27.500     27.500      0.001\n",
      "     2       2212  (p+)               -12     0     0    18     0     0     0      0.000      0.000   -820.003    820.004      0.938\n",
      "     3         11  (e-)               -21     7     7     5     6     0     0      0.000     -0.000     27.467     27.467      0.000\n",
      "     4          3  (s)                -21     8     0     5     6   101     0      0.000      0.000     -0.718      0.718      0.000\n",
      "     5         11  (e-)               -23     3     4     9     9     0     0      0.922     -1.793     25.837     25.915      0.001\n",
      "     6          3  (s)                -23     3     4    10    10   101     0     -0.922      1.793      0.913      2.269      0.500\n",
      "     7         11  (e-)               -42    12     0     3     3     0     0      0.000     -0.000     27.467     27.467      0.000\n",
      "     8         21  (g)                -41    13    13    11     4   101   102     -0.000      0.000     -2.127      2.127      0.000\n",
      "     9         11  (e-)               -44     5     5    14    14     0     0      0.960     -1.845     26.726     26.807      0.001\n",
      "    10          3  (s)                -44     6     6    15    15   101     0     -0.270      0.909     -0.285      1.109      0.500\n",
      "    11         -3  (sbar)             -43     8     0    16    16     0   102     -0.690      0.936     -1.101      1.678      0.500\n",
      "    12         11  (e-)               -41     1     0    17     7     0     0      0.000     -0.000     27.500     27.500      0.000\n",
      "    13         21  (g)                -42    18    18     8     8   101   102      0.000      0.000     -2.127      2.127      0.000\n",
      "    14         11  e-                  44     9     9     0     0     0     0      0.961     -1.845     26.726     26.807      0.001\n",
      "    15          3  (s)                -44    10    10    19    19   101     0     -0.270      0.909     -0.285      1.109      0.500\n",
      "    16         -3  (sbar)             -44    11    11    20    20     0   102     -0.690      0.936     -1.101      1.677      0.500\n",
      "    17         22  (gamma)            -43    12     0    21    21     0     0     -0.001     -0.000      0.033      0.033      0.000\n",
      "    18         21  (g)                -61     2     0    13    13   101   102      0.023      4.226     -5.150      6.662      0.000\n",
      "    19          3  (s)                -62    15    15    32    32   101     0      0.288      2.181     -2.687      3.509      0.500\n",
      "    20         -3  (sbar)             -62    16    16    25    25     0   102     -0.299      1.826     -2.911      3.485      0.500\n",
      "    21         22  gamma               62    17    17     0     0     0     0      0.044      0.103     -0.061      0.127      0.000\n",
      "    22       2203  (uu_1)             -63     2     0    33    33     0   101     -0.668     -1.200   -512.144    512.146      0.771\n",
      "    23          1  (d)                -63     2     0    24    24   102     0     -0.326     -1.066   -301.427    301.429      0.330\n",
      "    24          1  (d)                -71    23    23    26    31   102     0     -0.326     -1.066   -301.427    301.429      0.330\n",
      "    25         -3  (sbar)             -71    20    20    26    31     0   102     -0.299      1.826     -2.911      3.485      0.500\n",
      "    26       -211  pi-                 83    24    25     0     0     0     0      0.160     -0.356    -97.003     97.004      0.140\n",
      "    27        321  K+                  83    24    25     0     0     0     0     -0.484     -0.539   -132.086    132.089      0.494\n",
      "    28       -311  (Kbar0)            -83    24    25    41    41     0     0     -0.369      0.399    -56.009     56.014      0.498\n",
      "    29       2212  p+                  84    24    25     0     0     0     0      0.211     -0.092     -7.320      7.384      0.938\n",
      "    30       -323  (K*-)              -84    24    25    42    43     0     0      0.084     -0.085     -7.779      7.844      0.995\n",
      "    31      -3322  (Xibar0)           -84    24    25    50    51     0     0     -0.227      1.436     -4.139      4.580      1.315\n",
      "    32          3  (s)                -71    19    19    34    40   101     0      0.288      2.181     -2.687      3.509      0.500\n",
      "    33       2203  (uu_1)             -71    22    22    34    40     0   101     -0.668     -1.200   -512.144    512.146      0.771\n",
      "    34       -311  (Kbar0)            -83    32    33    44    44     0     0     -0.055      1.206     -1.436      1.941      0.498\n",
      "    35        313  (K*0)              -83    32    33    45    46     0     0     -0.201      0.642     -2.504      2.756      0.936\n",
      "    36       -321  K-                  83    32    33     0     0     0     0      0.574      0.201     -5.282      5.340      0.494\n",
      "    37        211  pi+                 84    32    33     0     0     0     0     -0.065     -0.145    -26.589     26.590      0.140\n",
      "    38        223  (omega)            -84    32    33    52    54     0     0     -0.023     -0.076   -123.753    123.755      0.773\n",
      "    39       2114  (Delta0)           -84    32    33    47    48     0     0     -0.176     -0.388   -257.279    257.282      1.211\n",
      "    40        211  pi+                 84    32    33     0     0     0     0     -0.434     -0.458    -97.988     97.990      0.140\n",
      "    41        310  (K_S0)             -91    28    28    55    56     0     0     -0.369      0.399    -56.009     56.014      0.498\n",
      "    42       -311  (Kbar0)            -91    30     0    49    49     0     0      0.189     -0.336     -6.399      6.430      0.498\n",
      "    43       -211  pi-                 91    30     0     0     0     0     0     -0.105      0.251     -1.381      1.414      0.140\n",
      "    44        310  (K_S0)             -91    34    34    57    58     0     0     -0.055      1.206     -1.436      1.941      0.498\n",
      "    45        321  K+                  91    35     0     0     0     0     0      0.173      0.398     -1.159      1.333      0.494\n",
      "    46       -211  pi-                 91    35     0     0     0     0     0     -0.374      0.243     -1.345      1.424      0.140\n",
      "    47       2112  n0                  91    39     0     0     0     0     0     -0.113     -0.274   -160.738    160.741      0.940\n",
      "    48        111  (pi0)              -91    39     0    59    60     0     0     -0.063     -0.114    -96.541     96.541      0.135\n",
      "    49        310  (K_S0)             -91    42    42    61    62     0     0      0.189     -0.336     -6.399      6.430      0.498\n",
      "    50      -3122  (Lambdabar0)       -91    31     0    63    64     0     0     -0.118      1.372     -3.813      4.205      1.116\n",
      "    51        111  (pi0)              -91    31     0    65    66     0     0     -0.110      0.064     -0.326      0.375      0.135\n",
      "    52        211  pi+                 91    38     0     0     0     0     0      0.104     -0.292    -42.484     42.485      0.140\n",
      "    53       -211  pi-                 91    38     0     0     0     0     0     -0.118      0.083    -26.760     26.761      0.140\n",
      "    54        111  (pi0)              -91    38     0    67    68     0     0     -0.010      0.132    -54.509     54.509      0.135\n",
      "    55        211  pi+                 91    41     0     0     0     0     0     -0.383      0.122    -31.123     31.126      0.140\n",
      "    56       -211  pi-                 91    41     0     0     0     0     0      0.014      0.277    -24.886     24.888      0.140\n",
      "    57        211  pi+                 91    44     0     0     0     0     0      0.022      1.004     -0.941      1.383      0.140\n",
      "    58       -211  pi-                 91    44     0     0     0     0     0     -0.077      0.203     -0.495      0.558      0.140\n",
      "    59         22  gamma               91    48     0     0     0     0     0     -0.046     -0.145    -75.186     75.186      0.000\n",
      "    60         22  gamma               91    48     0     0     0     0     0     -0.017      0.031    -21.355     21.355      0.000\n",
      "    61        211  pi+                 91    49     0     0     0     0     0     -0.068     -0.092     -3.668      3.672      0.140\n",
      "    62       -211  pi-                 91    49     0     0     0     0     0      0.257     -0.244     -2.731      2.757      0.140\n",
      "    63      -2112  nbar0               91    50     0     0     0     0     0     -0.148      1.218     -3.125      3.487      0.940\n",
      "    64        111  (pi0)              -91    50     0    69    70     0     0      0.030      0.153     -0.688      0.718      0.135\n",
      "    65         22  gamma               91    51     0     0     0     0     0     -0.031     -0.027     -0.020      0.046      0.000\n",
      "    66         22  gamma               91    51     0     0     0     0     0     -0.078      0.091     -0.306      0.329      0.000\n",
      "    67         22  gamma               91    54     0     0     0     0     0     -0.049      0.000    -11.083     11.083      0.000\n",
      "    68         22  gamma               91    54     0     0     0     0     0      0.040      0.132    -43.426     43.426      0.000\n",
      "    69         22  gamma               91    64     0     0     0     0     0      0.011     -0.014     -0.226      0.227      0.000\n",
      "    70         22  gamma               91    64     0     0     0     0     0      0.019      0.167     -0.462      0.491      0.000\n",
      "                                   Charge sum:  0.000           Momentum sum:     -0.000     -0.000   -792.503    847.504    300.336\n",
      "\n",
      " --------  End PYTHIA Event Listing  -----------------------------------------------------------------------------------------------\n",
      "\n",
      "\n",
      "Printed one event to output file event-settings.cmnd.dot\n",
      "Producing .ps figure by using the 'dot' command.\n",
      "Stored event visualization in file event-settings.cmnd.ps\n",
      "\n",
      "Created event visualization. Exiting event generation.\n",
      "\n"
     ]
    }
   ],
   "source": [
    "# Start pythia+dire.\n",
    "command = \"./pythia-examples/main300 --visualize_event --input \"+cmnd_file # + \">> /dev/null\"\n",
    "subprocess.call([\"bash\",\"-c\",command]);"
   ]
  },
  {
   "cell_type": "code",
   "execution_count": 9,
   "metadata": {},
   "outputs": [
    {
     "data": {
      "text/html": [
       "<iframe src=event-settings.cmnd.pdf width=1280 height=1024></iframe>"
      ],
      "text/latex": [
       "\\includegraphics[width=1.0\\textwidth]{event-settings.cmnd.pdf}"
      ],
      "text/plain": [
       "<py8settings.PDF at 0x7fcec8441550>"
      ]
     },
     "execution_count": 9,
     "metadata": {},
     "output_type": "execute_result"
    }
   ],
   "source": [
    "subprocess.call([\"bash\",\"-c\",\"dot -Tpdf event-\"+cmnd_file+\".dot -o event-\"+cmnd_file+\".pdf\"])\n",
    "PDF(\"event-\"+cmnd_file+\".pdf\",size=(1280,1024))"
   ]
  },
  {
   "cell_type": "markdown",
   "metadata": {},
   "source": [
    "# Run Pythia8 from ROOT interface"
   ]
  },
  {
   "cell_type": "markdown",
   "metadata": {},
   "source": [
    "First we prepare and initialize basic pythia configuration for generation of $p+p$ events at 14 TeV:\n",
    " * define helper function to suppress pythia messages\n",
    " * create `TPythia8` object\n",
    " * use `HardQCD:all` physics processes\n",
    " * set random seed to 42 (dummy number)\n",
    " * initialize pythia to simulate $p+p$ collisions at 14 TeV"
   ]
  },
  {
   "cell_type": "code",
   "execution_count": 10,
   "metadata": {
    "tags": []
   },
   "outputs": [
    {
     "name": "stdout",
     "output_type": "stream",
     "text": [
      " PYTHIA Warning in PhaseSpace2to2tauyz::trialKin: maximum for cross section violated  \n"
     ]
    }
   ],
   "source": [
    "def makePythiaSilent(pythia):\n",
    "    pythia.ReadString(\"Init:showMultipartonInteractions = off\")\n",
    "    pythia.ReadString(\"Init:showChangedParticleData = off\")\n",
    "    pythia.ReadString(\"Init:showProcesses = off\")\n",
    "    pythia.ReadString(\"Init:showChangedSettings = off\")\n",
    "    pythia.ReadString(\"Next:numberShowInfo = 0\")\n",
    "    pythia.ReadString(\"Next:numberShowProcess = 0\")\n",
    "    pythia.ReadString(\"Next:numberShowEvent = 0\")\n",
    "    pythia.ReadString(\"Next:numberCount = 0\")\n",
    "\n",
    "pythia = ROOT.TPythia8(False)\n",
    "makePythiaSilent(pythia)\n",
    "pythia.ReadString(\"HardQCD:all = on\")\n",
    "pythia.ReadString(\"Random:setSeed = on\")\n",
    "pythia.ReadString(\"Random:seed = 0\") # to ro randomize seed\n",
    "pythia.Initialize(2212 , 2212 , 14000)\n",
    "particles = ROOT.TClonesArray(\"TParticle\", 1000) #prepare space for generated particles"
   ]
  },
  {
   "cell_type": "markdown",
   "metadata": {},
   "source": [
    "To see how does it work we generate a single event and take a look at particle listings:"
   ]
  },
  {
   "cell_type": "code",
   "execution_count": 11,
   "metadata": {
    "tags": []
   },
   "outputs": [
    {
     "name": "stdout",
     "output_type": "stream",
     "text": [
      "\n",
      " --------  PYTHIA Event Listing  (complete event)  ---------------------------------------------------------------------------------\n",
      " \n",
      "    no         id  name            status     mothers   daughters     colours      p_x        p_y        p_z         e          m \n",
      "     0         90  (system)           -11     0     0     0     0     0     0      0.000      0.000      0.000  14000.000  14000.000\n",
      "     1       2212  (p+)               -12     0     0    16     0     0     0      0.000      0.000   7000.000   7000.000      0.938\n",
      "     2       2212  (p+)               -12     0     0    17     0     0     0      0.000      0.000  -7000.000   7000.000      0.938\n",
      "     3         21  (g)                -21    10    10     5     6   102   101      0.000      0.000   3279.968   3279.968      0.000\n",
      "     4         21  (g)                -21    11     0     5     6   103   102      0.000      0.000     -0.009      0.009      0.000\n",
      "     5         21  (g)                -23     3     4     7     8   104   101     -0.870      0.866   3235.266   3235.266      0.000\n",
      "     6         21  (g)                -23     3     4     9     9   103   104      0.870     -0.866     44.694     44.711      0.000\n",
      "     7         21  (g)                -51     5     0    12    12   105   101     -0.517      0.997   1849.203   1849.203      0.000\n",
      "     8         21  (g)                -51     5     0    14    14   104   105     -0.344     -0.140   1386.483   1386.483      0.000\n",
      "     9         21  (g)                -52     6     6    13    13   103   104      0.862     -0.858     44.274     44.291      0.000\n",
      "    10         21  (g)                -42    16    16     3     3   102   101     -0.000     -0.000   3279.968   3279.968      0.000\n",
      "    11         -2  (ubar)             -41    17    17    15     4     0   102      0.000      0.000     -0.031      0.031      0.000\n",
      "    12         21  (g)                -44     7     7    18    18   105   101     -0.517      1.004   1866.138   1866.138      0.000\n",
      "    13         21  (g)                -44     9     9    19    19   103   104      0.865     -0.515     30.298     30.314      0.000\n",
      "    14         21  (g)                -44     8     8    20    20   104   105     -0.344     -0.139   1380.964   1380.964      0.000\n",
      "    15         -2  (ubar)             -43    11     0    21    21     0   103     -0.003     -0.351      2.537      2.583      0.330\n",
      "    16         21  (g)                -61     1     0    10    10   102   101      0.550      0.083   3280.832   3280.832      0.000\n",
      "    17         -2  (ubar)             -61     2     0    11    11     0   102     -0.051     -0.122      0.109      0.172      0.000\n",
      "    18         21  (g)                -62    12    12    36    36   105   101     -0.205      1.051   1865.083   1865.084      0.000\n",
      "    19         21  (g)                -62    13    13    38    38   103   104      0.856     -0.547     30.647     30.664      0.000\n",
      "    20         21  (g)                -62    14    14    37    37   104   105     -0.113     -0.104   1381.881   1381.881      0.000\n",
      "    21         -2  (ubar)             -62    15    15    39    39     0   103     -0.040     -0.439      3.330      3.375      0.330\n",
      "    22       2203  (uu_1)             -63     1     0    51    51     0   102     -0.152     -0.038   2661.483   2661.483      0.771\n",
      "    23          1  (d)                -63     1     0    35    35   101     0     -0.398     -0.045   1057.543   1057.543      0.330\n",
      "    24       2101  (ud_0)             -63     2     0    28    28     0   108      0.266      0.544  -4551.156   4551.157      0.579\n",
      "    25          2  (u)                -63     2     0    50    50   102     0     -0.559     -0.003  -2385.470   2385.470      0.330\n",
      "    26          2  (u)                -63     2     0    27    27   108     0      0.344     -0.419    -63.341     63.344      0.330\n",
      "    27          2  (u)                -71    26    26    29    34   108     0      0.344     -0.419    -63.341     63.344      0.330\n",
      "    28       2101  (ud_0)             -71    24    24    29    34     0   108      0.266      0.544  -4551.156   4551.157      0.579\n",
      "    29        111  (pi0)              -83    27    28   111   112     0     0     -0.016     -0.163   -112.097    112.098      0.135\n",
      "    30        113  (rho0)             -83    27    28    77    78     0     0      0.103     -0.028   -218.818    218.819      0.818\n",
      "    31        211  pi+                 83    27    28     0     0     0     0      0.427      0.062   -100.386    100.387      0.140\n",
      "    32        111  (pi0)              -84    27    28   113   114     0     0     -0.009      0.100  -1119.621   1119.621      0.135\n",
      "    33       1114  (Delta-)           -84    27    28    79    80     0     0      0.441      0.110  -2490.797   2490.798      1.229\n",
      "    34        211  pi+                 84    27    28     0     0     0     0     -0.335      0.044   -572.778    572.778      0.140\n",
      "    35          1  (d)                -71    23    23    40    49   101     0     -0.398     -0.045   1057.543   1057.543      0.330\n",
      "    36         21  (g)                -71    18    18    40    49   105   101     -0.205      1.051   1865.083   1865.084      0.000\n",
      "    37         21  (g)                -71    20    20    40    49   104   105     -0.113     -0.104   1381.881   1381.881      0.000\n",
      "    38         21  (g)                -71    19    19    40    49   103   104      0.856     -0.547     30.647     30.664      0.000\n",
      "    39         -2  (ubar)             -71    21    21    40    49     0   103     -0.040     -0.439      3.330      3.375      0.330\n",
      "    40       -211  pi-                 83    35    39     0     0     0     0      0.164      0.073    584.373    584.373      0.140\n",
      "    41        211  pi+                 83    35    39     0     0     0     0     -0.589      0.581   1736.179   1736.179      0.140\n",
      "    42       -213  (rho-)             -83    35    39    81    82     0     0     -0.390     -0.014    392.650    392.650      0.747\n",
      "    43        211  pi+                 83    35    39     0     0     0     0      0.300      0.088   1285.616   1285.616      0.140\n",
      "    44        111  (pi0)              -83    35    39   115   116     0     0      0.104      0.124     92.763     92.763      0.135\n",
      "    45       -211  pi-                 83    35    39     0     0     0     0     -0.287      0.290    115.774    115.774      0.140\n",
      "    46        211  pi+                 83    35    39     0     0     0     0      0.381     -0.453     81.448     81.451      0.140\n",
      "    47       -211  pi-                 84    35    39     0     0     0     0      0.228     -0.371      5.948      5.966      0.140\n",
      "    48        213  (rho+)             -84    35    39    83    84     0     0      0.408      0.406     26.432     26.452      0.842\n",
      "    49       -211  pi-                 84    35    39     0     0     0     0     -0.219     -0.808     17.302     17.323      0.140\n",
      "    50          2  (u)                -71    25    25    52    76   102     0     -0.559     -0.003  -2385.470   2385.470      0.330\n",
      "    51       2203  (uu_1)             -71    22    22    52    76     0   102     -0.152     -0.038   2661.483   2661.483      0.771\n",
      "    52        111  (pi0)              -83    50    51   117   118     0     0      0.075     -0.184   -507.336    507.336      0.135\n",
      "    53        213  (rho+)             -83    50    51    85    86     0     0     -0.075     -0.481   -901.822    901.822      0.721\n",
      "    54        113  (rho0)             -83    50    51    87    88     0     0     -0.334      1.047   -620.111    620.112      0.800\n",
      "    55       -211  pi-                 83    50    51     0     0     0     0     -0.288     -0.071    -12.654     12.658      0.140\n",
      "    56        111  (pi0)              -83    50    51   119   120     0     0      0.152     -0.615    -91.744     91.747      0.135\n",
      "    57        223  (omega)            -83    50    51   121   123     0     0      0.133      0.669   -123.024    123.028      0.776\n",
      "    58        331  (eta')             -83    50    51   124   125     0     0     -0.296     -0.554    -15.759     15.801      0.958\n",
      "    59        211  pi+                 83    50    51     0     0     0     0     -0.249     -0.073    -41.740     41.741      0.140\n",
      "    60       -213  (rho-)             -83    50    51    89    90     0     0      0.257      0.057    -13.083     13.108      0.764\n",
      "    61        113  (rho0)             -83    50    51    91    92     0     0     -0.127      0.064    -34.972     34.982      0.829\n",
      "    62        213  (rho+)             -83    50    51    93    94     0     0      0.409      0.195    -10.125     10.188      1.037\n",
      "    63       -213  (rho-)             -83    50    51    95    96     0     0     -0.427      0.206     -7.080      7.149      0.870\n",
      "    64        223  (omega)            -83    50    51   126   128     0     0      0.235     -0.264     -2.664      2.797      0.775\n",
      "    65        223  (omega)            -84    50    51   129   131     0     0      0.128      0.122     -0.437      0.914      0.784\n",
      "    66        213  (rho+)             -84    50    51    97    98     0     0     -0.233     -0.448     -2.271      2.542      1.026\n",
      "    67       -211  pi-                 84    50    51     0     0     0     0      0.119      0.372      0.578      0.711      0.140\n",
      "    68        321  K+                  84    50    51     0     0     0     0     -0.112     -0.145     12.459     12.470      0.494\n",
      "    69       -311  (Kbar0)            -84    50    51    99    99     0     0     -0.074      0.240     11.848     11.861      0.498\n",
      "    70        313  (K*0)              -84    50    51   100   101     0     0      0.420     -0.104     47.845     47.852      0.689\n",
      "    71       -313  (K*bar0)           -84    50    51   102   103     0     0     -0.321     -0.107     32.420     32.433      0.857\n",
      "    72        313  (K*0)              -84    50    51   104   105     0     0     -0.225      0.436     85.997     86.003      0.873\n",
      "    73       -321  K-                  84    50    51     0     0     0     0     -0.051     -0.861    322.132    322.133      0.494\n",
      "    74        213  (rho+)             -84    50    51   106   107     0     0      0.449      0.585    180.411    180.414      0.807\n",
      "    75       2214  (Delta+)           -84    50    51   108   109     0     0     -0.181     -0.050    873.599    873.600      1.447\n",
      "    76        221  (eta)              -84    50    51   132   133     0     0     -0.096     -0.074   1093.548   1093.548      0.548\n",
      "    77        211  pi+                 91    30     0     0     0     0     0      0.016     -0.071     -8.351      8.353      0.140\n",
      "    78       -211  pi-                 91    30     0     0     0     0     0      0.087      0.043   -210.467    210.467      0.140\n",
      "    79       2112  n0                  91    33     0     0     0     0     0      0.344      0.075  -1531.084   1531.084      0.940\n",
      "    80       -211  pi-                 91    33     0     0     0     0     0      0.096      0.036   -959.714    959.714      0.140\n",
      "    81       -211  pi-                 91    42     0     0     0     0     0      0.054     -0.142    251.419    251.419      0.140\n",
      "    82        111  (pi0)              -91    42     0   134   135     0     0     -0.444      0.127    141.230    141.231      0.135\n",
      "    83        211  pi+                 91    48     0     0     0     0     0      0.239     -0.022      2.584      2.599      0.140\n",
      "    84        111  (pi0)              -91    48     0   136   137     0     0      0.170      0.428     23.848     23.853      0.135\n",
      "    85        211  pi+                 91    53     0     0     0     0     0     -0.331     -0.306   -353.753    353.754      0.140\n",
      "    86        111  (pi0)              -91    53     0   138   139     0     0      0.256     -0.175   -548.069    548.069      0.135\n",
      "    87        211  pi+                 91    54     0     0     0     0     0     -0.084      1.013   -406.571    406.573      0.140\n",
      "    88       -211  pi-                 91    54     0     0     0     0     0     -0.250      0.034   -213.540    213.540      0.140\n",
      "    89       -211  pi-                 91    60     0     0     0     0     0      0.354      0.119     -3.396      3.420      0.140\n",
      "    90        111  (pi0)              -91    60     0   140   141     0     0     -0.097     -0.062     -9.687      9.689      0.135\n",
      "    91        211  pi+                 91    61     0     0     0     0     0      0.096      0.388    -17.090     17.095      0.140\n",
      "    92       -211  pi-                 91    61     0     0     0     0     0     -0.223     -0.324    -17.882     17.887      0.140\n",
      "    93        211  pi+                 91    62     0     0     0     0     0      0.340      0.505     -8.678      8.701      0.140\n",
      "    94        111  (pi0)              -91    62     0   142   143     0     0      0.069     -0.310     -1.447      1.488      0.135\n",
      "    95       -211  pi-                 91    63     0     0     0     0     0     -0.407      0.496     -4.155      4.206      0.140\n",
      "    96        111  (pi0)              -91    63     0   144   145     0     0     -0.020     -0.290     -2.925      2.943      0.135\n",
      "    97        211  pi+                 91    66     0     0     0     0     0     -0.604     -0.305     -1.690      1.826      0.140\n",
      "    98        111  (pi0)              -91    66     0   146   147     0     0      0.371     -0.142     -0.580      0.716      0.135\n",
      "    99        130  K_L0                91    69    69     0     0     0     0     -0.074      0.240     11.848     11.861      0.498\n",
      "   100        321  K+                  91    70     0     0     0     0     0      0.380      0.019     36.716     36.721      0.494\n",
      "   101       -211  pi-                 91    70     0     0     0     0     0      0.041     -0.123     11.129     11.131      0.140\n",
      "   102       -321  K-                  91    71     0     0     0     0     0     -0.222     -0.100     12.236     12.249      0.494\n",
      "   103        211  pi+                 91    71     0     0     0     0     0     -0.099     -0.007     20.183     20.184      0.140\n",
      "   104        311  (K0)               -91    72     0   110   110     0     0     -0.376      0.236     70.991     70.994      0.498\n",
      "   105        111  (pi0)              -91    72     0   148   149     0     0      0.151      0.200     15.005     15.008      0.135\n",
      "   106        211  pi+                 91    74     0     0     0     0     0     -0.073      0.089      9.418      9.419      0.140\n",
      "   107        111  (pi0)              -91    74     0   150   151     0     0      0.523      0.496    170.993    170.995      0.135\n",
      "   108       2212  p+                  91    75     0     0     0     0     0     -0.289     -0.381    555.642    555.643      0.938\n",
      "   109        111  (pi0)              -91    75     0   152   153     0     0      0.108      0.331    317.957    317.957      0.135\n",
      "   110        130  K_L0                91   104   104     0     0     0     0     -0.376      0.236     70.991     70.994      0.498\n",
      "   111         22  gamma               91    29     0     0     0     0     0     -0.036     -0.151    -61.122     61.122      0.000\n",
      "   112         22  gamma               91    29     0     0     0     0     0      0.019     -0.013    -50.975     50.975      0.000\n",
      "   113         22  gamma               91    32     0     0     0     0     0      0.010      0.040    -79.666     79.666      0.000\n",
      "   114         22  gamma               91    32     0     0     0     0     0     -0.019      0.059  -1039.954   1039.954      0.000\n",
      "   115         22  gamma               91    44     0     0     0     0     0      0.048      0.002      8.889      8.889      0.000\n",
      "   116         22  gamma               91    44     0     0     0     0     0      0.055      0.122     83.874     83.875      0.000\n",
      "   117         22  gamma               91    52     0     0     0     0     0     -0.034     -0.088   -224.293    224.293      0.000\n",
      "   118         22  gamma               91    52     0     0     0     0     0      0.108     -0.096   -283.044    283.044      0.000\n",
      "   119         22  gamma               91    56     0     0     0     0     0      0.145     -0.334    -55.800     55.801      0.000\n",
      "   120         22  gamma               91    56     0     0     0     0     0      0.008     -0.281    -35.945     35.946      0.000\n",
      "   121        211  pi+                 91    57     0     0     0     0     0     -0.077      0.586    -59.462     59.465      0.140\n",
      "   122       -211  pi-                 91    57     0     0     0     0     0      0.009      0.003    -19.790     19.791      0.140\n",
      "   123        111  (pi0)              -91    57     0   154   155     0     0      0.201      0.081    -43.771     43.772      0.135\n",
      "   124        113  (rho0)             -91    58     0   156   157     0     0     -0.307     -0.646    -15.256     15.289      0.704\n",
      "   125         22  gamma               91    58     0     0     0     0     0      0.011      0.093     -0.503      0.512      0.000\n",
      "   126        211  pi+                 91    64     0     0     0     0     0      0.218     -0.064     -0.884      0.923      0.140\n",
      "   127       -211  pi-                 91    64     0     0     0     0     0      0.095     -0.033     -1.511      1.520      0.140\n",
      "   128        111  (pi0)              -91    64     0   158   159     0     0     -0.078     -0.167     -0.270      0.353      0.135\n",
      "   129        211  pi+                 91    65     0     0     0     0     0     -0.036      0.125      0.078      0.206      0.140\n",
      "   130       -211  pi-                 91    65     0     0     0     0     0     -0.038      0.012     -0.424      0.448      0.140\n",
      "   131        111  (pi0)              -91    65     0   160   161     0     0      0.202     -0.015     -0.091      0.260      0.135\n",
      "   132         22  gamma               91    76     0     0     0     0     0      0.017      0.120     60.931     60.931      0.000\n",
      "   133         22  gamma               91    76     0     0     0     0     0     -0.113     -0.194   1032.617   1032.618      0.000\n",
      "   134         22  gamma               91    82     0     0     0     0     0     -0.167     -0.018     52.340     52.340      0.000\n",
      "   135         22  gamma               91    82     0     0     0     0     0     -0.278      0.145     88.890     88.891      0.000\n",
      "   136         22  gamma               91    84     0     0     0     0     0      0.039      0.112      3.633      3.635      0.000\n",
      "   137         22  gamma               91    84     0     0     0     0     0      0.131      0.316     20.215     20.218      0.000\n",
      "   138         22  gamma               91    86     0     0     0     0     0      0.262     -0.157   -454.789    454.789      0.000\n",
      "   139         22  gamma               91    86     0     0     0     0     0     -0.006     -0.018    -93.279     93.279      0.000\n",
      "   140         22  gamma               91    90     0     0     0     0     0     -0.012      0.017     -0.240      0.241      0.000\n",
      "   141         22  gamma               91    90     0     0     0     0     0     -0.084     -0.079     -9.447      9.448      0.000\n",
      "   142         22  gamma               91    94     0     0     0     0     0      0.012      0.011     -0.122      0.123      0.000\n",
      "   143         22  gamma               91    94     0     0     0     0     0      0.057     -0.321     -1.325      1.364      0.000\n",
      "   144         22  gamma               91    96     0     0     0     0     0      0.018     -0.241     -1.855      1.871      0.000\n",
      "   145         22  gamma               91    96     0     0     0     0     0     -0.039     -0.049     -1.070      1.072      0.000\n",
      "   146         22  gamma               91    98     0     0     0     0     0      0.300     -0.062     -0.480      0.570      0.000\n",
      "   147         22  gamma               91    98     0     0     0     0     0      0.071     -0.080     -0.100      0.147      0.000\n",
      "   148         22  gamma               91   105     0     0     0     0     0      0.039      0.027      0.944      0.945      0.000\n",
      "   149         22  gamma               91   105     0     0     0     0     0      0.112      0.173     14.061     14.063      0.000\n",
      "   150         22  gamma               91   107     0     0     0     0     0      0.397      0.437    144.790    144.792      0.000\n",
      "   151         22  gamma               91   107     0     0     0     0     0      0.125      0.058     26.203     26.203      0.000\n",
      "   152         22  gamma               91   109     0     0     0     0     0     -0.032      0.053     57.496     57.496      0.000\n",
      "   153         22  gamma               91   109     0     0     0     0     0      0.140      0.278    260.460    260.460      0.000\n",
      "   154         22  gamma               91   123     0     0     0     0     0      0.033      0.054     -5.491      5.492      0.000\n",
      "   155         22  gamma               91   123     0     0     0     0     0      0.167      0.026    -38.280     38.281      0.000\n",
      "   156        211  pi+                 91   124     0     0     0     0     0     -0.360     -0.077     -7.721      7.731      0.140\n",
      "   157       -211  pi-                 91   124     0     0     0     0     0      0.053     -0.570     -7.535      7.558      0.140\n",
      "   158         22  gamma               91   128     0     0     0     0     0     -0.074     -0.154     -0.135      0.218      0.000\n",
      "   159         22  gamma               91   128     0     0     0     0     0     -0.004     -0.012     -0.135      0.136      0.000\n",
      "   160         22  gamma               91   131     0     0     0     0     0     -0.013     -0.014      0.011      0.022      0.000\n",
      "   161         22  gamma               91   131     0     0     0     0     0      0.215     -0.000     -0.102      0.238      0.000\n",
      "                                   Charge sum:  2.000           Momentum sum:      0.000      0.000     -0.000  14000.000  14000.000\n",
      "\n",
      " --------  End PYTHIA Event Listing  -----------------------------------------------------------------------------------------------\n"
     ]
    }
   ],
   "source": [
    "pythia.GenerateEvent()\n",
    "pythia.EventListing()"
   ]
  },
  {
   "cell_type": "markdown",
   "metadata": {},
   "source": [
    "### Prepare helper functions for particle identification"
   ]
  },
  {
   "cell_type": "markdown",
   "metadata": {},
   "source": [
    "* write function to tell if particle is *final* (i.e. simulation of its evolution by pythia is finished). Hint: *final* particles have positive status codes\n",
    "* add a second argument which will allow to filter by the particle type as well, keeping the function behaviour when only one argument is provided\n",
    "* write a function that computes ivariant mass of the pair of particles\n",
    "* the two defined functions assume that (a pair of) `TParticle` object(s) is passed to them"
   ]
  },
  {
   "cell_type": "code",
   "execution_count": 12,
   "metadata": {},
   "outputs": [],
   "source": [
    "def isFinal(p,name=None):\n",
    "    if name==None:\n",
    "        return p.GetStatusCode()>0\n",
    "    else:\n",
    "        return p.GetStatusCode()>0 and p.GetName()==name\n",
    "\n",
    "\n",
    "def getMinv(pair):\n",
    "    p4_1=ROOT.TLorentzVector()\n",
    "    p4_2=ROOT.TLorentzVector()\n",
    "    pair[0].Momentum(p4_1)\n",
    "    pair[1].Momentum(p4_2)\n",
    "    p4=p4_1+p4_2\n",
    "    return p4.M()"
   ]
  },
  {
   "cell_type": "markdown",
   "metadata": {},
   "source": [
    "## Properties of hadron production in $p+p$ interactions"
   ]
  },
  {
   "cell_type": "markdown",
   "metadata": {},
   "source": [
    "### Generate 10000 $p+p$ events at 14 TeV and draw $\\frac{\\mathrm{d} N}{\\mathrm{d}\\eta}$ and  $\\frac{1}{p_T}\\frac{\\mathrm{d} N}{\\mathrm{d}p_T}$ distributions of $p$, $\\pi^+$ and $K^+$"
   ]
  },
  {
   "cell_type": "markdown",
   "metadata": {},
   "source": [
    "* create list of particles' names in consideration\n",
    "* use dictionaries to provide labels and colors for plotting, particle names should be used as keys\n",
    "* in similar fashion initialize dictionaries of histograms (`TH1D`)\n",
    "* invoke `TH1D::Sumw2()` method on each histogram to enable calculation of Poissonian errors\n",
    "* generate events and fill histograms\n",
    "* format histograms:\n",
    "  * set markers to `ROOT.kFullCircle` for all histograms\n",
    "  * set colors according to dictionaries defined at the begening\n",
    "  * find out what is the maximal value of $y$ axis on $\\eta$ and $p_T$ plots (among all particles)\n",
    "  * scale histograms by $\\frac{1}{\\Delta x \\cdot N}$, where $\\Delta x$ is the bin width and $N$ is the number of events"
   ]
  },
  {
   "cell_type": "code",
   "execution_count": 13,
   "metadata": {
    "tags": []
   },
   "outputs": [
    {
     "name": "stdout",
     "output_type": "stream",
     "text": [
      " PYTHIA Warning in SimpleSpaceShower::pT2nextQCD: weight above unity  \n",
      " PYTHIA Error in StringFragmentation::fragment: stuck in joining  \n",
      " PYTHIA Error in Pythia::next: hadronLevel failed; try again  \n",
      " PYTHIA Warning in StringFragmentation::fragmentToJunction: bad convergence junction rest frame  \n",
      " PYTHIA Warning in Pythia::check: not quite matched particle energy/momentum/mass  \n",
      " PYTHIA Warning in Pythia::check: energy-momentum not quite conserved  \n"
     ]
    },
    {
     "name": "stderr",
     "output_type": "stream",
     "text": [
      "Warning in <TParticle::SetPdgCode>: PDG code 9941003 unknown from TDatabasePDG\n",
      "Warning in <TParticle::SetPdgCode>: PDG code 9941003 unknown from TDatabasePDG\n",
      "Warning in <TParticle::SetPdgCode>: PDG code 9941003 unknown from TDatabasePDG\n",
      "Warning in <TParticle::SetPdgCode>: PDG code 9941003 unknown from TDatabasePDG\n"
     ]
    }
   ],
   "source": [
    "nEvents=10000\n",
    "parts=[\"proton\", \"pi+\", \"K+\"]\n",
    "labels={\"proton\": \"p\", \"pi+\": \"#pi^{+}\", \"K+\": \"K^{+}\"}\n",
    "colors={\"proton\": ROOT.kBlack, \"pi+\": ROOT.kBlue, \"K+\": ROOT.kRed}\n",
    "heta={}\n",
    "hpt={}\n",
    "\n",
    "for p in parts:\n",
    "    heta[p]=ROOT.TH1D(\"eta\"+p,\"\",120,-12,12)\n",
    "    heta[p].Sumw2()\n",
    "    hpt[p]=ROOT.TH1D(\"pt\"+p,\"\",50,0,10)\n",
    "    hpt[p].Sumw2()\n",
    "\n",
    "def fillHistos(p):\n",
    "    name=p.GetName()\n",
    "    if name in parts:\n",
    "        heta[name].Fill(p.Eta())\n",
    "        hpt[name].Fill(p.Pt(),1/(p.Pt()))\n",
    "\n",
    "#generate events\n",
    "for i in range(nEvents):\n",
    "    pythia.GenerateEvent()\n",
    "    pythia.ImportParticles(particles,\"All\")\n",
    "    for p in particles:\n",
    "        if isFinal(p):\n",
    "            fillHistos(p)\n",
    "#format and normalize histograms, find ranges on y axes\n",
    "maxeta=0\n",
    "maxpt=0\n",
    "for p in parts:\n",
    "    heta[p].SetMarkerStyle(ROOT.kFullCircle)\n",
    "    heta[p].SetMarkerColor(colors[p])\n",
    "    bw=heta[p].GetBinWidth(1)\n",
    "    heta[p].Scale(1./(bw*nEvents))\n",
    "    maxeta=max(maxeta,heta[p].GetMaximum())\n",
    "    \n",
    "    hpt[p].SetMarkerStyle(ROOT.kFullCircle)\n",
    "    hpt[p].SetMarkerColor(colors[p])\n",
    "    bw=hpt[p].GetBinWidth(1)\n",
    "    hpt[p].Scale(1./(bw*nEvents))\n",
    "    maxpt=max(maxpt,hpt[p].GetMaximum())"
   ]
  },
  {
   "cell_type": "markdown",
   "metadata": {},
   "source": [
    "Now, once simuation is complete and histograms are filled we proceed to drawing them:\n",
    "* create `TCanvas` and divide it into two pads along $x$ axis\n",
    "* prepare `TLegend` (the same for both plots for simplicity, sybbols for differend kinds of particles are identical)\n",
    "* prepare *frames* for plotting (axes with correct labels and ranges)\n",
    "  * for $\\frac{1}{p_T}\\frac{\\mathrm{d} N}{\\mathrm{d}p_T}$ set logarithmic scale on $y$ axis\n",
    "* plot the histograms and and legends"
   ]
  },
  {
   "cell_type": "code",
   "execution_count": 14,
   "metadata": {},
   "outputs": [],
   "source": [
    "c_etapt = ROOT.TCanvas(\"c_etapt\",\"\",1600,600)\n",
    "c_etapt.Divide(2,1)"
   ]
  },
  {
   "cell_type": "code",
   "execution_count": 15,
   "metadata": {},
   "outputs": [
    {
     "data": {
      "text/html": [
       "\n",
       "\n",
       "<div id=\"root_plot_1645993046988\"\n",
       "     style=\"width: 1596px; height: 572px\">\n",
       "</div>\n",
       "<script>\n",
       "\n",
       "function display_root_plot_1645993046988(Core) {\n",
       "   let obj = Core.parse({\"_typename\":\"TCanvas\",\"fUniqueID\":0,\"fBits\":3342344,\"fLineColor\":1,\"fLineStyle\":1,\"fLineWidth\":1,\"fFillColor\":0,\"fFillStyle\":1001,\"fLeftMargin\":0.1,\"fRightMargin\":0.1,\"fBottomMargin\":0.1,\"fTopMargin\":0.1,\"fXfile\":2,\"fYfile\":2,\"fAfile\":1,\"fXstat\":0.99,\"fYstat\":0.99,\"fAstat\":2,\"fFrameFillColor\":0,\"fFrameLineColor\":1,\"fFrameFillStyle\":1001,\"fFrameLineStyle\":1,\"fFrameLineWidth\":1,\"fFrameBorderSize\":1,\"fFrameBorderMode\":0,\"fX1\":0,\"fY1\":0,\"fX2\":1,\"fY2\":1,\"fXtoAbsPixelk\":5e-5,\"fXtoPixelk\":5e-5,\"fXtoPixel\":1596,\"fYtoAbsPixelk\":572.00005,\"fYtoPixelk\":572.00005,\"fYtoPixel\":-572,\"fUtoAbsPixelk\":5e-5,\"fUtoPixelk\":5e-5,\"fUtoPixel\":1596,\"fVtoAbsPixelk\":572.00005,\"fVtoPixelk\":572,\"fVtoPixel\":-572,\"fAbsPixeltoXk\":0,\"fPixeltoXk\":0,\"fPixeltoX\":6.265664160401e-4,\"fAbsPixeltoYk\":1,\"fPixeltoYk\":0,\"fPixeltoY\":-0.00174825174825175,\"fXlowNDC\":0,\"fYlowNDC\":0,\"fXUpNDC\":1,\"fYUpNDC\":1,\"fWNDC\":1,\"fHNDC\":1,\"fAbsXlowNDC\":0,\"fAbsYlowNDC\":0,\"fAbsWNDC\":1,\"fAbsHNDC\":1,\"fUxmin\":0,\"fUymin\":0,\"fUxmax\":1,\"fUymax\":1,\"fTheta\":30,\"fPhi\":30,\"fAspectRatio\":0,\"fNumber\":0,\"fTickx\":0,\"fTicky\":0,\"fLogx\":0,\"fLogy\":0,\"fLogz\":0,\"fPadPaint\":0,\"fCrosshair\":0,\"fCrosshairPos\":0,\"fBorderSize\":2,\"fBorderMode\":0,\"fModified\":false,\"fGridx\":false,\"fGridy\":false,\"fAbsCoord\":false,\"fEditable\":true,\"fFixedAspectRatio\":false,\"fPrimitives\":{\"_typename\":\"TList\",\"name\":\"TList\",\"arr\":[{\"_typename\":\"TPad\",\"fUniqueID\":0,\"fBits\":9,\"fLineColor\":1,\"fLineStyle\":1,\"fLineWidth\":1,\"fFillColor\":0,\"fFillStyle\":1001,\"fLeftMargin\":0.1,\"fRightMargin\":0.1,\"fBottomMargin\":0.1,\"fTopMargin\":0.1,\"fXfile\":2,\"fYfile\":2,\"fAfile\":1,\"fXstat\":0.99,\"fYstat\":0.99,\"fAstat\":2,\"fFrameFillColor\":0,\"fFrameLineColor\":1,\"fFrameFillStyle\":1001,\"fFrameLineStyle\":1,\"fFrameLineWidth\":1,\"fFrameBorderSize\":1,\"fFrameBorderMode\":0,\"fX1\":-1.25000009313226,\"fY1\":-6.58933879018458,\"fX2\":11.2500000931323,\"fY2\":4.66066137745349,\"fXtoAbsPixelk\":92.5680542808058,\"fXtoPixelk\":76.6080546375396,\"fXtoPixel\":61.2863991438388,\"fYtoAbsPixelk\":237.94941022829,\"fYtoPixelk\":232.229410356142,\"fYtoPixel\":-49.8275548357963,\"fUtoAbsPixelk\":15.9600496432662,\"fUtoPixelk\":5e-5,\"fUtoPixel\":766.080000713468,\"fVtoAbsPixelk\":566.280050127852,\"fVtoPixelk\":560.560000255704,\"fVtoPixel\":-560.560000255704,\"fAbsPixeltoXk\":-1.51041675761614,\"fPixeltoXk\":-1.25000009313226,\"fPixeltoX\":0.0163168339789878,\"fAbsPixeltoYk\":4.77545729491318,\"fPixeltoYk\":-6.58933879018458,\"fPixeltoY\":-0.0200692167876878,\"fXlowNDC\":0.00999999977648258,\"fYlowNDC\":0.00999999977648258,\"fXUpNDC\":0.490000000223517,\"fYUpNDC\":0.990000000223517,\"fWNDC\":0.480000000447035,\"fHNDC\":0.980000000447035,\"fAbsXlowNDC\":0.00999999977648258,\"fAbsYlowNDC\":0.00999999977648258,\"fAbsWNDC\":0.480000000447035,\"fAbsHNDC\":0.980000000447035,\"fUxmin\":0,\"fUymin\":-5.46433870636555,\"fUxmax\":10,\"fUymax\":3.53566129363445,\"fTheta\":30,\"fPhi\":30,\"fAspectRatio\":0,\"fNumber\":1,\"fTickx\":0,\"fTicky\":0,\"fLogx\":0,\"fLogy\":1,\"fLogz\":0,\"fPadPaint\":0,\"fCrosshair\":0,\"fCrosshairPos\":0,\"fBorderSize\":2,\"fBorderMode\":0,\"fModified\":false,\"fGridx\":false,\"fGridy\":false,\"fAbsCoord\":false,\"fEditable\":true,\"fFixedAspectRatio\":false,\"fPrimitives\":{\"_typename\":\"TList\",\"name\":\"TList\",\"arr\":[{\"_typename\":\"TFrame\",\"fUniqueID\":0,\"fBits\":8,\"fLineColor\":1,\"fLineStyle\":1,\"fLineWidth\":1,\"fFillColor\":0,\"fFillStyle\":1001,\"fX1\":0,\"fY1\":-5.46433870636555,\"fX2\":10,\"fY2\":3.53566129363445,\"fBorderSize\":1,\"fBorderMode\":0},{\"_typename\":\"TH1F\",\"fUniqueID\":0,\"fBits\":521,\"fName\":\"hframe\",\"fTitle\":\"\",\"fLineColor\":602,\"fLineStyle\":1,\"fLineWidth\":1,\"fFillColor\":0,\"fFillStyle\":1001,\"fMarkerColor\":1,\"fMarkerStyle\":1,\"fMarkerSize\":1,\"fNcells\":1002,\"fXaxis\":{\"_typename\":\"TAxis\",\"fUniqueID\":0,\"fBits\":0,\"fName\":\"xaxis\",\"fTitle\":\"p_{T} [GeV\\/c]\",\"fNdivisions\":510,\"fAxisColor\":1,\"fLabelColor\":1,\"fLabelFont\":42,\"fLabelOffset\":0.005,\"fLabelSize\":0.035,\"fTickLength\":0.03,\"fTitleOffset\":1.5,\"fTitleSize\":0.035,\"fTitleColor\":1,\"fTitleFont\":42,\"fNbins\":1000,\"fXmin\":0,\"fXmax\":10,\"fXbins\":[],\"fFirst\":0,\"fLast\":0,\"fBits2\":0,\"fTimeDisplay\":false,\"fTimeFormat\":\"\",\"fLabels\":null,\"fModLabs\":null},\"fYaxis\":{\"_typename\":\"TAxis\",\"fUniqueID\":0,\"fBits\":0,\"fName\":\"yaxis\",\"fTitle\":\"#frac{1}{p_{T}}#frac{dN}{dp_{T}} [GeV\\/c]^{-2}\",\"fNdivisions\":510,\"fAxisColor\":1,\"fLabelColor\":1,\"fLabelFont\":42,\"fLabelOffset\":0.005,\"fLabelSize\":0.035,\"fTickLength\":0.03,\"fTitleOffset\":0,\"fTitleSize\":15,\"fTitleColor\":1,\"fTitleFont\":42,\"fNbins\":1,\"fXmin\":3.4329011143434e-6,\"fXmax\":3432.9011143434,\"fXbins\":[],\"fFirst\":0,\"fLast\":0,\"fBits2\":0,\"fTimeDisplay\":false,\"fTimeFormat\":\"\",\"fLabels\":null,\"fModLabs\":null},\"fZaxis\":{\"_typename\":\"TAxis\",\"fUniqueID\":0,\"fBits\":0,\"fName\":\"zaxis\",\"fTitle\":\"\",\"fNdivisions\":510,\"fAxisColor\":1,\"fLabelColor\":1,\"fLabelFont\":42,\"fLabelOffset\":0.005,\"fLabelSize\":0.035,\"fTickLength\":0.03,\"fTitleOffset\":1,\"fTitleSize\":0.035,\"fTitleColor\":1,\"fTitleFont\":42,\"fNbins\":1,\"fXmin\":0,\"fXmax\":1,\"fXbins\":[],\"fFirst\":0,\"fLast\":0,\"fBits2\":0,\"fTimeDisplay\":false,\"fTimeFormat\":\"\",\"fLabels\":null,\"fModLabs\":null},\"fBarOffset\":0,\"fBarWidth\":1000,\"fEntries\":0,\"fTsumw\":0,\"fTsumw2\":0,\"fTsumwx\":0,\"fTsumwx2\":0,\"fMaximum\":3432.9011143434,\"fMinimum\":3.4329011143434e-6,\"fNormFactor\":0,\"fContour\":[],\"fSumw2\":[],\"fOption\":\"\",\"fFunctions\":{\"_typename\":\"TList\",\"name\":\"TList\",\"arr\":[],\"opt\":[]},\"fBufferSize\":0,\"fBuffer\":[],\"fBinStatErrOpt\":0,\"fStatOverflows\":2,\"fArray\":[0,0,0,0,0,0,0,0,0,0,0,0,0,0,0,0,0,0,0,0,0,0,0,0,0,0,0,0,0,0,0,0,0,0,0,0,0,0,0,0,0,0,0,0,0,0,0,0,0,0,0,0,0,0,0,0,0,0,0,0,0,0,0,0,0,0,0,0,0,0,0,0,0,0,0,0,0,0,0,0,0,0,0,0,0,0,0,0,0,0,0,0,0,0,0,0,0,0,0,0,0,0,0,0,0,0,0,0,0,0,0,0,0,0,0,0,0,0,0,0,0,0,0,0,0,0,0,0,0,0,0,0,0,0,0,0,0,0,0,0,0,0,0,0,0,0,0,0,0,0,0,0,0,0,0,0,0,0,0,0,0,0,0,0,0,0,0,0,0,0,0,0,0,0,0,0,0,0,0,0,0,0,0,0,0,0,0,0,0,0,0,0,0,0,0,0,0,0,0,0,0,0,0,0,0,0,0,0,0,0,0,0,0,0,0,0,0,0,0,0,0,0,0,0,0,0,0,0,0,0,0,0,0,0,0,0,0,0,0,0,0,0,0,0,0,0,0,0,0,0,0,0,0,0,0,0,0,0,0,0,0,0,0,0,0,0,0,0,0,0,0,0,0,0,0,0,0,0,0,0,0,0,0,0,0,0,0,0,0,0,0,0,0,0,0,0,0,0,0,0,0,0,0,0,0,0,0,0,0,0,0,0,0,0,0,0,0,0,0,0,0,0,0,0,0,0,0,0,0,0,0,0,0,0,0,0,0,0,0,0,0,0,0,0,0,0,0,0,0,0,0,0,0,0,0,0,0,0,0,0,0,0,0,0,0,0,0,0,0,0,0,0,0,0,0,0,0,0,0,0,0,0,0,0,0,0,0,0,0,0,0,0,0,0,0,0,0,0,0,0,0,0,0,0,0,0,0,0,0,0,0,0,0,0,0,0,0,0,0,0,0,0,0,0,0,0,0,0,0,0,0,0,0,0,0,0,0,0,0,0,0,0,0,0,0,0,0,0,0,0,0,0,0,0,0,0,0,0,0,0,0,0,0,0,0,0,0,0,0,0,0,0,0,0,0,0,0,0,0,0,0,0,0,0,0,0,0,0,0,0,0,0,0,0,0,0,0,0,0,0,0,0,0,0,0,0,0,0,0,0,0,0,0,0,0,0,0,0,0,0,0,0,0,0,0,0,0,0,0,0,0,0,0,0,0,0,0,0,0,0,0,0,0,0,0,0,0,0,0,0,0,0,0,0,0,0,0,0,0,0,0,0,0,0,0,0,0,0,0,0,0,0,0,0,0,0,0,0,0,0,0,0,0,0,0,0,0,0,0,0,0,0,0,0,0,0,0,0,0,0,0,0,0,0,0,0,0,0,0,0,0,0,0,0,0,0,0,0,0,0,0,0,0,0,0,0,0,0,0,0,0,0,0,0,0,0,0,0,0,0,0,0,0,0,0,0,0,0,0,0,0,0,0,0,0,0,0,0,0,0,0,0,0,0,0,0,0,0,0,0,0,0,0,0,0,0,0,0,0,0,0,0,0,0,0,0,0,0,0,0,0,0,0,0,0,0,0,0,0,0,0,0,0,0,0,0,0,0,0,0,0,0,0,0,0,0,0,0,0,0,0,0,0,0,0,0,0,0,0,0,0,0,0,0,0,0,0,0,0,0,0,0,0,0,0,0,0,0,0,0,0,0,0,0,0,0,0,0,0,0,0,0,0,0,0,0,0,0,0,0,0,0,0,0,0,0,0,0,0,0,0,0,0,0,0,0,0,0,0,0,0,0,0,0,0,0,0,0,0,0,0,0,0,0,0,0,0,0,0,0,0,0,0,0,0,0,0,0,0,0,0,0,0,0,0,0,0,0,0,0,0,0,0,0,0,0,0,0,0,0,0,0,0,0,0,0,0,0,0,0,0,0,0,0,0,0,0,0,0,0,0,0,0,0,0,0,0,0,0,0,0,0,0,0,0,0,0,0,0,0,0,0,0,0,0,0,0,0,0,0,0,0,0,0,0,0,0,0,0,0,0,0,0,0,0,0,0,0,0,0,0,0,0,0,0,0,0,0,0,0,0,0,0,0,0,0,0,0,0,0,0,0,0,0,0,0,0,0,0,0,0,0,0,0,0,0,0,0,0,0,0,0,0,0,0,0,0,0,0,0,0,0,0,0,0,0,0,0,0,0,0,0,0,0,0,0,0,0,0,0,0,0,0,0,0,0,0,0,0,0,0,0,0,0,0,0,0,0,0,0,0,0]},{\"_typename\":\"TH1D\",\"fUniqueID\":0,\"fBits\":8,\"fName\":\"ptproton\",\"fTitle\":\"\",\"fLineColor\":602,\"fLineStyle\":1,\"fLineWidth\":1,\"fFillColor\":0,\"fFillStyle\":1001,\"fMarkerColor\":1,\"fMarkerStyle\":20,\"fMarkerSize\":1,\"fNcells\":52,\"fXaxis\":{\"_typename\":\"TAxis\",\"fUniqueID\":0,\"fBits\":0,\"fName\":\"xaxis\",\"fTitle\":\"\",\"fNdivisions\":510,\"fAxisColor\":1,\"fLabelColor\":1,\"fLabelFont\":42,\"fLabelOffset\":0.005,\"fLabelSize\":0.035,\"fTickLength\":0.03,\"fTitleOffset\":1,\"fTitleSize\":0.035,\"fTitleColor\":1,\"fTitleFont\":42,\"fNbins\":50,\"fXmin\":0,\"fXmax\":10,\"fXbins\":[],\"fFirst\":0,\"fLast\":0,\"fBits2\":0,\"fTimeDisplay\":false,\"fTimeFormat\":\"\",\"fLabels\":null,\"fModLabs\":null},\"fYaxis\":{\"_typename\":\"TAxis\",\"fUniqueID\":0,\"fBits\":0,\"fName\":\"yaxis\",\"fTitle\":\"\",\"fNdivisions\":510,\"fAxisColor\":1,\"fLabelColor\":1,\"fLabelFont\":42,\"fLabelOffset\":0.005,\"fLabelSize\":0.035,\"fTickLength\":0.03,\"fTitleOffset\":0,\"fTitleSize\":0.035,\"fTitleColor\":1,\"fTitleFont\":42,\"fNbins\":1,\"fXmin\":0,\"fXmax\":1,\"fXbins\":[],\"fFirst\":0,\"fLast\":0,\"fBits2\":0,\"fTimeDisplay\":false,\"fTimeFormat\":\"\",\"fLabels\":null,\"fModLabs\":null},\"fZaxis\":{\"_typename\":\"TAxis\",\"fUniqueID\":0,\"fBits\":0,\"fName\":\"zaxis\",\"fTitle\":\"\",\"fNdivisions\":510,\"fAxisColor\":1,\"fLabelColor\":1,\"fLabelFont\":42,\"fLabelOffset\":0.005,\"fLabelSize\":0.035,\"fTickLength\":0.03,\"fTitleOffset\":1,\"fTitleSize\":0.035,\"fTitleColor\":1,\"fTitleFont\":42,\"fNbins\":1,\"fXmin\":0,\"fXmax\":1,\"fXbins\":[],\"fFirst\":0,\"fLast\":0,\"fBits2\":0,\"fTimeDisplay\":false,\"fTimeFormat\":\"\",\"fLabels\":null,\"fModLabs\":null},\"fBarOffset\":0,\"fBarWidth\":1000,\"fEntries\":26629,\"fTsumw\":45.3546719089723,\"fTsumw2\":0.243057073964138,\"fTsumwx\":13.3145,\"fTsumwx2\":6.6451219421898,\"fMaximum\":-1111,\"fMinimum\":-1111,\"fNormFactor\":0,\"fContour\":[],\"fSumw2\":[0,0.207745829202969,0.0246899732580202,0.00755407179473922,0.00215617360257246,6.1987817316364e-4,1.85403670634464e-4,6.41758162880128e-5,2.25506209862034e-5,9.44675090233379e-6,4.09943534895804e-6,2.27808301064754e-6,1.53247360045579e-6,4.77597404068194e-7,3.14771480966536e-7,2.95974369671028e-7,2.40994511177011e-7,2.05576627777459e-7,4.0000732605071e-8,3.59613483591523e-8,0,1.46659673979755e-8,1.35243336209489e-8,0,0,0,0,9.21175212452823e-9,8.1485072110419e-9,0,0,0,0,0,0,0,0,4.65486734503527e-9,0,0,0,0,0,0,0,0,0,0,0,0,0,0],\"fOption\":\"\",\"fFunctions\":{\"_typename\":\"TList\",\"name\":\"TList\",\"arr\":[],\"opt\":[]},\"fBufferSize\":0,\"fBuffer\":[],\"fBinStatErrOpt\":0,\"fStatOverflows\":2,\"fArray\":[0,19.538951895491,13.8334244682119,7.25425311979493,2.93354610515578,1.09014879409531,0.39947661035395,0.164215090100678,0.0671043578828238,0.0319238589337529,0.0154128335578829,0.0095428453995308,0.00700000219682582,0.00239358453167202,0.00168272413109104,0.0017200213069164,0.00147265157712375,0.00136010879434225,2.82817876276069e-4,2.68148741404363e-4,0,1.21103127118896e-4,1.16294168473526e-4,0,0,0,0,9.59778730985857e-5,9.02690822543461e-5,0,0,0,0,0,0,0,0,6.82265882558645e-5,0,0,0,0,0,0,0,0,0,0,0,0,0,0]},{\"_typename\":\"TH1D\",\"fUniqueID\":0,\"fBits\":8,\"fName\":\"ptpi+\",\"fTitle\":\"\",\"fLineColor\":602,\"fLineStyle\":1,\"fLineWidth\":1,\"fFillColor\":0,\"fFillStyle\":1001,\"fMarkerColor\":600,\"fMarkerStyle\":20,\"fMarkerSize\":1,\"fNcells\":52,\"fXaxis\":{\"_typename\":\"TAxis\",\"fUniqueID\":0,\"fBits\":0,\"fName\":\"xaxis\",\"fTitle\":\"\",\"fNdivisions\":510,\"fAxisColor\":1,\"fLabelColor\":1,\"fLabelFont\":42,\"fLabelOffset\":0.005,\"fLabelSize\":0.035,\"fTickLength\":0.03,\"fTitleOffset\":1,\"fTitleSize\":0.035,\"fTitleColor\":1,\"fTitleFont\":42,\"fNbins\":50,\"fXmin\":0,\"fXmax\":10,\"fXbins\":[],\"fFirst\":0,\"fLast\":0,\"fBits2\":0,\"fTimeDisplay\":false,\"fTimeFormat\":\"\",\"fLabels\":null,\"fModLabs\":null},\"fYaxis\":{\"_typename\":\"TAxis\",\"fUniqueID\":0,\"fBits\":0,\"fName\":\"yaxis\",\"fTitle\":\"\",\"fNdivisions\":510,\"fAxisColor\":1,\"fLabelColor\":1,\"fLabelFont\":42,\"fLabelOffset\":0.005,\"fLabelSize\":0.035,\"fTickLength\":0.03,\"fTitleOffset\":0,\"fTitleSize\":0.035,\"fTitleColor\":1,\"fTitleFont\":42,\"fNbins\":1,\"fXmin\":0,\"fXmax\":1,\"fXbins\":[],\"fFirst\":0,\"fLast\":0,\"fBits2\":0,\"fTimeDisplay\":false,\"fTimeFormat\":\"\",\"fLabels\":null,\"fModLabs\":null},\"fZaxis\":{\"_typename\":\"TAxis\",\"fUniqueID\":0,\"fBits\":0,\"fName\":\"zaxis\",\"fTitle\":\"\",\"fNdivisions\":510,\"fAxisColor\":1,\"fLabelColor\":1,\"fLabelFont\":42,\"fLabelOffset\":0.005,\"fLabelSize\":0.035,\"fTickLength\":0.03,\"fTitleOffset\":1,\"fTitleSize\":0.035,\"fTitleColor\":1,\"fTitleFont\":42,\"fNbins\":1,\"fXmin\":0,\"fXmax\":1,\"fXbins\":[],\"fFirst\":0,\"fLast\":0,\"fBits2\":0,\"fTimeDisplay\":false,\"fTimeFormat\":\"\",\"fLabels\":null,\"fModLabs\":null},\"fBarOffset\":0,\"fBarWidth\":1000,\"fEntries\":223544,\"fTsumw\":556.467097126893,\"fTsumw2\":10.5717714977452,\"fTsumwx\":111.772,\"fTsumwx2\":42.2149210880767,\"fMaximum\":-1111,\"fMinimum\":-1111,\"fNormFactor\":0,\"fContour\":[],\"fSumw2\":[0,10.2438845043585,0.262722522673674,0.0502628141952074,0.0111599070395914,0.0026654770081795,6.81815987252954e-4,2.27056344753315e-4,9.00934391218165e-5,3.68316690621887e-5,1.71366951048843e-5,1.03833541605604e-5,5.01291302144533e-6,3.23018439002255e-6,1.64875057426957e-6,1.09432838106355e-6,8.82478963950696e-7,3.43631364144583e-7,3.51693877064395e-7,1.11197805770213e-7,8.37607249284736e-8,7.30178411590227e-8,1.39506500254371e-8,2.50423750939805e-8,3.39827084056624e-8,1.01111800571731e-8,9.7801388963446e-9,8.59707553012414e-9,8.26794538529409e-9,0,0,0,0,5.98609063708623e-9,0,0,0,0,0,4.25918968218778e-9,0,0,0,0,0,0,3.04653677077886e-9,0,0,0,0,0],\"fOption\":\"\",\"fFunctions\":{\"_typename\":\"TList\",\"name\":\"TList\",\"arr\":[],\"opt\":[]},\"fBufferSize\":0,\"fBuffer\":[],\"fBinStatErrOpt\":0,\"fStatOverflows\":2,\"fArray\":[0,343.29011143434,143.004351706519,47.7852024870918,15.0863126487451,4.67611144842493,1.47375039786016,0.583033715854975,0.267939704765544,0.124303508642223,0.0647630164774915,0.0434541376535756,0.0229343000437109,0.0160713535292203,0.00889341738462608,0.00636197367748448,0.00547690795338486,0.00227007200699187,0.00244477967349178,8.16686641423157e-4,6.4713215052892e-4,6.04179640957545e-4,1.18112869855224e-4,2.23792571744636e-4,3.19287025595577e-4,1.00554363690359e-4,9.88945847675423e-5,9.27204159294173e-5,9.09282430562369e-5,0,0,0,0,7.73698302769641e-5,0,0,0,0,0,6.52624676378987e-5,0,0,0,0,0,0,5.51954415760836e-5,0,0,0,0,0]},{\"_typename\":\"TH1D\",\"fUniqueID\":0,\"fBits\":8,\"fName\":\"ptK+\",\"fTitle\":\"\",\"fLineColor\":602,\"fLineStyle\":1,\"fLineWidth\":1,\"fFillColor\":0,\"fFillStyle\":1001,\"fMarkerColor\":632,\"fMarkerStyle\":20,\"fMarkerSize\":1,\"fNcells\":52,\"fXaxis\":{\"_typename\":\"TAxis\",\"fUniqueID\":0,\"fBits\":0,\"fName\":\"xaxis\",\"fTitle\":\"\",\"fNdivisions\":510,\"fAxisColor\":1,\"fLabelColor\":1,\"fLabelFont\":42,\"fLabelOffset\":0.005,\"fLabelSize\":0.035,\"fTickLength\":0.03,\"fTitleOffset\":1,\"fTitleSize\":0.035,\"fTitleColor\":1,\"fTitleFont\":42,\"fNbins\":50,\"fXmin\":0,\"fXmax\":10,\"fXbins\":[],\"fFirst\":0,\"fLast\":0,\"fBits2\":0,\"fTimeDisplay\":false,\"fTimeFormat\":\"\",\"fLabels\":null,\"fModLabs\":null},\"fYaxis\":{\"_typename\":\"TAxis\",\"fUniqueID\":0,\"fBits\":0,\"fName\":\"yaxis\",\"fTitle\":\"\",\"fNdivisions\":510,\"fAxisColor\":1,\"fLabelColor\":1,\"fLabelFont\":42,\"fLabelOffset\":0.005,\"fLabelSize\":0.035,\"fTickLength\":0.03,\"fTitleOffset\":0,\"fTitleSize\":0.035,\"fTitleColor\":1,\"fTitleFont\":42,\"fNbins\":1,\"fXmin\":0,\"fXmax\":1,\"fXbins\":[],\"fFirst\":0,\"fLast\":0,\"fBits2\":0,\"fTimeDisplay\":false,\"fTimeFormat\":\"\",\"fLabels\":null,\"fModLabs\":null},\"fZaxis\":{\"_typename\":\"TAxis\",\"fUniqueID\":0,\"fBits\":0,\"fName\":\"zaxis\",\"fTitle\":\"\",\"fNdivisions\":510,\"fAxisColor\":1,\"fLabelColor\":1,\"fLabelFont\":42,\"fLabelOffset\":0.005,\"fLabelSize\":0.035,\"fTickLength\":0.03,\"fTitleOffset\":1,\"fTitleSize\":0.035,\"fTitleColor\":1,\"fTitleFont\":42,\"fNbins\":1,\"fXmin\":0,\"fXmax\":1,\"fXbins\":[],\"fFirst\":0,\"fLast\":0,\"fBits2\":0,\"fTimeDisplay\":false,\"fTimeFormat\":\"\",\"fLabels\":null,\"fModLabs\":null},\"fBarOffset\":0,\"fBarWidth\":1000,\"fEntries\":23218,\"fTsumw\":41.9732397877225,\"fTsumw2\":0.257756507388017,\"fTsumwx\":11.6085,\"fTsumwx2\":5.58405954674159,\"fMaximum\":-1111,\"fMinimum\":-1111,\"fNormFactor\":0,\"fContour\":[],\"fSumw2\":[0,0.225977810279235,0.0230608080607272,0.00639685155463204,0.00162878727526952,4.64119115316289e-4,1.40336355601539e-4,4.5863813718577e-5,2.21928360263331e-5,8.92704200125393e-6,4.4219804448613e-6,2.41702406181437e-6,1.48503163301583e-6,6.20855112905773e-7,7.26187206861323e-7,5.31539597815444e-7,1.06831569645189e-7,2.49929779875981e-7,7.97306248456434e-8,3.59336549181827e-8,1.680806792924e-8,3.08956605053131e-8,4.13572964731217e-8,2.42671040935443e-8,1.12108202963765e-8,0,0,0,0,0,0,6.82579901532367e-9,0,0,0,0,0,4.64705544726116e-9,0,0,0,0,0,0,0,0,0,0,0,0,0,4.65543121416047e-10],\"fOption\":\"\",\"fFunctions\":{\"_typename\":\"TList\",\"name\":\"TList\",\"arr\":[],\"opt\":[]},\"fBufferSize\":0,\"fBuffer\":[],\"fBinStatErrOpt\":0,\"fStatOverflows\":2,\"fArray\":[0,19.3798172628338,12.8575166224855,6.14162488912655,2.21311454508543,0.816170983244663,0.303265366165569,0.117760274875798,0.065738279548951,0.0301606505245253,0.0168146000474117,0.0100728442423753,0.00678330542160114,0.00305122774626302,0.00390452324078566,0.00309267745170659,6.53677374091117e-4,0.00165786996559594,5.64690371990044e-4,2.68079709497024e-4,1.29645932945234e-4,2.48578367814174e-4,3.52220581750098e-4,2.20304508373721e-4,1.0588116119677e-4,0,0,0,0,0,0,8.26183939284931e-5,0,0,0,0,0,6.81693145576597e-5,0,0,0,0,0,0,0,0,0,0,0,0,0,2.157644830402e-5]},{\"_typename\":\"TLegend\",\"fUniqueID\":0,\"fBits\":8,\"fLineColor\":1,\"fLineStyle\":1,\"fLineWidth\":1,\"fFillColor\":0,\"fFillStyle\":1001,\"fX1\":9.00000013411046,\"fY1\":1.32945313261938,\"fX2\":12.0000001788139,\"fY2\":1.63625001219101,\"fX1NDC\":0.8,\"fY1NDC\":0.75,\"fX2NDC\":0.9,\"fY2NDC\":0.9,\"fBorderSize\":1,\"fInit\":1,\"fShadowColor\":1,\"fCornerRadius\":0,\"fOption\":\"brNDC\",\"fName\":\"TPave\",\"fTextAngle\":0,\"fTextSize\":0,\"fTextAlign\":12,\"fTextColor\":1,\"fTextFont\":42,\"fPrimitives\":{\"_typename\":\"TList\",\"name\":\"TList\",\"arr\":[{\"_typename\":\"TLegendEntry\",\"fUniqueID\":0,\"fBits\":0,\"fTextAngle\":0,\"fTextSize\":0,\"fTextAlign\":0,\"fTextColor\":0,\"fTextFont\":42,\"fLineColor\":602,\"fLineStyle\":1,\"fLineWidth\":1,\"fFillColor\":0,\"fFillStyle\":1001,\"fMarkerColor\":1,\"fMarkerStyle\":20,\"fMarkerSize\":1,\"fObject\":{\"$ref\":10},\"fLabel\":\"p\",\"fOption\":\"lpf\"},{\"_typename\":\"TLegendEntry\",\"fUniqueID\":0,\"fBits\":0,\"fTextAngle\":0,\"fTextSize\":0,\"fTextAlign\":0,\"fTextColor\":0,\"fTextFont\":42,\"fLineColor\":602,\"fLineStyle\":1,\"fLineWidth\":1,\"fFillColor\":0,\"fFillStyle\":1001,\"fMarkerColor\":600,\"fMarkerStyle\":20,\"fMarkerSize\":1,\"fObject\":{\"$ref\":15},\"fLabel\":\"#pi^{+}\",\"fOption\":\"lpf\"},{\"_typename\":\"TLegendEntry\",\"fUniqueID\":0,\"fBits\":0,\"fTextAngle\":0,\"fTextSize\":0,\"fTextAlign\":0,\"fTextColor\":0,\"fTextFont\":42,\"fLineColor\":602,\"fLineStyle\":1,\"fLineWidth\":1,\"fFillColor\":0,\"fFillStyle\":1001,\"fMarkerColor\":632,\"fMarkerStyle\":20,\"fMarkerSize\":1,\"fObject\":{\"$ref\":20},\"fLabel\":\"K^{+}\",\"fOption\":\"lpf\"}],\"opt\":[\"lpf\",\"lpf\",\"lpf\"]},\"fEntrySeparation\":0.1,\"fMargin\":0.25,\"fNColumns\":1,\"fColumnSeparation\":0}],\"opt\":[\"\",\"\",\"p same\",\"p same\",\"p same\",\"\"]},\"fExecs\":{\"_typename\":\"TList\",\"name\":\"TList\",\"arr\":[],\"opt\":[]},\"fName\":\"c_etapt_1\",\"fTitle\":\"c_etapt_1\",\"fNumPaletteColor\":0,\"fNextPaletteColor\":0},{\"_typename\":\"TPad\",\"fUniqueID\":0,\"fBits\":9,\"fLineColor\":1,\"fLineStyle\":1,\"fLineWidth\":1,\"fFillColor\":0,\"fFillStyle\":1001,\"fLeftMargin\":0.1,\"fRightMargin\":0.1,\"fBottomMargin\":0.1,\"fTopMargin\":0.1,\"fXfile\":2,\"fYfile\":2,\"fAfile\":1,\"fXstat\":0.99,\"fYstat\":0.99,\"fAstat\":2,\"fFrameFillColor\":0,\"fFrameLineColor\":1,\"fFrameFillStyle\":1001,\"fFrameLineStyle\":1,\"fFrameLineWidth\":1,\"fFrameBorderSize\":1,\"fFrameBorderMode\":0,\"fX1\":-15.0000002235174,\"fY1\":-0.204531265238767,\"fX2\":15.0000002235174,\"fY2\":1.84078126523877,\"fXtoAbsPixelk\":1197.00005,\"fXtoPixelk\":383.040050356734,\"fXtoPixel\":25.5359996432662,\"fYtoAbsPixelk\":510.224046761083,\"fYtoPixelk\":504.504046888935,\"fYtoPixel\":-274.070584276343,\"fUtoAbsPixelk\":813.960049643266,\"fUtoPixelk\":5e-5,\"fUtoPixel\":766.080000713468,\"fVtoAbsPixelk\":566.280050127852,\"fVtoPixelk\":560.560000255704,\"fVtoPixel\":-560.560000255704,\"fAbsPixeltoXk\":-46.8750006548362,\"fPixeltoXk\":-15.0000002235174,\"fPixeltoX\":0.0391604015495708,\"fAbsPixeltoYk\":1.86165180078803,\"fPixeltoYk\":-0.204531265238767,\"fPixeltoY\":-0.00364869510765047,\"fXlowNDC\":0.509999999776483,\"fYlowNDC\":0.00999999977648258,\"fXUpNDC\":0.990000000223517,\"fYUpNDC\":0.990000000223517,\"fWNDC\":0.480000000447035,\"fHNDC\":0.980000000447035,\"fAbsXlowNDC\":0.509999999776483,\"fAbsYlowNDC\":0.00999999977648258,\"fAbsWNDC\":0.480000000447035,\"fAbsHNDC\":0.980000000447035,\"fUxmin\":-12,\"fUymin\":0,\"fUxmax\":12,\"fUymax\":1.63625,\"fTheta\":30,\"fPhi\":30,\"fAspectRatio\":0,\"fNumber\":2,\"fTickx\":0,\"fTicky\":0,\"fLogx\":0,\"fLogy\":0,\"fLogz\":0,\"fPadPaint\":0,\"fCrosshair\":0,\"fCrosshairPos\":0,\"fBorderSize\":2,\"fBorderMode\":0,\"fModified\":false,\"fGridx\":false,\"fGridy\":false,\"fAbsCoord\":false,\"fEditable\":true,\"fFixedAspectRatio\":false,\"fPrimitives\":{\"_typename\":\"TList\",\"name\":\"TList\",\"arr\":[{\"_typename\":\"TFrame\",\"fUniqueID\":0,\"fBits\":8,\"fLineColor\":1,\"fLineStyle\":1,\"fLineWidth\":1,\"fFillColor\":0,\"fFillStyle\":1001,\"fX1\":-12,\"fY1\":0,\"fX2\":12,\"fY2\":1.63625,\"fBorderSize\":1,\"fBorderMode\":0},{\"_typename\":\"TH1F\",\"fUniqueID\":0,\"fBits\":521,\"fName\":\"hframe\",\"fTitle\":\"\",\"fLineColor\":602,\"fLineStyle\":1,\"fLineWidth\":1,\"fFillColor\":0,\"fFillStyle\":1001,\"fMarkerColor\":1,\"fMarkerStyle\":1,\"fMarkerSize\":1,\"fNcells\":1002,\"fXaxis\":{\"_typename\":\"TAxis\",\"fUniqueID\":0,\"fBits\":0,\"fName\":\"xaxis\",\"fTitle\":\"#eta\",\"fNdivisions\":510,\"fAxisColor\":1,\"fLabelColor\":1,\"fLabelFont\":42,\"fLabelOffset\":0.005,\"fLabelSize\":0.035,\"fTickLength\":0.03,\"fTitleOffset\":1,\"fTitleSize\":0.035,\"fTitleColor\":1,\"fTitleFont\":42,\"fNbins\":1000,\"fXmin\":-12,\"fXmax\":12,\"fXbins\":[],\"fFirst\":0,\"fLast\":0,\"fBits2\":0,\"fTimeDisplay\":false,\"fTimeFormat\":\"\",\"fLabels\":null,\"fModLabs\":null},\"fYaxis\":{\"_typename\":\"TAxis\",\"fUniqueID\":0,\"fBits\":0,\"fName\":\"yaxis\",\"fTitle\":\"#frac{dN}{d#eta} \",\"fNdivisions\":510,\"fAxisColor\":1,\"fLabelColor\":1,\"fLabelFont\":42,\"fLabelOffset\":0.005,\"fLabelSize\":0.035,\"fTickLength\":0.03,\"fTitleOffset\":0,\"fTitleSize\":15,\"fTitleColor\":1,\"fTitleFont\":42,\"fNbins\":1,\"fXmin\":0,\"fXmax\":1.63625,\"fXbins\":[],\"fFirst\":0,\"fLast\":0,\"fBits2\":0,\"fTimeDisplay\":false,\"fTimeFormat\":\"\",\"fLabels\":null,\"fModLabs\":null},\"fZaxis\":{\"_typename\":\"TAxis\",\"fUniqueID\":0,\"fBits\":0,\"fName\":\"zaxis\",\"fTitle\":\"\",\"fNdivisions\":510,\"fAxisColor\":1,\"fLabelColor\":1,\"fLabelFont\":42,\"fLabelOffset\":0.005,\"fLabelSize\":0.035,\"fTickLength\":0.03,\"fTitleOffset\":1,\"fTitleSize\":0.035,\"fTitleColor\":1,\"fTitleFont\":42,\"fNbins\":1,\"fXmin\":0,\"fXmax\":1,\"fXbins\":[],\"fFirst\":0,\"fLast\":0,\"fBits2\":0,\"fTimeDisplay\":false,\"fTimeFormat\":\"\",\"fLabels\":null,\"fModLabs\":null},\"fBarOffset\":0,\"fBarWidth\":1000,\"fEntries\":0,\"fTsumw\":0,\"fTsumw2\":0,\"fTsumwx\":0,\"fTsumwx2\":0,\"fMaximum\":1.63625,\"fMinimum\":0,\"fNormFactor\":0,\"fContour\":[],\"fSumw2\":[],\"fOption\":\"\",\"fFunctions\":{\"_typename\":\"TList\",\"name\":\"TList\",\"arr\":[],\"opt\":[]},\"fBufferSize\":0,\"fBuffer\":[],\"fBinStatErrOpt\":0,\"fStatOverflows\":2,\"fArray\":[0,0,0,0,0,0,0,0,0,0,0,0,0,0,0,0,0,0,0,0,0,0,0,0,0,0,0,0,0,0,0,0,0,0,0,0,0,0,0,0,0,0,0,0,0,0,0,0,0,0,0,0,0,0,0,0,0,0,0,0,0,0,0,0,0,0,0,0,0,0,0,0,0,0,0,0,0,0,0,0,0,0,0,0,0,0,0,0,0,0,0,0,0,0,0,0,0,0,0,0,0,0,0,0,0,0,0,0,0,0,0,0,0,0,0,0,0,0,0,0,0,0,0,0,0,0,0,0,0,0,0,0,0,0,0,0,0,0,0,0,0,0,0,0,0,0,0,0,0,0,0,0,0,0,0,0,0,0,0,0,0,0,0,0,0,0,0,0,0,0,0,0,0,0,0,0,0,0,0,0,0,0,0,0,0,0,0,0,0,0,0,0,0,0,0,0,0,0,0,0,0,0,0,0,0,0,0,0,0,0,0,0,0,0,0,0,0,0,0,0,0,0,0,0,0,0,0,0,0,0,0,0,0,0,0,0,0,0,0,0,0,0,0,0,0,0,0,0,0,0,0,0,0,0,0,0,0,0,0,0,0,0,0,0,0,0,0,0,0,0,0,0,0,0,0,0,0,0,0,0,0,0,0,0,0,0,0,0,0,0,0,0,0,0,0,0,0,0,0,0,0,0,0,0,0,0,0,0,0,0,0,0,0,0,0,0,0,0,0,0,0,0,0,0,0,0,0,0,0,0,0,0,0,0,0,0,0,0,0,0,0,0,0,0,0,0,0,0,0,0,0,0,0,0,0,0,0,0,0,0,0,0,0,0,0,0,0,0,0,0,0,0,0,0,0,0,0,0,0,0,0,0,0,0,0,0,0,0,0,0,0,0,0,0,0,0,0,0,0,0,0,0,0,0,0,0,0,0,0,0,0,0,0,0,0,0,0,0,0,0,0,0,0,0,0,0,0,0,0,0,0,0,0,0,0,0,0,0,0,0,0,0,0,0,0,0,0,0,0,0,0,0,0,0,0,0,0,0,0,0,0,0,0,0,0,0,0,0,0,0,0,0,0,0,0,0,0,0,0,0,0,0,0,0,0,0,0,0,0,0,0,0,0,0,0,0,0,0,0,0,0,0,0,0,0,0,0,0,0,0,0,0,0,0,0,0,0,0,0,0,0,0,0,0,0,0,0,0,0,0,0,0,0,0,0,0,0,0,0,0,0,0,0,0,0,0,0,0,0,0,0,0,0,0,0,0,0,0,0,0,0,0,0,0,0,0,0,0,0,0,0,0,0,0,0,0,0,0,0,0,0,0,0,0,0,0,0,0,0,0,0,0,0,0,0,0,0,0,0,0,0,0,0,0,0,0,0,0,0,0,0,0,0,0,0,0,0,0,0,0,0,0,0,0,0,0,0,0,0,0,0,0,0,0,0,0,0,0,0,0,0,0,0,0,0,0,0,0,0,0,0,0,0,0,0,0,0,0,0,0,0,0,0,0,0,0,0,0,0,0,0,0,0,0,0,0,0,0,0,0,0,0,0,0,0,0,0,0,0,0,0,0,0,0,0,0,0,0,0,0,0,0,0,0,0,0,0,0,0,0,0,0,0,0,0,0,0,0,0,0,0,0,0,0,0,0,0,0,0,0,0,0,0,0,0,0,0,0,0,0,0,0,0,0,0,0,0,0,0,0,0,0,0,0,0,0,0,0,0,0,0,0,0,0,0,0,0,0,0,0,0,0,0,0,0,0,0,0,0,0,0,0,0,0,0,0,0,0,0,0,0,0,0,0,0,0,0,0,0,0,0,0,0,0,0,0,0,0,0,0,0,0,0,0,0,0,0,0,0,0,0,0,0,0,0,0,0,0,0,0,0,0,0,0,0,0,0,0,0,0,0,0,0,0,0,0,0,0,0,0,0,0,0,0,0,0,0,0,0,0,0,0,0,0,0,0,0,0,0,0,0,0,0,0,0,0,0,0,0,0,0,0,0,0,0,0,0,0,0,0,0,0,0,0,0,0,0,0,0,0,0,0,0,0,0,0,0,0,0,0,0,0,0,0,0,0,0,0,0,0,0,0,0,0,0,0,0,0,0,0,0,0,0,0,0,0,0,0,0,0,0,0,0,0,0,0,0,0,0,0,0,0,0,0,0,0,0,0,0,0,0,0,0,0,0,0,0,0,0,0,0,0,0,0,0,0,0,0,0,0,0,0,0,0,0,0,0,0,0,0,0,0,0,0,0,0,0,0,0,0,0,0]},{\"_typename\":\"TH1D\",\"fUniqueID\":0,\"fBits\":8,\"fName\":\"etaproton\",\"fTitle\":\"\",\"fLineColor\":602,\"fLineStyle\":1,\"fLineWidth\":1,\"fFillColor\":0,\"fFillStyle\":1001,\"fMarkerColor\":1,\"fMarkerStyle\":20,\"fMarkerSize\":1,\"fNcells\":122,\"fXaxis\":{\"_typename\":\"TAxis\",\"fUniqueID\":0,\"fBits\":0,\"fName\":\"xaxis\",\"fTitle\":\"\",\"fNdivisions\":510,\"fAxisColor\":1,\"fLabelColor\":1,\"fLabelFont\":42,\"fLabelOffset\":0.005,\"fLabelSize\":0.035,\"fTickLength\":0.03,\"fTitleOffset\":1,\"fTitleSize\":0.035,\"fTitleColor\":1,\"fTitleFont\":42,\"fNbins\":120,\"fXmin\":-12,\"fXmax\":12,\"fXbins\":[],\"fFirst\":0,\"fLast\":0,\"fBits2\":0,\"fTimeDisplay\":false,\"fTimeFormat\":\"\",\"fLabels\":null,\"fModLabs\":null},\"fYaxis\":{\"_typename\":\"TAxis\",\"fUniqueID\":0,\"fBits\":0,\"fName\":\"yaxis\",\"fTitle\":\"\",\"fNdivisions\":510,\"fAxisColor\":1,\"fLabelColor\":1,\"fLabelFont\":42,\"fLabelOffset\":0.005,\"fLabelSize\":0.035,\"fTickLength\":0.03,\"fTitleOffset\":0,\"fTitleSize\":0.035,\"fTitleColor\":1,\"fTitleFont\":42,\"fNbins\":1,\"fXmin\":0,\"fXmax\":1,\"fXbins\":[],\"fFirst\":0,\"fLast\":0,\"fBits2\":0,\"fTimeDisplay\":false,\"fTimeFormat\":\"\",\"fLabels\":null,\"fModLabs\":null},\"fZaxis\":{\"_typename\":\"TAxis\",\"fUniqueID\":0,\"fBits\":0,\"fName\":\"zaxis\",\"fTitle\":\"\",\"fNdivisions\":510,\"fAxisColor\":1,\"fLabelColor\":1,\"fLabelFont\":42,\"fLabelOffset\":0.005,\"fLabelSize\":0.035,\"fTickLength\":0.03,\"fTitleOffset\":1,\"fTitleSize\":0.035,\"fTitleColor\":1,\"fTitleFont\":42,\"fNbins\":1,\"fXmin\":0,\"fXmax\":1,\"fXbins\":[],\"fFirst\":0,\"fLast\":0,\"fBits2\":0,\"fTimeDisplay\":false,\"fTimeFormat\":\"\",\"fLabels\":null,\"fModLabs\":null},\"fBarOffset\":0,\"fBarWidth\":1000,\"fEntries\":26629,\"fTsumw\":13.2975,\"fTsumw2\":0.00664875,\"fTsumwx\":-0.478142024663932,\"fTsumwx2\":662.782623095429,\"fMaximum\":-1111,\"fMinimum\":-1111,\"fNormFactor\":0,\"fContour\":[],\"fSumw2\":[4e-6,2.75e-6,2e-6,4.75e-6,5.5e-6,1.45e-5,1.875e-5,2.225e-5,3.75e-5,4.55e-5,6.325e-5,7.75e-5,1.065e-4,1.2475e-4,1.5425e-4,1.405e-4,1.525e-4,1.24e-4,1.0825e-4,1e-4,8.125e-5,6.625e-5,6.875e-5,5.1e-5,5.975e-5,5.6e-5,5.2e-5,4.825e-5,5.325e-5,5.625e-5,5.275e-5,5.725e-5,5.5e-5,5.5e-5,5.05e-5,5.6e-5,5.25e-5,5.6e-5,5.075e-5,4.5e-5,5.225e-5,5.575e-5,5.625e-5,5.575e-5,5.8e-5,5.225e-5,5.625e-5,4.775e-5,5.5e-5,4.825e-5,4.6e-5,4.325e-5,4.275e-5,4.125e-5,4e-5,3.425e-5,2.8e-5,2.975e-5,2.675e-5,2.225e-5,2.375e-5,2.25e-5,2.6e-5,2.55e-5,2.725e-5,2.625e-5,3.15e-5,3.375e-5,3.85e-5,3.725e-5,4.55e-5,4.475e-5,5.1e-5,5.375e-5,5.4e-5,5.2e-5,5.5e-5,6.275e-5,5.15e-5,5.075e-5,5.825e-5,5.625e-5,5.225e-5,5.35e-5,5.6e-5,5.1e-5,5.65e-5,5.275e-5,5.6e-5,5.575e-5,5.725e-5,4.575e-5,5.125e-5,4.575e-5,4.825e-5,5.175e-5,5.3e-5,5.1e-5,5.8e-5,6.425e-5,6.95e-5,8.475e-5,8.9e-5,1.075e-4,1.2525e-4,1.3475e-4,1.64e-4,1.4125e-4,1.2275e-4,1.005e-4,8.25e-5,6.75e-5,4.775e-5,3.475e-5,2.475e-5,1.35e-5,1.325e-5,6.75e-6,5.25e-6,3e-6,2.5e-6,4.5e-6],\"fOption\":\"\",\"fFunctions\":{\"_typename\":\"TList\",\"name\":\"TList\",\"arr\":[],\"opt\":[]},\"fBufferSize\":0,\"fBuffer\":[],\"fBinStatErrOpt\":0,\"fStatOverflows\":2,\"fArray\":[0.008,0.0055,0.004,0.0095,0.011,0.029,0.0375,0.0445,0.075,0.091,0.1265,0.155,0.213,0.2495,0.3085,0.281,0.305,0.248,0.2165,0.2,0.1625,0.1325,0.1375,0.102,0.1195,0.112,0.104,0.0965,0.1065,0.1125,0.1055,0.1145,0.11,0.11,0.101,0.112,0.105,0.112,0.1015,0.09,0.1045,0.1115,0.1125,0.1115,0.116,0.1045,0.1125,0.0955,0.11,0.0965,0.092,0.0865,0.0855,0.0825,0.08,0.0685,0.056,0.0595,0.0535,0.0445,0.0475,0.045,0.052,0.051,0.0545,0.0525,0.063,0.0675,0.077,0.0745,0.091,0.0895,0.102,0.1075,0.108,0.104,0.11,0.1255,0.103,0.1015,0.1165,0.1125,0.1045,0.107,0.112,0.102,0.113,0.1055,0.112,0.1115,0.1145,0.0915,0.1025,0.0915,0.0965,0.1035,0.106,0.102,0.116,0.1285,0.139,0.1695,0.178,0.215,0.2505,0.2695,0.328,0.2825,0.2455,0.201,0.165,0.135,0.0955,0.0695,0.0495,0.027,0.0265,0.0135,0.0105,0.006,0.005,0.009]},{\"_typename\":\"TH1D\",\"fUniqueID\":0,\"fBits\":8,\"fName\":\"etapi+\",\"fTitle\":\"\",\"fLineColor\":602,\"fLineStyle\":1,\"fLineWidth\":1,\"fFillColor\":0,\"fFillStyle\":1001,\"fMarkerColor\":600,\"fMarkerStyle\":20,\"fMarkerSize\":1,\"fNcells\":122,\"fXaxis\":{\"_typename\":\"TAxis\",\"fUniqueID\":0,\"fBits\":0,\"fName\":\"xaxis\",\"fTitle\":\"\",\"fNdivisions\":510,\"fAxisColor\":1,\"fLabelColor\":1,\"fLabelFont\":42,\"fLabelOffset\":0.005,\"fLabelSize\":0.035,\"fTickLength\":0.03,\"fTitleOffset\":1,\"fTitleSize\":0.035,\"fTitleColor\":1,\"fTitleFont\":42,\"fNbins\":120,\"fXmin\":-12,\"fXmax\":12,\"fXbins\":[],\"fFirst\":0,\"fLast\":0,\"fBits2\":0,\"fTimeDisplay\":false,\"fTimeFormat\":\"\",\"fLabels\":null,\"fModLabs\":null},\"fYaxis\":{\"_typename\":\"TAxis\",\"fUniqueID\":0,\"fBits\":0,\"fName\":\"yaxis\",\"fTitle\":\"\",\"fNdivisions\":510,\"fAxisColor\":1,\"fLabelColor\":1,\"fLabelFont\":42,\"fLabelOffset\":0.005,\"fLabelSize\":0.035,\"fTickLength\":0.03,\"fTitleOffset\":0,\"fTitleSize\":0.035,\"fTitleColor\":1,\"fTitleFont\":42,\"fNbins\":1,\"fXmin\":0,\"fXmax\":1,\"fXbins\":[],\"fFirst\":0,\"fLast\":0,\"fBits2\":0,\"fTimeDisplay\":false,\"fTimeFormat\":\"\",\"fLabels\":null,\"fModLabs\":null},\"fZaxis\":{\"_typename\":\"TAxis\",\"fUniqueID\":0,\"fBits\":0,\"fName\":\"zaxis\",\"fTitle\":\"\",\"fNdivisions\":510,\"fAxisColor\":1,\"fLabelColor\":1,\"fLabelFont\":42,\"fLabelOffset\":0.005,\"fLabelSize\":0.035,\"fTickLength\":0.03,\"fTitleOffset\":1,\"fTitleSize\":0.035,\"fTitleColor\":1,\"fTitleFont\":42,\"fNbins\":1,\"fXmin\":0,\"fXmax\":1,\"fXbins\":[],\"fFirst\":0,\"fLast\":0,\"fBits2\":0,\"fTimeDisplay\":false,\"fTimeFormat\":\"\",\"fLabels\":null,\"fModLabs\":null},\"fBarOffset\":0,\"fBarWidth\":1000,\"fEntries\":223544,\"fTsumw\":111.7635,\"fTsumw2\":0.05588175,\"fTsumwx\":0.179256609880259,\"fTsumwx2\":2659.37420229831,\"fMaximum\":-1111,\"fMinimum\":-1111,\"fNormFactor\":0,\"fContour\":[],\"fSumw2\":[2e-6,1e-6,1.5e-6,3.25e-6,4.5e-6,5e-6,5.25e-6,1.625e-5,1.7e-5,2.15e-5,3.275e-5,5.325e-5,7.05e-5,1.015e-4,1.3875e-4,1.735e-4,2.165e-4,2.7075e-4,3.15e-4,3.53e-4,3.85e-4,4.0525e-4,4.395e-4,4.6475e-4,5.2e-4,5.1625e-4,5.3175e-4,5.4725e-4,5.86e-4,5.975e-4,6.245e-4,6.165e-4,6.1675e-4,6.2875e-4,6.4975e-4,6.8675e-4,6.745e-4,6.93e-4,6.815e-4,7.05e-4,7.205e-4,7.1225e-4,7.2025e-4,7.0825e-4,7.2075e-4,7.15e-4,7.0375e-4,7.3475e-4,7.165e-4,7.3025e-4,7.05e-4,7.1075e-4,6.9525e-4,6.575e-4,6.95e-4,6.625e-4,6.445e-4,6.48e-4,6.4e-4,6.4925e-4,6.565e-4,5.995e-4,6.225e-4,6.2775e-4,6.5775e-4,6.645e-4,6.905e-4,6.9475e-4,7.155e-4,7.21e-4,7.275e-4,7.2375e-4,7.24e-4,7.1775e-4,7.13e-4,7.1175e-4,7.1475e-4,7.4375e-4,6.8825e-4,7.1575e-4,7.225e-4,7.0225e-4,7.0575e-4,6.685e-4,6.9e-4,6.855e-4,6.89e-4,6.6175e-4,6.4325e-4,6.23e-4,6.205e-4,6.0475e-4,6.045e-4,5.6225e-4,5.465e-4,5.43e-4,5.135e-4,4.8725e-4,4.5175e-4,4.455e-4,4.42e-4,3.8125e-4,3.5775e-4,3.1175e-4,2.67e-4,2.155e-4,1.675e-4,1.4525e-4,9.8e-5,7.05e-5,5.525e-5,3.525e-5,2.375e-5,1.725e-5,1.075e-5,6.75e-6,5e-6,2.75e-6,3.25e-6,1.25e-6,1.5e-6,2.25e-6],\"fOption\":\"\",\"fFunctions\":{\"_typename\":\"TList\",\"name\":\"TList\",\"arr\":[],\"opt\":[]},\"fBufferSize\":0,\"fBuffer\":[],\"fBinStatErrOpt\":0,\"fStatOverflows\":2,\"fArray\":[0.004,0.002,0.003,0.0065,0.009,0.01,0.0105,0.0325,0.034,0.043,0.0655,0.1065,0.141,0.203,0.2775,0.347,0.433,0.5415,0.63,0.706,0.77,0.8105,0.879,0.9295,1.04,1.0325,1.0635,1.0945,1.172,1.195,1.249,1.233,1.2335,1.2575,1.2995,1.3735,1.349,1.386,1.363,1.41,1.441,1.4245,1.4405,1.4165,1.4415,1.43,1.4075,1.4695,1.433,1.4605,1.41,1.4215,1.3905,1.315,1.39,1.325,1.289,1.296,1.28,1.2985,1.313,1.199,1.245,1.2555,1.3155,1.329,1.381,1.3895,1.431,1.442,1.455,1.4475,1.448,1.4355,1.426,1.4235,1.4295,1.4875,1.3765,1.4315,1.445,1.4045,1.4115,1.337,1.38,1.371,1.378,1.3235,1.2865,1.246,1.241,1.2095,1.209,1.1245,1.093,1.086,1.027,0.9745,0.9035,0.891,0.884,0.7625,0.7155,0.6235,0.534,0.431,0.335,0.2905,0.196,0.141,0.1105,0.0705,0.0475,0.0345,0.0215,0.0135,0.01,0.0055,0.0065,0.0025,0.003,0.0045]},{\"_typename\":\"TH1D\",\"fUniqueID\":0,\"fBits\":8,\"fName\":\"etaK+\",\"fTitle\":\"\",\"fLineColor\":602,\"fLineStyle\":1,\"fLineWidth\":1,\"fFillColor\":0,\"fFillStyle\":1001,\"fMarkerColor\":632,\"fMarkerStyle\":20,\"fMarkerSize\":1,\"fNcells\":122,\"fXaxis\":{\"_typename\":\"TAxis\",\"fUniqueID\":0,\"fBits\":0,\"fName\":\"xaxis\",\"fTitle\":\"\",\"fNdivisions\":510,\"fAxisColor\":1,\"fLabelColor\":1,\"fLabelFont\":42,\"fLabelOffset\":0.005,\"fLabelSize\":0.035,\"fTickLength\":0.03,\"fTitleOffset\":1,\"fTitleSize\":0.035,\"fTitleColor\":1,\"fTitleFont\":42,\"fNbins\":120,\"fXmin\":-12,\"fXmax\":12,\"fXbins\":[],\"fFirst\":0,\"fLast\":0,\"fBits2\":0,\"fTimeDisplay\":false,\"fTimeFormat\":\"\",\"fLabels\":null,\"fModLabs\":null},\"fYaxis\":{\"_typename\":\"TAxis\",\"fUniqueID\":0,\"fBits\":0,\"fName\":\"yaxis\",\"fTitle\":\"\",\"fNdivisions\":510,\"fAxisColor\":1,\"fLabelColor\":1,\"fLabelFont\":42,\"fLabelOffset\":0.005,\"fLabelSize\":0.035,\"fTickLength\":0.03,\"fTitleOffset\":0,\"fTitleSize\":0.035,\"fTitleColor\":1,\"fTitleFont\":42,\"fNbins\":1,\"fXmin\":0,\"fXmax\":1,\"fXbins\":[],\"fFirst\":0,\"fLast\":0,\"fBits2\":0,\"fTimeDisplay\":false,\"fTimeFormat\":\"\",\"fLabels\":null,\"fModLabs\":null},\"fZaxis\":{\"_typename\":\"TAxis\",\"fUniqueID\":0,\"fBits\":0,\"fName\":\"zaxis\",\"fTitle\":\"\",\"fNdivisions\":510,\"fAxisColor\":1,\"fLabelColor\":1,\"fLabelFont\":42,\"fLabelOffset\":0.005,\"fLabelSize\":0.035,\"fTickLength\":0.03,\"fTitleOffset\":1,\"fTitleSize\":0.035,\"fTitleColor\":1,\"fTitleFont\":42,\"fNbins\":1,\"fXmin\":0,\"fXmax\":1,\"fXbins\":[],\"fFirst\":0,\"fLast\":0,\"fBits2\":0,\"fTimeDisplay\":false,\"fTimeFormat\":\"\",\"fLabels\":null,\"fModLabs\":null},\"fBarOffset\":0,\"fBarWidth\":1000,\"fEntries\":23218,\"fTsumw\":11.607,\"fTsumw2\":0.0058035,\"fTsumwx\":-0.34296394040229,\"fTsumwx2\":287.422165179213,\"fMaximum\":-1111,\"fMinimum\":-1111,\"fNormFactor\":0,\"fContour\":[],\"fSumw2\":[7.5e-7,0,0,7.5e-7,1.25e-6,1e-6,1.25e-6,1e-6,1.25e-6,3.5e-6,4.5e-6,5e-6,1.075e-5,1.65e-5,1.7e-5,1.675e-5,1.95e-5,2.675e-5,3.525e-5,2.775e-5,4.175e-5,4.2e-5,4.675e-5,5.325e-5,5.725e-5,5.875e-5,5.95e-5,5.925e-5,6.25e-5,6.05e-5,7.325e-5,7.05e-5,7.65e-5,6.325e-5,8.2e-5,6.65e-5,6.85e-5,6.925e-5,8.15e-5,8.05e-5,7.625e-5,7.9e-5,7.55e-5,7.575e-5,8.15e-5,8.275e-5,7.225e-5,8.175e-5,7.8e-5,7.975e-5,7.75e-5,6.8e-5,6.75e-5,6.775e-5,6.2e-5,5.9e-5,6.075e-5,5.425e-5,5.425e-5,4.925e-5,5.075e-5,5.375e-5,4.575e-5,4.8e-5,5.625e-5,6.225e-5,6.15e-5,6e-5,6.325e-5,6.825e-5,7.525e-5,7.2e-5,7.475e-5,7.8e-5,7.5e-5,8.25e-5,7.9e-5,7.725e-5,7.625e-5,8.3e-5,7.25e-5,7.15e-5,8.525e-5,8.125e-5,7.1e-5,7.7e-5,6.85e-5,7.1e-5,6.275e-5,7.35e-5,6.55e-5,6.9e-5,6.025e-5,6.825e-5,6.375e-5,6.475e-5,5.825e-5,5.1e-5,4.65e-5,5.15e-5,3.95e-5,4.225e-5,3.35e-5,3.1e-5,2.7e-5,1.85e-5,1.625e-5,1.5e-5,8.5e-6,8.75e-6,7.75e-6,4e-6,3.75e-6,1.75e-6,1.25e-6,5e-7,1e-6,5e-7,1e-6,0,2.5e-7,2.5e-7],\"fOption\":\"\",\"fFunctions\":{\"_typename\":\"TList\",\"name\":\"TList\",\"arr\":[],\"opt\":[]},\"fBufferSize\":0,\"fBuffer\":[],\"fBinStatErrOpt\":0,\"fStatOverflows\":2,\"fArray\":[0.0015,0,0,0.0015,0.0025,0.002,0.0025,0.002,0.0025,0.007,0.009,0.01,0.0215,0.033,0.034,0.0335,0.039,0.0535,0.0705,0.0555,0.0835,0.084,0.0935,0.1065,0.1145,0.1175,0.119,0.1185,0.125,0.121,0.1465,0.141,0.153,0.1265,0.164,0.133,0.137,0.1385,0.163,0.161,0.1525,0.158,0.151,0.1515,0.163,0.1655,0.1445,0.1635,0.156,0.1595,0.155,0.136,0.135,0.1355,0.124,0.118,0.1215,0.1085,0.1085,0.0985,0.1015,0.1075,0.0915,0.096,0.1125,0.1245,0.123,0.12,0.1265,0.1365,0.1505,0.144,0.1495,0.156,0.15,0.165,0.158,0.1545,0.1525,0.166,0.145,0.143,0.1705,0.1625,0.142,0.154,0.137,0.142,0.1255,0.147,0.131,0.138,0.1205,0.1365,0.1275,0.1295,0.1165,0.102,0.093,0.103,0.079,0.0845,0.067,0.062,0.054,0.037,0.0325,0.03,0.017,0.0175,0.0155,0.008,0.0075,0.0035,0.0025,0.001,0.002,0.001,0.002,0,5e-4,5e-4]},{\"$ref\":25}],\"opt\":[\"\",\"\",\"p same\",\"p same\",\"p same\",\"\"]},\"fExecs\":{\"_typename\":\"TList\",\"name\":\"TList\",\"arr\":[],\"opt\":[]},\"fName\":\"c_etapt_2\",\"fTitle\":\"c_etapt_2\",\"fNumPaletteColor\":0,\"fNextPaletteColor\":0},{\"_typename\":\"TStyle\",\"fUniqueID\":0,\"fBits\":0,\"fName\":\"Modern\",\"fTitle\":\"Modern Style\",\"fLineColor\":1,\"fLineStyle\":1,\"fLineWidth\":1,\"fFillColor\":19,\"fFillStyle\":1001,\"fMarkerColor\":1,\"fMarkerStyle\":1,\"fMarkerSize\":1,\"fTextAngle\":0,\"fTextSize\":0.05,\"fTextAlign\":11,\"fTextColor\":1,\"fTextFont\":62,\"fXaxis\":{\"_typename\":\"TAttAxis\",\"fNdivisions\":510,\"fAxisColor\":1,\"fLabelColor\":1,\"fLabelFont\":42,\"fLabelOffset\":0.005,\"fLabelSize\":0.035,\"fTickLength\":0.03,\"fTitleOffset\":1,\"fTitleSize\":0.035,\"fTitleColor\":1,\"fTitleFont\":42},\"fYaxis\":{\"_typename\":\"TAttAxis\",\"fNdivisions\":510,\"fAxisColor\":1,\"fLabelColor\":1,\"fLabelFont\":42,\"fLabelOffset\":0.005,\"fLabelSize\":0.035,\"fTickLength\":0.03,\"fTitleOffset\":0,\"fTitleSize\":0.035,\"fTitleColor\":1,\"fTitleFont\":42},\"fZaxis\":{\"_typename\":\"TAttAxis\",\"fNdivisions\":510,\"fAxisColor\":1,\"fLabelColor\":1,\"fLabelFont\":42,\"fLabelOffset\":0.005,\"fLabelSize\":0.035,\"fTickLength\":0.03,\"fTitleOffset\":1,\"fTitleSize\":0.035,\"fTitleColor\":1,\"fTitleFont\":42},\"fBarWidth\":1,\"fBarOffset\":0,\"fColorModelPS\":0,\"fDrawBorder\":0,\"fOptLogx\":0,\"fOptLogy\":0,\"fOptLogz\":0,\"fOptDate\":0,\"fOptStat\":1111,\"fOptTitle\":1,\"fOptFile\":0,\"fOptFit\":0,\"fShowEventStatus\":0,\"fShowEditor\":0,\"fShowToolBar\":0,\"fNumberContours\":20,\"fAttDate\":{\"_typename\":\"TAttText\",\"fTextAngle\":0,\"fTextSize\":0.025,\"fTextAlign\":11,\"fTextColor\":1,\"fTextFont\":62},\"fDateX\":0.01,\"fDateY\":0.01,\"fEndErrorSize\":2,\"fErrorX\":0.5,\"fFuncColor\":2,\"fFuncStyle\":1,\"fFuncWidth\":2,\"fGridColor\":0,\"fGridStyle\":3,\"fGridWidth\":1,\"fLegendBorderSize\":1,\"fLegendFillColor\":0,\"fLegendFont\":42,\"fLegendTextSize\":0,\"fHatchesLineWidth\":1,\"fHatchesSpacing\":1,\"fFrameFillColor\":0,\"fFrameLineColor\":1,\"fFrameFillStyle\":1001,\"fFrameLineStyle\":1,\"fFrameLineWidth\":1,\"fFrameBorderSize\":1,\"fFrameBorderMode\":0,\"fHistFillColor\":0,\"fHistLineColor\":602,\"fHistFillStyle\":1001,\"fHistLineStyle\":1,\"fHistLineWidth\":1,\"fHistMinimumZero\":false,\"fHistTopMargin\":0.05,\"fCanvasPreferGL\":false,\"fCanvasColor\":0,\"fCanvasBorderSize\":2,\"fCanvasBorderMode\":0,\"fCanvasDefH\":500,\"fCanvasDefW\":700,\"fCanvasDefX\":10,\"fCanvasDefY\":10,\"fPadColor\":0,\"fPadBorderSize\":2,\"fPadBorderMode\":0,\"fPadBottomMargin\":0.1,\"fPadTopMargin\":0.1,\"fPadLeftMargin\":0.1,\"fPadRightMargin\":0.1,\"fPadGridX\":false,\"fPadGridY\":false,\"fPadTickX\":0,\"fPadTickY\":0,\"fPaperSizeX\":20,\"fPaperSizeY\":26,\"fScreenFactor\":1,\"fStatColor\":0,\"fStatTextColor\":1,\"fStatBorderSize\":1,\"fStatFont\":42,\"fStatFontSize\":0,\"fStatStyle\":1001,\"fStatFormat\":\"6.4g\",\"fStatX\":0.98,\"fStatY\":0.935,\"fStatW\":0.2,\"fStatH\":0.16,\"fStripDecimals\":true,\"fTitleAlign\":23,\"fTitleColor\":0,\"fTitleTextColor\":1,\"fTitleBorderSize\":0,\"fTitleFont\":42,\"fTitleFontSize\":0.05,\"fTitleStyle\":0,\"fTitleX\":0.5,\"fTitleY\":0.995,\"fTitleW\":0,\"fTitleH\":0,\"fLegoInnerR\":0.5,\"fLineStyle\":[\"\",\"  \",\" 12 12\",\" 4 8\",\" 12 16 4 16\",\" 20 12 4 12\",\" 20 12 4 12 4 12 4 12\",\" 20 20\",\" 20 12 4 12 4 12\",\" 80 20\",\" 80 40 4 40\",\"  \",\"  \",\"  \",\"  \",\"  \",\"  \",\"  \",\"  \",\"  \",\"  \",\"  \",\"  \",\"  \",\"  \",\"  \",\"  \",\"  \",\"  \",\"  \"],\"fHeaderPS\":\"\",\"fTitlePS\":\"\",\"fFitFormat\":\"5.4g\",\"fPaintTextFormat\":\"g\",\"fLineScalePS\":3,\"fJoinLinePS\":0,\"fCapLinePS\":0,\"fTimeOffset\":788918400,\"fImageScaling\":1}],\"opt\":[\"\",\"\",\"\"]},\"fExecs\":null,\"fName\":\"c_etapt\",\"fTitle\":\"\",\"fNumPaletteColor\":0,\"fNextPaletteColor\":0,\"fDISPLAY\":\"$DISPLAY\",\"fDoubleBuffer\":0,\"fRetained\":true,\"fXsizeUser\":0,\"fYsizeUser\":0,\"fXsizeReal\":20,\"fYsizeReal\":7.5,\"fWindowTopX\":0,\"fWindowTopY\":0,\"fWindowWidth\":0,\"fWindowHeight\":0,\"fCw\":1596,\"fCh\":572,\"fCatt\":{\"_typename\":\"TAttCanvas\",\"fXBetween\":2,\"fYBetween\":2,\"fTitleFromTop\":1.2,\"fXdate\":0.2,\"fYdate\":0.3,\"fAdate\":1},\"kMoveOpaque\":true,\"kResizeOpaque\":true,\"fHighLightColor\":2,\"fBatch\":true,\"kShowEventStatus\":false,\"kAutoExec\":true,\"kMenuBar\":true});\n",
       "   Core.settings.HandleKeys = false;\n",
       "   Core.draw(\"root_plot_1645993046988\", obj, \"\");\n",
       "}\n",
       "\n",
       "function script_load_root_plot_1645993046988(src, on_error) {\n",
       "    let script = document.createElement('script');\n",
       "    script.src = src;\n",
       "    script.onload = function() { display_root_plot_1645993046988(JSROOT); };\n",
       "    script.onerror = function() { script.remove(); on_error(); };\n",
       "    document.head.appendChild(script);\n",
       "}\n",
       "\n",
       "if (typeof requirejs !== 'undefined') {\n",
       "\n",
       "    // We are in jupyter notebooks, use require.js which should be configured already\n",
       "    requirejs.config({\n",
       "       paths: { 'JSRootCore' : [ 'scripts/JSRoot.core', 'https://root.cern/js/6.1.1/scripts/JSRoot.core.min', 'https://jsroot.gsi.de/6.1.1/scripts/JSRoot.core.min' ] }\n",
       "    })(['JSRootCore'],  function(Core) {\n",
       "       display_root_plot_1645993046988(Core);\n",
       "    });\n",
       "\n",
       "} else if (typeof JSROOT !== 'undefined') {\n",
       "\n",
       "   // JSROOT already loaded, just use it\n",
       "   display_root_plot_1645993046988(JSROOT);\n",
       "\n",
       "} else {\n",
       "\n",
       "    // We are in jupyterlab without require.js, directly loading jsroot\n",
       "    // Jupyterlab might be installed in a different base_url so we need to know it.\n",
       "    try {\n",
       "        var base_url = JSON.parse(document.getElementById('jupyter-config-data').innerHTML).baseUrl;\n",
       "    } catch(_) {\n",
       "        var base_url = '/';\n",
       "    }\n",
       "\n",
       "    // Try loading a local version of requirejs and fallback to cdn if not possible.\n",
       "    script_load_root_plot_1645993046988(base_url + 'static/scripts/JSRoot.core.js', function(){\n",
       "        console.error('Fail to load JSROOT locally, please check your jupyter_notebook_config.py file');\n",
       "        script_load_root_plot_1645993046988('https://root.cern/js/6.1.1/scripts/JSRoot.core.min.js', function(){\n",
       "            document.getElementById(\"root_plot_1645993046988\").innerHTML = \"Failed to load JSROOT\";\n",
       "        });\n",
       "    });\n",
       "}\n",
       "\n",
       "</script>\n"
      ],
      "text/plain": [
       "<IPython.core.display.HTML object>"
      ]
     },
     "metadata": {},
     "output_type": "display_data"
    }
   ],
   "source": [
    "leg=ROOT.TLegend(0.8,0.75,0.9,0.9)\n",
    "for p in parts:\n",
    "    leg.AddEntry(hpt[p], labels[p])\n",
    "\n",
    "c_etapt.cd(1).SetLogy()\n",
    "frame_pt=c_etapt.cd(1).DrawFrame(0,maxpt*1e-8,10,10*maxpt)\n",
    "frame_pt.GetXaxis().SetTitle(\"p_{T} [GeV/c]\")\n",
    "frame_pt.GetXaxis().SetTitleOffset(1.5)\n",
    "frame_pt.GetYaxis().SetTitleSize(15)\n",
    "frame_pt.GetYaxis().SetTitle(\"#frac{1}{p_{T}}#frac{dN}{dp_{T}} [GeV/c]^{-2}\")\n",
    "frame_pt.Draw()\n",
    "for p in parts:\n",
    "    hpt[p].Draw(\"p same\")\n",
    "leg.Draw()\n",
    "\n",
    "c_etapt.cd(2)\n",
    "frame_eta=c_etapt.cd(2).DrawFrame(-12,0,12,1.1*maxeta)\n",
    "frame_eta.GetXaxis().SetTitle(\"#eta\")\n",
    "frame_eta.GetYaxis().SetTitleSize(15)\n",
    "frame_eta.GetYaxis().SetTitle(\"#frac{dN}{d#eta} \")\n",
    "frame_eta.Draw()\n",
    "for p in parts:\n",
    "    heta[p].Draw(\"p same\")\n",
    "    \n",
    "leg.Draw()\n",
    "\n",
    "c_etapt.Draw()"
   ]
  },
  {
   "cell_type": "markdown",
   "metadata": {},
   "source": [
    "## $K^*$ meson production"
   ]
  },
  {
   "cell_type": "markdown",
   "metadata": {},
   "source": [
    "### Generate 10000 $p+p$ events at 14 TeV and look for $K^*$ meson by plotting invariant mass of $\\pi^-K^+$ pairs. Compare this spectrum with invariant mass spectrum of produced $K^*$'s decaying into kaon and pion."
   ]
  },
  {
   "cell_type": "markdown",
   "metadata": {},
   "source": [
    "* create two one dimensional histograms to hold invariant masses of  $\\pi^--K^+$ pairs and $K^*$ mesons (300 bins each, range (0.5,2) GeV/$c^2$)\n",
    "* during event generation in each event separately create lists of $\\pi^-$'s and $K^+$'s and fill invariant mass histogram with invariant masses of all possible $\\pi^--K^+$ pairs, use `getMinv` function defined above\n",
    "  * HINT: use `itertools.product` (`it.product`), if `A` and `B` are lists, then `list(it.product(A,B))` is the list of all possible pairs where one element is from `A` and the other is from `B`\n",
    "* second histogram should be filled with invariant masses of $K^*$'s decaying to pion and kaon, use `TParticle::GetDaughter(int n)` method (`n=0,1`, e.g. `p.GetDaugther(0), p.GetDaugther(1)`) to select the desired decay channel, this method returns *index* of the daughter particle - in order to access corresponding `TParticle` opject we have to directly access `particles[p.GetDaughter(0)]`\n",
    "* create new `TCanvas`, present the two distributions on one plot with apropriate axes labels, different colors and legend"
   ]
  },
  {
   "cell_type": "code",
   "execution_count": 16,
   "metadata": {
    "tags": []
   },
   "outputs": [
    {
     "data": {
      "text/html": [
       "\n",
       "\n",
       "<div id=\"root_plot_1645993095434\"\n",
       "     style=\"width: 796px; height: 572px\">\n",
       "</div>\n",
       "<script>\n",
       "\n",
       "function display_root_plot_1645993095434(Core) {\n",
       "   let obj = Core.parse({\"_typename\":\"TCanvas\",\"fUniqueID\":0,\"fBits\":3342344,\"fLineColor\":1,\"fLineStyle\":1,\"fLineWidth\":1,\"fFillColor\":0,\"fFillStyle\":1001,\"fLeftMargin\":0.1,\"fRightMargin\":0.1,\"fBottomMargin\":0.1,\"fTopMargin\":0.1,\"fXfile\":2,\"fYfile\":2,\"fAfile\":1,\"fXstat\":0.99,\"fYstat\":0.99,\"fAstat\":2,\"fFrameFillColor\":0,\"fFrameLineColor\":1,\"fFrameFillStyle\":1001,\"fFrameLineStyle\":1,\"fFrameLineWidth\":1,\"fFrameBorderSize\":1,\"fFrameBorderMode\":0,\"fX1\":0.312499986030161,\"fY1\":-206.981265421306,\"fX2\":2.18750001396984,\"fY2\":1862.83126542131,\"fXtoAbsPixelk\":-132.666608759117,\"fXtoPixelk\":-132.666608759117,\"fXtoPixel\":424.533327007293,\"fYtoAbsPixelk\":514.800046590614,\"fYtoPixelk\":514.800046590614,\"fYtoPixel\":-0.276353530320517,\"fUtoAbsPixelk\":5e-5,\"fUtoPixelk\":5e-5,\"fUtoPixel\":796,\"fVtoAbsPixelk\":572.00005,\"fVtoPixelk\":572,\"fVtoPixel\":-572,\"fAbsPixeltoXk\":0.312499986030161,\"fPixeltoXk\":0.312499986030161,\"fPixeltoX\":0.00235552767329105,\"fAbsPixeltoYk\":1862.83126542131,\"fPixeltoYk\":-206.981265421306,\"fPixeltoY\":-3.61855337559897,\"fXlowNDC\":0,\"fYlowNDC\":0,\"fXUpNDC\":1,\"fYUpNDC\":1,\"fWNDC\":1,\"fHNDC\":1,\"fAbsXlowNDC\":0,\"fAbsYlowNDC\":0,\"fAbsWNDC\":1,\"fAbsHNDC\":1,\"fUxmin\":0.5,\"fUymin\":0,\"fUxmax\":2,\"fUymax\":1655.85,\"fTheta\":30,\"fPhi\":30,\"fAspectRatio\":0,\"fNumber\":0,\"fTickx\":0,\"fTicky\":0,\"fLogx\":0,\"fLogy\":0,\"fLogz\":0,\"fPadPaint\":0,\"fCrosshair\":0,\"fCrosshairPos\":0,\"fBorderSize\":2,\"fBorderMode\":0,\"fModified\":false,\"fGridx\":false,\"fGridy\":false,\"fAbsCoord\":false,\"fEditable\":true,\"fFixedAspectRatio\":false,\"fPrimitives\":{\"_typename\":\"TList\",\"name\":\"TList\",\"arr\":[{\"_typename\":\"TFrame\",\"fUniqueID\":0,\"fBits\":8,\"fLineColor\":1,\"fLineStyle\":1,\"fLineWidth\":1,\"fFillColor\":0,\"fFillStyle\":1001,\"fX1\":0.5,\"fY1\":0,\"fX2\":2,\"fY2\":1655.85,\"fBorderSize\":1,\"fBorderMode\":0},{\"_typename\":\"TH1D\",\"fUniqueID\":0,\"fBits\":8,\"fName\":\"h_all\",\"fTitle\":\"\",\"fLineColor\":602,\"fLineStyle\":1,\"fLineWidth\":2,\"fFillColor\":0,\"fFillStyle\":1001,\"fMarkerColor\":1,\"fMarkerStyle\":1,\"fMarkerSize\":1,\"fNcells\":302,\"fXaxis\":{\"_typename\":\"TAxis\",\"fUniqueID\":0,\"fBits\":0,\"fName\":\"xaxis\",\"fTitle\":\"M_{#pi^{-}K^{+}} [GeV\\/#it{c}^{2}]\",\"fNdivisions\":510,\"fAxisColor\":1,\"fLabelColor\":1,\"fLabelFont\":42,\"fLabelOffset\":0.005,\"fLabelSize\":0.035,\"fTickLength\":0.03,\"fTitleOffset\":1.1,\"fTitleSize\":0.035,\"fTitleColor\":1,\"fTitleFont\":42,\"fNbins\":300,\"fXmin\":0.5,\"fXmax\":2,\"fXbins\":[],\"fFirst\":0,\"fLast\":0,\"fBits2\":0,\"fTimeDisplay\":false,\"fTimeFormat\":\"\",\"fLabels\":null,\"fModLabs\":null},\"fYaxis\":{\"_typename\":\"TAxis\",\"fUniqueID\":0,\"fBits\":0,\"fName\":\"yaxis\",\"fTitle\":\"Entries\",\"fNdivisions\":510,\"fAxisColor\":1,\"fLabelColor\":1,\"fLabelFont\":42,\"fLabelOffset\":0.005,\"fLabelSize\":0.035,\"fTickLength\":0.03,\"fTitleOffset\":0,\"fTitleSize\":0.035,\"fTitleColor\":1,\"fTitleFont\":42,\"fNbins\":1,\"fXmin\":0,\"fXmax\":1,\"fXbins\":[],\"fFirst\":0,\"fLast\":0,\"fBits2\":0,\"fTimeDisplay\":false,\"fTimeFormat\":\"\",\"fLabels\":null,\"fModLabs\":null},\"fZaxis\":{\"_typename\":\"TAxis\",\"fUniqueID\":0,\"fBits\":0,\"fName\":\"zaxis\",\"fTitle\":\"\",\"fNdivisions\":510,\"fAxisColor\":1,\"fLabelColor\":1,\"fLabelFont\":42,\"fLabelOffset\":0.005,\"fLabelSize\":0.035,\"fTickLength\":0.03,\"fTitleOffset\":1,\"fTitleSize\":0.035,\"fTitleColor\":1,\"fTitleFont\":42,\"fNbins\":1,\"fXmin\":0,\"fXmax\":1,\"fXbins\":[],\"fFirst\":0,\"fLast\":0,\"fBits2\":0,\"fTimeDisplay\":false,\"fTimeFormat\":\"\",\"fLabels\":null,\"fModLabs\":null},\"fBarOffset\":0,\"fBarWidth\":1000,\"fEntries\":686395,\"fTsumw\":226265,\"fTsumw2\":226265,\"fTsumwx\":272220.729613901,\"fTsumwx2\":357954.924219679,\"fMaximum\":-1111,\"fMinimum\":-1111,\"fNormFactor\":0,\"fContour\":[],\"fSumw2\":[],\"fOption\":\"\",\"fFunctions\":{\"_typename\":\"TList\",\"name\":\"TList\",\"arr\":[],\"opt\":[]},\"fBufferSize\":0,\"fBuffer\":[],\"fBinStatErrOpt\":0,\"fStatOverflows\":2,\"fArray\":[0,0,0,0,0,0,0,0,0,0,0,0,0,0,0,0,0,0,0,0,0,0,0,0,0,0,0,57,285,367,480,554,670,698,795,799,891,897,865,937,918,967,1033,1061,1091,1091,1119,1049,1068,1144,1171,1086,1217,1139,1135,1240,1182,1136,1239,1180,1246,1175,1247,1198,1184,1207,1262,1211,1299,1262,1244,1288,1295,1357,1336,1427,1399,1512,1565,1577,1510,1565,1488,1462,1442,1389,1236,1292,1233,1325,1257,1240,1162,1228,1169,1128,1172,1118,1168,1101,1131,1160,1171,1135,1135,1138,1069,1120,1132,1077,1120,1100,1077,1038,1071,1046,1044,1054,1060,958,1072,1056,1026,1017,1048,1058,1018,935,954,1021,1005,986,1020,925,964,947,879,986,967,940,901,887,937,956,922,877,907,870,899,845,811,855,902,899,808,804,846,857,843,778,826,812,800,806,786,842,769,803,788,786,830,797,786,712,778,749,760,720,762,718,706,731,732,707,738,684,755,693,728,669,684,711,724,705,737,681,666,693,693,744,635,630,661,674,619,681,638,701,615,654,653,621,654,599,611,592,589,624,581,580,578,602,589,599,608,622,633,573,595,610,595,579,587,636,556,591,551,553,565,579,552,568,530,537,556,560,567,539,550,538,500,524,495,528,537,524,523,514,551,543,462,466,536,511,523,530,519,482,525,525,501,481,474,495,506,506,504,482,444,473,502,490,483,468,467,453,458,480,516,432,466,480,452,466,533,442,461,458,436,372,444,460130]},{\"_typename\":\"TH1D\",\"fUniqueID\":0,\"fBits\":8,\"fName\":\"h_pure\",\"fTitle\":\"\",\"fLineColor\":632,\"fLineStyle\":1,\"fLineWidth\":2,\"fFillColor\":0,\"fFillStyle\":1001,\"fMarkerColor\":1,\"fMarkerStyle\":1,\"fMarkerSize\":1,\"fNcells\":302,\"fXaxis\":{\"_typename\":\"TAxis\",\"fUniqueID\":0,\"fBits\":0,\"fName\":\"xaxis\",\"fTitle\":\"\",\"fNdivisions\":510,\"fAxisColor\":1,\"fLabelColor\":1,\"fLabelFont\":42,\"fLabelOffset\":0.005,\"fLabelSize\":0.035,\"fTickLength\":0.03,\"fTitleOffset\":1,\"fTitleSize\":0.035,\"fTitleColor\":1,\"fTitleFont\":42,\"fNbins\":300,\"fXmin\":0.5,\"fXmax\":2,\"fXbins\":[],\"fFirst\":0,\"fLast\":0,\"fBits2\":0,\"fTimeDisplay\":false,\"fTimeFormat\":\"\",\"fLabels\":null,\"fModLabs\":null},\"fYaxis\":{\"_typename\":\"TAxis\",\"fUniqueID\":0,\"fBits\":0,\"fName\":\"yaxis\",\"fTitle\":\"\",\"fNdivisions\":510,\"fAxisColor\":1,\"fLabelColor\":1,\"fLabelFont\":42,\"fLabelOffset\":0.005,\"fLabelSize\":0.035,\"fTickLength\":0.03,\"fTitleOffset\":0,\"fTitleSize\":0.035,\"fTitleColor\":1,\"fTitleFont\":42,\"fNbins\":1,\"fXmin\":0,\"fXmax\":1,\"fXbins\":[],\"fFirst\":0,\"fLast\":0,\"fBits2\":0,\"fTimeDisplay\":false,\"fTimeFormat\":\"\",\"fLabels\":null,\"fModLabs\":null},\"fZaxis\":{\"_typename\":\"TAxis\",\"fUniqueID\":0,\"fBits\":0,\"fName\":\"zaxis\",\"fTitle\":\"\",\"fNdivisions\":510,\"fAxisColor\":1,\"fLabelColor\":1,\"fLabelFont\":42,\"fLabelOffset\":0.005,\"fLabelSize\":0.035,\"fTickLength\":0.03,\"fTitleOffset\":1,\"fTitleSize\":0.035,\"fTitleColor\":1,\"fTitleFont\":42,\"fNbins\":1,\"fXmin\":0,\"fXmax\":1,\"fXbins\":[],\"fFirst\":0,\"fLast\":0,\"fBits2\":0,\"fTimeDisplay\":false,\"fTimeFormat\":\"\",\"fLabels\":null,\"fModLabs\":null},\"fBarOffset\":0,\"fBarWidth\":1000,\"fEntries\":5168,\"fTsumw\":5168,\"fTsumw2\":5168,\"fTsumwx\":4689.047113518,\"fTsumwx2\":4275.10286905316,\"fMaximum\":-1111,\"fMinimum\":-1111,\"fNormFactor\":0,\"fContour\":[],\"fSumw2\":[],\"fOption\":\"\",\"fFunctions\":{\"_typename\":\"TList\",\"name\":\"TList\",\"arr\":[],\"opt\":[]},\"fBufferSize\":0,\"fBuffer\":[],\"fBinStatErrOpt\":0,\"fStatOverflows\":2,\"fArray\":[0,0,0,0,0,0,0,0,0,0,0,0,0,0,0,0,0,0,0,0,0,0,0,0,0,0,0,0,0,0,0,0,1,2,0,2,0,2,3,0,4,2,3,3,2,2,5,2,4,4,6,7,7,10,6,7,14,8,15,12,12,26,20,17,25,30,33,37,44,52,60,81,88,121,131,188,253,281,315,339,361,348,304,220,205,191,135,121,95,94,64,61,48,50,37,42,31,27,27,31,24,24,21,14,21,17,15,18,11,16,7,8,11,6,5,10,10,14,15,9,7,5,7,8,12,8,3,3,0,6,5,5,2,6,5,3,7,5,5,7,5,0,0,0,0,0,0,0,0,0,0,0,0,0,0,0,0,0,0,0,0,0,0,0,0,0,0,0,0,0,0,0,0,0,0,0,0,0,0,0,0,0,0,0,0,0,0,0,0,0,0,0,0,0,0,0,0,0,0,0,0,0,0,0,0,0,0,0,0,0,0,0,0,0,0,0,0,0,0,0,0,0,0,0,0,0,0,0,0,0,0,0,0,0,0,0,0,0,0,0,0,0,0,0,0,0,0,0,0,0,0,0,0,0,0,0,0,0,0,0,0,0,0,0,0,0,0,0,0,0,0,0,0,0,0,0,0,0,0,0,0,0,0,0,0,0,0,0,0,0,0,0,0,0,0,0,0,0,0,0,0,0]},{\"_typename\":\"TLegend\",\"fUniqueID\":0,\"fBits\":8,\"fLineColor\":1,\"fLineStyle\":1,\"fLineWidth\":1,\"fFillColor\":0,\"fFillStyle\":1001,\"fX1\":1.25,\"fY1\":1241.88750616852,\"fX2\":2.00000001117587,\"fY2\":1655.85001233704,\"fX1NDC\":0.5,\"fY1NDC\":0.7,\"fX2NDC\":0.9,\"fY2NDC\":0.9,\"fBorderSize\":1,\"fInit\":1,\"fShadowColor\":1,\"fCornerRadius\":0,\"fOption\":\"brNDC\",\"fName\":\"TPave\",\"fTextAngle\":0,\"fTextSize\":0,\"fTextAlign\":12,\"fTextColor\":1,\"fTextFont\":42,\"fPrimitives\":{\"_typename\":\"TList\",\"name\":\"TList\",\"arr\":[{\"_typename\":\"TLegendEntry\",\"fUniqueID\":0,\"fBits\":0,\"fTextAngle\":0,\"fTextSize\":0,\"fTextAlign\":0,\"fTextColor\":0,\"fTextFont\":42,\"fLineColor\":602,\"fLineStyle\":1,\"fLineWidth\":2,\"fFillColor\":0,\"fFillStyle\":1001,\"fMarkerColor\":1,\"fMarkerStyle\":1,\"fMarkerSize\":1,\"fObject\":{\"$ref\":3},\"fLabel\":\"all #pi^{-}K^{+} pairs\",\"fOption\":\"lpf\"},{\"_typename\":\"TLegendEntry\",\"fUniqueID\":0,\"fBits\":0,\"fTextAngle\":0,\"fTextSize\":0,\"fTextAlign\":0,\"fTextColor\":0,\"fTextFont\":42,\"fLineColor\":632,\"fLineStyle\":1,\"fLineWidth\":2,\"fFillColor\":0,\"fFillStyle\":1001,\"fMarkerColor\":1,\"fMarkerStyle\":1,\"fMarkerSize\":1,\"fObject\":{\"$ref\":8},\"fLabel\":\"#pi^{-}K^{+} pairs from K^{*} decay\",\"fOption\":\"lpf\"}],\"opt\":[\"lpf\",\"lpf\"]},\"fEntrySeparation\":0.1,\"fMargin\":0.25,\"fNColumns\":1,\"fColumnSeparation\":0},{\"_typename\":\"TStyle\",\"fUniqueID\":0,\"fBits\":0,\"fName\":\"Modern\",\"fTitle\":\"Modern Style\",\"fLineColor\":1,\"fLineStyle\":1,\"fLineWidth\":1,\"fFillColor\":19,\"fFillStyle\":1001,\"fMarkerColor\":1,\"fMarkerStyle\":1,\"fMarkerSize\":1,\"fTextAngle\":0,\"fTextSize\":0.05,\"fTextAlign\":11,\"fTextColor\":1,\"fTextFont\":62,\"fXaxis\":{\"_typename\":\"TAttAxis\",\"fNdivisions\":510,\"fAxisColor\":1,\"fLabelColor\":1,\"fLabelFont\":42,\"fLabelOffset\":0.005,\"fLabelSize\":0.035,\"fTickLength\":0.03,\"fTitleOffset\":1,\"fTitleSize\":0.035,\"fTitleColor\":1,\"fTitleFont\":42},\"fYaxis\":{\"_typename\":\"TAttAxis\",\"fNdivisions\":510,\"fAxisColor\":1,\"fLabelColor\":1,\"fLabelFont\":42,\"fLabelOffset\":0.005,\"fLabelSize\":0.035,\"fTickLength\":0.03,\"fTitleOffset\":0,\"fTitleSize\":0.035,\"fTitleColor\":1,\"fTitleFont\":42},\"fZaxis\":{\"_typename\":\"TAttAxis\",\"fNdivisions\":510,\"fAxisColor\":1,\"fLabelColor\":1,\"fLabelFont\":42,\"fLabelOffset\":0.005,\"fLabelSize\":0.035,\"fTickLength\":0.03,\"fTitleOffset\":1,\"fTitleSize\":0.035,\"fTitleColor\":1,\"fTitleFont\":42},\"fBarWidth\":1,\"fBarOffset\":0,\"fColorModelPS\":0,\"fDrawBorder\":0,\"fOptLogx\":0,\"fOptLogy\":0,\"fOptLogz\":0,\"fOptDate\":0,\"fOptStat\":0,\"fOptTitle\":1,\"fOptFile\":0,\"fOptFit\":0,\"fShowEventStatus\":0,\"fShowEditor\":0,\"fShowToolBar\":0,\"fNumberContours\":20,\"fAttDate\":{\"_typename\":\"TAttText\",\"fTextAngle\":0,\"fTextSize\":0.025,\"fTextAlign\":11,\"fTextColor\":1,\"fTextFont\":62},\"fDateX\":0.01,\"fDateY\":0.01,\"fEndErrorSize\":2,\"fErrorX\":0.5,\"fFuncColor\":2,\"fFuncStyle\":1,\"fFuncWidth\":2,\"fGridColor\":0,\"fGridStyle\":3,\"fGridWidth\":1,\"fLegendBorderSize\":1,\"fLegendFillColor\":0,\"fLegendFont\":42,\"fLegendTextSize\":0,\"fHatchesLineWidth\":1,\"fHatchesSpacing\":1,\"fFrameFillColor\":0,\"fFrameLineColor\":1,\"fFrameFillStyle\":1001,\"fFrameLineStyle\":1,\"fFrameLineWidth\":1,\"fFrameBorderSize\":1,\"fFrameBorderMode\":0,\"fHistFillColor\":0,\"fHistLineColor\":602,\"fHistFillStyle\":1001,\"fHistLineStyle\":1,\"fHistLineWidth\":1,\"fHistMinimumZero\":false,\"fHistTopMargin\":0.05,\"fCanvasPreferGL\":false,\"fCanvasColor\":0,\"fCanvasBorderSize\":2,\"fCanvasBorderMode\":0,\"fCanvasDefH\":500,\"fCanvasDefW\":700,\"fCanvasDefX\":10,\"fCanvasDefY\":10,\"fPadColor\":0,\"fPadBorderSize\":2,\"fPadBorderMode\":0,\"fPadBottomMargin\":0.1,\"fPadTopMargin\":0.1,\"fPadLeftMargin\":0.1,\"fPadRightMargin\":0.1,\"fPadGridX\":false,\"fPadGridY\":false,\"fPadTickX\":0,\"fPadTickY\":0,\"fPaperSizeX\":20,\"fPaperSizeY\":26,\"fScreenFactor\":1,\"fStatColor\":0,\"fStatTextColor\":1,\"fStatBorderSize\":1,\"fStatFont\":42,\"fStatFontSize\":0,\"fStatStyle\":1001,\"fStatFormat\":\"6.4g\",\"fStatX\":0.98,\"fStatY\":0.935,\"fStatW\":0.2,\"fStatH\":0.16,\"fStripDecimals\":true,\"fTitleAlign\":23,\"fTitleColor\":0,\"fTitleTextColor\":1,\"fTitleBorderSize\":0,\"fTitleFont\":42,\"fTitleFontSize\":0.05,\"fTitleStyle\":0,\"fTitleX\":0.5,\"fTitleY\":0.995,\"fTitleW\":0,\"fTitleH\":0,\"fLegoInnerR\":0.5,\"fLineStyle\":[\"\",\"  \",\" 12 12\",\" 4 8\",\" 12 16 4 16\",\" 20 12 4 12\",\" 20 12 4 12 4 12 4 12\",\" 20 20\",\" 20 12 4 12 4 12\",\" 80 20\",\" 80 40 4 40\",\"  \",\"  \",\"  \",\"  \",\"  \",\"  \",\"  \",\"  \",\"  \",\"  \",\"  \",\"  \",\"  \",\"  \",\"  \",\"  \",\"  \",\"  \",\"  \"],\"fHeaderPS\":\"\",\"fTitlePS\":\"\",\"fFitFormat\":\"5.4g\",\"fPaintTextFormat\":\"g\",\"fLineScalePS\":3,\"fJoinLinePS\":0,\"fCapLinePS\":0,\"fTimeOffset\":788918400,\"fImageScaling\":1}],\"opt\":[\"\",\"\",\"same\",\"\",\"\"]},\"fExecs\":null,\"fName\":\"c\",\"fTitle\":\"\",\"fNumPaletteColor\":0,\"fNextPaletteColor\":0,\"fDISPLAY\":\"$DISPLAY\",\"fDoubleBuffer\":0,\"fRetained\":true,\"fXsizeUser\":0,\"fYsizeUser\":0,\"fXsizeReal\":20,\"fYsizeReal\":15,\"fWindowTopX\":0,\"fWindowTopY\":0,\"fWindowWidth\":0,\"fWindowHeight\":0,\"fCw\":796,\"fCh\":572,\"fCatt\":{\"_typename\":\"TAttCanvas\",\"fXBetween\":2,\"fYBetween\":2,\"fTitleFromTop\":1.2,\"fXdate\":0.2,\"fYdate\":0.3,\"fAdate\":1},\"kMoveOpaque\":true,\"kResizeOpaque\":true,\"fHighLightColor\":2,\"fBatch\":true,\"kShowEventStatus\":false,\"kAutoExec\":true,\"kMenuBar\":true});\n",
       "   Core.settings.HandleKeys = false;\n",
       "   Core.draw(\"root_plot_1645993095434\", obj, \"\");\n",
       "}\n",
       "\n",
       "function script_load_root_plot_1645993095434(src, on_error) {\n",
       "    let script = document.createElement('script');\n",
       "    script.src = src;\n",
       "    script.onload = function() { display_root_plot_1645993095434(JSROOT); };\n",
       "    script.onerror = function() { script.remove(); on_error(); };\n",
       "    document.head.appendChild(script);\n",
       "}\n",
       "\n",
       "if (typeof requirejs !== 'undefined') {\n",
       "\n",
       "    // We are in jupyter notebooks, use require.js which should be configured already\n",
       "    requirejs.config({\n",
       "       paths: { 'JSRootCore' : [ 'scripts/JSRoot.core', 'https://root.cern/js/6.1.1/scripts/JSRoot.core.min', 'https://jsroot.gsi.de/6.1.1/scripts/JSRoot.core.min' ] }\n",
       "    })(['JSRootCore'],  function(Core) {\n",
       "       display_root_plot_1645993095434(Core);\n",
       "    });\n",
       "\n",
       "} else if (typeof JSROOT !== 'undefined') {\n",
       "\n",
       "   // JSROOT already loaded, just use it\n",
       "   display_root_plot_1645993095434(JSROOT);\n",
       "\n",
       "} else {\n",
       "\n",
       "    // We are in jupyterlab without require.js, directly loading jsroot\n",
       "    // Jupyterlab might be installed in a different base_url so we need to know it.\n",
       "    try {\n",
       "        var base_url = JSON.parse(document.getElementById('jupyter-config-data').innerHTML).baseUrl;\n",
       "    } catch(_) {\n",
       "        var base_url = '/';\n",
       "    }\n",
       "\n",
       "    // Try loading a local version of requirejs and fallback to cdn if not possible.\n",
       "    script_load_root_plot_1645993095434(base_url + 'static/scripts/JSRoot.core.js', function(){\n",
       "        console.error('Fail to load JSROOT locally, please check your jupyter_notebook_config.py file');\n",
       "        script_load_root_plot_1645993095434('https://root.cern/js/6.1.1/scripts/JSRoot.core.min.js', function(){\n",
       "            document.getElementById(\"root_plot_1645993095434\").innerHTML = \"Failed to load JSROOT\";\n",
       "        });\n",
       "    });\n",
       "}\n",
       "\n",
       "</script>\n"
      ],
      "text/plain": [
       "<IPython.core.display.HTML object>"
      ]
     },
     "metadata": {},
     "output_type": "display_data"
    }
   ],
   "source": [
    "nEvents=10000\n",
    "h=ROOT.TH1D(\"h_all\",\"\",300,0.5,2)\n",
    "hpure=ROOT.TH1D(\"h_pure\",\"\",300,0.5,2)\n",
    "\n",
    "def getKstarCandidates(parts):\n",
    "    pim = [p for p in parts if isFinal(p,\"pi-\")]\n",
    "    kp = [p for p in parts if isFinal(p,\"K+\")]\n",
    "    return list(it.product(pim,kp))\n",
    "\n",
    "\n",
    "for i in range(nEvents):\n",
    "    pythia.GenerateEvent()\n",
    "    pythia.ImportParticles(particles,\"All\")\n",
    "    #for all possible pi- K+ pairs we fill invariant mass histogram\n",
    "    for pair in getKstarCandidates(particles):\n",
    "        h.Fill(getMinv(pair))\n",
    "    #now we look for actual K*'s that decayed:\n",
    "    for p in particles:\n",
    "        if p.GetName()==\"K*0\":\n",
    "            #we accept K* only if it decayed to pion and kaon\n",
    "            d0=particles[p.GetDaughter(0)].GetName()\n",
    "            d1=particles[p.GetDaughter(1)].GetName()\n",
    "            if {d0,d1} != {\"pi-\",\"K+\"}:\n",
    "                continue\n",
    "            p4=ROOT.TLorentzVector()\n",
    "            p.Momentum(p4)\n",
    "            hpure.Fill(p4.M())\n",
    "\n",
    "\n",
    "c_kstar = ROOT.TCanvas(\"c\",\"\",800,600)\n",
    "ROOT.gStyle.SetOptStat(0)\n",
    "h.GetXaxis().SetTitle(\"M_{#pi^{-}K^{+}} [GeV/#it{c}^{2}]\")\n",
    "h.GetXaxis().SetTitleOffset(1.1)\n",
    "h.GetYaxis().SetTitle(\"Entries\")\n",
    "h.SetLineWidth(2)\n",
    "h.Draw()\n",
    "hpure.SetLineWidth(2)\n",
    "hpure.SetLineColor(ROOT.kRed)\n",
    "hpure.Draw(\"same\")\n",
    "leg=ROOT.TLegend(0.5,0.7,0.9,0.9)\n",
    "leg.AddEntry(h,\"all #pi^{-}K^{+} pairs\")\n",
    "leg.AddEntry(hpure,\"#pi^{-}K^{+} pairs from K^{*} decay\")\n",
    "leg.Draw()\n",
    "c_kstar.Draw()"
   ]
  },
  {
   "cell_type": "markdown",
   "metadata": {
    "tags": []
   },
   "source": [
    "## $Z$ boson production in $p+\\bar{p}$ collisions"
   ]
  },
  {
   "cell_type": "markdown",
   "metadata": {},
   "source": [
    "### Generate 10000 $p+\\bar{p}$ events at 630 GeV of $Z$ production ($Z$ discovery at CERN SPS)."
   ]
  },
  {
   "cell_type": "markdown",
   "metadata": {},
   "source": [
    "Setup:\n",
    "* in order to look at $Z$ boson production we limit physics list of Pythia8 to include only hard $f\\bar{f}\\to Z \\to f\\bar{f}$ processes\n",
    "* moreover, we will disable all $Z$ decay modes other than $Z\\to e^+e^-$, in which the particle was discovered\n",
    "* to speed up the simulation we disable hadronisation (we are interested only in leptonic final states)\n",
    "* we also limit phase space to $\\pm 20$ GeV around the $Z$ rest mass\n",
    "\n",
    "To do:\n",
    "* select candidates for products of $Z$ decay in each event and plot their invariant mass distribution in range 70-110 GeV\n",
    "* check influence of final state radiation on the spectrum - generate additional 10000 events with FSR turned off\n",
    "* normalize histograms so that their maxima are at $1$\n",
    "* draw both distributions (as a histograms, option `\"hist\"`) on the same plot with axis labels and a legend\n",
    "* draw $\\frac{1}{p_T}\\frac{dN}{dp_T}$ and $\\frac{dN}{d\\eta}$ spectra of produced $Z$ bosons (only for one dataset, with FSR on), with axis labels and proper normalisation, pick the $x$ axis ranges so that the whole distribution fits inside the plot\n",
    "  * **hint:** $Z$ boson will occur multiple times in the event listing (why?), it will never be a final particle, pick only $Z$'s that appear *last* in each event\n",
    "* what is the *mean* number $\\langle N_Z\\rangle$ of $Z$ bosons produced in an event, with what error? is this result surprising?\n",
    "  * **hint:** $\\langle N \\rangle = \\int\\limits_0^\\infty \\frac{dN}{dp_T}\\cdot dp_T = \\int\\limits_{-\\infty}^\\infty \\frac{dN}{d\\eta}\\cdot d\\eta$"
   ]
  },
  {
   "cell_type": "code",
   "execution_count": 17,
   "metadata": {
    "tags": []
   },
   "outputs": [
    {
     "name": "stdout",
     "output_type": "stream",
     "text": [
      "Mean number of Z bosons per event: <N_Z>=1.000 +/- 0.010\n",
      " *** TDatabasePDG::AddParticle: particle with PDGcode=90 already defined\n",
      " *** TDatabasePDG::AddParticle: particle with PDGcode=9900110 already defined\n",
      " *** TDatabasePDG::AddParticle: particle with PDGcode=9900210 already defined\n",
      " *** TDatabasePDG::AddParticle: particle with PDGcode=9900220 already defined\n",
      " *** TDatabasePDG::AddParticle: particle with PDGcode=9900330 already defined\n",
      " *** TDatabasePDG::AddParticle: particle with PDGcode=9900440 already defined\n",
      " *** TDatabasePDG::AddParticle: particle with PDGcode=9902110 already defined\n",
      " *** TDatabasePDG::AddParticle: particle with PDGcode=9902210 already defined\n",
      " PYTHIA Warning in SimpleSpaceShower::pT2nextQCD: weight above unity  \n",
      " PYTHIA Warning in JunctionSplitting::SplitJunPairs: parallel junction state not allowed.  \n",
      " PYTHIA Warning in JunctionSplitting::CheckColours: Not possible to split junctions; making new colours  \n",
      " PYTHIA Error in BeamRemnants::add: failed to find physical colour state after colour reconnection  \n",
      " PYTHIA Warning in MultipartonInteractions::pTnext: weight above unity  \n",
      " *** TDatabasePDG::AddParticle: particle with PDGcode=90 already defined\n",
      " *** TDatabasePDG::AddParticle: particle with PDGcode=9900110 already defined\n",
      " *** TDatabasePDG::AddParticle: particle with PDGcode=9900210 already defined\n",
      " *** TDatabasePDG::AddParticle: particle with PDGcode=9900220 already defined\n",
      " *** TDatabasePDG::AddParticle: particle with PDGcode=9900330 already defined\n",
      " *** TDatabasePDG::AddParticle: particle with PDGcode=9900440 already defined\n",
      " *** TDatabasePDG::AddParticle: particle with PDGcode=9902110 already defined\n",
      " *** TDatabasePDG::AddParticle: particle with PDGcode=9902210 already defined\n",
      " PYTHIA Warning in JunctionSplitting::SplitJunPairs: parallel junction state not allowed.  \n",
      " PYTHIA Warning in JunctionSplitting::CheckColours: Not possible to split junctions; making new colours  \n",
      " PYTHIA Error in BeamRemnants::add: failed to find physical colour state after colour reconnection  \n",
      " PYTHIA Warning in SimpleSpaceShower::pT2nextQCD: weight above unity  \n",
      " PYTHIA Warning in MultipartonInteractions::pTnext: weight above unity  \n"
     ]
    },
    {
     "name": "stderr",
     "output_type": "stream",
     "text": [
      "Warning in <TParticle::SetPdgCode>: PDG code 9941003 unknown from TDatabasePDG\n",
      "Warning in <TParticle::SetPdgCode>: PDG code 9941003 unknown from TDatabasePDG\n",
      "Warning in <TParticle::SetPdgCode>: PDG code 9941003 unknown from TDatabasePDG\n",
      "Warning in <TParticle::SetPdgCode>: PDG code 9941003 unknown from TDatabasePDG\n",
      "Warning in <TParticle::SetPdgCode>: PDG code 9942103 unknown from TDatabasePDG\n",
      "Warning in <TParticle::SetPdgCode>: PDG code 9942103 unknown from TDatabasePDG\n"
     ]
    },
    {
     "data": {
      "text/html": [
       "\n",
       "\n",
       "<div id=\"root_plot_1645993131802\"\n",
       "     style=\"width: 1596px; height: 1172px\">\n",
       "</div>\n",
       "<script>\n",
       "\n",
       "function display_root_plot_1645993131802(Core) {\n",
       "   let obj = Core.parse({\"_typename\":\"TCanvas\",\"fUniqueID\":0,\"fBits\":3342344,\"fLineColor\":1,\"fLineStyle\":1,\"fLineWidth\":1,\"fFillColor\":0,\"fFillStyle\":1001,\"fLeftMargin\":0.1,\"fRightMargin\":0.1,\"fBottomMargin\":0.1,\"fTopMargin\":0.1,\"fXfile\":2,\"fYfile\":2,\"fAfile\":1,\"fXstat\":0.99,\"fYstat\":0.99,\"fAstat\":2,\"fFrameFillColor\":0,\"fFrameLineColor\":1,\"fFrameFillStyle\":1001,\"fFrameLineStyle\":1,\"fFrameLineWidth\":1,\"fFrameBorderSize\":1,\"fFrameBorderMode\":0,\"fX1\":0,\"fY1\":0,\"fX2\":1,\"fY2\":1,\"fXtoAbsPixelk\":5e-5,\"fXtoPixelk\":5e-5,\"fXtoPixel\":1596,\"fYtoAbsPixelk\":1172.00005,\"fYtoPixelk\":1172.00005,\"fYtoPixel\":-1172,\"fUtoAbsPixelk\":5e-5,\"fUtoPixelk\":5e-5,\"fUtoPixel\":1596,\"fVtoAbsPixelk\":1172.00005,\"fVtoPixelk\":1172,\"fVtoPixel\":-1172,\"fAbsPixeltoXk\":0,\"fPixeltoXk\":0,\"fPixeltoX\":6.265664160401e-4,\"fAbsPixeltoYk\":1,\"fPixeltoYk\":0,\"fPixeltoY\":-8.53242320819113e-4,\"fXlowNDC\":0,\"fYlowNDC\":0,\"fXUpNDC\":1,\"fYUpNDC\":1,\"fWNDC\":1,\"fHNDC\":1,\"fAbsXlowNDC\":0,\"fAbsYlowNDC\":0,\"fAbsWNDC\":1,\"fAbsHNDC\":1,\"fUxmin\":0,\"fUymin\":0,\"fUxmax\":1,\"fUymax\":1,\"fTheta\":30,\"fPhi\":30,\"fAspectRatio\":0,\"fNumber\":0,\"fTickx\":0,\"fTicky\":0,\"fLogx\":0,\"fLogy\":0,\"fLogz\":0,\"fPadPaint\":0,\"fCrosshair\":0,\"fCrosshairPos\":0,\"fBorderSize\":2,\"fBorderMode\":0,\"fModified\":false,\"fGridx\":false,\"fGridy\":false,\"fAbsCoord\":false,\"fEditable\":true,\"fFixedAspectRatio\":false,\"fPrimitives\":{\"_typename\":\"TList\",\"name\":\"TList\",\"arr\":[{\"_typename\":\"TPad\",\"fUniqueID\":0,\"fBits\":9,\"fLineColor\":1,\"fLineStyle\":1,\"fLineWidth\":1,\"fFillColor\":0,\"fFillStyle\":1001,\"fLeftMargin\":0.1,\"fRightMargin\":0.1,\"fBottomMargin\":0.1,\"fTopMargin\":0.1,\"fXfile\":2,\"fYfile\":2,\"fAfile\":1,\"fXstat\":0.99,\"fYstat\":0.99,\"fAstat\":2,\"fFrameFillColor\":0,\"fFrameLineColor\":1,\"fFrameFillStyle\":1001,\"fFrameLineStyle\":1,\"fFrameLineWidth\":1,\"fFrameBorderSize\":1,\"fFrameBorderMode\":0,\"fX1\":64.9999996274709,\"fY1\":-0.131250009778888,\"fX2\":115.000000372529,\"fY2\":1.18125000977889,\"fXtoAbsPixelk\":-979.943930736373,\"fXtoPixelk\":-995.90393037964,\"fXtoPixel\":15.3215997859597,\"fYtoAbsPixelk\":518.024046856451,\"fYtoPixelk\":506.304047118413,\"fYtoPixel\":-428.61713686943,\"fUtoAbsPixelk\":15.9600496432662,\"fUtoPixelk\":5e-5,\"fUtoPixel\":766.080000713468,\"fVtoAbsPixelk\":574.280050261962,\"fVtoPixelk\":562.560000523925,\"fVtoPixel\":-562.560000523925,\"fAbsPixeltoXk\":63.9583329695354,\"fPixeltoXk\":64.9999996274709,\"fPixeltoX\":0.0652673359159513,\"fAbsPixeltoYk\":1.20859375954969,\"fPixeltoYk\":-0.131250009778888,\"fPixeltoY\":-0.00233308450358258,\"fXlowNDC\":0.00999999977648258,\"fYlowNDC\":0.509999999776483,\"fXUpNDC\":0.490000000223517,\"fYUpNDC\":0.990000000223517,\"fWNDC\":0.480000000447035,\"fHNDC\":0.480000000447035,\"fAbsXlowNDC\":0.00999999977648258,\"fAbsYlowNDC\":0.509999999776483,\"fAbsWNDC\":0.480000000447035,\"fAbsHNDC\":0.480000000447035,\"fUxmin\":70,\"fUymin\":0,\"fUxmax\":110,\"fUymax\":1.05,\"fTheta\":30,\"fPhi\":30,\"fAspectRatio\":0,\"fNumber\":1,\"fTickx\":0,\"fTicky\":0,\"fLogx\":0,\"fLogy\":0,\"fLogz\":0,\"fPadPaint\":0,\"fCrosshair\":0,\"fCrosshairPos\":0,\"fBorderSize\":2,\"fBorderMode\":0,\"fModified\":false,\"fGridx\":false,\"fGridy\":false,\"fAbsCoord\":false,\"fEditable\":true,\"fFixedAspectRatio\":false,\"fPrimitives\":{\"_typename\":\"TList\",\"name\":\"TList\",\"arr\":[{\"_typename\":\"TFrame\",\"fUniqueID\":0,\"fBits\":8,\"fLineColor\":1,\"fLineStyle\":1,\"fLineWidth\":1,\"fFillColor\":0,\"fFillStyle\":1001,\"fX1\":70,\"fY1\":0,\"fX2\":110,\"fY2\":1.05,\"fBorderSize\":1,\"fBorderMode\":0},{\"_typename\":\"TH1D\",\"fUniqueID\":0,\"fBits\":520,\"fName\":\"h_norad\",\"fTitle\":\"\",\"fLineColor\":632,\"fLineStyle\":1,\"fLineWidth\":2,\"fFillColor\":0,\"fFillStyle\":1001,\"fMarkerColor\":1,\"fMarkerStyle\":1,\"fMarkerSize\":1,\"fNcells\":202,\"fXaxis\":{\"_typename\":\"TAxis\",\"fUniqueID\":0,\"fBits\":0,\"fName\":\"xaxis\",\"fTitle\":\"M_{e^{+}e^{-}}\",\"fNdivisions\":510,\"fAxisColor\":1,\"fLabelColor\":1,\"fLabelFont\":42,\"fLabelOffset\":0.005,\"fLabelSize\":0.035,\"fTickLength\":0.03,\"fTitleOffset\":1.4,\"fTitleSize\":0.035,\"fTitleColor\":1,\"fTitleFont\":42,\"fNbins\":200,\"fXmin\":70,\"fXmax\":110,\"fXbins\":[],\"fFirst\":0,\"fLast\":0,\"fBits2\":0,\"fTimeDisplay\":false,\"fTimeFormat\":\"\",\"fLabels\":null,\"fModLabs\":null},\"fYaxis\":{\"_typename\":\"TAxis\",\"fUniqueID\":0,\"fBits\":0,\"fName\":\"yaxis\",\"fTitle\":\"entries\",\"fNdivisions\":510,\"fAxisColor\":1,\"fLabelColor\":1,\"fLabelFont\":42,\"fLabelOffset\":0.005,\"fLabelSize\":0.035,\"fTickLength\":0.03,\"fTitleOffset\":0,\"fTitleSize\":0.035,\"fTitleColor\":1,\"fTitleFont\":42,\"fNbins\":1,\"fXmin\":0,\"fXmax\":1,\"fXbins\":[],\"fFirst\":0,\"fLast\":0,\"fBits2\":0,\"fTimeDisplay\":false,\"fTimeFormat\":\"\",\"fLabels\":null,\"fModLabs\":null},\"fZaxis\":{\"_typename\":\"TAxis\",\"fUniqueID\":0,\"fBits\":0,\"fName\":\"zaxis\",\"fTitle\":\"\",\"fNdivisions\":510,\"fAxisColor\":1,\"fLabelColor\":1,\"fLabelFont\":42,\"fLabelOffset\":0.005,\"fLabelSize\":0.035,\"fTickLength\":0.03,\"fTitleOffset\":1,\"fTitleSize\":0.035,\"fTitleColor\":1,\"fTitleFont\":42,\"fNbins\":1,\"fXmin\":0,\"fXmax\":1,\"fXbins\":[],\"fFirst\":0,\"fLast\":0,\"fBits2\":0,\"fTimeDisplay\":false,\"fTimeFormat\":\"\",\"fLabels\":null,\"fModLabs\":null},\"fBarOffset\":0,\"fBarWidth\":1000,\"fEntries\":10000,\"fTsumw\":19.2307692307692,\"fTsumw2\":0.0369822485207101,\"fTsumwx\":1744.50553219132,\"fTsumwx2\":158645.669670972,\"fMaximum\":-1111,\"fMinimum\":-1111,\"fNormFactor\":0,\"fContour\":[],\"fSumw2\":[0,1.8491124260355e-5,3.32840236686391e-5,2.5887573964497e-5,2.2189349112426e-5,2.5887573964497e-5,2.95857988165681e-5,2.5887573964497e-5,1.4792899408284e-5,1.4792899408284e-5,2.2189349112426e-5,2.5887573964497e-5,1.8491124260355e-5,2.95857988165681e-5,3.69822485207101e-5,7.39644970414201e-6,2.2189349112426e-5,2.5887573964497e-5,1.1094674556213e-5,1.1094674556213e-5,2.2189349112426e-5,4.43786982248521e-5,2.95857988165681e-5,2.5887573964497e-5,2.5887573964497e-5,1.4792899408284e-5,2.5887573964497e-5,2.2189349112426e-5,2.2189349112426e-5,1.4792899408284e-5,1.1094674556213e-5,2.5887573964497e-5,2.2189349112426e-5,2.2189349112426e-5,1.1094674556213e-5,2.95857988165681e-5,4.06804733727811e-5,1.8491124260355e-5,1.8491124260355e-5,2.5887573964497e-5,2.2189349112426e-5,2.5887573964497e-5,3.69822485207101e-5,2.95857988165681e-5,2.95857988165681e-5,2.95857988165681e-5,5.17751479289941e-5,3.69822485207101e-5,3.32840236686391e-5,5.17751479289941e-5,2.2189349112426e-5,6.65680473372781e-5,3.32840236686391e-5,5.91715976331361e-5,2.5887573964497e-5,5.91715976331361e-5,4.06804733727811e-5,5.17751479289941e-5,5.17751479289941e-5,3.69822485207101e-5,5.17751479289941e-5,7.76627218934911e-5,5.54733727810651e-5,6.65680473372781e-5,3.69822485207101e-5,5.54733727810651e-5,5.17751479289941e-5,5.54733727810651e-5,5.54733727810651e-5,7.76627218934911e-5,6.28698224852071e-5,7.39644970414201e-5,8.13609467455621e-5,5.91715976331361e-5,7.76627218934911e-5,8.50591715976331e-5,7.02662721893491e-5,7.76627218934911e-5,1.14644970414201e-4,7.39644970414201e-5,1.07248520710059e-4,9.61538461538462e-5,1.36834319526627e-4,1.36834319526627e-4,1.33136094674556e-4,2.18195266272189e-4,1.77514792899408e-4,1.66420118343195e-4,2.36686390532544e-4,1.77514792899408e-4,2.73668639053254e-4,2.92159763313609e-4,3.14349112426036e-4,3.95710059171598e-4,3.43934911242604e-4,4.28994082840237e-4,5.25147928994083e-4,5.5103550295858e-4,7.10059171597633e-4,8.80177514792899e-4,9.02366863905326e-4,0.00123150887573965,0.00124630177514793,0.00147189349112426,0.00169748520710059,0.00160133136094675,0.00192307692307692,0.00184541420118343,0.00184541420118343,0.00173076923076923,0.00143860946745562,0.00119082840236686,0.00109467455621302,8.94970414201183e-4,7.47041420118343e-4,6.73076923076923e-4,4.95562130177515e-4,5.32544378698225e-4,4.58579881656805e-4,3.25443786982249e-4,3.25443786982249e-4,3.2914201183432e-4,2.88461538461538e-4,2.66272189349112e-4,1.55325443786982e-4,1.51627218934911e-4,1.40532544378698e-4,1.36834319526627e-4,1.03550295857988e-4,1.33136094674556e-4,1.03550295857988e-4,7.39644970414201e-5,6.28698224852071e-5,7.02662721893491e-5,8.87573964497042e-5,7.76627218934911e-5,9.98520710059172e-5,7.02662721893491e-5,7.02662721893491e-5,5.91715976331361e-5,6.65680473372781e-5,6.28698224852071e-5,5.17751479289941e-5,3.32840236686391e-5,6.28698224852071e-5,3.69822485207101e-5,4.06804733727811e-5,2.95857988165681e-5,5.54733727810651e-5,4.80769230769231e-5,2.95857988165681e-5,5.17751479289941e-5,2.2189349112426e-5,2.2189349112426e-5,3.69822485207101e-5,2.5887573964497e-5,3.69822485207101e-5,3.32840236686391e-5,2.5887573964497e-5,1.1094674556213e-5,2.2189349112426e-5,2.2189349112426e-5,2.5887573964497e-5,2.2189349112426e-5,2.5887573964497e-5,3.32840236686391e-5,1.4792899408284e-5,2.5887573964497e-5,2.95857988165681e-5,2.95857988165681e-5,1.8491124260355e-5,1.4792899408284e-5,2.95857988165681e-5,1.4792899408284e-5,1.1094674556213e-5,1.1094674556213e-5,2.5887573964497e-5,2.2189349112426e-5,1.8491124260355e-5,1.4792899408284e-5,2.2189349112426e-5,2.5887573964497e-5,1.4792899408284e-5,0,2.2189349112426e-5,3.69822485207101e-6,2.5887573964497e-5,7.39644970414201e-6,7.39644970414201e-6,7.39644970414201e-6,3.69822485207101e-6,0,1.4792899408284e-5,7.39644970414201e-6,7.39644970414201e-6,1.8491124260355e-5,3.69822485207101e-6,2.95857988165681e-5,1.8491124260355e-5,1.4792899408284e-5,3.69822485207101e-6,0],\"fOption\":\"\",\"fFunctions\":{\"_typename\":\"TList\",\"name\":\"TList\",\"arr\":[],\"opt\":[]},\"fBufferSize\":0,\"fBuffer\":[],\"fBinStatErrOpt\":0,\"fStatOverflows\":2,\"fArray\":[0,0.00961538461538462,0.0173076923076923,0.0134615384615385,0.0115384615384615,0.0134615384615385,0.0153846153846154,0.0134615384615385,0.00769230769230769,0.00769230769230769,0.0115384615384615,0.0134615384615385,0.00961538461538462,0.0153846153846154,0.0192307692307692,0.00384615384615385,0.0115384615384615,0.0134615384615385,0.00576923076923077,0.00576923076923077,0.0115384615384615,0.0230769230769231,0.0153846153846154,0.0134615384615385,0.0134615384615385,0.00769230769230769,0.0134615384615385,0.0115384615384615,0.0115384615384615,0.00769230769230769,0.00576923076923077,0.0134615384615385,0.0115384615384615,0.0115384615384615,0.00576923076923077,0.0153846153846154,0.0211538461538462,0.00961538461538462,0.00961538461538462,0.0134615384615385,0.0115384615384615,0.0134615384615385,0.0192307692307692,0.0153846153846154,0.0153846153846154,0.0153846153846154,0.0269230769230769,0.0192307692307692,0.0173076923076923,0.0269230769230769,0.0115384615384615,0.0346153846153846,0.0173076923076923,0.0307692307692308,0.0134615384615385,0.0307692307692308,0.0211538461538462,0.0269230769230769,0.0269230769230769,0.0192307692307692,0.0269230769230769,0.0403846153846154,0.0288461538461538,0.0346153846153846,0.0192307692307692,0.0288461538461538,0.0269230769230769,0.0288461538461538,0.0288461538461538,0.0403846153846154,0.0326923076923077,0.0384615384615385,0.0423076923076923,0.0307692307692308,0.0403846153846154,0.0442307692307692,0.0365384615384615,0.0403846153846154,0.0596153846153846,0.0384615384615385,0.0557692307692308,0.05,0.0711538461538462,0.0711538461538462,0.0692307692307692,0.113461538461538,0.0923076923076923,0.0865384615384615,0.123076923076923,0.0923076923076923,0.142307692307692,0.151923076923077,0.163461538461538,0.205769230769231,0.178846153846154,0.223076923076923,0.273076923076923,0.286538461538462,0.369230769230769,0.457692307692308,0.469230769230769,0.640384615384615,0.648076923076923,0.765384615384615,0.882692307692308,0.832692307692308,1,0.959615384615385,0.959615384615385,0.9,0.748076923076923,0.619230769230769,0.569230769230769,0.465384615384615,0.388461538461538,0.35,0.257692307692308,0.276923076923077,0.238461538461538,0.169230769230769,0.169230769230769,0.171153846153846,0.15,0.138461538461538,0.0807692307692308,0.0788461538461538,0.0730769230769231,0.0711538461538462,0.0538461538461538,0.0692307692307692,0.0538461538461538,0.0384615384615385,0.0326923076923077,0.0365384615384615,0.0461538461538462,0.0403846153846154,0.0519230769230769,0.0365384615384615,0.0365384615384615,0.0307692307692308,0.0346153846153846,0.0326923076923077,0.0269230769230769,0.0173076923076923,0.0326923076923077,0.0192307692307692,0.0211538461538462,0.0153846153846154,0.0288461538461538,0.025,0.0153846153846154,0.0269230769230769,0.0115384615384615,0.0115384615384615,0.0192307692307692,0.0134615384615385,0.0192307692307692,0.0173076923076923,0.0134615384615385,0.00576923076923077,0.0115384615384615,0.0115384615384615,0.0134615384615385,0.0115384615384615,0.0134615384615385,0.0173076923076923,0.00769230769230769,0.0134615384615385,0.0153846153846154,0.0153846153846154,0.00961538461538462,0.00769230769230769,0.0153846153846154,0.00769230769230769,0.00576923076923077,0.00576923076923077,0.0134615384615385,0.0115384615384615,0.00961538461538462,0.00769230769230769,0.0115384615384615,0.0134615384615385,0.00769230769230769,0,0.0115384615384615,0.00192307692307692,0.0134615384615385,0.00384615384615385,0.00384615384615385,0.00384615384615385,0.00192307692307692,0,0.00769230769230769,0.00384615384615385,0.00384615384615385,0.00961538461538462,0.00192307692307692,0.0153846153846154,0.00961538461538462,0.00769230769230769,0.00192307692307692,0]},{\"_typename\":\"TH1D\",\"fUniqueID\":0,\"fBits\":520,\"fName\":\"h_rad\",\"fTitle\":\"\",\"fLineColor\":602,\"fLineStyle\":1,\"fLineWidth\":2,\"fFillColor\":0,\"fFillStyle\":1001,\"fMarkerColor\":1,\"fMarkerStyle\":1,\"fMarkerSize\":1,\"fNcells\":202,\"fXaxis\":{\"_typename\":\"TAxis\",\"fUniqueID\":0,\"fBits\":0,\"fName\":\"xaxis\",\"fTitle\":\"\",\"fNdivisions\":510,\"fAxisColor\":1,\"fLabelColor\":1,\"fLabelFont\":42,\"fLabelOffset\":0.005,\"fLabelSize\":0.035,\"fTickLength\":0.03,\"fTitleOffset\":1,\"fTitleSize\":0.035,\"fTitleColor\":1,\"fTitleFont\":42,\"fNbins\":200,\"fXmin\":70,\"fXmax\":110,\"fXbins\":[],\"fFirst\":0,\"fLast\":0,\"fBits2\":0,\"fTimeDisplay\":false,\"fTimeFormat\":\"\",\"fLabels\":null,\"fModLabs\":null},\"fYaxis\":{\"_typename\":\"TAxis\",\"fUniqueID\":0,\"fBits\":0,\"fName\":\"yaxis\",\"fTitle\":\"\",\"fNdivisions\":510,\"fAxisColor\":1,\"fLabelColor\":1,\"fLabelFont\":42,\"fLabelOffset\":0.005,\"fLabelSize\":0.035,\"fTickLength\":0.03,\"fTitleOffset\":0,\"fTitleSize\":0.035,\"fTitleColor\":1,\"fTitleFont\":42,\"fNbins\":1,\"fXmin\":0,\"fXmax\":1,\"fXbins\":[],\"fFirst\":0,\"fLast\":0,\"fBits2\":0,\"fTimeDisplay\":false,\"fTimeFormat\":\"\",\"fLabels\":null,\"fModLabs\":null},\"fZaxis\":{\"_typename\":\"TAxis\",\"fUniqueID\":0,\"fBits\":0,\"fName\":\"zaxis\",\"fTitle\":\"\",\"fNdivisions\":510,\"fAxisColor\":1,\"fLabelColor\":1,\"fLabelFont\":42,\"fLabelOffset\":0.005,\"fLabelSize\":0.035,\"fTickLength\":0.03,\"fTitleOffset\":1,\"fTitleSize\":0.035,\"fTitleColor\":1,\"fTitleFont\":42,\"fNbins\":1,\"fXmin\":0,\"fXmax\":1,\"fXbins\":[],\"fFirst\":0,\"fLast\":0,\"fBits2\":0,\"fTimeDisplay\":false,\"fTimeFormat\":\"\",\"fLabels\":null,\"fModLabs\":null},\"fBarOffset\":0,\"fBarWidth\":1000,\"fEntries\":10087,\"fTsumw\":24.9259259259259,\"fTsumw2\":0.06594160297864,\"fTsumwx\":2224.17647601321,\"fTsumwx2\":199197.069132672,\"fMaximum\":-1111,\"fMinimum\":-1111,\"fNormFactor\":0,\"fContour\":[],\"fSumw2\":[0.00465412502449539,4.89907897315305e-5,7.69855267209765e-5,9.79815794630609e-5,1.04980263710422e-4,7.69855267209765e-5,7.69855267209765e-5,6.99868424736149e-5,6.99868424736149e-5,1.04980263710422e-4,1.18977632205145e-4,7.69855267209765e-5,5.5989473978892e-5,6.29881582262535e-5,1.04980263710422e-4,7.69855267209765e-5,6.29881582262535e-5,6.29881582262535e-5,8.39842109683379e-5,6.99868424736149e-5,9.09828952156994e-5,9.79815794630609e-5,6.99868424736149e-5,6.29881582262535e-5,6.99868424736149e-5,1.11978947957784e-4,9.09828952156994e-5,1.32975000699868e-4,1.04980263710422e-4,9.79815794630609e-5,9.79815794630609e-5,1.25976316452507e-4,1.04980263710422e-4,9.09828952156994e-5,1.04980263710422e-4,1.25976316452507e-4,9.09828952156994e-5,1.3997368494723e-4,1.67968421936676e-4,1.32975000699868e-4,1.3997368494723e-4,1.95963158926122e-4,1.11978947957784e-4,1.67968421936676e-4,1.3997368494723e-4,1.18977632205145e-4,1.8896447467876e-4,1.32975000699868e-4,1.32975000699868e-4,1.81965790431399e-4,1.3997368494723e-4,1.8896447467876e-4,1.81965790431399e-4,1.53971053441953e-4,1.74967106184037e-4,1.25976316452507e-4,1.8896447467876e-4,1.3997368494723e-4,2.09960527420845e-4,1.46972369194591e-4,2.09960527420845e-4,1.67968421936676e-4,1.8896447467876e-4,2.23957895915568e-4,1.95963158926122e-4,2.02961843173483e-4,2.16959211668206e-4,2.58951317152375e-4,1.8896447467876e-4,1.67968421936676e-4,2.37955264410291e-4,1.95963158926122e-4,2.51952632905014e-4,2.30956580162929e-4,2.16959211668206e-4,3.07942106883906e-4,3.07942106883906e-4,2.65950001399737e-4,3.2893815962599e-4,2.44953948657652e-4,2.7994736989446e-4,3.56932896615436e-4,3.56932896615436e-4,3.98925002099605e-4,4.61913160325859e-4,4.05923686346967e-4,5.80890792531004e-4,5.17902634304751e-4,6.29881582262535e-4,6.50877635004619e-4,6.36880266509896e-4,7.76853951457126e-4,6.92869740488788e-4,8.39842109683379e-4,9.02830267909633e-4,0.0010358052686095,0.00114078553231992,0.00137874079673021,0.00137174211248285,0.00154670921866689,0.00153271185017217,0.00192463816802441,0.00222558159066096,0.00233756053861874,0.00258251448727639,0.00261050922426584,0.00251252764480278,0.00251252764480278,0.00264550264550265,0.00223258027490832,0.00193163685227177,0.00161669606114051,0.00125276448027771,0.00102880658436214,0.00104980263710422,8.18846056941295e-4,7.13865793230873e-4,6.71873687746704e-4,7.06867108983511e-4,5.10903950057389e-4,5.24901318552112e-4,2.86946054141821e-4,3.63931580862798e-4,2.86946054141821e-4,3.49934212368075e-4,2.65950001399737e-4,2.7994736989446e-4,2.37955264410291e-4,1.3997368494723e-4,1.60969737689314e-4,1.67968421936676e-4,1.25976316452507e-4,1.3997368494723e-4,1.74967106184037e-4,1.32975000699868e-4,9.79815794630609e-5,7.69855267209765e-5,1.53971053441953e-4,1.11978947957784e-4,9.79815794630609e-5,9.09828952156994e-5,9.79815794630609e-5,5.5989473978892e-5,6.29881582262535e-5,8.39842109683379e-5,5.5989473978892e-5,4.89907897315305e-5,7.69855267209765e-5,8.39842109683379e-5,9.79815794630609e-5,9.09828952156994e-5,4.1992105484169e-5,5.5989473978892e-5,6.29881582262535e-5,5.5989473978892e-5,4.1992105484169e-5,1.3997368494723e-5,6.99868424736149e-5,2.7994736989446e-5,4.1992105484169e-5,3.49934212368075e-5,3.49934212368075e-5,4.1992105484169e-5,6.29881582262535e-5,2.7994736989446e-5,4.1992105484169e-5,2.7994736989446e-5,6.9986842473615e-6,2.7994736989446e-5,4.1992105484169e-5,2.7994736989446e-5,1.3997368494723e-5,1.3997368494723e-5,1.3997368494723e-5,2.7994736989446e-5,6.9986842473615e-6,1.3997368494723e-5,2.09960527420845e-5,6.9986842473615e-6,1.3997368494723e-5,1.3997368494723e-5,1.3997368494723e-5,2.09960527420845e-5,1.3997368494723e-5,1.3997368494723e-5,6.9986842473615e-6,0,6.9986842473615e-6,0,1.3997368494723e-5,6.9986842473615e-6,1.3997368494723e-5,1.3997368494723e-5,0,2.09960527420845e-5,6.9986842473615e-6,6.9986842473615e-6,1.3997368494723e-5,2.09960527420845e-5,6.9986842473615e-6,0,0],\"fOption\":\"\",\"fFunctions\":{\"_typename\":\"TList\",\"name\":\"TList\",\"arr\":[],\"opt\":[]},\"fBufferSize\":0,\"fBuffer\":[],\"fBinStatErrOpt\":0,\"fStatOverflows\":2,\"fArray\":[1.75925925925926,0.0185185185185185,0.0291005291005291,0.037037037037037,0.0396825396825397,0.0291005291005291,0.0291005291005291,0.0264550264550265,0.0264550264550265,0.0396825396825397,0.044973544973545,0.0291005291005291,0.0211640211640212,0.0238095238095238,0.0396825396825397,0.0291005291005291,0.0238095238095238,0.0238095238095238,0.0317460317460317,0.0264550264550265,0.0343915343915344,0.037037037037037,0.0264550264550265,0.0238095238095238,0.0264550264550265,0.0423280423280423,0.0343915343915344,0.0502645502645503,0.0396825396825397,0.037037037037037,0.037037037037037,0.0476190476190476,0.0396825396825397,0.0343915343915344,0.0396825396825397,0.0476190476190476,0.0343915343915344,0.0529100529100529,0.0634920634920635,0.0502645502645503,0.0529100529100529,0.0740740740740741,0.0423280423280423,0.0634920634920635,0.0529100529100529,0.044973544973545,0.0714285714285714,0.0502645502645503,0.0502645502645503,0.0687830687830688,0.0529100529100529,0.0714285714285714,0.0687830687830688,0.0582010582010582,0.0661375661375661,0.0476190476190476,0.0714285714285714,0.0529100529100529,0.0793650793650794,0.0555555555555556,0.0793650793650794,0.0634920634920635,0.0714285714285714,0.0846560846560847,0.0740740740740741,0.0767195767195767,0.082010582010582,0.0978835978835979,0.0714285714285714,0.0634920634920635,0.0899470899470899,0.0740740740740741,0.0952380952380952,0.0873015873015873,0.082010582010582,0.116402116402116,0.116402116402116,0.100529100529101,0.124338624338624,0.0925925925925926,0.105820105820106,0.134920634920635,0.134920634920635,0.150793650793651,0.174603174603175,0.153439153439153,0.21957671957672,0.195767195767196,0.238095238095238,0.246031746031746,0.240740740740741,0.293650793650794,0.261904761904762,0.317460317460317,0.341269841269841,0.391534391534392,0.431216931216931,0.521164021164021,0.518518518518518,0.584656084656085,0.579365079365079,0.727513227513227,0.841269841269841,0.883597883597883,0.976190476190476,0.986772486772487,0.94973544973545,0.94973544973545,1,0.843915343915344,0.73015873015873,0.611111111111111,0.473544973544973,0.388888888888889,0.396825396825397,0.30952380952381,0.26984126984127,0.253968253968254,0.267195767195767,0.193121693121693,0.198412698412698,0.108465608465608,0.137566137566138,0.108465608465608,0.132275132275132,0.100529100529101,0.105820105820106,0.0899470899470899,0.0529100529100529,0.0608465608465608,0.0634920634920635,0.0476190476190476,0.0529100529100529,0.0661375661375661,0.0502645502645503,0.037037037037037,0.0291005291005291,0.0582010582010582,0.0423280423280423,0.037037037037037,0.0343915343915344,0.037037037037037,0.0211640211640212,0.0238095238095238,0.0317460317460317,0.0211640211640212,0.0185185185185185,0.0291005291005291,0.0317460317460317,0.037037037037037,0.0343915343915344,0.0158730158730159,0.0211640211640212,0.0238095238095238,0.0211640211640212,0.0158730158730159,0.00529100529100529,0.0264550264550265,0.0105820105820106,0.0158730158730159,0.0132275132275132,0.0132275132275132,0.0158730158730159,0.0238095238095238,0.0105820105820106,0.0158730158730159,0.0105820105820106,0.00264550264550265,0.0105820105820106,0.0158730158730159,0.0105820105820106,0.00529100529100529,0.00529100529100529,0.00529100529100529,0.0105820105820106,0.00264550264550265,0.00529100529100529,0.00793650793650794,0.00264550264550265,0.00529100529100529,0.00529100529100529,0.00529100529100529,0.00793650793650794,0.00529100529100529,0.00529100529100529,0.00264550264550265,0,0.00264550264550265,0,0.00529100529100529,0.00264550264550265,0.00529100529100529,0.00529100529100529,0,0.00793650793650794,0.00264550264550265,0.00264550264550265,0.00529100529100529,0.00793650793650794,0.00264550264550265,0,0]},{\"_typename\":\"TLegend\",\"fUniqueID\":0,\"fBits\":8,\"fLineColor\":1,\"fLineStyle\":1,\"fLineWidth\":1,\"fFillColor\":0,\"fFillStyle\":1001,\"fX1\":100.000000149012,\"fY1\":0.918750005867333,\"fX2\":110.000000298023,\"fY2\":1.05000000782311,\"fX1NDC\":0.7,\"fY1NDC\":0.8,\"fX2NDC\":0.9,\"fY2NDC\":0.9,\"fBorderSize\":1,\"fInit\":1,\"fShadowColor\":1,\"fCornerRadius\":0,\"fOption\":\"brNDC\",\"fName\":\"TPave\",\"fTextAngle\":0,\"fTextSize\":0,\"fTextAlign\":12,\"fTextColor\":1,\"fTextFont\":42,\"fPrimitives\":{\"_typename\":\"TList\",\"name\":\"TList\",\"arr\":[{\"_typename\":\"TLegendEntry\",\"fUniqueID\":0,\"fBits\":0,\"fTextAngle\":0,\"fTextSize\":0,\"fTextAlign\":0,\"fTextColor\":0,\"fTextFont\":42,\"fLineColor\":632,\"fLineStyle\":1,\"fLineWidth\":2,\"fFillColor\":0,\"fFillStyle\":1001,\"fMarkerColor\":1,\"fMarkerStyle\":1,\"fMarkerSize\":1,\"fObject\":{\"$ref\":5},\"fLabel\":\"FSR OFF\",\"fOption\":\"lpf\"},{\"_typename\":\"TLegendEntry\",\"fUniqueID\":0,\"fBits\":0,\"fTextAngle\":0,\"fTextSize\":0,\"fTextAlign\":0,\"fTextColor\":0,\"fTextFont\":42,\"fLineColor\":602,\"fLineStyle\":1,\"fLineWidth\":2,\"fFillColor\":0,\"fFillStyle\":1001,\"fMarkerColor\":1,\"fMarkerStyle\":1,\"fMarkerSize\":1,\"fObject\":{\"$ref\":10},\"fLabel\":\"FSR ON\",\"fOption\":\"lpf\"}],\"opt\":[\"lpf\",\"lpf\"]},\"fEntrySeparation\":0.1,\"fMargin\":0.25,\"fNColumns\":1,\"fColumnSeparation\":0}],\"opt\":[\"\",\"hist\",\"same hist\",\"\"]},\"fExecs\":{\"_typename\":\"TList\",\"name\":\"TList\",\"arr\":[],\"opt\":[]},\"fName\":\"cz_1\",\"fTitle\":\"cz_1\",\"fNumPaletteColor\":0,\"fNextPaletteColor\":0},{\"_typename\":\"TPad\",\"fUniqueID\":0,\"fBits\":9,\"fLineColor\":1,\"fLineStyle\":1,\"fLineWidth\":1,\"fFillColor\":0,\"fFillStyle\":1001,\"fLeftMargin\":0.1,\"fRightMargin\":0.1,\"fBottomMargin\":0.1,\"fTopMargin\":0.1,\"fXfile\":2,\"fYfile\":2,\"fAfile\":1,\"fXstat\":0.99,\"fYstat\":0.99,\"fAstat\":2,\"fFrameFillColor\":0,\"fFrameLineColor\":1,\"fFrameFillStyle\":1001,\"fFrameLineStyle\":1,\"fFrameLineWidth\":1,\"fFrameBorderSize\":1,\"fFrameBorderMode\":0,\"fX1\":0,\"fY1\":0,\"fX2\":1,\"fY2\":1,\"fXtoAbsPixelk\":813.960049643266,\"fXtoPixelk\":5e-5,\"fXtoPixel\":766.080000713468,\"fYtoAbsPixelk\":574.280050261962,\"fYtoPixelk\":562.560050523925,\"fYtoPixel\":-562.560000523925,\"fUtoAbsPixelk\":813.960049643266,\"fUtoPixelk\":5e-5,\"fUtoPixel\":766.080000713468,\"fVtoAbsPixelk\":574.280050261962,\"fVtoPixelk\":562.560000523925,\"fVtoPixel\":-562.560000523925,\"fAbsPixeltoXk\":-1.06249999854481,\"fPixeltoXk\":0,\"fPixeltoX\":0.00130534669886784,\"fAbsPixeltoYk\":1.02083333284827,\"fPixeltoYk\":0,\"fPixeltoY\":-0.00177758816671764,\"fXlowNDC\":0.509999999776483,\"fYlowNDC\":0.509999999776483,\"fXUpNDC\":0.990000000223517,\"fYUpNDC\":0.990000000223517,\"fWNDC\":0.480000000447035,\"fHNDC\":0.480000000447035,\"fAbsXlowNDC\":0.509999999776483,\"fAbsYlowNDC\":0.509999999776483,\"fAbsWNDC\":0.480000000447035,\"fAbsHNDC\":0.480000000447035,\"fUxmin\":0,\"fUymin\":0,\"fUxmax\":1,\"fUymax\":1,\"fTheta\":30,\"fPhi\":30,\"fAspectRatio\":0,\"fNumber\":2,\"fTickx\":0,\"fTicky\":0,\"fLogx\":0,\"fLogy\":0,\"fLogz\":0,\"fPadPaint\":0,\"fCrosshair\":0,\"fCrosshairPos\":0,\"fBorderSize\":2,\"fBorderMode\":0,\"fModified\":false,\"fGridx\":false,\"fGridy\":false,\"fAbsCoord\":false,\"fEditable\":true,\"fFixedAspectRatio\":false,\"fPrimitives\":{\"_typename\":\"TList\",\"name\":\"TList\",\"arr\":[],\"opt\":[]},\"fExecs\":{\"_typename\":\"TList\",\"name\":\"TList\",\"arr\":[],\"opt\":[]},\"fName\":\"cz_2\",\"fTitle\":\"cz_2\",\"fNumPaletteColor\":0,\"fNextPaletteColor\":0},{\"_typename\":\"TPad\",\"fUniqueID\":0,\"fBits\":9,\"fLineColor\":1,\"fLineStyle\":1,\"fLineWidth\":1,\"fFillColor\":0,\"fFillStyle\":1001,\"fLeftMargin\":0.1,\"fRightMargin\":0.1,\"fBottomMargin\":0.1,\"fTopMargin\":0.1,\"fXfile\":2,\"fYfile\":2,\"fAfile\":1,\"fXstat\":0.99,\"fYstat\":0.99,\"fAstat\":2,\"fFrameFillColor\":0,\"fFrameLineColor\":1,\"fFrameFillStyle\":1001,\"fFrameLineStyle\":1,\"fFrameLineWidth\":1,\"fFrameBorderSize\":1,\"fFrameBorderMode\":0,\"fX1\":-12.5000001862645,\"fY1\":-0.0207566388770576,\"fX2\":12.5000001862645,\"fY2\":0.186809737521598,\"fXtoAbsPixelk\":399.00005,\"fXtoPixelk\":383.040050356734,\"fXtoPixel\":30.6431995719194,\"fYtoAbsPixelk\":1104.02404685645,\"fYtoPixelk\":506.304047118413,\"fYtoPixel\":-2710.26555593698,\"fUtoAbsPixelk\":15.9600496432662,\"fUtoPixelk\":5e-5,\"fUtoPixel\":766.080000713468,\"fVtoAbsPixelk\":1160.28005026196,\"fVtoPixelk\":562.560000523925,\"fVtoPixel\":-562.560000523925,\"fAbsPixeltoXk\":-13.0208335152323,\"fPixeltoXk\":-12.5000001862645,\"fPixeltoX\":0.0326336679579756,\"fAbsPixeltoYk\":0.40734901214312,\"fPixeltoYk\":-0.0207566388770576,\"fPixeltoY\":-3.6896753449471e-4,\"fXlowNDC\":0.00999999977648258,\"fYlowNDC\":0.00999999977648258,\"fXUpNDC\":0.490000000223517,\"fYUpNDC\":0.490000000223517,\"fWNDC\":0.480000000447035,\"fHNDC\":0.480000000447035,\"fAbsXlowNDC\":0.00999999977648258,\"fAbsYlowNDC\":0.00999999977648258,\"fAbsWNDC\":0.480000000447035,\"fAbsHNDC\":0.480000000447035,\"fUxmin\":-10,\"fUymin\":0,\"fUxmax\":10,\"fUymax\":0.16605309864454,\"fTheta\":30,\"fPhi\":30,\"fAspectRatio\":0,\"fNumber\":3,\"fTickx\":0,\"fTicky\":0,\"fLogx\":0,\"fLogy\":0,\"fLogz\":0,\"fPadPaint\":0,\"fCrosshair\":0,\"fCrosshairPos\":0,\"fBorderSize\":2,\"fBorderMode\":0,\"fModified\":false,\"fGridx\":false,\"fGridy\":false,\"fAbsCoord\":false,\"fEditable\":true,\"fFixedAspectRatio\":false,\"fPrimitives\":{\"_typename\":\"TList\",\"name\":\"TList\",\"arr\":[{\"_typename\":\"TFrame\",\"fUniqueID\":0,\"fBits\":8,\"fLineColor\":1,\"fLineStyle\":1,\"fLineWidth\":1,\"fFillColor\":0,\"fFillStyle\":1001,\"fX1\":-10,\"fY1\":0,\"fX2\":10,\"fY2\":0.16605309864454,\"fBorderSize\":1,\"fBorderMode\":0},{\"_typename\":\"TH1D\",\"fUniqueID\":0,\"fBits\":520,\"fName\":\"h_etaz\",\"fTitle\":\"\",\"fLineColor\":602,\"fLineStyle\":1,\"fLineWidth\":1,\"fFillColor\":0,\"fFillStyle\":1001,\"fMarkerColor\":600,\"fMarkerStyle\":20,\"fMarkerSize\":1,\"fNcells\":102,\"fXaxis\":{\"_typename\":\"TAxis\",\"fUniqueID\":0,\"fBits\":0,\"fName\":\"xaxis\",\"fTitle\":\"#eta\",\"fNdivisions\":510,\"fAxisColor\":1,\"fLabelColor\":1,\"fLabelFont\":42,\"fLabelOffset\":0.005,\"fLabelSize\":0.035,\"fTickLength\":0.03,\"fTitleOffset\":1,\"fTitleSize\":0.035,\"fTitleColor\":1,\"fTitleFont\":42,\"fNbins\":100,\"fXmin\":-10,\"fXmax\":10,\"fXbins\":[],\"fFirst\":0,\"fLast\":0,\"fBits2\":0,\"fTimeDisplay\":false,\"fTimeFormat\":\"\",\"fLabels\":null,\"fModLabs\":null},\"fYaxis\":{\"_typename\":\"TAxis\",\"fUniqueID\":0,\"fBits\":0,\"fName\":\"yaxis\",\"fTitle\":\"#frac{dN}{d#eta}\",\"fNdivisions\":510,\"fAxisColor\":1,\"fLabelColor\":1,\"fLabelFont\":42,\"fLabelOffset\":0.005,\"fLabelSize\":0.035,\"fTickLength\":0.03,\"fTitleOffset\":0,\"fTitleSize\":15,\"fTitleColor\":1,\"fTitleFont\":42,\"fNbins\":1,\"fXmin\":0,\"fXmax\":1,\"fXbins\":[],\"fFirst\":0,\"fLast\":0,\"fBits2\":0,\"fTimeDisplay\":false,\"fTimeFormat\":\"\",\"fLabels\":null,\"fModLabs\":null},\"fZaxis\":{\"_typename\":\"TAxis\",\"fUniqueID\":0,\"fBits\":0,\"fName\":\"zaxis\",\"fTitle\":\"\",\"fNdivisions\":510,\"fAxisColor\":1,\"fLabelColor\":1,\"fLabelFont\":42,\"fLabelOffset\":0.005,\"fLabelSize\":0.035,\"fTickLength\":0.03,\"fTitleOffset\":1,\"fTitleSize\":0.035,\"fTitleColor\":1,\"fTitleFont\":42,\"fNbins\":1,\"fXmin\":0,\"fXmax\":1,\"fXbins\":[],\"fFirst\":0,\"fLast\":0,\"fBits2\":0,\"fTimeDisplay\":false,\"fTimeFormat\":\"\",\"fLabels\":null,\"fModLabs\":null},\"fBarOffset\":0,\"fBarWidth\":1000,\"fEntries\":10000,\"fTsumw\":5,\"fTsumw2\":0.0025,\"fTsumwx\":0.0675852102230265,\"fTsumwx2\":43.6953771764557,\"fMaximum\":-1111,\"fMinimum\":-1111,\"fNormFactor\":0,\"fContour\":[],\"fSumw2\":[0,0,0,0,0,0,0,0,2.5e-7,0,0,0,7.5e-7,0,5e-7,2.5e-7,2.5e-7,0,7.5e-7,1e-6,4e-6,3.75e-6,4.75e-6,5.25e-6,8.25e-6,1.65e-5,1.65e-5,1.95e-5,2.7e-5,3.575e-5,3.9e-5,5.05e-5,6.45e-5,6.575e-5,6.5e-5,7.225e-5,7.475e-5,7.325e-5,6.975e-5,6.25e-5,6.275e-5,5.625e-5,6e-5,4.7e-5,4.575e-5,4.225e-5,3.05e-5,3.375e-5,3.275e-5,3.2e-5,3.125e-5,2.375e-5,2.7e-5,2.575e-5,2.875e-5,3.425e-5,4.3e-5,4e-5,5.3e-5,5.4e-5,5.95e-5,6.05e-5,7e-5,6.7e-5,7.1e-5,6.875e-5,6.825e-5,6.75e-5,6.9e-5,6.175e-5,5.55e-5,4.575e-5,3.55e-5,2.95e-5,2.2e-5,1.975e-5,1.1e-5,1.175e-5,7.5e-6,5.75e-6,3.25e-6,1.5e-6,7.5e-7,5e-7,5e-7,2.5e-7,0,0,0,0,0,0,0,0,0,0,0,0,0,0,0,0],\"fOption\":\"\",\"fFunctions\":{\"_typename\":\"TList\",\"name\":\"TList\",\"arr\":[],\"opt\":[]},\"fBufferSize\":0,\"fBuffer\":[],\"fBinStatErrOpt\":0,\"fStatOverflows\":2,\"fArray\":[0,0,0,0,0,0,0,0,5e-4,0,0,0,0.0015,0,0.001,5e-4,5e-4,0,0.0015,0.002,0.008,0.0075,0.0095,0.0105,0.0165,0.033,0.033,0.039,0.054,0.0715,0.078,0.101,0.129,0.1315,0.13,0.1445,0.1495,0.1465,0.1395,0.125,0.1255,0.1125,0.12,0.094,0.0915,0.0845,0.061,0.0675,0.0655,0.064,0.0625,0.0475,0.054,0.0515,0.0575,0.0685,0.086,0.08,0.106,0.108,0.119,0.121,0.14,0.134,0.142,0.1375,0.1365,0.135,0.138,0.1235,0.111,0.0915,0.071,0.059,0.044,0.0395,0.022,0.0235,0.015,0.0115,0.0065,0.003,0.0015,0.001,0.001,5e-4,0,0,0,0,0,0,0,0,0,0,0,0,0,0,0,0]}],\"opt\":[\"\",\"\"]},\"fExecs\":{\"_typename\":\"TList\",\"name\":\"TList\",\"arr\":[],\"opt\":[]},\"fName\":\"cz_3\",\"fTitle\":\"cz_3\",\"fNumPaletteColor\":0,\"fNextPaletteColor\":0},{\"_typename\":\"TPad\",\"fUniqueID\":0,\"fBits\":9,\"fLineColor\":1,\"fLineStyle\":1,\"fLineWidth\":1,\"fFillColor\":0,\"fFillStyle\":1001,\"fLeftMargin\":0.1,\"fRightMargin\":0.1,\"fBottomMargin\":0.1,\"fTopMargin\":0.1,\"fXfile\":2,\"fYfile\":2,\"fAfile\":1,\"fXstat\":0.99,\"fYstat\":0.99,\"fAstat\":2,\"fFrameFillColor\":0,\"fFrameLineColor\":1,\"fFrameFillStyle\":1001,\"fFrameLineStyle\":1,\"fFrameLineWidth\":1,\"fFrameBorderSize\":1,\"fFrameBorderMode\":0,\"fX1\":-6.25000046566131,\"fY1\":-0.0170357260590923,\"fX2\":56.2500004656613,\"fY2\":0.153321524377747,\"fXtoAbsPixelk\":890.568054280806,\"fXtoPixelk\":76.6080546375396,\"fXtoPixel\":12.2572798287678,\"fYtoAbsPixelk\":1104.02404685645,\"fYtoPixelk\":506.304047118413,\"fYtoPixel\":-3302.2369114398,\"fUtoAbsPixelk\":813.960049643266,\"fUtoPixelk\":5e-5,\"fUtoPixel\":766.080000713468,\"fVtoAbsPixelk\":1160.28005026196,\"fVtoPixelk\":562.560000523925,\"fVtoPixel\":-562.560000523925,\"fAbsPixeltoXk\":-72.6562513642421,\"fPixeltoXk\":-6.25000046566131,\"fPixeltoX\":0.0815841698949391,\"fAbsPixeltoYk\":0.334326102718986,\"fPixeltoYk\":-0.0170357260590923,\"fPixeltoY\":-3.0282503249108e-4,\"fXlowNDC\":0.509999999776483,\"fYlowNDC\":0.00999999977648258,\"fXUpNDC\":0.990000000223517,\"fYUpNDC\":0.490000000223517,\"fWNDC\":0.480000000447035,\"fHNDC\":0.480000000447035,\"fAbsXlowNDC\":0.509999999776483,\"fAbsYlowNDC\":0.00999999977648258,\"fAbsWNDC\":0.480000000447035,\"fAbsHNDC\":0.480000000447035,\"fUxmin\":0,\"fUymin\":0,\"fUxmax\":50,\"fUymax\":0.136285798318655,\"fTheta\":30,\"fPhi\":30,\"fAspectRatio\":0,\"fNumber\":4,\"fTickx\":0,\"fTicky\":0,\"fLogx\":0,\"fLogy\":0,\"fLogz\":0,\"fPadPaint\":0,\"fCrosshair\":0,\"fCrosshairPos\":0,\"fBorderSize\":2,\"fBorderMode\":0,\"fModified\":false,\"fGridx\":false,\"fGridy\":false,\"fAbsCoord\":false,\"fEditable\":true,\"fFixedAspectRatio\":false,\"fPrimitives\":{\"_typename\":\"TList\",\"name\":\"TList\",\"arr\":[{\"_typename\":\"TFrame\",\"fUniqueID\":0,\"fBits\":8,\"fLineColor\":1,\"fLineStyle\":1,\"fLineWidth\":1,\"fFillColor\":0,\"fFillStyle\":1001,\"fX1\":0,\"fY1\":0,\"fX2\":50,\"fY2\":0.136285798318655,\"fBorderSize\":1,\"fBorderMode\":0},{\"_typename\":\"TH1D\",\"fUniqueID\":0,\"fBits\":520,\"fName\":\"h_ptz\",\"fTitle\":\"\",\"fLineColor\":602,\"fLineStyle\":1,\"fLineWidth\":1,\"fFillColor\":0,\"fFillStyle\":1001,\"fMarkerColor\":600,\"fMarkerStyle\":20,\"fMarkerSize\":1,\"fNcells\":102,\"fXaxis\":{\"_typename\":\"TAxis\",\"fUniqueID\":0,\"fBits\":0,\"fName\":\"xaxis\",\"fTitle\":\"p_{T} [GeV\\/c]\",\"fNdivisions\":510,\"fAxisColor\":1,\"fLabelColor\":1,\"fLabelFont\":42,\"fLabelOffset\":0.005,\"fLabelSize\":0.035,\"fTickLength\":0.03,\"fTitleOffset\":1.5,\"fTitleSize\":0.035,\"fTitleColor\":1,\"fTitleFont\":42,\"fNbins\":100,\"fXmin\":0,\"fXmax\":50,\"fXbins\":[],\"fFirst\":0,\"fLast\":0,\"fBits2\":0,\"fTimeDisplay\":false,\"fTimeFormat\":\"\",\"fLabels\":null,\"fModLabs\":null},\"fYaxis\":{\"_typename\":\"TAxis\",\"fUniqueID\":0,\"fBits\":0,\"fName\":\"yaxis\",\"fTitle\":\"#frac{dN}{dp_{T}} [GeV\\/c]^{-1}\",\"fNdivisions\":510,\"fAxisColor\":1,\"fLabelColor\":1,\"fLabelFont\":42,\"fLabelOffset\":0.005,\"fLabelSize\":0.035,\"fTickLength\":0.03,\"fTitleOffset\":0,\"fTitleSize\":15,\"fTitleColor\":1,\"fTitleFont\":42,\"fNbins\":1,\"fXmin\":0,\"fXmax\":1,\"fXbins\":[],\"fFirst\":0,\"fLast\":0,\"fBits2\":0,\"fTimeDisplay\":false,\"fTimeFormat\":\"\",\"fLabels\":null,\"fModLabs\":null},\"fZaxis\":{\"_typename\":\"TAxis\",\"fUniqueID\":0,\"fBits\":0,\"fName\":\"zaxis\",\"fTitle\":\"\",\"fNdivisions\":510,\"fAxisColor\":1,\"fLabelColor\":1,\"fLabelFont\":42,\"fLabelOffset\":0.005,\"fLabelSize\":0.035,\"fTickLength\":0.03,\"fTitleOffset\":1,\"fTitleSize\":0.035,\"fTitleColor\":1,\"fTitleFont\":42,\"fNbins\":1,\"fXmin\":0,\"fXmax\":1,\"fXbins\":[],\"fFirst\":0,\"fLast\":0,\"fBits2\":0,\"fTimeDisplay\":false,\"fTimeFormat\":\"\",\"fLabels\":null,\"fModLabs\":null},\"fBarOffset\":0,\"fBarWidth\":1000,\"fEntries\":10000,\"fTsumw\":1.9868,\"fTsumw2\":3.9736e-4,\"fTsumwx\":15.9308012173599,\"fTsumwx2\":247.347312131597,\"fMaximum\":-1111,\"fMinimum\":-1111,\"fNormFactor\":0,\"fContour\":[],\"fSumw2\":[0,4.48e-6,1.176e-5,1.764e-5,2.204e-5,2.496e-5,2.296e-5,2.192e-5,2.332e-5,1.94e-5,1.692e-5,1.604e-5,1.38e-5,1.316e-5,1.224e-5,1.12e-5,1.06e-5,8.88e-6,8.36e-6,7.12e-6,7.36e-6,6.28e-6,6.52e-6,5.08e-6,4.8e-6,5.12e-6,4.52e-6,3.76e-6,4.4e-6,3.8e-6,3.64e-6,3.16e-6,2.84e-6,2.8e-6,3.2e-6,2.16e-6,2.96e-6,2.04e-6,1.52e-6,1.44e-6,2.16e-6,1.08e-6,1.84e-6,1.56e-6,1.12e-6,1.48e-6,8e-7,1.16e-6,1.44e-6,1.08e-6,1e-6,6.8e-7,8.4e-7,8.4e-7,8.4e-7,6.4e-7,8.4e-7,6.4e-7,7.6e-7,8.4e-7,4e-7,4.4e-7,3.6e-7,7.6e-7,6.4e-7,6.4e-7,6.8e-7,2.8e-7,2.8e-7,3.6e-7,3.6e-7,4.4e-7,3.6e-7,3.2e-7,5.6e-7,2e-7,4e-8,2.4e-7,2e-7,3.2e-7,2.4e-7,2.4e-7,2.4e-7,2.4e-7,1.6e-7,1.2e-7,4e-7,1.2e-7,3.2e-7,1.6e-7,1.2e-7,1.2e-7,1.2e-7,2.4e-7,2e-7,4e-8,2e-7,4e-8,8e-8,1.2e-7,1.2e-7,2.64e-6],\"fOption\":\"\",\"fFunctions\":{\"_typename\":\"TList\",\"name\":\"TList\",\"arr\":[],\"opt\":[]},\"fBufferSize\":0,\"fBuffer\":[],\"fBinStatErrOpt\":0,\"fStatOverflows\":2,\"fArray\":[0,0.0224,0.0588,0.0882,0.1102,0.1248,0.1148,0.1096,0.1166,0.097,0.0846,0.0802,0.069,0.0658,0.0612,0.056,0.053,0.0444,0.0418,0.0356,0.0368,0.0314,0.0326,0.0254,0.024,0.0256,0.0226,0.0188,0.022,0.019,0.0182,0.0158,0.0142,0.014,0.016,0.0108,0.0148,0.0102,0.0076,0.0072,0.0108,0.0054,0.0092,0.0078,0.0056,0.0074,0.004,0.0058,0.0072,0.0054,0.005,0.0034,0.0042,0.0042,0.0042,0.0032,0.0042,0.0032,0.0038,0.0042,0.002,0.0022,0.0018,0.0038,0.0032,0.0032,0.0034,0.0014,0.0014,0.0018,0.0018,0.0022,0.0018,0.0016,0.0028,0.001,2e-4,0.0012,0.001,0.0016,0.0012,0.0012,0.0012,0.0012,8e-4,6e-4,0.002,6e-4,0.0016,8e-4,6e-4,6e-4,6e-4,0.0012,0.001,2e-4,0.001,2e-4,4e-4,6e-4,6e-4,0.0132]}],\"opt\":[\"\",\"\"]},\"fExecs\":{\"_typename\":\"TList\",\"name\":\"TList\",\"arr\":[],\"opt\":[]},\"fName\":\"cz_4\",\"fTitle\":\"cz_4\",\"fNumPaletteColor\":0,\"fNextPaletteColor\":0},{\"_typename\":\"TStyle\",\"fUniqueID\":0,\"fBits\":0,\"fName\":\"Modern\",\"fTitle\":\"Modern Style\",\"fLineColor\":1,\"fLineStyle\":1,\"fLineWidth\":1,\"fFillColor\":19,\"fFillStyle\":1001,\"fMarkerColor\":1,\"fMarkerStyle\":1,\"fMarkerSize\":1,\"fTextAngle\":0,\"fTextSize\":0.05,\"fTextAlign\":11,\"fTextColor\":1,\"fTextFont\":62,\"fXaxis\":{\"_typename\":\"TAttAxis\",\"fNdivisions\":510,\"fAxisColor\":1,\"fLabelColor\":1,\"fLabelFont\":42,\"fLabelOffset\":0.005,\"fLabelSize\":0.035,\"fTickLength\":0.03,\"fTitleOffset\":1,\"fTitleSize\":0.035,\"fTitleColor\":1,\"fTitleFont\":42},\"fYaxis\":{\"_typename\":\"TAttAxis\",\"fNdivisions\":510,\"fAxisColor\":1,\"fLabelColor\":1,\"fLabelFont\":42,\"fLabelOffset\":0.005,\"fLabelSize\":0.035,\"fTickLength\":0.03,\"fTitleOffset\":0,\"fTitleSize\":0.035,\"fTitleColor\":1,\"fTitleFont\":42},\"fZaxis\":{\"_typename\":\"TAttAxis\",\"fNdivisions\":510,\"fAxisColor\":1,\"fLabelColor\":1,\"fLabelFont\":42,\"fLabelOffset\":0.005,\"fLabelSize\":0.035,\"fTickLength\":0.03,\"fTitleOffset\":1,\"fTitleSize\":0.035,\"fTitleColor\":1,\"fTitleFont\":42},\"fBarWidth\":1,\"fBarOffset\":0,\"fColorModelPS\":0,\"fDrawBorder\":0,\"fOptLogx\":0,\"fOptLogy\":0,\"fOptLogz\":0,\"fOptDate\":0,\"fOptStat\":0,\"fOptTitle\":1,\"fOptFile\":0,\"fOptFit\":0,\"fShowEventStatus\":0,\"fShowEditor\":0,\"fShowToolBar\":0,\"fNumberContours\":20,\"fAttDate\":{\"_typename\":\"TAttText\",\"fTextAngle\":0,\"fTextSize\":0.025,\"fTextAlign\":11,\"fTextColor\":1,\"fTextFont\":62},\"fDateX\":0.01,\"fDateY\":0.01,\"fEndErrorSize\":2,\"fErrorX\":0.5,\"fFuncColor\":2,\"fFuncStyle\":1,\"fFuncWidth\":2,\"fGridColor\":0,\"fGridStyle\":3,\"fGridWidth\":1,\"fLegendBorderSize\":1,\"fLegendFillColor\":0,\"fLegendFont\":42,\"fLegendTextSize\":0,\"fHatchesLineWidth\":1,\"fHatchesSpacing\":1,\"fFrameFillColor\":0,\"fFrameLineColor\":1,\"fFrameFillStyle\":1001,\"fFrameLineStyle\":1,\"fFrameLineWidth\":1,\"fFrameBorderSize\":1,\"fFrameBorderMode\":0,\"fHistFillColor\":0,\"fHistLineColor\":602,\"fHistFillStyle\":1001,\"fHistLineStyle\":1,\"fHistLineWidth\":1,\"fHistMinimumZero\":false,\"fHistTopMargin\":0.05,\"fCanvasPreferGL\":false,\"fCanvasColor\":0,\"fCanvasBorderSize\":2,\"fCanvasBorderMode\":0,\"fCanvasDefH\":500,\"fCanvasDefW\":700,\"fCanvasDefX\":10,\"fCanvasDefY\":10,\"fPadColor\":0,\"fPadBorderSize\":2,\"fPadBorderMode\":0,\"fPadBottomMargin\":0.1,\"fPadTopMargin\":0.1,\"fPadLeftMargin\":0.1,\"fPadRightMargin\":0.1,\"fPadGridX\":false,\"fPadGridY\":false,\"fPadTickX\":0,\"fPadTickY\":0,\"fPaperSizeX\":20,\"fPaperSizeY\":26,\"fScreenFactor\":1,\"fStatColor\":0,\"fStatTextColor\":1,\"fStatBorderSize\":1,\"fStatFont\":42,\"fStatFontSize\":0,\"fStatStyle\":1001,\"fStatFormat\":\"6.4g\",\"fStatX\":0.98,\"fStatY\":0.935,\"fStatW\":0.2,\"fStatH\":0.16,\"fStripDecimals\":true,\"fTitleAlign\":23,\"fTitleColor\":0,\"fTitleTextColor\":1,\"fTitleBorderSize\":0,\"fTitleFont\":42,\"fTitleFontSize\":0.05,\"fTitleStyle\":0,\"fTitleX\":0.5,\"fTitleY\":0.995,\"fTitleW\":0,\"fTitleH\":0,\"fLegoInnerR\":0.5,\"fLineStyle\":[\"\",\"  \",\" 12 12\",\" 4 8\",\" 12 16 4 16\",\" 20 12 4 12\",\" 20 12 4 12 4 12 4 12\",\" 20 20\",\" 20 12 4 12 4 12\",\" 80 20\",\" 80 40 4 40\",\"  \",\"  \",\"  \",\"  \",\"  \",\"  \",\"  \",\"  \",\"  \",\"  \",\"  \",\"  \",\"  \",\"  \",\"  \",\"  \",\"  \",\"  \",\"  \"],\"fHeaderPS\":\"\",\"fTitlePS\":\"\",\"fFitFormat\":\"5.4g\",\"fPaintTextFormat\":\"g\",\"fLineScalePS\":3,\"fJoinLinePS\":0,\"fCapLinePS\":0,\"fTimeOffset\":788918400,\"fImageScaling\":1}],\"opt\":[\"\",\"\",\"\",\"\",\"\"]},\"fExecs\":null,\"fName\":\"cz\",\"fTitle\":\"\",\"fNumPaletteColor\":0,\"fNextPaletteColor\":0,\"fDISPLAY\":\"$DISPLAY\",\"fDoubleBuffer\":0,\"fRetained\":true,\"fXsizeUser\":0,\"fYsizeUser\":0,\"fXsizeReal\":20,\"fYsizeReal\":15,\"fWindowTopX\":0,\"fWindowTopY\":0,\"fWindowWidth\":0,\"fWindowHeight\":0,\"fCw\":1596,\"fCh\":1172,\"fCatt\":{\"_typename\":\"TAttCanvas\",\"fXBetween\":2,\"fYBetween\":2,\"fTitleFromTop\":1.2,\"fXdate\":0.2,\"fYdate\":0.3,\"fAdate\":1},\"kMoveOpaque\":true,\"kResizeOpaque\":true,\"fHighLightColor\":2,\"fBatch\":true,\"kShowEventStatus\":false,\"kAutoExec\":true,\"kMenuBar\":true});\n",
       "   Core.settings.HandleKeys = false;\n",
       "   Core.draw(\"root_plot_1645993131802\", obj, \"\");\n",
       "}\n",
       "\n",
       "function script_load_root_plot_1645993131802(src, on_error) {\n",
       "    let script = document.createElement('script');\n",
       "    script.src = src;\n",
       "    script.onload = function() { display_root_plot_1645993131802(JSROOT); };\n",
       "    script.onerror = function() { script.remove(); on_error(); };\n",
       "    document.head.appendChild(script);\n",
       "}\n",
       "\n",
       "if (typeof requirejs !== 'undefined') {\n",
       "\n",
       "    // We are in jupyter notebooks, use require.js which should be configured already\n",
       "    requirejs.config({\n",
       "       paths: { 'JSRootCore' : [ 'scripts/JSRoot.core', 'https://root.cern/js/6.1.1/scripts/JSRoot.core.min', 'https://jsroot.gsi.de/6.1.1/scripts/JSRoot.core.min' ] }\n",
       "    })(['JSRootCore'],  function(Core) {\n",
       "       display_root_plot_1645993131802(Core);\n",
       "    });\n",
       "\n",
       "} else if (typeof JSROOT !== 'undefined') {\n",
       "\n",
       "   // JSROOT already loaded, just use it\n",
       "   display_root_plot_1645993131802(JSROOT);\n",
       "\n",
       "} else {\n",
       "\n",
       "    // We are in jupyterlab without require.js, directly loading jsroot\n",
       "    // Jupyterlab might be installed in a different base_url so we need to know it.\n",
       "    try {\n",
       "        var base_url = JSON.parse(document.getElementById('jupyter-config-data').innerHTML).baseUrl;\n",
       "    } catch(_) {\n",
       "        var base_url = '/';\n",
       "    }\n",
       "\n",
       "    // Try loading a local version of requirejs and fallback to cdn if not possible.\n",
       "    script_load_root_plot_1645993131802(base_url + 'static/scripts/JSRoot.core.js', function(){\n",
       "        console.error('Fail to load JSROOT locally, please check your jupyter_notebook_config.py file');\n",
       "        script_load_root_plot_1645993131802('https://root.cern/js/6.1.1/scripts/JSRoot.core.min.js', function(){\n",
       "            document.getElementById(\"root_plot_1645993131802\").innerHTML = \"Failed to load JSROOT\";\n",
       "        });\n",
       "    });\n",
       "}\n",
       "\n",
       "</script>\n"
      ],
      "text/plain": [
       "<IPython.core.display.HTML object>"
      ]
     },
     "metadata": {},
     "output_type": "display_data"
    }
   ],
   "source": [
    "nEvents=10000\n",
    "pythia = ROOT.TPythia8(False) #False - disables banner\n",
    "makePythiaSilent(pythia)\n",
    "pythia.ReadString(\"WeakSingleBoson:ffbar2gmZ = on\")\n",
    "pythia.ReadString(\"23:onMode = off\")\n",
    "pythia.ReadString(\"23:onIfAny = 11\")\n",
    "pythia.ReadString(\"HadronLevel:all = off\")\n",
    "pythia.ReadString(\"PhaseSpace:mHatMin = 70.\")\n",
    "pythia.ReadString(\"PhaseSpace:mHatMax = 110.\")\n",
    "pythia.ReadString(\"Random:setSeed = on\")\n",
    "pythia.ReadString(\"Random:seed = 0\")\n",
    "pythia.Initialize(2212 , -2212 , 630);\n",
    "particles = ROOT.TClonesArray(\"TParticle\", 1000) #prepare space for generated particles\n",
    "\n",
    "def getZCandidates(parts):\n",
    "    ep = [p for p in parts if isFinal(p,\"e+\")]\n",
    "    em = [p for p in parts if isFinal(p,\"e-\")]\n",
    "    return list(it.product(ep,em))\n",
    "\n",
    "h_rad=ROOT.TH1D(\"h_rad\",\"\",200,70,110)\n",
    "h_norad=ROOT.TH1D(\"h_norad\",\"\",200,70,110)\n",
    "h_pt=ROOT.TH1D(\"h_ptz\",\"\",100,0,50)\n",
    "h_eta=ROOT.TH1D(\"h_etaz\",\"\",100,-10,10)\n",
    "\n",
    "\n",
    "for i in range(nEvents):\n",
    "    pythia.GenerateEvent()\n",
    "    pythia.ImportParticles(particles,\"All\")\n",
    "    for pair in getZCandidates(particles):\n",
    "        h_rad.Fill(getMinv(pair))\n",
    "    pt=0\n",
    "    eta=0\n",
    "    for p in particles:\n",
    "        if p.GetName()==\"Z0\":\n",
    "            pt=p.Pt()\n",
    "            eta=p.Eta()\n",
    "    h_pt.Fill(pt)\n",
    "    h_eta.Fill(eta)\n",
    "\n",
    "pythia = ROOT.TPythia8(False)\n",
    "makePythiaSilent(pythia)\n",
    "pythia.ReadString(\"WeakSingleBoson:ffbar2gmZ = on\")\n",
    "pythia.ReadString(\"23:onMode = off\")\n",
    "pythia.ReadString(\"23:onIfAny = 11\")\n",
    "pythia.ReadString(\"HadronLevel:all = off\")\n",
    "pythia.ReadString(\"PhaseSpace:mHatMin = 70.\")\n",
    "pythia.ReadString(\"PhaseSpace:mHatMax = 110.\")\n",
    "pythia.ReadString(\"PartonLevel:FSR = off\")\n",
    "pythia.ReadString(\"Random:setSeed = on\")\n",
    "pythia.ReadString(\"Random:seed = 0\")\n",
    "pythia.Initialize(2212 , -2212 , 630);\n",
    "\n",
    "for i in range(nEvents):\n",
    "    pythia.GenerateEvent()\n",
    "    pythia.ImportParticles(particles,\"All\")\n",
    "    for pair in getZCandidates(particles):\n",
    "        h_norad.Fill(getMinv(pair))\n",
    "\n",
    "c_z = ROOT.TCanvas(\"cz\",\"\",1600,1200)\n",
    "c_z.Divide(2,2)\n",
    "c_z.cd(1)\n",
    "\n",
    "h_rad.Scale(1./(h_rad.GetMaximum()))\n",
    "h_norad.Scale(1./(h_norad.GetMaximum()))\n",
    "\n",
    "h_norad.SetLineColor(ROOT.kRed)\n",
    "h_norad.SetLineWidth(2)\n",
    "h_rad.SetLineWidth(2)\n",
    "h_norad.GetXaxis().SetTitle(\"M_{e^{+}e^{-}}\")\n",
    "h_norad.GetXaxis().SetTitleOffset(1.4)\n",
    "h_norad.GetYaxis().SetTitle(\"entries\")\n",
    "h_norad.Draw(\"hist\")\n",
    "h_rad.Draw(\"same hist\")\n",
    "leg=ROOT.TLegend(0.7,0.8,0.9,0.9)\n",
    "leg.AddEntry(h_norad,\"FSR OFF\")\n",
    "leg.AddEntry(h_rad,\"FSR ON\")\n",
    "leg.Draw()\n",
    "\n",
    "h_pt.SetMarkerStyle(ROOT.kFullCircle)\n",
    "h_pt.SetMarkerColor(ROOT.kBlue)\n",
    "h_pt.GetXaxis().SetTitle(\"p_{T} [GeV/c]\")\n",
    "h_pt.GetYaxis().SetTitle(\"#frac{dN}{dp_{T}} [GeV/c]^{-1}\")\n",
    "h_pt.GetXaxis().SetTitleOffset(1.5)\n",
    "h_pt.GetYaxis().SetTitleSize(15)\n",
    "bw=h_pt.GetBinWidth(1)\n",
    "h_pt.Scale(1./(bw*nEvents))\n",
    "\n",
    "h_eta.SetMarkerStyle(ROOT.kFullCircle)\n",
    "h_eta.SetMarkerColor(ROOT.kBlue)\n",
    "h_eta.GetXaxis().SetTitle(\"#eta\")\n",
    "h_eta.GetYaxis().SetTitle(\"#frac{dN}{d#eta}\")\n",
    "h_eta.GetYaxis().SetTitleSize(15)\n",
    "bw=h_eta.GetBinWidth(1)\n",
    "h_eta.Scale(1./(bw*nEvents))\n",
    "\n",
    "c_z.cd(3)\n",
    "h_eta.Draw()\n",
    "c_z.cd(4)\n",
    "h_pt.Draw()\n",
    "c_z.Draw()\n",
    "\n",
    "\n",
    "dnz=ctypes.c_double()\n",
    "nz=h_pt.IntegralAndError(0,-1,dnz,\"width\")\n",
    "\n",
    "print(\"Mean number of Z bosons per event: <N_Z>={:.3f} +/- {:.3f}\".format(nz,dnz.value))"
   ]
  },
  {
   "cell_type": "code",
   "execution_count": 18,
   "metadata": {},
   "outputs": [
    {
     "name": "stdout",
     "output_type": "stream",
     "text": [
      " *** TDatabasePDG::AddParticle: particle with PDGcode=90 already defined\n",
      " *** TDatabasePDG::AddParticle: particle with PDGcode=9900110 already defined\n",
      " *** TDatabasePDG::AddParticle: particle with PDGcode=9900210 already defined\n",
      " *** TDatabasePDG::AddParticle: particle with PDGcode=9900220 already defined\n",
      " *** TDatabasePDG::AddParticle: particle with PDGcode=9900330 already defined\n",
      " *** TDatabasePDG::AddParticle: particle with PDGcode=9900440 already defined\n",
      " *** TDatabasePDG::AddParticle: particle with PDGcode=9902110 already defined\n",
      " *** TDatabasePDG::AddParticle: particle with PDGcode=9902210 already defined\n"
     ]
    }
   ],
   "source": [
    "nEvents=10000\n",
    "pythia = ROOT.TPythia8(False)                       # false to suppress banner\n",
    "makePythiaSilent(pythia)                            # suppress most of pythia console output\n",
    "pythia.ReadString(\"WeakSingleBoson:ffbar2gmZ = on\") # select desired hard process\n",
    "pythia.ReadString(\"23:onMode = off\")                # disable all Z decay channels\n",
    "pythia.ReadString(\"23:onIfAny = 11\")                # enable Z decays to electrons\n",
    "pythia.ReadString(\"HadronLevel:all = off\")          # disable hadronisation\n",
    "pythia.ReadString(\"PhaseSpace:mHatMin = 70.\")       # lower phase space limit\n",
    "pythia.ReadString(\"PhaseSpace:mHatMax = 110.\")      # upper phase space limit\n",
    "pythia.ReadString(\"PartonLevel:FSR = on\")           # turn Final State Radiation on (note: it is on by default)\n",
    "pythia.ReadString(\"Random:setSeed = on\")            # random seed setup \n",
    "pythia.ReadString(\"Random:seed = 0\")                # random seed setup\n",
    "pythia.Initialize(2212 , -2212 , 630)               # initialize pythia\n",
    "particles = ROOT.TClonesArray(\"TParticle\", 1000)    # prepare space for generated particles\n",
    "\n",
    "#your solution goes here"
   ]
  }
 ],
 "metadata": {
  "kernelspec": {
   "display_name": "Python 3",
   "language": "python",
   "name": "python3"
  },
  "language_info": {
   "codemirror_mode": {
    "name": "ipython",
    "version": 3
   },
   "file_extension": ".py",
   "mimetype": "text/x-python",
   "name": "python",
   "nbconvert_exporter": "python",
   "pygments_lexer": "ipython3",
   "version": "3.9.7"
  }
 },
 "nbformat": 4,
 "nbformat_minor": 4
}
