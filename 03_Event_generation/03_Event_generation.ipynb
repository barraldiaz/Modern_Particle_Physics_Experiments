{
 "cells": [
  {
   "cell_type": "markdown",
   "metadata": {},
   "source": [
    "# Event generation\n",
    "Auhtor: Piotr Podlaski"
   ]
  },
  {
   "cell_type": "markdown",
   "metadata": {
    "tags": []
   },
   "source": [
    "## Load ROOT and necessary python packages"
   ]
  },
  {
   "cell_type": "code",
   "execution_count": 1,
   "metadata": {},
   "outputs": [
    {
     "name": "stdout",
     "output_type": "stream",
     "text": [
      "Welcome to JupyROOT 6.24/04\n"
     ]
    }
   ],
   "source": [
    "import ROOT\n",
    "import os, sys, subprocess, time\n",
    "import py8settings as py8s\n",
    "from py8settings import PDF\n",
    "import itertools as it\n",
    "import ctypes\n",
    "\n",
    "%jsroot on"
   ]
  },
  {
   "cell_type": "markdown",
   "metadata": {},
   "source": [
    "## Compile pythia example code necessary to display events in graphical form"
   ]
  },
  {
   "cell_type": "code",
   "execution_count": 22,
   "metadata": {
    "collapsed": true,
    "jupyter": {
     "outputs_hidden": true
    },
    "tags": []
   },
   "outputs": [
    {
     "name": "stdout",
     "output_type": "stream",
     "text": [
      "make: 'main300' is up to date.\n",
      "/scratch/home/piotrek/Modern_Particle_Physics_Experiments/03_Event_generation\n"
     ]
    }
   ],
   "source": [
    "!cd pythia-examples; make main300; cd -"
   ]
  },
  {
   "cell_type": "markdown",
   "metadata": {},
   "source": [
    "## Play with Pythia8 settings and view events"
   ]
  },
  {
   "cell_type": "code",
   "execution_count": 2,
   "metadata": {},
   "outputs": [
    {
     "name": "stdout",
     "output_type": "stream",
     "text": [
      "You can now set the parameters for the incoming beams:\n"
     ]
    },
    {
     "data": {
      "application/vnd.jupyter.widget-view+json": {
       "model_id": "7d50ce7211b9485c92665cfade565371",
       "version_major": 2,
       "version_minor": 0
      },
      "text/plain": [
       "interactive(children=(Dropdown(description='beam A id  [Beams:idA]', index=9, layout=Layout(width='750px'), op…"
      ]
     },
     "metadata": {},
     "output_type": "display_data"
    }
   ],
   "source": [
    "cmnd_file = \"settings.cmnd\"\n",
    "\n",
    "#we start fresh\n",
    "if os.path.exists(cmnd_file):\n",
    "    os.remove(cmnd_file)\n",
    "os.system(\"touch \"+cmnd_file)\n",
    "\n",
    "#beam settings:\n",
    "py8s.beam_settings(cmnd_file)"
   ]
  },
  {
   "cell_type": "code",
   "execution_count": 3,
   "metadata": {},
   "outputs": [
    {
     "name": "stdout",
     "output_type": "stream",
     "text": [
      "You can now select the number of events, settings for the random seed, and processes:\n"
     ]
    },
    {
     "data": {
      "application/vnd.jupyter.widget-view+json": {
       "model_id": "673bd5e11dfe4e46a18a35f8f9a5bfc8",
       "version_major": 2,
       "version_minor": 0
      },
      "text/plain": [
       "interactive(children=(IntText(value=100, description='# of events  [Main:numberOfEvents]', layout=Layout(width…"
      ]
     },
     "metadata": {},
     "output_type": "display_data"
    }
   ],
   "source": [
    "py8s.basic_settings(cmnd_file)"
   ]
  },
  {
   "cell_type": "code",
   "execution_count": 4,
   "metadata": {},
   "outputs": [
    {
     "name": "stdout",
     "output_type": "stream",
     "text": [
      "You can switch on/off different parts of the simulation:\n"
     ]
    },
    {
     "data": {
      "application/vnd.jupyter.widget-view+json": {
       "model_id": "9cb5a36258944da0a21940f7e6791bd0",
       "version_major": 2,
       "version_minor": 0
      },
      "text/plain": [
       "interactive(children=(Checkbox(value=True, description='multi-parton interactions  [PartonLevel:MPI]', layout=…"
      ]
     },
     "metadata": {},
     "output_type": "display_data"
    }
   ],
   "source": [
    "py8s.onoff_settings(cmnd_file)"
   ]
  },
  {
   "cell_type": "code",
   "execution_count": 5,
   "metadata": {},
   "outputs": [
    {
     "name": "stdout",
     "output_type": "stream",
     "text": [
      "You can now select the phase-space cuts for 2 final-state particles:\n"
     ]
    },
    {
     "data": {
      "application/vnd.jupyter.widget-view+json": {
       "model_id": "db32f2ac86524374bc2e41adb16447c7",
       "version_major": 2,
       "version_minor": 0
      },
      "text/plain": [
       "interactive(children=(FloatText(value=4.0, description='minimum invariant mass in GeV  [PhaseSpace:mHatMin]', …"
      ]
     },
     "metadata": {},
     "output_type": "display_data"
    }
   ],
   "source": [
    "# Write settings for phase-space cuts to file.\n",
    "py8s.pscuts_settings(cmnd_file, 2)"
   ]
  },
  {
   "cell_type": "code",
   "execution_count": 6,
   "metadata": {},
   "outputs": [
    {
     "name": "stdout",
     "output_type": "stream",
     "text": [
      "You can now set the main shower parameters:\n"
     ]
    },
    {
     "data": {
      "application/vnd.jupyter.widget-view+json": {
       "model_id": "b59298a99a93400a914f902322a2b9e1",
       "version_major": 2,
       "version_minor": 0
      },
      "text/plain": [
       "interactive(children=(FloatText(value=0.1365, description='alphaS(m_Z) for final-state shower (0.06 - 0.25)  […"
      ]
     },
     "metadata": {},
     "output_type": "display_data"
    }
   ],
   "source": [
    "# Write settings for phase-space cuts to file.\n",
    "py8s.shower_settings(cmnd_file)"
   ]
  },
  {
   "cell_type": "code",
   "execution_count": 7,
   "metadata": {},
   "outputs": [],
   "source": [
    "# Write additional settings if needed.\n",
    "#py8s.more_settings(cmnd_file, [\"23:onMode = off\", \"23:onIfAny = 13\"])"
   ]
  },
  {
   "cell_type": "code",
   "execution_count": 23,
   "metadata": {
    "tags": []
   },
   "outputs": [
    {
     "name": "stdout",
     "output_type": "stream",
     "text": [
      "\n",
      " *------------------------------------------------------------------------------------* \n",
      " |                                                                                    | \n",
      " |  *------------------------------------------------------------------------------*  | \n",
      " |  |                                                                              |  | \n",
      " |  |                                                                              |  | \n",
      " |  |   PPP   Y   Y  TTTTT  H   H  III    A      Welcome to the Lund Monte Carlo!  |  | \n",
      " |  |   P  P   Y Y     T    H   H   I    A A     This is PYTHIA version 8.306      |  | \n",
      " |  |   PPP     Y      T    HHHHH   I   AAAAA    Last date of change: 28 Jun 2021  |  | \n",
      " |  |   P       Y      T    H   H   I   A   A                                      |  | \n",
      " |  |   P       Y      T    H   H  III  A   A    Now is 28 Feb 2022 at 09:16:39    |  | \n",
      " |  |                                                                              |  | \n",
      " |  |   Program documentation and an archive of historic versions is found on:     |  | \n",
      " |  |                                                                              |  | \n",
      " |  |                               https://pythia.org/                            |  | \n",
      " |  |                                                                              |  | \n",
      " |  |   PYTHIA is authored by a collaboration consisting of:                       |  | \n",
      " |  |                                                                              |  | \n",
      " |  |   Christian Bierlich, Nishita Desai, Leif Gellersen, Ilkka Helenius, Philip  |  | \n",
      " |  |   Ilten, Leif Lönnblad, Stephen Mrenna, Stefan Prestel, Christian Preuss,    |  | \n",
      " |  |   Torbjörn Sjöstrand, Peter Skands, Marius Utheim and Rob Verheyen.          |  | \n",
      " |  |                                                                              |  | \n",
      " |  |   The complete list of authors, including contact information and            |  | \n",
      " |  |   affiliations, can be found on https://pythia.org/.                         |  | \n",
      " |  |   Problems or bugs should be reported on email at authors@pythia.org.        |  | \n",
      " |  |                                                                              |  | \n",
      " |  |   The main program reference is 'An Introduction to PYTHIA 8.2',             |  | \n",
      " |  |   T. Sjöstrand et al, Comput. Phys. Commun. 191 (2015) 159                   |  | \n",
      " |  |   [arXiv:1410.3012 [hep-ph]]                                                 |  | \n",
      " |  |                                                                              |  | \n",
      " |  |   The main physics reference is the 'PYTHIA 6.4 Physics and Manual',         |  | \n",
      " |  |   T. Sjöstrand, S. Mrenna and P. Skands, JHEP05 (2006) 026 [hep-ph/0603175]  |  | \n",
      " |  |                                                                              |  | \n",
      " |  |   PYTHIA is released under the GNU General Public Licence version 2 or later.|  | \n",
      " |  |   Please respect the MCnet Guidelines for Event Generator Authors and Users. |  | \n",
      " |  |                                                                              |  | \n",
      " |  |   Disclaimer: this program comes without any guarantees.                     |  | \n",
      " |  |   Beware of errors and use common sense when interpreting results.           |  | \n",
      " |  |                                                                              |  | \n",
      " |  |   Copyright (C) 2021 Torbjörn Sjöstrand                                      |  | \n",
      " |  |                                                                              |  | \n",
      " |  |                                                                              |  | \n",
      " |  *------------------------------------------------------------------------------*  | \n",
      " |                                                                                    | \n",
      " *------------------------------------------------------------------------------------* \n",
      "\n",
      "\n",
      "INFORMATION:\n",
      "   Forcing PhaseSpace:pTHatMinDiverge to very small\n",
      "   value 0.05 GeV to prevent aggressive phase-space\n",
      "   restriction of deep-inelastic scattering configurations.\n",
      "   Default minimum value of 0.5 GeV may be reinstated from command\n",
      "   line or input file settings.\n",
      "\n",
      "NOTE THAT\n",
      "   2->2 processes in pp collisions require setting PhaseSpace:pTHatMin\n",
      "   2->2 processes in DIS collisions require setting PhaseSpace:Q2min\n",
      "   (see details in the ''Phase Space Cuts'' section of the online manual)\n",
      "\n",
      " *-------  PYTHIA Process Initialization  --------------------------*\n",
      " |                                                                  |\n",
      " | We collide e- with p+ at a CM energy of 3.003e+02 GeV            |\n",
      " |                                                                  |\n",
      " |------------------------------------------------------------------|\n",
      " |                                                    |             |\n",
      " | Subprocess                                    Code |   Estimated |\n",
      " |                                                    |    max (mb) |\n",
      " |                                                    |             |\n",
      " |------------------------------------------------------------------|\n",
      " |                                                    |             |\n",
      " | f f' -> f f' (t-channel gamma*/Z0)             211 |   2.062e-02 |\n",
      " | f_1 f_2 -> f_3 f_4 (t-channel W+-)             212 |   1.186e-05 |\n",
      " |                                                                  |\n",
      " *-------  End PYTHIA Process Initialization -----------------------*\n",
      "\n",
      " *-------  PYTHIA Flag + Mode + Parm + Word + FVec + MVec + PVec + WVec Settings (changes only)  ------------------* \n",
      " |                                                                                                                 | \n",
      " | Name                                          |                      Now |      Default         Min         Max | \n",
      " |                                               |                          |                                      | \n",
      " | Beams:eA                                      |                 27.50000 |     7000.000         0.0             | \n",
      " | Beams:eB                                      |                820.00000 |     7000.000         0.0             | \n",
      " | Beams:frameType                               |                        2 |            1           1           5 | \n",
      " | Beams:idA                                     |                       11 |         2212                         | \n",
      " | Main:numberOfEvents                           |                      100 |         1000           0             | \n",
      " | PhaseSpace:pTHatMin                           |                  1.00000 |          0.0         0.0             | \n",
      " | PhaseSpace:pTHatMinDiverge                    |                0.0500000 |      1.00000     0.50000             | \n",
      " | PhaseSpace:Q2Min                              |                  1.00000 |          0.0         0.0             | \n",
      " | WeakBosonExchange:all                         |                       on |          off                         | \n",
      " |                                                                                                                 | \n",
      " *-------  End PYTHIA Flag + Mode + Parm + Word + FVec + MVec + PVec + WVec Settings  -----------------------------* \n",
      "\n",
      " --------  PYTHIA Particle Data Table (changed only)  ------------------------------------------------------------------------------\n",
      " \n",
      "      id   name            antiName         spn chg col      m0        mWidth      mMin       mMax       tau0    res dec ext vis wid\n",
      "             no onMode   bRatio   meMode     products \n",
      "\n",
      " no particle data has been changed from its default value \n",
      "\n",
      " --------  End PYTHIA Particle Data Table  -----------------------------------------------------------------------------------------\n",
      "\n",
      " PYTHIA Info from Pythia::init: be aware that successive calls to init() do not clear previous settings.  \n",
      "\n",
      " *-------  PYTHIA Process Initialization  --------------------------*\n",
      " |                                                                  |\n",
      " | We collide e- with p+ at a CM energy of 3.003e+02 GeV            |\n",
      " |                                                                  |\n",
      " |------------------------------------------------------------------|\n",
      " |                                                    |             |\n",
      " | Subprocess                                    Code |   Estimated |\n",
      " |                                                    |    max (mb) |\n",
      " |                                                    |             |\n",
      " |------------------------------------------------------------------|\n",
      " |                                                    |             |\n",
      " | f f' -> f f' (t-channel gamma*/Z0)             211 |   2.062e-02 |\n",
      " | f_1 f_2 -> f_3 f_4 (t-channel W+-)             212 |   1.186e-05 |\n",
      " |                                                                  |\n",
      " *-------  End PYTHIA Process Initialization -----------------------*\n",
      "\n",
      " *-------  PYTHIA Flag + Mode + Parm + Word + FVec + MVec + PVec + WVec Settings (changes only)  ------------------* \n",
      " |                                                                                                                 | \n",
      " | Name                                          |                      Now |      Default         Min         Max | \n",
      " |                                               |                          |                                      | \n",
      " | Beams:eA                                      |                 27.50000 |     7000.000         0.0             | \n",
      " | Beams:eB                                      |                820.00000 |     7000.000         0.0             | \n",
      " | Beams:frameType                               |                        2 |            1           1           5 | \n",
      " | Beams:idA                                     |                       11 |         2212                         | \n",
      " | Main:numberOfEvents                           |                      100 |         1000           0             | \n",
      " | PhaseSpace:pTHatMin                           |                  1.00000 |          0.0         0.0             | \n",
      " | PhaseSpace:pTHatMinDiverge                    |                0.0500000 |      1.00000     0.50000             | \n",
      " | PhaseSpace:Q2Min                              |                  1.00000 |          0.0         0.0             | \n",
      " | WeakBosonExchange:all                         |                       on |          off                         | \n",
      " |                                                                                                                 | \n",
      " *-------  End PYTHIA Flag + Mode + Parm + Word + FVec + MVec + PVec + WVec Settings  -----------------------------* \n",
      "\n",
      " --------  PYTHIA Particle Data Table (changed only)  ------------------------------------------------------------------------------\n",
      " \n",
      "      id   name            antiName         spn chg col      m0        mWidth      mMin       mMax       tau0    res dec ext vis wid\n",
      "             no onMode   bRatio   meMode     products \n",
      "\n",
      " no particle data has been changed from its default value \n",
      "\n",
      " --------  End PYTHIA Particle Data Table  -----------------------------------------------------------------------------------------\n",
      "\n",
      " PYTHIA Warning in PhaseSpace2to2tauyz::trialKin: maximum for cross section violated  \n",
      "\n",
      " --------  PYTHIA Info Listing  ---------------------------------------- \n",
      " \n",
      " Beam A: id =     11, pz =  1.502e+02, e =  1.502e+02, m =  5.110e-04.\n",
      " Beam B: id =   2212, pz = -1.502e+02, e =  1.502e+02, m =  9.383e-01.\n",
      "\n",
      " In 1: id =   11, x =  9.988e-01, pdf =  2.410e+01 at Q2 =  4.093e+00.\n",
      " In 2: id =    3, x =  8.751e-04, pdf =  2.027e-01 at same Q2.\n",
      "\n",
      " Subprocess f f' -> f f' (t-channel gamma*/Z0) with code 211 is 2 -> 2.\n",
      " It has sHat =  7.884e+01,    tHat = -4.330e+00,    uHat = -7.451e+01,\n",
      "       pTHat =  2.017e+00,   m3Hat =  5.110e-04,   m4Hat =  5.000e-01,\n",
      "    thetaHat =  4.731e-01,  phiHat =  5.187e+00.\n",
      "     alphaEM =  7.498e-03,  alphaS =  3.386e-01    at Q2 =  4.093e+00.\n",
      "\n",
      " Impact parameter b =  0.000e+00 gives enhancement factor =  1.000e+00.\n",
      " Max pT scale for MPI =  3.003e+02, ISR =  2.023e+00, FSR =  2.023e+00.\n",
      " Number of MPI =     1, ISR =     2, FSRproc =     0, FSRreson =     0.\n",
      "\n",
      " --------  End PYTHIA Info Listing  ------------------------------------\n",
      "\n",
      " --------  PYTHIA Event Listing  (hard process)  -----------------------------------------------------------------------------------\n",
      " \n",
      "    no         id  name            status     mothers   daughters     colours      p_x        p_y        p_z         e          m \n",
      "     0         90  (system)           -11     0     0     0     0     0     0      0.000      0.000   -792.499    847.500    300.335\n",
      "     1         11  (e-)               -12     0     0     3     0     0     0      0.000      0.000     27.500     27.500      0.001\n",
      "     2       2212  (p+)               -12     0     0     4     0     0     0      0.000      0.000   -819.999    820.000      0.938\n",
      "     3         11  (e-)               -21     1     0     5     6     0     0      0.000      0.000     27.467     27.467      0.000\n",
      "     4          3  (s)                -21     2     0     5     6   101     0      0.000      0.000     -0.718      0.718      0.000\n",
      "     5         11  e-                  23     3     4     0     0     0     0      0.922     -1.793     25.837     25.915      0.001\n",
      "     6          3  s                   23     3     4     0     0   101     0     -0.922      1.793      0.913      2.269      0.500\n",
      "                                   Charge sum: -1.333           Momentum sum:      0.000      0.000     26.749     28.185      8.879\n",
      "\n",
      " --------  End PYTHIA Event Listing  -----------------------------------------------------------------------------------------------\n",
      "\n",
      " --------  PYTHIA Event Listing  (complete event)  ---------------------------------------------------------------------------------\n",
      " \n",
      "    no         id  name            status     mothers   daughters     colours      p_x        p_y        p_z         e          m \n",
      "     0         90  (system)           -11     0     0     0     0     0     0     -0.000     -0.000   -792.504    847.504    300.335\n",
      "     1         11  (e-)               -12     0     0    12     0     0     0      0.000     -0.000     27.500     27.500      0.001\n",
      "     2       2212  (p+)               -12     0     0    18     0     0     0      0.000      0.000   -820.003    820.004      0.938\n",
      "     3         11  (e-)               -21     7     7     5     6     0     0      0.000     -0.000     27.467     27.467      0.000\n",
      "     4          3  (s)                -21     8     0     5     6   101     0      0.000      0.000     -0.718      0.718      0.000\n",
      "     5         11  (e-)               -23     3     4     9     9     0     0      0.922     -1.793     25.837     25.915      0.001\n",
      "     6          3  (s)                -23     3     4    10    10   101     0     -0.922      1.793      0.913      2.269      0.500\n",
      "     7         11  (e-)               -42    12     0     3     3     0     0      0.000     -0.000     27.467     27.467      0.000\n",
      "     8         21  (g)                -41    13    13    11     4   101   102     -0.000      0.000     -2.127      2.127      0.000\n",
      "     9         11  (e-)               -44     5     5    14    14     0     0      0.960     -1.845     26.726     26.807      0.001\n",
      "    10          3  (s)                -44     6     6    15    15   101     0     -0.270      0.909     -0.285      1.109      0.500\n",
      "    11         -3  (sbar)             -43     8     0    16    16     0   102     -0.690      0.936     -1.101      1.678      0.500\n",
      "    12         11  (e-)               -41     1     0    17     7     0     0      0.000     -0.000     27.500     27.500      0.000\n",
      "    13         21  (g)                -42    18    18     8     8   101   102      0.000      0.000     -2.127      2.127      0.000\n",
      "    14         11  e-                  44     9     9     0     0     0     0      0.961     -1.845     26.726     26.807      0.001\n",
      "    15          3  (s)                -44    10    10    19    19   101     0     -0.270      0.909     -0.285      1.109      0.500\n",
      "    16         -3  (sbar)             -44    11    11    20    20     0   102     -0.690      0.936     -1.101      1.677      0.500\n",
      "    17         22  (gamma)            -43    12     0    21    21     0     0     -0.001     -0.000      0.033      0.033      0.000\n",
      "    18         21  (g)                -61     2     0    13    13   101   102      0.023      4.226     -5.150      6.662      0.000\n",
      "    19          3  (s)                -62    15    15    32    32   101     0      0.288      2.181     -2.687      3.509      0.500\n",
      "    20         -3  (sbar)             -62    16    16    25    25     0   102     -0.299      1.826     -2.911      3.485      0.500\n",
      "    21         22  gamma               62    17    17     0     0     0     0      0.044      0.103     -0.061      0.127      0.000\n",
      "    22       2203  (uu_1)             -63     2     0    33    33     0   101     -0.668     -1.200   -512.144    512.146      0.771\n",
      "    23          1  (d)                -63     2     0    24    24   102     0     -0.326     -1.066   -301.427    301.429      0.330\n",
      "    24          1  (d)                -71    23    23    26    31   102     0     -0.326     -1.066   -301.427    301.429      0.330\n",
      "    25         -3  (sbar)             -71    20    20    26    31     0   102     -0.299      1.826     -2.911      3.485      0.500\n",
      "    26       -211  pi-                 83    24    25     0     0     0     0      0.160     -0.356    -97.003     97.004      0.140\n",
      "    27        321  K+                  83    24    25     0     0     0     0     -0.484     -0.539   -132.086    132.089      0.494\n",
      "    28       -311  (Kbar0)            -83    24    25    41    41     0     0     -0.369      0.399    -56.009     56.014      0.498\n",
      "    29       2212  p+                  84    24    25     0     0     0     0      0.211     -0.092     -7.320      7.384      0.938\n",
      "    30       -323  (K*-)              -84    24    25    42    43     0     0      0.084     -0.085     -7.779      7.844      0.995\n",
      "    31      -3322  (Xibar0)           -84    24    25    50    51     0     0     -0.227      1.436     -4.139      4.580      1.315\n",
      "    32          3  (s)                -71    19    19    34    40   101     0      0.288      2.181     -2.687      3.509      0.500\n",
      "    33       2203  (uu_1)             -71    22    22    34    40     0   101     -0.668     -1.200   -512.144    512.146      0.771\n",
      "    34       -311  (Kbar0)            -83    32    33    44    44     0     0     -0.055      1.206     -1.436      1.941      0.498\n",
      "    35        313  (K*0)              -83    32    33    45    46     0     0     -0.201      0.642     -2.504      2.756      0.936\n",
      "    36       -321  K-                  83    32    33     0     0     0     0      0.574      0.201     -5.282      5.340      0.494\n",
      "    37        211  pi+                 84    32    33     0     0     0     0     -0.065     -0.145    -26.589     26.590      0.140\n",
      "    38        223  (omega)            -84    32    33    52    54     0     0     -0.023     -0.076   -123.753    123.755      0.773\n",
      "    39       2114  (Delta0)           -84    32    33    47    48     0     0     -0.176     -0.388   -257.279    257.282      1.211\n",
      "    40        211  pi+                 84    32    33     0     0     0     0     -0.434     -0.458    -97.988     97.990      0.140\n",
      "    41        310  (K_S0)             -91    28    28    55    56     0     0     -0.369      0.399    -56.009     56.014      0.498\n",
      "    42       -311  (Kbar0)            -91    30     0    49    49     0     0      0.189     -0.336     -6.399      6.430      0.498\n",
      "    43       -211  pi-                 91    30     0     0     0     0     0     -0.105      0.251     -1.381      1.414      0.140\n",
      "    44        310  (K_S0)             -91    34    34    57    58     0     0     -0.055      1.206     -1.436      1.941      0.498\n",
      "    45        321  K+                  91    35     0     0     0     0     0      0.173      0.398     -1.159      1.333      0.494\n",
      "    46       -211  pi-                 91    35     0     0     0     0     0     -0.374      0.243     -1.345      1.424      0.140\n",
      "    47       2112  n0                  91    39     0     0     0     0     0     -0.113     -0.274   -160.738    160.741      0.940\n",
      "    48        111  (pi0)              -91    39     0    59    60     0     0     -0.063     -0.114    -96.541     96.541      0.135\n",
      "    49        310  (K_S0)             -91    42    42    61    62     0     0      0.189     -0.336     -6.399      6.430      0.498\n",
      "    50      -3122  (Lambdabar0)       -91    31     0    63    64     0     0     -0.118      1.372     -3.813      4.205      1.116\n",
      "    51        111  (pi0)              -91    31     0    65    66     0     0     -0.110      0.064     -0.326      0.375      0.135\n",
      "    52        211  pi+                 91    38     0     0     0     0     0      0.104     -0.292    -42.484     42.485      0.140\n",
      "    53       -211  pi-                 91    38     0     0     0     0     0     -0.118      0.083    -26.760     26.761      0.140\n",
      "    54        111  (pi0)              -91    38     0    67    68     0     0     -0.010      0.132    -54.509     54.509      0.135\n",
      "    55        211  pi+                 91    41     0     0     0     0     0     -0.383      0.122    -31.123     31.126      0.140\n",
      "    56       -211  pi-                 91    41     0     0     0     0     0      0.014      0.277    -24.886     24.888      0.140\n",
      "    57        211  pi+                 91    44     0     0     0     0     0      0.022      1.004     -0.941      1.383      0.140\n",
      "    58       -211  pi-                 91    44     0     0     0     0     0     -0.077      0.203     -0.495      0.558      0.140\n",
      "    59         22  gamma               91    48     0     0     0     0     0     -0.046     -0.145    -75.186     75.186      0.000\n",
      "    60         22  gamma               91    48     0     0     0     0     0     -0.017      0.031    -21.355     21.355      0.000\n",
      "    61        211  pi+                 91    49     0     0     0     0     0     -0.068     -0.092     -3.668      3.672      0.140\n",
      "    62       -211  pi-                 91    49     0     0     0     0     0      0.257     -0.244     -2.731      2.757      0.140\n",
      "    63      -2112  nbar0               91    50     0     0     0     0     0     -0.148      1.218     -3.125      3.487      0.940\n",
      "    64        111  (pi0)              -91    50     0    69    70     0     0      0.030      0.153     -0.688      0.718      0.135\n",
      "    65         22  gamma               91    51     0     0     0     0     0     -0.031     -0.027     -0.020      0.046      0.000\n",
      "    66         22  gamma               91    51     0     0     0     0     0     -0.078      0.091     -0.306      0.329      0.000\n",
      "    67         22  gamma               91    54     0     0     0     0     0     -0.049      0.000    -11.083     11.083      0.000\n",
      "    68         22  gamma               91    54     0     0     0     0     0      0.040      0.132    -43.426     43.426      0.000\n",
      "    69         22  gamma               91    64     0     0     0     0     0      0.011     -0.014     -0.226      0.227      0.000\n",
      "    70         22  gamma               91    64     0     0     0     0     0      0.019      0.167     -0.462      0.491      0.000\n",
      "                                   Charge sum:  0.000           Momentum sum:     -0.000     -0.000   -792.503    847.504    300.336\n",
      "\n",
      " --------  End PYTHIA Event Listing  -----------------------------------------------------------------------------------------------\n",
      "\n",
      "\n",
      "Printed one event to output file event-settings.cmnd.dot\n",
      "Producing .ps figure by using the 'dot' command.\n",
      "Stored event visualization in file event-settings.cmnd.ps\n",
      "\n",
      "Created event visualization. Exiting event generation.\n",
      "\n"
     ]
    }
   ],
   "source": [
    "# Start pythia+dire.\n",
    "command = \"./pythia-examples/main300 --visualize_event --input \"+cmnd_file  #+ \">> /dev/null\"\n",
    "subprocess.call([\"bash\",\"-c\",command]);"
   ]
  },
  {
   "cell_type": "code",
   "execution_count": 24,
   "metadata": {},
   "outputs": [
    {
     "data": {
      "text/html": [
       "<iframe src=event-settings.cmnd.pdf width=1280 height=1024></iframe>"
      ],
      "text/latex": [
       "\\includegraphics[width=1.0\\textwidth]{event-settings.cmnd.pdf}"
      ],
      "text/plain": [
       "<py8settings.PDF at 0x7f279c656790>"
      ]
     },
     "execution_count": 24,
     "metadata": {},
     "output_type": "execute_result"
    }
   ],
   "source": [
    "subprocess.call([\"bash\",\"-c\",\"dot -Tpdf event-\"+cmnd_file+\".dot -o event-\"+cmnd_file+\".pdf\"])\n",
    "PDF(\"event-\"+cmnd_file+\".pdf\",size=(1280,1024))"
   ]
  },
  {
   "cell_type": "markdown",
   "metadata": {},
   "source": [
    "# Run Pythia8 from ROOT interface"
   ]
  },
  {
   "cell_type": "markdown",
   "metadata": {},
   "source": [
    "First we prepare and initialize basic pythia configuration for generation of $p+p$ events at 14 TeV:\n",
    " * define helper function to suppress pythia messages\n",
    " * create `TPythia8` object\n",
    " * use `HardQCD:all` physics processes\n",
    " * set random seed to 42 (dummy number)\n",
    " * initialize pythia to simulate $p+p$ collisions at 14 TeV"
   ]
  },
  {
   "cell_type": "code",
   "execution_count": 10,
   "metadata": {
    "tags": []
   },
   "outputs": [],
   "source": [
    "def makePythiaSilent(pythia):\n",
    "    pythia.ReadString(\"Init:showMultipartonInteractions = off\")\n",
    "    pythia.ReadString(\"Init:showChangedParticleData = off\")\n",
    "    pythia.ReadString(\"Init:showProcesses = off\")\n",
    "    pythia.ReadString(\"Init:showChangedSettings = off\")\n",
    "    pythia.ReadString(\"Next:numberShowInfo = 0\")\n",
    "    pythia.ReadString(\"Next:numberShowProcess = 0\")\n",
    "    pythia.ReadString(\"Next:numberShowEvent = 0\")\n",
    "    pythia.ReadString(\"Next:numberCount = 0\")\n",
    "\n",
    "pythia = ROOT.TPythia8(False)\n",
    "makePythiaSilent(pythia)\n",
    "pythia.ReadString(\"HardQCD:all = on\")\n",
    "pythia.ReadString(\"Random:setSeed = on\")\n",
    "pythia.ReadString(\"Random:seed = 0\") # to ro randomize seed\n",
    "pythia.Initialize(2212 , 2212 , 14000)\n",
    "particles = ROOT.TClonesArray(\"TParticle\", 1000) #prepare space for generated particles"
   ]
  },
  {
   "cell_type": "markdown",
   "metadata": {},
   "source": [
    "To see how does it work we generate a single event and take a look at particle listings:"
   ]
  },
  {
   "cell_type": "code",
   "execution_count": 11,
   "metadata": {
    "tags": []
   },
   "outputs": [
    {
     "name": "stdout",
     "output_type": "stream",
     "text": [
      "\n",
      " --------  PYTHIA Event Listing  (complete event)  ---------------------------------------------------------------------------------\n",
      " \n",
      "    no         id  name            status     mothers   daughters     colours      p_x        p_y        p_z         e          m \n",
      "     0         90  (system)           -11     0     0     0     0     0     0      0.000      0.000      0.000  14000.000  14000.000\n",
      "     1       2212  (p+)               -12     0     0     7     0     0     0      0.000      0.000   7000.000   7000.000      0.938\n",
      "     2       2212  (p+)               -12     0     0     8     0     0     0      0.000      0.000  -7000.000   7000.000      0.938\n",
      "     3          1  (d)                -21     7     7     5     6   101     0      0.000      0.000   4328.289   4328.289      0.000\n",
      "     4          3  (s)                -21     8     8     5     6   102     0      0.000      0.000     -0.001      0.001      0.000\n",
      "     5          1  (d)                -23     3     4     9     9   102     0     -0.182      1.111   3875.113   3875.113      0.330\n",
      "     6          3  (s)                -23     3     4    10    10   101     0      0.182     -1.111    453.175    453.177      0.500\n",
      "     7          1  (d)                -61     1     0     3     3   101     0      0.138      0.076   4329.857   4329.857      0.000\n",
      "     8          3  (s)                -61     2     0     4     4   102     0      0.265     -0.074     20.310     20.312      0.000\n",
      "     9          1  (d)                -62     5     5    22    22   102     0     -0.035      1.171   3808.014   3808.014      0.330\n",
      "    10          3  (s)                -62     6     6    15    16   101     0      0.438     -1.168    542.154    542.155      0.500\n",
      "    11       2203  (uu_1)             -63     1     0    15    16     0   101     -0.138     -0.076   2649.830   2649.830      0.771\n",
      "    12       2203  (uu_1)             -63     2     0    23    23     0   102     -0.035     -0.686  -3278.993   3278.993      0.771\n",
      "    13          1  (d)                -63     2     0    17    21   105     0     -0.402      0.270  -3613.907   3613.907      0.330\n",
      "    14         -3  (sbar)             -63     2     0    17    21     0   105      0.172      0.491   -107.098    107.100      0.500\n",
      "    15       -313  (K*bar0)           -83    10    11    51    52     0     0      0.396     -0.999    715.543    715.545      0.951\n",
      "    16       2214  (Delta+)           -84    10    11    53    54     0     0     -0.097     -0.245   2476.440   2476.441      1.277\n",
      "    17       -211  pi-                 83    13    14     0     0     0     0     -0.052      0.036   -762.215    762.215      0.140\n",
      "    18        211  pi+                 83    13    14     0     0     0     0     -0.222     -0.023  -2115.329   2115.329      0.140\n",
      "    19        113  (rho0)             -84    13    14    55    56     0     0      0.092      0.180   -280.933    280.934      0.644\n",
      "    20       -211  pi-                 84    13    14     0     0     0     0     -0.336      0.530   -169.925    169.927      0.140\n",
      "    21        321  K+                  84    13    14     0     0     0     0      0.288      0.038   -392.602    392.602      0.494\n",
      "    22          1  (d)                -71     9     9    24    50   102     0     -0.035      1.171   3808.014   3808.014      0.330\n",
      "    23       2203  (uu_1)             -71    12    12    24    50     0   102     -0.035     -0.686  -3278.993   3278.993      0.771\n",
      "    24       -211  pi-                 83    22    23     0     0     0     0      0.153      0.089   1946.827   1946.827      0.140\n",
      "    25        223  (omega)            -83    22    23    81    83     0     0     -0.337      0.737    356.200    356.202      0.787\n",
      "    26        213  (rho+)             -83    22    23    57    58     0     0      0.249     -0.143    957.441    957.441      1.118\n",
      "    27       -211  pi-                 83    22    23     0     0     0     0     -0.175      0.644    127.795    127.797      0.140\n",
      "    28        211  pi+                 83    22    23     0     0     0     0     -0.135     -0.047     61.925     61.925      0.140\n",
      "    29       -211  pi-                 83    22    23     0     0     0     0      0.300     -0.559    236.409    236.410      0.140\n",
      "    30       2212  p+                  83    22    23     0     0     0     0      0.032      0.434     65.233     65.242      0.938\n",
      "    31        113  (rho0)             -83    22    23    59    60     0     0     -0.184      0.152     35.934     35.943      0.778\n",
      "    32      -2214  (Deltabar-)        -83    22    23    61    62     0     0      0.172     -0.096     14.312     14.424      1.787\n",
      "    33        323  (K*+)              -83    22    23    63    64     0     0     -0.198      0.195      3.057      3.195      0.885\n",
      "    34       -313  (K*bar0)           -83    22    23    65    66     0     0      0.291     -0.145      1.373      1.671      0.895\n",
      "    35        113  (rho0)             -83    22    23    67    68     0     0     -0.497     -0.298      0.729      1.310      0.921\n",
      "    36       -211  pi-                 83    22    23     0     0     0     0      0.410      0.176     -1.573      1.641      0.140\n",
      "    37        221  (eta)              -83    22    23    84    86     0     0      0.043     -0.107     -1.934      2.014      0.548\n",
      "    38        211  pi+                 83    22    23     0     0     0     0     -0.323     -0.109     -0.755      0.841      0.140\n",
      "    39       -211  pi-                 83    22    23     0     0     0     0      0.208     -0.022    -11.617     11.619      0.140\n",
      "    40        211  pi+                 83    22    23     0     0     0     0     -0.258      0.289     -0.695      0.808      0.140\n",
      "    41        311  (K0)               -84    22    23    69    69     0     0      0.613      0.093    -12.816     12.840      0.498\n",
      "    42       -323  (K*-)              -84    22    23    70    71     0     0     -0.652     -0.171    -34.217     34.237      0.939\n",
      "    43        321  K+                  84    22    23     0     0     0     0      0.433     -0.049    -49.156     49.160      0.494\n",
      "    44       -321  K-                  84    22    23     0     0     0     0     -0.199     -0.090    -25.018     25.024      0.494\n",
      "    45        211  pi+                 84    22    23     0     0     0     0      0.018     -0.317    -28.939     28.941      0.140\n",
      "    46       -213  (rho-)             -84    22    23    72    73     0     0     -0.067      0.474   -173.721    173.723      0.669\n",
      "    47        321  K+                  84    22    23     0     0     0     0     -0.118      0.024   -318.194    318.194      0.494\n",
      "    48       -311  (Kbar0)            -84    22    23    74    74     0     0     -0.332     -0.406   -578.907    578.908      0.498\n",
      "    49       2214  (Delta+)           -84    22    23    75    76     0     0      0.513     -0.438  -1797.272   1797.272      1.276\n",
      "    50        111  (pi0)              -84    22    23    87    88     0     0     -0.028      0.174   -243.401    243.401      0.135\n",
      "    51       -311  (Kbar0)            -91    15     0    77    77     0     0      0.190     -0.612    596.806    596.806      0.498\n",
      "    52        111  (pi0)              -91    15     0    89    90     0     0      0.206     -0.388    118.738    118.738      0.135\n",
      "    53       2212  p+                  91    16     0     0     0     0     0      0.066     -0.168   1431.386   1431.386      0.938\n",
      "    54        111  (pi0)              -91    16     0    91    92     0     0     -0.163     -0.078   1045.054   1045.054      0.135\n",
      "    55        211  pi+                 91    19     0     0     0     0     0      0.128      0.123   -264.116    264.116      0.140\n",
      "    56       -211  pi-                 91    19     0     0     0     0     0     -0.036      0.057    -16.817     16.818      0.140\n",
      "    57        211  pi+                 91    26     0     0     0     0     0      0.144     -0.588    681.400    681.400      0.140\n",
      "    58        111  (pi0)              -91    26     0    93    94     0     0      0.105      0.445    276.041    276.042      0.135\n",
      "    59        211  pi+                 91    31     0     0     0     0     0     -0.361      0.339     20.638     20.644      0.140\n",
      "    60       -211  pi-                 91    31     0     0     0     0     0      0.177     -0.187     15.296     15.298      0.140\n",
      "    61      -2212  pbar-               91    32     0     0     0     0     0      0.308     -0.215     14.016     14.053      0.938\n",
      "    62        111  (pi0)              -91    32     0    95    96     0     0     -0.136      0.118      0.296      0.372      0.135\n",
      "    63        311  (K0)               -91    33     0    78    78     0     0     -0.264      0.190      1.286      1.417      0.498\n",
      "    64        211  pi+                 91    33     0     0     0     0     0      0.066      0.005      1.771      1.778      0.140\n",
      "    65       -311  (Kbar0)            -91    34     0    79    79     0     0     -0.044     -0.270      0.769      0.956      0.498\n",
      "    66        111  (pi0)              -91    34     0    97    98     0     0      0.335      0.126      0.604      0.715      0.135\n",
      "    67        211  pi+                 91    35     0     0     0     0     0      0.247     -0.047      0.231      0.369      0.140\n",
      "    68       -211  pi-                 91    35     0     0     0     0     0     -0.745     -0.251      0.498      0.941      0.140\n",
      "    69        310  (K_S0)             -91    41    41    99   100     0     0      0.613      0.093    -12.816     12.840      0.498\n",
      "    70       -311  (Kbar0)            -91    42     0    80    80     0     0     -0.040      0.008    -16.324     16.332      0.498\n",
      "    71       -211  pi-                 91    42     0     0     0     0     0     -0.612     -0.178    -17.893     17.905      0.140\n",
      "    72       -211  pi-                 91    46     0     0     0     0     0     -0.130      0.161    -20.017     20.019      0.140\n",
      "    73        111  (pi0)              -91    46     0   101   102     0     0      0.063      0.313   -153.704    153.704      0.135\n",
      "    74        310  (K_S0)             -91    48    48   103   104     0     0     -0.332     -0.406   -578.907    578.908      0.498\n",
      "    75       2112  n0                  91    49     0     0     0     0     0      0.581     -0.342  -1708.289   1708.289      0.940\n",
      "    76        211  pi+                 91    49     0     0     0     0     0     -0.068     -0.097    -88.983     88.983      0.140\n",
      "    77        130  K_L0                91    51    51     0     0     0     0      0.190     -0.612    596.806    596.806      0.498\n",
      "    78        310  (K_S0)             -91    63    63   105   106     0     0     -0.264      0.190      1.286      1.417      0.498\n",
      "    79        130  K_L0                91    65    65     0     0     0     0     -0.044     -0.270      0.769      0.956      0.498\n",
      "    80        130  K_L0                91    70    70     0     0     0     0     -0.040      0.008    -16.324     16.332      0.498\n",
      "    81        211  pi+                 91    25     0     0     0     0     0     -0.006     -0.002     32.352     32.352      0.140\n",
      "    82       -211  pi-                 91    25     0     0     0     0     0     -0.107      0.505    120.716    120.718      0.140\n",
      "    83        111  (pi0)              -91    25     0   107   108     0     0     -0.224      0.234    203.131    203.132      0.135\n",
      "    84        111  (pi0)              -91    37     0   109   110     0     0     -0.132     -0.009     -0.541      0.573      0.135\n",
      "    85        111  (pi0)              -91    37     0   111   112     0     0      0.076     -0.101     -0.531      0.563      0.135\n",
      "    86        111  (pi0)              -91    37     0   113   114     0     0      0.099      0.003     -0.862      0.878      0.135\n",
      "    87         22  gamma               91    50     0     0     0     0     0     -0.056      0.162   -152.782    152.782      0.000\n",
      "    88         22  gamma               91    50     0     0     0     0     0      0.028      0.012    -90.619     90.619      0.000\n",
      "    89         22  gamma               91    52     0     0     0     0     0      0.066     -0.132     25.003     25.004      0.000\n",
      "    90         22  gamma               91    52     0     0     0     0     0      0.140     -0.256     93.734     93.734      0.000\n",
      "    91         22  gamma               91    54     0     0     0     0     0     -0.145      0.000    679.394    679.394      0.000\n",
      "    92         22  gamma               91    54     0     0     0     0     0     -0.018     -0.078    365.660    365.660      0.000\n",
      "    93         22  gamma               91    58     0     0     0     0     0      0.070      0.377    196.079    196.079      0.000\n",
      "    94         22  gamma               91    58     0     0     0     0     0      0.036      0.068     79.963     79.963      0.000\n",
      "    95         22  gamma               91    62     0     0     0     0     0     -0.075      0.135      0.163      0.225      0.000\n",
      "    96         22  gamma               91    62     0     0     0     0     0     -0.061     -0.017      0.132      0.147      0.000\n",
      "    97         22  gamma               91    66     0     0     0     0     0      0.220      0.144      0.376      0.459      0.000\n",
      "    98         22  gamma               91    66     0     0     0     0     0      0.115     -0.018      0.229      0.256      0.000\n",
      "    99        211  pi+                 91    69     0     0     0     0     0      0.499      0.033     -6.139      6.161      0.140\n",
      "   100       -211  pi-                 91    69     0     0     0     0     0      0.114      0.060     -6.677      6.680      0.140\n",
      "   101         22  gamma               91    73     0     0     0     0     0      0.076      0.319   -150.573    150.574      0.000\n",
      "   102         22  gamma               91    73     0     0     0     0     0     -0.013     -0.006     -3.130      3.130      0.000\n",
      "   103        111  (pi0)              -91    74     0   115   116     0     0     -0.290     -0.447   -509.503    509.503      0.135\n",
      "   104        111  (pi0)              -91    74     0   117   118     0     0     -0.042      0.040    -69.404     69.405      0.135\n",
      "   105        211  pi+                 91    78     0     0     0     0     0     -0.100     -0.110      0.648      0.680      0.140\n",
      "   106       -211  pi-                 91    78     0     0     0     0     0     -0.165      0.300      0.638      0.737      0.140\n",
      "   107         22  gamma               91    83     0     0     0     0     0      0.001      0.043     50.522     50.522      0.000\n",
      "   108         22  gamma               91    83     0     0     0     0     0     -0.225      0.190    152.609    152.610      0.000\n",
      "   109         22  gamma               91    84     0     0     0     0     0     -0.078      0.027     -0.112      0.139      0.000\n",
      "   110         22  gamma               91    84     0     0     0     0     0     -0.054     -0.036     -0.429      0.434      0.000\n",
      "   111         22  gamma               91    85     0     0     0     0     0     -0.001     -0.102     -0.233      0.254      0.000\n",
      "   112         22  gamma               91    85     0     0     0     0     0      0.078      0.001     -0.298      0.308      0.000\n",
      "   113         22  gamma               91    86     0     0     0     0     0     -0.017      0.009     -0.020      0.028      0.000\n",
      "   114         22  gamma               91    86     0     0     0     0     0      0.116     -0.007     -0.841      0.849      0.000\n",
      "   115         22  gamma               91   103     0     0     0     0     0     -0.208     -0.377   -442.908    442.908      0.000\n",
      "   116         22  gamma               91   103     0     0     0     0     0     -0.082     -0.070    -66.595     66.595      0.000\n",
      "   117         22  gamma               91   104     0     0     0     0     0     -0.043     -0.033    -13.470     13.470      0.000\n",
      "   118         22  gamma               91   104     0     0     0     0     0      0.000      0.073    -55.934     55.935      0.000\n",
      "                                   Charge sum:  2.000           Momentum sum:     -0.000      0.000     -0.000  14000.000  14000.000\n",
      "\n",
      " --------  End PYTHIA Event Listing  -----------------------------------------------------------------------------------------------\n"
     ]
    }
   ],
   "source": [
    "pythia.GenerateEvent()\n",
    "pythia.EventListing()"
   ]
  },
  {
   "cell_type": "markdown",
   "metadata": {},
   "source": [
    "### Prepare helper functions for particle identification"
   ]
  },
  {
   "cell_type": "markdown",
   "metadata": {},
   "source": [
    "* write function to tell if particle is *final* (i.e. simulation of its evolution by pythia is finished). Hint: *final* particles have positive status codes\n",
    "* add a second argument which will allow to filter by the particle type as well, keeping the function behaviour when only one argument is provided\n",
    "* write a function that computes ivariant mass of the pair of particles\n",
    "* the two defined functions assume that (a pair of) `TParticle` object(s) is passed to them"
   ]
  },
  {
   "cell_type": "code",
   "execution_count": 12,
   "metadata": {},
   "outputs": [],
   "source": [
    "def isFinal(p,name=None):\n",
    "    if name==None:\n",
    "        return p.GetStatusCode()>0\n",
    "    else:\n",
    "        return p.GetStatusCode()>0 and p.GetName()==name\n",
    "\n",
    "\n",
    "def getMinv(pair):\n",
    "    p4_1=ROOT.TLorentzVector()\n",
    "    p4_2=ROOT.TLorentzVector()\n",
    "    pair[0].Momentum(p4_1)\n",
    "    pair[1].Momentum(p4_2)\n",
    "    p4=p4_1+p4_2\n",
    "    return p4.M()"
   ]
  },
  {
   "cell_type": "markdown",
   "metadata": {},
   "source": [
    "## Properties of hadron production in $p+p$ interactions"
   ]
  },
  {
   "cell_type": "markdown",
   "metadata": {},
   "source": [
    "### Generate 10000 $p+p$ events at 14 TeV and draw $\\frac{\\mathrm{d} N}{\\mathrm{d}\\eta}$ and  $\\frac{1}{p_T}\\frac{\\mathrm{d} N}{\\mathrm{d}p_T}$ distributions of $p$, $\\pi^+$ and $K^+$"
   ]
  },
  {
   "cell_type": "markdown",
   "metadata": {},
   "source": [
    "* create list of particles' names in consideration\n",
    "* use dictionaries to provide labels and colors for plotting, particle names should be used as keys\n",
    "* in similar fashion initialize dictionaries of histograms (`TH1D`)\n",
    "* invoke `TH1D::Sumw2()` method on each histogram to enable calculation of Poissonian errors\n",
    "* generate events and fill histograms\n",
    "* format histograms:\n",
    "  * set markers to `ROOT.kFullCircle` for all histograms\n",
    "  * set colors according to dictionaries defined at the begening\n",
    "  * find out what is the maximal value of $y$ axis on $\\eta$ and $p_T$ plots (among all particles)\n",
    "  * scale histograms by $\\frac{1}{\\Delta x \\cdot N}$, where $\\Delta x$ is the bin width and $N$ is the number of events"
   ]
  },
  {
   "cell_type": "code",
   "execution_count": 13,
   "metadata": {
    "tags": []
   },
   "outputs": [
    {
     "name": "stdout",
     "output_type": "stream",
     "text": [
      " PYTHIA Warning in SimpleSpaceShower::pT2nextQCD: weight above unity  \n",
      " PYTHIA Warning in PhaseSpace2to2tauyz::trialKin: maximum for cross section violated  \n",
      " PYTHIA Warning in StringFragmentation::fragmentToJunction: bad convergence junction rest frame  \n",
      " PYTHIA Warning in Pythia::check: energy-momentum not quite conserved  \n",
      " PYTHIA Error in StringFragmentation::fragment: stuck in joining  \n",
      " PYTHIA Error in Pythia::next: hadronLevel failed; try again  \n",
      " PYTHIA Warning in Pythia::check: not quite matched particle energy/momentum/mass  \n"
     ]
    },
    {
     "name": "stderr",
     "output_type": "stream",
     "text": [
      "Warning in <TParticle::SetPdgCode>: PDG code 9942033 unknown from TDatabasePDG\n",
      "Warning in <TParticle::SetPdgCode>: PDG code 9942033 unknown from TDatabasePDG\n",
      "Warning in <TParticle::SetPdgCode>: PDG code 9942033 unknown from TDatabasePDG\n",
      "Warning in <TParticle::SetPdgCode>: PDG code 9942033 unknown from TDatabasePDG\n",
      "Warning in <TParticle::SetPdgCode>: PDG code 9942033 unknown from TDatabasePDG\n",
      "Warning in <TParticle::SetPdgCode>: PDG code 30443 unknown from TDatabasePDG\n",
      "Warning in <TParticle::SetPdgCode>: PDG code 9942033 unknown from TDatabasePDG\n",
      "Warning in <TParticle::SetPdgCode>: PDG code 9942033 unknown from TDatabasePDG\n",
      "Warning in <TParticle::SetPdgCode>: PDG code 9942033 unknown from TDatabasePDG\n",
      "Warning in <TParticle::SetPdgCode>: PDG code 9942033 unknown from TDatabasePDG\n"
     ]
    }
   ],
   "source": [
    "nEvents=10000\n",
    "parts=[\"proton\", \"pi+\", \"K+\"]\n",
    "labels={\"proton\": \"p\", \"pi+\": \"#pi^{+}\", \"K+\": \"K^{+}\"}\n",
    "colors={\"proton\": ROOT.kBlack, \"pi+\": ROOT.kBlue, \"K+\": ROOT.kRed}\n",
    "heta={}\n",
    "hpt={}\n",
    "\n",
    "for p in parts:\n",
    "    heta[p]=ROOT.TH1D(\"eta\"+p,\"\",120,-12,12)\n",
    "    heta[p].Sumw2()\n",
    "    hpt[p]=ROOT.TH1D(\"pt\"+p,\"\",50,0,10)\n",
    "    hpt[p].Sumw2()\n",
    "\n",
    "def fillHistos(p):\n",
    "    name=p.GetName()\n",
    "    if name in parts:\n",
    "        heta[name].Fill(p.Eta())\n",
    "        hpt[name].Fill(p.Pt(),1/(p.Pt()))\n",
    "\n",
    "#generate events\n",
    "for i in range(nEvents):\n",
    "    pythia.GenerateEvent()\n",
    "    pythia.ImportParticles(particles,\"All\")\n",
    "    for p in particles:\n",
    "        if isFinal(p):\n",
    "            fillHistos(p)\n",
    "#format and normalize histograms, find ranges on y axes\n",
    "maxeta=0\n",
    "maxpt=0\n",
    "for p in parts:\n",
    "    heta[p].SetMarkerStyle(ROOT.kFullCircle)\n",
    "    heta[p].SetMarkerColor(colors[p])\n",
    "    bw=heta[p].GetBinWidth(1)\n",
    "    heta[p].Scale(1./(bw*nEvents))\n",
    "    maxeta=max(maxeta,heta[p].GetMaximum())\n",
    "    \n",
    "    hpt[p].SetMarkerStyle(ROOT.kFullCircle)\n",
    "    hpt[p].SetMarkerColor(colors[p])\n",
    "    bw=hpt[p].GetBinWidth(1)\n",
    "    hpt[p].Scale(1./(bw*nEvents))\n",
    "    maxpt=max(maxpt,hpt[p].GetMaximum())"
   ]
  },
  {
   "cell_type": "markdown",
   "metadata": {},
   "source": [
    "Now, once simuation is complete and histograms are filled we proceed to drawing them:\n",
    "* create `TCanvas` and divide it into two pads along $x$ axis\n",
    "* prepare `TLegend` (the same for both plots for simplicity, sybbols for differend kinds of particles are identical)\n",
    "* prepare *frames* for plotting (axes with correct labels and ranges)\n",
    "  * for $\\frac{1}{p_T}\\frac{\\mathrm{d} N}{\\mathrm{d}p_T}$ set logarithmic scale on $y$ axis\n",
    "* plot the histograms and and legends"
   ]
  },
  {
   "cell_type": "code",
   "execution_count": 14,
   "metadata": {},
   "outputs": [],
   "source": [
    "c_etapt = ROOT.TCanvas(\"c_etapt\",\"\",1600,600)\n",
    "c_etapt.Divide(2,1)"
   ]
  },
  {
   "cell_type": "code",
   "execution_count": 15,
   "metadata": {},
   "outputs": [
    {
     "data": {
      "text/html": [
       "\n",
       "\n",
       "<div id=\"root_plot_1646037809527\"\n",
       "     style=\"width: 1596px; height: 572px\">\n",
       "</div>\n",
       "<script>\n",
       "\n",
       "function display_root_plot_1646037809527(Core) {\n",
       "   let obj = Core.parse({\"_typename\":\"TCanvas\",\"fUniqueID\":0,\"fBits\":3342344,\"fLineColor\":1,\"fLineStyle\":1,\"fLineWidth\":1,\"fFillColor\":0,\"fFillStyle\":1001,\"fLeftMargin\":0.1,\"fRightMargin\":0.1,\"fBottomMargin\":0.1,\"fTopMargin\":0.1,\"fXfile\":2,\"fYfile\":2,\"fAfile\":1,\"fXstat\":0.99,\"fYstat\":0.99,\"fAstat\":2,\"fFrameFillColor\":0,\"fFrameLineColor\":1,\"fFrameFillStyle\":1001,\"fFrameLineStyle\":1,\"fFrameLineWidth\":1,\"fFrameBorderSize\":1,\"fFrameBorderMode\":0,\"fX1\":0,\"fY1\":0,\"fX2\":1,\"fY2\":1,\"fXtoAbsPixelk\":5e-5,\"fXtoPixelk\":5e-5,\"fXtoPixel\":1596,\"fYtoAbsPixelk\":572.00005,\"fYtoPixelk\":572.00005,\"fYtoPixel\":-572,\"fUtoAbsPixelk\":5e-5,\"fUtoPixelk\":5e-5,\"fUtoPixel\":1596,\"fVtoAbsPixelk\":572.00005,\"fVtoPixelk\":572,\"fVtoPixel\":-572,\"fAbsPixeltoXk\":0,\"fPixeltoXk\":0,\"fPixeltoX\":6.265664160401e-4,\"fAbsPixeltoYk\":1,\"fPixeltoYk\":0,\"fPixeltoY\":-0.00174825174825175,\"fXlowNDC\":0,\"fYlowNDC\":0,\"fXUpNDC\":1,\"fYUpNDC\":1,\"fWNDC\":1,\"fHNDC\":1,\"fAbsXlowNDC\":0,\"fAbsYlowNDC\":0,\"fAbsWNDC\":1,\"fAbsHNDC\":1,\"fUxmin\":0,\"fUymin\":0,\"fUxmax\":1,\"fUymax\":1,\"fTheta\":30,\"fPhi\":30,\"fAspectRatio\":0,\"fNumber\":0,\"fTickx\":0,\"fTicky\":0,\"fLogx\":0,\"fLogy\":0,\"fLogz\":0,\"fPadPaint\":0,\"fCrosshair\":0,\"fCrosshairPos\":0,\"fBorderSize\":2,\"fBorderMode\":0,\"fModified\":false,\"fGridx\":false,\"fGridy\":false,\"fAbsCoord\":false,\"fEditable\":true,\"fFixedAspectRatio\":false,\"fPrimitives\":{\"_typename\":\"TList\",\"name\":\"TList\",\"arr\":[{\"_typename\":\"TPad\",\"fUniqueID\":0,\"fBits\":9,\"fLineColor\":1,\"fLineStyle\":1,\"fLineWidth\":1,\"fFillColor\":0,\"fFillStyle\":1001,\"fLeftMargin\":0.1,\"fRightMargin\":0.1,\"fBottomMargin\":0.1,\"fTopMargin\":0.1,\"fXfile\":2,\"fYfile\":2,\"fAfile\":1,\"fXstat\":0.99,\"fYstat\":0.99,\"fAstat\":2,\"fFrameFillColor\":0,\"fFrameLineColor\":1,\"fFrameFillStyle\":1001,\"fFrameLineStyle\":1,\"fFrameLineWidth\":1,\"fFrameBorderSize\":1,\"fFrameBorderMode\":0,\"fX1\":-1.25000009313226,\"fY1\":-6.59041716738189,\"fX2\":11.2500000931323,\"fY2\":4.65958300025618,\"fXtoAbsPixelk\":92.5680542808058,\"fXtoPixelk\":76.6080546375396,\"fXtoPixel\":61.2863991438388,\"fYtoAbsPixelk\":237.895677329357,\"fYtoPixelk\":232.175677457209,\"fYtoPixel\":-49.8275548357963,\"fUtoAbsPixelk\":15.9600496432662,\"fUtoPixelk\":5e-5,\"fUtoPixel\":766.080000713468,\"fVtoAbsPixelk\":566.280050127852,\"fVtoPixelk\":560.560000255704,\"fVtoPixel\":-560.560000255704,\"fAbsPixeltoXk\":-1.51041675761614,\"fPixeltoXk\":-1.25000009313226,\"fPixeltoX\":0.0163168339789878,\"fAbsPixeltoYk\":4.77437891771587,\"fPixeltoYk\":-6.59041716738189,\"fPixeltoY\":-0.0200692167876878,\"fXlowNDC\":0.00999999977648258,\"fYlowNDC\":0.00999999977648258,\"fXUpNDC\":0.490000000223517,\"fYUpNDC\":0.990000000223517,\"fWNDC\":0.480000000447035,\"fHNDC\":0.980000000447035,\"fAbsXlowNDC\":0.00999999977648258,\"fAbsYlowNDC\":0.00999999977648258,\"fAbsWNDC\":0.480000000447035,\"fAbsHNDC\":0.980000000447035,\"fUxmin\":0,\"fUymin\":-5.46541708356285,\"fUxmax\":10,\"fUymax\":3.53458291643715,\"fTheta\":30,\"fPhi\":30,\"fAspectRatio\":0,\"fNumber\":1,\"fTickx\":0,\"fTicky\":0,\"fLogx\":0,\"fLogy\":1,\"fLogz\":0,\"fPadPaint\":0,\"fCrosshair\":0,\"fCrosshairPos\":0,\"fBorderSize\":2,\"fBorderMode\":0,\"fModified\":false,\"fGridx\":false,\"fGridy\":false,\"fAbsCoord\":false,\"fEditable\":true,\"fFixedAspectRatio\":false,\"fPrimitives\":{\"_typename\":\"TList\",\"name\":\"TList\",\"arr\":[{\"_typename\":\"TFrame\",\"fUniqueID\":0,\"fBits\":8,\"fLineColor\":1,\"fLineStyle\":1,\"fLineWidth\":1,\"fFillColor\":0,\"fFillStyle\":1001,\"fX1\":0,\"fY1\":-5.46541708356285,\"fX2\":10,\"fY2\":3.53458291643715,\"fBorderSize\":1,\"fBorderMode\":0},{\"_typename\":\"TH1F\",\"fUniqueID\":0,\"fBits\":521,\"fName\":\"hframe\",\"fTitle\":\"\",\"fLineColor\":602,\"fLineStyle\":1,\"fLineWidth\":1,\"fFillColor\":0,\"fFillStyle\":1001,\"fMarkerColor\":1,\"fMarkerStyle\":1,\"fMarkerSize\":1,\"fNcells\":1002,\"fXaxis\":{\"_typename\":\"TAxis\",\"fUniqueID\":0,\"fBits\":0,\"fName\":\"xaxis\",\"fTitle\":\"p_{T} [GeV\\/c]\",\"fNdivisions\":510,\"fAxisColor\":1,\"fLabelColor\":1,\"fLabelFont\":42,\"fLabelOffset\":0.005,\"fLabelSize\":0.035,\"fTickLength\":0.03,\"fTitleOffset\":1.5,\"fTitleSize\":0.035,\"fTitleColor\":1,\"fTitleFont\":42,\"fNbins\":1000,\"fXmin\":0,\"fXmax\":10,\"fXbins\":[],\"fFirst\":0,\"fLast\":0,\"fBits2\":0,\"fTimeDisplay\":false,\"fTimeFormat\":\"\",\"fLabels\":null,\"fModLabs\":null},\"fYaxis\":{\"_typename\":\"TAxis\",\"fUniqueID\":0,\"fBits\":0,\"fName\":\"yaxis\",\"fTitle\":\"#frac{1}{p_{T}}#frac{dN}{dp_{T}} [GeV\\/c]^{-2}\",\"fNdivisions\":510,\"fAxisColor\":1,\"fLabelColor\":1,\"fLabelFont\":42,\"fLabelOffset\":0.005,\"fLabelSize\":0.035,\"fTickLength\":0.03,\"fTitleOffset\":0,\"fTitleSize\":15,\"fTitleColor\":1,\"fTitleFont\":42,\"fNbins\":1,\"fXmin\":3.42438760530822e-6,\"fXmax\":3424.38760530822,\"fXbins\":[],\"fFirst\":0,\"fLast\":0,\"fBits2\":0,\"fTimeDisplay\":false,\"fTimeFormat\":\"\",\"fLabels\":null,\"fModLabs\":null},\"fZaxis\":{\"_typename\":\"TAxis\",\"fUniqueID\":0,\"fBits\":0,\"fName\":\"zaxis\",\"fTitle\":\"\",\"fNdivisions\":510,\"fAxisColor\":1,\"fLabelColor\":1,\"fLabelFont\":42,\"fLabelOffset\":0.005,\"fLabelSize\":0.035,\"fTickLength\":0.03,\"fTitleOffset\":1,\"fTitleSize\":0.035,\"fTitleColor\":1,\"fTitleFont\":42,\"fNbins\":1,\"fXmin\":0,\"fXmax\":1,\"fXbins\":[],\"fFirst\":0,\"fLast\":0,\"fBits2\":0,\"fTimeDisplay\":false,\"fTimeFormat\":\"\",\"fLabels\":null,\"fModLabs\":null},\"fBarOffset\":0,\"fBarWidth\":1000,\"fEntries\":0,\"fTsumw\":0,\"fTsumw2\":0,\"fTsumwx\":0,\"fTsumwx2\":0,\"fMaximum\":3424.38760530822,\"fMinimum\":3.42438760530822e-6,\"fNormFactor\":0,\"fContour\":[],\"fSumw2\":[],\"fOption\":\"\",\"fFunctions\":{\"_typename\":\"TList\",\"name\":\"TList\",\"arr\":[],\"opt\":[]},\"fBufferSize\":0,\"fBuffer\":[],\"fBinStatErrOpt\":0,\"fStatOverflows\":2,\"fArray\":[0,0,0,0,0,0,0,0,0,0,0,0,0,0,0,0,0,0,0,0,0,0,0,0,0,0,0,0,0,0,0,0,0,0,0,0,0,0,0,0,0,0,0,0,0,0,0,0,0,0,0,0,0,0,0,0,0,0,0,0,0,0,0,0,0,0,0,0,0,0,0,0,0,0,0,0,0,0,0,0,0,0,0,0,0,0,0,0,0,0,0,0,0,0,0,0,0,0,0,0,0,0,0,0,0,0,0,0,0,0,0,0,0,0,0,0,0,0,0,0,0,0,0,0,0,0,0,0,0,0,0,0,0,0,0,0,0,0,0,0,0,0,0,0,0,0,0,0,0,0,0,0,0,0,0,0,0,0,0,0,0,0,0,0,0,0,0,0,0,0,0,0,0,0,0,0,0,0,0,0,0,0,0,0,0,0,0,0,0,0,0,0,0,0,0,0,0,0,0,0,0,0,0,0,0,0,0,0,0,0,0,0,0,0,0,0,0,0,0,0,0,0,0,0,0,0,0,0,0,0,0,0,0,0,0,0,0,0,0,0,0,0,0,0,0,0,0,0,0,0,0,0,0,0,0,0,0,0,0,0,0,0,0,0,0,0,0,0,0,0,0,0,0,0,0,0,0,0,0,0,0,0,0,0,0,0,0,0,0,0,0,0,0,0,0,0,0,0,0,0,0,0,0,0,0,0,0,0,0,0,0,0,0,0,0,0,0,0,0,0,0,0,0,0,0,0,0,0,0,0,0,0,0,0,0,0,0,0,0,0,0,0,0,0,0,0,0,0,0,0,0,0,0,0,0,0,0,0,0,0,0,0,0,0,0,0,0,0,0,0,0,0,0,0,0,0,0,0,0,0,0,0,0,0,0,0,0,0,0,0,0,0,0,0,0,0,0,0,0,0,0,0,0,0,0,0,0,0,0,0,0,0,0,0,0,0,0,0,0,0,0,0,0,0,0,0,0,0,0,0,0,0,0,0,0,0,0,0,0,0,0,0,0,0,0,0,0,0,0,0,0,0,0,0,0,0,0,0,0,0,0,0,0,0,0,0,0,0,0,0,0,0,0,0,0,0,0,0,0,0,0,0,0,0,0,0,0,0,0,0,0,0,0,0,0,0,0,0,0,0,0,0,0,0,0,0,0,0,0,0,0,0,0,0,0,0,0,0,0,0,0,0,0,0,0,0,0,0,0,0,0,0,0,0,0,0,0,0,0,0,0,0,0,0,0,0,0,0,0,0,0,0,0,0,0,0,0,0,0,0,0,0,0,0,0,0,0,0,0,0,0,0,0,0,0,0,0,0,0,0,0,0,0,0,0,0,0,0,0,0,0,0,0,0,0,0,0,0,0,0,0,0,0,0,0,0,0,0,0,0,0,0,0,0,0,0,0,0,0,0,0,0,0,0,0,0,0,0,0,0,0,0,0,0,0,0,0,0,0,0,0,0,0,0,0,0,0,0,0,0,0,0,0,0,0,0,0,0,0,0,0,0,0,0,0,0,0,0,0,0,0,0,0,0,0,0,0,0,0,0,0,0,0,0,0,0,0,0,0,0,0,0,0,0,0,0,0,0,0,0,0,0,0,0,0,0,0,0,0,0,0,0,0,0,0,0,0,0,0,0,0,0,0,0,0,0,0,0,0,0,0,0,0,0,0,0,0,0,0,0,0,0,0,0,0,0,0,0,0,0,0,0,0,0,0,0,0,0,0,0,0,0,0,0,0,0,0,0,0,0,0,0,0,0,0,0,0,0,0,0,0,0,0,0,0,0,0,0,0,0,0,0,0,0,0,0,0,0,0,0,0,0,0,0,0,0,0,0,0,0,0,0,0,0,0,0,0,0,0,0,0,0,0,0,0,0,0,0,0,0,0,0,0,0,0,0,0,0,0,0,0,0,0,0,0,0,0,0,0,0,0,0,0,0,0,0,0,0,0,0,0,0,0,0,0,0,0,0,0,0,0,0,0,0,0,0,0,0,0,0,0,0,0,0,0,0,0,0,0,0,0,0,0,0,0,0,0,0,0,0,0,0,0,0,0,0,0,0,0,0,0,0,0,0,0,0,0,0,0,0,0,0,0,0,0,0,0,0,0,0,0,0,0,0,0,0,0,0,0,0,0,0,0,0,0,0,0,0,0,0,0,0,0,0,0,0,0,0,0,0,0,0,0,0,0,0,0,0,0,0,0,0,0,0,0,0,0,0,0,0,0,0,0,0,0,0,0,0,0,0,0,0,0,0,0,0,0,0,0,0,0,0]},{\"_typename\":\"TH1D\",\"fUniqueID\":0,\"fBits\":8,\"fName\":\"ptproton\",\"fTitle\":\"\",\"fLineColor\":602,\"fLineStyle\":1,\"fLineWidth\":1,\"fFillColor\":0,\"fFillStyle\":1001,\"fMarkerColor\":1,\"fMarkerStyle\":20,\"fMarkerSize\":1,\"fNcells\":52,\"fXaxis\":{\"_typename\":\"TAxis\",\"fUniqueID\":0,\"fBits\":0,\"fName\":\"xaxis\",\"fTitle\":\"\",\"fNdivisions\":510,\"fAxisColor\":1,\"fLabelColor\":1,\"fLabelFont\":42,\"fLabelOffset\":0.005,\"fLabelSize\":0.035,\"fTickLength\":0.03,\"fTitleOffset\":1,\"fTitleSize\":0.035,\"fTitleColor\":1,\"fTitleFont\":42,\"fNbins\":50,\"fXmin\":0,\"fXmax\":10,\"fXbins\":[],\"fFirst\":0,\"fLast\":0,\"fBits2\":0,\"fTimeDisplay\":false,\"fTimeFormat\":\"\",\"fLabels\":null,\"fModLabs\":null},\"fYaxis\":{\"_typename\":\"TAxis\",\"fUniqueID\":0,\"fBits\":0,\"fName\":\"yaxis\",\"fTitle\":\"\",\"fNdivisions\":510,\"fAxisColor\":1,\"fLabelColor\":1,\"fLabelFont\":42,\"fLabelOffset\":0.005,\"fLabelSize\":0.035,\"fTickLength\":0.03,\"fTitleOffset\":0,\"fTitleSize\":0.035,\"fTitleColor\":1,\"fTitleFont\":42,\"fNbins\":1,\"fXmin\":0,\"fXmax\":1,\"fXbins\":[],\"fFirst\":0,\"fLast\":0,\"fBits2\":0,\"fTimeDisplay\":false,\"fTimeFormat\":\"\",\"fLabels\":null,\"fModLabs\":null},\"fZaxis\":{\"_typename\":\"TAxis\",\"fUniqueID\":0,\"fBits\":0,\"fName\":\"zaxis\",\"fTitle\":\"\",\"fNdivisions\":510,\"fAxisColor\":1,\"fLabelColor\":1,\"fLabelFont\":42,\"fLabelOffset\":0.005,\"fLabelSize\":0.035,\"fTickLength\":0.03,\"fTitleOffset\":1,\"fTitleSize\":0.035,\"fTitleColor\":1,\"fTitleFont\":42,\"fNbins\":1,\"fXmin\":0,\"fXmax\":1,\"fXbins\":[],\"fFirst\":0,\"fLast\":0,\"fBits2\":0,\"fTimeDisplay\":false,\"fTimeFormat\":\"\",\"fLabels\":null,\"fModLabs\":null},\"fBarOffset\":0,\"fBarWidth\":1000,\"fEntries\":27161,\"fTsumw\":45.7032540525177,\"fTsumw2\":0.272846159636933,\"fTsumwx\":13.5805,\"fTsumwx2\":6.89836530374875,\"fMaximum\":-1111,\"fMinimum\":-1111,\"fNormFactor\":0,\"fContour\":[],\"fSumw2\":[0,0.237396204742236,0.0247373484676594,0.00747317727271471,0.00229415959246876,6.31855153983907e-4,2.0090689018039e-4,6.16416541839022e-5,2.7083210054428e-5,1.15694416238353e-5,5.56268394778744e-6,2.88545155454277e-6,9.69649975467899e-7,8.55454226795741e-7,6.50442196381851e-7,5.94446281062999e-7,2.61887205194933e-7,1.81558800275443e-7,8.04349313769305e-8,9.24226417870248e-8,3.1504390297217e-8,2.95017561218859e-8,0,1.20462043331625e-8,0,0,0,0,0,0,0,0,0,0,5.72771452898542e-9,0,0,0,0,0,0,0,0,0,0,0,0,0,0,0,0,0],\"fOption\":\"\",\"fFunctions\":{\"_typename\":\"TList\",\"name\":\"TList\",\"arr\":[],\"opt\":[]},\"fBufferSize\":0,\"fBuffer\":[],\"fBinStatErrOpt\":0,\"fStatOverflows\":2,\"fArray\":[0,19.6523521163357,13.8764039893293,7.18308962735061,3.11222598942438,1.11268262193102,0.434896025117206,0.158823720355391,0.0805642254854027,0.0389080921473768,0.0209513472785321,0.0120055842153151,0.00440213497190513,0.00423744366813326,0.00351452104075754,0.00344726374950397,0.00161814316581932,0.00120500135946509,5.67152894530376e-4,6.79695097589278e-4,2.51014836542866e-4,2.42905895484135e-4,0,1.09755201850129e-4,0,0,0,0,0,0,0,0,0,0,7.56816657387073e-5,0,0,0,0,0,0,0,0,0,0,0,0,0,0,0,0,0]},{\"_typename\":\"TH1D\",\"fUniqueID\":0,\"fBits\":8,\"fName\":\"ptpi+\",\"fTitle\":\"\",\"fLineColor\":602,\"fLineStyle\":1,\"fLineWidth\":1,\"fFillColor\":0,\"fFillStyle\":1001,\"fMarkerColor\":600,\"fMarkerStyle\":20,\"fMarkerSize\":1,\"fNcells\":52,\"fXaxis\":{\"_typename\":\"TAxis\",\"fUniqueID\":0,\"fBits\":0,\"fName\":\"xaxis\",\"fTitle\":\"\",\"fNdivisions\":510,\"fAxisColor\":1,\"fLabelColor\":1,\"fLabelFont\":42,\"fLabelOffset\":0.005,\"fLabelSize\":0.035,\"fTickLength\":0.03,\"fTitleOffset\":1,\"fTitleSize\":0.035,\"fTitleColor\":1,\"fTitleFont\":42,\"fNbins\":50,\"fXmin\":0,\"fXmax\":10,\"fXbins\":[],\"fFirst\":0,\"fLast\":0,\"fBits2\":0,\"fTimeDisplay\":false,\"fTimeFormat\":\"\",\"fLabels\":null,\"fModLabs\":null},\"fYaxis\":{\"_typename\":\"TAxis\",\"fUniqueID\":0,\"fBits\":0,\"fName\":\"yaxis\",\"fTitle\":\"\",\"fNdivisions\":510,\"fAxisColor\":1,\"fLabelColor\":1,\"fLabelFont\":42,\"fLabelOffset\":0.005,\"fLabelSize\":0.035,\"fTickLength\":0.03,\"fTitleOffset\":0,\"fTitleSize\":0.035,\"fTitleColor\":1,\"fTitleFont\":42,\"fNbins\":1,\"fXmin\":0,\"fXmax\":1,\"fXbins\":[],\"fFirst\":0,\"fLast\":0,\"fBits2\":0,\"fTimeDisplay\":false,\"fTimeFormat\":\"\",\"fLabels\":null,\"fModLabs\":null},\"fZaxis\":{\"_typename\":\"TAxis\",\"fUniqueID\":0,\"fBits\":0,\"fName\":\"zaxis\",\"fTitle\":\"\",\"fNdivisions\":510,\"fAxisColor\":1,\"fLabelColor\":1,\"fLabelFont\":42,\"fLabelOffset\":0.005,\"fLabelSize\":0.035,\"fTickLength\":0.03,\"fTitleOffset\":1,\"fTitleSize\":0.035,\"fTitleColor\":1,\"fTitleFont\":42,\"fNbins\":1,\"fXmin\":0,\"fXmax\":1,\"fXbins\":[],\"fFirst\":0,\"fLast\":0,\"fBits2\":0,\"fTimeDisplay\":false,\"fTimeFormat\":\"\",\"fLabels\":null,\"fModLabs\":null},\"fBarOffset\":0,\"fBarWidth\":1000,\"fEntries\":227588,\"fTsumw\":558.822382287598,\"fTsumw2\":6.16932424011003,\"fTsumwx\":113.7935,\"fTsumwx2\":43.1046255525323,\"fMaximum\":-1111,\"fMinimum\":-1111,\"fNormFactor\":0,\"fContour\":[],\"fSumw2\":[0,5.83661801465542,0.266283024311896,0.0513813276240143,0.0112562581353692,0.00262129442092117,7.46194469136816e-4,2.36273917147711e-4,9.63161111122025e-5,3.99142725300193e-5,2.03006919685309e-5,1.0963383545166e-5,6.25526491191864e-6,3.15105472412298e-6,1.78971475664705e-6,1.23499842190539e-6,6.20727833943082e-7,4.83037393174395e-7,1.4353740710959e-7,1.82479109085559e-7,1.13236087539811e-7,1.48590490382347e-7,5.41882396762236e-8,4.87696311393934e-8,3.36297895375304e-8,2.10982108266483e-8,2.93937617187054e-8,2.71397609806278e-8,0,0,1.45542196837147e-8,6.70222435845333e-9,0,0,0,0,0,0,0,0,0,0,0,0,0,0,0,0,0,0,0,2.49302272744232e-9],\"fOption\":\"\",\"fFunctions\":{\"_typename\":\"TList\",\"name\":\"TList\",\"arr\":[],\"opt\":[]},\"fBufferSize\":0,\"fBuffer\":[],\"fBinStatErrOpt\":0,\"fStatOverflows\":2,\"fArray\":[0,342.438760530822,144.867809218881,48.8499711487786,15.2269919812199,4.60350606794734,1.6095451064456,0.607671339408324,0.286082951310848,0.134832859085572,0.0764285832087586,0.045861809766215,0.0286169163226184,0.0157739636798764,0.00964465545068981,0.00711460637446594,0.00385920685414719,0.00318443052137254,0.00100224391927149,0.00135063538830403,8.90212999745848e-4,0.00121888505591214,4.65539427988247e-4,4.41633638450504e-4,3.17598790543595e-4,2.05397431434143e-4,2.96946106006016e-4,2.85339690094481e-4,0,0,1.70611953762082e-4,8.18671140229905e-5,0,0,0,0,0,0,0,0,0,0,0,0,0,0,0,0,0,0,0,4.99301785240382e-5]},{\"_typename\":\"TH1D\",\"fUniqueID\":0,\"fBits\":8,\"fName\":\"ptK+\",\"fTitle\":\"\",\"fLineColor\":602,\"fLineStyle\":1,\"fLineWidth\":1,\"fFillColor\":0,\"fFillStyle\":1001,\"fMarkerColor\":632,\"fMarkerStyle\":20,\"fMarkerSize\":1,\"fNcells\":52,\"fXaxis\":{\"_typename\":\"TAxis\",\"fUniqueID\":0,\"fBits\":0,\"fName\":\"xaxis\",\"fTitle\":\"\",\"fNdivisions\":510,\"fAxisColor\":1,\"fLabelColor\":1,\"fLabelFont\":42,\"fLabelOffset\":0.005,\"fLabelSize\":0.035,\"fTickLength\":0.03,\"fTitleOffset\":1,\"fTitleSize\":0.035,\"fTitleColor\":1,\"fTitleFont\":42,\"fNbins\":50,\"fXmin\":0,\"fXmax\":10,\"fXbins\":[],\"fFirst\":0,\"fLast\":0,\"fBits2\":0,\"fTimeDisplay\":false,\"fTimeFormat\":\"\",\"fLabels\":null,\"fModLabs\":null},\"fYaxis\":{\"_typename\":\"TAxis\",\"fUniqueID\":0,\"fBits\":0,\"fName\":\"yaxis\",\"fTitle\":\"\",\"fNdivisions\":510,\"fAxisColor\":1,\"fLabelColor\":1,\"fLabelFont\":42,\"fLabelOffset\":0.005,\"fLabelSize\":0.035,\"fTickLength\":0.03,\"fTitleOffset\":0,\"fTitleSize\":0.035,\"fTitleColor\":1,\"fTitleFont\":42,\"fNbins\":1,\"fXmin\":0,\"fXmax\":1,\"fXbins\":[],\"fFirst\":0,\"fLast\":0,\"fBits2\":0,\"fTimeDisplay\":false,\"fTimeFormat\":\"\",\"fLabels\":null,\"fModLabs\":null},\"fZaxis\":{\"_typename\":\"TAxis\",\"fUniqueID\":0,\"fBits\":0,\"fName\":\"zaxis\",\"fTitle\":\"\",\"fNdivisions\":510,\"fAxisColor\":1,\"fLabelColor\":1,\"fLabelFont\":42,\"fLabelOffset\":0.005,\"fLabelSize\":0.035,\"fTickLength\":0.03,\"fTitleOffset\":1,\"fTitleSize\":0.035,\"fTitleColor\":1,\"fTitleFont\":42,\"fNbins\":1,\"fXmin\":0,\"fXmax\":1,\"fXbins\":[],\"fFirst\":0,\"fLast\":0,\"fBits2\":0,\"fTimeDisplay\":false,\"fTimeFormat\":\"\",\"fLabels\":null,\"fModLabs\":null},\"fBarOffset\":0,\"fBarWidth\":1000,\"fEntries\":23763,\"fTsumw\":43.7221795985032,\"fTsumw2\":0.308417037149589,\"fTsumwx\":11.881,\"fTsumwx2\":5.74039245485134,\"fMaximum\":-1111,\"fMinimum\":-1111,\"fNormFactor\":0,\"fContour\":[],\"fSumw2\":[0,0.276002348374751,0.0236013894583713,0.00636576941323043,0.0017306123734169,4.75721479193382e-4,1.44359205748738e-4,5.26686620223146e-5,2.213524230093e-5,1.00219190231815e-5,4.49172147239678e-6,3.21773014562131e-6,1.76718930121269e-6,1.05237157553226e-6,4.80683166200994e-7,3.93154632113045e-7,1.31217204273331e-7,1.84678626308063e-7,5.95826168668371e-8,1.08890683688358e-7,0,4.45042216802925e-8,5.49916075898379e-8,0,0,1.04184427515815e-8,9.6261618841654e-9,0,0,0,0,0,0,0,0,0,0,0,0,4.26167246964006e-9,0,0,0,0,0,0,0,0,0,0,0,2.35086738137234e-9],\"fOption\":\"\",\"fFunctions\":{\"_typename\":\"TList\",\"name\":\"TList\",\"arr\":[],\"opt\":[]},\"fBufferSize\":0,\"fBuffer\":[],\"fBinStatErrOpt\":0,\"fStatOverflows\":2,\"fArray\":[0,20.7243420069667,13.1049190129402,6.10726262776484,2.35092338325227,0.835219592997346,0.31059076796104,0.136028605595371,0.0658211513318639,0.0339308695233458,0.0170798711348036,0.013538175623148,0.00808370442928245,0.0052298446970172,0.00259371546859846,0.00226042288321947,8.09855729576121e-4,0.00121529500666203,4.22730434844783e-4,8.08165584235914e-4,0,3.65389138494846e-4,4.6894477518262e-4,0,0,1.0207077324867e-4,9.81130056830663e-5,0,0,0,0,0,0,0,0,0,0,0,0,6.52814864233349e-5,0,0,0,0,0,0,0,0,0,0,0,4.84857441045545e-5]},{\"_typename\":\"TLegend\",\"fUniqueID\":0,\"fBits\":8,\"fLineColor\":1,\"fLineStyle\":1,\"fLineWidth\":1,\"fFillColor\":0,\"fFillStyle\":1001,\"fX1\":9.00000013411046,\"fY1\":1.34956250773463,\"fX2\":12.0000001788139,\"fY2\":1.66100001237542,\"fX1NDC\":0.8,\"fY1NDC\":0.75,\"fX2NDC\":0.9,\"fY2NDC\":0.9,\"fBorderSize\":1,\"fInit\":1,\"fShadowColor\":1,\"fCornerRadius\":0,\"fOption\":\"brNDC\",\"fName\":\"TPave\",\"fTextAngle\":0,\"fTextSize\":0,\"fTextAlign\":12,\"fTextColor\":1,\"fTextFont\":42,\"fPrimitives\":{\"_typename\":\"TList\",\"name\":\"TList\",\"arr\":[{\"_typename\":\"TLegendEntry\",\"fUniqueID\":0,\"fBits\":0,\"fTextAngle\":0,\"fTextSize\":0,\"fTextAlign\":0,\"fTextColor\":0,\"fTextFont\":42,\"fLineColor\":602,\"fLineStyle\":1,\"fLineWidth\":1,\"fFillColor\":0,\"fFillStyle\":1001,\"fMarkerColor\":1,\"fMarkerStyle\":20,\"fMarkerSize\":1,\"fObject\":{\"$ref\":10},\"fLabel\":\"p\",\"fOption\":\"lpf\"},{\"_typename\":\"TLegendEntry\",\"fUniqueID\":0,\"fBits\":0,\"fTextAngle\":0,\"fTextSize\":0,\"fTextAlign\":0,\"fTextColor\":0,\"fTextFont\":42,\"fLineColor\":602,\"fLineStyle\":1,\"fLineWidth\":1,\"fFillColor\":0,\"fFillStyle\":1001,\"fMarkerColor\":600,\"fMarkerStyle\":20,\"fMarkerSize\":1,\"fObject\":{\"$ref\":15},\"fLabel\":\"#pi^{+}\",\"fOption\":\"lpf\"},{\"_typename\":\"TLegendEntry\",\"fUniqueID\":0,\"fBits\":0,\"fTextAngle\":0,\"fTextSize\":0,\"fTextAlign\":0,\"fTextColor\":0,\"fTextFont\":42,\"fLineColor\":602,\"fLineStyle\":1,\"fLineWidth\":1,\"fFillColor\":0,\"fFillStyle\":1001,\"fMarkerColor\":632,\"fMarkerStyle\":20,\"fMarkerSize\":1,\"fObject\":{\"$ref\":20},\"fLabel\":\"K^{+}\",\"fOption\":\"lpf\"}],\"opt\":[\"lpf\",\"lpf\",\"lpf\"]},\"fEntrySeparation\":0.1,\"fMargin\":0.25,\"fNColumns\":1,\"fColumnSeparation\":0}],\"opt\":[\"\",\"\",\"p same\",\"p same\",\"p same\",\"\"]},\"fExecs\":{\"_typename\":\"TList\",\"name\":\"TList\",\"arr\":[],\"opt\":[]},\"fName\":\"c_etapt_1\",\"fTitle\":\"c_etapt_1\",\"fNumPaletteColor\":0,\"fNextPaletteColor\":0},{\"_typename\":\"TPad\",\"fUniqueID\":0,\"fBits\":9,\"fLineColor\":1,\"fLineStyle\":1,\"fLineWidth\":1,\"fFillColor\":0,\"fFillStyle\":1001,\"fLeftMargin\":0.1,\"fRightMargin\":0.1,\"fBottomMargin\":0.1,\"fTopMargin\":0.1,\"fXfile\":2,\"fYfile\":2,\"fAfile\":1,\"fXstat\":0.99,\"fYstat\":0.99,\"fAstat\":2,\"fFrameFillColor\":0,\"fFrameLineColor\":1,\"fFrameFillStyle\":1001,\"fFrameLineStyle\":1,\"fFrameLineWidth\":1,\"fFrameBorderSize\":1,\"fFrameBorderMode\":0,\"fX1\":-15.0000002235174,\"fY1\":-0.207625015469269,\"fX2\":15.0000002235174,\"fY2\":1.86862501546927,\"fXtoAbsPixelk\":1197.00005,\"fXtoPixelk\":383.040050356734,\"fXtoPixel\":25.5359996432662,\"fYtoAbsPixelk\":510.224046761083,\"fYtoPixelk\":504.504046888935,\"fYtoPixel\":-269.986751066928,\"fUtoAbsPixelk\":813.960049643266,\"fUtoPixelk\":5e-5,\"fUtoPixel\":766.080000713468,\"fVtoAbsPixelk\":566.280050127852,\"fVtoPixelk\":560.560000255704,\"fVtoPixel\":-560.560000255704,\"fAbsPixeltoXk\":-46.8750006548362,\"fPixeltoXk\":-15.0000002235174,\"fPixeltoX\":0.0391604015495708,\"fAbsPixeltoYk\":1.88981123979155,\"fPixeltoYk\":-0.207625015469269,\"fPixeltoY\":-0.00370388545381661,\"fXlowNDC\":0.509999999776483,\"fYlowNDC\":0.00999999977648258,\"fXUpNDC\":0.990000000223517,\"fYUpNDC\":0.990000000223517,\"fWNDC\":0.480000000447035,\"fHNDC\":0.980000000447035,\"fAbsXlowNDC\":0.509999999776483,\"fAbsYlowNDC\":0.00999999977648258,\"fAbsWNDC\":0.480000000447035,\"fAbsHNDC\":0.980000000447035,\"fUxmin\":-12,\"fUymin\":0,\"fUxmax\":12,\"fUymax\":1.661,\"fTheta\":30,\"fPhi\":30,\"fAspectRatio\":0,\"fNumber\":2,\"fTickx\":0,\"fTicky\":0,\"fLogx\":0,\"fLogy\":0,\"fLogz\":0,\"fPadPaint\":0,\"fCrosshair\":0,\"fCrosshairPos\":0,\"fBorderSize\":2,\"fBorderMode\":0,\"fModified\":false,\"fGridx\":false,\"fGridy\":false,\"fAbsCoord\":false,\"fEditable\":true,\"fFixedAspectRatio\":false,\"fPrimitives\":{\"_typename\":\"TList\",\"name\":\"TList\",\"arr\":[{\"_typename\":\"TFrame\",\"fUniqueID\":0,\"fBits\":8,\"fLineColor\":1,\"fLineStyle\":1,\"fLineWidth\":1,\"fFillColor\":0,\"fFillStyle\":1001,\"fX1\":-12,\"fY1\":0,\"fX2\":12,\"fY2\":1.661,\"fBorderSize\":1,\"fBorderMode\":0},{\"_typename\":\"TH1F\",\"fUniqueID\":0,\"fBits\":521,\"fName\":\"hframe\",\"fTitle\":\"\",\"fLineColor\":602,\"fLineStyle\":1,\"fLineWidth\":1,\"fFillColor\":0,\"fFillStyle\":1001,\"fMarkerColor\":1,\"fMarkerStyle\":1,\"fMarkerSize\":1,\"fNcells\":1002,\"fXaxis\":{\"_typename\":\"TAxis\",\"fUniqueID\":0,\"fBits\":0,\"fName\":\"xaxis\",\"fTitle\":\"#eta\",\"fNdivisions\":510,\"fAxisColor\":1,\"fLabelColor\":1,\"fLabelFont\":42,\"fLabelOffset\":0.005,\"fLabelSize\":0.035,\"fTickLength\":0.03,\"fTitleOffset\":1,\"fTitleSize\":0.035,\"fTitleColor\":1,\"fTitleFont\":42,\"fNbins\":1000,\"fXmin\":-12,\"fXmax\":12,\"fXbins\":[],\"fFirst\":0,\"fLast\":0,\"fBits2\":0,\"fTimeDisplay\":false,\"fTimeFormat\":\"\",\"fLabels\":null,\"fModLabs\":null},\"fYaxis\":{\"_typename\":\"TAxis\",\"fUniqueID\":0,\"fBits\":0,\"fName\":\"yaxis\",\"fTitle\":\"#frac{dN}{d#eta} \",\"fNdivisions\":510,\"fAxisColor\":1,\"fLabelColor\":1,\"fLabelFont\":42,\"fLabelOffset\":0.005,\"fLabelSize\":0.035,\"fTickLength\":0.03,\"fTitleOffset\":0,\"fTitleSize\":15,\"fTitleColor\":1,\"fTitleFont\":42,\"fNbins\":1,\"fXmin\":0,\"fXmax\":1.661,\"fXbins\":[],\"fFirst\":0,\"fLast\":0,\"fBits2\":0,\"fTimeDisplay\":false,\"fTimeFormat\":\"\",\"fLabels\":null,\"fModLabs\":null},\"fZaxis\":{\"_typename\":\"TAxis\",\"fUniqueID\":0,\"fBits\":0,\"fName\":\"zaxis\",\"fTitle\":\"\",\"fNdivisions\":510,\"fAxisColor\":1,\"fLabelColor\":1,\"fLabelFont\":42,\"fLabelOffset\":0.005,\"fLabelSize\":0.035,\"fTickLength\":0.03,\"fTitleOffset\":1,\"fTitleSize\":0.035,\"fTitleColor\":1,\"fTitleFont\":42,\"fNbins\":1,\"fXmin\":0,\"fXmax\":1,\"fXbins\":[],\"fFirst\":0,\"fLast\":0,\"fBits2\":0,\"fTimeDisplay\":false,\"fTimeFormat\":\"\",\"fLabels\":null,\"fModLabs\":null},\"fBarOffset\":0,\"fBarWidth\":1000,\"fEntries\":0,\"fTsumw\":0,\"fTsumw2\":0,\"fTsumwx\":0,\"fTsumwx2\":0,\"fMaximum\":1.661,\"fMinimum\":0,\"fNormFactor\":0,\"fContour\":[],\"fSumw2\":[],\"fOption\":\"\",\"fFunctions\":{\"_typename\":\"TList\",\"name\":\"TList\",\"arr\":[],\"opt\":[]},\"fBufferSize\":0,\"fBuffer\":[],\"fBinStatErrOpt\":0,\"fStatOverflows\":2,\"fArray\":[0,0,0,0,0,0,0,0,0,0,0,0,0,0,0,0,0,0,0,0,0,0,0,0,0,0,0,0,0,0,0,0,0,0,0,0,0,0,0,0,0,0,0,0,0,0,0,0,0,0,0,0,0,0,0,0,0,0,0,0,0,0,0,0,0,0,0,0,0,0,0,0,0,0,0,0,0,0,0,0,0,0,0,0,0,0,0,0,0,0,0,0,0,0,0,0,0,0,0,0,0,0,0,0,0,0,0,0,0,0,0,0,0,0,0,0,0,0,0,0,0,0,0,0,0,0,0,0,0,0,0,0,0,0,0,0,0,0,0,0,0,0,0,0,0,0,0,0,0,0,0,0,0,0,0,0,0,0,0,0,0,0,0,0,0,0,0,0,0,0,0,0,0,0,0,0,0,0,0,0,0,0,0,0,0,0,0,0,0,0,0,0,0,0,0,0,0,0,0,0,0,0,0,0,0,0,0,0,0,0,0,0,0,0,0,0,0,0,0,0,0,0,0,0,0,0,0,0,0,0,0,0,0,0,0,0,0,0,0,0,0,0,0,0,0,0,0,0,0,0,0,0,0,0,0,0,0,0,0,0,0,0,0,0,0,0,0,0,0,0,0,0,0,0,0,0,0,0,0,0,0,0,0,0,0,0,0,0,0,0,0,0,0,0,0,0,0,0,0,0,0,0,0,0,0,0,0,0,0,0,0,0,0,0,0,0,0,0,0,0,0,0,0,0,0,0,0,0,0,0,0,0,0,0,0,0,0,0,0,0,0,0,0,0,0,0,0,0,0,0,0,0,0,0,0,0,0,0,0,0,0,0,0,0,0,0,0,0,0,0,0,0,0,0,0,0,0,0,0,0,0,0,0,0,0,0,0,0,0,0,0,0,0,0,0,0,0,0,0,0,0,0,0,0,0,0,0,0,0,0,0,0,0,0,0,0,0,0,0,0,0,0,0,0,0,0,0,0,0,0,0,0,0,0,0,0,0,0,0,0,0,0,0,0,0,0,0,0,0,0,0,0,0,0,0,0,0,0,0,0,0,0,0,0,0,0,0,0,0,0,0,0,0,0,0,0,0,0,0,0,0,0,0,0,0,0,0,0,0,0,0,0,0,0,0,0,0,0,0,0,0,0,0,0,0,0,0,0,0,0,0,0,0,0,0,0,0,0,0,0,0,0,0,0,0,0,0,0,0,0,0,0,0,0,0,0,0,0,0,0,0,0,0,0,0,0,0,0,0,0,0,0,0,0,0,0,0,0,0,0,0,0,0,0,0,0,0,0,0,0,0,0,0,0,0,0,0,0,0,0,0,0,0,0,0,0,0,0,0,0,0,0,0,0,0,0,0,0,0,0,0,0,0,0,0,0,0,0,0,0,0,0,0,0,0,0,0,0,0,0,0,0,0,0,0,0,0,0,0,0,0,0,0,0,0,0,0,0,0,0,0,0,0,0,0,0,0,0,0,0,0,0,0,0,0,0,0,0,0,0,0,0,0,0,0,0,0,0,0,0,0,0,0,0,0,0,0,0,0,0,0,0,0,0,0,0,0,0,0,0,0,0,0,0,0,0,0,0,0,0,0,0,0,0,0,0,0,0,0,0,0,0,0,0,0,0,0,0,0,0,0,0,0,0,0,0,0,0,0,0,0,0,0,0,0,0,0,0,0,0,0,0,0,0,0,0,0,0,0,0,0,0,0,0,0,0,0,0,0,0,0,0,0,0,0,0,0,0,0,0,0,0,0,0,0,0,0,0,0,0,0,0,0,0,0,0,0,0,0,0,0,0,0,0,0,0,0,0,0,0,0,0,0,0,0,0,0,0,0,0,0,0,0,0,0,0,0,0,0,0,0,0,0,0,0,0,0,0,0,0,0,0,0,0,0,0,0,0,0,0,0,0,0,0,0,0,0,0,0,0,0,0,0,0,0,0,0,0,0,0,0,0,0,0,0,0,0,0,0,0,0,0,0,0,0,0,0,0,0,0,0,0,0,0,0,0,0,0,0,0,0,0,0,0,0,0,0,0,0,0,0,0,0,0,0,0,0,0,0,0,0,0,0,0,0,0,0,0,0,0,0,0,0,0,0,0,0,0,0,0,0,0,0,0,0,0,0,0,0,0,0,0,0,0,0,0,0,0,0,0,0,0,0,0,0,0,0,0,0,0,0,0,0,0,0,0,0,0,0,0,0,0,0,0,0,0,0,0,0,0,0,0,0,0,0,0,0,0,0,0,0,0,0,0,0,0,0,0,0,0,0,0]},{\"_typename\":\"TH1D\",\"fUniqueID\":0,\"fBits\":8,\"fName\":\"etaproton\",\"fTitle\":\"\",\"fLineColor\":602,\"fLineStyle\":1,\"fLineWidth\":1,\"fFillColor\":0,\"fFillStyle\":1001,\"fMarkerColor\":1,\"fMarkerStyle\":20,\"fMarkerSize\":1,\"fNcells\":122,\"fXaxis\":{\"_typename\":\"TAxis\",\"fUniqueID\":0,\"fBits\":0,\"fName\":\"xaxis\",\"fTitle\":\"\",\"fNdivisions\":510,\"fAxisColor\":1,\"fLabelColor\":1,\"fLabelFont\":42,\"fLabelOffset\":0.005,\"fLabelSize\":0.035,\"fTickLength\":0.03,\"fTitleOffset\":1,\"fTitleSize\":0.035,\"fTitleColor\":1,\"fTitleFont\":42,\"fNbins\":120,\"fXmin\":-12,\"fXmax\":12,\"fXbins\":[],\"fFirst\":0,\"fLast\":0,\"fBits2\":0,\"fTimeDisplay\":false,\"fTimeFormat\":\"\",\"fLabels\":null,\"fModLabs\":null},\"fYaxis\":{\"_typename\":\"TAxis\",\"fUniqueID\":0,\"fBits\":0,\"fName\":\"yaxis\",\"fTitle\":\"\",\"fNdivisions\":510,\"fAxisColor\":1,\"fLabelColor\":1,\"fLabelFont\":42,\"fLabelOffset\":0.005,\"fLabelSize\":0.035,\"fTickLength\":0.03,\"fTitleOffset\":0,\"fTitleSize\":0.035,\"fTitleColor\":1,\"fTitleFont\":42,\"fNbins\":1,\"fXmin\":0,\"fXmax\":1,\"fXbins\":[],\"fFirst\":0,\"fLast\":0,\"fBits2\":0,\"fTimeDisplay\":false,\"fTimeFormat\":\"\",\"fLabels\":null,\"fModLabs\":null},\"fZaxis\":{\"_typename\":\"TAxis\",\"fUniqueID\":0,\"fBits\":0,\"fName\":\"zaxis\",\"fTitle\":\"\",\"fNdivisions\":510,\"fAxisColor\":1,\"fLabelColor\":1,\"fLabelFont\":42,\"fLabelOffset\":0.005,\"fLabelSize\":0.035,\"fTickLength\":0.03,\"fTitleOffset\":1,\"fTitleSize\":0.035,\"fTitleColor\":1,\"fTitleFont\":42,\"fNbins\":1,\"fXmin\":0,\"fXmax\":1,\"fXbins\":[],\"fFirst\":0,\"fLast\":0,\"fBits2\":0,\"fTimeDisplay\":false,\"fTimeFormat\":\"\",\"fLabels\":null,\"fModLabs\":null},\"fBarOffset\":0,\"fBarWidth\":1000,\"fEntries\":27161,\"fTsumw\":13.5635,\"fTsumw2\":0.00678175,\"fTsumwx\":-0.0100143780941095,\"fTsumwx2\":664.74643180787,\"fMaximum\":-1111,\"fMinimum\":-1111,\"fNormFactor\":0,\"fContour\":[],\"fSumw2\":[5.25e-6,1.75e-6,4e-6,3e-6,8.25e-6,8.75e-6,1.525e-5,2e-5,3.1e-5,4.575e-5,6.65e-5,8.975e-5,1.0425e-4,1.3075e-4,1.4525e-4,1.495e-4,1.3775e-4,1.345e-4,1.1625e-4,9.45e-5,8.15e-5,6.55e-5,6.075e-5,5.95e-5,5.475e-5,5.8e-5,4.225e-5,4.675e-5,5.4e-5,5.425e-5,5.075e-5,5.375e-5,5.2e-5,5.625e-5,5.775e-5,5.825e-5,5.575e-5,5.4e-5,6.225e-5,5.275e-5,5.95e-5,5.725e-5,5.375e-5,5.65e-5,5.35e-5,5.925e-5,5.175e-5,5.075e-5,5.3e-5,5.675e-5,5e-5,4.425e-5,4.725e-5,3.975e-5,4.275e-5,3.5e-5,3.525e-5,2.875e-5,2.825e-5,2.425e-5,2.575e-5,2.55e-5,2.7e-5,3e-5,2.975e-5,3.2e-5,3.55e-5,4.15e-5,3.925e-5,4.025e-5,4.425e-5,5.3e-5,4.8e-5,5.8e-5,5.175e-5,5.625e-5,5.75e-5,5.325e-5,6.75e-5,5e-5,4.9e-5,5.55e-5,5.9e-5,5.4e-5,5.8e-5,5.925e-5,6e-5,5.775e-5,5.175e-5,5.7e-5,5.15e-5,5e-5,5.3e-5,5.375e-5,4.95e-5,5.275e-5,5.025e-5,5.95e-5,6.4e-5,6.375e-5,7.575e-5,7.125e-5,8.45e-5,1.1875e-4,1.2575e-4,1.465e-4,1.6275e-4,1.4125e-4,1.23e-4,1.0875e-4,8.275e-5,6.325e-5,4.475e-5,2.675e-5,2.175e-5,1.65e-5,1.15e-5,4.75e-6,5.25e-6,3.75e-6,2.25e-6,3.25e-6],\"fOption\":\"\",\"fFunctions\":{\"_typename\":\"TList\",\"name\":\"TList\",\"arr\":[],\"opt\":[]},\"fBufferSize\":0,\"fBuffer\":[],\"fBinStatErrOpt\":0,\"fStatOverflows\":2,\"fArray\":[0.0105,0.0035,0.008,0.006,0.0165,0.0175,0.0305,0.04,0.062,0.0915,0.133,0.1795,0.2085,0.2615,0.2905,0.299,0.2755,0.269,0.2325,0.189,0.163,0.131,0.1215,0.119,0.1095,0.116,0.0845,0.0935,0.108,0.1085,0.1015,0.1075,0.104,0.1125,0.1155,0.1165,0.1115,0.108,0.1245,0.1055,0.119,0.1145,0.1075,0.113,0.107,0.1185,0.1035,0.1015,0.106,0.1135,0.1,0.0885,0.0945,0.0795,0.0855,0.07,0.0705,0.0575,0.0565,0.0485,0.0515,0.051,0.054,0.06,0.0595,0.064,0.071,0.083,0.0785,0.0805,0.0885,0.106,0.096,0.116,0.1035,0.1125,0.115,0.1065,0.135,0.1,0.098,0.111,0.118,0.108,0.116,0.1185,0.12,0.1155,0.1035,0.114,0.103,0.1,0.106,0.1075,0.099,0.1055,0.1005,0.119,0.128,0.1275,0.1515,0.1425,0.169,0.2375,0.2515,0.293,0.3255,0.2825,0.246,0.2175,0.1655,0.1265,0.0895,0.0535,0.0435,0.033,0.023,0.0095,0.0105,0.0075,0.0045,0.0065]},{\"_typename\":\"TH1D\",\"fUniqueID\":0,\"fBits\":8,\"fName\":\"etapi+\",\"fTitle\":\"\",\"fLineColor\":602,\"fLineStyle\":1,\"fLineWidth\":1,\"fFillColor\":0,\"fFillStyle\":1001,\"fMarkerColor\":600,\"fMarkerStyle\":20,\"fMarkerSize\":1,\"fNcells\":122,\"fXaxis\":{\"_typename\":\"TAxis\",\"fUniqueID\":0,\"fBits\":0,\"fName\":\"xaxis\",\"fTitle\":\"\",\"fNdivisions\":510,\"fAxisColor\":1,\"fLabelColor\":1,\"fLabelFont\":42,\"fLabelOffset\":0.005,\"fLabelSize\":0.035,\"fTickLength\":0.03,\"fTitleOffset\":1,\"fTitleSize\":0.035,\"fTitleColor\":1,\"fTitleFont\":42,\"fNbins\":120,\"fXmin\":-12,\"fXmax\":12,\"fXbins\":[],\"fFirst\":0,\"fLast\":0,\"fBits2\":0,\"fTimeDisplay\":false,\"fTimeFormat\":\"\",\"fLabels\":null,\"fModLabs\":null},\"fYaxis\":{\"_typename\":\"TAxis\",\"fUniqueID\":0,\"fBits\":0,\"fName\":\"yaxis\",\"fTitle\":\"\",\"fNdivisions\":510,\"fAxisColor\":1,\"fLabelColor\":1,\"fLabelFont\":42,\"fLabelOffset\":0.005,\"fLabelSize\":0.035,\"fTickLength\":0.03,\"fTitleOffset\":0,\"fTitleSize\":0.035,\"fTitleColor\":1,\"fTitleFont\":42,\"fNbins\":1,\"fXmin\":0,\"fXmax\":1,\"fXbins\":[],\"fFirst\":0,\"fLast\":0,\"fBits2\":0,\"fTimeDisplay\":false,\"fTimeFormat\":\"\",\"fLabels\":null,\"fModLabs\":null},\"fZaxis\":{\"_typename\":\"TAxis\",\"fUniqueID\":0,\"fBits\":0,\"fName\":\"zaxis\",\"fTitle\":\"\",\"fNdivisions\":510,\"fAxisColor\":1,\"fLabelColor\":1,\"fLabelFont\":42,\"fLabelOffset\":0.005,\"fLabelSize\":0.035,\"fTickLength\":0.03,\"fTitleOffset\":1,\"fTitleSize\":0.035,\"fTitleColor\":1,\"fTitleFont\":42,\"fNbins\":1,\"fXmin\":0,\"fXmax\":1,\"fXbins\":[],\"fFirst\":0,\"fLast\":0,\"fBits2\":0,\"fTimeDisplay\":false,\"fTimeFormat\":\"\",\"fLabels\":null,\"fModLabs\":null},\"fBarOffset\":0,\"fBarWidth\":1000,\"fEntries\":227588,\"fTsumw\":113.788,\"fTsumw2\":0.056894,\"fTsumwx\":1.56231214002872,\"fTsumwx2\":2684.80789765396,\"fMaximum\":-1111,\"fMinimum\":-1111,\"fNormFactor\":0,\"fContour\":[],\"fSumw2\":[2e-6,7.5e-7,1.5e-6,2.75e-6,2.25e-6,5.25e-6,8.75e-6,1.25e-5,1.575e-5,2.425e-5,3.275e-5,4.125e-5,6.8e-5,1.105e-4,1.415e-4,1.6925e-4,2.2325e-4,2.63e-4,3.0425e-4,3.515e-4,3.7775e-4,4.2475e-4,4.3975e-4,4.81e-4,5.0225e-4,5.1125e-4,5.2375e-4,5.635e-4,5.9575e-4,5.8375e-4,6.1325e-4,6.3425e-4,6.3725e-4,6.5825e-4,6.905e-4,6.935e-4,6.88e-4,7.025e-4,6.965e-4,7.0675e-4,7.3475e-4,7.14e-4,7.0925e-4,7.12e-4,7.1225e-4,7.1775e-4,7.385e-4,7.55e-4,7.3925e-4,7.28e-4,7.2425e-4,7.2325e-4,7.22e-4,7.115e-4,7.185e-4,7.085e-4,6.555e-4,6.6025e-4,6.745e-4,6.39e-4,6.4875e-4,6.4e-4,6.69e-4,6.5225e-4,6.9875e-4,6.9825e-4,6.9875e-4,7.0225e-4,7.1e-4,7.1475e-4,7.3125e-4,7.2925e-4,7.2625e-4,7.1375e-4,7.455e-4,7.4575e-4,7.36e-4,7.4675e-4,7.425e-4,7.3075e-4,7.03e-4,7.2875e-4,7.375e-4,6.8875e-4,7.135e-4,6.6975e-4,6.75e-4,6.895e-4,6.62e-4,6.535e-4,6.245e-4,6.31e-4,5.9375e-4,5.9e-4,5.79e-4,5.5625e-4,5.0625e-4,4.985e-4,4.6525e-4,4.5725e-4,4.1925e-4,3.7325e-4,3.53e-4,3.315e-4,2.575e-4,2.0675e-4,1.76e-4,1.37e-4,9.85e-5,7.05e-5,4.85e-5,3.775e-5,2.5e-5,1.775e-5,1.125e-5,8.75e-6,6e-6,4.5e-6,2.25e-6,3e-6,1.25e-6,1e-6],\"fOption\":\"\",\"fFunctions\":{\"_typename\":\"TList\",\"name\":\"TList\",\"arr\":[],\"opt\":[]},\"fBufferSize\":0,\"fBuffer\":[],\"fBinStatErrOpt\":0,\"fStatOverflows\":2,\"fArray\":[0.004,0.0015,0.003,0.0055,0.0045,0.0105,0.0175,0.025,0.0315,0.0485,0.0655,0.0825,0.136,0.221,0.283,0.3385,0.4465,0.526,0.6085,0.703,0.7555,0.8495,0.8795,0.962,1.0045,1.0225,1.0475,1.127,1.1915,1.1675,1.2265,1.2685,1.2745,1.3165,1.381,1.387,1.376,1.405,1.393,1.4135,1.4695,1.428,1.4185,1.424,1.4245,1.4355,1.477,1.51,1.4785,1.456,1.4485,1.4465,1.444,1.423,1.437,1.417,1.311,1.3205,1.349,1.278,1.2975,1.28,1.338,1.3045,1.3975,1.3965,1.3975,1.4045,1.42,1.4295,1.4625,1.4585,1.4525,1.4275,1.491,1.4915,1.472,1.4935,1.485,1.4615,1.406,1.4575,1.475,1.3775,1.427,1.3395,1.35,1.379,1.324,1.307,1.249,1.262,1.1875,1.18,1.158,1.1125,1.0125,0.997,0.9305,0.9145,0.8385,0.7465,0.706,0.663,0.515,0.4135,0.352,0.274,0.197,0.141,0.097,0.0755,0.05,0.0355,0.0225,0.0175,0.012,0.009,0.0045,0.006,0.0025,0.002]},{\"_typename\":\"TH1D\",\"fUniqueID\":0,\"fBits\":8,\"fName\":\"etaK+\",\"fTitle\":\"\",\"fLineColor\":602,\"fLineStyle\":1,\"fLineWidth\":1,\"fFillColor\":0,\"fFillStyle\":1001,\"fMarkerColor\":632,\"fMarkerStyle\":20,\"fMarkerSize\":1,\"fNcells\":122,\"fXaxis\":{\"_typename\":\"TAxis\",\"fUniqueID\":0,\"fBits\":0,\"fName\":\"xaxis\",\"fTitle\":\"\",\"fNdivisions\":510,\"fAxisColor\":1,\"fLabelColor\":1,\"fLabelFont\":42,\"fLabelOffset\":0.005,\"fLabelSize\":0.035,\"fTickLength\":0.03,\"fTitleOffset\":1,\"fTitleSize\":0.035,\"fTitleColor\":1,\"fTitleFont\":42,\"fNbins\":120,\"fXmin\":-12,\"fXmax\":12,\"fXbins\":[],\"fFirst\":0,\"fLast\":0,\"fBits2\":0,\"fTimeDisplay\":false,\"fTimeFormat\":\"\",\"fLabels\":null,\"fModLabs\":null},\"fYaxis\":{\"_typename\":\"TAxis\",\"fUniqueID\":0,\"fBits\":0,\"fName\":\"yaxis\",\"fTitle\":\"\",\"fNdivisions\":510,\"fAxisColor\":1,\"fLabelColor\":1,\"fLabelFont\":42,\"fLabelOffset\":0.005,\"fLabelSize\":0.035,\"fTickLength\":0.03,\"fTitleOffset\":0,\"fTitleSize\":0.035,\"fTitleColor\":1,\"fTitleFont\":42,\"fNbins\":1,\"fXmin\":0,\"fXmax\":1,\"fXbins\":[],\"fFirst\":0,\"fLast\":0,\"fBits2\":0,\"fTimeDisplay\":false,\"fTimeFormat\":\"\",\"fLabels\":null,\"fModLabs\":null},\"fZaxis\":{\"_typename\":\"TAxis\",\"fUniqueID\":0,\"fBits\":0,\"fName\":\"zaxis\",\"fTitle\":\"\",\"fNdivisions\":510,\"fAxisColor\":1,\"fLabelColor\":1,\"fLabelFont\":42,\"fLabelOffset\":0.005,\"fLabelSize\":0.035,\"fTickLength\":0.03,\"fTitleOffset\":1,\"fTitleSize\":0.035,\"fTitleColor\":1,\"fTitleFont\":42,\"fNbins\":1,\"fXmin\":0,\"fXmax\":1,\"fXbins\":[],\"fFirst\":0,\"fLast\":0,\"fBits2\":0,\"fTimeDisplay\":false,\"fTimeFormat\":\"\",\"fLabels\":null,\"fModLabs\":null},\"fBarOffset\":0,\"fBarWidth\":1000,\"fEntries\":23763,\"fTsumw\":11.881,\"fTsumw2\":0.0059405,\"fTsumwx\":0.231946360842388,\"fTsumwx2\":293.414868515741,\"fMaximum\":-1111,\"fMinimum\":-1111,\"fNormFactor\":0,\"fContour\":[],\"fSumw2\":[2.5e-7,0,2.5e-7,0,0,0,5e-7,1.25e-6,2.25e-6,5e-6,3.5e-6,7.75e-6,1.25e-5,1.375e-5,1.75e-5,1.325e-5,2.175e-5,2.925e-5,3.475e-5,3.275e-5,3.85e-5,4.375e-5,4.675e-5,6.075e-5,6.2e-5,5.85e-5,5.8e-5,6.525e-5,6.2e-5,6.5e-5,6.375e-5,6.775e-5,6.625e-5,6.525e-5,7.55e-5,7.6e-5,7.225e-5,7.55e-5,6.65e-5,7.725e-5,7.275e-5,8.55e-5,8.65e-5,7.625e-5,8.225e-5,7.65e-5,8.225e-5,8.175e-5,8.3e-5,8.025e-5,7.925e-5,6.45e-5,7.525e-5,6.925e-5,6.025e-5,6.05e-5,6.175e-5,5.675e-5,5.4e-5,4.95e-5,4.825e-5,4.675e-5,5.075e-5,5.05e-5,6.35e-5,6.525e-5,6.05e-5,7.25e-5,6.575e-5,6.65e-5,8.225e-5,7.925e-5,8.025e-5,7.35e-5,7.325e-5,8e-5,8.6e-5,7.175e-5,8.525e-5,8.3e-5,8.475e-5,7.275e-5,8.25e-5,7.825e-5,7.825e-5,8.275e-5,7.525e-5,7.6e-5,6.85e-5,7.9e-5,6.45e-5,6.7e-5,6.525e-5,6.675e-5,6.35e-5,6.8e-5,6.1e-5,5.85e-5,4.725e-5,4.875e-5,4.225e-5,3.825e-5,3.4e-5,3.1e-5,3.05e-5,2.2e-5,1.4e-5,1.45e-5,1.075e-5,8.75e-6,5.5e-6,4.5e-6,3.25e-6,3e-6,1.5e-6,5e-7,7.5e-7,7.5e-7,5e-7,2.5e-7,2.5e-7,0],\"fOption\":\"\",\"fFunctions\":{\"_typename\":\"TList\",\"name\":\"TList\",\"arr\":[],\"opt\":[]},\"fBufferSize\":0,\"fBuffer\":[],\"fBinStatErrOpt\":0,\"fStatOverflows\":2,\"fArray\":[5e-4,0,5e-4,0,0,0,0.001,0.0025,0.0045,0.01,0.007,0.0155,0.025,0.0275,0.035,0.0265,0.0435,0.0585,0.0695,0.0655,0.077,0.0875,0.0935,0.1215,0.124,0.117,0.116,0.1305,0.124,0.13,0.1275,0.1355,0.1325,0.1305,0.151,0.152,0.1445,0.151,0.133,0.1545,0.1455,0.171,0.173,0.1525,0.1645,0.153,0.1645,0.1635,0.166,0.1605,0.1585,0.129,0.1505,0.1385,0.1205,0.121,0.1235,0.1135,0.108,0.099,0.0965,0.0935,0.1015,0.101,0.127,0.1305,0.121,0.145,0.1315,0.133,0.1645,0.1585,0.1605,0.147,0.1465,0.16,0.172,0.1435,0.1705,0.166,0.1695,0.1455,0.165,0.1565,0.1565,0.1655,0.1505,0.152,0.137,0.158,0.129,0.134,0.1305,0.1335,0.127,0.136,0.122,0.117,0.0945,0.0975,0.0845,0.0765,0.068,0.062,0.061,0.044,0.028,0.029,0.0215,0.0175,0.011,0.009,0.0065,0.006,0.003,0.001,0.0015,0.0015,0.001,5e-4,5e-4,0]},{\"$ref\":25}],\"opt\":[\"\",\"\",\"p same\",\"p same\",\"p same\",\"\"]},\"fExecs\":{\"_typename\":\"TList\",\"name\":\"TList\",\"arr\":[],\"opt\":[]},\"fName\":\"c_etapt_2\",\"fTitle\":\"c_etapt_2\",\"fNumPaletteColor\":0,\"fNextPaletteColor\":0},{\"_typename\":\"TStyle\",\"fUniqueID\":0,\"fBits\":0,\"fName\":\"Modern\",\"fTitle\":\"Modern Style\",\"fLineColor\":1,\"fLineStyle\":1,\"fLineWidth\":1,\"fFillColor\":19,\"fFillStyle\":1001,\"fMarkerColor\":1,\"fMarkerStyle\":1,\"fMarkerSize\":1,\"fTextAngle\":0,\"fTextSize\":0.05,\"fTextAlign\":11,\"fTextColor\":1,\"fTextFont\":62,\"fXaxis\":{\"_typename\":\"TAttAxis\",\"fNdivisions\":510,\"fAxisColor\":1,\"fLabelColor\":1,\"fLabelFont\":42,\"fLabelOffset\":0.005,\"fLabelSize\":0.035,\"fTickLength\":0.03,\"fTitleOffset\":1,\"fTitleSize\":0.035,\"fTitleColor\":1,\"fTitleFont\":42},\"fYaxis\":{\"_typename\":\"TAttAxis\",\"fNdivisions\":510,\"fAxisColor\":1,\"fLabelColor\":1,\"fLabelFont\":42,\"fLabelOffset\":0.005,\"fLabelSize\":0.035,\"fTickLength\":0.03,\"fTitleOffset\":0,\"fTitleSize\":0.035,\"fTitleColor\":1,\"fTitleFont\":42},\"fZaxis\":{\"_typename\":\"TAttAxis\",\"fNdivisions\":510,\"fAxisColor\":1,\"fLabelColor\":1,\"fLabelFont\":42,\"fLabelOffset\":0.005,\"fLabelSize\":0.035,\"fTickLength\":0.03,\"fTitleOffset\":1,\"fTitleSize\":0.035,\"fTitleColor\":1,\"fTitleFont\":42},\"fBarWidth\":1,\"fBarOffset\":0,\"fColorModelPS\":0,\"fDrawBorder\":0,\"fOptLogx\":0,\"fOptLogy\":0,\"fOptLogz\":0,\"fOptDate\":0,\"fOptStat\":1111,\"fOptTitle\":1,\"fOptFile\":0,\"fOptFit\":0,\"fShowEventStatus\":0,\"fShowEditor\":0,\"fShowToolBar\":0,\"fNumberContours\":20,\"fAttDate\":{\"_typename\":\"TAttText\",\"fTextAngle\":0,\"fTextSize\":0.025,\"fTextAlign\":11,\"fTextColor\":1,\"fTextFont\":62},\"fDateX\":0.01,\"fDateY\":0.01,\"fEndErrorSize\":2,\"fErrorX\":0.5,\"fFuncColor\":2,\"fFuncStyle\":1,\"fFuncWidth\":2,\"fGridColor\":0,\"fGridStyle\":3,\"fGridWidth\":1,\"fLegendBorderSize\":1,\"fLegendFillColor\":0,\"fLegendFont\":42,\"fLegendTextSize\":0,\"fHatchesLineWidth\":1,\"fHatchesSpacing\":1,\"fFrameFillColor\":0,\"fFrameLineColor\":1,\"fFrameFillStyle\":1001,\"fFrameLineStyle\":1,\"fFrameLineWidth\":1,\"fFrameBorderSize\":1,\"fFrameBorderMode\":0,\"fHistFillColor\":0,\"fHistLineColor\":602,\"fHistFillStyle\":1001,\"fHistLineStyle\":1,\"fHistLineWidth\":1,\"fHistMinimumZero\":false,\"fHistTopMargin\":0.05,\"fCanvasPreferGL\":false,\"fCanvasColor\":0,\"fCanvasBorderSize\":2,\"fCanvasBorderMode\":0,\"fCanvasDefH\":500,\"fCanvasDefW\":700,\"fCanvasDefX\":10,\"fCanvasDefY\":10,\"fPadColor\":0,\"fPadBorderSize\":2,\"fPadBorderMode\":0,\"fPadBottomMargin\":0.1,\"fPadTopMargin\":0.1,\"fPadLeftMargin\":0.1,\"fPadRightMargin\":0.1,\"fPadGridX\":false,\"fPadGridY\":false,\"fPadTickX\":0,\"fPadTickY\":0,\"fPaperSizeX\":20,\"fPaperSizeY\":26,\"fScreenFactor\":1,\"fStatColor\":0,\"fStatTextColor\":1,\"fStatBorderSize\":1,\"fStatFont\":42,\"fStatFontSize\":0,\"fStatStyle\":1001,\"fStatFormat\":\"6.4g\",\"fStatX\":0.98,\"fStatY\":0.935,\"fStatW\":0.2,\"fStatH\":0.16,\"fStripDecimals\":true,\"fTitleAlign\":23,\"fTitleColor\":0,\"fTitleTextColor\":1,\"fTitleBorderSize\":0,\"fTitleFont\":42,\"fTitleFontSize\":0.05,\"fTitleStyle\":0,\"fTitleX\":0.5,\"fTitleY\":0.995,\"fTitleW\":0,\"fTitleH\":0,\"fLegoInnerR\":0.5,\"fLineStyle\":[\"\",\"  \",\" 12 12\",\" 4 8\",\" 12 16 4 16\",\" 20 12 4 12\",\" 20 12 4 12 4 12 4 12\",\" 20 20\",\" 20 12 4 12 4 12\",\" 80 20\",\" 80 40 4 40\",\"  \",\"  \",\"  \",\"  \",\"  \",\"  \",\"  \",\"  \",\"  \",\"  \",\"  \",\"  \",\"  \",\"  \",\"  \",\"  \",\"  \",\"  \",\"  \"],\"fHeaderPS\":\"\",\"fTitlePS\":\"\",\"fFitFormat\":\"5.4g\",\"fPaintTextFormat\":\"g\",\"fLineScalePS\":3,\"fJoinLinePS\":0,\"fCapLinePS\":0,\"fTimeOffset\":788918400,\"fImageScaling\":1}],\"opt\":[\"\",\"\",\"\"]},\"fExecs\":null,\"fName\":\"c_etapt\",\"fTitle\":\"\",\"fNumPaletteColor\":0,\"fNextPaletteColor\":0,\"fDISPLAY\":\"$DISPLAY\",\"fDoubleBuffer\":0,\"fRetained\":true,\"fXsizeUser\":0,\"fYsizeUser\":0,\"fXsizeReal\":20,\"fYsizeReal\":7.5,\"fWindowTopX\":0,\"fWindowTopY\":0,\"fWindowWidth\":0,\"fWindowHeight\":0,\"fCw\":1596,\"fCh\":572,\"fCatt\":{\"_typename\":\"TAttCanvas\",\"fXBetween\":2,\"fYBetween\":2,\"fTitleFromTop\":1.2,\"fXdate\":0.2,\"fYdate\":0.3,\"fAdate\":1},\"kMoveOpaque\":true,\"kResizeOpaque\":true,\"fHighLightColor\":2,\"fBatch\":true,\"kShowEventStatus\":false,\"kAutoExec\":true,\"kMenuBar\":true});\n",
       "   Core.settings.HandleKeys = false;\n",
       "   Core.draw(\"root_plot_1646037809527\", obj, \"\");\n",
       "}\n",
       "\n",
       "function script_load_root_plot_1646037809527(src, on_error) {\n",
       "    let script = document.createElement('script');\n",
       "    script.src = src;\n",
       "    script.onload = function() { display_root_plot_1646037809527(JSROOT); };\n",
       "    script.onerror = function() { script.remove(); on_error(); };\n",
       "    document.head.appendChild(script);\n",
       "}\n",
       "\n",
       "if (typeof requirejs !== 'undefined') {\n",
       "\n",
       "    // We are in jupyter notebooks, use require.js which should be configured already\n",
       "    requirejs.config({\n",
       "       paths: { 'JSRootCore' : [ 'scripts/JSRoot.core', 'https://root.cern/js/6.1.1/scripts/JSRoot.core.min', 'https://jsroot.gsi.de/6.1.1/scripts/JSRoot.core.min' ] }\n",
       "    })(['JSRootCore'],  function(Core) {\n",
       "       display_root_plot_1646037809527(Core);\n",
       "    });\n",
       "\n",
       "} else if (typeof JSROOT !== 'undefined') {\n",
       "\n",
       "   // JSROOT already loaded, just use it\n",
       "   display_root_plot_1646037809527(JSROOT);\n",
       "\n",
       "} else {\n",
       "\n",
       "    // We are in jupyterlab without require.js, directly loading jsroot\n",
       "    // Jupyterlab might be installed in a different base_url so we need to know it.\n",
       "    try {\n",
       "        var base_url = JSON.parse(document.getElementById('jupyter-config-data').innerHTML).baseUrl;\n",
       "    } catch(_) {\n",
       "        var base_url = '/';\n",
       "    }\n",
       "\n",
       "    // Try loading a local version of requirejs and fallback to cdn if not possible.\n",
       "    script_load_root_plot_1646037809527(base_url + 'static/scripts/JSRoot.core.js', function(){\n",
       "        console.error('Fail to load JSROOT locally, please check your jupyter_notebook_config.py file');\n",
       "        script_load_root_plot_1646037809527('https://root.cern/js/6.1.1/scripts/JSRoot.core.min.js', function(){\n",
       "            document.getElementById(\"root_plot_1646037809527\").innerHTML = \"Failed to load JSROOT\";\n",
       "        });\n",
       "    });\n",
       "}\n",
       "\n",
       "</script>\n"
      ],
      "text/plain": [
       "<IPython.core.display.HTML object>"
      ]
     },
     "metadata": {},
     "output_type": "display_data"
    }
   ],
   "source": [
    "leg=ROOT.TLegend(0.8,0.75,0.9,0.9)\n",
    "for p in parts:\n",
    "    leg.AddEntry(hpt[p], labels[p])\n",
    "\n",
    "c_etapt.cd(1).SetLogy()\n",
    "frame_pt=c_etapt.cd(1).DrawFrame(0,maxpt*1e-8,10,10*maxpt)\n",
    "frame_pt.GetXaxis().SetTitle(\"p_{T} [GeV/c]\")\n",
    "frame_pt.GetXaxis().SetTitleOffset(1.5)\n",
    "frame_pt.GetYaxis().SetTitleSize(15)\n",
    "frame_pt.GetYaxis().SetTitle(\"#frac{1}{p_{T}}#frac{dN}{dp_{T}} [GeV/c]^{-2}\")\n",
    "frame_pt.Draw()\n",
    "for p in parts:\n",
    "    hpt[p].Draw(\"p same\")\n",
    "leg.Draw()\n",
    "\n",
    "c_etapt.cd(2)\n",
    "frame_eta=c_etapt.cd(2).DrawFrame(-12,0,12,1.1*maxeta)\n",
    "frame_eta.GetXaxis().SetTitle(\"#eta\")\n",
    "frame_eta.GetYaxis().SetTitleSize(15)\n",
    "frame_eta.GetYaxis().SetTitle(\"#frac{dN}{d#eta} \")\n",
    "frame_eta.Draw()\n",
    "for p in parts:\n",
    "    heta[p].Draw(\"p same\")\n",
    "    \n",
    "leg.Draw()\n",
    "\n",
    "c_etapt.Draw()"
   ]
  },
  {
   "cell_type": "markdown",
   "metadata": {},
   "source": [
    "## $K^*$ meson production"
   ]
  },
  {
   "cell_type": "markdown",
   "metadata": {},
   "source": [
    "### Generate 10000 $p+p$ events at 14 TeV and look for $K^*$ meson by plotting invariant mass of $\\pi^-K^+$ pairs. Compare this spectrum with invariant mass spectrum of produced $K^*$'s decaying into kaon and pion."
   ]
  },
  {
   "cell_type": "markdown",
   "metadata": {},
   "source": [
    "* create two one dimensional histograms to hold invariant masses of  $\\pi^--K^+$ pairs and $K^*$ mesons (300 bins each, range (0.5,2) GeV/$c^2$)\n",
    "* during event generation in each event separately create lists of $\\pi^-$'s and $K^+$'s and fill invariant mass histogram with invariant masses of all possible $\\pi^--K^+$ pairs, use `getMinv` function defined above\n",
    "  * HINT: use `itertools.product` (`it.product`), if `A` and `B` are lists, then `list(it.product(A,B))` is the list of all possible pairs where one element is from `A` and the other is from `B`\n",
    "* second histogram should be filled with invariant masses of $K^*$'s decaying to pion and kaon, use `TParticle::GetDaughter(int n)` method (`n=0,1`, e.g. `p.GetDaugther(0), p.GetDaugther(1)`) to select the desired decay channel, this method returns *index* of the daughter particle - in order to access corresponding `TParticle` opject we have to directly access `particles[p.GetDaughter(0)]`\n",
    "* create new `TCanvas`, present the two distributions on one plot with apropriate axes labels, different colors and legend"
   ]
  },
  {
   "cell_type": "code",
   "execution_count": 16,
   "metadata": {
    "tags": []
   },
   "outputs": [
    {
     "data": {
      "text/html": [
       "\n",
       "\n",
       "<div id=\"root_plot_1646037844786\"\n",
       "     style=\"width: 796px; height: 572px\">\n",
       "</div>\n",
       "<script>\n",
       "\n",
       "function display_root_plot_1646037844786(Core) {\n",
       "   let obj = Core.parse({\"_typename\":\"TCanvas\",\"fUniqueID\":0,\"fBits\":3342344,\"fLineColor\":1,\"fLineStyle\":1,\"fLineWidth\":1,\"fFillColor\":0,\"fFillStyle\":1001,\"fLeftMargin\":0.1,\"fRightMargin\":0.1,\"fBottomMargin\":0.1,\"fTopMargin\":0.1,\"fXfile\":2,\"fYfile\":2,\"fAfile\":1,\"fXstat\":0.99,\"fYstat\":0.99,\"fAstat\":2,\"fFrameFillColor\":0,\"fFrameLineColor\":1,\"fFrameFillStyle\":1001,\"fFrameLineStyle\":1,\"fFrameLineWidth\":1,\"fFrameBorderSize\":1,\"fFrameBorderMode\":0,\"fX1\":0.312499986030161,\"fY1\":-209.081265577768,\"fX2\":2.18750001396984,\"fY2\":1881.73126557777,\"fXtoAbsPixelk\":-132.666608759117,\"fXtoPixelk\":-132.666608759117,\"fXtoPixel\":424.533327007293,\"fYtoAbsPixelk\":514.800046590614,\"fYtoPixelk\":514.800046590614,\"fYtoPixel\":-0.273577851422132,\"fUtoAbsPixelk\":5e-5,\"fUtoPixelk\":5e-5,\"fUtoPixel\":796,\"fVtoAbsPixelk\":572.00005,\"fVtoPixelk\":572,\"fVtoPixel\":-572,\"fAbsPixeltoXk\":0.312499986030161,\"fPixeltoXk\":0.312499986030161,\"fPixeltoX\":0.00235552767329105,\"fAbsPixeltoYk\":1881.73126557777,\"fPixeltoYk\":-209.081265577768,\"fPixeltoY\":-3.65526666285933,\"fXlowNDC\":0,\"fYlowNDC\":0,\"fXUpNDC\":1,\"fYUpNDC\":1,\"fWNDC\":1,\"fHNDC\":1,\"fAbsXlowNDC\":0,\"fAbsYlowNDC\":0,\"fAbsWNDC\":1,\"fAbsHNDC\":1,\"fUxmin\":0.5,\"fUymin\":0,\"fUxmax\":2,\"fUymax\":1672.65,\"fTheta\":30,\"fPhi\":30,\"fAspectRatio\":0,\"fNumber\":0,\"fTickx\":0,\"fTicky\":0,\"fLogx\":0,\"fLogy\":0,\"fLogz\":0,\"fPadPaint\":0,\"fCrosshair\":0,\"fCrosshairPos\":0,\"fBorderSize\":2,\"fBorderMode\":0,\"fModified\":false,\"fGridx\":false,\"fGridy\":false,\"fAbsCoord\":false,\"fEditable\":true,\"fFixedAspectRatio\":false,\"fPrimitives\":{\"_typename\":\"TList\",\"name\":\"TList\",\"arr\":[{\"_typename\":\"TFrame\",\"fUniqueID\":0,\"fBits\":8,\"fLineColor\":1,\"fLineStyle\":1,\"fLineWidth\":1,\"fFillColor\":0,\"fFillStyle\":1001,\"fX1\":0.5,\"fY1\":0,\"fX2\":2,\"fY2\":1672.65,\"fBorderSize\":1,\"fBorderMode\":0},{\"_typename\":\"TH1D\",\"fUniqueID\":0,\"fBits\":8,\"fName\":\"h_all\",\"fTitle\":\"\",\"fLineColor\":602,\"fLineStyle\":1,\"fLineWidth\":2,\"fFillColor\":0,\"fFillStyle\":1001,\"fMarkerColor\":1,\"fMarkerStyle\":1,\"fMarkerSize\":1,\"fNcells\":302,\"fXaxis\":{\"_typename\":\"TAxis\",\"fUniqueID\":0,\"fBits\":0,\"fName\":\"xaxis\",\"fTitle\":\"M_{#pi^{-}K^{+}} [GeV\\/#it{c}^{2}]\",\"fNdivisions\":510,\"fAxisColor\":1,\"fLabelColor\":1,\"fLabelFont\":42,\"fLabelOffset\":0.005,\"fLabelSize\":0.035,\"fTickLength\":0.03,\"fTitleOffset\":1.1,\"fTitleSize\":0.035,\"fTitleColor\":1,\"fTitleFont\":42,\"fNbins\":300,\"fXmin\":0.5,\"fXmax\":2,\"fXbins\":[],\"fFirst\":0,\"fLast\":0,\"fBits2\":0,\"fTimeDisplay\":false,\"fTimeFormat\":\"\",\"fLabels\":null,\"fModLabs\":null},\"fYaxis\":{\"_typename\":\"TAxis\",\"fUniqueID\":0,\"fBits\":0,\"fName\":\"yaxis\",\"fTitle\":\"Entries\",\"fNdivisions\":510,\"fAxisColor\":1,\"fLabelColor\":1,\"fLabelFont\":42,\"fLabelOffset\":0.005,\"fLabelSize\":0.035,\"fTickLength\":0.03,\"fTitleOffset\":0,\"fTitleSize\":0.035,\"fTitleColor\":1,\"fTitleFont\":42,\"fNbins\":1,\"fXmin\":0,\"fXmax\":1,\"fXbins\":[],\"fFirst\":0,\"fLast\":0,\"fBits2\":0,\"fTimeDisplay\":false,\"fTimeFormat\":\"\",\"fLabels\":null,\"fModLabs\":null},\"fZaxis\":{\"_typename\":\"TAxis\",\"fUniqueID\":0,\"fBits\":0,\"fName\":\"zaxis\",\"fTitle\":\"\",\"fNdivisions\":510,\"fAxisColor\":1,\"fLabelColor\":1,\"fLabelFont\":42,\"fLabelOffset\":0.005,\"fLabelSize\":0.035,\"fTickLength\":0.03,\"fTitleOffset\":1,\"fTitleSize\":0.035,\"fTitleColor\":1,\"fTitleFont\":42,\"fNbins\":1,\"fXmin\":0,\"fXmax\":1,\"fXbins\":[],\"fFirst\":0,\"fLast\":0,\"fBits2\":0,\"fTimeDisplay\":false,\"fTimeFormat\":\"\",\"fLabels\":null,\"fModLabs\":null},\"fBarOffset\":0,\"fBarWidth\":1000,\"fEntries\":677963,\"fTsumw\":225101,\"fTsumw2\":225101,\"fTsumwx\":270232.417614725,\"fTsumwx2\":354528.761503067,\"fMaximum\":-1111,\"fMinimum\":-1111,\"fNormFactor\":0,\"fContour\":[],\"fSumw2\":[],\"fOption\":\"\",\"fFunctions\":{\"_typename\":\"TList\",\"name\":\"TList\",\"arr\":[],\"opt\":[]},\"fBufferSize\":0,\"fBuffer\":[],\"fBinStatErrOpt\":0,\"fStatOverflows\":2,\"fArray\":[0,0,0,0,0,0,0,0,0,0,0,0,0,0,0,0,0,0,0,0,0,0,0,0,0,0,0,35,261,400,501,603,675,683,760,769,838,824,954,964,953,970,961,979,1067,1100,1099,1125,1108,1057,1084,1138,1194,1150,1171,1166,1246,1205,1170,1245,1215,1272,1223,1235,1257,1252,1273,1271,1327,1243,1231,1240,1349,1358,1385,1419,1469,1511,1593,1540,1506,1552,1468,1476,1363,1336,1326,1309,1302,1232,1201,1256,1224,1280,1199,1160,1167,1215,1180,1129,1181,1116,1095,1056,1060,1137,1113,1096,1101,1079,1056,1116,1052,1054,1081,1047,1047,1021,1075,1032,945,1046,1060,1038,1032,971,986,974,964,1023,955,956,989,948,969,945,926,948,927,920,932,843,971,841,873,876,848,877,860,845,902,872,814,799,845,796,812,816,889,812,828,810,829,893,793,808,798,771,770,784,774,777,763,781,799,752,763,737,730,739,743,745,780,743,737,719,665,704,665,699,698,637,715,689,691,667,688,669,682,679,709,647,632,632,620,601,659,659,656,648,618,654,592,635,620,645,625,619,567,638,639,610,628,616,571,576,576,596,649,597,544,560,579,564,586,511,583,556,558,534,533,585,572,550,555,520,515,552,510,558,512,505,496,523,512,529,555,545,512,500,524,526,508,473,505,567,491,458,460,512,493,473,483,474,486,478,484,485,453,468,440,483,449,453,454,435,487,465,454,475,420,460,444,454,445,416,431,375,448,474,417,452862]},{\"_typename\":\"TH1D\",\"fUniqueID\":0,\"fBits\":8,\"fName\":\"h_pure\",\"fTitle\":\"\",\"fLineColor\":632,\"fLineStyle\":1,\"fLineWidth\":2,\"fFillColor\":0,\"fFillStyle\":1001,\"fMarkerColor\":1,\"fMarkerStyle\":1,\"fMarkerSize\":1,\"fNcells\":302,\"fXaxis\":{\"_typename\":\"TAxis\",\"fUniqueID\":0,\"fBits\":0,\"fName\":\"xaxis\",\"fTitle\":\"\",\"fNdivisions\":510,\"fAxisColor\":1,\"fLabelColor\":1,\"fLabelFont\":42,\"fLabelOffset\":0.005,\"fLabelSize\":0.035,\"fTickLength\":0.03,\"fTitleOffset\":1,\"fTitleSize\":0.035,\"fTitleColor\":1,\"fTitleFont\":42,\"fNbins\":300,\"fXmin\":0.5,\"fXmax\":2,\"fXbins\":[],\"fFirst\":0,\"fLast\":0,\"fBits2\":0,\"fTimeDisplay\":false,\"fTimeFormat\":\"\",\"fLabels\":null,\"fModLabs\":null},\"fYaxis\":{\"_typename\":\"TAxis\",\"fUniqueID\":0,\"fBits\":0,\"fName\":\"yaxis\",\"fTitle\":\"\",\"fNdivisions\":510,\"fAxisColor\":1,\"fLabelColor\":1,\"fLabelFont\":42,\"fLabelOffset\":0.005,\"fLabelSize\":0.035,\"fTickLength\":0.03,\"fTitleOffset\":0,\"fTitleSize\":0.035,\"fTitleColor\":1,\"fTitleFont\":42,\"fNbins\":1,\"fXmin\":0,\"fXmax\":1,\"fXbins\":[],\"fFirst\":0,\"fLast\":0,\"fBits2\":0,\"fTimeDisplay\":false,\"fTimeFormat\":\"\",\"fLabels\":null,\"fModLabs\":null},\"fZaxis\":{\"_typename\":\"TAxis\",\"fUniqueID\":0,\"fBits\":0,\"fName\":\"zaxis\",\"fTitle\":\"\",\"fNdivisions\":510,\"fAxisColor\":1,\"fLabelColor\":1,\"fLabelFont\":42,\"fLabelOffset\":0.005,\"fLabelSize\":0.035,\"fTickLength\":0.03,\"fTitleOffset\":1,\"fTitleSize\":0.035,\"fTitleColor\":1,\"fTitleFont\":42,\"fNbins\":1,\"fXmin\":0,\"fXmax\":1,\"fXbins\":[],\"fFirst\":0,\"fLast\":0,\"fBits2\":0,\"fTimeDisplay\":false,\"fTimeFormat\":\"\",\"fLabels\":null,\"fModLabs\":null},\"fBarOffset\":0,\"fBarWidth\":1000,\"fEntries\":5154,\"fTsumw\":5154,\"fTsumw2\":5154,\"fTsumwx\":4692.11564303767,\"fTsumwx2\":4294.90923808493,\"fMaximum\":-1111,\"fMinimum\":-1111,\"fNormFactor\":0,\"fContour\":[],\"fSumw2\":[],\"fOption\":\"\",\"fFunctions\":{\"_typename\":\"TList\",\"name\":\"TList\",\"arr\":[],\"opt\":[]},\"fBufferSize\":0,\"fBuffer\":[],\"fBinStatErrOpt\":0,\"fStatOverflows\":2,\"fArray\":[0,0,0,0,0,0,0,0,0,0,0,0,0,0,0,0,0,0,0,0,0,0,0,0,0,0,0,0,0,0,2,0,1,2,1,1,1,1,4,3,4,0,2,1,1,4,3,5,4,4,6,6,7,1,7,9,7,9,9,14,17,26,16,23,28,39,35,40,47,55,43,67,101,118,134,166,216,254,343,331,337,359,304,258,178,162,144,114,110,86,64,64,48,44,40,34,35,34,33,25,27,30,20,28,17,16,11,13,19,10,12,11,14,6,18,10,8,8,15,10,11,12,7,10,12,11,4,8,10,10,7,4,6,8,6,5,3,6,7,5,8,0,0,0,0,0,0,0,0,0,0,0,0,0,0,0,0,0,0,0,0,0,0,0,0,0,0,0,0,0,0,0,0,0,0,0,0,0,0,0,0,0,0,0,0,0,0,0,0,0,0,0,0,0,0,0,0,0,0,0,0,0,0,0,0,0,0,0,0,0,0,0,0,0,0,0,0,0,0,0,0,0,0,0,0,0,0,0,0,0,0,0,0,0,0,0,0,0,0,0,0,0,0,0,0,0,0,0,0,0,0,0,0,0,0,0,0,0,0,0,0,0,0,0,0,0,0,0,0,0,0,0,0,0,0,0,0,0,0,0,0,0,0,0,0,0,0,0,0,0,0,0,0,0,0,0,0,0,0,0,0,0]},{\"_typename\":\"TLegend\",\"fUniqueID\":0,\"fBits\":8,\"fLineColor\":1,\"fLineStyle\":1,\"fLineWidth\":1,\"fFillColor\":0,\"fFillStyle\":1001,\"fX1\":1.25,\"fY1\":1254.48750623111,\"fX2\":2.00000001117587,\"fY2\":1672.65001246221,\"fX1NDC\":0.5,\"fY1NDC\":0.7,\"fX2NDC\":0.9,\"fY2NDC\":0.9,\"fBorderSize\":1,\"fInit\":1,\"fShadowColor\":1,\"fCornerRadius\":0,\"fOption\":\"brNDC\",\"fName\":\"TPave\",\"fTextAngle\":0,\"fTextSize\":0,\"fTextAlign\":12,\"fTextColor\":1,\"fTextFont\":42,\"fPrimitives\":{\"_typename\":\"TList\",\"name\":\"TList\",\"arr\":[{\"_typename\":\"TLegendEntry\",\"fUniqueID\":0,\"fBits\":0,\"fTextAngle\":0,\"fTextSize\":0,\"fTextAlign\":0,\"fTextColor\":0,\"fTextFont\":42,\"fLineColor\":602,\"fLineStyle\":1,\"fLineWidth\":2,\"fFillColor\":0,\"fFillStyle\":1001,\"fMarkerColor\":1,\"fMarkerStyle\":1,\"fMarkerSize\":1,\"fObject\":{\"$ref\":3},\"fLabel\":\"all #pi^{-}K^{+} pairs\",\"fOption\":\"lpf\"},{\"_typename\":\"TLegendEntry\",\"fUniqueID\":0,\"fBits\":0,\"fTextAngle\":0,\"fTextSize\":0,\"fTextAlign\":0,\"fTextColor\":0,\"fTextFont\":42,\"fLineColor\":632,\"fLineStyle\":1,\"fLineWidth\":2,\"fFillColor\":0,\"fFillStyle\":1001,\"fMarkerColor\":1,\"fMarkerStyle\":1,\"fMarkerSize\":1,\"fObject\":{\"$ref\":8},\"fLabel\":\"#pi^{-}K^{+} pairs from K^{*} decay\",\"fOption\":\"lpf\"}],\"opt\":[\"lpf\",\"lpf\"]},\"fEntrySeparation\":0.1,\"fMargin\":0.25,\"fNColumns\":1,\"fColumnSeparation\":0},{\"_typename\":\"TStyle\",\"fUniqueID\":0,\"fBits\":0,\"fName\":\"Modern\",\"fTitle\":\"Modern Style\",\"fLineColor\":1,\"fLineStyle\":1,\"fLineWidth\":1,\"fFillColor\":19,\"fFillStyle\":1001,\"fMarkerColor\":1,\"fMarkerStyle\":1,\"fMarkerSize\":1,\"fTextAngle\":0,\"fTextSize\":0.05,\"fTextAlign\":11,\"fTextColor\":1,\"fTextFont\":62,\"fXaxis\":{\"_typename\":\"TAttAxis\",\"fNdivisions\":510,\"fAxisColor\":1,\"fLabelColor\":1,\"fLabelFont\":42,\"fLabelOffset\":0.005,\"fLabelSize\":0.035,\"fTickLength\":0.03,\"fTitleOffset\":1,\"fTitleSize\":0.035,\"fTitleColor\":1,\"fTitleFont\":42},\"fYaxis\":{\"_typename\":\"TAttAxis\",\"fNdivisions\":510,\"fAxisColor\":1,\"fLabelColor\":1,\"fLabelFont\":42,\"fLabelOffset\":0.005,\"fLabelSize\":0.035,\"fTickLength\":0.03,\"fTitleOffset\":0,\"fTitleSize\":0.035,\"fTitleColor\":1,\"fTitleFont\":42},\"fZaxis\":{\"_typename\":\"TAttAxis\",\"fNdivisions\":510,\"fAxisColor\":1,\"fLabelColor\":1,\"fLabelFont\":42,\"fLabelOffset\":0.005,\"fLabelSize\":0.035,\"fTickLength\":0.03,\"fTitleOffset\":1,\"fTitleSize\":0.035,\"fTitleColor\":1,\"fTitleFont\":42},\"fBarWidth\":1,\"fBarOffset\":0,\"fColorModelPS\":0,\"fDrawBorder\":0,\"fOptLogx\":0,\"fOptLogy\":0,\"fOptLogz\":0,\"fOptDate\":0,\"fOptStat\":0,\"fOptTitle\":1,\"fOptFile\":0,\"fOptFit\":0,\"fShowEventStatus\":0,\"fShowEditor\":0,\"fShowToolBar\":0,\"fNumberContours\":20,\"fAttDate\":{\"_typename\":\"TAttText\",\"fTextAngle\":0,\"fTextSize\":0.025,\"fTextAlign\":11,\"fTextColor\":1,\"fTextFont\":62},\"fDateX\":0.01,\"fDateY\":0.01,\"fEndErrorSize\":2,\"fErrorX\":0.5,\"fFuncColor\":2,\"fFuncStyle\":1,\"fFuncWidth\":2,\"fGridColor\":0,\"fGridStyle\":3,\"fGridWidth\":1,\"fLegendBorderSize\":1,\"fLegendFillColor\":0,\"fLegendFont\":42,\"fLegendTextSize\":0,\"fHatchesLineWidth\":1,\"fHatchesSpacing\":1,\"fFrameFillColor\":0,\"fFrameLineColor\":1,\"fFrameFillStyle\":1001,\"fFrameLineStyle\":1,\"fFrameLineWidth\":1,\"fFrameBorderSize\":1,\"fFrameBorderMode\":0,\"fHistFillColor\":0,\"fHistLineColor\":602,\"fHistFillStyle\":1001,\"fHistLineStyle\":1,\"fHistLineWidth\":1,\"fHistMinimumZero\":false,\"fHistTopMargin\":0.05,\"fCanvasPreferGL\":false,\"fCanvasColor\":0,\"fCanvasBorderSize\":2,\"fCanvasBorderMode\":0,\"fCanvasDefH\":500,\"fCanvasDefW\":700,\"fCanvasDefX\":10,\"fCanvasDefY\":10,\"fPadColor\":0,\"fPadBorderSize\":2,\"fPadBorderMode\":0,\"fPadBottomMargin\":0.1,\"fPadTopMargin\":0.1,\"fPadLeftMargin\":0.1,\"fPadRightMargin\":0.1,\"fPadGridX\":false,\"fPadGridY\":false,\"fPadTickX\":0,\"fPadTickY\":0,\"fPaperSizeX\":20,\"fPaperSizeY\":26,\"fScreenFactor\":1,\"fStatColor\":0,\"fStatTextColor\":1,\"fStatBorderSize\":1,\"fStatFont\":42,\"fStatFontSize\":0,\"fStatStyle\":1001,\"fStatFormat\":\"6.4g\",\"fStatX\":0.98,\"fStatY\":0.935,\"fStatW\":0.2,\"fStatH\":0.16,\"fStripDecimals\":true,\"fTitleAlign\":23,\"fTitleColor\":0,\"fTitleTextColor\":1,\"fTitleBorderSize\":0,\"fTitleFont\":42,\"fTitleFontSize\":0.05,\"fTitleStyle\":0,\"fTitleX\":0.5,\"fTitleY\":0.995,\"fTitleW\":0,\"fTitleH\":0,\"fLegoInnerR\":0.5,\"fLineStyle\":[\"\",\"  \",\" 12 12\",\" 4 8\",\" 12 16 4 16\",\" 20 12 4 12\",\" 20 12 4 12 4 12 4 12\",\" 20 20\",\" 20 12 4 12 4 12\",\" 80 20\",\" 80 40 4 40\",\"  \",\"  \",\"  \",\"  \",\"  \",\"  \",\"  \",\"  \",\"  \",\"  \",\"  \",\"  \",\"  \",\"  \",\"  \",\"  \",\"  \",\"  \",\"  \"],\"fHeaderPS\":\"\",\"fTitlePS\":\"\",\"fFitFormat\":\"5.4g\",\"fPaintTextFormat\":\"g\",\"fLineScalePS\":3,\"fJoinLinePS\":0,\"fCapLinePS\":0,\"fTimeOffset\":788918400,\"fImageScaling\":1}],\"opt\":[\"\",\"\",\"same\",\"\",\"\"]},\"fExecs\":null,\"fName\":\"c\",\"fTitle\":\"\",\"fNumPaletteColor\":0,\"fNextPaletteColor\":0,\"fDISPLAY\":\"$DISPLAY\",\"fDoubleBuffer\":0,\"fRetained\":true,\"fXsizeUser\":0,\"fYsizeUser\":0,\"fXsizeReal\":20,\"fYsizeReal\":15,\"fWindowTopX\":0,\"fWindowTopY\":0,\"fWindowWidth\":0,\"fWindowHeight\":0,\"fCw\":796,\"fCh\":572,\"fCatt\":{\"_typename\":\"TAttCanvas\",\"fXBetween\":2,\"fYBetween\":2,\"fTitleFromTop\":1.2,\"fXdate\":0.2,\"fYdate\":0.3,\"fAdate\":1},\"kMoveOpaque\":true,\"kResizeOpaque\":true,\"fHighLightColor\":2,\"fBatch\":true,\"kShowEventStatus\":false,\"kAutoExec\":true,\"kMenuBar\":true});\n",
       "   Core.settings.HandleKeys = false;\n",
       "   Core.draw(\"root_plot_1646037844786\", obj, \"\");\n",
       "}\n",
       "\n",
       "function script_load_root_plot_1646037844786(src, on_error) {\n",
       "    let script = document.createElement('script');\n",
       "    script.src = src;\n",
       "    script.onload = function() { display_root_plot_1646037844786(JSROOT); };\n",
       "    script.onerror = function() { script.remove(); on_error(); };\n",
       "    document.head.appendChild(script);\n",
       "}\n",
       "\n",
       "if (typeof requirejs !== 'undefined') {\n",
       "\n",
       "    // We are in jupyter notebooks, use require.js which should be configured already\n",
       "    requirejs.config({\n",
       "       paths: { 'JSRootCore' : [ 'scripts/JSRoot.core', 'https://root.cern/js/6.1.1/scripts/JSRoot.core.min', 'https://jsroot.gsi.de/6.1.1/scripts/JSRoot.core.min' ] }\n",
       "    })(['JSRootCore'],  function(Core) {\n",
       "       display_root_plot_1646037844786(Core);\n",
       "    });\n",
       "\n",
       "} else if (typeof JSROOT !== 'undefined') {\n",
       "\n",
       "   // JSROOT already loaded, just use it\n",
       "   display_root_plot_1646037844786(JSROOT);\n",
       "\n",
       "} else {\n",
       "\n",
       "    // We are in jupyterlab without require.js, directly loading jsroot\n",
       "    // Jupyterlab might be installed in a different base_url so we need to know it.\n",
       "    try {\n",
       "        var base_url = JSON.parse(document.getElementById('jupyter-config-data').innerHTML).baseUrl;\n",
       "    } catch(_) {\n",
       "        var base_url = '/';\n",
       "    }\n",
       "\n",
       "    // Try loading a local version of requirejs and fallback to cdn if not possible.\n",
       "    script_load_root_plot_1646037844786(base_url + 'static/scripts/JSRoot.core.js', function(){\n",
       "        console.error('Fail to load JSROOT locally, please check your jupyter_notebook_config.py file');\n",
       "        script_load_root_plot_1646037844786('https://root.cern/js/6.1.1/scripts/JSRoot.core.min.js', function(){\n",
       "            document.getElementById(\"root_plot_1646037844786\").innerHTML = \"Failed to load JSROOT\";\n",
       "        });\n",
       "    });\n",
       "}\n",
       "\n",
       "</script>\n"
      ],
      "text/plain": [
       "<IPython.core.display.HTML object>"
      ]
     },
     "metadata": {},
     "output_type": "display_data"
    }
   ],
   "source": [
    "nEvents=10000\n",
    "h=ROOT.TH1D(\"h_all\",\"\",300,0.5,2)\n",
    "hpure=ROOT.TH1D(\"h_pure\",\"\",300,0.5,2)\n",
    "\n",
    "def getKstarCandidates(parts):\n",
    "    pim = [p for p in parts if isFinal(p,\"pi-\")]\n",
    "    kp = [p for p in parts if isFinal(p,\"K+\")]\n",
    "    return list(it.product(pim,kp))\n",
    "\n",
    "\n",
    "for i in range(nEvents):\n",
    "    pythia.GenerateEvent()\n",
    "    pythia.ImportParticles(particles,\"All\")\n",
    "    #for all possible pi- K+ pairs we fill invariant mass histogram\n",
    "    for pair in getKstarCandidates(particles):\n",
    "        h.Fill(getMinv(pair))\n",
    "    #now we look for actual K*'s that decayed:\n",
    "    for p in particles:\n",
    "        if p.GetName()==\"K*0\":\n",
    "            #we accept K* only if it decayed to pion and kaon\n",
    "            d0=particles[p.GetDaughter(0)].GetName()\n",
    "            d1=particles[p.GetDaughter(1)].GetName()\n",
    "            if {d0,d1} != {\"pi-\",\"K+\"}:\n",
    "                continue\n",
    "            p4=ROOT.TLorentzVector()\n",
    "            p.Momentum(p4)\n",
    "            hpure.Fill(p4.M())\n",
    "\n",
    "\n",
    "c_kstar = ROOT.TCanvas(\"c\",\"\",800,600)\n",
    "ROOT.gStyle.SetOptStat(0)\n",
    "h.GetXaxis().SetTitle(\"M_{#pi^{-}K^{+}} [GeV/#it{c}^{2}]\")\n",
    "h.GetXaxis().SetTitleOffset(1.1)\n",
    "h.GetYaxis().SetTitle(\"Entries\")\n",
    "h.SetLineWidth(2)\n",
    "h.Draw()\n",
    "hpure.SetLineWidth(2)\n",
    "hpure.SetLineColor(ROOT.kRed)\n",
    "hpure.Draw(\"same\")\n",
    "leg=ROOT.TLegend(0.5,0.7,0.9,0.9)\n",
    "leg.AddEntry(h,\"all #pi^{-}K^{+} pairs\")\n",
    "leg.AddEntry(hpure,\"#pi^{-}K^{+} pairs from K^{*} decay\")\n",
    "leg.Draw()\n",
    "c_kstar.Draw()"
   ]
  },
  {
   "cell_type": "markdown",
   "metadata": {
    "tags": []
   },
   "source": [
    "## $Z$ boson production in $p+\\bar{p}$ collisions"
   ]
  },
  {
   "cell_type": "markdown",
   "metadata": {},
   "source": [
    "### Generate 10000 $p+\\bar{p}$ events at 630 GeV of $Z$ production ($Z$ discovery at CERN SPS)."
   ]
  },
  {
   "cell_type": "markdown",
   "metadata": {},
   "source": [
    "Setup:\n",
    "* in order to look at $Z$ boson production we limit physics list of Pythia8 to include only hard $f\\bar{f}\\to Z \\to f\\bar{f}$ processes\n",
    "* moreover, we will disable all $Z$ decay modes other than $Z\\to e^+e^-$, in which the particle was discovered\n",
    "* to speed up the simulation we disable hadronisation (we are interested only in leptonic final states)\n",
    "* we also limit phase space to $\\pm 20$ GeV around the $Z$ rest mass\n",
    "\n",
    "To do:\n",
    "* select candidates for products of $Z$ decay in each event and plot their invariant mass distribution in range 70-110 GeV\n",
    "* check influence of final state radiation on the spectrum - generate additional 10000 events with FSR turned off\n",
    "* normalize histograms so that their maxima are at $1$\n",
    "* draw both distributions (as a histograms, option `\"hist\"`) on the same plot with axis labels and a legend\n",
    "* draw $\\frac{1}{p_T}\\frac{dN}{dp_T}$ and $\\frac{dN}{d\\eta}$ spectra of produced $Z$ bosons (only for one dataset, with FSR on), with axis labels and proper normalisation, pick the $x$ axis ranges so that the whole distribution fits inside the plot\n",
    "  * **hint:** $Z$ boson will occur multiple times in the event listing (why?), it will never be a final particle, pick only $Z$'s that appear *last* in each event\n",
    "* what is the *mean* number $\\langle N_Z\\rangle$ of $Z$ bosons produced in an event, with what error? is this result surprising?\n",
    "  * **hint:** $\\langle N \\rangle = \\int\\limits_0^\\infty \\frac{dN}{dp_T}\\cdot dp_T = \\int\\limits_{-\\infty}^\\infty \\frac{dN}{d\\eta}\\cdot d\\eta$"
   ]
  },
  {
   "cell_type": "code",
   "execution_count": 17,
   "metadata": {
    "tags": []
   },
   "outputs": [
    {
     "name": "stdout",
     "output_type": "stream",
     "text": [
      "Mean number of Z bosons per event: <N_Z>=1.000 +/- 0.010\n",
      " *** TDatabasePDG::AddParticle: particle with PDGcode=90 already defined\n",
      " *** TDatabasePDG::AddParticle: particle with PDGcode=9900110 already defined\n",
      " *** TDatabasePDG::AddParticle: particle with PDGcode=9900210 already defined\n",
      " *** TDatabasePDG::AddParticle: particle with PDGcode=9900220 already defined\n",
      " *** TDatabasePDG::AddParticle: particle with PDGcode=9900330 already defined\n",
      " *** TDatabasePDG::AddParticle: particle with PDGcode=9900440 already defined\n",
      " *** TDatabasePDG::AddParticle: particle with PDGcode=9902110 already defined\n",
      " *** TDatabasePDG::AddParticle: particle with PDGcode=9902210 already defined\n",
      " PYTHIA Warning in JunctionSplitting::SplitJunPairs: parallel junction state not allowed.  \n",
      " PYTHIA Warning in JunctionSplitting::CheckColours: Not possible to split junctions; making new colours  \n",
      " PYTHIA Error in BeamRemnants::add: failed to find physical colour state after colour reconnection  \n",
      " PYTHIA Warning in MultipartonInteractions::pTnext: weight above unity  \n",
      " PYTHIA Error in SimpleSpaceShower::pT2nearThreshold: stuck in loop  \n",
      " PYTHIA Warning in SimpleSpaceShower::pT2nextQCD: weight above unity  \n",
      " *** TDatabasePDG::AddParticle: particle with PDGcode=90 already defined\n",
      " *** TDatabasePDG::AddParticle: particle with PDGcode=9900110 already defined\n",
      " *** TDatabasePDG::AddParticle: particle with PDGcode=9900210 already defined\n",
      " *** TDatabasePDG::AddParticle: particle with PDGcode=9900220 already defined\n",
      " *** TDatabasePDG::AddParticle: particle with PDGcode=9900330 already defined\n",
      " *** TDatabasePDG::AddParticle: particle with PDGcode=9900440 already defined\n",
      " *** TDatabasePDG::AddParticle: particle with PDGcode=9902110 already defined\n",
      " *** TDatabasePDG::AddParticle: particle with PDGcode=9902210 already defined\n",
      " PYTHIA Warning in JunctionSplitting::SplitJunPairs: parallel junction state not allowed.  \n",
      " PYTHIA Warning in JunctionSplitting::CheckColours: Not possible to split junctions; making new colours  \n",
      " PYTHIA Error in BeamRemnants::add: failed to find physical colour state after colour reconnection  \n",
      " PYTHIA Error in SimpleSpaceShower::pT2nearThreshold: stuck in loop  \n",
      " PYTHIA Warning in SimpleSpaceShower::pT2nextQCD: weight above unity  \n",
      " PYTHIA Warning in MultipartonInteractions::pTnext: weight above unity  \n"
     ]
    },
    {
     "data": {
      "text/html": [
       "\n",
       "\n",
       "<div id=\"root_plot_1646037869778\"\n",
       "     style=\"width: 1596px; height: 1172px\">\n",
       "</div>\n",
       "<script>\n",
       "\n",
       "function display_root_plot_1646037869778(Core) {\n",
       "   let obj = Core.parse({\"_typename\":\"TCanvas\",\"fUniqueID\":0,\"fBits\":3342344,\"fLineColor\":1,\"fLineStyle\":1,\"fLineWidth\":1,\"fFillColor\":0,\"fFillStyle\":1001,\"fLeftMargin\":0.1,\"fRightMargin\":0.1,\"fBottomMargin\":0.1,\"fTopMargin\":0.1,\"fXfile\":2,\"fYfile\":2,\"fAfile\":1,\"fXstat\":0.99,\"fYstat\":0.99,\"fAstat\":2,\"fFrameFillColor\":0,\"fFrameLineColor\":1,\"fFrameFillStyle\":1001,\"fFrameLineStyle\":1,\"fFrameLineWidth\":1,\"fFrameBorderSize\":1,\"fFrameBorderMode\":0,\"fX1\":0,\"fY1\":0,\"fX2\":1,\"fY2\":1,\"fXtoAbsPixelk\":5e-5,\"fXtoPixelk\":5e-5,\"fXtoPixel\":1596,\"fYtoAbsPixelk\":1172.00005,\"fYtoPixelk\":1172.00005,\"fYtoPixel\":-1172,\"fUtoAbsPixelk\":5e-5,\"fUtoPixelk\":5e-5,\"fUtoPixel\":1596,\"fVtoAbsPixelk\":1172.00005,\"fVtoPixelk\":1172,\"fVtoPixel\":-1172,\"fAbsPixeltoXk\":0,\"fPixeltoXk\":0,\"fPixeltoX\":6.265664160401e-4,\"fAbsPixeltoYk\":1,\"fPixeltoYk\":0,\"fPixeltoY\":-8.53242320819113e-4,\"fXlowNDC\":0,\"fYlowNDC\":0,\"fXUpNDC\":1,\"fYUpNDC\":1,\"fWNDC\":1,\"fHNDC\":1,\"fAbsXlowNDC\":0,\"fAbsYlowNDC\":0,\"fAbsWNDC\":1,\"fAbsHNDC\":1,\"fUxmin\":0,\"fUymin\":0,\"fUxmax\":1,\"fUymax\":1,\"fTheta\":30,\"fPhi\":30,\"fAspectRatio\":0,\"fNumber\":0,\"fTickx\":0,\"fTicky\":0,\"fLogx\":0,\"fLogy\":0,\"fLogz\":0,\"fPadPaint\":0,\"fCrosshair\":0,\"fCrosshairPos\":0,\"fBorderSize\":2,\"fBorderMode\":0,\"fModified\":false,\"fGridx\":false,\"fGridy\":false,\"fAbsCoord\":false,\"fEditable\":true,\"fFixedAspectRatio\":false,\"fPrimitives\":{\"_typename\":\"TList\",\"name\":\"TList\",\"arr\":[{\"_typename\":\"TPad\",\"fUniqueID\":0,\"fBits\":9,\"fLineColor\":1,\"fLineStyle\":1,\"fLineWidth\":1,\"fFillColor\":0,\"fFillStyle\":1001,\"fLeftMargin\":0.1,\"fRightMargin\":0.1,\"fBottomMargin\":0.1,\"fTopMargin\":0.1,\"fXfile\":2,\"fYfile\":2,\"fAfile\":1,\"fXstat\":0.99,\"fYstat\":0.99,\"fAstat\":2,\"fFrameFillColor\":0,\"fFrameLineColor\":1,\"fFrameFillStyle\":1001,\"fFrameLineStyle\":1,\"fFrameLineWidth\":1,\"fFrameBorderSize\":1,\"fFrameBorderMode\":0,\"fX1\":64.9999996274709,\"fY1\":-0.131250009778888,\"fX2\":115.000000372529,\"fY2\":1.18125000977889,\"fXtoAbsPixelk\":-979.943930736373,\"fXtoPixelk\":-995.90393037964,\"fXtoPixel\":15.3215997859597,\"fYtoAbsPixelk\":518.024046856451,\"fYtoPixelk\":506.304047118413,\"fYtoPixel\":-428.61713686943,\"fUtoAbsPixelk\":15.9600496432662,\"fUtoPixelk\":5e-5,\"fUtoPixel\":766.080000713468,\"fVtoAbsPixelk\":574.280050261962,\"fVtoPixelk\":562.560000523925,\"fVtoPixel\":-562.560000523925,\"fAbsPixeltoXk\":63.9583329695354,\"fPixeltoXk\":64.9999996274709,\"fPixeltoX\":0.0652673359159513,\"fAbsPixeltoYk\":1.20859375954969,\"fPixeltoYk\":-0.131250009778888,\"fPixeltoY\":-0.00233308450358258,\"fXlowNDC\":0.00999999977648258,\"fYlowNDC\":0.509999999776483,\"fXUpNDC\":0.490000000223517,\"fYUpNDC\":0.990000000223517,\"fWNDC\":0.480000000447035,\"fHNDC\":0.480000000447035,\"fAbsXlowNDC\":0.00999999977648258,\"fAbsYlowNDC\":0.509999999776483,\"fAbsWNDC\":0.480000000447035,\"fAbsHNDC\":0.480000000447035,\"fUxmin\":70,\"fUymin\":0,\"fUxmax\":110,\"fUymax\":1.05,\"fTheta\":30,\"fPhi\":30,\"fAspectRatio\":0,\"fNumber\":1,\"fTickx\":0,\"fTicky\":0,\"fLogx\":0,\"fLogy\":0,\"fLogz\":0,\"fPadPaint\":0,\"fCrosshair\":0,\"fCrosshairPos\":0,\"fBorderSize\":2,\"fBorderMode\":0,\"fModified\":false,\"fGridx\":false,\"fGridy\":false,\"fAbsCoord\":false,\"fEditable\":true,\"fFixedAspectRatio\":false,\"fPrimitives\":{\"_typename\":\"TList\",\"name\":\"TList\",\"arr\":[{\"_typename\":\"TFrame\",\"fUniqueID\":0,\"fBits\":8,\"fLineColor\":1,\"fLineStyle\":1,\"fLineWidth\":1,\"fFillColor\":0,\"fFillStyle\":1001,\"fX1\":70,\"fY1\":0,\"fX2\":110,\"fY2\":1.05,\"fBorderSize\":1,\"fBorderMode\":0},{\"_typename\":\"TH1D\",\"fUniqueID\":0,\"fBits\":520,\"fName\":\"h_norad\",\"fTitle\":\"\",\"fLineColor\":632,\"fLineStyle\":1,\"fLineWidth\":2,\"fFillColor\":0,\"fFillStyle\":1001,\"fMarkerColor\":1,\"fMarkerStyle\":1,\"fMarkerSize\":1,\"fNcells\":202,\"fXaxis\":{\"_typename\":\"TAxis\",\"fUniqueID\":0,\"fBits\":0,\"fName\":\"xaxis\",\"fTitle\":\"M_{e^{+}e^{-}}\",\"fNdivisions\":510,\"fAxisColor\":1,\"fLabelColor\":1,\"fLabelFont\":42,\"fLabelOffset\":0.005,\"fLabelSize\":0.035,\"fTickLength\":0.03,\"fTitleOffset\":1.4,\"fTitleSize\":0.035,\"fTitleColor\":1,\"fTitleFont\":42,\"fNbins\":200,\"fXmin\":70,\"fXmax\":110,\"fXbins\":[],\"fFirst\":0,\"fLast\":0,\"fBits2\":0,\"fTimeDisplay\":false,\"fTimeFormat\":\"\",\"fLabels\":null,\"fModLabs\":null},\"fYaxis\":{\"_typename\":\"TAxis\",\"fUniqueID\":0,\"fBits\":0,\"fName\":\"yaxis\",\"fTitle\":\"entries\",\"fNdivisions\":510,\"fAxisColor\":1,\"fLabelColor\":1,\"fLabelFont\":42,\"fLabelOffset\":0.005,\"fLabelSize\":0.035,\"fTickLength\":0.03,\"fTitleOffset\":0,\"fTitleSize\":0.035,\"fTitleColor\":1,\"fTitleFont\":42,\"fNbins\":1,\"fXmin\":0,\"fXmax\":1,\"fXbins\":[],\"fFirst\":0,\"fLast\":0,\"fBits2\":0,\"fTimeDisplay\":false,\"fTimeFormat\":\"\",\"fLabels\":null,\"fModLabs\":null},\"fZaxis\":{\"_typename\":\"TAxis\",\"fUniqueID\":0,\"fBits\":0,\"fName\":\"zaxis\",\"fTitle\":\"\",\"fNdivisions\":510,\"fAxisColor\":1,\"fLabelColor\":1,\"fLabelFont\":42,\"fLabelOffset\":0.005,\"fLabelSize\":0.035,\"fTickLength\":0.03,\"fTitleOffset\":1,\"fTitleSize\":0.035,\"fTitleColor\":1,\"fTitleFont\":42,\"fNbins\":1,\"fXmin\":0,\"fXmax\":1,\"fXbins\":[],\"fFirst\":0,\"fLast\":0,\"fBits2\":0,\"fTimeDisplay\":false,\"fTimeFormat\":\"\",\"fLabels\":null,\"fModLabs\":null},\"fBarOffset\":0,\"fBarWidth\":1000,\"fEntries\":10000,\"fTsumw\":18.6219739292365,\"fTsumw2\":0.0346777913021164,\"fTsumwx\":1689.15939282009,\"fTsumwx2\":153573.399607713,\"fMaximum\":-1111,\"fMinimum\":-1111,\"fNormFactor\":0,\"fContour\":[],\"fSumw2\":[0,3.46777913021164e-6,1.38711165208466e-5,1.38711165208466e-5,2.77422330416931e-5,1.38711165208466e-5,1.38711165208466e-5,2.42744539114815e-5,1.38711165208466e-5,1.38711165208466e-5,1.73388956510582e-5,2.77422330416931e-5,6.93555826042328e-6,1.73388956510582e-5,2.77422330416931e-5,2.42744539114815e-5,1.38711165208466e-5,3.46777913021164e-5,3.12100121719047e-5,2.08066747812698e-5,2.77422330416931e-5,1.73388956510582e-5,2.42744539114815e-5,1.04033373906349e-5,2.77422330416931e-5,1.04033373906349e-5,2.77422330416931e-5,1.38711165208466e-5,1.73388956510582e-5,2.77422330416931e-5,2.77422330416931e-5,2.42744539114815e-5,1.38711165208466e-5,2.42744539114815e-5,3.46777913021164e-5,3.8145570432328e-5,1.04033373906349e-5,2.42744539114815e-5,2.08066747812698e-5,2.08066747812698e-5,2.42744539114815e-5,2.08066747812698e-5,2.77422330416931e-5,2.77422330416931e-5,2.42744539114815e-5,4.16133495625397e-5,3.8145570432328e-5,1.04033373906349e-5,3.46777913021164e-5,2.42744539114815e-5,3.8145570432328e-5,4.50811286927513e-5,4.16133495625397e-5,5.20166869531746e-5,3.46777913021164e-5,4.85489078229629e-5,4.16133495625397e-5,4.16133495625397e-5,3.46777913021164e-5,3.46777913021164e-5,4.50811286927513e-5,3.8145570432328e-5,3.46777913021164e-5,6.24200243438095e-5,4.50811286927513e-5,3.8145570432328e-5,4.50811286927513e-5,4.50811286927513e-5,5.20166869531746e-5,5.54844660833862e-5,3.8145570432328e-5,7.28233617344444e-5,8.32266991250793e-5,7.97589199948677e-5,1.00565594776138e-4,1.07501153036561e-4,9.01622573855026e-5,9.01622573855026e-5,9.01622573855026e-5,9.01622573855026e-5,9.70978156459259e-5,1.21372269557407e-4,1.56050060859524e-4,9.36300365157142e-5,1.31775606948042e-4,1.45646723468889e-4,2.01131189552275e-4,1.6992117738037e-4,1.9072785216164e-4,2.18470085203333e-4,2.46212318245026e-4,3.05164563458624e-4,3.36374575630529e-4,3.57181250411799e-4,3.01696784328413e-4,4.61214624318148e-4,4.30004612146243e-4,5.9299023126619e-4,6.97023605172539e-4,7.69846966906984e-4,8.63477003422698e-4,9.7444593558947e-4,0.00127614271991788,0.00147033835120973,0.00160211395815778,0.00174429290249645,0.00183098738075175,0.00186219739292365,0.00156050060859524,0.00136630497730339,0.00128307827817831,0.00105073707645413,0.00100565594776138,8.28799212120582e-4,7.55975850386137e-4,6.65813593000635e-4,5.23634648661957e-4,5.13231311271322e-4,3.43310133890952e-4,3.71052366932645e-4,2.84357888677354e-4,2.49680097375238e-4,2.42744539114815e-4,2.67018993026296e-4,2.01131189552275e-4,1.52582281729312e-4,1.42178944338677e-4,1.21372269557407e-4,1.59517839989735e-4,1.21372269557407e-4,1.04033373906349e-4,8.32266991250793e-5,9.36300365157142e-5,6.58878034740211e-5,6.93555826042328e-5,5.89522452135979e-5,5.20166869531746e-5,5.54844660833862e-5,6.58878034740211e-5,8.32266991250793e-5,7.28233617344444e-5,6.24200243438095e-5,4.16133495625397e-5,6.58878034740211e-5,5.20166869531746e-5,4.85489078229629e-5,1.73388956510582e-5,5.54844660833862e-5,2.77422330416931e-5,3.8145570432328e-5,2.77422330416931e-5,2.42744539114815e-5,3.46777913021164e-5,2.08066747812698e-5,4.85489078229629e-5,3.12100121719047e-5,1.73388956510582e-5,2.77422330416931e-5,1.38711165208466e-5,2.08066747812698e-5,1.38711165208466e-5,3.46777913021164e-5,2.42744539114815e-5,1.38711165208466e-5,2.08066747812698e-5,3.12100121719047e-5,1.73388956510582e-5,2.77422330416931e-5,1.73388956510582e-5,3.12100121719047e-5,2.08066747812698e-5,2.08066747812698e-5,6.93555826042328e-6,1.38711165208466e-5,6.93555826042328e-6,1.38711165208466e-5,3.12100121719047e-5,3.46777913021164e-6,3.46777913021164e-6,3.46777913021164e-6,6.93555826042328e-6,3.46777913021164e-6,1.38711165208466e-5,3.46777913021164e-6,1.38711165208466e-5,1.73388956510582e-5,6.93555826042328e-6,1.38711165208466e-5,1.04033373906349e-5,1.38711165208466e-5,3.46777913021164e-6,6.93555826042328e-6,6.93555826042328e-6,3.46777913021164e-6,3.46777913021164e-6,1.38711165208466e-5,1.04033373906349e-5,1.04033373906349e-5,6.93555826042328e-6,1.38711165208466e-5,3.46777913021164e-6,0],\"fOption\":\"\",\"fFunctions\":{\"_typename\":\"TList\",\"name\":\"TList\",\"arr\":[],\"opt\":[]},\"fBufferSize\":0,\"fBuffer\":[],\"fBinStatErrOpt\":0,\"fStatOverflows\":2,\"fArray\":[0,0.00186219739292365,0.0074487895716946,0.0074487895716946,0.0148975791433892,0.0074487895716946,0.0074487895716946,0.0130353817504655,0.0074487895716946,0.0074487895716946,0.00931098696461825,0.0148975791433892,0.0037243947858473,0.00931098696461825,0.0148975791433892,0.0130353817504655,0.0074487895716946,0.0186219739292365,0.0167597765363128,0.0111731843575419,0.0148975791433892,0.00931098696461825,0.0130353817504655,0.00558659217877095,0.0148975791433892,0.00558659217877095,0.0148975791433892,0.0074487895716946,0.00931098696461825,0.0148975791433892,0.0148975791433892,0.0130353817504655,0.0074487895716946,0.0130353817504655,0.0186219739292365,0.0204841713221601,0.00558659217877095,0.0130353817504655,0.0111731843575419,0.0111731843575419,0.0130353817504655,0.0111731843575419,0.0148975791433892,0.0148975791433892,0.0130353817504655,0.0223463687150838,0.0204841713221601,0.00558659217877095,0.0186219739292365,0.0130353817504655,0.0204841713221601,0.0242085661080074,0.0223463687150838,0.0279329608938547,0.0186219739292365,0.0260707635009311,0.0223463687150838,0.0223463687150838,0.0186219739292365,0.0186219739292365,0.0242085661080074,0.0204841713221601,0.0186219739292365,0.0335195530726257,0.0242085661080074,0.0204841713221601,0.0242085661080074,0.0242085661080074,0.0279329608938547,0.0297951582867784,0.0204841713221601,0.0391061452513966,0.0446927374301676,0.0428305400372439,0.0540037243947858,0.0577281191806331,0.0484171322160149,0.0484171322160149,0.0484171322160149,0.0484171322160149,0.0521415270018622,0.0651769087523277,0.0837988826815642,0.0502793296089385,0.0707635009310987,0.0782122905027933,0.108007448789572,0.0912476722532588,0.102420856610801,0.11731843575419,0.132216014897579,0.163873370577281,0.180633147113594,0.191806331471136,0.162011173184358,0.247672253258845,0.230912476722533,0.318435754189944,0.374301675977654,0.41340782122905,0.463687150837989,0.523277467411546,0.685288640595903,0.789571694599628,0.860335195530726,0.936685288640596,0.983240223463687,1,0.837988826815642,0.733705772811918,0.689013035381751,0.564245810055866,0.540037243947858,0.445065176908752,0.405959031657356,0.357541899441341,0.281191806331471,0.2756052141527,0.184357541899441,0.199255121042831,0.152700186219739,0.134078212290503,0.130353817504655,0.143389199255121,0.108007448789572,0.0819366852886406,0.0763500931098696,0.0651769087523277,0.0856610800744879,0.0651769087523277,0.0558659217877095,0.0446927374301676,0.0502793296089385,0.0353817504655493,0.037243947858473,0.031657355679702,0.0279329608938547,0.0297951582867784,0.0353817504655493,0.0446927374301676,0.0391061452513966,0.0335195530726257,0.0223463687150838,0.0353817504655493,0.0279329608938547,0.0260707635009311,0.00931098696461825,0.0297951582867784,0.0148975791433892,0.0204841713221601,0.0148975791433892,0.0130353817504655,0.0186219739292365,0.0111731843575419,0.0260707635009311,0.0167597765363128,0.00931098696461825,0.0148975791433892,0.0074487895716946,0.0111731843575419,0.0074487895716946,0.0186219739292365,0.0130353817504655,0.0074487895716946,0.0111731843575419,0.0167597765363128,0.00931098696461825,0.0148975791433892,0.00931098696461825,0.0167597765363128,0.0111731843575419,0.0111731843575419,0.0037243947858473,0.0074487895716946,0.0037243947858473,0.0074487895716946,0.0167597765363128,0.00186219739292365,0.00186219739292365,0.00186219739292365,0.0037243947858473,0.00186219739292365,0.0074487895716946,0.00186219739292365,0.0074487895716946,0.00931098696461825,0.0037243947858473,0.0074487895716946,0.00558659217877095,0.0074487895716946,0.00186219739292365,0.0037243947858473,0.0037243947858473,0.00186219739292365,0.00186219739292365,0.0074487895716946,0.00558659217877095,0.00558659217877095,0.0037243947858473,0.0074487895716946,0.00186219739292365,0]},{\"_typename\":\"TH1D\",\"fUniqueID\":0,\"fBits\":520,\"fName\":\"h_rad\",\"fTitle\":\"\",\"fLineColor\":602,\"fLineStyle\":1,\"fLineWidth\":2,\"fFillColor\":0,\"fFillStyle\":1001,\"fMarkerColor\":1,\"fMarkerStyle\":1,\"fMarkerSize\":1,\"fNcells\":202,\"fXaxis\":{\"_typename\":\"TAxis\",\"fUniqueID\":0,\"fBits\":0,\"fName\":\"xaxis\",\"fTitle\":\"\",\"fNdivisions\":510,\"fAxisColor\":1,\"fLabelColor\":1,\"fLabelFont\":42,\"fLabelOffset\":0.005,\"fLabelSize\":0.035,\"fTickLength\":0.03,\"fTitleOffset\":1,\"fTitleSize\":0.035,\"fTitleColor\":1,\"fTitleFont\":42,\"fNbins\":200,\"fXmin\":70,\"fXmax\":110,\"fXbins\":[],\"fFirst\":0,\"fLast\":0,\"fBits2\":0,\"fTimeDisplay\":false,\"fTimeFormat\":\"\",\"fLabels\":null,\"fModLabs\":null},\"fYaxis\":{\"_typename\":\"TAxis\",\"fUniqueID\":0,\"fBits\":0,\"fName\":\"yaxis\",\"fTitle\":\"\",\"fNdivisions\":510,\"fAxisColor\":1,\"fLabelColor\":1,\"fLabelFont\":42,\"fLabelOffset\":0.005,\"fLabelSize\":0.035,\"fTickLength\":0.03,\"fTitleOffset\":0,\"fTitleSize\":0.035,\"fTitleColor\":1,\"fTitleFont\":42,\"fNbins\":1,\"fXmin\":0,\"fXmax\":1,\"fXbins\":[],\"fFirst\":0,\"fLast\":0,\"fBits2\":0,\"fTimeDisplay\":false,\"fTimeFormat\":\"\",\"fLabels\":null,\"fModLabs\":null},\"fZaxis\":{\"_typename\":\"TAxis\",\"fUniqueID\":0,\"fBits\":0,\"fName\":\"zaxis\",\"fTitle\":\"\",\"fNdivisions\":510,\"fAxisColor\":1,\"fLabelColor\":1,\"fLabelFont\":42,\"fLabelOffset\":0.005,\"fLabelSize\":0.035,\"fTickLength\":0.03,\"fTitleOffset\":1,\"fTitleSize\":0.035,\"fTitleColor\":1,\"fTitleFont\":42,\"fNbins\":1,\"fXmin\":0,\"fXmax\":1,\"fXbins\":[],\"fFirst\":0,\"fLast\":0,\"fBits2\":0,\"fTimeDisplay\":false,\"fTimeFormat\":\"\",\"fLabels\":null,\"fModLabs\":null},\"fBarOffset\":0,\"fBarWidth\":1000,\"fEntries\":10126,\"fTsumw\":24.4778067885117,\"fTsumw2\":0.0639107226854093,\"fTsumwx\":2183.97990915332,\"fTsumwx2\":195586.524604753,\"fMaximum\":-1111,\"fMinimum\":-1111,\"fNormFactor\":0,\"fContour\":[],\"fSumw2\":[0.00511967495858585,3.40857187655516e-5,6.81714375311032e-5,2.0451431259331e-5,8.18057250373239e-5,4.77200062717723e-5,1.15891443802875e-4,8.18057250373239e-5,8.18057250373239e-5,6.81714375311032e-5,4.09028625186619e-5,8.86228687904342e-5,1.09074300049765e-4,4.09028625186619e-5,7.49885812842135e-5,3.40857187655516e-5,9.54400125435445e-5,8.86228687904342e-5,8.18057250373239e-5,8.18057250373239e-5,1.56794306321537e-4,9.54400125435445e-5,7.49885812842135e-5,9.54400125435445e-5,1.02257156296655e-4,1.36342875062206e-4,1.22708587555986e-4,1.02257156296655e-4,1.02257156296655e-4,9.54400125435445e-5,6.81714375311032e-5,1.29525731309096e-4,1.49977162568427e-4,1.15891443802875e-4,8.86228687904342e-5,6.81714375311032e-5,1.15891443802875e-4,1.22708587555986e-4,1.36342875062206e-4,1.15891443802875e-4,1.84062881333979e-4,8.86228687904342e-5,8.18057250373239e-5,1.02257156296655e-4,1.63611450074648e-4,1.63611450074648e-4,1.77245737580868e-4,1.49977162568427e-4,1.36342875062206e-4,1.02257156296655e-4,1.84062881333979e-4,1.22708587555986e-4,1.22708587555986e-4,1.77245737580868e-4,1.36342875062206e-4,1.15891443802875e-4,1.56794306321537e-4,1.02257156296655e-4,1.22708587555986e-4,2.0451431259331e-4,1.84062881333979e-4,1.84062881333979e-4,1.70428593827758e-4,1.77245737580868e-4,2.1814860009953e-4,1.90880025087089e-4,1.29525731309096e-4,2.45417175111972e-4,2.24965743852641e-4,2.1814860009953e-4,1.90880025087089e-4,2.99954325136854e-4,2.99954325136854e-4,3.34040043902406e-4,3.20405756396185e-4,3.40857187655516e-4,2.79502893877523e-4,3.81760050174178e-4,3.81760050174178e-4,3.06771468889964e-4,3.81760050174178e-4,4.02211481433509e-4,4.70382918964612e-4,4.49931487705281e-4,3.68125762667957e-4,4.43114343952171e-4,5.18102925236384e-4,4.77200062717723e-4,5.38554356495715e-4,6.54445800298591e-4,6.61262944051701e-4,6.74897231557922e-4,7.08982950323473e-4,8.04422962867018e-4,9.68034412941666e-4,0.00104302299422588,0.00107710871299143,0.00119300015679431,0.00132934303185651,0.0013225258881034,0.00177927451956179,0.00201105740716755,0.00200424026341443,0.00235191459482306,0.00253597747615704,0.00226329172603263,0.00261096605744125,0.00254279461991015,0.00212013170721731,0.00207241170094554,0.00160884592573404,0.00162248021324026,0.00137024589437517,0.00111801157551009,7.77154387854577e-4,6.81714375311032e-4,8.24874394126349e-4,6.13542937779929e-4,5.38554356495715e-4,5.31737212742605e-4,4.63565775211502e-4,3.68125762667957e-4,3.27222900149295e-4,3.20405756396185e-4,2.79502893877523e-4,2.86320037630634e-4,1.70428593827758e-4,1.70428593827758e-4,1.56794306321537e-4,1.29525731309096e-4,1.56794306321537e-4,1.90880025087089e-4,1.15891443802875e-4,9.54400125435445e-5,1.56794306321537e-4,1.29525731309096e-4,1.09074300049765e-4,1.15891443802875e-4,1.15891443802875e-4,6.81714375311032e-5,1.29525731309096e-4,8.86228687904342e-5,5.45371500248826e-5,1.02257156296655e-4,9.54400125435445e-5,6.81714375311032e-5,6.13542937779929e-5,7.49885812842135e-5,2.72685750124413e-5,5.45371500248826e-5,6.13542937779929e-5,5.45371500248826e-5,2.0451431259331e-5,4.09028625186619e-5,2.72685750124413e-5,8.18057250373239e-5,9.54400125435445e-5,3.40857187655516e-5,4.77200062717723e-5,6.13542937779929e-5,3.40857187655516e-5,2.0451431259331e-5,2.72685750124413e-5,2.0451431259331e-5,6.13542937779929e-5,3.40857187655516e-5,2.0451431259331e-5,0,3.40857187655516e-5,3.40857187655516e-5,4.09028625186619e-5,2.0451431259331e-5,1.36342875062206e-5,1.36342875062206e-5,3.40857187655516e-5,3.40857187655516e-5,6.81714375311032e-6,3.40857187655516e-5,0,1.36342875062206e-5,2.72685750124413e-5,1.36342875062206e-5,6.81714375311032e-6,3.40857187655516e-5,3.40857187655516e-5,6.81714375311032e-6,1.36342875062206e-5,1.36342875062206e-5,4.09028625186619e-5,1.36342875062206e-5,1.36342875062206e-5,2.0451431259331e-5,2.0451431259331e-5,1.36342875062206e-5,2.0451431259331e-5,6.81714375311032e-6,6.81714375311032e-6,0,0,6.81714375311032e-6,2.0451431259331e-5,0],\"fOption\":\"\",\"fFunctions\":{\"_typename\":\"TList\",\"name\":\"TList\",\"arr\":[],\"opt\":[]},\"fBufferSize\":0,\"fBuffer\":[],\"fBinStatErrOpt\":0,\"fStatOverflows\":2,\"fArray\":[1.96083550913838,0.0130548302872063,0.0261096605744125,0.00783289817232376,0.031331592689295,0.0182767624020888,0.0443864229765013,0.031331592689295,0.031331592689295,0.0261096605744125,0.0156657963446475,0.0339425587467363,0.0417754569190601,0.0156657963446475,0.0287206266318538,0.0130548302872063,0.0365535248041775,0.0339425587467363,0.031331592689295,0.031331592689295,0.0600522193211488,0.0365535248041775,0.0287206266318538,0.0365535248041775,0.0391644908616188,0.0522193211488251,0.0469973890339426,0.0391644908616188,0.0391644908616188,0.0365535248041775,0.0261096605744125,0.0496083550913838,0.0574412532637076,0.0443864229765013,0.0339425587467363,0.0261096605744125,0.0443864229765013,0.0469973890339426,0.0522193211488251,0.0443864229765013,0.0704960835509138,0.0339425587467363,0.031331592689295,0.0391644908616188,0.0626631853785901,0.0626631853785901,0.0678851174934726,0.0574412532637076,0.0522193211488251,0.0391644908616188,0.0704960835509138,0.0469973890339426,0.0469973890339426,0.0678851174934726,0.0522193211488251,0.0443864229765013,0.0600522193211488,0.0391644908616188,0.0469973890339426,0.0783289817232376,0.0704960835509138,0.0704960835509138,0.0652741514360313,0.0678851174934726,0.0835509138381201,0.0731070496083551,0.0496083550913838,0.0939947780678851,0.0861618798955614,0.0835509138381201,0.0731070496083551,0.114882506527415,0.114882506527415,0.127937336814621,0.122715404699739,0.130548302872063,0.107049608355091,0.14621409921671,0.14621409921671,0.117493472584856,0.14621409921671,0.154046997389034,0.180156657963446,0.172323759791123,0.140992167101828,0.169712793733681,0.198433420365535,0.182767624020888,0.206266318537859,0.25065274151436,0.253263707571802,0.258485639686684,0.27154046997389,0.308093994778068,0.370757180156658,0.399477806788512,0.412532637075718,0.456919060052219,0.509138381201044,0.506527415143603,0.681462140992167,0.77023498694517,0.767624020887729,0.900783289817232,0.971279373368146,0.866840731070496,1,0.973890339425587,0.81201044386423,0.793733681462141,0.616187989556136,0.621409921671018,0.524804177545692,0.428198433420366,0.297650130548303,0.261096605744125,0.315926892950392,0.234986945169713,0.206266318537859,0.203655352480418,0.177545691906005,0.140992167101828,0.12532637075718,0.122715404699739,0.107049608355091,0.109660574412533,0.0652741514360313,0.0652741514360313,0.0600522193211488,0.0496083550913838,0.0600522193211488,0.0731070496083551,0.0443864229765013,0.0365535248041775,0.0600522193211488,0.0496083550913838,0.0417754569190601,0.0443864229765013,0.0443864229765013,0.0261096605744125,0.0496083550913838,0.0339425587467363,0.02088772845953,0.0391644908616188,0.0365535248041775,0.0261096605744125,0.0234986945169713,0.0287206266318538,0.010443864229765,0.02088772845953,0.0234986945169713,0.02088772845953,0.00783289817232376,0.0156657963446475,0.010443864229765,0.031331592689295,0.0365535248041775,0.0130548302872063,0.0182767624020888,0.0234986945169713,0.0130548302872063,0.00783289817232376,0.010443864229765,0.00783289817232376,0.0234986945169713,0.0130548302872063,0.00783289817232376,0,0.0130548302872063,0.0130548302872063,0.0156657963446475,0.00783289817232376,0.00522193211488251,0.00522193211488251,0.0130548302872063,0.0130548302872063,0.00261096605744125,0.0130548302872063,0,0.00522193211488251,0.010443864229765,0.00522193211488251,0.00261096605744125,0.0130548302872063,0.0130548302872063,0.00261096605744125,0.00522193211488251,0.00522193211488251,0.0156657963446475,0.00522193211488251,0.00522193211488251,0.00783289817232376,0.00783289817232376,0.00522193211488251,0.00783289817232376,0.00261096605744125,0.00261096605744125,0,0,0.00261096605744125,0.00783289817232376,0]},{\"_typename\":\"TLegend\",\"fUniqueID\":0,\"fBits\":8,\"fLineColor\":1,\"fLineStyle\":1,\"fLineWidth\":1,\"fFillColor\":0,\"fFillStyle\":1001,\"fX1\":100.000000149012,\"fY1\":0.918750005867333,\"fX2\":110.000000298023,\"fY2\":1.05000000782311,\"fX1NDC\":0.7,\"fY1NDC\":0.8,\"fX2NDC\":0.9,\"fY2NDC\":0.9,\"fBorderSize\":1,\"fInit\":1,\"fShadowColor\":1,\"fCornerRadius\":0,\"fOption\":\"brNDC\",\"fName\":\"TPave\",\"fTextAngle\":0,\"fTextSize\":0,\"fTextAlign\":12,\"fTextColor\":1,\"fTextFont\":42,\"fPrimitives\":{\"_typename\":\"TList\",\"name\":\"TList\",\"arr\":[{\"_typename\":\"TLegendEntry\",\"fUniqueID\":0,\"fBits\":0,\"fTextAngle\":0,\"fTextSize\":0,\"fTextAlign\":0,\"fTextColor\":0,\"fTextFont\":42,\"fLineColor\":632,\"fLineStyle\":1,\"fLineWidth\":2,\"fFillColor\":0,\"fFillStyle\":1001,\"fMarkerColor\":1,\"fMarkerStyle\":1,\"fMarkerSize\":1,\"fObject\":{\"$ref\":5},\"fLabel\":\"FSR OFF\",\"fOption\":\"lpf\"},{\"_typename\":\"TLegendEntry\",\"fUniqueID\":0,\"fBits\":0,\"fTextAngle\":0,\"fTextSize\":0,\"fTextAlign\":0,\"fTextColor\":0,\"fTextFont\":42,\"fLineColor\":602,\"fLineStyle\":1,\"fLineWidth\":2,\"fFillColor\":0,\"fFillStyle\":1001,\"fMarkerColor\":1,\"fMarkerStyle\":1,\"fMarkerSize\":1,\"fObject\":{\"$ref\":10},\"fLabel\":\"FSR ON\",\"fOption\":\"lpf\"}],\"opt\":[\"lpf\",\"lpf\"]},\"fEntrySeparation\":0.1,\"fMargin\":0.25,\"fNColumns\":1,\"fColumnSeparation\":0}],\"opt\":[\"\",\"hist\",\"same hist\",\"\"]},\"fExecs\":{\"_typename\":\"TList\",\"name\":\"TList\",\"arr\":[],\"opt\":[]},\"fName\":\"cz_1\",\"fTitle\":\"cz_1\",\"fNumPaletteColor\":0,\"fNextPaletteColor\":0},{\"_typename\":\"TPad\",\"fUniqueID\":0,\"fBits\":9,\"fLineColor\":1,\"fLineStyle\":1,\"fLineWidth\":1,\"fFillColor\":0,\"fFillStyle\":1001,\"fLeftMargin\":0.1,\"fRightMargin\":0.1,\"fBottomMargin\":0.1,\"fTopMargin\":0.1,\"fXfile\":2,\"fYfile\":2,\"fAfile\":1,\"fXstat\":0.99,\"fYstat\":0.99,\"fAstat\":2,\"fFrameFillColor\":0,\"fFrameLineColor\":1,\"fFrameFillStyle\":1001,\"fFrameLineStyle\":1,\"fFrameLineWidth\":1,\"fFrameBorderSize\":1,\"fFrameBorderMode\":0,\"fX1\":0,\"fY1\":0,\"fX2\":1,\"fY2\":1,\"fXtoAbsPixelk\":813.960049643266,\"fXtoPixelk\":5e-5,\"fXtoPixel\":766.080000713468,\"fYtoAbsPixelk\":574.280050261962,\"fYtoPixelk\":562.560050523925,\"fYtoPixel\":-562.560000523925,\"fUtoAbsPixelk\":813.960049643266,\"fUtoPixelk\":5e-5,\"fUtoPixel\":766.080000713468,\"fVtoAbsPixelk\":574.280050261962,\"fVtoPixelk\":562.560000523925,\"fVtoPixel\":-562.560000523925,\"fAbsPixeltoXk\":-1.06249999854481,\"fPixeltoXk\":0,\"fPixeltoX\":0.00130534669886784,\"fAbsPixeltoYk\":1.02083333284827,\"fPixeltoYk\":0,\"fPixeltoY\":-0.00177758816671764,\"fXlowNDC\":0.509999999776483,\"fYlowNDC\":0.509999999776483,\"fXUpNDC\":0.990000000223517,\"fYUpNDC\":0.990000000223517,\"fWNDC\":0.480000000447035,\"fHNDC\":0.480000000447035,\"fAbsXlowNDC\":0.509999999776483,\"fAbsYlowNDC\":0.509999999776483,\"fAbsWNDC\":0.480000000447035,\"fAbsHNDC\":0.480000000447035,\"fUxmin\":0,\"fUymin\":0,\"fUxmax\":1,\"fUymax\":1,\"fTheta\":30,\"fPhi\":30,\"fAspectRatio\":0,\"fNumber\":2,\"fTickx\":0,\"fTicky\":0,\"fLogx\":0,\"fLogy\":0,\"fLogz\":0,\"fPadPaint\":0,\"fCrosshair\":0,\"fCrosshairPos\":0,\"fBorderSize\":2,\"fBorderMode\":0,\"fModified\":false,\"fGridx\":false,\"fGridy\":false,\"fAbsCoord\":false,\"fEditable\":true,\"fFixedAspectRatio\":false,\"fPrimitives\":{\"_typename\":\"TList\",\"name\":\"TList\",\"arr\":[],\"opt\":[]},\"fExecs\":{\"_typename\":\"TList\",\"name\":\"TList\",\"arr\":[],\"opt\":[]},\"fName\":\"cz_2\",\"fTitle\":\"cz_2\",\"fNumPaletteColor\":0,\"fNextPaletteColor\":0},{\"_typename\":\"TPad\",\"fUniqueID\":0,\"fBits\":9,\"fLineColor\":1,\"fLineStyle\":1,\"fLineWidth\":1,\"fFillColor\":0,\"fFillStyle\":1001,\"fLeftMargin\":0.1,\"fRightMargin\":0.1,\"fBottomMargin\":0.1,\"fTopMargin\":0.1,\"fXfile\":2,\"fYfile\":2,\"fAfile\":1,\"fXstat\":0.99,\"fYstat\":0.99,\"fAstat\":2,\"fFrameFillColor\":0,\"fFrameLineColor\":1,\"fFrameFillStyle\":1001,\"fFrameLineStyle\":1,\"fFrameLineWidth\":1,\"fFrameBorderSize\":1,\"fFrameBorderMode\":0,\"fX1\":-12.5000001862645,\"fY1\":-0.0220390130311052,\"fX2\":12.5000001862645,\"fY2\":0.198351104143672,\"fXtoAbsPixelk\":399.00005,\"fXtoPixelk\":383.040050356734,\"fXtoPixel\":30.6431995719194,\"fYtoAbsPixelk\":1104.02404685645,\"fYtoPixelk\":506.304047118413,\"fYtoPixel\":-2552.56455114906,\"fUtoAbsPixelk\":15.9600496432662,\"fUtoPixelk\":5e-5,\"fUtoPixel\":766.080000713468,\"fVtoAbsPixelk\":1160.28005026196,\"fVtoPixelk\":562.560000523925,\"fVtoPixel\":-562.560000523925,\"fAbsPixeltoXk\":-13.0208335152323,\"fPixeltoXk\":-12.5000001862645,\"fPixeltoX\":0.0326336679579756,\"fAbsPixeltoYk\":0.432515603321163,\"fPixeltoYk\":-0.0220390130311052,\"fPixeltoY\":-3.91762864351399e-4,\"fXlowNDC\":0.00999999977648258,\"fYlowNDC\":0.00999999977648258,\"fXUpNDC\":0.490000000223517,\"fYUpNDC\":0.490000000223517,\"fWNDC\":0.480000000447035,\"fHNDC\":0.480000000447035,\"fAbsXlowNDC\":0.00999999977648258,\"fAbsYlowNDC\":0.00999999977648258,\"fAbsWNDC\":0.480000000447035,\"fAbsHNDC\":0.480000000447035,\"fUxmin\":-10,\"fUymin\":0,\"fUxmax\":10,\"fUymax\":0.176312091112567,\"fTheta\":30,\"fPhi\":30,\"fAspectRatio\":0,\"fNumber\":3,\"fTickx\":0,\"fTicky\":0,\"fLogx\":0,\"fLogy\":0,\"fLogz\":0,\"fPadPaint\":0,\"fCrosshair\":0,\"fCrosshairPos\":0,\"fBorderSize\":2,\"fBorderMode\":0,\"fModified\":false,\"fGridx\":false,\"fGridy\":false,\"fAbsCoord\":false,\"fEditable\":true,\"fFixedAspectRatio\":false,\"fPrimitives\":{\"_typename\":\"TList\",\"name\":\"TList\",\"arr\":[{\"_typename\":\"TFrame\",\"fUniqueID\":0,\"fBits\":8,\"fLineColor\":1,\"fLineStyle\":1,\"fLineWidth\":1,\"fFillColor\":0,\"fFillStyle\":1001,\"fX1\":-10,\"fY1\":0,\"fX2\":10,\"fY2\":0.176312091112567,\"fBorderSize\":1,\"fBorderMode\":0},{\"_typename\":\"TH1D\",\"fUniqueID\":0,\"fBits\":520,\"fName\":\"h_etaz\",\"fTitle\":\"\",\"fLineColor\":602,\"fLineStyle\":1,\"fLineWidth\":1,\"fFillColor\":0,\"fFillStyle\":1001,\"fMarkerColor\":600,\"fMarkerStyle\":20,\"fMarkerSize\":1,\"fNcells\":102,\"fXaxis\":{\"_typename\":\"TAxis\",\"fUniqueID\":0,\"fBits\":0,\"fName\":\"xaxis\",\"fTitle\":\"#eta\",\"fNdivisions\":510,\"fAxisColor\":1,\"fLabelColor\":1,\"fLabelFont\":42,\"fLabelOffset\":0.005,\"fLabelSize\":0.035,\"fTickLength\":0.03,\"fTitleOffset\":1,\"fTitleSize\":0.035,\"fTitleColor\":1,\"fTitleFont\":42,\"fNbins\":100,\"fXmin\":-10,\"fXmax\":10,\"fXbins\":[],\"fFirst\":0,\"fLast\":0,\"fBits2\":0,\"fTimeDisplay\":false,\"fTimeFormat\":\"\",\"fLabels\":null,\"fModLabs\":null},\"fYaxis\":{\"_typename\":\"TAxis\",\"fUniqueID\":0,\"fBits\":0,\"fName\":\"yaxis\",\"fTitle\":\"#frac{dN}{d#eta}\",\"fNdivisions\":510,\"fAxisColor\":1,\"fLabelColor\":1,\"fLabelFont\":42,\"fLabelOffset\":0.005,\"fLabelSize\":0.035,\"fTickLength\":0.03,\"fTitleOffset\":0,\"fTitleSize\":15,\"fTitleColor\":1,\"fTitleFont\":42,\"fNbins\":1,\"fXmin\":0,\"fXmax\":1,\"fXbins\":[],\"fFirst\":0,\"fLast\":0,\"fBits2\":0,\"fTimeDisplay\":false,\"fTimeFormat\":\"\",\"fLabels\":null,\"fModLabs\":null},\"fZaxis\":{\"_typename\":\"TAxis\",\"fUniqueID\":0,\"fBits\":0,\"fName\":\"zaxis\",\"fTitle\":\"\",\"fNdivisions\":510,\"fAxisColor\":1,\"fLabelColor\":1,\"fLabelFont\":42,\"fLabelOffset\":0.005,\"fLabelSize\":0.035,\"fTickLength\":0.03,\"fTitleOffset\":1,\"fTitleSize\":0.035,\"fTitleColor\":1,\"fTitleFont\":42,\"fNbins\":1,\"fXmin\":0,\"fXmax\":1,\"fXbins\":[],\"fFirst\":0,\"fLast\":0,\"fBits2\":0,\"fTimeDisplay\":false,\"fTimeFormat\":\"\",\"fLabels\":null,\"fModLabs\":null},\"fBarOffset\":0,\"fBarWidth\":1000,\"fEntries\":10000,\"fTsumw\":5,\"fTsumw2\":0.0025,\"fTsumwx\":0.100220749137755,\"fTsumwx2\":43.8687265056616,\"fMaximum\":-1111,\"fMinimum\":-1111,\"fNormFactor\":0,\"fContour\":[],\"fSumw2\":[0,0,0,0,0,0,0,0,0,0,0,2.5e-7,2.5e-7,5e-7,2.5e-7,2.5e-7,0,7.5e-7,1e-6,1.5e-6,1.5e-6,2.5e-6,3.25e-6,7.5e-6,9.25e-6,1.35e-5,1.875e-5,2.075e-5,2.875e-5,3.45e-5,4.25e-5,4.95e-5,5.425e-5,6.375e-5,7.05e-5,7.775e-5,6.875e-5,7.95e-5,6.825e-5,7.2e-5,5.925e-5,5.9e-5,5.325e-5,4.6e-5,4.45e-5,4.075e-5,4e-5,3.025e-5,3e-5,2.625e-5,2.175e-5,2.775e-5,2.75e-5,3.025e-5,3.325e-5,3.425e-5,4.35e-5,4.5e-5,5.15e-5,5.15e-5,5.9e-5,5.9e-5,6.2e-5,6.5e-5,7.85e-5,7.45e-5,7.35e-5,6.75e-5,6e-5,5.9e-5,5.85e-5,4.3e-5,4.125e-5,2.7e-5,2.05e-5,1.475e-5,1.425e-5,1.175e-5,9.75e-6,4e-6,2.5e-6,2.5e-6,1e-6,5e-7,7.5e-7,7.5e-7,1.5e-6,2.5e-7,0,0,0,0,2.5e-7,0,0,0,0,0,0,0,0,0],\"fOption\":\"\",\"fFunctions\":{\"_typename\":\"TList\",\"name\":\"TList\",\"arr\":[],\"opt\":[]},\"fBufferSize\":0,\"fBuffer\":[],\"fBinStatErrOpt\":0,\"fStatOverflows\":2,\"fArray\":[0,0,0,0,0,0,0,0,0,0,0,5e-4,5e-4,0.001,5e-4,5e-4,0,0.0015,0.002,0.003,0.003,0.005,0.0065,0.015,0.0185,0.027,0.0375,0.0415,0.0575,0.069,0.085,0.099,0.1085,0.1275,0.141,0.1555,0.1375,0.159,0.1365,0.144,0.1185,0.118,0.1065,0.092,0.089,0.0815,0.08,0.0605,0.06,0.0525,0.0435,0.0555,0.055,0.0605,0.0665,0.0685,0.087,0.09,0.103,0.103,0.118,0.118,0.124,0.13,0.157,0.149,0.147,0.135,0.12,0.118,0.117,0.086,0.0825,0.054,0.041,0.0295,0.0285,0.0235,0.0195,0.008,0.005,0.005,0.002,0.001,0.0015,0.0015,0.003,5e-4,0,0,0,0,5e-4,0,0,0,0,0,0,0,0,0]}],\"opt\":[\"\",\"\"]},\"fExecs\":{\"_typename\":\"TList\",\"name\":\"TList\",\"arr\":[],\"opt\":[]},\"fName\":\"cz_3\",\"fTitle\":\"cz_3\",\"fNumPaletteColor\":0,\"fNextPaletteColor\":0},{\"_typename\":\"TPad\",\"fUniqueID\":0,\"fBits\":9,\"fLineColor\":1,\"fLineStyle\":1,\"fLineWidth\":1,\"fFillColor\":0,\"fFillStyle\":1001,\"fLeftMargin\":0.1,\"fRightMargin\":0.1,\"fBottomMargin\":0.1,\"fTopMargin\":0.1,\"fXfile\":2,\"fYfile\":2,\"fAfile\":1,\"fXstat\":0.99,\"fYstat\":0.99,\"fAstat\":2,\"fFrameFillColor\":0,\"fFrameLineColor\":1,\"fFrameFillStyle\":1001,\"fFrameLineStyle\":1,\"fFrameLineWidth\":1,\"fFrameBorderSize\":1,\"fFrameBorderMode\":0,\"fX1\":-6.25000046566131,\"fY1\":-0.0164197778836557,\"fX2\":56.2500004656613,\"fY2\":0.147777991165951,\"fXtoAbsPixelk\":890.568054280806,\"fXtoPixelk\":76.6080546375396,\"fXtoPixel\":12.2572798287678,\"fYtoAbsPixelk\":1104.02404685645,\"fYtoPixelk\":506.304047118413,\"fYtoPixel\":-3426.11232649554,\"fUtoAbsPixelk\":813.960049643266,\"fUtoPixelk\":5e-5,\"fUtoPixel\":766.080000713468,\"fVtoAbsPixelk\":1160.28005026196,\"fVtoPixelk\":562.560000523925,\"fVtoPixel\":-562.560000523925,\"fAbsPixeltoXk\":-72.6562513642421,\"fPixeltoXk\":-6.25000046566131,\"fPixeltoX\":0.0815841698949391,\"fAbsPixeltoYk\":0.322238120542218,\"fPixeltoYk\":-0.0164197778836557,\"fPixeltoY\":-2.91876011264017e-4,\"fXlowNDC\":0.509999999776483,\"fYlowNDC\":0.00999999977648258,\"fXUpNDC\":0.990000000223517,\"fYUpNDC\":0.490000000223517,\"fWNDC\":0.480000000447035,\"fHNDC\":0.480000000447035,\"fAbsXlowNDC\":0.509999999776483,\"fAbsYlowNDC\":0.00999999977648258,\"fAbsWNDC\":0.480000000447035,\"fAbsHNDC\":0.480000000447035,\"fUxmin\":0,\"fUymin\":0,\"fUxmax\":50,\"fUymax\":0.131358213282295,\"fTheta\":30,\"fPhi\":30,\"fAspectRatio\":0,\"fNumber\":4,\"fTickx\":0,\"fTicky\":0,\"fLogx\":0,\"fLogy\":0,\"fLogz\":0,\"fPadPaint\":0,\"fCrosshair\":0,\"fCrosshairPos\":0,\"fBorderSize\":2,\"fBorderMode\":0,\"fModified\":false,\"fGridx\":false,\"fGridy\":false,\"fAbsCoord\":false,\"fEditable\":true,\"fFixedAspectRatio\":false,\"fPrimitives\":{\"_typename\":\"TList\",\"name\":\"TList\",\"arr\":[{\"_typename\":\"TFrame\",\"fUniqueID\":0,\"fBits\":8,\"fLineColor\":1,\"fLineStyle\":1,\"fLineWidth\":1,\"fFillColor\":0,\"fFillStyle\":1001,\"fX1\":0,\"fY1\":0,\"fX2\":50,\"fY2\":0.131358213282295,\"fBorderSize\":1,\"fBorderMode\":0},{\"_typename\":\"TH1D\",\"fUniqueID\":0,\"fBits\":520,\"fName\":\"h_ptz\",\"fTitle\":\"\",\"fLineColor\":602,\"fLineStyle\":1,\"fLineWidth\":1,\"fFillColor\":0,\"fFillStyle\":1001,\"fMarkerColor\":600,\"fMarkerStyle\":20,\"fMarkerSize\":1,\"fNcells\":102,\"fXaxis\":{\"_typename\":\"TAxis\",\"fUniqueID\":0,\"fBits\":0,\"fName\":\"xaxis\",\"fTitle\":\"p_{T} [GeV\\/c]\",\"fNdivisions\":510,\"fAxisColor\":1,\"fLabelColor\":1,\"fLabelFont\":42,\"fLabelOffset\":0.005,\"fLabelSize\":0.035,\"fTickLength\":0.03,\"fTitleOffset\":1.5,\"fTitleSize\":0.035,\"fTitleColor\":1,\"fTitleFont\":42,\"fNbins\":100,\"fXmin\":0,\"fXmax\":50,\"fXbins\":[],\"fFirst\":0,\"fLast\":0,\"fBits2\":0,\"fTimeDisplay\":false,\"fTimeFormat\":\"\",\"fLabels\":null,\"fModLabs\":null},\"fYaxis\":{\"_typename\":\"TAxis\",\"fUniqueID\":0,\"fBits\":0,\"fName\":\"yaxis\",\"fTitle\":\"#frac{dN}{dp_{T}} [GeV\\/c]^{-1}\",\"fNdivisions\":510,\"fAxisColor\":1,\"fLabelColor\":1,\"fLabelFont\":42,\"fLabelOffset\":0.005,\"fLabelSize\":0.035,\"fTickLength\":0.03,\"fTitleOffset\":0,\"fTitleSize\":15,\"fTitleColor\":1,\"fTitleFont\":42,\"fNbins\":1,\"fXmin\":0,\"fXmax\":1,\"fXbins\":[],\"fFirst\":0,\"fLast\":0,\"fBits2\":0,\"fTimeDisplay\":false,\"fTimeFormat\":\"\",\"fLabels\":null,\"fModLabs\":null},\"fZaxis\":{\"_typename\":\"TAxis\",\"fUniqueID\":0,\"fBits\":0,\"fName\":\"zaxis\",\"fTitle\":\"\",\"fNdivisions\":510,\"fAxisColor\":1,\"fLabelColor\":1,\"fLabelFont\":42,\"fLabelOffset\":0.005,\"fLabelSize\":0.035,\"fTickLength\":0.03,\"fTitleOffset\":1,\"fTitleSize\":0.035,\"fTitleColor\":1,\"fTitleFont\":42,\"fNbins\":1,\"fXmin\":0,\"fXmax\":1,\"fXbins\":[],\"fFirst\":0,\"fLast\":0,\"fBits2\":0,\"fTimeDisplay\":false,\"fTimeFormat\":\"\",\"fLabels\":null,\"fModLabs\":null},\"fBarOffset\":0,\"fBarWidth\":1000,\"fEntries\":10000,\"fTsumw\":1.9886,\"fTsumw2\":3.9772e-4,\"fTsumwx\":16.1130995101475,\"fTsumwx2\":249.270342143707,\"fMaximum\":-1111,\"fMinimum\":-1111,\"fNormFactor\":0,\"fContour\":[],\"fSumw2\":[0,4.32e-6,1.176e-5,1.76e-5,1.952e-5,2.392e-5,2.404e-5,2.296e-5,2.164e-5,1.916e-5,1.972e-5,1.66e-5,1.42e-5,1.336e-5,1.176e-5,1.072e-5,1.032e-5,7.4e-6,8.6e-6,7.48e-6,6.36e-6,6.6e-6,6.44e-6,4.8e-6,6.4e-6,4.32e-6,5.24e-6,3.96e-6,3.8e-6,4.36e-6,3.32e-6,2.6e-6,3.16e-6,2.76e-6,2.72e-6,2.48e-6,2.32e-6,1.96e-6,2.2e-6,2e-6,2.16e-6,1.76e-6,1.84e-6,1.72e-6,1.32e-6,1.36e-6,1.36e-6,1.24e-6,1e-6,9.6e-7,1.04e-6,8.8e-7,1.04e-6,8e-7,1e-6,8.4e-7,7.2e-7,8.8e-7,8e-7,7.6e-7,5.2e-7,6e-7,5.2e-7,6e-7,4e-7,6e-7,4.4e-7,5.2e-7,4.8e-7,4.8e-7,4e-7,2.4e-7,4e-7,3.2e-7,4.4e-7,3.6e-7,4e-7,2e-7,3.2e-7,1.2e-7,3.6e-7,2.4e-7,2.4e-7,2.4e-7,3.6e-7,1.2e-7,8e-8,8e-8,4e-8,1.2e-7,2e-7,1.2e-7,1.2e-7,8e-8,4e-8,1.2e-7,1.2e-7,4e-8,1.2e-7,8e-8,8e-8,2.28e-6],\"fOption\":\"\",\"fFunctions\":{\"_typename\":\"TList\",\"name\":\"TList\",\"arr\":[],\"opt\":[]},\"fBufferSize\":0,\"fBuffer\":[],\"fBinStatErrOpt\":0,\"fStatOverflows\":2,\"fArray\":[0,0.0216,0.0588,0.088,0.0976,0.1196,0.1202,0.1148,0.1082,0.0958,0.0986,0.083,0.071,0.0668,0.0588,0.0536,0.0516,0.037,0.043,0.0374,0.0318,0.033,0.0322,0.024,0.032,0.0216,0.0262,0.0198,0.019,0.0218,0.0166,0.013,0.0158,0.0138,0.0136,0.0124,0.0116,0.0098,0.011,0.01,0.0108,0.0088,0.0092,0.0086,0.0066,0.0068,0.0068,0.0062,0.005,0.0048,0.0052,0.0044,0.0052,0.004,0.005,0.0042,0.0036,0.0044,0.004,0.0038,0.0026,0.003,0.0026,0.003,0.002,0.003,0.0022,0.0026,0.0024,0.0024,0.002,0.0012,0.002,0.0016,0.0022,0.0018,0.002,0.001,0.0016,6e-4,0.0018,0.0012,0.0012,0.0012,0.0018,6e-4,4e-4,4e-4,2e-4,6e-4,0.001,6e-4,6e-4,4e-4,2e-4,6e-4,6e-4,2e-4,6e-4,4e-4,4e-4,0.0114]}],\"opt\":[\"\",\"\"]},\"fExecs\":{\"_typename\":\"TList\",\"name\":\"TList\",\"arr\":[],\"opt\":[]},\"fName\":\"cz_4\",\"fTitle\":\"cz_4\",\"fNumPaletteColor\":0,\"fNextPaletteColor\":0},{\"_typename\":\"TStyle\",\"fUniqueID\":0,\"fBits\":0,\"fName\":\"Modern\",\"fTitle\":\"Modern Style\",\"fLineColor\":1,\"fLineStyle\":1,\"fLineWidth\":1,\"fFillColor\":19,\"fFillStyle\":1001,\"fMarkerColor\":1,\"fMarkerStyle\":1,\"fMarkerSize\":1,\"fTextAngle\":0,\"fTextSize\":0.05,\"fTextAlign\":11,\"fTextColor\":1,\"fTextFont\":62,\"fXaxis\":{\"_typename\":\"TAttAxis\",\"fNdivisions\":510,\"fAxisColor\":1,\"fLabelColor\":1,\"fLabelFont\":42,\"fLabelOffset\":0.005,\"fLabelSize\":0.035,\"fTickLength\":0.03,\"fTitleOffset\":1,\"fTitleSize\":0.035,\"fTitleColor\":1,\"fTitleFont\":42},\"fYaxis\":{\"_typename\":\"TAttAxis\",\"fNdivisions\":510,\"fAxisColor\":1,\"fLabelColor\":1,\"fLabelFont\":42,\"fLabelOffset\":0.005,\"fLabelSize\":0.035,\"fTickLength\":0.03,\"fTitleOffset\":0,\"fTitleSize\":0.035,\"fTitleColor\":1,\"fTitleFont\":42},\"fZaxis\":{\"_typename\":\"TAttAxis\",\"fNdivisions\":510,\"fAxisColor\":1,\"fLabelColor\":1,\"fLabelFont\":42,\"fLabelOffset\":0.005,\"fLabelSize\":0.035,\"fTickLength\":0.03,\"fTitleOffset\":1,\"fTitleSize\":0.035,\"fTitleColor\":1,\"fTitleFont\":42},\"fBarWidth\":1,\"fBarOffset\":0,\"fColorModelPS\":0,\"fDrawBorder\":0,\"fOptLogx\":0,\"fOptLogy\":0,\"fOptLogz\":0,\"fOptDate\":0,\"fOptStat\":0,\"fOptTitle\":1,\"fOptFile\":0,\"fOptFit\":0,\"fShowEventStatus\":0,\"fShowEditor\":0,\"fShowToolBar\":0,\"fNumberContours\":20,\"fAttDate\":{\"_typename\":\"TAttText\",\"fTextAngle\":0,\"fTextSize\":0.025,\"fTextAlign\":11,\"fTextColor\":1,\"fTextFont\":62},\"fDateX\":0.01,\"fDateY\":0.01,\"fEndErrorSize\":2,\"fErrorX\":0.5,\"fFuncColor\":2,\"fFuncStyle\":1,\"fFuncWidth\":2,\"fGridColor\":0,\"fGridStyle\":3,\"fGridWidth\":1,\"fLegendBorderSize\":1,\"fLegendFillColor\":0,\"fLegendFont\":42,\"fLegendTextSize\":0,\"fHatchesLineWidth\":1,\"fHatchesSpacing\":1,\"fFrameFillColor\":0,\"fFrameLineColor\":1,\"fFrameFillStyle\":1001,\"fFrameLineStyle\":1,\"fFrameLineWidth\":1,\"fFrameBorderSize\":1,\"fFrameBorderMode\":0,\"fHistFillColor\":0,\"fHistLineColor\":602,\"fHistFillStyle\":1001,\"fHistLineStyle\":1,\"fHistLineWidth\":1,\"fHistMinimumZero\":false,\"fHistTopMargin\":0.05,\"fCanvasPreferGL\":false,\"fCanvasColor\":0,\"fCanvasBorderSize\":2,\"fCanvasBorderMode\":0,\"fCanvasDefH\":500,\"fCanvasDefW\":700,\"fCanvasDefX\":10,\"fCanvasDefY\":10,\"fPadColor\":0,\"fPadBorderSize\":2,\"fPadBorderMode\":0,\"fPadBottomMargin\":0.1,\"fPadTopMargin\":0.1,\"fPadLeftMargin\":0.1,\"fPadRightMargin\":0.1,\"fPadGridX\":false,\"fPadGridY\":false,\"fPadTickX\":0,\"fPadTickY\":0,\"fPaperSizeX\":20,\"fPaperSizeY\":26,\"fScreenFactor\":1,\"fStatColor\":0,\"fStatTextColor\":1,\"fStatBorderSize\":1,\"fStatFont\":42,\"fStatFontSize\":0,\"fStatStyle\":1001,\"fStatFormat\":\"6.4g\",\"fStatX\":0.98,\"fStatY\":0.935,\"fStatW\":0.2,\"fStatH\":0.16,\"fStripDecimals\":true,\"fTitleAlign\":23,\"fTitleColor\":0,\"fTitleTextColor\":1,\"fTitleBorderSize\":0,\"fTitleFont\":42,\"fTitleFontSize\":0.05,\"fTitleStyle\":0,\"fTitleX\":0.5,\"fTitleY\":0.995,\"fTitleW\":0,\"fTitleH\":0,\"fLegoInnerR\":0.5,\"fLineStyle\":[\"\",\"  \",\" 12 12\",\" 4 8\",\" 12 16 4 16\",\" 20 12 4 12\",\" 20 12 4 12 4 12 4 12\",\" 20 20\",\" 20 12 4 12 4 12\",\" 80 20\",\" 80 40 4 40\",\"  \",\"  \",\"  \",\"  \",\"  \",\"  \",\"  \",\"  \",\"  \",\"  \",\"  \",\"  \",\"  \",\"  \",\"  \",\"  \",\"  \",\"  \",\"  \"],\"fHeaderPS\":\"\",\"fTitlePS\":\"\",\"fFitFormat\":\"5.4g\",\"fPaintTextFormat\":\"g\",\"fLineScalePS\":3,\"fJoinLinePS\":0,\"fCapLinePS\":0,\"fTimeOffset\":788918400,\"fImageScaling\":1}],\"opt\":[\"\",\"\",\"\",\"\",\"\"]},\"fExecs\":null,\"fName\":\"cz\",\"fTitle\":\"\",\"fNumPaletteColor\":0,\"fNextPaletteColor\":0,\"fDISPLAY\":\"$DISPLAY\",\"fDoubleBuffer\":0,\"fRetained\":true,\"fXsizeUser\":0,\"fYsizeUser\":0,\"fXsizeReal\":20,\"fYsizeReal\":15,\"fWindowTopX\":0,\"fWindowTopY\":0,\"fWindowWidth\":0,\"fWindowHeight\":0,\"fCw\":1596,\"fCh\":1172,\"fCatt\":{\"_typename\":\"TAttCanvas\",\"fXBetween\":2,\"fYBetween\":2,\"fTitleFromTop\":1.2,\"fXdate\":0.2,\"fYdate\":0.3,\"fAdate\":1},\"kMoveOpaque\":true,\"kResizeOpaque\":true,\"fHighLightColor\":2,\"fBatch\":true,\"kShowEventStatus\":false,\"kAutoExec\":true,\"kMenuBar\":true});\n",
       "   Core.settings.HandleKeys = false;\n",
       "   Core.draw(\"root_plot_1646037869778\", obj, \"\");\n",
       "}\n",
       "\n",
       "function script_load_root_plot_1646037869778(src, on_error) {\n",
       "    let script = document.createElement('script');\n",
       "    script.src = src;\n",
       "    script.onload = function() { display_root_plot_1646037869778(JSROOT); };\n",
       "    script.onerror = function() { script.remove(); on_error(); };\n",
       "    document.head.appendChild(script);\n",
       "}\n",
       "\n",
       "if (typeof requirejs !== 'undefined') {\n",
       "\n",
       "    // We are in jupyter notebooks, use require.js which should be configured already\n",
       "    requirejs.config({\n",
       "       paths: { 'JSRootCore' : [ 'scripts/JSRoot.core', 'https://root.cern/js/6.1.1/scripts/JSRoot.core.min', 'https://jsroot.gsi.de/6.1.1/scripts/JSRoot.core.min' ] }\n",
       "    })(['JSRootCore'],  function(Core) {\n",
       "       display_root_plot_1646037869778(Core);\n",
       "    });\n",
       "\n",
       "} else if (typeof JSROOT !== 'undefined') {\n",
       "\n",
       "   // JSROOT already loaded, just use it\n",
       "   display_root_plot_1646037869778(JSROOT);\n",
       "\n",
       "} else {\n",
       "\n",
       "    // We are in jupyterlab without require.js, directly loading jsroot\n",
       "    // Jupyterlab might be installed in a different base_url so we need to know it.\n",
       "    try {\n",
       "        var base_url = JSON.parse(document.getElementById('jupyter-config-data').innerHTML).baseUrl;\n",
       "    } catch(_) {\n",
       "        var base_url = '/';\n",
       "    }\n",
       "\n",
       "    // Try loading a local version of requirejs and fallback to cdn if not possible.\n",
       "    script_load_root_plot_1646037869778(base_url + 'static/scripts/JSRoot.core.js', function(){\n",
       "        console.error('Fail to load JSROOT locally, please check your jupyter_notebook_config.py file');\n",
       "        script_load_root_plot_1646037869778('https://root.cern/js/6.1.1/scripts/JSRoot.core.min.js', function(){\n",
       "            document.getElementById(\"root_plot_1646037869778\").innerHTML = \"Failed to load JSROOT\";\n",
       "        });\n",
       "    });\n",
       "}\n",
       "\n",
       "</script>\n"
      ],
      "text/plain": [
       "<IPython.core.display.HTML object>"
      ]
     },
     "metadata": {},
     "output_type": "display_data"
    }
   ],
   "source": [
    "nEvents=10000\n",
    "pythia = ROOT.TPythia8(False) #False - disables banner\n",
    "makePythiaSilent(pythia)\n",
    "pythia.ReadString(\"WeakSingleBoson:ffbar2gmZ = on\")\n",
    "pythia.ReadString(\"23:onMode = off\")\n",
    "pythia.ReadString(\"23:onIfAny = 11\")\n",
    "pythia.ReadString(\"HadronLevel:all = off\")\n",
    "pythia.ReadString(\"PhaseSpace:mHatMin = 70.\")\n",
    "pythia.ReadString(\"PhaseSpace:mHatMax = 110.\")\n",
    "pythia.ReadString(\"Random:setSeed = on\")\n",
    "pythia.ReadString(\"Random:seed = 0\")\n",
    "pythia.Initialize(2212 , -2212 , 630);\n",
    "particles = ROOT.TClonesArray(\"TParticle\", 1000) #prepare space for generated particles\n",
    "\n",
    "def getZCandidates(parts):\n",
    "    ep = [p for p in parts if isFinal(p,\"e+\")]\n",
    "    em = [p for p in parts if isFinal(p,\"e-\")]\n",
    "    return list(it.product(ep,em))\n",
    "\n",
    "h_rad=ROOT.TH1D(\"h_rad\",\"\",200,70,110)\n",
    "h_norad=ROOT.TH1D(\"h_norad\",\"\",200,70,110)\n",
    "h_pt=ROOT.TH1D(\"h_ptz\",\"\",100,0,50)\n",
    "h_eta=ROOT.TH1D(\"h_etaz\",\"\",100,-10,10)\n",
    "\n",
    "\n",
    "for i in range(nEvents):\n",
    "    pythia.GenerateEvent()\n",
    "    pythia.ImportParticles(particles,\"All\")\n",
    "    for pair in getZCandidates(particles):\n",
    "        h_rad.Fill(getMinv(pair))\n",
    "    pt=0\n",
    "    eta=0\n",
    "    for p in particles:\n",
    "        if p.GetName()==\"Z0\":\n",
    "            pt=p.Pt()\n",
    "            eta=p.Eta()\n",
    "    h_pt.Fill(pt)\n",
    "    h_eta.Fill(eta)\n",
    "\n",
    "pythia = ROOT.TPythia8(False)\n",
    "makePythiaSilent(pythia)\n",
    "pythia.ReadString(\"WeakSingleBoson:ffbar2gmZ = on\")\n",
    "pythia.ReadString(\"23:onMode = off\")\n",
    "pythia.ReadString(\"23:onIfAny = 11\")\n",
    "pythia.ReadString(\"HadronLevel:all = off\")\n",
    "pythia.ReadString(\"PhaseSpace:mHatMin = 70.\")\n",
    "pythia.ReadString(\"PhaseSpace:mHatMax = 110.\")\n",
    "pythia.ReadString(\"PartonLevel:FSR = off\")\n",
    "pythia.ReadString(\"Random:setSeed = on\")\n",
    "pythia.ReadString(\"Random:seed = 0\")\n",
    "pythia.Initialize(2212 , -2212 , 630);\n",
    "\n",
    "for i in range(nEvents):\n",
    "    pythia.GenerateEvent()\n",
    "    pythia.ImportParticles(particles,\"All\")\n",
    "    for pair in getZCandidates(particles):\n",
    "        h_norad.Fill(getMinv(pair))\n",
    "\n",
    "c_z = ROOT.TCanvas(\"cz\",\"\",1600,1200)\n",
    "c_z.Divide(2,2)\n",
    "c_z.cd(1)\n",
    "\n",
    "h_rad.Scale(1./(h_rad.GetMaximum()))\n",
    "h_norad.Scale(1./(h_norad.GetMaximum()))\n",
    "\n",
    "h_norad.SetLineColor(ROOT.kRed)\n",
    "h_norad.SetLineWidth(2)\n",
    "h_rad.SetLineWidth(2)\n",
    "h_norad.GetXaxis().SetTitle(\"M_{e^{+}e^{-}}\")\n",
    "h_norad.GetXaxis().SetTitleOffset(1.4)\n",
    "h_norad.GetYaxis().SetTitle(\"entries\")\n",
    "h_norad.Draw(\"hist\")\n",
    "h_rad.Draw(\"same hist\")\n",
    "leg=ROOT.TLegend(0.7,0.8,0.9,0.9)\n",
    "leg.AddEntry(h_norad,\"FSR OFF\")\n",
    "leg.AddEntry(h_rad,\"FSR ON\")\n",
    "leg.Draw()\n",
    "\n",
    "h_pt.SetMarkerStyle(ROOT.kFullCircle)\n",
    "h_pt.SetMarkerColor(ROOT.kBlue)\n",
    "h_pt.GetXaxis().SetTitle(\"p_{T} [GeV/c]\")\n",
    "h_pt.GetYaxis().SetTitle(\"#frac{dN}{dp_{T}} [GeV/c]^{-1}\")\n",
    "h_pt.GetXaxis().SetTitleOffset(1.5)\n",
    "h_pt.GetYaxis().SetTitleSize(15)\n",
    "bw=h_pt.GetBinWidth(1)\n",
    "h_pt.Scale(1./(bw*nEvents))\n",
    "\n",
    "h_eta.SetMarkerStyle(ROOT.kFullCircle)\n",
    "h_eta.SetMarkerColor(ROOT.kBlue)\n",
    "h_eta.GetXaxis().SetTitle(\"#eta\")\n",
    "h_eta.GetYaxis().SetTitle(\"#frac{dN}{d#eta}\")\n",
    "h_eta.GetYaxis().SetTitleSize(15)\n",
    "bw=h_eta.GetBinWidth(1)\n",
    "h_eta.Scale(1./(bw*nEvents))\n",
    "\n",
    "c_z.cd(3)\n",
    "h_eta.Draw()\n",
    "c_z.cd(4)\n",
    "h_pt.Draw()\n",
    "c_z.Draw()\n",
    "\n",
    "\n",
    "dnz=ctypes.c_double()\n",
    "nz=h_pt.IntegralAndError(0,-1,dnz,\"width\")\n",
    "\n",
    "print(\"Mean number of Z bosons per event: <N_Z>={:.3f} +/- {:.3f}\".format(nz,dnz.value))"
   ]
  },
  {
   "cell_type": "code",
   "execution_count": 18,
   "metadata": {},
   "outputs": [
    {
     "name": "stdout",
     "output_type": "stream",
     "text": [
      " *** TDatabasePDG::AddParticle: particle with PDGcode=90 already defined\n",
      " *** TDatabasePDG::AddParticle: particle with PDGcode=9900110 already defined\n",
      " *** TDatabasePDG::AddParticle: particle with PDGcode=9900210 already defined\n",
      " *** TDatabasePDG::AddParticle: particle with PDGcode=9900220 already defined\n",
      " *** TDatabasePDG::AddParticle: particle with PDGcode=9900330 already defined\n",
      " *** TDatabasePDG::AddParticle: particle with PDGcode=9900440 already defined\n",
      " *** TDatabasePDG::AddParticle: particle with PDGcode=9902110 already defined\n",
      " *** TDatabasePDG::AddParticle: particle with PDGcode=9902210 already defined\n",
      " PYTHIA Warning in MultipartonInteractions::init: maximum increased by factor 1.046\n"
     ]
    }
   ],
   "source": [
    "nEvents=10000\n",
    "pythia = ROOT.TPythia8(False)                       # false to suppress banner\n",
    "makePythiaSilent(pythia)                            # suppress most of pythia console output\n",
    "pythia.ReadString(\"WeakSingleBoson:ffbar2gmZ = on\") # select desired hard process\n",
    "pythia.ReadString(\"23:onMode = off\")                # disable all Z decay channels\n",
    "pythia.ReadString(\"23:onIfAny = 11\")                # enable Z decays to electrons\n",
    "pythia.ReadString(\"HadronLevel:all = off\")          # disable hadronisation\n",
    "pythia.ReadString(\"PhaseSpace:mHatMin = 70.\")       # lower phase space limit\n",
    "pythia.ReadString(\"PhaseSpace:mHatMax = 110.\")      # upper phase space limit\n",
    "pythia.ReadString(\"PartonLevel:FSR = on\")           # turn Final State Radiation on (note: it is on by default)\n",
    "pythia.ReadString(\"Random:setSeed = on\")            # random seed setup \n",
    "pythia.ReadString(\"Random:seed = 0\")                # random seed setup\n",
    "pythia.Initialize(2212 , -2212 , 630)               # initialize pythia\n",
    "particles = ROOT.TClonesArray(\"TParticle\", 1000)    # prepare space for generated particles\n",
    "\n",
    "#your solution goes here"
   ]
  }
 ],
 "metadata": {
  "kernelspec": {
   "display_name": "Python 3",
   "language": "python",
   "name": "python3"
  },
  "language_info": {
   "codemirror_mode": {
    "name": "ipython",
    "version": 3
   },
   "file_extension": ".py",
   "mimetype": "text/x-python",
   "name": "python",
   "nbconvert_exporter": "python",
   "pygments_lexer": "ipython3",
   "version": "3.9.7"
  }
 },
 "nbformat": 4,
 "nbformat_minor": 4
}
