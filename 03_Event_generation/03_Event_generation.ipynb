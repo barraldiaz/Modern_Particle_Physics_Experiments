{
 "cells": [
  {
   "cell_type": "markdown",
   "metadata": {},
   "source": [
    "# Event generation\n",
    "Auhtor: Piotr Podlaski"
   ]
  },
  {
   "cell_type": "markdown",
   "metadata": {
    "tags": []
   },
   "source": [
    "## Load ROOT and necessary python packages"
   ]
  },
  {
   "cell_type": "code",
   "execution_count": 1,
   "metadata": {},
   "outputs": [
    {
     "name": "stdout",
     "output_type": "stream",
     "text": [
      "Welcome to JupyROOT 6.24/04\n"
     ]
    }
   ],
   "source": [
    "import ROOT\n",
    "import os, sys, subprocess, time\n",
    "import py8settings as py8s\n",
    "from py8settings import PDF\n",
    "import itertools as it\n",
    "import ctypes\n",
    "\n",
    "%jsroot on"
   ]
  },
  {
   "cell_type": "markdown",
   "metadata": {},
   "source": [
    "## Compile pythia example code necessary to display events in graphical form"
   ]
  },
  {
   "cell_type": "code",
   "execution_count": 2,
   "metadata": {
    "tags": []
   },
   "outputs": [
    {
     "name": "stdout",
     "output_type": "stream",
     "text": [
      "make: 'main300' is up to date.\n",
      "/scratch_hdd/akalinow/Zajecia/2022-2023/Lato/Modern_Particle_Physics_Experiments/Modern_Particle_Physics_Experiments/03_Event_generation\n"
     ]
    }
   ],
   "source": [
    "!cd pythia-examples; make main300; cd -"
   ]
  },
  {
   "cell_type": "markdown",
   "metadata": {},
   "source": [
    "## Play with Pythia8 settings and view events"
   ]
  },
  {
   "cell_type": "code",
   "execution_count": 3,
   "metadata": {},
   "outputs": [
    {
     "name": "stdout",
     "output_type": "stream",
     "text": [
      "You can now set the parameters for the incoming beams:\n"
     ]
    },
    {
     "data": {
      "application/vnd.jupyter.widget-view+json": {
       "model_id": "d694cea1d4cf452ebf60109e98cb3e1b",
       "version_major": 2,
       "version_minor": 0
      },
      "text/plain": [
       "interactive(children=(Dropdown(description='beam A id  [Beams:idA]', index=9, layout=Layout(width='750px'), op…"
      ]
     },
     "metadata": {},
     "output_type": "display_data"
    }
   ],
   "source": [
    "cmnd_file = \"settings.cmnd\"\n",
    "\n",
    "#we start fresh\n",
    "if os.path.exists(cmnd_file):\n",
    "    os.remove(cmnd_file)\n",
    "os.system(\"touch \"+cmnd_file)\n",
    "\n",
    "#beam settings:\n",
    "py8s.beam_settings(cmnd_file)"
   ]
  },
  {
   "cell_type": "code",
   "execution_count": 4,
   "metadata": {},
   "outputs": [
    {
     "name": "stdout",
     "output_type": "stream",
     "text": [
      "You can now select the number of events, settings for the random seed, and processes:\n"
     ]
    },
    {
     "data": {
      "application/vnd.jupyter.widget-view+json": {
       "model_id": "19d22aa11e5c4af48bd8cc6b6d169622",
       "version_major": 2,
       "version_minor": 0
      },
      "text/plain": [
       "interactive(children=(IntText(value=100, description='# of events  [Main:numberOfEvents]', layout=Layout(width…"
      ]
     },
     "metadata": {},
     "output_type": "display_data"
    }
   ],
   "source": [
    "py8s.basic_settings(cmnd_file)"
   ]
  },
  {
   "cell_type": "code",
   "execution_count": 5,
   "metadata": {},
   "outputs": [
    {
     "name": "stdout",
     "output_type": "stream",
     "text": [
      "You can switch on/off different parts of the simulation:\n"
     ]
    },
    {
     "data": {
      "application/vnd.jupyter.widget-view+json": {
       "model_id": "3b85920f3aeb4f85a7acdffbb34d3669",
       "version_major": 2,
       "version_minor": 0
      },
      "text/plain": [
       "interactive(children=(Checkbox(value=True, description='multi-parton interactions  [PartonLevel:MPI]', layout=…"
      ]
     },
     "metadata": {},
     "output_type": "display_data"
    }
   ],
   "source": [
    "py8s.onoff_settings(cmnd_file)"
   ]
  },
  {
   "cell_type": "code",
   "execution_count": 6,
   "metadata": {},
   "outputs": [
    {
     "name": "stdout",
     "output_type": "stream",
     "text": [
      "You can now select the phase-space cuts for 2 final-state particles:\n"
     ]
    },
    {
     "data": {
      "application/vnd.jupyter.widget-view+json": {
       "model_id": "beef1b6122f84cf986168649e00a112b",
       "version_major": 2,
       "version_minor": 0
      },
      "text/plain": [
       "interactive(children=(FloatText(value=4.0, description='minimum invariant mass in GeV  [PhaseSpace:mHatMin]', …"
      ]
     },
     "metadata": {},
     "output_type": "display_data"
    }
   ],
   "source": [
    "# Write settings for phase-space cuts to file.\n",
    "py8s.pscuts_settings(cmnd_file, 2)"
   ]
  },
  {
   "cell_type": "code",
   "execution_count": 7,
   "metadata": {},
   "outputs": [
    {
     "name": "stdout",
     "output_type": "stream",
     "text": [
      "You can now set the main shower parameters:\n"
     ]
    },
    {
     "data": {
      "application/vnd.jupyter.widget-view+json": {
       "model_id": "dbb50da59dd04caeb7928911f15e9188",
       "version_major": 2,
       "version_minor": 0
      },
      "text/plain": [
       "interactive(children=(FloatText(value=0.1365, description='alphaS(m_Z) for final-state shower (0.06 - 0.25)  […"
      ]
     },
     "metadata": {},
     "output_type": "display_data"
    }
   ],
   "source": [
    "# Write settings for phase-space cuts to file.\n",
    "py8s.shower_settings(cmnd_file)"
   ]
  },
  {
   "cell_type": "code",
   "execution_count": 7,
   "metadata": {},
   "outputs": [],
   "source": [
    "# Write additional settings if needed.\n",
    "#py8s.more_settings(cmnd_file, [\"23:onMode = off\", \"23:onIfAny = 13\"])"
   ]
  },
  {
   "cell_type": "code",
   "execution_count": 3,
   "metadata": {
    "tags": []
   },
   "outputs": [
    {
     "ename": "NameError",
     "evalue": "name 'cmnd_file' is not defined",
     "output_type": "error",
     "traceback": [
      "\u001b[0;31m---------------------------------------------------------------------------\u001b[0m",
      "\u001b[0;31mNameError\u001b[0m                                 Traceback (most recent call last)",
      "\u001b[0;32m<ipython-input-3-52894d588f10>\u001b[0m in \u001b[0;36m<module>\u001b[0;34m\u001b[0m\n\u001b[1;32m      1\u001b[0m \u001b[0;31m# Start pythia+dire.\u001b[0m\u001b[0;34m\u001b[0m\u001b[0;34m\u001b[0m\u001b[0m\n\u001b[0;32m----> 2\u001b[0;31m \u001b[0mcommand\u001b[0m \u001b[0;34m=\u001b[0m \u001b[0;34m\"./pythia-examples/main300 --visualize_event --input \"\u001b[0m\u001b[0;34m+\u001b[0m\u001b[0mcmnd_file\u001b[0m  \u001b[0;31m#+ \">> /dev/null\"\u001b[0m\u001b[0;34m\u001b[0m\u001b[0;34m\u001b[0m\u001b[0m\n\u001b[0m\u001b[1;32m      3\u001b[0m \u001b[0msubprocess\u001b[0m\u001b[0;34m.\u001b[0m\u001b[0mcall\u001b[0m\u001b[0;34m(\u001b[0m\u001b[0;34m[\u001b[0m\u001b[0;34m\"bash\"\u001b[0m\u001b[0;34m,\u001b[0m\u001b[0;34m\"-c\"\u001b[0m\u001b[0;34m,\u001b[0m\u001b[0mcommand\u001b[0m\u001b[0;34m]\u001b[0m\u001b[0;34m)\u001b[0m\u001b[0;34m;\u001b[0m\u001b[0;34m\u001b[0m\u001b[0;34m\u001b[0m\u001b[0m\n",
      "\u001b[0;31mNameError\u001b[0m: name 'cmnd_file' is not defined"
     ]
    }
   ],
   "source": [
    "# Start pythia+dire.\n",
    "command = \"./pythia-examples/main300 --visualize_event --input \"+cmnd_file  #+ \">> /dev/null\"\n",
    "subprocess.call([\"bash\",\"-c\",command]);"
   ]
  },
  {
   "cell_type": "code",
   "execution_count": 24,
   "metadata": {},
   "outputs": [
    {
     "data": {
      "text/html": [
       "<iframe src=event-settings.cmnd.pdf width=1280 height=1024></iframe>"
      ],
      "text/latex": [
       "\\includegraphics[width=1.0\\textwidth]{event-settings.cmnd.pdf}"
      ],
      "text/plain": [
       "<py8settings.PDF at 0x7f279c656790>"
      ]
     },
     "execution_count": 24,
     "metadata": {},
     "output_type": "execute_result"
    }
   ],
   "source": [
    "subprocess.call([\"bash\",\"-c\",\"dot -Tpdf event-\"+cmnd_file+\".dot -o event-\"+cmnd_file+\".pdf\"])\n",
    "PDF(\"event-\"+cmnd_file+\".pdf\",size=(1280,1024))"
   ]
  },
  {
   "cell_type": "markdown",
   "metadata": {},
   "source": [
    "# Run Pythia8 from ROOT interface"
   ]
  },
  {
   "cell_type": "markdown",
   "metadata": {},
   "source": [
    "First we prepare and initialize basic pythia configuration for generation of $p+p$ events at 14 TeV:\n",
    " * define helper function to suppress pythia messages\n",
    " * create `TPythia8` object\n",
    " * use `HardQCD:all` physics processes\n",
    " * set random seed to 42 (dummy number)\n",
    " * initialize pythia to simulate $p+p$ collisions at 14 TeV"
   ]
  },
  {
   "cell_type": "code",
   "execution_count": 4,
   "metadata": {
    "tags": []
   },
   "outputs": [
    {
     "name": "stdout",
     "output_type": "stream",
     "text": [
      " PYTHIA Warning in PhaseSpace2to2tauyz::trialKin: maximum for cross section violated  \n"
     ]
    }
   ],
   "source": [
    "def makePythiaSilent(pythia):\n",
    "    pythia.ReadString(\"Init:showMultipartonInteractions = off\")\n",
    "    pythia.ReadString(\"Init:showChangedParticleData = off\")\n",
    "    pythia.ReadString(\"Init:showProcesses = off\")\n",
    "    pythia.ReadString(\"Init:showChangedSettings = off\")\n",
    "    pythia.ReadString(\"Next:numberShowInfo = 0\")\n",
    "    pythia.ReadString(\"Next:numberShowProcess = 0\")\n",
    "    pythia.ReadString(\"Next:numberShowEvent = 0\")\n",
    "    pythia.ReadString(\"Next:numberCount = 0\")\n",
    "\n",
    "pythia = ROOT.TPythia8(False)\n",
    "makePythiaSilent(pythia)\n",
    "pythia.ReadString(\"HardQCD:all = on\")\n",
    "pythia.ReadString(\"Random:setSeed = on\")\n",
    "pythia.ReadString(\"Random:seed = 0\") # to ro randomize seed\n",
    "pythia.Initialize(2212 , 2212 , 14000)\n",
    "particles = ROOT.TClonesArray(\"TParticle\", 1000) #prepare space for generated particles"
   ]
  },
  {
   "cell_type": "markdown",
   "metadata": {},
   "source": [
    "To see how does it work we generate a single event and take a look at particle listings:"
   ]
  },
  {
   "cell_type": "code",
   "execution_count": 5,
   "metadata": {
    "tags": []
   },
   "outputs": [
    {
     "name": "stdout",
     "output_type": "stream",
     "text": [
      "\n",
      " --------  PYTHIA Event Listing  (complete event)  ---------------------------------------------------------------------------------\n",
      " \n",
      "    no         id  name            status     mothers   daughters     colours      p_x        p_y        p_z         e          m \n",
      "     0         90  (system)           -11     0     0     0     0     0     0      0.000      0.000      0.000  14000.000  14000.000\n",
      "     1       2212  (p+)               -12     0     0    27     0     0     0      0.000      0.000   7000.000   7000.000      0.938\n",
      "     2       2212  (p+)               -12     0     0    28     0     0     0      0.000      0.000  -7000.000   7000.000      0.938\n",
      "     3         21  (g)                -21     7     0     5     6   101   102      0.000      0.000    564.498    564.498      0.000\n",
      "     4         21  (g)                -21     8     8     5     6   103   101      0.000      0.000     -0.013      0.013      0.000\n",
      "     5         21  (g)                -23     3     4     9     9   103   104      0.529     -2.041    105.369    105.390      0.000\n",
      "     6         21  (g)                -23     3     4    10    10   104   102     -0.529      2.041    459.116    459.121      0.000\n",
      "     7         21  (g)                -41    27    27    11     3   101   105      0.000     -0.000   1069.868   1069.868      0.000\n",
      "     8         21  (g)                -42    17    17     4     4   103   101      0.000      0.000     -0.013      0.013      0.000\n",
      "     9         21  (g)                -44     5     5    14    14   103   104      0.381     -1.907    115.054    115.070      0.000\n",
      "    10         21  (g)                -44     6     6    12    13   104   102     -1.171      2.626    501.302    501.310      0.000\n",
      "    11         21  (g)                -43     7     0    23    23   102   105      0.790     -0.718    453.499    453.500      0.000\n",
      "    12         21  (g)                -51    10     0    21    22   106   102      0.341      1.267    321.606    321.609      0.000\n",
      "    13         21  (g)                -51    10     0    20    20   104   106     -1.452      1.058    197.839    197.848      0.000\n",
      "    14         21  (g)                -52     9     9    15    16   103   104      0.321     -1.606     96.910     96.924      0.000\n",
      "    15         21  (g)                -51    14     0    18    19   107   104     -0.060     -1.488     53.193     53.214      0.000\n",
      "    16         21  (g)                -51    14     0    33    33   103   107      0.381     -0.119     43.713     43.715      0.000\n",
      "    17         21  (g)                -53    28    28     8     8   103   101      0.000      0.000     -0.017      0.017      0.000\n",
      "    18         21  (g)                -51    15     0    29    29   107   108      0.409     -0.682     21.643     21.658      0.000\n",
      "    19         21  (g)                -51    15     0    34    34   108   104     -0.677     -0.655     59.823     59.831      0.000\n",
      "    20         21  (g)                -52    13    13    32    32   104   106     -1.245      0.907    169.566    169.573      0.000\n",
      "    21         21  (g)                -51    12     0    24    25   106   109      0.416      1.309    384.237    384.240      0.000\n",
      "    22         21  (g)                -51    12     0    26    26   109   102      0.203     -0.296     97.125     97.125      0.000\n",
      "    23         21  (g)                -52    11    11    31    31   102   105      0.512     -0.465    293.743    293.744      0.000\n",
      "    24         21  (g)                -51    21     0    30    30   106   110      0.284      0.850    150.196    150.198      0.000\n",
      "    25         21  (g)                -51    21     0    36    36   110   109      0.271      0.257    300.254    300.254      0.000\n",
      "    26         21  (g)                -52    22    22    35    35   109   102      0.065     -0.094     30.913     30.913      0.000\n",
      "    27         21  (g)                -61     1     0     7     7   101   105     -0.485     -0.470   1060.576   1060.576      0.000\n",
      "    28         21  (g)                -61     2     0    17    17   103   101     -0.249      0.994     15.114     15.148      0.000\n",
      "    29         21  (g)                -62    18    18    63    63   107   108      0.304     -0.264      5.513      5.528      0.000\n",
      "    30         21  (g)                -62    24    24    60    60   106   110      0.186      0.851    172.378    172.380      0.000\n",
      "    31         21  (g)                -62    23    23    41     0   102   105      0.381     -0.564    274.721    274.722      0.000\n",
      "    32         21  (g)                -62    20    20    61    61   104   106     -1.388      1.017    205.638    205.645      0.000\n",
      "    33         21  (g)                -62    16    16    64    64   103   107      0.351     -0.083     38.104     38.106      0.000\n",
      "    34         21  (g)                -62    19    19    62    62   108   104     -0.750     -0.463     48.509     48.517      0.000\n",
      "    35         21  (g)                -62    26    26    41     0   109   102      0.051     -0.100     27.602     27.603      0.000\n",
      "    36         21  (g)                -62    25    25    59    59   110   109      0.131      0.130    303.224    303.224      0.000\n",
      "    37       2203  (uu_1)             -63     1     0    43    43     0   101      0.355     -0.220   5467.284   5467.284      0.771\n",
      "    38          1  (d)                -63     1     0    57    57   105     0      0.130      0.691    456.938    456.938      0.330\n",
      "    39          2  (u)                -63     2     0    42    42   101     0     -0.200     -0.568     -1.586      1.728      0.330\n",
      "    40       2101  (ud_0)             -63     2     0    65    65     0   103      0.449     -0.427  -6998.325   6998.326      0.579\n",
      "    41         21  (g)                -73    31    35    58    58   109   105      0.431     -0.664    302.323    302.324      0.143\n",
      "    42          2  (u)                -71    39    39    44    56   101     0     -0.200     -0.568     -1.586      1.728      0.330\n",
      "    43       2203  (uu_1)             -71    37    37    44    56     0   101      0.355     -0.220   5467.284   5467.284      0.771\n",
      "    44        223  (omega)            -83    42    43   124   126     0     0      0.231     -0.506      0.073      0.955      0.773\n",
      "    45        323  (K*+)              -83    42    43    94    95     0     0     -0.750      0.103      0.778      1.420      0.916\n",
      "    46       -311  (Kbar0)            -83    42    43    96    96     0     0      0.029     -0.364     -0.678      0.917      0.498\n",
      "    47       -213  (rho-)             -83    42    43    97    98     0     0      0.018     -0.152     11.724     11.747      0.725\n",
      "    48        321  K+                  83    42    43     0     0     0     0      0.250      0.240      1.615      1.724      0.494\n",
      "    49       -313  (K*bar0)           -84    42    43    99   100     0     0     -0.016      0.343      9.549      9.598      0.903\n",
      "    50       -211  pi-                 84    42    43     0     0     0     0     -0.046     -0.200      8.373      8.376      0.140\n",
      "    51        211  pi+                 84    42    43     0     0     0     0     -0.314      0.410     39.710     39.714      0.140\n",
      "    52        223  (omega)            -84    42    43   127   129     0     0      0.380     -0.563    365.056    365.057      0.791\n",
      "    53        221  (eta)              -84    42    43   130   132     0     0     -0.174     -0.247     61.970     61.973      0.548\n",
      "    54       -211  pi-                 84    42    43     0     0     0     0     -0.074      0.120    306.364    306.364      0.140\n",
      "    55       3222  (Sigma+)           -84    42    43   133   134     0     0      0.130     -0.070   2087.539   2087.540      1.189\n",
      "    56        323  (K*+)              -84    42    43   101   102     0     0      0.490      0.098   2573.626   2573.626      0.861\n",
      "    57          1  (d)                -71    38    38    66    93   105     0      0.130      0.691    456.938    456.938      0.330\n",
      "    58         21  (g)                -71    41    41    66    93   109   105      0.431     -0.664    302.323    302.324      0.143\n",
      "    59         21  (g)                -71    36    36    66    93   110   109      0.131      0.130    303.224    303.224      0.000\n",
      "    60         21  (g)                -71    30    30    66    93   106   110      0.186      0.851    172.378    172.380      0.000\n",
      "    61         21  (g)                -71    32    32    66    93   104   106     -1.388      1.017    205.638    205.645      0.000\n",
      "    62         21  (g)                -71    34    34    66    93   108   104     -0.750     -0.463     48.509     48.517      0.000\n",
      "    63         21  (g)                -71    29    29    66    93   107   108      0.304     -0.264      5.513      5.528      0.000\n",
      "    64         21  (g)                -71    33    33    66    93   103   107      0.351     -0.083     38.104     38.106      0.000\n",
      "    65       2101  (ud_0)             -71    40    40    66    93     0   103      0.449     -0.427  -6998.325   6998.326      0.579\n",
      "    66       -213  (rho-)             -83    57    65   103   104     0     0      0.341      0.315    682.502    682.503      1.045\n",
      "    67        213  (rho+)             -83    57    65   105   106     0     0     -0.171     -0.307    108.156    108.160      0.792\n",
      "    68       -211  pi-                 83    57    65     0     0     0     0     -0.093      0.708    398.634    398.635      0.140\n",
      "    69        211  pi+                 83    57    65     0     0     0     0      0.149      0.082    100.311    100.311      0.140\n",
      "    70        313  (K*0)              -83    57    65   107   108     0     0     -0.675      0.210     56.668     56.680      0.953\n",
      "    71       -311  (Kbar0)            -83    57    65   109   109     0     0      0.072      0.264     95.810     95.812      0.498\n",
      "    72       -211  pi-                 83    57    65     0     0     0     0     -0.445      0.543     39.871     39.877      0.140\n",
      "    73        321  K+                  83    57    65     0     0     0     0      0.131     -0.582     19.399     19.415      0.494\n",
      "    74       -323  (K*-)              -83    57    65   110   111     0     0     -0.231      0.039     11.721     11.759      0.913\n",
      "    75        113  (rho0)             -83    57    65   112   113     0     0      0.832      0.111     11.083     11.154      0.936\n",
      "    76        321  K+                  83    57    65     0     0     0     0     -0.592     -0.482      4.975      5.057      0.494\n",
      "    77       -321  K-                  83    57    65     0     0     0     0     -0.017      0.098      1.441      1.526      0.494\n",
      "    78        211  pi+                 83    57    65     0     0     0     0      0.095      0.372      0.691      0.803      0.140\n",
      "    79        111  (pi0)              -83    57    65   135   136     0     0     -0.104      0.067     -1.019      1.035      0.135\n",
      "    80       -211  pi-                 83    57    65     0     0     0     0     -0.184     -0.049      0.689      0.729      0.140\n",
      "    81       2212  p+                  84    57    65     0     0     0     0      0.355      0.162     -1.025      1.443      0.938\n",
      "    82        221  (eta)              -84    57    65   137   139     0     0      0.412     -0.461     -3.341      3.442      0.548\n",
      "    83      -2212  pbar-               84    57    65     0     0     0     0     -0.302      0.088     -3.794      3.921      0.938\n",
      "    84        321  K+                  84    57    65     0     0     0     0      0.168     -0.290     -1.232      1.369      0.494\n",
      "    85       3122  (Lambda0)          -84    57    65   140   141     0     0     -0.341      0.242     -7.759      7.850      1.116\n",
      "    86      -2212  pbar-               84    57    65     0     0     0     0     -0.517      0.127    -34.507     34.524      0.938\n",
      "    87        213  (rho+)             -84    57    65   114   115     0     0      0.681     -0.184   -130.517    130.520      0.571\n",
      "    88        113  (rho0)             -84    57    65   116   117     0     0      0.001     -0.333   -160.082    160.084      0.828\n",
      "    89       -211  pi-                 84    57    65     0     0     0     0     -0.033      0.682   -122.030    122.032      0.140\n",
      "    90        113  (rho0)             -84    57    65   118   119     0     0     -0.062     -0.455  -1009.110   1009.110      0.778\n",
      "    91        111  (pi0)              -84    57    65   142   143     0     0     -0.185      0.491   -101.639    101.640      0.135\n",
      "    92       2114  (Delta0)           -84    57    65   120   121     0     0      0.523     -0.333  -4574.311   4574.311      1.324\n",
      "    93        211  pi+                 84    57    65     0     0     0     0      0.038     -0.335   -847.285    847.285      0.140\n",
      "    94        321  K+                  91    45     0     0     0     0     0     -0.712     -0.164      0.520      1.024      0.494\n",
      "    95        111  (pi0)              -91    45     0   144   145     0     0     -0.038      0.267      0.258      0.397      0.135\n",
      "    96        310  (K_S0)             -91    46    46   146   147     0     0      0.029     -0.364     -0.678      0.917      0.498\n",
      "    97       -211  pi-                 91    47     0     0     0     0     0     -0.163     -0.321      4.096      4.115      0.140\n",
      "    98        111  (pi0)              -91    47     0   148   149     0     0      0.181      0.169      7.627      7.633      0.135\n",
      "    99       -321  K-                  91    49     0     0     0     0     0      0.249      0.290      5.042      5.081      0.494\n",
      "   100        211  pi+                 91    49     0     0     0     0     0     -0.265      0.053      4.507      4.517      0.140\n",
      "   101        311  (K0)               -91    56     0   122   122     0     0      0.343     -0.195   1756.889   1756.889      0.498\n",
      "   102        211  pi+                 91    56     0     0     0     0     0      0.147      0.294    816.738    816.738      0.140\n",
      "   103       -211  pi-                 91    66     0     0     0     0     0      0.337      0.301    670.864    670.864      0.140\n",
      "   104        111  (pi0)              -91    66     0   150   151     0     0      0.004      0.014     11.638     11.639      0.135\n",
      "   105        211  pi+                 91    67     0     0     0     0     0      0.101     -0.093      6.854      6.857      0.140\n",
      "   106        111  (pi0)              -91    67     0   152   153     0     0     -0.271     -0.215    101.302    101.303      0.135\n",
      "   107        311  (K0)               -91    70     0   123   123     0     0     -0.479     -0.176     39.542     39.548      0.498\n",
      "   108        111  (pi0)              -91    70     0   154   155     0     0     -0.196      0.386     17.126     17.132      0.135\n",
      "   109        310  (K_S0)             -91    71    71   156   157     0     0      0.072      0.264     95.810     95.812      0.498\n",
      "   110       -321  K-                  91    74     0     0     0     0     0     -0.053      0.237      9.727      9.742      0.494\n",
      "   111        111  (pi0)              -91    74     0   158   159     0     0     -0.178     -0.199      1.994      2.016      0.135\n",
      "   112        211  pi+                 91    75     0     0     0     0     0      0.545      0.185     10.111     10.128      0.140\n",
      "   113       -211  pi-                 91    75     0     0     0     0     0      0.287     -0.074      0.972      1.026      0.140\n",
      "   114        211  pi+                 91    87     0     0     0     0     0      0.414     -0.153    -40.360     40.362      0.140\n",
      "   115        111  (pi0)              -91    87     0   160   161     0     0      0.267     -0.030    -90.157     90.158      0.135\n",
      "   116        211  pi+                 91    88     0     0     0     0     0      0.387     -0.200    -75.824     75.825      0.140\n",
      "   117       -211  pi-                 91    88     0     0     0     0     0     -0.386     -0.133    -84.258     84.259      0.140\n",
      "   118        211  pi+                 91    90     0     0     0     0     0     -0.312     -0.506   -715.413    715.414      0.140\n",
      "   119       -211  pi-                 91    90     0     0     0     0     0      0.250      0.051   -293.696    293.697      0.140\n",
      "   120       2112  n0                  91    92     0     0     0     0     0      0.097     -0.354  -2966.231   2966.231      0.940\n",
      "   121        111  (pi0)              -91    92     0   162   163     0     0      0.426      0.021  -1608.080   1608.080      0.135\n",
      "   122        310  (K_S0)             -91   101   101   164   165     0     0      0.343     -0.195   1756.889   1756.889      0.498\n",
      "   123        130  K_L0                91   107   107     0     0     0     0     -0.479     -0.176     39.542     39.548      0.498\n",
      "   124        211  pi+                 91    44     0     0     0     0     0      0.192     -0.023     -0.107      0.261      0.140\n",
      "   125       -211  pi-                 91    44     0     0     0     0     0     -0.112     -0.043      0.031      0.187      0.140\n",
      "   126        111  (pi0)              -91    44     0   166   167     0     0      0.151     -0.441      0.149      0.507      0.135\n",
      "   127        211  pi+                 91    52     0     0     0     0     0     -0.068     -0.328     93.808     93.809      0.140\n",
      "   128       -211  pi-                 91    52     0     0     0     0     0      0.073     -0.166    133.199    133.199      0.140\n",
      "   129        111  (pi0)              -91    52     0   168   169     0     0      0.375     -0.069    138.049    138.049      0.135\n",
      "   130        211  pi+                 91    53     0     0     0     0     0     -0.124     -0.140     25.798     25.800      0.140\n",
      "   131       -211  pi-                 91    53     0     0     0     0     0     -0.115     -0.013     25.361     25.361      0.140\n",
      "   132        111  (pi0)              -91    53     0   170   171     0     0      0.066     -0.094     10.811     10.812      0.135\n",
      "   133       2212  p+                  91    55     0     0     0     0     0      0.218     -0.209   1733.078   1733.078      0.938\n",
      "   134        111  (pi0)              -91    55     0   172   173     0     0     -0.088      0.139    354.462    354.462      0.135\n",
      "   135         22  gamma               91    79     0     0     0     0     0     -0.052      0.012     -0.828      0.829      0.000\n",
      "   136         22  gamma               91    79     0     0     0     0     0     -0.053      0.055     -0.191      0.206      0.000\n",
      "   137        211  pi+                 91    82     0     0     0     0     0     -0.030     -0.146     -1.207      1.224      0.140\n",
      "   138       -211  pi-                 91    82     0     0     0     0     0      0.355     -0.339     -1.883      1.951      0.140\n",
      "   139         22  gamma               91    82     0     0     0     0     0      0.086      0.024     -0.251      0.267      0.000\n",
      "   140       2112  n0                  91    85     0     0     0     0     0     -0.259      0.272     -7.090      7.162      0.940\n",
      "   141        111  (pi0)              -91    85     0   174   175     0     0     -0.082     -0.031     -0.669      0.688      0.135\n",
      "   142         22  gamma               91    91     0     0     0     0     0      0.019      0.027     -4.331      4.331      0.000\n",
      "   143         22  gamma               91    91     0     0     0     0     0     -0.203      0.463    -97.308     97.309      0.000\n",
      "   144         22  gamma               91    95     0     0     0     0     0     -0.061      0.215      0.257      0.340      0.000\n",
      "   145         22  gamma               91    95     0     0     0     0     0      0.022      0.052      0.001      0.056      0.000\n",
      "   146        111  (pi0)              -91    96     0   176   177     0     0      0.214     -0.122     -0.259      0.382      0.135\n",
      "   147        111  (pi0)              -91    96     0   178   179     0     0     -0.184     -0.242     -0.419      0.535      0.135\n",
      "   148         22  gamma               91    98     0     0     0     0     0      0.135      0.034      3.581      3.584      0.000\n",
      "   149         22  gamma               91    98     0     0     0     0     0      0.046      0.135      4.046      4.049      0.000\n",
      "   150         22  gamma               91   104     0     0     0     0     0      0.066      0.002      4.268      4.269      0.000\n",
      "   151         22  gamma               91   104     0     0     0     0     0     -0.063      0.012      7.370      7.371      0.000\n",
      "   152         22  gamma               91   106     0     0     0     0     0     -0.154     -0.183     54.890     54.890      0.000\n",
      "   153         22  gamma               91   106     0     0     0     0     0     -0.117     -0.032     46.412     46.412      0.000\n",
      "   154         22  gamma               91   108     0     0     0     0     0     -0.116      0.344     13.668     13.673      0.000\n",
      "   155         22  gamma               91   108     0     0     0     0     0     -0.080      0.042      3.458      3.459      0.000\n",
      "   156        211  pi+                 91   109     0     0     0     0     0     -0.008      0.175     83.614     83.614      0.140\n",
      "   157       -211  pi-                 91   109     0     0     0     0     0      0.080      0.088     12.197     12.198      0.140\n",
      "   158         22  gamma               91   111     0     0     0     0     0     -0.193     -0.185      1.948      1.966      0.000\n",
      "   159         22  gamma               91   111     0     0     0     0     0      0.015     -0.013      0.046      0.050      0.000\n",
      "   160         22  gamma               91   115     0     0     0     0     0      0.195     -0.005    -78.883     78.883      0.000\n",
      "   161         22  gamma               91   115     0     0     0     0     0      0.073     -0.025    -11.274     11.275      0.000\n",
      "   162         22  gamma               91   121     0     0     0     0     0      0.310      0.015  -1355.915   1355.915      0.000\n",
      "   163         22  gamma               91   121     0     0     0     0     0      0.116      0.007   -252.165    252.165      0.000\n",
      "   164        211  pi+                 91   122     0     0     0     0     0      0.408     -0.072   1247.546   1247.546      0.140\n",
      "   165       -211  pi-                 91   122     0     0     0     0     0     -0.065     -0.123    509.343    509.343      0.140\n",
      "   166         22  gamma               91   126     0     0     0     0     0      0.176     -0.376      0.133      0.436      0.000\n",
      "   167         22  gamma               91   126     0     0     0     0     0     -0.025     -0.065      0.015      0.071      0.000\n",
      "   168         22  gamma               91   129     0     0     0     0     0      0.247     -0.106     99.447     99.447      0.000\n",
      "   169         22  gamma               91   129     0     0     0     0     0      0.128      0.037     38.602     38.602      0.000\n",
      "   170         22  gamma               91   132     0     0     0     0     0      0.091     -0.018      4.527      4.528      0.000\n",
      "   171         22  gamma               91   132     0     0     0     0     0     -0.025     -0.076      6.284      6.285      0.000\n",
      "   172         22  gamma               91   134     0     0     0     0     0     -0.109      0.066    167.780    167.780      0.000\n",
      "   173         22  gamma               91   134     0     0     0     0     0      0.021      0.073    186.682    186.682      0.000\n",
      "   174         22  gamma               91   141     0     0     0     0     0      0.017      0.025     -0.049      0.058      0.000\n",
      "   175         22  gamma               91   141     0     0     0     0     0     -0.100     -0.056     -0.620      0.630      0.000\n",
      "   176         22  gamma               91   146     0     0     0     0     0      0.153     -0.015     -0.175      0.233      0.000\n",
      "   177         22  gamma               91   146     0     0     0     0     0      0.061     -0.107     -0.084      0.149      0.000\n",
      "   178         22  gamma               91   147     0     0     0     0     0     -0.086     -0.177     -0.342      0.395      0.000\n",
      "   179         22  gamma               91   147     0     0     0     0     0     -0.098     -0.065     -0.077      0.141      0.000\n",
      "                                   Charge sum:  2.000           Momentum sum:      0.000     -0.000     -0.000  14000.000  14000.000\n",
      "\n",
      " --------  End PYTHIA Event Listing  -----------------------------------------------------------------------------------------------\n"
     ]
    }
   ],
   "source": [
    "pythia.GenerateEvent()\n",
    "pythia.EventListing()"
   ]
  },
  {
   "cell_type": "markdown",
   "metadata": {},
   "source": [
    "### Prepare helper functions for particle identification"
   ]
  },
  {
   "cell_type": "markdown",
   "metadata": {},
   "source": [
    "* write function to tell if particle is *final* (i.e. simulation of its evolution by pythia is finished). Hint: *final* particles have positive status codes\n",
    "* add a second argument which will allow to filter by the particle type as well, keeping the function behaviour when only one argument is provided\n",
    "* write a function that computes ivariant mass of the pair of particles\n",
    "* the two defined functions assume that (a pair of) `TParticle` object(s) is passed to them"
   ]
  },
  {
   "cell_type": "code",
   "execution_count": 6,
   "metadata": {},
   "outputs": [],
   "source": [
    "def isFinal(p,name=None):\n",
    "    if name==None:\n",
    "        return p.GetStatusCode()>0\n",
    "    else:\n",
    "        return p.GetStatusCode()>0 and p.GetName()==name\n",
    "\n",
    "\n",
    "def getMinv(pair):\n",
    "    p4_1=ROOT.TLorentzVector()\n",
    "    p4_2=ROOT.TLorentzVector()\n",
    "    pair[0].Momentum(p4_1)\n",
    "    pair[1].Momentum(p4_2)\n",
    "    p4=p4_1+p4_2\n",
    "    return p4.M()"
   ]
  },
  {
   "cell_type": "markdown",
   "metadata": {},
   "source": [
    "## Properties of hadron production in $p+p$ interactions"
   ]
  },
  {
   "cell_type": "markdown",
   "metadata": {},
   "source": [
    "### Generate 10000 $p+p$ events at 14 TeV and draw $\\frac{\\mathrm{d} N}{\\mathrm{d}\\eta}$ and  $\\frac{1}{p_T}\\frac{\\mathrm{d} N}{\\mathrm{d}p_T}$ distributions of $p$, $\\pi^+$ and $K^+$"
   ]
  },
  {
   "cell_type": "markdown",
   "metadata": {},
   "source": [
    "* create list of particles' names in consideration\n",
    "* use dictionaries to provide labels and colors for plotting, particle names should be used as keys\n",
    "* in similar fashion initialize dictionaries of histograms (`TH1D`)\n",
    "* invoke `TH1D::Sumw2()` method on each histogram to enable calculation of Poissonian errors\n",
    "* generate events and fill histograms\n",
    "* format histograms:\n",
    "  * set markers to `ROOT.kFullCircle` for all histograms\n",
    "  * set colors according to dictionaries defined at the begening\n",
    "  * find out what is the maximal value of $y$ axis on $\\eta$ and $p_T$ plots (among all particles)\n",
    "  * scale histograms by $\\frac{1}{\\Delta x \\cdot N}$, where $\\Delta x$ is the bin width and $N$ is the number of events"
   ]
  },
  {
   "cell_type": "code",
   "execution_count": 7,
   "metadata": {
    "tags": []
   },
   "outputs": [
    {
     "name": "stdout",
     "output_type": "stream",
     "text": [
      " PYTHIA Warning in Pythia::check: energy-momentum not quite conserved  \n",
      " PYTHIA Warning in Pythia::check: not quite matched particle energy/momentum/mass  \n",
      " PYTHIA Warning in SimpleSpaceShower::pT2nextQCD: weight above unity  \n",
      " PYTHIA Warning in StringFragmentation::fragmentToJunction: bad convergence junction rest frame  \n",
      " PYTHIA Error in StringFragmentation::fragment: stuck in joining  \n",
      " PYTHIA Error in Pythia::next: hadronLevel failed; try again  \n"
     ]
    },
    {
     "name": "stderr",
     "output_type": "stream",
     "text": [
      "Warning in <TParticle::SetPdgCode>: PDG code 9942033 unknown from TDatabasePDG\n",
      "Warning in <TParticle::SetPdgCode>: PDG code 9942033 unknown from TDatabasePDG\n",
      "Warning in <TParticle::SetPdgCode>: PDG code 9942033 unknown from TDatabasePDG\n",
      "Warning in <TParticle::SetPdgCode>: PDG code 30443 unknown from TDatabasePDG\n",
      "Warning in <TParticle::SetPdgCode>: PDG code 9942033 unknown from TDatabasePDG\n",
      "Warning in <TParticle::SetPdgCode>: PDG code 9942033 unknown from TDatabasePDG\n",
      "Warning in <TParticle::SetPdgCode>: PDG code 9942033 unknown from TDatabasePDG\n",
      "Warning in <TParticle::SetPdgCode>: PDG code 30443 unknown from TDatabasePDG\n"
     ]
    }
   ],
   "source": [
    "nEvents=10000\n",
    "parts=[\"proton\", \"pi+\", \"K+\"]\n",
    "labels={\"proton\": \"p\", \"pi+\": \"#pi^{+}\", \"K+\": \"K^{+}\"}\n",
    "colors={\"proton\": ROOT.kBlack, \"pi+\": ROOT.kBlue, \"K+\": ROOT.kRed}\n",
    "heta={}\n",
    "hpt={}\n",
    "\n",
    "for p in parts:\n",
    "    heta[p]=ROOT.TH1D(\"eta\"+p,\"\",120,-12,12)\n",
    "    heta[p].Sumw2()\n",
    "    hpt[p]=ROOT.TH1D(\"pt\"+p,\"\",50,0,10)\n",
    "    hpt[p].Sumw2()\n",
    "\n",
    "def fillHistos(p):\n",
    "    name=p.GetName()\n",
    "    if name in parts:\n",
    "        heta[name].Fill(p.Eta())\n",
    "        hpt[name].Fill(p.Pt(),1/(p.Pt()))\n",
    "\n",
    "#generate events\n",
    "for i in range(nEvents):\n",
    "    pythia.GenerateEvent()\n",
    "    pythia.ImportParticles(particles,\"All\")\n",
    "    for p in particles:\n",
    "        if isFinal(p):\n",
    "            fillHistos(p)\n",
    "#format and normalize histograms, find ranges on y axes\n",
    "maxeta=0\n",
    "maxpt=0\n",
    "for p in parts:\n",
    "    heta[p].SetMarkerStyle(ROOT.kFullCircle)\n",
    "    heta[p].SetMarkerColor(colors[p])\n",
    "    bw=heta[p].GetBinWidth(1)\n",
    "    heta[p].Scale(1./(bw*nEvents))\n",
    "    maxeta=max(maxeta,heta[p].GetMaximum())\n",
    "    \n",
    "    hpt[p].SetMarkerStyle(ROOT.kFullCircle)\n",
    "    hpt[p].SetMarkerColor(colors[p])\n",
    "    bw=hpt[p].GetBinWidth(1)\n",
    "    hpt[p].Scale(1./(bw*nEvents))\n",
    "    maxpt=max(maxpt,hpt[p].GetMaximum())"
   ]
  },
  {
   "cell_type": "markdown",
   "metadata": {},
   "source": [
    "Now, once simuation is complete and histograms are filled we proceed to drawing them:\n",
    "* create `TCanvas` and divide it into two pads along $x$ axis\n",
    "* prepare `TLegend` (the same for both plots for simplicity, sybbols for differend kinds of particles are identical)\n",
    "* prepare *frames* for plotting (axes with correct labels and ranges)\n",
    "  * for $\\frac{1}{p_T}\\frac{\\mathrm{d} N}{\\mathrm{d}p_T}$ set logarithmic scale on $y$ axis\n",
    "* plot the histograms and and legends"
   ]
  },
  {
   "cell_type": "code",
   "execution_count": 8,
   "metadata": {},
   "outputs": [],
   "source": [
    "c_etapt = ROOT.TCanvas(\"c_etapt\",\"\",1600,600)\n",
    "c_etapt.Divide(2,1)"
   ]
  },
  {
   "cell_type": "code",
   "execution_count": 9,
   "metadata": {},
   "outputs": [
    {
     "data": {
      "text/html": [
       "\n",
       "\n",
       "<div id=\"root_plot_1674749880740\"\n",
       "     style=\"width: 1596px; height: 572px\">\n",
       "</div>\n",
       "<script>\n",
       "\n",
       "function display_root_plot_1674749880740(Core) {\n",
       "   let obj = Core.parse({\"_typename\":\"TCanvas\",\"fUniqueID\":0,\"fBits\":3342344,\"fLineColor\":1,\"fLineStyle\":1,\"fLineWidth\":1,\"fFillColor\":0,\"fFillStyle\":1001,\"fLeftMargin\":0.1,\"fRightMargin\":0.1,\"fBottomMargin\":0.1,\"fTopMargin\":0.1,\"fXfile\":2,\"fYfile\":2,\"fAfile\":1,\"fXstat\":0.99,\"fYstat\":0.99,\"fAstat\":2,\"fFrameFillColor\":0,\"fFrameLineColor\":1,\"fFrameFillStyle\":1001,\"fFrameLineStyle\":1,\"fFrameLineWidth\":1,\"fFrameBorderSize\":1,\"fFrameBorderMode\":0,\"fX1\":0,\"fY1\":0,\"fX2\":1,\"fY2\":1,\"fXtoAbsPixelk\":5e-5,\"fXtoPixelk\":5e-5,\"fXtoPixel\":1596,\"fYtoAbsPixelk\":572.00005,\"fYtoPixelk\":572.00005,\"fYtoPixel\":-572,\"fUtoAbsPixelk\":5e-5,\"fUtoPixelk\":5e-5,\"fUtoPixel\":1596,\"fVtoAbsPixelk\":572.00005,\"fVtoPixelk\":572,\"fVtoPixel\":-572,\"fAbsPixeltoXk\":0,\"fPixeltoXk\":0,\"fPixeltoX\":6.265664160401e-4,\"fAbsPixeltoYk\":1,\"fPixeltoYk\":0,\"fPixeltoY\":-0.00174825174825175,\"fXlowNDC\":0,\"fYlowNDC\":0,\"fXUpNDC\":1,\"fYUpNDC\":1,\"fWNDC\":1,\"fHNDC\":1,\"fAbsXlowNDC\":0,\"fAbsYlowNDC\":0,\"fAbsWNDC\":1,\"fAbsHNDC\":1,\"fUxmin\":0,\"fUymin\":0,\"fUxmax\":1,\"fUymax\":1,\"fTheta\":30,\"fPhi\":30,\"fAspectRatio\":0,\"fNumber\":0,\"fTickx\":0,\"fTicky\":0,\"fLogx\":0,\"fLogy\":0,\"fLogz\":0,\"fPadPaint\":0,\"fCrosshair\":0,\"fCrosshairPos\":0,\"fBorderSize\":2,\"fBorderMode\":0,\"fModified\":false,\"fGridx\":false,\"fGridy\":false,\"fAbsCoord\":false,\"fEditable\":true,\"fFixedAspectRatio\":false,\"fPrimitives\":{\"_typename\":\"TList\",\"name\":\"TList\",\"arr\":[{\"_typename\":\"TPad\",\"fUniqueID\":0,\"fBits\":9,\"fLineColor\":1,\"fLineStyle\":1,\"fLineWidth\":1,\"fFillColor\":0,\"fFillStyle\":1001,\"fLeftMargin\":0.1,\"fRightMargin\":0.1,\"fBottomMargin\":0.1,\"fTopMargin\":0.1,\"fXfile\":2,\"fYfile\":2,\"fAfile\":1,\"fXstat\":0.99,\"fYstat\":0.99,\"fAstat\":2,\"fFrameFillColor\":0,\"fFrameLineColor\":1,\"fFrameFillStyle\":1001,\"fFrameLineStyle\":1,\"fFrameLineWidth\":1,\"fFrameBorderSize\":1,\"fFrameBorderMode\":0,\"fX1\":-1.25000009313226,\"fY1\":-6.58795694780238,\"fX2\":11.2500000931323,\"fY2\":4.6620432198357,\"fXtoAbsPixelk\":92.5680542808058,\"fXtoPixelk\":76.6080546375396,\"fXtoPixel\":61.2863991438388,\"fYtoAbsPixelk\":238.018264055364,\"fYtoPixelk\":232.298264183216,\"fYtoPixel\":-49.8275548357963,\"fUtoAbsPixelk\":15.9600496432662,\"fUtoPixelk\":5e-5,\"fUtoPixel\":766.080000713468,\"fVtoAbsPixelk\":566.280050127852,\"fVtoPixelk\":560.560000255704,\"fVtoPixel\":-560.560000255704,\"fAbsPixeltoXk\":-1.51041675761614,\"fPixeltoXk\":-1.25000009313226,\"fPixeltoX\":0.0163168339789878,\"fAbsPixeltoYk\":4.77683913729538,\"fPixeltoYk\":-6.58795694780238,\"fPixeltoY\":-0.0200692167876878,\"fXlowNDC\":0.00999999977648258,\"fYlowNDC\":0.00999999977648258,\"fXUpNDC\":0.490000000223517,\"fYUpNDC\":0.990000000223517,\"fWNDC\":0.480000000447035,\"fHNDC\":0.980000000447035,\"fAbsXlowNDC\":0.00999999977648258,\"fAbsYlowNDC\":0.00999999977648258,\"fAbsWNDC\":0.480000000447035,\"fAbsHNDC\":0.980000000447035,\"fUxmin\":0,\"fUymin\":-5.46295686398334,\"fUxmax\":10,\"fUymax\":3.53704313601666,\"fTheta\":30,\"fPhi\":30,\"fAspectRatio\":0,\"fNumber\":1,\"fTickx\":0,\"fTicky\":0,\"fLogx\":0,\"fLogy\":1,\"fLogz\":0,\"fPadPaint\":0,\"fCrosshair\":0,\"fCrosshairPos\":0,\"fBorderSize\":2,\"fBorderMode\":0,\"fModified\":false,\"fGridx\":false,\"fGridy\":false,\"fAbsCoord\":false,\"fEditable\":true,\"fFixedAspectRatio\":false,\"fPrimitives\":{\"_typename\":\"TList\",\"name\":\"TList\",\"arr\":[{\"_typename\":\"TFrame\",\"fUniqueID\":0,\"fBits\":8,\"fLineColor\":1,\"fLineStyle\":1,\"fLineWidth\":1,\"fFillColor\":0,\"fFillStyle\":1001,\"fX1\":0,\"fY1\":-5.46295686398334,\"fX2\":10,\"fY2\":3.53704313601666,\"fBorderSize\":1,\"fBorderMode\":0},{\"_typename\":\"TH1F\",\"fUniqueID\":0,\"fBits\":521,\"fName\":\"hframe\",\"fTitle\":\"\",\"fLineColor\":602,\"fLineStyle\":1,\"fLineWidth\":1,\"fFillColor\":0,\"fFillStyle\":1001,\"fMarkerColor\":1,\"fMarkerStyle\":1,\"fMarkerSize\":1,\"fNcells\":1002,\"fXaxis\":{\"_typename\":\"TAxis\",\"fUniqueID\":0,\"fBits\":0,\"fName\":\"xaxis\",\"fTitle\":\"p_{T} [GeV\\/c]\",\"fNdivisions\":510,\"fAxisColor\":1,\"fLabelColor\":1,\"fLabelFont\":42,\"fLabelOffset\":0.005,\"fLabelSize\":0.035,\"fTickLength\":0.03,\"fTitleOffset\":1.5,\"fTitleSize\":0.035,\"fTitleColor\":1,\"fTitleFont\":42,\"fNbins\":1000,\"fXmin\":0,\"fXmax\":10,\"fXbins\":[],\"fFirst\":0,\"fLast\":0,\"fBits2\":0,\"fTimeDisplay\":false,\"fTimeFormat\":\"\",\"fLabels\":null,\"fModLabs\":null},\"fYaxis\":{\"_typename\":\"TAxis\",\"fUniqueID\":0,\"fBits\":0,\"fName\":\"yaxis\",\"fTitle\":\"#frac{1}{p_{T}}#frac{dN}{dp_{T}} [GeV\\/c]^{-2}\",\"fNdivisions\":510,\"fAxisColor\":1,\"fLabelColor\":1,\"fLabelFont\":42,\"fLabelOffset\":0.005,\"fLabelSize\":0.035,\"fTickLength\":0.03,\"fTitleOffset\":0,\"fTitleSize\":15,\"fTitleColor\":1,\"fTitleFont\":42,\"fNbins\":1,\"fXmin\":3.44384134794634e-6,\"fXmax\":3443.84134794634,\"fXbins\":[],\"fFirst\":0,\"fLast\":0,\"fBits2\":0,\"fTimeDisplay\":false,\"fTimeFormat\":\"\",\"fLabels\":null,\"fModLabs\":null},\"fZaxis\":{\"_typename\":\"TAxis\",\"fUniqueID\":0,\"fBits\":0,\"fName\":\"zaxis\",\"fTitle\":\"\",\"fNdivisions\":510,\"fAxisColor\":1,\"fLabelColor\":1,\"fLabelFont\":42,\"fLabelOffset\":0.005,\"fLabelSize\":0.035,\"fTickLength\":0.03,\"fTitleOffset\":1,\"fTitleSize\":0.035,\"fTitleColor\":1,\"fTitleFont\":42,\"fNbins\":1,\"fXmin\":0,\"fXmax\":1,\"fXbins\":[],\"fFirst\":0,\"fLast\":0,\"fBits2\":0,\"fTimeDisplay\":false,\"fTimeFormat\":\"\",\"fLabels\":null,\"fModLabs\":null},\"fBarOffset\":0,\"fBarWidth\":1000,\"fEntries\":0,\"fTsumw\":0,\"fTsumw2\":0,\"fTsumwx\":0,\"fTsumwx2\":0,\"fMaximum\":3443.84134794634,\"fMinimum\":3.44384134794634e-6,\"fNormFactor\":0,\"fContour\":[],\"fSumw2\":[],\"fOption\":\"\",\"fFunctions\":{\"_typename\":\"TList\",\"name\":\"TList\",\"arr\":[],\"opt\":[]},\"fBufferSize\":0,\"fBuffer\":[],\"fBinStatErrOpt\":0,\"fStatOverflows\":2,\"fArray\":[0,0,0,0,0,0,0,0,0,0,0,0,0,0,0,0,0,0,0,0,0,0,0,0,0,0,0,0,0,0,0,0,0,0,0,0,0,0,0,0,0,0,0,0,0,0,0,0,0,0,0,0,0,0,0,0,0,0,0,0,0,0,0,0,0,0,0,0,0,0,0,0,0,0,0,0,0,0,0,0,0,0,0,0,0,0,0,0,0,0,0,0,0,0,0,0,0,0,0,0,0,0,0,0,0,0,0,0,0,0,0,0,0,0,0,0,0,0,0,0,0,0,0,0,0,0,0,0,0,0,0,0,0,0,0,0,0,0,0,0,0,0,0,0,0,0,0,0,0,0,0,0,0,0,0,0,0,0,0,0,0,0,0,0,0,0,0,0,0,0,0,0,0,0,0,0,0,0,0,0,0,0,0,0,0,0,0,0,0,0,0,0,0,0,0,0,0,0,0,0,0,0,0,0,0,0,0,0,0,0,0,0,0,0,0,0,0,0,0,0,0,0,0,0,0,0,0,0,0,0,0,0,0,0,0,0,0,0,0,0,0,0,0,0,0,0,0,0,0,0,0,0,0,0,0,0,0,0,0,0,0,0,0,0,0,0,0,0,0,0,0,0,0,0,0,0,0,0,0,0,0,0,0,0,0,0,0,0,0,0,0,0,0,0,0,0,0,0,0,0,0,0,0,0,0,0,0,0,0,0,0,0,0,0,0,0,0,0,0,0,0,0,0,0,0,0,0,0,0,0,0,0,0,0,0,0,0,0,0,0,0,0,0,0,0,0,0,0,0,0,0,0,0,0,0,0,0,0,0,0,0,0,0,0,0,0,0,0,0,0,0,0,0,0,0,0,0,0,0,0,0,0,0,0,0,0,0,0,0,0,0,0,0,0,0,0,0,0,0,0,0,0,0,0,0,0,0,0,0,0,0,0,0,0,0,0,0,0,0,0,0,0,0,0,0,0,0,0,0,0,0,0,0,0,0,0,0,0,0,0,0,0,0,0,0,0,0,0,0,0,0,0,0,0,0,0,0,0,0,0,0,0,0,0,0,0,0,0,0,0,0,0,0,0,0,0,0,0,0,0,0,0,0,0,0,0,0,0,0,0,0,0,0,0,0,0,0,0,0,0,0,0,0,0,0,0,0,0,0,0,0,0,0,0,0,0,0,0,0,0,0,0,0,0,0,0,0,0,0,0,0,0,0,0,0,0,0,0,0,0,0,0,0,0,0,0,0,0,0,0,0,0,0,0,0,0,0,0,0,0,0,0,0,0,0,0,0,0,0,0,0,0,0,0,0,0,0,0,0,0,0,0,0,0,0,0,0,0,0,0,0,0,0,0,0,0,0,0,0,0,0,0,0,0,0,0,0,0,0,0,0,0,0,0,0,0,0,0,0,0,0,0,0,0,0,0,0,0,0,0,0,0,0,0,0,0,0,0,0,0,0,0,0,0,0,0,0,0,0,0,0,0,0,0,0,0,0,0,0,0,0,0,0,0,0,0,0,0,0,0,0,0,0,0,0,0,0,0,0,0,0,0,0,0,0,0,0,0,0,0,0,0,0,0,0,0,0,0,0,0,0,0,0,0,0,0,0,0,0,0,0,0,0,0,0,0,0,0,0,0,0,0,0,0,0,0,0,0,0,0,0,0,0,0,0,0,0,0,0,0,0,0,0,0,0,0,0,0,0,0,0,0,0,0,0,0,0,0,0,0,0,0,0,0,0,0,0,0,0,0,0,0,0,0,0,0,0,0,0,0,0,0,0,0,0,0,0,0,0,0,0,0,0,0,0,0,0,0,0,0,0,0,0,0,0,0,0,0,0,0,0,0,0,0,0,0,0,0,0,0,0,0,0,0,0,0,0,0,0,0,0,0,0,0,0,0,0,0,0,0,0,0,0,0,0,0,0,0,0,0,0,0,0,0,0,0,0,0,0,0,0,0,0,0,0,0,0,0,0,0,0,0,0,0,0,0,0,0,0,0,0,0,0,0,0,0,0,0,0,0,0,0,0,0,0,0,0,0,0,0,0,0,0,0,0,0,0,0,0,0,0,0,0,0,0,0,0,0,0,0,0,0,0,0,0,0,0,0,0,0,0,0,0,0,0,0,0,0,0,0,0,0,0,0,0,0,0,0,0,0,0,0,0,0,0,0,0,0,0,0,0,0,0,0,0,0,0,0,0,0,0,0,0,0,0,0,0,0,0,0,0,0,0,0,0,0,0,0,0,0,0,0,0,0,0,0,0,0,0,0,0,0]},{\"_typename\":\"TH1D\",\"fUniqueID\":0,\"fBits\":8,\"fName\":\"ptproton\",\"fTitle\":\"\",\"fLineColor\":602,\"fLineStyle\":1,\"fLineWidth\":1,\"fFillColor\":0,\"fFillStyle\":1001,\"fMarkerColor\":1,\"fMarkerStyle\":20,\"fMarkerSize\":1,\"fNcells\":52,\"fXaxis\":{\"_typename\":\"TAxis\",\"fUniqueID\":0,\"fBits\":0,\"fName\":\"xaxis\",\"fTitle\":\"\",\"fNdivisions\":510,\"fAxisColor\":1,\"fLabelColor\":1,\"fLabelFont\":42,\"fLabelOffset\":0.005,\"fLabelSize\":0.035,\"fTickLength\":0.03,\"fTitleOffset\":1,\"fTitleSize\":0.035,\"fTitleColor\":1,\"fTitleFont\":42,\"fNbins\":50,\"fXmin\":0,\"fXmax\":10,\"fXbins\":[],\"fFirst\":0,\"fLast\":0,\"fBits2\":0,\"fTimeDisplay\":false,\"fTimeFormat\":\"\",\"fLabels\":null,\"fModLabs\":null},\"fYaxis\":{\"_typename\":\"TAxis\",\"fUniqueID\":0,\"fBits\":0,\"fName\":\"yaxis\",\"fTitle\":\"\",\"fNdivisions\":510,\"fAxisColor\":1,\"fLabelColor\":1,\"fLabelFont\":42,\"fLabelOffset\":0.005,\"fLabelSize\":0.035,\"fTickLength\":0.03,\"fTitleOffset\":0,\"fTitleSize\":0.035,\"fTitleColor\":1,\"fTitleFont\":42,\"fNbins\":1,\"fXmin\":0,\"fXmax\":1,\"fXbins\":[],\"fFirst\":0,\"fLast\":0,\"fBits2\":0,\"fTimeDisplay\":false,\"fTimeFormat\":\"\",\"fLabels\":null,\"fModLabs\":null},\"fZaxis\":{\"_typename\":\"TAxis\",\"fUniqueID\":0,\"fBits\":0,\"fName\":\"zaxis\",\"fTitle\":\"\",\"fNdivisions\":510,\"fAxisColor\":1,\"fLabelColor\":1,\"fLabelFont\":42,\"fLabelOffset\":0.005,\"fLabelSize\":0.035,\"fTickLength\":0.03,\"fTitleOffset\":1,\"fTitleSize\":0.035,\"fTitleColor\":1,\"fTitleFont\":42,\"fNbins\":1,\"fXmin\":0,\"fXmax\":1,\"fXbins\":[],\"fFirst\":0,\"fLast\":0,\"fBits2\":0,\"fTimeDisplay\":false,\"fTimeFormat\":\"\",\"fLabels\":null,\"fModLabs\":null},\"fBarOffset\":0,\"fBarWidth\":1000,\"fEntries\":26951,\"fTsumw\":48.1342898507849,\"fTsumw2\":1.49775596639174,\"fTsumwx\":13.4755,\"fTsumwx2\":6.81040142395041,\"fMaximum\":-1111,\"fMinimum\":-1111,\"fNormFactor\":0,\"fContour\":[],\"fSumw2\":[0,1.46203597137029,0.0251055559313481,0.00752031402580214,0.00217160752173349,6.11850391548435e-4,1.99965399404524e-4,6.18624149132919e-5,2.55070115753558e-5,1.0001798848761e-5,5.4724082469489e-6,3.48822927974333e-6,1.72884298834093e-6,9.28634677461588e-7,6.61740458165668e-7,3.01201260095262e-7,3.12319517689549e-7,9.2434744263521e-8,1.196092344203e-7,5.59994141621602e-8,1.66234401864083e-8,1.5031106106462e-8,2.62167111196047e-8,3.75687855805425e-8,3.50280920855793e-8,2.0702437864027e-8,0,0,8.17962792009441e-9,0,0,0,0,0,5.53755199201591e-9,0,0,0,0,4.21870688881102e-9,0,0,0,0,0,0,0,0,0,0,0,0],\"fOption\":\"\",\"fFunctions\":{\"_typename\":\"TList\",\"name\":\"TList\",\"arr\":[],\"opt\":[]},\"fBufferSize\":0,\"fBuffer\":[],\"fBinStatErrOpt\":0,\"fStatOverflows\":2,\"fArray\":[0,22.0870828270709,14.0539762738939,7.20820573256017,2.94847228183399,1.07716997080313,0.432506495860832,0.15872652702113,0.0758619986420252,0.0338946363552165,0.020649023134384,0.0145816171866011,0.00788727368685379,0.00462040739932049,0.0035452051635087,0.00173531923173623,0.00193564319653838,6.08005475453094e-4,8.47086489985598e-4,4.09855319872892e-4,1.28931920742725e-4,1.22601411519044e-4,2.28980974692723e-4,3.35711694733898e-4,3.24160506623734e-4,2.03476352499739e-4,0,0,9.04412954357378e-5,0,0,0,0,0,7.44147296710531e-5,0,0,0,0,6.49515734128976e-5,0,0,0,0,0,0,0,0,0,0,0,0]},{\"_typename\":\"TH1D\",\"fUniqueID\":0,\"fBits\":8,\"fName\":\"ptpi+\",\"fTitle\":\"\",\"fLineColor\":602,\"fLineStyle\":1,\"fLineWidth\":1,\"fFillColor\":0,\"fFillStyle\":1001,\"fMarkerColor\":600,\"fMarkerStyle\":20,\"fMarkerSize\":1,\"fNcells\":52,\"fXaxis\":{\"_typename\":\"TAxis\",\"fUniqueID\":0,\"fBits\":0,\"fName\":\"xaxis\",\"fTitle\":\"\",\"fNdivisions\":510,\"fAxisColor\":1,\"fLabelColor\":1,\"fLabelFont\":42,\"fLabelOffset\":0.005,\"fLabelSize\":0.035,\"fTickLength\":0.03,\"fTitleOffset\":1,\"fTitleSize\":0.035,\"fTitleColor\":1,\"fTitleFont\":42,\"fNbins\":50,\"fXmin\":0,\"fXmax\":10,\"fXbins\":[],\"fFirst\":0,\"fLast\":0,\"fBits2\":0,\"fTimeDisplay\":false,\"fTimeFormat\":\"\",\"fLabels\":null,\"fModLabs\":null},\"fYaxis\":{\"_typename\":\"TAxis\",\"fUniqueID\":0,\"fBits\":0,\"fName\":\"yaxis\",\"fTitle\":\"\",\"fNdivisions\":510,\"fAxisColor\":1,\"fLabelColor\":1,\"fLabelFont\":42,\"fLabelOffset\":0.005,\"fLabelSize\":0.035,\"fTickLength\":0.03,\"fTitleOffset\":0,\"fTitleSize\":0.035,\"fTitleColor\":1,\"fTitleFont\":42,\"fNbins\":1,\"fXmin\":0,\"fXmax\":1,\"fXbins\":[],\"fFirst\":0,\"fLast\":0,\"fBits2\":0,\"fTimeDisplay\":false,\"fTimeFormat\":\"\",\"fLabels\":null,\"fModLabs\":null},\"fZaxis\":{\"_typename\":\"TAxis\",\"fUniqueID\":0,\"fBits\":0,\"fName\":\"zaxis\",\"fTitle\":\"\",\"fNdivisions\":510,\"fAxisColor\":1,\"fLabelColor\":1,\"fLabelFont\":42,\"fLabelOffset\":0.005,\"fLabelSize\":0.035,\"fTickLength\":0.03,\"fTitleOffset\":1,\"fTitleSize\":0.035,\"fTitleColor\":1,\"fTitleFont\":42,\"fNbins\":1,\"fXmin\":0,\"fXmax\":1,\"fXbins\":[],\"fFirst\":0,\"fLast\":0,\"fBits2\":0,\"fTimeDisplay\":false,\"fTimeFormat\":\"\",\"fLabels\":null,\"fModLabs\":null},\"fBarOffset\":0,\"fBarWidth\":1000,\"fEntries\":226849,\"fTsumw\":560.241311620211,\"fTsumw2\":5.66018767302425,\"fTsumwx\":113.4245,\"fTsumwx2\":43.2332391746348,\"fMaximum\":-1111,\"fMinimum\":-1111,\"fNormFactor\":0,\"fContour\":[],\"fSumw2\":[0,5.32840859776052,0.265501672846284,0.0511050628119299,0.0113245510846546,0.00269435073420043,7.16794440043615e-4,2.47424136464286e-4,9.94644926003389e-5,4.37105878307347e-5,1.99554841058769e-5,1.05018946841646e-5,6.22400112134565e-6,3.25359515281321e-6,2.11251872608859e-6,1.44401040286708e-6,8.39884584718816e-7,7.36723182808952e-7,2.23428404641426e-7,2.19661372540855e-7,9.84375327526541e-8,5.99403195120679e-8,8.16623558660542e-8,7.4302983411421e-8,4.52645659045149e-8,3.18623435385009e-8,3.92655791624853e-8,0,3.35193893312391e-8,1.54892930289348e-8,1.40392677552964e-8,0,6.35838783115313e-9,5.91562478792036e-9,0,5.28883320542396e-9,5.06664832421299e-9,4.64776020724152e-9,9.04631222596108e-9,0,0,0,0,0,0,0,0,0,2.82081893354613e-9,0,0,0],\"fOption\":\"\",\"fFunctions\":{\"_typename\":\"TList\",\"name\":\"TList\",\"arr\":[],\"opt\":[]},\"fBufferSize\":0,\"fBuffer\":[],\"fBinStatErrOpt\":0,\"fStatOverflows\":2,\"fArray\":[0,344.384134794634,144.337689160659,48.622816743799,15.3385811856454,4.72556053538995,1.55188655659624,0.635243836298952,0.295638663973655,0.147606972611009,0.0755101385865105,0.0439437007220249,0.028544635356919,0.0162299201471216,0.0113493622903274,0.00832364428028209,0.00518354841627885,0.0048547953433073,0.00156743284495246,0.00162339178773759,7.68420615337786e-4,4.89645395433365e-4,6.99848217454442e-4,6.67659648823421e-4,4.25492650706738e-4,3.09162645238262e-4,3.96297844310975e-4,0,3.66162156888429e-4,1.75994174095572e-4,1.67566474373554e-4,0,7.97394998175505e-5,7.69130989358793e-5,0,7.27243645927825e-5,7.11803928354782e-5,6.81744835495035e-5,1.34507783218498e-4,0,0,0,0,0,0,0,0,0,5.3111382335109e-5,0,0,0]},{\"_typename\":\"TH1D\",\"fUniqueID\":0,\"fBits\":8,\"fName\":\"ptK+\",\"fTitle\":\"\",\"fLineColor\":602,\"fLineStyle\":1,\"fLineWidth\":1,\"fFillColor\":0,\"fFillStyle\":1001,\"fMarkerColor\":632,\"fMarkerStyle\":20,\"fMarkerSize\":1,\"fNcells\":52,\"fXaxis\":{\"_typename\":\"TAxis\",\"fUniqueID\":0,\"fBits\":0,\"fName\":\"xaxis\",\"fTitle\":\"\",\"fNdivisions\":510,\"fAxisColor\":1,\"fLabelColor\":1,\"fLabelFont\":42,\"fLabelOffset\":0.005,\"fLabelSize\":0.035,\"fTickLength\":0.03,\"fTitleOffset\":1,\"fTitleSize\":0.035,\"fTitleColor\":1,\"fTitleFont\":42,\"fNbins\":50,\"fXmin\":0,\"fXmax\":10,\"fXbins\":[],\"fFirst\":0,\"fLast\":0,\"fBits2\":0,\"fTimeDisplay\":false,\"fTimeFormat\":\"\",\"fLabels\":null,\"fModLabs\":null},\"fYaxis\":{\"_typename\":\"TAxis\",\"fUniqueID\":0,\"fBits\":0,\"fName\":\"yaxis\",\"fTitle\":\"\",\"fNdivisions\":510,\"fAxisColor\":1,\"fLabelColor\":1,\"fLabelFont\":42,\"fLabelOffset\":0.005,\"fLabelSize\":0.035,\"fTickLength\":0.03,\"fTitleOffset\":0,\"fTitleSize\":0.035,\"fTitleColor\":1,\"fTitleFont\":42,\"fNbins\":1,\"fXmin\":0,\"fXmax\":1,\"fXbins\":[],\"fFirst\":0,\"fLast\":0,\"fBits2\":0,\"fTimeDisplay\":false,\"fTimeFormat\":\"\",\"fLabels\":null,\"fModLabs\":null},\"fZaxis\":{\"_typename\":\"TAxis\",\"fUniqueID\":0,\"fBits\":0,\"fName\":\"zaxis\",\"fTitle\":\"\",\"fNdivisions\":510,\"fAxisColor\":1,\"fLabelColor\":1,\"fLabelFont\":42,\"fLabelOffset\":0.005,\"fLabelSize\":0.035,\"fTickLength\":0.03,\"fTitleOffset\":1,\"fTitleSize\":0.035,\"fTitleColor\":1,\"fTitleFont\":42,\"fNbins\":1,\"fXmin\":0,\"fXmax\":1,\"fXbins\":[],\"fFirst\":0,\"fLast\":0,\"fBits2\":0,\"fTimeDisplay\":false,\"fTimeFormat\":\"\",\"fLabels\":null,\"fModLabs\":null},\"fBarOffset\":0,\"fBarWidth\":1000,\"fEntries\":23938,\"fTsumw\":43.7421236450267,\"fTsumw2\":0.245899121228192,\"fTsumwx\":11.969,\"fTsumwx2\":5.86164157192138,\"fMaximum\":-1111,\"fMinimum\":-1111,\"fNormFactor\":0,\"fContour\":[],\"fSumw2\":[0,0.213532734125,0.0234732912655981,0.00644017833719268,0.001729354925549,4.64754480408759e-4,1.53289209459526e-4,5.68385150730124e-5,2.25488186663854e-5,1.25155103541483e-5,5.72207864191649e-6,2.45558024223883e-6,2.33160441454154e-6,9.3052699651327e-7,7.48305511668155e-7,4.77657977675962e-7,2.89917942497784e-7,2.09548716302244e-7,1.23236614789458e-7,1.47770537891422e-7,8.37226286825065e-8,7.5688650743167e-8,0,0,0,0,9.69172810649097e-9,0,0,0,7.39867466174825e-9,0,0,0,0,0,0,0,0,0,0,0,0,0,3.3116123165384e-9,0,0,0,0,0,0,0],\"fOption\":\"\",\"fFunctions\":{\"_typename\":\"TList\",\"name\":\"TList\",\"arr\":[],\"opt\":[]},\"fBufferSize\":0,\"fBuffer\":[],\"fBinStatErrOpt\":0,\"fStatOverflows\":2,\"fArray\":[0,20.6891450972261,13.068200630512,6.17794178517628,2.34174129209595,0.816463859629531,0.332195625889891,0.146238456748984,0.0671025962479472,0.042430502743488,0.0216509561820974,0.01027245095283,0.0106851837695752,0.00462523581288042,0.00405639325995921,0.00276400305181805,0.00178543808468079,0.00137315039751546,8.59758038164832e-4,0.0010871026625175,6.46960362423258e-4,6.15157448102963e-4,0,0,0,0,9.84465748845076e-5,0,0,0,8.60155489533622e-5,0,0,0,0,0,0,0,0,0,0,0,0,0,5.75466099482706e-5,0,0,0,0,0,0,0]},{\"_typename\":\"TLegend\",\"fUniqueID\":0,\"fBits\":8,\"fLineColor\":1,\"fLineStyle\":1,\"fLineWidth\":1,\"fFillColor\":0,\"fFillStyle\":1001,\"fX1\":9.00000013411046,\"fY1\":1.35045625773976,\"fX2\":12.0000001788139,\"fY2\":1.66210001238361,\"fX1NDC\":0.8,\"fY1NDC\":0.75,\"fX2NDC\":0.9,\"fY2NDC\":0.9,\"fBorderSize\":1,\"fInit\":1,\"fShadowColor\":1,\"fCornerRadius\":0,\"fOption\":\"brNDC\",\"fName\":\"TPave\",\"fTextAngle\":0,\"fTextSize\":0,\"fTextAlign\":12,\"fTextColor\":1,\"fTextFont\":42,\"fPrimitives\":{\"_typename\":\"TList\",\"name\":\"TList\",\"arr\":[{\"_typename\":\"TLegendEntry\",\"fUniqueID\":0,\"fBits\":0,\"fTextAngle\":0,\"fTextSize\":0,\"fTextAlign\":0,\"fTextColor\":0,\"fTextFont\":42,\"fLineColor\":602,\"fLineStyle\":1,\"fLineWidth\":1,\"fFillColor\":0,\"fFillStyle\":1001,\"fMarkerColor\":1,\"fMarkerStyle\":20,\"fMarkerSize\":1,\"fObject\":{\"$ref\":10},\"fLabel\":\"p\",\"fOption\":\"lpf\"},{\"_typename\":\"TLegendEntry\",\"fUniqueID\":0,\"fBits\":0,\"fTextAngle\":0,\"fTextSize\":0,\"fTextAlign\":0,\"fTextColor\":0,\"fTextFont\":42,\"fLineColor\":602,\"fLineStyle\":1,\"fLineWidth\":1,\"fFillColor\":0,\"fFillStyle\":1001,\"fMarkerColor\":600,\"fMarkerStyle\":20,\"fMarkerSize\":1,\"fObject\":{\"$ref\":15},\"fLabel\":\"#pi^{+}\",\"fOption\":\"lpf\"},{\"_typename\":\"TLegendEntry\",\"fUniqueID\":0,\"fBits\":0,\"fTextAngle\":0,\"fTextSize\":0,\"fTextAlign\":0,\"fTextColor\":0,\"fTextFont\":42,\"fLineColor\":602,\"fLineStyle\":1,\"fLineWidth\":1,\"fFillColor\":0,\"fFillStyle\":1001,\"fMarkerColor\":632,\"fMarkerStyle\":20,\"fMarkerSize\":1,\"fObject\":{\"$ref\":20},\"fLabel\":\"K^{+}\",\"fOption\":\"lpf\"}],\"opt\":[\"lpf\",\"lpf\",\"lpf\"]},\"fEntrySeparation\":0.1,\"fMargin\":0.25,\"fNColumns\":1,\"fColumnSeparation\":0}],\"opt\":[\"\",\"\",\"p same\",\"p same\",\"p same\",\"\"]},\"fExecs\":{\"_typename\":\"TList\",\"name\":\"TList\",\"arr\":[],\"opt\":[]},\"fName\":\"c_etapt_1\",\"fTitle\":\"c_etapt_1\",\"fNumPaletteColor\":0,\"fNextPaletteColor\":0},{\"_typename\":\"TPad\",\"fUniqueID\":0,\"fBits\":9,\"fLineColor\":1,\"fLineStyle\":1,\"fLineWidth\":1,\"fFillColor\":0,\"fFillStyle\":1001,\"fLeftMargin\":0.1,\"fRightMargin\":0.1,\"fBottomMargin\":0.1,\"fTopMargin\":0.1,\"fXfile\":2,\"fYfile\":2,\"fAfile\":1,\"fXstat\":0.99,\"fYstat\":0.99,\"fAstat\":2,\"fFrameFillColor\":0,\"fFrameLineColor\":1,\"fFrameFillStyle\":1001,\"fFrameLineStyle\":1,\"fFrameLineWidth\":1,\"fFrameBorderSize\":1,\"fFrameBorderMode\":0,\"fX1\":-15.0000002235174,\"fY1\":-0.207762515479513,\"fX2\":15.0000002235174,\"fY2\":1.86986251547951,\"fXtoAbsPixelk\":1197.00005,\"fXtoPixelk\":383.040050356734,\"fXtoPixel\":25.5359996432662,\"fYtoAbsPixelk\":510.224046761083,\"fYtoPixelk\":504.504046888935,\"fYtoPixel\":-269.808070225719,\"fUtoAbsPixelk\":813.960049643266,\"fUtoPixelk\":5e-5,\"fUtoPixel\":766.080000713468,\"fVtoAbsPixelk\":566.280050127852,\"fVtoPixelk\":560.560000255704,\"fVtoPixel\":-560.560000255704,\"fAbsPixeltoXk\":-46.8750006548362,\"fPixeltoXk\":-15.0000002235174,\"fPixeltoX\":0.0391604015495708,\"fAbsPixeltoYk\":1.89106277041393,\"fPixeltoYk\":-0.207762515479513,\"fPixeltoY\":-0.00370633835809066,\"fXlowNDC\":0.509999999776483,\"fYlowNDC\":0.00999999977648258,\"fXUpNDC\":0.990000000223517,\"fYUpNDC\":0.990000000223517,\"fWNDC\":0.480000000447035,\"fHNDC\":0.980000000447035,\"fAbsXlowNDC\":0.509999999776483,\"fAbsYlowNDC\":0.00999999977648258,\"fAbsWNDC\":0.480000000447035,\"fAbsHNDC\":0.980000000447035,\"fUxmin\":-12,\"fUymin\":0,\"fUxmax\":12,\"fUymax\":1.6621,\"fTheta\":30,\"fPhi\":30,\"fAspectRatio\":0,\"fNumber\":2,\"fTickx\":0,\"fTicky\":0,\"fLogx\":0,\"fLogy\":0,\"fLogz\":0,\"fPadPaint\":0,\"fCrosshair\":0,\"fCrosshairPos\":0,\"fBorderSize\":2,\"fBorderMode\":0,\"fModified\":false,\"fGridx\":false,\"fGridy\":false,\"fAbsCoord\":false,\"fEditable\":true,\"fFixedAspectRatio\":false,\"fPrimitives\":{\"_typename\":\"TList\",\"name\":\"TList\",\"arr\":[{\"_typename\":\"TFrame\",\"fUniqueID\":0,\"fBits\":8,\"fLineColor\":1,\"fLineStyle\":1,\"fLineWidth\":1,\"fFillColor\":0,\"fFillStyle\":1001,\"fX1\":-12,\"fY1\":0,\"fX2\":12,\"fY2\":1.6621,\"fBorderSize\":1,\"fBorderMode\":0},{\"_typename\":\"TH1F\",\"fUniqueID\":0,\"fBits\":521,\"fName\":\"hframe\",\"fTitle\":\"\",\"fLineColor\":602,\"fLineStyle\":1,\"fLineWidth\":1,\"fFillColor\":0,\"fFillStyle\":1001,\"fMarkerColor\":1,\"fMarkerStyle\":1,\"fMarkerSize\":1,\"fNcells\":1002,\"fXaxis\":{\"_typename\":\"TAxis\",\"fUniqueID\":0,\"fBits\":0,\"fName\":\"xaxis\",\"fTitle\":\"#eta\",\"fNdivisions\":510,\"fAxisColor\":1,\"fLabelColor\":1,\"fLabelFont\":42,\"fLabelOffset\":0.005,\"fLabelSize\":0.035,\"fTickLength\":0.03,\"fTitleOffset\":1,\"fTitleSize\":0.035,\"fTitleColor\":1,\"fTitleFont\":42,\"fNbins\":1000,\"fXmin\":-12,\"fXmax\":12,\"fXbins\":[],\"fFirst\":0,\"fLast\":0,\"fBits2\":0,\"fTimeDisplay\":false,\"fTimeFormat\":\"\",\"fLabels\":null,\"fModLabs\":null},\"fYaxis\":{\"_typename\":\"TAxis\",\"fUniqueID\":0,\"fBits\":0,\"fName\":\"yaxis\",\"fTitle\":\"#frac{dN}{d#eta} \",\"fNdivisions\":510,\"fAxisColor\":1,\"fLabelColor\":1,\"fLabelFont\":42,\"fLabelOffset\":0.005,\"fLabelSize\":0.035,\"fTickLength\":0.03,\"fTitleOffset\":0,\"fTitleSize\":15,\"fTitleColor\":1,\"fTitleFont\":42,\"fNbins\":1,\"fXmin\":0,\"fXmax\":1.6621,\"fXbins\":[],\"fFirst\":0,\"fLast\":0,\"fBits2\":0,\"fTimeDisplay\":false,\"fTimeFormat\":\"\",\"fLabels\":null,\"fModLabs\":null},\"fZaxis\":{\"_typename\":\"TAxis\",\"fUniqueID\":0,\"fBits\":0,\"fName\":\"zaxis\",\"fTitle\":\"\",\"fNdivisions\":510,\"fAxisColor\":1,\"fLabelColor\":1,\"fLabelFont\":42,\"fLabelOffset\":0.005,\"fLabelSize\":0.035,\"fTickLength\":0.03,\"fTitleOffset\":1,\"fTitleSize\":0.035,\"fTitleColor\":1,\"fTitleFont\":42,\"fNbins\":1,\"fXmin\":0,\"fXmax\":1,\"fXbins\":[],\"fFirst\":0,\"fLast\":0,\"fBits2\":0,\"fTimeDisplay\":false,\"fTimeFormat\":\"\",\"fLabels\":null,\"fModLabs\":null},\"fBarOffset\":0,\"fBarWidth\":1000,\"fEntries\":0,\"fTsumw\":0,\"fTsumw2\":0,\"fTsumwx\":0,\"fTsumwx2\":0,\"fMaximum\":1.6621,\"fMinimum\":0,\"fNormFactor\":0,\"fContour\":[],\"fSumw2\":[],\"fOption\":\"\",\"fFunctions\":{\"_typename\":\"TList\",\"name\":\"TList\",\"arr\":[],\"opt\":[]},\"fBufferSize\":0,\"fBuffer\":[],\"fBinStatErrOpt\":0,\"fStatOverflows\":2,\"fArray\":[0,0,0,0,0,0,0,0,0,0,0,0,0,0,0,0,0,0,0,0,0,0,0,0,0,0,0,0,0,0,0,0,0,0,0,0,0,0,0,0,0,0,0,0,0,0,0,0,0,0,0,0,0,0,0,0,0,0,0,0,0,0,0,0,0,0,0,0,0,0,0,0,0,0,0,0,0,0,0,0,0,0,0,0,0,0,0,0,0,0,0,0,0,0,0,0,0,0,0,0,0,0,0,0,0,0,0,0,0,0,0,0,0,0,0,0,0,0,0,0,0,0,0,0,0,0,0,0,0,0,0,0,0,0,0,0,0,0,0,0,0,0,0,0,0,0,0,0,0,0,0,0,0,0,0,0,0,0,0,0,0,0,0,0,0,0,0,0,0,0,0,0,0,0,0,0,0,0,0,0,0,0,0,0,0,0,0,0,0,0,0,0,0,0,0,0,0,0,0,0,0,0,0,0,0,0,0,0,0,0,0,0,0,0,0,0,0,0,0,0,0,0,0,0,0,0,0,0,0,0,0,0,0,0,0,0,0,0,0,0,0,0,0,0,0,0,0,0,0,0,0,0,0,0,0,0,0,0,0,0,0,0,0,0,0,0,0,0,0,0,0,0,0,0,0,0,0,0,0,0,0,0,0,0,0,0,0,0,0,0,0,0,0,0,0,0,0,0,0,0,0,0,0,0,0,0,0,0,0,0,0,0,0,0,0,0,0,0,0,0,0,0,0,0,0,0,0,0,0,0,0,0,0,0,0,0,0,0,0,0,0,0,0,0,0,0,0,0,0,0,0,0,0,0,0,0,0,0,0,0,0,0,0,0,0,0,0,0,0,0,0,0,0,0,0,0,0,0,0,0,0,0,0,0,0,0,0,0,0,0,0,0,0,0,0,0,0,0,0,0,0,0,0,0,0,0,0,0,0,0,0,0,0,0,0,0,0,0,0,0,0,0,0,0,0,0,0,0,0,0,0,0,0,0,0,0,0,0,0,0,0,0,0,0,0,0,0,0,0,0,0,0,0,0,0,0,0,0,0,0,0,0,0,0,0,0,0,0,0,0,0,0,0,0,0,0,0,0,0,0,0,0,0,0,0,0,0,0,0,0,0,0,0,0,0,0,0,0,0,0,0,0,0,0,0,0,0,0,0,0,0,0,0,0,0,0,0,0,0,0,0,0,0,0,0,0,0,0,0,0,0,0,0,0,0,0,0,0,0,0,0,0,0,0,0,0,0,0,0,0,0,0,0,0,0,0,0,0,0,0,0,0,0,0,0,0,0,0,0,0,0,0,0,0,0,0,0,0,0,0,0,0,0,0,0,0,0,0,0,0,0,0,0,0,0,0,0,0,0,0,0,0,0,0,0,0,0,0,0,0,0,0,0,0,0,0,0,0,0,0,0,0,0,0,0,0,0,0,0,0,0,0,0,0,0,0,0,0,0,0,0,0,0,0,0,0,0,0,0,0,0,0,0,0,0,0,0,0,0,0,0,0,0,0,0,0,0,0,0,0,0,0,0,0,0,0,0,0,0,0,0,0,0,0,0,0,0,0,0,0,0,0,0,0,0,0,0,0,0,0,0,0,0,0,0,0,0,0,0,0,0,0,0,0,0,0,0,0,0,0,0,0,0,0,0,0,0,0,0,0,0,0,0,0,0,0,0,0,0,0,0,0,0,0,0,0,0,0,0,0,0,0,0,0,0,0,0,0,0,0,0,0,0,0,0,0,0,0,0,0,0,0,0,0,0,0,0,0,0,0,0,0,0,0,0,0,0,0,0,0,0,0,0,0,0,0,0,0,0,0,0,0,0,0,0,0,0,0,0,0,0,0,0,0,0,0,0,0,0,0,0,0,0,0,0,0,0,0,0,0,0,0,0,0,0,0,0,0,0,0,0,0,0,0,0,0,0,0,0,0,0,0,0,0,0,0,0,0,0,0,0,0,0,0,0,0,0,0,0,0,0,0,0,0,0,0,0,0,0,0,0,0,0,0,0,0,0,0,0,0,0,0,0,0,0,0,0,0,0,0,0,0,0,0,0,0,0,0,0,0,0,0,0,0,0,0,0,0,0,0,0,0,0,0,0,0,0,0,0,0,0,0,0,0,0,0,0,0,0,0,0,0,0,0,0,0,0,0,0,0,0,0,0,0,0,0,0,0,0,0,0,0,0,0,0,0,0,0,0,0,0,0,0,0,0,0,0,0,0,0,0,0,0,0,0,0,0,0,0,0,0,0,0,0,0,0,0,0,0,0,0,0]},{\"_typename\":\"TH1D\",\"fUniqueID\":0,\"fBits\":8,\"fName\":\"etaproton\",\"fTitle\":\"\",\"fLineColor\":602,\"fLineStyle\":1,\"fLineWidth\":1,\"fFillColor\":0,\"fFillStyle\":1001,\"fMarkerColor\":1,\"fMarkerStyle\":20,\"fMarkerSize\":1,\"fNcells\":122,\"fXaxis\":{\"_typename\":\"TAxis\",\"fUniqueID\":0,\"fBits\":0,\"fName\":\"xaxis\",\"fTitle\":\"\",\"fNdivisions\":510,\"fAxisColor\":1,\"fLabelColor\":1,\"fLabelFont\":42,\"fLabelOffset\":0.005,\"fLabelSize\":0.035,\"fTickLength\":0.03,\"fTitleOffset\":1,\"fTitleSize\":0.035,\"fTitleColor\":1,\"fTitleFont\":42,\"fNbins\":120,\"fXmin\":-12,\"fXmax\":12,\"fXbins\":[],\"fFirst\":0,\"fLast\":0,\"fBits2\":0,\"fTimeDisplay\":false,\"fTimeFormat\":\"\",\"fLabels\":null,\"fModLabs\":null},\"fYaxis\":{\"_typename\":\"TAxis\",\"fUniqueID\":0,\"fBits\":0,\"fName\":\"yaxis\",\"fTitle\":\"\",\"fNdivisions\":510,\"fAxisColor\":1,\"fLabelColor\":1,\"fLabelFont\":42,\"fLabelOffset\":0.005,\"fLabelSize\":0.035,\"fTickLength\":0.03,\"fTitleOffset\":0,\"fTitleSize\":0.035,\"fTitleColor\":1,\"fTitleFont\":42,\"fNbins\":1,\"fXmin\":0,\"fXmax\":1,\"fXbins\":[],\"fFirst\":0,\"fLast\":0,\"fBits2\":0,\"fTimeDisplay\":false,\"fTimeFormat\":\"\",\"fLabels\":null,\"fModLabs\":null},\"fZaxis\":{\"_typename\":\"TAxis\",\"fUniqueID\":0,\"fBits\":0,\"fName\":\"zaxis\",\"fTitle\":\"\",\"fNdivisions\":510,\"fAxisColor\":1,\"fLabelColor\":1,\"fLabelFont\":42,\"fLabelOffset\":0.005,\"fLabelSize\":0.035,\"fTickLength\":0.03,\"fTitleOffset\":1,\"fTitleSize\":0.035,\"fTitleColor\":1,\"fTitleFont\":42,\"fNbins\":1,\"fXmin\":0,\"fXmax\":1,\"fXbins\":[],\"fFirst\":0,\"fLast\":0,\"fBits2\":0,\"fTimeDisplay\":false,\"fTimeFormat\":\"\",\"fLabels\":null,\"fModLabs\":null},\"fBarOffset\":0,\"fBarWidth\":1000,\"fEntries\":26951,\"fTsumw\":13.457,\"fTsumw2\":0.0067285,\"fTsumwx\":0.247851810867317,\"fTsumwx2\":665.948400080623,\"fMaximum\":-1111,\"fMinimum\":-1111,\"fNormFactor\":0,\"fContour\":[],\"fSumw2\":[3.75e-6,1e-6,4.25e-6,4.75e-6,9e-6,1.05e-5,1.525e-5,2e-5,3.1e-5,4.825e-5,5.775e-5,8.475e-5,1.05e-4,1.315e-4,1.505e-4,1.45e-4,1.43e-4,1.3175e-4,1.0875e-4,1.0075e-4,8.2e-5,7.6e-5,6.125e-5,6.55e-5,6e-5,4.95e-5,5.075e-5,5.1e-5,5.1e-5,5.125e-5,5.1e-5,4.625e-5,5.75e-5,5e-5,5.975e-5,5.5e-5,4.875e-5,5.2e-5,5.25e-5,5.675e-5,5.4e-5,5.925e-5,4.65e-5,5.15e-5,5.25e-5,5.3e-5,5.075e-5,5.225e-5,5.175e-5,5.3e-5,4.475e-5,4.9e-5,4.225e-5,4.325e-5,3.75e-5,3.375e-5,3.25e-5,2.425e-5,2.725e-5,2.725e-5,2.4e-5,2.65e-5,3.275e-5,2.825e-5,3.1e-5,2.95e-5,3.425e-5,3.75e-5,4.525e-5,4.25e-5,5.375e-5,4.8e-5,4.85e-5,5.075e-5,5.325e-5,5.45e-5,5.05e-5,6e-5,5.45e-5,5.225e-5,5.15e-5,5.2e-5,5.7e-5,6.05e-5,5.325e-5,5.65e-5,5.675e-5,5.275e-5,5.875e-5,5.45e-5,5.575e-5,6.325e-5,5.2e-5,5.025e-5,4.625e-5,5.375e-5,4.7e-5,4.825e-5,5.5e-5,6.55e-5,6.95e-5,8.425e-5,9.7e-5,1.1925e-4,1.295e-4,1.41e-4,1.56e-4,1.405e-4,1.2075e-4,1.07e-4,9e-5,6.775e-5,4.275e-5,3.325e-5,2.275e-5,1.5e-5,1.075e-5,5e-6,5.25e-6,5.25e-6,1.25e-6,5.5e-6],\"fOption\":\"\",\"fFunctions\":{\"_typename\":\"TList\",\"name\":\"TList\",\"arr\":[],\"opt\":[]},\"fBufferSize\":0,\"fBuffer\":[],\"fBinStatErrOpt\":0,\"fStatOverflows\":2,\"fArray\":[0.0075,0.002,0.0085,0.0095,0.018,0.021,0.0305,0.04,0.062,0.0965,0.1155,0.1695,0.21,0.263,0.301,0.29,0.286,0.2635,0.2175,0.2015,0.164,0.152,0.1225,0.131,0.12,0.099,0.1015,0.102,0.102,0.1025,0.102,0.0925,0.115,0.1,0.1195,0.11,0.0975,0.104,0.105,0.1135,0.108,0.1185,0.093,0.103,0.105,0.106,0.1015,0.1045,0.1035,0.106,0.0895,0.098,0.0845,0.0865,0.075,0.0675,0.065,0.0485,0.0545,0.0545,0.048,0.053,0.0655,0.0565,0.062,0.059,0.0685,0.075,0.0905,0.085,0.1075,0.096,0.097,0.1015,0.1065,0.109,0.101,0.12,0.109,0.1045,0.103,0.104,0.114,0.121,0.1065,0.113,0.1135,0.1055,0.1175,0.109,0.1115,0.1265,0.104,0.1005,0.0925,0.1075,0.094,0.0965,0.11,0.131,0.139,0.1685,0.194,0.2385,0.259,0.282,0.312,0.281,0.2415,0.214,0.18,0.1355,0.0855,0.0665,0.0455,0.03,0.0215,0.01,0.0105,0.0105,0.0025,0.011]},{\"_typename\":\"TH1D\",\"fUniqueID\":0,\"fBits\":8,\"fName\":\"etapi+\",\"fTitle\":\"\",\"fLineColor\":602,\"fLineStyle\":1,\"fLineWidth\":1,\"fFillColor\":0,\"fFillStyle\":1001,\"fMarkerColor\":600,\"fMarkerStyle\":20,\"fMarkerSize\":1,\"fNcells\":122,\"fXaxis\":{\"_typename\":\"TAxis\",\"fUniqueID\":0,\"fBits\":0,\"fName\":\"xaxis\",\"fTitle\":\"\",\"fNdivisions\":510,\"fAxisColor\":1,\"fLabelColor\":1,\"fLabelFont\":42,\"fLabelOffset\":0.005,\"fLabelSize\":0.035,\"fTickLength\":0.03,\"fTitleOffset\":1,\"fTitleSize\":0.035,\"fTitleColor\":1,\"fTitleFont\":42,\"fNbins\":120,\"fXmin\":-12,\"fXmax\":12,\"fXbins\":[],\"fFirst\":0,\"fLast\":0,\"fBits2\":0,\"fTimeDisplay\":false,\"fTimeFormat\":\"\",\"fLabels\":null,\"fModLabs\":null},\"fYaxis\":{\"_typename\":\"TAxis\",\"fUniqueID\":0,\"fBits\":0,\"fName\":\"yaxis\",\"fTitle\":\"\",\"fNdivisions\":510,\"fAxisColor\":1,\"fLabelColor\":1,\"fLabelFont\":42,\"fLabelOffset\":0.005,\"fLabelSize\":0.035,\"fTickLength\":0.03,\"fTitleOffset\":0,\"fTitleSize\":0.035,\"fTitleColor\":1,\"fTitleFont\":42,\"fNbins\":1,\"fXmin\":0,\"fXmax\":1,\"fXbins\":[],\"fFirst\":0,\"fLast\":0,\"fBits2\":0,\"fTimeDisplay\":false,\"fTimeFormat\":\"\",\"fLabels\":null,\"fModLabs\":null},\"fZaxis\":{\"_typename\":\"TAxis\",\"fUniqueID\":0,\"fBits\":0,\"fName\":\"zaxis\",\"fTitle\":\"\",\"fNdivisions\":510,\"fAxisColor\":1,\"fLabelColor\":1,\"fLabelFont\":42,\"fLabelOffset\":0.005,\"fLabelSize\":0.035,\"fTickLength\":0.03,\"fTitleOffset\":1,\"fTitleSize\":0.035,\"fTitleColor\":1,\"fTitleFont\":42,\"fNbins\":1,\"fXmin\":0,\"fXmax\":1,\"fXbins\":[],\"fFirst\":0,\"fLast\":0,\"fBits2\":0,\"fTimeDisplay\":false,\"fTimeFormat\":\"\",\"fLabels\":null,\"fModLabs\":null},\"fBarOffset\":0,\"fBarWidth\":1000,\"fEntries\":226849,\"fTsumw\":113.414,\"fTsumw2\":0.056707,\"fTsumwx\":-0.347690600214116,\"fTsumwx2\":2674.46992734342,\"fMaximum\":-1111,\"fMinimum\":-1111,\"fNormFactor\":0,\"fContour\":[],\"fSumw2\":[3e-6,5e-7,1e-6,2.75e-6,3.5e-6,5.25e-6,8e-6,1.25e-5,1.775e-5,2.65e-5,3.4e-5,4.7e-5,7e-5,9.425e-5,1.3325e-4,1.715e-4,2.2525e-4,2.695e-4,3.1825e-4,3.4375e-4,3.9125e-4,4.2525e-4,4.38e-4,4.705e-4,4.875e-4,5.3525e-4,5.3275e-4,5.3725e-4,5.73e-4,5.8375e-4,6.245e-4,6.2925e-4,6.5175e-4,6.555e-4,6.645e-4,6.62e-4,7.0475e-4,6.9075e-4,6.9975e-4,7.1075e-4,7.48e-4,7.195e-4,7.0875e-4,7.555e-4,7.3e-4,7.39e-4,7.3875e-4,7.355e-4,7.2425e-4,7.22e-4,7.47e-4,7.2825e-4,6.9775e-4,7.14e-4,7.2225e-4,6.9575e-4,6.805e-4,6.9275e-4,6.88e-4,6.67e-4,6.5275e-4,6.2725e-4,6.5675e-4,6.4425e-4,6.5875e-4,6.61e-4,6.76e-4,7.1175e-4,7.06e-4,7.0975e-4,7.2425e-4,7.0325e-4,7.2625e-4,7.2225e-4,7.3075e-4,7.4175e-4,7.22e-4,7.385e-4,7.425e-4,7.1525e-4,7.1925e-4,7.3775e-4,7.0575e-4,6.9675e-4,7.0075e-4,6.7975e-4,6.735e-4,6.5425e-4,6.59e-4,6.24e-4,6.64e-4,6.265e-4,5.91e-4,5.845e-4,5.8375e-4,5.315e-4,5.21e-4,4.825e-4,4.7275e-4,4.6425e-4,4.0875e-4,3.7725e-4,3.505e-4,3.1525e-4,2.67e-4,2.13e-4,1.695e-4,1.305e-4,9.6e-5,7e-5,5.075e-5,3.7e-5,2.475e-5,1.45e-5,8e-6,7.25e-6,5e-6,5e-6,2.75e-6,2.75e-6,1e-6,2.25e-6],\"fOption\":\"\",\"fFunctions\":{\"_typename\":\"TList\",\"name\":\"TList\",\"arr\":[],\"opt\":[]},\"fBufferSize\":0,\"fBuffer\":[],\"fBinStatErrOpt\":0,\"fStatOverflows\":2,\"fArray\":[0.006,0.001,0.002,0.0055,0.007,0.0105,0.016,0.025,0.0355,0.053,0.068,0.094,0.14,0.1885,0.2665,0.343,0.4505,0.539,0.6365,0.6875,0.7825,0.8505,0.876,0.941,0.975,1.0705,1.0655,1.0745,1.146,1.1675,1.249,1.2585,1.3035,1.311,1.329,1.324,1.4095,1.3815,1.3995,1.4215,1.496,1.439,1.4175,1.511,1.46,1.478,1.4775,1.471,1.4485,1.444,1.494,1.4565,1.3955,1.428,1.4445,1.3915,1.361,1.3855,1.376,1.334,1.3055,1.2545,1.3135,1.2885,1.3175,1.322,1.352,1.4235,1.412,1.4195,1.4485,1.4065,1.4525,1.4445,1.4615,1.4835,1.444,1.477,1.485,1.4305,1.4385,1.4755,1.4115,1.3935,1.4015,1.3595,1.347,1.3085,1.318,1.248,1.328,1.253,1.182,1.169,1.1675,1.063,1.042,0.965,0.9455,0.9285,0.8175,0.7545,0.701,0.6305,0.534,0.426,0.339,0.261,0.192,0.14,0.1015,0.074,0.0495,0.029,0.016,0.0145,0.01,0.01,0.0055,0.0055,0.002,0.0045]},{\"_typename\":\"TH1D\",\"fUniqueID\":0,\"fBits\":8,\"fName\":\"etaK+\",\"fTitle\":\"\",\"fLineColor\":602,\"fLineStyle\":1,\"fLineWidth\":1,\"fFillColor\":0,\"fFillStyle\":1001,\"fMarkerColor\":632,\"fMarkerStyle\":20,\"fMarkerSize\":1,\"fNcells\":122,\"fXaxis\":{\"_typename\":\"TAxis\",\"fUniqueID\":0,\"fBits\":0,\"fName\":\"xaxis\",\"fTitle\":\"\",\"fNdivisions\":510,\"fAxisColor\":1,\"fLabelColor\":1,\"fLabelFont\":42,\"fLabelOffset\":0.005,\"fLabelSize\":0.035,\"fTickLength\":0.03,\"fTitleOffset\":1,\"fTitleSize\":0.035,\"fTitleColor\":1,\"fTitleFont\":42,\"fNbins\":120,\"fXmin\":-12,\"fXmax\":12,\"fXbins\":[],\"fFirst\":0,\"fLast\":0,\"fBits2\":0,\"fTimeDisplay\":false,\"fTimeFormat\":\"\",\"fLabels\":null,\"fModLabs\":null},\"fYaxis\":{\"_typename\":\"TAxis\",\"fUniqueID\":0,\"fBits\":0,\"fName\":\"yaxis\",\"fTitle\":\"\",\"fNdivisions\":510,\"fAxisColor\":1,\"fLabelColor\":1,\"fLabelFont\":42,\"fLabelOffset\":0.005,\"fLabelSize\":0.035,\"fTickLength\":0.03,\"fTitleOffset\":0,\"fTitleSize\":0.035,\"fTitleColor\":1,\"fTitleFont\":42,\"fNbins\":1,\"fXmin\":0,\"fXmax\":1,\"fXbins\":[],\"fFirst\":0,\"fLast\":0,\"fBits2\":0,\"fTimeDisplay\":false,\"fTimeFormat\":\"\",\"fLabels\":null,\"fModLabs\":null},\"fZaxis\":{\"_typename\":\"TAxis\",\"fUniqueID\":0,\"fBits\":0,\"fName\":\"zaxis\",\"fTitle\":\"\",\"fNdivisions\":510,\"fAxisColor\":1,\"fLabelColor\":1,\"fLabelFont\":42,\"fLabelOffset\":0.005,\"fLabelSize\":0.035,\"fTickLength\":0.03,\"fTitleOffset\":1,\"fTitleSize\":0.035,\"fTitleColor\":1,\"fTitleFont\":42,\"fNbins\":1,\"fXmin\":0,\"fXmax\":1,\"fXbins\":[],\"fFirst\":0,\"fLast\":0,\"fBits2\":0,\"fTimeDisplay\":false,\"fTimeFormat\":\"\",\"fLabels\":null,\"fModLabs\":null},\"fBarOffset\":0,\"fBarWidth\":1000,\"fEntries\":23938,\"fTsumw\":11.969,\"fTsumw2\":0.0059845,\"fTsumwx\":0.212254344541309,\"fTsumwx2\":297.010257389501,\"fMaximum\":-1111,\"fMinimum\":-1111,\"fNormFactor\":0,\"fContour\":[],\"fSumw2\":[0,0,0,7.5e-7,7.5e-7,2.5e-7,1.25e-6,7.5e-7,1.5e-6,2.5e-6,6.5e-6,7.25e-6,9.25e-6,1.35e-5,1.675e-5,1.775e-5,2.125e-5,2.5e-5,3.625e-5,3.625e-5,4.05e-5,4.525e-5,4.6e-5,5.15e-5,5.65e-5,5.925e-5,6e-5,6.525e-5,6.95e-5,5.9e-5,6.775e-5,7.325e-5,7.075e-5,7.075e-5,7.575e-5,8.2e-5,7.75e-5,7.2e-5,7.7e-5,7.2e-5,7.8e-5,8.075e-5,7.875e-5,7.8e-5,7.925e-5,7.55e-5,8.025e-5,7.125e-5,8.675e-5,7.6e-5,8.05e-5,7.85e-5,6.775e-5,6.825e-5,6.925e-5,6.15e-5,6.25e-5,5.825e-5,6.1e-5,6.125e-5,5.35e-5,5.225e-5,5.525e-5,6.2e-5,4.75e-5,5.7e-5,5.95e-5,6.675e-5,6.275e-5,6.95e-5,7.775e-5,7.85e-5,7.4e-5,8.475e-5,8.725e-5,8.15e-5,8.025e-5,7.4e-5,8.425e-5,8.1e-5,7.775e-5,7.675e-5,8.025e-5,7.15e-5,7.6e-5,7.25e-5,7.9e-5,7.525e-5,7e-5,6.65e-5,6.95e-5,7.55e-5,5.775e-5,6.975e-5,6.225e-5,6.35e-5,6.3e-5,5.35e-5,5.675e-5,5.325e-5,3.975e-5,4.3e-5,3.8e-5,3.125e-5,2.9e-5,2.35e-5,1.8e-5,1.25e-5,1.45e-5,8.75e-6,8.5e-6,5.25e-6,2.5e-6,2.75e-6,2e-6,1.25e-6,7.5e-7,0,2.5e-7,5e-7,7.5e-7,0],\"fOption\":\"\",\"fFunctions\":{\"_typename\":\"TList\",\"name\":\"TList\",\"arr\":[],\"opt\":[]},\"fBufferSize\":0,\"fBuffer\":[],\"fBinStatErrOpt\":0,\"fStatOverflows\":2,\"fArray\":[0,0,0,0.0015,0.0015,5e-4,0.0025,0.0015,0.003,0.005,0.013,0.0145,0.0185,0.027,0.0335,0.0355,0.0425,0.05,0.0725,0.0725,0.081,0.0905,0.092,0.103,0.113,0.1185,0.12,0.1305,0.139,0.118,0.1355,0.1465,0.1415,0.1415,0.1515,0.164,0.155,0.144,0.154,0.144,0.156,0.1615,0.1575,0.156,0.1585,0.151,0.1605,0.1425,0.1735,0.152,0.161,0.157,0.1355,0.1365,0.1385,0.123,0.125,0.1165,0.122,0.1225,0.107,0.1045,0.1105,0.124,0.095,0.114,0.119,0.1335,0.1255,0.139,0.1555,0.157,0.148,0.1695,0.1745,0.163,0.1605,0.148,0.1685,0.162,0.1555,0.1535,0.1605,0.143,0.152,0.145,0.158,0.1505,0.14,0.133,0.139,0.151,0.1155,0.1395,0.1245,0.127,0.126,0.107,0.1135,0.1065,0.0795,0.086,0.076,0.0625,0.058,0.047,0.036,0.025,0.029,0.0175,0.017,0.0105,0.005,0.0055,0.004,0.0025,0.0015,0,5e-4,0.001,0.0015,0]},{\"$ref\":25}],\"opt\":[\"\",\"\",\"p same\",\"p same\",\"p same\",\"\"]},\"fExecs\":{\"_typename\":\"TList\",\"name\":\"TList\",\"arr\":[],\"opt\":[]},\"fName\":\"c_etapt_2\",\"fTitle\":\"c_etapt_2\",\"fNumPaletteColor\":0,\"fNextPaletteColor\":0},{\"_typename\":\"TStyle\",\"fUniqueID\":0,\"fBits\":0,\"fName\":\"Modern\",\"fTitle\":\"Modern Style\",\"fLineColor\":1,\"fLineStyle\":1,\"fLineWidth\":1,\"fFillColor\":19,\"fFillStyle\":1001,\"fMarkerColor\":1,\"fMarkerStyle\":1,\"fMarkerSize\":1,\"fTextAngle\":0,\"fTextSize\":0.05,\"fTextAlign\":11,\"fTextColor\":1,\"fTextFont\":62,\"fXaxis\":{\"_typename\":\"TAttAxis\",\"fNdivisions\":510,\"fAxisColor\":1,\"fLabelColor\":1,\"fLabelFont\":42,\"fLabelOffset\":0.005,\"fLabelSize\":0.035,\"fTickLength\":0.03,\"fTitleOffset\":1,\"fTitleSize\":0.035,\"fTitleColor\":1,\"fTitleFont\":42},\"fYaxis\":{\"_typename\":\"TAttAxis\",\"fNdivisions\":510,\"fAxisColor\":1,\"fLabelColor\":1,\"fLabelFont\":42,\"fLabelOffset\":0.005,\"fLabelSize\":0.035,\"fTickLength\":0.03,\"fTitleOffset\":0,\"fTitleSize\":0.035,\"fTitleColor\":1,\"fTitleFont\":42},\"fZaxis\":{\"_typename\":\"TAttAxis\",\"fNdivisions\":510,\"fAxisColor\":1,\"fLabelColor\":1,\"fLabelFont\":42,\"fLabelOffset\":0.005,\"fLabelSize\":0.035,\"fTickLength\":0.03,\"fTitleOffset\":1,\"fTitleSize\":0.035,\"fTitleColor\":1,\"fTitleFont\":42},\"fBarWidth\":1,\"fBarOffset\":0,\"fColorModelPS\":0,\"fDrawBorder\":0,\"fOptLogx\":0,\"fOptLogy\":0,\"fOptLogz\":0,\"fOptDate\":0,\"fOptStat\":1111,\"fOptTitle\":1,\"fOptFile\":0,\"fOptFit\":0,\"fShowEventStatus\":0,\"fShowEditor\":0,\"fShowToolBar\":0,\"fNumberContours\":20,\"fAttDate\":{\"_typename\":\"TAttText\",\"fTextAngle\":0,\"fTextSize\":0.025,\"fTextAlign\":11,\"fTextColor\":1,\"fTextFont\":62},\"fDateX\":0.01,\"fDateY\":0.01,\"fEndErrorSize\":2,\"fErrorX\":0.5,\"fFuncColor\":2,\"fFuncStyle\":1,\"fFuncWidth\":2,\"fGridColor\":0,\"fGridStyle\":3,\"fGridWidth\":1,\"fLegendBorderSize\":1,\"fLegendFillColor\":0,\"fLegendFont\":42,\"fLegendTextSize\":0,\"fHatchesLineWidth\":1,\"fHatchesSpacing\":1,\"fFrameFillColor\":0,\"fFrameLineColor\":1,\"fFrameFillStyle\":1001,\"fFrameLineStyle\":1,\"fFrameLineWidth\":1,\"fFrameBorderSize\":1,\"fFrameBorderMode\":0,\"fHistFillColor\":0,\"fHistLineColor\":602,\"fHistFillStyle\":1001,\"fHistLineStyle\":1,\"fHistLineWidth\":1,\"fHistMinimumZero\":false,\"fHistTopMargin\":0.05,\"fCanvasPreferGL\":false,\"fCanvasColor\":0,\"fCanvasBorderSize\":2,\"fCanvasBorderMode\":0,\"fCanvasDefH\":500,\"fCanvasDefW\":700,\"fCanvasDefX\":10,\"fCanvasDefY\":10,\"fPadColor\":0,\"fPadBorderSize\":2,\"fPadBorderMode\":0,\"fPadBottomMargin\":0.1,\"fPadTopMargin\":0.1,\"fPadLeftMargin\":0.1,\"fPadRightMargin\":0.1,\"fPadGridX\":false,\"fPadGridY\":false,\"fPadTickX\":0,\"fPadTickY\":0,\"fPaperSizeX\":20,\"fPaperSizeY\":26,\"fScreenFactor\":1,\"fStatColor\":0,\"fStatTextColor\":1,\"fStatBorderSize\":1,\"fStatFont\":42,\"fStatFontSize\":0,\"fStatStyle\":1001,\"fStatFormat\":\"6.4g\",\"fStatX\":0.98,\"fStatY\":0.935,\"fStatW\":0.2,\"fStatH\":0.16,\"fStripDecimals\":true,\"fTitleAlign\":23,\"fTitleColor\":0,\"fTitleTextColor\":1,\"fTitleBorderSize\":0,\"fTitleFont\":42,\"fTitleFontSize\":0.05,\"fTitleStyle\":0,\"fTitleX\":0.5,\"fTitleY\":0.995,\"fTitleW\":0,\"fTitleH\":0,\"fLegoInnerR\":0.5,\"fLineStyle\":[\"\",\"  \",\" 12 12\",\" 4 8\",\" 12 16 4 16\",\" 20 12 4 12\",\" 20 12 4 12 4 12 4 12\",\" 20 20\",\" 20 12 4 12 4 12\",\" 80 20\",\" 80 40 4 40\",\"  \",\"  \",\"  \",\"  \",\"  \",\"  \",\"  \",\"  \",\"  \",\"  \",\"  \",\"  \",\"  \",\"  \",\"  \",\"  \",\"  \",\"  \",\"  \"],\"fHeaderPS\":\"\",\"fTitlePS\":\"\",\"fFitFormat\":\"5.4g\",\"fPaintTextFormat\":\"g\",\"fLineScalePS\":3,\"fJoinLinePS\":0,\"fCapLinePS\":0,\"fTimeOffset\":788918400,\"fImageScaling\":1}],\"opt\":[\"\",\"\",\"\"]},\"fExecs\":null,\"fName\":\"c_etapt\",\"fTitle\":\"\",\"fNumPaletteColor\":0,\"fNextPaletteColor\":0,\"fDISPLAY\":\"$DISPLAY\",\"fDoubleBuffer\":0,\"fRetained\":true,\"fXsizeUser\":0,\"fYsizeUser\":0,\"fXsizeReal\":20,\"fYsizeReal\":7.5,\"fWindowTopX\":0,\"fWindowTopY\":0,\"fWindowWidth\":0,\"fWindowHeight\":0,\"fCw\":1596,\"fCh\":572,\"fCatt\":{\"_typename\":\"TAttCanvas\",\"fXBetween\":2,\"fYBetween\":2,\"fTitleFromTop\":1.2,\"fXdate\":0.2,\"fYdate\":0.3,\"fAdate\":1},\"kMoveOpaque\":true,\"kResizeOpaque\":true,\"fHighLightColor\":2,\"fBatch\":true,\"kShowEventStatus\":false,\"kAutoExec\":true,\"kMenuBar\":true});\n",
       "   Core.settings.HandleKeys = false;\n",
       "   Core.draw(\"root_plot_1674749880740\", obj, \"\");\n",
       "}\n",
       "\n",
       "function script_load_root_plot_1674749880740(src, on_error) {\n",
       "    let script = document.createElement('script');\n",
       "    script.src = src;\n",
       "    script.onload = function() { display_root_plot_1674749880740(JSROOT); };\n",
       "    script.onerror = function() { script.remove(); on_error(); };\n",
       "    document.head.appendChild(script);\n",
       "}\n",
       "\n",
       "if (typeof requirejs !== 'undefined') {\n",
       "\n",
       "    // We are in jupyter notebooks, use require.js which should be configured already\n",
       "    requirejs.config({\n",
       "       paths: { 'JSRootCore' : [ 'scripts/JSRoot.core', 'https://root.cern/js/6.1.1/scripts/JSRoot.core.min', 'https://jsroot.gsi.de/6.1.1/scripts/JSRoot.core.min' ] }\n",
       "    })(['JSRootCore'],  function(Core) {\n",
       "       display_root_plot_1674749880740(Core);\n",
       "    });\n",
       "\n",
       "} else if (typeof JSROOT !== 'undefined') {\n",
       "\n",
       "   // JSROOT already loaded, just use it\n",
       "   display_root_plot_1674749880740(JSROOT);\n",
       "\n",
       "} else {\n",
       "\n",
       "    // We are in jupyterlab without require.js, directly loading jsroot\n",
       "    // Jupyterlab might be installed in a different base_url so we need to know it.\n",
       "    try {\n",
       "        var base_url = JSON.parse(document.getElementById('jupyter-config-data').innerHTML).baseUrl;\n",
       "    } catch(_) {\n",
       "        var base_url = '/';\n",
       "    }\n",
       "\n",
       "    // Try loading a local version of requirejs and fallback to cdn if not possible.\n",
       "    script_load_root_plot_1674749880740(base_url + 'static/scripts/JSRoot.core.js', function(){\n",
       "        console.error('Fail to load JSROOT locally, please check your jupyter_notebook_config.py file');\n",
       "        script_load_root_plot_1674749880740('https://root.cern/js/6.1.1/scripts/JSRoot.core.min.js', function(){\n",
       "            document.getElementById(\"root_plot_1674749880740\").innerHTML = \"Failed to load JSROOT\";\n",
       "        });\n",
       "    });\n",
       "}\n",
       "\n",
       "</script>\n"
      ],
      "text/plain": [
       "<IPython.core.display.HTML object>"
      ]
     },
     "metadata": {},
     "output_type": "display_data"
    }
   ],
   "source": [
    "leg=ROOT.TLegend(0.8,0.75,0.9,0.9)\n",
    "for p in parts:\n",
    "    leg.AddEntry(hpt[p], labels[p])\n",
    "\n",
    "c_etapt.cd(1).SetLogy()\n",
    "frame_pt=c_etapt.cd(1).DrawFrame(0,maxpt*1e-8,10,10*maxpt)\n",
    "frame_pt.GetXaxis().SetTitle(\"p_{T} [GeV/c]\")\n",
    "frame_pt.GetXaxis().SetTitleOffset(1.5)\n",
    "frame_pt.GetYaxis().SetTitleSize(15)\n",
    "frame_pt.GetYaxis().SetTitle(\"#frac{1}{p_{T}}#frac{dN}{dp_{T}} [GeV/c]^{-2}\")\n",
    "frame_pt.Draw()\n",
    "for p in parts:\n",
    "    hpt[p].Draw(\"p same\")\n",
    "leg.Draw()\n",
    "\n",
    "c_etapt.cd(2)\n",
    "frame_eta=c_etapt.cd(2).DrawFrame(-12,0,12,1.1*maxeta)\n",
    "frame_eta.GetXaxis().SetTitle(\"#eta\")\n",
    "frame_eta.GetYaxis().SetTitleSize(15)\n",
    "frame_eta.GetYaxis().SetTitle(\"#frac{dN}{d#eta} \")\n",
    "frame_eta.Draw()\n",
    "for p in parts:\n",
    "    heta[p].Draw(\"p same\")\n",
    "    \n",
    "leg.Draw()\n",
    "\n",
    "c_etapt.Draw()"
   ]
  },
  {
   "cell_type": "markdown",
   "metadata": {},
   "source": [
    "## $K^*$ meson production"
   ]
  },
  {
   "cell_type": "markdown",
   "metadata": {},
   "source": [
    "### Generate 10000 $p+p$ events at 14 TeV and look for $K^*$ meson by plotting invariant mass of $\\pi^-K^+$ pairs. Compare this spectrum with invariant mass spectrum of produced $K^*$'s decaying into kaon and pion."
   ]
  },
  {
   "cell_type": "markdown",
   "metadata": {},
   "source": [
    "* create two one dimensional histograms to hold invariant masses of  $\\pi^--K^+$ pairs and $K^*$ mesons (300 bins each, range (0.5,2) GeV/$c^2$)\n",
    "* during event generation in each event separately create lists of $\\pi^-$'s and $K^+$'s and fill invariant mass histogram with invariant masses of all possible $\\pi^--K^+$ pairs, use `getMinv` function defined above\n",
    "  * HINT: use `itertools.product` (`it.product`), if `A` and `B` are lists, then `list(it.product(A,B))` is the list of all possible pairs where one element is from `A` and the other is from `B`\n",
    "* second histogram should be filled with invariant masses of $K^*$'s decaying to pion and kaon, use `TParticle::GetDaughter(int n)` method (`n=0,1`, e.g. `p.GetDaugther(0), p.GetDaugther(1)`) to select the desired decay channel, this method returns *index* of the daughter particle - in order to access corresponding `TParticle` opject we have to directly access `particles[p.GetDaughter(0)]`\n",
    "* create new `TCanvas`, present the two distributions on one plot with apropriate axes labels, different colors and legend"
   ]
  },
  {
   "cell_type": "code",
   "execution_count": 10,
   "metadata": {
    "tags": []
   },
   "outputs": [
    {
     "name": "stderr",
     "output_type": "stream",
     "text": [
      "Warning in <TParticle::SetPdgCode>: PDG code 9941103 unknown from TDatabasePDG\n",
      "Warning in <TParticle::SetPdgCode>: PDG code 9941103 unknown from TDatabasePDG\n"
     ]
    },
    {
     "data": {
      "text/html": [
       "\n",
       "\n",
       "<div id=\"root_plot_1674749905262\"\n",
       "     style=\"width: 796px; height: 572px\">\n",
       "</div>\n",
       "<script>\n",
       "\n",
       "function display_root_plot_1674749905262(Core) {\n",
       "   let obj = Core.parse({\"_typename\":\"TCanvas\",\"fUniqueID\":0,\"fBits\":3342344,\"fLineColor\":1,\"fLineStyle\":1,\"fLineWidth\":1,\"fFillColor\":0,\"fFillStyle\":1001,\"fLeftMargin\":0.1,\"fRightMargin\":0.1,\"fBottomMargin\":0.1,\"fTopMargin\":0.1,\"fXfile\":2,\"fYfile\":2,\"fAfile\":1,\"fXstat\":0.99,\"fYstat\":0.99,\"fAstat\":2,\"fFrameFillColor\":0,\"fFrameLineColor\":1,\"fFrameFillStyle\":1001,\"fFrameLineStyle\":1,\"fFrameLineWidth\":1,\"fFrameBorderSize\":1,\"fFrameBorderMode\":0,\"fX1\":0.312499986030161,\"fY1\":-209.606265616884,\"fX2\":2.18750001396984,\"fY2\":1886.45626561688,\"fXtoAbsPixelk\":-132.666608759117,\"fXtoPixelk\":-132.666608759117,\"fXtoPixel\":424.533327007293,\"fYtoAbsPixelk\":514.800046590614,\"fYtoPixelk\":514.800046590614,\"fYtoPixel\":-0.272892621988388,\"fUtoAbsPixelk\":5e-5,\"fUtoPixelk\":5e-5,\"fUtoPixel\":796,\"fVtoAbsPixelk\":572.00005,\"fVtoPixelk\":572,\"fVtoPixel\":-572,\"fAbsPixeltoXk\":0.312499986030161,\"fPixeltoXk\":0.312499986030161,\"fPixeltoX\":0.00235552767329105,\"fAbsPixeltoYk\":1886.45626561688,\"fPixeltoYk\":-209.606265616884,\"fPixeltoY\":-3.66444498467442,\"fXlowNDC\":0,\"fYlowNDC\":0,\"fXUpNDC\":1,\"fYUpNDC\":1,\"fWNDC\":1,\"fHNDC\":1,\"fAbsXlowNDC\":0,\"fAbsYlowNDC\":0,\"fAbsWNDC\":1,\"fAbsHNDC\":1,\"fUxmin\":0.5,\"fUymin\":0,\"fUxmax\":2,\"fUymax\":1676.85,\"fTheta\":30,\"fPhi\":30,\"fAspectRatio\":0,\"fNumber\":0,\"fTickx\":0,\"fTicky\":0,\"fLogx\":0,\"fLogy\":0,\"fLogz\":0,\"fPadPaint\":0,\"fCrosshair\":0,\"fCrosshairPos\":0,\"fBorderSize\":2,\"fBorderMode\":0,\"fModified\":false,\"fGridx\":false,\"fGridy\":false,\"fAbsCoord\":false,\"fEditable\":true,\"fFixedAspectRatio\":false,\"fPrimitives\":{\"_typename\":\"TList\",\"name\":\"TList\",\"arr\":[{\"_typename\":\"TFrame\",\"fUniqueID\":0,\"fBits\":8,\"fLineColor\":1,\"fLineStyle\":1,\"fLineWidth\":1,\"fFillColor\":0,\"fFillStyle\":1001,\"fX1\":0.5,\"fY1\":0,\"fX2\":2,\"fY2\":1676.85,\"fBorderSize\":1,\"fBorderMode\":0},{\"_typename\":\"TH1D\",\"fUniqueID\":0,\"fBits\":8,\"fName\":\"h_all\",\"fTitle\":\"\",\"fLineColor\":602,\"fLineStyle\":1,\"fLineWidth\":2,\"fFillColor\":0,\"fFillStyle\":1001,\"fMarkerColor\":1,\"fMarkerStyle\":1,\"fMarkerSize\":1,\"fNcells\":302,\"fXaxis\":{\"_typename\":\"TAxis\",\"fUniqueID\":0,\"fBits\":0,\"fName\":\"xaxis\",\"fTitle\":\"M_{#pi^{-}K^{+}} [GeV\\/#it{c}^{2}]\",\"fNdivisions\":510,\"fAxisColor\":1,\"fLabelColor\":1,\"fLabelFont\":42,\"fLabelOffset\":0.005,\"fLabelSize\":0.035,\"fTickLength\":0.03,\"fTitleOffset\":1.1,\"fTitleSize\":0.035,\"fTitleColor\":1,\"fTitleFont\":42,\"fNbins\":300,\"fXmin\":0.5,\"fXmax\":2,\"fXbins\":[],\"fFirst\":0,\"fLast\":0,\"fBits2\":0,\"fTimeDisplay\":false,\"fTimeFormat\":\"\",\"fLabels\":null,\"fModLabs\":null},\"fYaxis\":{\"_typename\":\"TAxis\",\"fUniqueID\":0,\"fBits\":0,\"fName\":\"yaxis\",\"fTitle\":\"Entries\",\"fNdivisions\":510,\"fAxisColor\":1,\"fLabelColor\":1,\"fLabelFont\":42,\"fLabelOffset\":0.005,\"fLabelSize\":0.035,\"fTickLength\":0.03,\"fTitleOffset\":0,\"fTitleSize\":0.035,\"fTitleColor\":1,\"fTitleFont\":42,\"fNbins\":1,\"fXmin\":0,\"fXmax\":1,\"fXbins\":[],\"fFirst\":0,\"fLast\":0,\"fBits2\":0,\"fTimeDisplay\":false,\"fTimeFormat\":\"\",\"fLabels\":null,\"fModLabs\":null},\"fZaxis\":{\"_typename\":\"TAxis\",\"fUniqueID\":0,\"fBits\":0,\"fName\":\"zaxis\",\"fTitle\":\"\",\"fNdivisions\":510,\"fAxisColor\":1,\"fLabelColor\":1,\"fLabelFont\":42,\"fLabelOffset\":0.005,\"fLabelSize\":0.035,\"fTickLength\":0.03,\"fTitleOffset\":1,\"fTitleSize\":0.035,\"fTitleColor\":1,\"fTitleFont\":42,\"fNbins\":1,\"fXmin\":0,\"fXmax\":1,\"fXbins\":[],\"fFirst\":0,\"fLast\":0,\"fBits2\":0,\"fTimeDisplay\":false,\"fTimeFormat\":\"\",\"fLabels\":null,\"fModLabs\":null},\"fBarOffset\":0,\"fBarWidth\":1000,\"fEntries\":688144,\"fTsumw\":226737,\"fTsumw2\":226737,\"fTsumwx\":272736.800290908,\"fTsumwx2\":358590.274528624,\"fMaximum\":-1111,\"fMinimum\":-1111,\"fNormFactor\":0,\"fContour\":[],\"fSumw2\":[],\"fOption\":\"\",\"fFunctions\":{\"_typename\":\"TList\",\"name\":\"TList\",\"arr\":[],\"opt\":[]},\"fBufferSize\":0,\"fBuffer\":[],\"fBinStatErrOpt\":0,\"fStatOverflows\":2,\"fArray\":[0,0,0,0,0,0,0,0,0,0,0,0,0,0,0,0,0,0,0,0,0,0,0,0,0,0,0,39,288,419,507,570,653,685,793,778,878,843,852,966,979,962,994,997,1081,1045,1106,1122,1100,1187,1150,1161,1152,1114,1176,1187,1195,1167,1223,1210,1205,1236,1258,1252,1211,1285,1275,1304,1321,1270,1305,1293,1337,1396,1321,1463,1381,1496,1532,1510,1597,1501,1466,1482,1391,1339,1332,1298,1280,1243,1210,1161,1274,1187,1202,1207,1152,1238,1138,1200,1153,1207,1157,1092,1129,1152,1112,1062,1121,1090,1061,1023,1074,1084,1044,1058,1075,1047,1036,1008,1021,1045,973,964,998,1047,1035,1020,977,951,954,927,938,934,910,900,937,955,920,926,976,907,889,892,847,862,903,850,932,913,859,853,821,849,877,859,833,837,818,834,836,814,784,772,843,834,821,838,792,834,801,761,807,753,774,762,682,749,734,771,752,747,718,721,733,712,769,695,730,740,701,739,689,652,738,702,663,669,662,689,622,647,664,657,686,616,635,641,660,698,624,617,635,626,631,651,651,611,610,620,617,603,608,620,593,561,552,595,584,641,585,602,585,608,547,615,567,644,558,555,536,540,575,584,574,564,533,555,541,521,586,511,510,522,522,536,541,528,523,523,531,475,475,517,529,516,511,514,498,529,484,519,486,499,479,495,483,481,512,485,493,452,541,474,440,463,489,449,449,441,424,429,417,495,455,440,444,496,460,434,428,461407]},{\"_typename\":\"TH1D\",\"fUniqueID\":0,\"fBits\":8,\"fName\":\"h_pure\",\"fTitle\":\"\",\"fLineColor\":632,\"fLineStyle\":1,\"fLineWidth\":2,\"fFillColor\":0,\"fFillStyle\":1001,\"fMarkerColor\":1,\"fMarkerStyle\":1,\"fMarkerSize\":1,\"fNcells\":302,\"fXaxis\":{\"_typename\":\"TAxis\",\"fUniqueID\":0,\"fBits\":0,\"fName\":\"xaxis\",\"fTitle\":\"\",\"fNdivisions\":510,\"fAxisColor\":1,\"fLabelColor\":1,\"fLabelFont\":42,\"fLabelOffset\":0.005,\"fLabelSize\":0.035,\"fTickLength\":0.03,\"fTitleOffset\":1,\"fTitleSize\":0.035,\"fTitleColor\":1,\"fTitleFont\":42,\"fNbins\":300,\"fXmin\":0.5,\"fXmax\":2,\"fXbins\":[],\"fFirst\":0,\"fLast\":0,\"fBits2\":0,\"fTimeDisplay\":false,\"fTimeFormat\":\"\",\"fLabels\":null,\"fModLabs\":null},\"fYaxis\":{\"_typename\":\"TAxis\",\"fUniqueID\":0,\"fBits\":0,\"fName\":\"yaxis\",\"fTitle\":\"\",\"fNdivisions\":510,\"fAxisColor\":1,\"fLabelColor\":1,\"fLabelFont\":42,\"fLabelOffset\":0.005,\"fLabelSize\":0.035,\"fTickLength\":0.03,\"fTitleOffset\":0,\"fTitleSize\":0.035,\"fTitleColor\":1,\"fTitleFont\":42,\"fNbins\":1,\"fXmin\":0,\"fXmax\":1,\"fXbins\":[],\"fFirst\":0,\"fLast\":0,\"fBits2\":0,\"fTimeDisplay\":false,\"fTimeFormat\":\"\",\"fLabels\":null,\"fModLabs\":null},\"fZaxis\":{\"_typename\":\"TAxis\",\"fUniqueID\":0,\"fBits\":0,\"fName\":\"zaxis\",\"fTitle\":\"\",\"fNdivisions\":510,\"fAxisColor\":1,\"fLabelColor\":1,\"fLabelFont\":42,\"fLabelOffset\":0.005,\"fLabelSize\":0.035,\"fTickLength\":0.03,\"fTitleOffset\":1,\"fTitleSize\":0.035,\"fTitleColor\":1,\"fTitleFont\":42,\"fNbins\":1,\"fXmin\":0,\"fXmax\":1,\"fXbins\":[],\"fFirst\":0,\"fLast\":0,\"fBits2\":0,\"fTimeDisplay\":false,\"fTimeFormat\":\"\",\"fLabels\":null,\"fModLabs\":null},\"fBarOffset\":0,\"fBarWidth\":1000,\"fEntries\":5003,\"fTsumw\":5003,\"fTsumw2\":5003,\"fTsumwx\":4549.30640323609,\"fTsumwx2\":4158.82618577373,\"fMaximum\":-1111,\"fMinimum\":-1111,\"fNormFactor\":0,\"fContour\":[],\"fSumw2\":[],\"fOption\":\"\",\"fFunctions\":{\"_typename\":\"TList\",\"name\":\"TList\",\"arr\":[],\"opt\":[]},\"fBufferSize\":0,\"fBuffer\":[],\"fBinStatErrOpt\":0,\"fStatOverflows\":2,\"fArray\":[0,0,0,0,0,0,0,0,0,0,0,0,0,0,0,0,0,0,0,0,0,0,0,0,0,0,0,0,0,0,0,0,3,0,0,2,2,1,0,1,0,1,2,4,7,2,6,6,7,4,5,4,6,3,8,4,10,13,11,12,14,21,15,21,28,25,34,40,48,51,68,79,79,109,160,207,218,293,295,296,337,294,261,225,204,166,136,124,87,76,77,59,54,52,35,33,34,36,34,30,23,15,22,20,14,20,16,17,14,18,16,8,17,11,11,11,11,8,10,7,3,9,7,4,7,6,12,8,7,5,3,6,6,6,8,3,9,9,6,5,6,0,0,0,0,0,0,0,0,0,0,0,0,0,0,0,0,0,0,0,0,0,0,0,0,0,0,0,0,0,0,0,0,0,0,0,0,0,0,0,0,0,0,0,0,0,0,0,0,0,0,0,0,0,0,0,0,0,0,0,0,0,0,0,0,0,0,0,0,0,0,0,0,0,0,0,0,0,0,0,0,0,0,0,0,0,0,0,0,0,0,0,0,0,0,0,0,0,0,0,0,0,0,0,0,0,0,0,0,0,0,0,0,0,0,0,0,0,0,0,0,0,0,0,0,0,0,0,0,0,0,0,0,0,0,0,0,0,0,0,0,0,0,0,0,0,0,0,0,0,0,0,0,0,0,0,0,0,0,0,0,0]},{\"_typename\":\"TLegend\",\"fUniqueID\":0,\"fBits\":8,\"fLineColor\":1,\"fLineStyle\":1,\"fLineWidth\":1,\"fFillColor\":0,\"fFillStyle\":1001,\"fX1\":1.25,\"fY1\":1257.63750624675,\"fX2\":2.00000001117587,\"fY2\":1676.85001249351,\"fX1NDC\":0.5,\"fY1NDC\":0.7,\"fX2NDC\":0.9,\"fY2NDC\":0.9,\"fBorderSize\":1,\"fInit\":1,\"fShadowColor\":1,\"fCornerRadius\":0,\"fOption\":\"brNDC\",\"fName\":\"TPave\",\"fTextAngle\":0,\"fTextSize\":0,\"fTextAlign\":12,\"fTextColor\":1,\"fTextFont\":42,\"fPrimitives\":{\"_typename\":\"TList\",\"name\":\"TList\",\"arr\":[{\"_typename\":\"TLegendEntry\",\"fUniqueID\":0,\"fBits\":0,\"fTextAngle\":0,\"fTextSize\":0,\"fTextAlign\":0,\"fTextColor\":0,\"fTextFont\":42,\"fLineColor\":602,\"fLineStyle\":1,\"fLineWidth\":2,\"fFillColor\":0,\"fFillStyle\":1001,\"fMarkerColor\":1,\"fMarkerStyle\":1,\"fMarkerSize\":1,\"fObject\":{\"$ref\":3},\"fLabel\":\"all #pi^{-}K^{+} pairs\",\"fOption\":\"lpf\"},{\"_typename\":\"TLegendEntry\",\"fUniqueID\":0,\"fBits\":0,\"fTextAngle\":0,\"fTextSize\":0,\"fTextAlign\":0,\"fTextColor\":0,\"fTextFont\":42,\"fLineColor\":632,\"fLineStyle\":1,\"fLineWidth\":2,\"fFillColor\":0,\"fFillStyle\":1001,\"fMarkerColor\":1,\"fMarkerStyle\":1,\"fMarkerSize\":1,\"fObject\":{\"$ref\":8},\"fLabel\":\"#pi^{-}K^{+} pairs from K^{*} decay\",\"fOption\":\"lpf\"}],\"opt\":[\"lpf\",\"lpf\"]},\"fEntrySeparation\":0.1,\"fMargin\":0.25,\"fNColumns\":1,\"fColumnSeparation\":0},{\"_typename\":\"TStyle\",\"fUniqueID\":0,\"fBits\":0,\"fName\":\"Modern\",\"fTitle\":\"Modern Style\",\"fLineColor\":1,\"fLineStyle\":1,\"fLineWidth\":1,\"fFillColor\":19,\"fFillStyle\":1001,\"fMarkerColor\":1,\"fMarkerStyle\":1,\"fMarkerSize\":1,\"fTextAngle\":0,\"fTextSize\":0.05,\"fTextAlign\":11,\"fTextColor\":1,\"fTextFont\":62,\"fXaxis\":{\"_typename\":\"TAttAxis\",\"fNdivisions\":510,\"fAxisColor\":1,\"fLabelColor\":1,\"fLabelFont\":42,\"fLabelOffset\":0.005,\"fLabelSize\":0.035,\"fTickLength\":0.03,\"fTitleOffset\":1,\"fTitleSize\":0.035,\"fTitleColor\":1,\"fTitleFont\":42},\"fYaxis\":{\"_typename\":\"TAttAxis\",\"fNdivisions\":510,\"fAxisColor\":1,\"fLabelColor\":1,\"fLabelFont\":42,\"fLabelOffset\":0.005,\"fLabelSize\":0.035,\"fTickLength\":0.03,\"fTitleOffset\":0,\"fTitleSize\":0.035,\"fTitleColor\":1,\"fTitleFont\":42},\"fZaxis\":{\"_typename\":\"TAttAxis\",\"fNdivisions\":510,\"fAxisColor\":1,\"fLabelColor\":1,\"fLabelFont\":42,\"fLabelOffset\":0.005,\"fLabelSize\":0.035,\"fTickLength\":0.03,\"fTitleOffset\":1,\"fTitleSize\":0.035,\"fTitleColor\":1,\"fTitleFont\":42},\"fBarWidth\":1,\"fBarOffset\":0,\"fColorModelPS\":0,\"fDrawBorder\":0,\"fOptLogx\":0,\"fOptLogy\":0,\"fOptLogz\":0,\"fOptDate\":0,\"fOptStat\":0,\"fOptTitle\":1,\"fOptFile\":0,\"fOptFit\":0,\"fShowEventStatus\":0,\"fShowEditor\":0,\"fShowToolBar\":0,\"fNumberContours\":20,\"fAttDate\":{\"_typename\":\"TAttText\",\"fTextAngle\":0,\"fTextSize\":0.025,\"fTextAlign\":11,\"fTextColor\":1,\"fTextFont\":62},\"fDateX\":0.01,\"fDateY\":0.01,\"fEndErrorSize\":2,\"fErrorX\":0.5,\"fFuncColor\":2,\"fFuncStyle\":1,\"fFuncWidth\":2,\"fGridColor\":0,\"fGridStyle\":3,\"fGridWidth\":1,\"fLegendBorderSize\":1,\"fLegendFillColor\":0,\"fLegendFont\":42,\"fLegendTextSize\":0,\"fHatchesLineWidth\":1,\"fHatchesSpacing\":1,\"fFrameFillColor\":0,\"fFrameLineColor\":1,\"fFrameFillStyle\":1001,\"fFrameLineStyle\":1,\"fFrameLineWidth\":1,\"fFrameBorderSize\":1,\"fFrameBorderMode\":0,\"fHistFillColor\":0,\"fHistLineColor\":602,\"fHistFillStyle\":1001,\"fHistLineStyle\":1,\"fHistLineWidth\":1,\"fHistMinimumZero\":false,\"fHistTopMargin\":0.05,\"fCanvasPreferGL\":false,\"fCanvasColor\":0,\"fCanvasBorderSize\":2,\"fCanvasBorderMode\":0,\"fCanvasDefH\":500,\"fCanvasDefW\":700,\"fCanvasDefX\":10,\"fCanvasDefY\":10,\"fPadColor\":0,\"fPadBorderSize\":2,\"fPadBorderMode\":0,\"fPadBottomMargin\":0.1,\"fPadTopMargin\":0.1,\"fPadLeftMargin\":0.1,\"fPadRightMargin\":0.1,\"fPadGridX\":false,\"fPadGridY\":false,\"fPadTickX\":0,\"fPadTickY\":0,\"fPaperSizeX\":20,\"fPaperSizeY\":26,\"fScreenFactor\":1,\"fStatColor\":0,\"fStatTextColor\":1,\"fStatBorderSize\":1,\"fStatFont\":42,\"fStatFontSize\":0,\"fStatStyle\":1001,\"fStatFormat\":\"6.4g\",\"fStatX\":0.98,\"fStatY\":0.935,\"fStatW\":0.2,\"fStatH\":0.16,\"fStripDecimals\":true,\"fTitleAlign\":23,\"fTitleColor\":0,\"fTitleTextColor\":1,\"fTitleBorderSize\":0,\"fTitleFont\":42,\"fTitleFontSize\":0.05,\"fTitleStyle\":0,\"fTitleX\":0.5,\"fTitleY\":0.995,\"fTitleW\":0,\"fTitleH\":0,\"fLegoInnerR\":0.5,\"fLineStyle\":[\"\",\"  \",\" 12 12\",\" 4 8\",\" 12 16 4 16\",\" 20 12 4 12\",\" 20 12 4 12 4 12 4 12\",\" 20 20\",\" 20 12 4 12 4 12\",\" 80 20\",\" 80 40 4 40\",\"  \",\"  \",\"  \",\"  \",\"  \",\"  \",\"  \",\"  \",\"  \",\"  \",\"  \",\"  \",\"  \",\"  \",\"  \",\"  \",\"  \",\"  \",\"  \"],\"fHeaderPS\":\"\",\"fTitlePS\":\"\",\"fFitFormat\":\"5.4g\",\"fPaintTextFormat\":\"g\",\"fLineScalePS\":3,\"fJoinLinePS\":0,\"fCapLinePS\":0,\"fTimeOffset\":788918400,\"fImageScaling\":1}],\"opt\":[\"\",\"\",\"same\",\"\",\"\"]},\"fExecs\":null,\"fName\":\"c\",\"fTitle\":\"\",\"fNumPaletteColor\":0,\"fNextPaletteColor\":0,\"fDISPLAY\":\"$DISPLAY\",\"fDoubleBuffer\":0,\"fRetained\":true,\"fXsizeUser\":0,\"fYsizeUser\":0,\"fXsizeReal\":20,\"fYsizeReal\":15,\"fWindowTopX\":0,\"fWindowTopY\":0,\"fWindowWidth\":0,\"fWindowHeight\":0,\"fCw\":796,\"fCh\":572,\"fCatt\":{\"_typename\":\"TAttCanvas\",\"fXBetween\":2,\"fYBetween\":2,\"fTitleFromTop\":1.2,\"fXdate\":0.2,\"fYdate\":0.3,\"fAdate\":1},\"kMoveOpaque\":true,\"kResizeOpaque\":true,\"fHighLightColor\":2,\"fBatch\":true,\"kShowEventStatus\":false,\"kAutoExec\":true,\"kMenuBar\":true});\n",
       "   Core.settings.HandleKeys = false;\n",
       "   Core.draw(\"root_plot_1674749905262\", obj, \"\");\n",
       "}\n",
       "\n",
       "function script_load_root_plot_1674749905262(src, on_error) {\n",
       "    let script = document.createElement('script');\n",
       "    script.src = src;\n",
       "    script.onload = function() { display_root_plot_1674749905262(JSROOT); };\n",
       "    script.onerror = function() { script.remove(); on_error(); };\n",
       "    document.head.appendChild(script);\n",
       "}\n",
       "\n",
       "if (typeof requirejs !== 'undefined') {\n",
       "\n",
       "    // We are in jupyter notebooks, use require.js which should be configured already\n",
       "    requirejs.config({\n",
       "       paths: { 'JSRootCore' : [ 'scripts/JSRoot.core', 'https://root.cern/js/6.1.1/scripts/JSRoot.core.min', 'https://jsroot.gsi.de/6.1.1/scripts/JSRoot.core.min' ] }\n",
       "    })(['JSRootCore'],  function(Core) {\n",
       "       display_root_plot_1674749905262(Core);\n",
       "    });\n",
       "\n",
       "} else if (typeof JSROOT !== 'undefined') {\n",
       "\n",
       "   // JSROOT already loaded, just use it\n",
       "   display_root_plot_1674749905262(JSROOT);\n",
       "\n",
       "} else {\n",
       "\n",
       "    // We are in jupyterlab without require.js, directly loading jsroot\n",
       "    // Jupyterlab might be installed in a different base_url so we need to know it.\n",
       "    try {\n",
       "        var base_url = JSON.parse(document.getElementById('jupyter-config-data').innerHTML).baseUrl;\n",
       "    } catch(_) {\n",
       "        var base_url = '/';\n",
       "    }\n",
       "\n",
       "    // Try loading a local version of requirejs and fallback to cdn if not possible.\n",
       "    script_load_root_plot_1674749905262(base_url + 'static/scripts/JSRoot.core.js', function(){\n",
       "        console.error('Fail to load JSROOT locally, please check your jupyter_notebook_config.py file');\n",
       "        script_load_root_plot_1674749905262('https://root.cern/js/6.1.1/scripts/JSRoot.core.min.js', function(){\n",
       "            document.getElementById(\"root_plot_1674749905262\").innerHTML = \"Failed to load JSROOT\";\n",
       "        });\n",
       "    });\n",
       "}\n",
       "\n",
       "</script>\n"
      ],
      "text/plain": [
       "<IPython.core.display.HTML object>"
      ]
     },
     "metadata": {},
     "output_type": "display_data"
    }
   ],
   "source": [
    "nEvents=10000\n",
    "h=ROOT.TH1D(\"h_all\",\"\",300,0.5,2)\n",
    "hpure=ROOT.TH1D(\"h_pure\",\"\",300,0.5,2)\n",
    "\n",
    "def getKstarCandidates(parts):\n",
    "    pim = [p for p in parts if isFinal(p,\"pi-\")]\n",
    "    kp = [p for p in parts if isFinal(p,\"K+\")]\n",
    "    return list(it.product(pim,kp))\n",
    "\n",
    "\n",
    "for i in range(nEvents):\n",
    "    pythia.GenerateEvent()\n",
    "    pythia.ImportParticles(particles,\"All\")\n",
    "    #for all possible pi- K+ pairs we fill invariant mass histogram\n",
    "    for pair in getKstarCandidates(particles):\n",
    "        h.Fill(getMinv(pair))\n",
    "    #now we look for actual K*'s that decayed:\n",
    "    for p in particles:\n",
    "        if p.GetName()==\"K*0\":\n",
    "            #we accept K* only if it decayed to pion and kaon\n",
    "            d0=particles[p.GetDaughter(0)].GetName()\n",
    "            d1=particles[p.GetDaughter(1)].GetName()\n",
    "            if {d0,d1} != {\"pi-\",\"K+\"}:\n",
    "                continue\n",
    "            p4=ROOT.TLorentzVector()\n",
    "            p.Momentum(p4)\n",
    "            hpure.Fill(p4.M())\n",
    "\n",
    "\n",
    "c_kstar = ROOT.TCanvas(\"c\",\"\",800,600)\n",
    "ROOT.gStyle.SetOptStat(0)\n",
    "h.GetXaxis().SetTitle(\"M_{#pi^{-}K^{+}} [GeV/#it{c}^{2}]\")\n",
    "h.GetXaxis().SetTitleOffset(1.1)\n",
    "h.GetYaxis().SetTitle(\"Entries\")\n",
    "h.SetLineWidth(2)\n",
    "h.Draw()\n",
    "hpure.SetLineWidth(2)\n",
    "hpure.SetLineColor(ROOT.kRed)\n",
    "hpure.Draw(\"same\")\n",
    "leg=ROOT.TLegend(0.5,0.7,0.9,0.9)\n",
    "leg.AddEntry(h,\"all #pi^{-}K^{+} pairs\")\n",
    "leg.AddEntry(hpure,\"#pi^{-}K^{+} pairs from K^{*} decay\")\n",
    "leg.Draw()\n",
    "c_kstar.Draw()"
   ]
  },
  {
   "cell_type": "markdown",
   "metadata": {
    "tags": []
   },
   "source": [
    "## $Z$ boson production in $p+\\bar{p}$ collisions"
   ]
  },
  {
   "cell_type": "markdown",
   "metadata": {},
   "source": [
    "### Generate 10000 $p+\\bar{p}$ events at 630 GeV of $Z$ production ($Z$ discovery at CERN SPS)."
   ]
  },
  {
   "cell_type": "markdown",
   "metadata": {},
   "source": [
    "Setup:\n",
    "* in order to look at $Z$ boson production we limit physics list of Pythia8 to include only hard $f\\bar{f}\\to Z \\to f\\bar{f}$ processes\n",
    "* moreover, we will disable all $Z$ decay modes other than $Z\\to e^+e^-$, in which the particle was discovered\n",
    "* to speed up the simulation we disable hadronisation (we are interested only in leptonic final states)\n",
    "* we also limit phase space to $\\pm 20$ GeV around the $Z$ rest mass\n",
    "\n",
    "To do:\n",
    "* select candidates for products of $Z$ decay in each event and plot their invariant mass distribution in range 70-110 GeV\n",
    "* check influence of final state radiation on the spectrum - generate additional 10000 events with FSR turned off\n",
    "* normalize histograms so that their maxima are at $1$\n",
    "* draw both distributions (as a histograms, option `\"hist\"`) on the same plot with axis labels and a legend\n",
    "* draw $\\frac{1}{p_T}\\frac{dN}{dp_T}$ and $\\frac{dN}{d\\eta}$ spectra of produced $Z$ bosons (only for one dataset, with FSR on), with axis labels and proper normalisation, pick the $x$ axis ranges so that the whole distribution fits inside the plot\n",
    "  * **hint:** $Z$ boson will occur multiple times in the event listing (why?), it will never be a final particle, pick only $Z$'s that appear *last* in each event\n",
    "* what is the *mean* number $\\langle N_Z\\rangle$ of $Z$ bosons produced in an event, with what error? is this result surprising?\n",
    "  * **hint:** $\\langle N \\rangle = \\int\\limits_0^\\infty \\frac{dN}{dp_T}\\cdot dp_T = \\int\\limits_{-\\infty}^\\infty \\frac{dN}{d\\eta}\\cdot d\\eta$"
   ]
  },
  {
   "cell_type": "code",
   "execution_count": 11,
   "metadata": {
    "tags": []
   },
   "outputs": [
    {
     "name": "stdout",
     "output_type": "stream",
     "text": [
      "Mean number of Z bosons per event: <N_Z>=1.000 +/- 0.010\n",
      " *** TDatabasePDG::AddParticle: particle with PDGcode=90 already defined\n",
      " *** TDatabasePDG::AddParticle: particle with PDGcode=9900110 already defined\n",
      " *** TDatabasePDG::AddParticle: particle with PDGcode=9900210 already defined\n",
      " *** TDatabasePDG::AddParticle: particle with PDGcode=9900220 already defined\n",
      " *** TDatabasePDG::AddParticle: particle with PDGcode=9900330 already defined\n",
      " *** TDatabasePDG::AddParticle: particle with PDGcode=9900440 already defined\n",
      " *** TDatabasePDG::AddParticle: particle with PDGcode=9902110 already defined\n",
      " *** TDatabasePDG::AddParticle: particle with PDGcode=9902210 already defined\n",
      " PYTHIA Warning in MultipartonInteractions::init: maximum increased by factor 1.019\n",
      " PYTHIA Warning in JunctionSplitting::SplitJunPairs: parallel junction state not allowed.  \n",
      " PYTHIA Warning in JunctionSplitting::CheckColours: Not possible to split junctions; making new colours  \n",
      " PYTHIA Error in BeamRemnants::add: failed to find physical colour state after colour reconnection  \n",
      " PYTHIA Warning in MultipartonInteractions::pTnext: weight above unity  \n",
      " PYTHIA Warning in SimpleSpaceShower::pT2nextQCD: weight above unity  \n",
      " *** TDatabasePDG::AddParticle: particle with PDGcode=90 already defined\n",
      " *** TDatabasePDG::AddParticle: particle with PDGcode=9900110 already defined\n",
      " *** TDatabasePDG::AddParticle: particle with PDGcode=9900210 already defined\n",
      " *** TDatabasePDG::AddParticle: particle with PDGcode=9900220 already defined\n",
      " *** TDatabasePDG::AddParticle: particle with PDGcode=9900330 already defined\n",
      " *** TDatabasePDG::AddParticle: particle with PDGcode=9900440 already defined\n",
      " *** TDatabasePDG::AddParticle: particle with PDGcode=9902110 already defined\n",
      " *** TDatabasePDG::AddParticle: particle with PDGcode=9902210 already defined\n",
      " PYTHIA Warning in MultipartonInteractions::init: maximum increased by factor 1.013\n",
      " PYTHIA Warning in JunctionSplitting::SplitJunPairs: parallel junction state not allowed.  \n",
      " PYTHIA Warning in JunctionSplitting::CheckColours: Not possible to split junctions; making new colours  \n",
      " PYTHIA Error in BeamRemnants::add: failed to find physical colour state after colour reconnection  \n",
      " PYTHIA Error in SimpleSpaceShower::pT2nearThreshold: stuck in loop  \n",
      " PYTHIA Warning in MultipartonInteractions::pTnext: weight above unity  \n",
      " PYTHIA Error in BeamRemnants::setKinematics: kinematics construction failed  \n",
      " PYTHIA Warning in SimpleSpaceShower::pT2nextQCD: weight above unity  \n"
     ]
    },
    {
     "data": {
      "text/html": [
       "\n",
       "\n",
       "<div id=\"root_plot_1674749920261\"\n",
       "     style=\"width: 1596px; height: 1172px\">\n",
       "</div>\n",
       "<script>\n",
       "\n",
       "function display_root_plot_1674749920261(Core) {\n",
       "   let obj = Core.parse({\"_typename\":\"TCanvas\",\"fUniqueID\":0,\"fBits\":3342344,\"fLineColor\":1,\"fLineStyle\":1,\"fLineWidth\":1,\"fFillColor\":0,\"fFillStyle\":1001,\"fLeftMargin\":0.1,\"fRightMargin\":0.1,\"fBottomMargin\":0.1,\"fTopMargin\":0.1,\"fXfile\":2,\"fYfile\":2,\"fAfile\":1,\"fXstat\":0.99,\"fYstat\":0.99,\"fAstat\":2,\"fFrameFillColor\":0,\"fFrameLineColor\":1,\"fFrameFillStyle\":1001,\"fFrameLineStyle\":1,\"fFrameLineWidth\":1,\"fFrameBorderSize\":1,\"fFrameBorderMode\":0,\"fX1\":0,\"fY1\":0,\"fX2\":1,\"fY2\":1,\"fXtoAbsPixelk\":5e-5,\"fXtoPixelk\":5e-5,\"fXtoPixel\":1596,\"fYtoAbsPixelk\":1172.00005,\"fYtoPixelk\":1172.00005,\"fYtoPixel\":-1172,\"fUtoAbsPixelk\":5e-5,\"fUtoPixelk\":5e-5,\"fUtoPixel\":1596,\"fVtoAbsPixelk\":1172.00005,\"fVtoPixelk\":1172,\"fVtoPixel\":-1172,\"fAbsPixeltoXk\":0,\"fPixeltoXk\":0,\"fPixeltoX\":6.265664160401e-4,\"fAbsPixeltoYk\":1,\"fPixeltoYk\":0,\"fPixeltoY\":-8.53242320819113e-4,\"fXlowNDC\":0,\"fYlowNDC\":0,\"fXUpNDC\":1,\"fYUpNDC\":1,\"fWNDC\":1,\"fHNDC\":1,\"fAbsXlowNDC\":0,\"fAbsYlowNDC\":0,\"fAbsWNDC\":1,\"fAbsHNDC\":1,\"fUxmin\":0,\"fUymin\":0,\"fUxmax\":1,\"fUymax\":1,\"fTheta\":30,\"fPhi\":30,\"fAspectRatio\":0,\"fNumber\":0,\"fTickx\":0,\"fTicky\":0,\"fLogx\":0,\"fLogy\":0,\"fLogz\":0,\"fPadPaint\":0,\"fCrosshair\":0,\"fCrosshairPos\":0,\"fBorderSize\":2,\"fBorderMode\":0,\"fModified\":false,\"fGridx\":false,\"fGridy\":false,\"fAbsCoord\":false,\"fEditable\":true,\"fFixedAspectRatio\":false,\"fPrimitives\":{\"_typename\":\"TList\",\"name\":\"TList\",\"arr\":[{\"_typename\":\"TPad\",\"fUniqueID\":0,\"fBits\":9,\"fLineColor\":1,\"fLineStyle\":1,\"fLineWidth\":1,\"fFillColor\":0,\"fFillStyle\":1001,\"fLeftMargin\":0.1,\"fRightMargin\":0.1,\"fBottomMargin\":0.1,\"fTopMargin\":0.1,\"fXfile\":2,\"fYfile\":2,\"fAfile\":1,\"fXstat\":0.99,\"fYstat\":0.99,\"fAstat\":2,\"fFrameFillColor\":0,\"fFrameLineColor\":1,\"fFrameFillStyle\":1001,\"fFrameLineStyle\":1,\"fFrameLineWidth\":1,\"fFrameBorderSize\":1,\"fFrameBorderMode\":0,\"fX1\":64.9999996274709,\"fY1\":-0.131250009778888,\"fX2\":115.000000372529,\"fY2\":1.18125000977889,\"fXtoAbsPixelk\":-979.943930736373,\"fXtoPixelk\":-995.90393037964,\"fXtoPixel\":15.3215997859597,\"fYtoAbsPixelk\":518.024046856451,\"fYtoPixelk\":506.304047118413,\"fYtoPixel\":-428.61713686943,\"fUtoAbsPixelk\":15.9600496432662,\"fUtoPixelk\":5e-5,\"fUtoPixel\":766.080000713468,\"fVtoAbsPixelk\":574.280050261962,\"fVtoPixelk\":562.560000523925,\"fVtoPixel\":-562.560000523925,\"fAbsPixeltoXk\":63.9583329695354,\"fPixeltoXk\":64.9999996274709,\"fPixeltoX\":0.0652673359159513,\"fAbsPixeltoYk\":1.20859375954969,\"fPixeltoYk\":-0.131250009778888,\"fPixeltoY\":-0.00233308450358258,\"fXlowNDC\":0.00999999977648258,\"fYlowNDC\":0.509999999776483,\"fXUpNDC\":0.490000000223517,\"fYUpNDC\":0.990000000223517,\"fWNDC\":0.480000000447035,\"fHNDC\":0.480000000447035,\"fAbsXlowNDC\":0.00999999977648258,\"fAbsYlowNDC\":0.509999999776483,\"fAbsWNDC\":0.480000000447035,\"fAbsHNDC\":0.480000000447035,\"fUxmin\":70,\"fUymin\":0,\"fUxmax\":110,\"fUymax\":1.05,\"fTheta\":30,\"fPhi\":30,\"fAspectRatio\":0,\"fNumber\":1,\"fTickx\":0,\"fTicky\":0,\"fLogx\":0,\"fLogy\":0,\"fLogz\":0,\"fPadPaint\":0,\"fCrosshair\":0,\"fCrosshairPos\":0,\"fBorderSize\":2,\"fBorderMode\":0,\"fModified\":false,\"fGridx\":false,\"fGridy\":false,\"fAbsCoord\":false,\"fEditable\":true,\"fFixedAspectRatio\":false,\"fPrimitives\":{\"_typename\":\"TList\",\"name\":\"TList\",\"arr\":[{\"_typename\":\"TFrame\",\"fUniqueID\":0,\"fBits\":8,\"fLineColor\":1,\"fLineStyle\":1,\"fLineWidth\":1,\"fFillColor\":0,\"fFillStyle\":1001,\"fX1\":70,\"fY1\":0,\"fX2\":110,\"fY2\":1.05,\"fBorderSize\":1,\"fBorderMode\":0},{\"_typename\":\"TH1D\",\"fUniqueID\":0,\"fBits\":520,\"fName\":\"h_norad\",\"fTitle\":\"\",\"fLineColor\":632,\"fLineStyle\":1,\"fLineWidth\":2,\"fFillColor\":0,\"fFillStyle\":1001,\"fMarkerColor\":1,\"fMarkerStyle\":1,\"fMarkerSize\":1,\"fNcells\":202,\"fXaxis\":{\"_typename\":\"TAxis\",\"fUniqueID\":0,\"fBits\":0,\"fName\":\"xaxis\",\"fTitle\":\"M_{e^{+}e^{-}}\",\"fNdivisions\":510,\"fAxisColor\":1,\"fLabelColor\":1,\"fLabelFont\":42,\"fLabelOffset\":0.005,\"fLabelSize\":0.035,\"fTickLength\":0.03,\"fTitleOffset\":1.4,\"fTitleSize\":0.035,\"fTitleColor\":1,\"fTitleFont\":42,\"fNbins\":200,\"fXmin\":70,\"fXmax\":110,\"fXbins\":[],\"fFirst\":0,\"fLast\":0,\"fBits2\":0,\"fTimeDisplay\":false,\"fTimeFormat\":\"\",\"fLabels\":null,\"fModLabs\":null},\"fYaxis\":{\"_typename\":\"TAxis\",\"fUniqueID\":0,\"fBits\":0,\"fName\":\"yaxis\",\"fTitle\":\"entries\",\"fNdivisions\":510,\"fAxisColor\":1,\"fLabelColor\":1,\"fLabelFont\":42,\"fLabelOffset\":0.005,\"fLabelSize\":0.035,\"fTickLength\":0.03,\"fTitleOffset\":0,\"fTitleSize\":0.035,\"fTitleColor\":1,\"fTitleFont\":42,\"fNbins\":1,\"fXmin\":0,\"fXmax\":1,\"fXbins\":[],\"fFirst\":0,\"fLast\":0,\"fBits2\":0,\"fTimeDisplay\":false,\"fTimeFormat\":\"\",\"fLabels\":null,\"fModLabs\":null},\"fZaxis\":{\"_typename\":\"TAxis\",\"fUniqueID\":0,\"fBits\":0,\"fName\":\"zaxis\",\"fTitle\":\"\",\"fNdivisions\":510,\"fAxisColor\":1,\"fLabelColor\":1,\"fLabelFont\":42,\"fLabelOffset\":0.005,\"fLabelSize\":0.035,\"fTickLength\":0.03,\"fTitleOffset\":1,\"fTitleSize\":0.035,\"fTitleColor\":1,\"fTitleFont\":42,\"fNbins\":1,\"fXmin\":0,\"fXmax\":1,\"fXbins\":[],\"fFirst\":0,\"fLast\":0,\"fBits2\":0,\"fTimeDisplay\":false,\"fTimeFormat\":\"\",\"fLabels\":null,\"fModLabs\":null},\"fBarOffset\":0,\"fBarWidth\":1000,\"fEntries\":10000,\"fTsumw\":18.3150183150183,\"fTsumw2\":0.0335439895879456,\"fTsumwx\":1660.45564646706,\"fTsumwx2\":150874.69597424,\"fMaximum\":-1111,\"fMinimum\":-1111,\"fNormFactor\":0,\"fContour\":[],\"fSumw2\":[0,6.70879791758913e-6,6.70879791758913e-6,1.67719947939728e-5,2.68351916703565e-5,1.67719947939728e-5,2.01263937527674e-5,2.68351916703565e-5,1.67719947939728e-5,3.01895906291511e-5,1.67719947939728e-5,1.34175958351783e-5,6.70879791758913e-6,2.01263937527674e-5,1.67719947939728e-5,1.00631968763837e-5,1.67719947939728e-5,1.67719947939728e-5,3.68983885467402e-5,1.67719947939728e-5,2.34807927115619e-5,1.67719947939728e-5,3.35439895879456e-5,2.34807927115619e-5,2.01263937527674e-5,0,2.34807927115619e-5,2.01263937527674e-5,1.67719947939728e-5,2.01263937527674e-5,3.01895906291511e-5,2.68351916703565e-5,3.01895906291511e-5,1.67719947939728e-5,2.34807927115619e-5,4.02527875055348e-5,1.00631968763837e-5,1.34175958351783e-5,2.01263937527674e-5,3.01895906291511e-5,4.02527875055348e-5,1.00631968763837e-5,2.68351916703565e-5,3.68983885467402e-5,1.34175958351783e-5,2.68351916703565e-5,2.68351916703565e-5,4.69615854231239e-5,2.34807927115619e-5,2.01263937527674e-5,1.67719947939728e-5,4.69615854231239e-5,2.68351916703565e-5,3.68983885467402e-5,3.01895906291511e-5,5.03159843819184e-5,2.34807927115619e-5,5.70247822995076e-5,3.68983885467402e-5,3.68983885467402e-5,5.03159843819184e-5,4.02527875055348e-5,6.03791812583021e-5,4.69615854231239e-5,5.70247822995076e-5,6.70879791758913e-5,3.01895906291511e-5,2.34807927115619e-5,2.68351916703565e-5,4.69615854231239e-5,5.3670383340713e-5,6.70879791758913e-5,9.72775698050423e-5,7.04423781346858e-5,7.37967770934804e-5,7.37967770934804e-5,1.14049564599015e-4,7.04423781346858e-5,8.05055750110695e-5,1.1740396355781e-4,9.39231708462478e-5,1.24112761475399e-4,9.39231708462478e-5,1.61011150022139e-4,1.14049564599015e-4,1.61011150022139e-4,1.67719947939728e-4,1.9120074065129e-4,2.11327134404057e-4,2.41516725033209e-4,2.61643118785976e-4,2.7170631566236e-4,2.68351916703565e-4,2.81769512538743e-4,3.15313502126689e-4,4.32717465684499e-4,4.76324652148828e-4,5.53475828201103e-4,6.10500610500611e-4,8.05055750110695e-4,9.09042117833327e-4,0.00106334446993788,0.0012310644178776,0.00127467160434193,0.00153296032416912,0.00168055387835608,0.00183150183150183,0.00167049068147969,0.00158998510646862,0.00144574595124046,0.00137865797206457,0.00108011646473185,9.92902091803191e-4,8.41954138657435e-4,6.67525392800118e-4,5.76956620912665e-4,4.59552657354855e-4,3.55566289632224e-4,3.25376699003073e-4,2.85123911497538e-4,3.75692683384991e-4,3.11959103167894e-4,2.31453528156825e-4,1.71074346898523e-4,1.71074346898523e-4,1.67719947939728e-4,1.71074346898523e-4,1.40884756269372e-4,1.61011150022139e-4,1.07340766681426e-4,9.05687718874532e-5,1.07340766681426e-4,7.04423781346858e-5,7.37967770934804e-5,6.03791812583021e-5,8.38599739698641e-5,7.04423781346858e-5,4.36071864643293e-5,6.37335802170967e-5,7.37967770934804e-5,5.3670383340713e-5,3.68983885467402e-5,3.68983885467402e-5,3.68983885467402e-5,3.35439895879456e-5,5.3670383340713e-5,4.02527875055348e-5,3.35439895879456e-5,2.34807927115619e-5,3.68983885467402e-5,4.02527875055348e-5,2.68351916703565e-5,4.02527875055348e-5,2.01263937527674e-5,2.01263937527674e-5,1.34175958351783e-5,1.00631968763837e-5,2.01263937527674e-5,2.68351916703565e-5,2.34807927115619e-5,6.70879791758913e-6,2.01263937527674e-5,2.01263937527674e-5,1.00631968763837e-5,1.00631968763837e-5,2.68351916703565e-5,2.01263937527674e-5,6.70879791758913e-6,2.34807927115619e-5,1.67719947939728e-5,3.01895906291511e-5,3.01895906291511e-5,1.34175958351783e-5,1.00631968763837e-5,6.70879791758913e-6,1.00631968763837e-5,1.67719947939728e-5,6.70879791758913e-6,6.70879791758913e-6,1.67719947939728e-5,1.34175958351783e-5,1.34175958351783e-5,1.00631968763837e-5,6.70879791758913e-6,1.34175958351783e-5,1.00631968763837e-5,3.35439895879456e-6,3.35439895879456e-6,3.35439895879456e-6,3.35439895879456e-6,6.70879791758913e-6,3.35439895879456e-6,3.35439895879456e-6,6.70879791758913e-6,3.35439895879456e-6,6.70879791758913e-6,0,3.35439895879456e-6,1.34175958351783e-5,1.34175958351783e-5,1.00631968763837e-5,0],\"fOption\":\"\",\"fFunctions\":{\"_typename\":\"TList\",\"name\":\"TList\",\"arr\":[],\"opt\":[]},\"fBufferSize\":0,\"fBuffer\":[],\"fBinStatErrOpt\":0,\"fStatOverflows\":2,\"fArray\":[0,0.00366300366300366,0.00366300366300366,0.00915750915750916,0.0146520146520147,0.00915750915750916,0.010989010989011,0.0146520146520147,0.00915750915750916,0.0164835164835165,0.00915750915750916,0.00732600732600733,0.00366300366300366,0.010989010989011,0.00915750915750916,0.00549450549450549,0.00915750915750916,0.00915750915750916,0.0201465201465201,0.00915750915750916,0.0128205128205128,0.00915750915750916,0.0183150183150183,0.0128205128205128,0.010989010989011,0,0.0128205128205128,0.010989010989011,0.00915750915750916,0.010989010989011,0.0164835164835165,0.0146520146520147,0.0164835164835165,0.00915750915750916,0.0128205128205128,0.021978021978022,0.00549450549450549,0.00732600732600733,0.010989010989011,0.0164835164835165,0.021978021978022,0.00549450549450549,0.0146520146520147,0.0201465201465201,0.00732600732600733,0.0146520146520147,0.0146520146520147,0.0256410256410256,0.0128205128205128,0.010989010989011,0.00915750915750916,0.0256410256410256,0.0146520146520147,0.0201465201465201,0.0164835164835165,0.0274725274725275,0.0128205128205128,0.0311355311355311,0.0201465201465201,0.0201465201465201,0.0274725274725275,0.021978021978022,0.032967032967033,0.0256410256410256,0.0311355311355311,0.0366300366300366,0.0164835164835165,0.0128205128205128,0.0146520146520147,0.0256410256410256,0.0293040293040293,0.0366300366300366,0.0531135531135531,0.0384615384615385,0.0402930402930403,0.0402930402930403,0.0622710622710623,0.0384615384615385,0.043956043956044,0.0641025641025641,0.0512820512820513,0.0677655677655678,0.0512820512820513,0.0879120879120879,0.0622710622710623,0.0879120879120879,0.0915750915750916,0.104395604395604,0.115384615384615,0.131868131868132,0.142857142857143,0.148351648351648,0.146520146520147,0.153846153846154,0.172161172161172,0.236263736263736,0.26007326007326,0.302197802197802,0.333333333333333,0.43956043956044,0.496336996336996,0.580586080586081,0.672161172161172,0.695970695970696,0.836996336996337,0.917582417582418,1,0.912087912087912,0.868131868131868,0.789377289377289,0.752747252747253,0.58974358974359,0.542124542124542,0.45970695970696,0.364468864468864,0.315018315018315,0.250915750915751,0.194139194139194,0.177655677655678,0.155677655677656,0.205128205128205,0.17032967032967,0.126373626373626,0.0934065934065934,0.0934065934065934,0.0915750915750916,0.0934065934065934,0.0769230769230769,0.0879120879120879,0.0586080586080586,0.0494505494505494,0.0586080586080586,0.0384615384615385,0.0402930402930403,0.032967032967033,0.0457875457875458,0.0384615384615385,0.0238095238095238,0.0347985347985348,0.0402930402930403,0.0293040293040293,0.0201465201465201,0.0201465201465201,0.0201465201465201,0.0183150183150183,0.0293040293040293,0.021978021978022,0.0183150183150183,0.0128205128205128,0.0201465201465201,0.021978021978022,0.0146520146520147,0.021978021978022,0.010989010989011,0.010989010989011,0.00732600732600733,0.00549450549450549,0.010989010989011,0.0146520146520147,0.0128205128205128,0.00366300366300366,0.010989010989011,0.010989010989011,0.00549450549450549,0.00549450549450549,0.0146520146520147,0.010989010989011,0.00366300366300366,0.0128205128205128,0.00915750915750916,0.0164835164835165,0.0164835164835165,0.00732600732600733,0.00549450549450549,0.00366300366300366,0.00549450549450549,0.00915750915750916,0.00366300366300366,0.00366300366300366,0.00915750915750916,0.00732600732600733,0.00732600732600733,0.00549450549450549,0.00366300366300366,0.00732600732600733,0.00549450549450549,0.00183150183150183,0.00183150183150183,0.00183150183150183,0.00183150183150183,0.00366300366300366,0.00183150183150183,0.00183150183150183,0.00366300366300366,0.00183150183150183,0.00366300366300366,0,0.00183150183150183,0.00732600732600733,0.00732600732600733,0.00549450549450549,0]},{\"_typename\":\"TH1D\",\"fUniqueID\":0,\"fBits\":520,\"fName\":\"h_rad\",\"fTitle\":\"\",\"fLineColor\":602,\"fLineStyle\":1,\"fLineWidth\":2,\"fFillColor\":0,\"fFillStyle\":1001,\"fMarkerColor\":1,\"fMarkerStyle\":1,\"fMarkerSize\":1,\"fNcells\":202,\"fXaxis\":{\"_typename\":\"TAxis\",\"fUniqueID\":0,\"fBits\":0,\"fName\":\"xaxis\",\"fTitle\":\"\",\"fNdivisions\":510,\"fAxisColor\":1,\"fLabelColor\":1,\"fLabelFont\":42,\"fLabelOffset\":0.005,\"fLabelSize\":0.035,\"fTickLength\":0.03,\"fTitleOffset\":1,\"fTitleSize\":0.035,\"fTitleColor\":1,\"fTitleFont\":42,\"fNbins\":200,\"fXmin\":70,\"fXmax\":110,\"fXbins\":[],\"fFirst\":0,\"fLast\":0,\"fBits2\":0,\"fTimeDisplay\":false,\"fTimeFormat\":\"\",\"fLabels\":null,\"fModLabs\":null},\"fYaxis\":{\"_typename\":\"TAxis\",\"fUniqueID\":0,\"fBits\":0,\"fName\":\"yaxis\",\"fTitle\":\"\",\"fNdivisions\":510,\"fAxisColor\":1,\"fLabelColor\":1,\"fLabelFont\":42,\"fLabelOffset\":0.005,\"fLabelSize\":0.035,\"fTickLength\":0.03,\"fTitleOffset\":0,\"fTitleSize\":0.035,\"fTitleColor\":1,\"fTitleFont\":42,\"fNbins\":1,\"fXmin\":0,\"fXmax\":1,\"fXbins\":[],\"fFirst\":0,\"fLast\":0,\"fBits2\":0,\"fTimeDisplay\":false,\"fTimeFormat\":\"\",\"fLabels\":null,\"fModLabs\":null},\"fZaxis\":{\"_typename\":\"TAxis\",\"fUniqueID\":0,\"fBits\":0,\"fName\":\"zaxis\",\"fTitle\":\"\",\"fNdivisions\":510,\"fAxisColor\":1,\"fLabelColor\":1,\"fLabelFont\":42,\"fLabelOffset\":0.005,\"fLabelSize\":0.035,\"fTickLength\":0.03,\"fTitleOffset\":1,\"fTitleSize\":0.035,\"fTitleColor\":1,\"fTitleFont\":42,\"fNbins\":1,\"fXmin\":0,\"fXmax\":1,\"fXbins\":[],\"fFirst\":0,\"fLast\":0,\"fBits2\":0,\"fTimeDisplay\":false,\"fTimeFormat\":\"\",\"fLabels\":null,\"fModLabs\":null},\"fBarOffset\":0,\"fBarWidth\":1000,\"fEntries\":10102,\"fTsumw\":23.6281407035176,\"fTsumw2\":0.0593671876972804,\"fTsumwx\":2104.99577057299,\"fTsumwx2\":188222.681738959,\"fMaximum\":-1111,\"fMinimum\":-1111,\"fNormFactor\":0,\"fContour\":[],\"fSumw2\":[0.00440645438246509,5.68167470518421e-5,8.83816065250877e-5,6.31297189464912e-5,6.94426908411404e-5,7.57556627357895e-5,4.41908032625439e-5,1.13633494103684e-4,6.94426908411404e-5,1.07320522209035e-4,3.78778313678948e-5,4.41908032625439e-5,1.07320522209035e-4,2.52518875785965e-5,1.01007550314386e-4,7.57556627357895e-5,1.19946465998333e-4,1.13633494103684e-4,1.19946465998333e-4,8.83816065250877e-5,1.19946465998333e-4,1.07320522209035e-4,8.83816065250877e-5,6.94426908411404e-5,5.68167470518421e-5,7.57556627357895e-5,1.01007550314386e-4,1.01007550314386e-4,1.32572409787632e-4,5.68167470518421e-5,5.68167470518421e-5,8.20686346304386e-5,1.38885381682281e-4,8.20686346304386e-5,1.26259437892982e-4,1.01007550314386e-4,8.20686346304386e-5,1.13633494103684e-4,1.01007550314386e-4,1.26259437892982e-4,1.07320522209035e-4,1.13633494103684e-4,1.13633494103684e-4,8.20686346304386e-5,1.51511325471579e-4,1.07320522209035e-4,1.13633494103684e-4,1.83076184944825e-4,8.83816065250877e-5,2.02015100628772e-4,1.19946465998333e-4,1.57824297366228e-4,1.32572409787632e-4,9.46945784197369e-5,1.4519835357693e-4,1.26259437892982e-4,1.95702128734123e-4,1.95702128734123e-4,2.08328072523421e-4,1.38885381682281e-4,1.51511325471579e-4,1.51511325471579e-4,1.32572409787632e-4,1.83076184944825e-4,1.38885381682281e-4,2.52518875785965e-4,1.64137269260877e-4,1.83076184944825e-4,2.02015100628772e-4,2.46205903891316e-4,2.46205903891316e-4,2.58831847680614e-4,2.33579960102018e-4,3.21961566627105e-4,2.52518875785965e-4,2.71457791469912e-4,3.09335622837807e-4,2.1464104441807e-4,2.84083735259211e-4,2.9039670715386e-4,3.53526426100351e-4,3.66152369889649e-4,4.54533976414737e-4,3.03022650943158e-4,3.72465341784298e-4,4.3559506073079e-4,4.04030201257544e-4,5.93419358097018e-4,5.30289639150527e-4,5.87106386202369e-4,5.93419358097018e-4,4.92411807782632e-4,7.63869599252544e-4,6.88113936516755e-4,8.45938233882983e-4,0.00101638847503851,9.78510643670614e-4,9.78510643670614e-4,0.00121209060377263,0.00140147976061211,0.00168556349587132,0.00180550996186965,0.00184338779323754,0.0021464104441807,0.00228529582586298,0.00251256281407035,0.00242418120754526,0.00224741799449509,0.00208959369712886,0.00189389156839474,0.00160349486124088,0.00151511325471579,0.00121209060377263,9.78510643670614e-4,8.90129037145527e-4,7.1967879599e-4,6.43923133254211e-4,4.2928208883614e-4,5.49228554834474e-4,4.48221004520088e-4,4.67159920204035e-4,2.9039670715386e-4,3.15648594732456e-4,3.21961566627105e-4,3.03022650943158e-4,2.20954016312719e-4,2.58831847680614e-4,1.89389156839474e-4,1.83076184944825e-4,2.1464104441807e-4,2.1464104441807e-4,1.4519835357693e-4,8.20686346304386e-5,5.68167470518421e-5,8.20686346304386e-5,1.38885381682281e-4,9.46945784197369e-5,8.83816065250877e-5,6.31297189464912e-5,8.83816065250877e-5,5.68167470518421e-5,6.94426908411404e-5,9.46945784197369e-5,5.0503775157193e-5,7.57556627357895e-5,8.20686346304386e-5,7.57556627357895e-5,6.31297189464912e-5,5.0503775157193e-5,5.0503775157193e-5,5.0503775157193e-5,1.89389156839474e-5,4.41908032625439e-5,3.78778313678948e-5,4.41908032625439e-5,3.15648594732456e-5,3.15648594732456e-5,4.41908032625439e-5,2.52518875785965e-5,1.26259437892982e-5,1.26259437892982e-5,2.52518875785965e-5,1.26259437892982e-5,3.78778313678948e-5,1.89389156839474e-5,2.52518875785965e-5,1.89389156839474e-5,1.26259437892982e-5,1.26259437892982e-5,6.31297189464912e-6,2.52518875785965e-5,1.89389156839474e-5,1.89389156839474e-5,3.15648594732456e-5,1.89389156839474e-5,0,6.31297189464912e-6,1.26259437892982e-5,6.31297189464912e-6,1.26259437892982e-5,6.31297189464912e-6,1.26259437892982e-5,1.26259437892982e-5,6.31297189464912e-6,6.31297189464912e-6,2.52518875785965e-5,1.89389156839474e-5,2.52518875785965e-5,1.26259437892982e-5,0,0,1.26259437892982e-5,6.31297189464912e-6,6.31297189464912e-6,6.31297189464912e-6,0,1.26259437892982e-5,6.31297189464912e-6,1.26259437892982e-5,0,1.26259437892982e-5,0],\"fOption\":\"\",\"fFunctions\":{\"_typename\":\"TList\",\"name\":\"TList\",\"arr\":[],\"opt\":[]},\"fBufferSize\":0,\"fBuffer\":[],\"fBinStatErrOpt\":0,\"fStatOverflows\":2,\"fArray\":[1.75376884422111,0.0226130653266332,0.0351758793969849,0.0251256281407035,0.0276381909547739,0.0301507537688442,0.0175879396984925,0.0452261306532663,0.0276381909547739,0.042713567839196,0.0150753768844221,0.0175879396984925,0.042713567839196,0.0100502512562814,0.0402010050251256,0.0301507537688442,0.0477386934673367,0.0452261306532663,0.0477386934673367,0.0351758793969849,0.0477386934673367,0.042713567839196,0.0351758793969849,0.0276381909547739,0.0226130653266332,0.0301507537688442,0.0402010050251256,0.0402010050251256,0.0527638190954774,0.0226130653266332,0.0226130653266332,0.0326633165829146,0.0552763819095477,0.0326633165829146,0.050251256281407,0.0402010050251256,0.0326633165829146,0.0452261306532663,0.0402010050251256,0.050251256281407,0.042713567839196,0.0452261306532663,0.0452261306532663,0.0326633165829146,0.0603015075376884,0.042713567839196,0.0452261306532663,0.0728643216080402,0.0351758793969849,0.0804020100502513,0.0477386934673367,0.0628140703517588,0.0527638190954774,0.0376884422110553,0.0577889447236181,0.050251256281407,0.0778894472361809,0.0778894472361809,0.0829145728643216,0.0552763819095477,0.0603015075376884,0.0603015075376884,0.0527638190954774,0.0728643216080402,0.0552763819095477,0.100502512562814,0.0653266331658292,0.0728643216080402,0.0804020100502513,0.0979899497487437,0.0979899497487437,0.103015075376884,0.092964824120603,0.128140703517588,0.100502512562814,0.108040201005025,0.123115577889447,0.085427135678392,0.113065326633166,0.115577889447236,0.14070351758794,0.14572864321608,0.180904522613065,0.120603015075377,0.148241206030151,0.173366834170854,0.160804020100503,0.236180904522613,0.21105527638191,0.233668341708543,0.236180904522613,0.195979899497487,0.304020100502513,0.273869346733668,0.336683417085427,0.404522613065327,0.389447236180905,0.389447236180905,0.482412060301508,0.557788944723618,0.670854271356784,0.718592964824121,0.733668341708543,0.85427135678392,0.909547738693467,1,0.964824120603015,0.894472361809045,0.831658291457286,0.753768844221106,0.638190954773869,0.603015075376884,0.482412060301508,0.389447236180905,0.35427135678392,0.28643216080402,0.256281407035176,0.170854271356784,0.218592964824121,0.178391959798995,0.185929648241206,0.115577889447236,0.125628140703518,0.128140703517588,0.120603015075377,0.0879396984924623,0.103015075376884,0.0753768844221106,0.0728643216080402,0.085427135678392,0.085427135678392,0.0577889447236181,0.0326633165829146,0.0226130653266332,0.0326633165829146,0.0552763819095477,0.0376884422110553,0.0351758793969849,0.0251256281407035,0.0351758793969849,0.0226130653266332,0.0276381909547739,0.0376884422110553,0.0201005025125628,0.0301507537688442,0.0326633165829146,0.0301507537688442,0.0251256281407035,0.0201005025125628,0.0201005025125628,0.0201005025125628,0.00753768844221105,0.0175879396984925,0.0150753768844221,0.0175879396984925,0.0125628140703518,0.0125628140703518,0.0175879396984925,0.0100502512562814,0.0050251256281407,0.0050251256281407,0.0100502512562814,0.0050251256281407,0.0150753768844221,0.00753768844221105,0.0100502512562814,0.00753768844221105,0.0050251256281407,0.0050251256281407,0.00251256281407035,0.0100502512562814,0.00753768844221105,0.00753768844221105,0.0125628140703518,0.00753768844221105,0,0.00251256281407035,0.0050251256281407,0.00251256281407035,0.0050251256281407,0.00251256281407035,0.0050251256281407,0.0050251256281407,0.00251256281407035,0.00251256281407035,0.0100502512562814,0.00753768844221105,0.0100502512562814,0.0050251256281407,0,0,0.0050251256281407,0.00251256281407035,0.00251256281407035,0.00251256281407035,0,0.0050251256281407,0.00251256281407035,0.0050251256281407,0,0.0050251256281407,0]},{\"_typename\":\"TLegend\",\"fUniqueID\":0,\"fBits\":8,\"fLineColor\":1,\"fLineStyle\":1,\"fLineWidth\":1,\"fFillColor\":0,\"fFillStyle\":1001,\"fX1\":100.000000149012,\"fY1\":0.918750005867333,\"fX2\":110.000000298023,\"fY2\":1.05000000782311,\"fX1NDC\":0.7,\"fY1NDC\":0.8,\"fX2NDC\":0.9,\"fY2NDC\":0.9,\"fBorderSize\":1,\"fInit\":1,\"fShadowColor\":1,\"fCornerRadius\":0,\"fOption\":\"brNDC\",\"fName\":\"TPave\",\"fTextAngle\":0,\"fTextSize\":0,\"fTextAlign\":12,\"fTextColor\":1,\"fTextFont\":42,\"fPrimitives\":{\"_typename\":\"TList\",\"name\":\"TList\",\"arr\":[{\"_typename\":\"TLegendEntry\",\"fUniqueID\":0,\"fBits\":0,\"fTextAngle\":0,\"fTextSize\":0,\"fTextAlign\":0,\"fTextColor\":0,\"fTextFont\":42,\"fLineColor\":632,\"fLineStyle\":1,\"fLineWidth\":2,\"fFillColor\":0,\"fFillStyle\":1001,\"fMarkerColor\":1,\"fMarkerStyle\":1,\"fMarkerSize\":1,\"fObject\":{\"$ref\":5},\"fLabel\":\"FSR OFF\",\"fOption\":\"lpf\"},{\"_typename\":\"TLegendEntry\",\"fUniqueID\":0,\"fBits\":0,\"fTextAngle\":0,\"fTextSize\":0,\"fTextAlign\":0,\"fTextColor\":0,\"fTextFont\":42,\"fLineColor\":602,\"fLineStyle\":1,\"fLineWidth\":2,\"fFillColor\":0,\"fFillStyle\":1001,\"fMarkerColor\":1,\"fMarkerStyle\":1,\"fMarkerSize\":1,\"fObject\":{\"$ref\":10},\"fLabel\":\"FSR ON\",\"fOption\":\"lpf\"}],\"opt\":[\"lpf\",\"lpf\"]},\"fEntrySeparation\":0.1,\"fMargin\":0.25,\"fNColumns\":1,\"fColumnSeparation\":0}],\"opt\":[\"\",\"hist\",\"same hist\",\"\"]},\"fExecs\":{\"_typename\":\"TList\",\"name\":\"TList\",\"arr\":[],\"opt\":[]},\"fName\":\"cz_1\",\"fTitle\":\"cz_1\",\"fNumPaletteColor\":0,\"fNextPaletteColor\":0},{\"_typename\":\"TPad\",\"fUniqueID\":0,\"fBits\":9,\"fLineColor\":1,\"fLineStyle\":1,\"fLineWidth\":1,\"fFillColor\":0,\"fFillStyle\":1001,\"fLeftMargin\":0.1,\"fRightMargin\":0.1,\"fBottomMargin\":0.1,\"fTopMargin\":0.1,\"fXfile\":2,\"fYfile\":2,\"fAfile\":1,\"fXstat\":0.99,\"fYstat\":0.99,\"fAstat\":2,\"fFrameFillColor\":0,\"fFrameLineColor\":1,\"fFrameFillStyle\":1001,\"fFrameLineStyle\":1,\"fFrameLineWidth\":1,\"fFrameBorderSize\":1,\"fFrameBorderMode\":0,\"fX1\":0,\"fY1\":0,\"fX2\":1,\"fY2\":1,\"fXtoAbsPixelk\":813.960049643266,\"fXtoPixelk\":5e-5,\"fXtoPixel\":766.080000713468,\"fYtoAbsPixelk\":574.280050261962,\"fYtoPixelk\":562.560050523925,\"fYtoPixel\":-562.560000523925,\"fUtoAbsPixelk\":813.960049643266,\"fUtoPixelk\":5e-5,\"fUtoPixel\":766.080000713468,\"fVtoAbsPixelk\":574.280050261962,\"fVtoPixelk\":562.560000523925,\"fVtoPixel\":-562.560000523925,\"fAbsPixeltoXk\":-1.06249999854481,\"fPixeltoXk\":0,\"fPixeltoX\":0.00130534669886784,\"fAbsPixeltoYk\":1.02083333284827,\"fPixeltoYk\":0,\"fPixeltoY\":-0.00177758816671764,\"fXlowNDC\":0.509999999776483,\"fYlowNDC\":0.509999999776483,\"fXUpNDC\":0.990000000223517,\"fYUpNDC\":0.990000000223517,\"fWNDC\":0.480000000447035,\"fHNDC\":0.480000000447035,\"fAbsXlowNDC\":0.509999999776483,\"fAbsYlowNDC\":0.509999999776483,\"fAbsWNDC\":0.480000000447035,\"fAbsHNDC\":0.480000000447035,\"fUxmin\":0,\"fUymin\":0,\"fUxmax\":1,\"fUymax\":1,\"fTheta\":30,\"fPhi\":30,\"fAspectRatio\":0,\"fNumber\":2,\"fTickx\":0,\"fTicky\":0,\"fLogx\":0,\"fLogy\":0,\"fLogz\":0,\"fPadPaint\":0,\"fCrosshair\":0,\"fCrosshairPos\":0,\"fBorderSize\":2,\"fBorderMode\":0,\"fModified\":false,\"fGridx\":false,\"fGridy\":false,\"fAbsCoord\":false,\"fEditable\":true,\"fFixedAspectRatio\":false,\"fPrimitives\":{\"_typename\":\"TList\",\"name\":\"TList\",\"arr\":[],\"opt\":[]},\"fExecs\":{\"_typename\":\"TList\",\"name\":\"TList\",\"arr\":[],\"opt\":[]},\"fName\":\"cz_2\",\"fTitle\":\"cz_2\",\"fNumPaletteColor\":0,\"fNextPaletteColor\":0},{\"_typename\":\"TPad\",\"fUniqueID\":0,\"fBits\":9,\"fLineColor\":1,\"fLineStyle\":1,\"fLineWidth\":1,\"fFillColor\":0,\"fFillStyle\":1001,\"fLeftMargin\":0.1,\"fRightMargin\":0.1,\"fBottomMargin\":0.1,\"fTopMargin\":0.1,\"fXfile\":2,\"fYfile\":2,\"fAfile\":1,\"fXstat\":0.99,\"fYstat\":0.99,\"fAstat\":2,\"fFrameFillColor\":0,\"fFrameLineColor\":1,\"fFrameFillStyle\":1001,\"fFrameLineStyle\":1,\"fFrameLineWidth\":1,\"fFrameBorderSize\":1,\"fFrameBorderMode\":0,\"fX1\":-12.5000001862645,\"fY1\":-0.0219715465436017,\"fX2\":12.5000001862645,\"fY2\":0.197743905796353,\"fXtoAbsPixelk\":399.00005,\"fXtoPixelk\":383.040050356734,\"fXtoPixel\":30.6431995719194,\"fYtoAbsPixelk\":1104.02404685645,\"fYtoPixelk\":506.304047118413,\"fYtoPixel\":-2560.40253215101,\"fUtoAbsPixelk\":15.9600496432662,\"fUtoPixelk\":5e-5,\"fUtoPixel\":766.080000713468,\"fVtoAbsPixelk\":1160.28005026196,\"fVtoPixelk\":562.560000523925,\"fVtoPixel\":-562.560000523925,\"fAbsPixeltoXk\":-13.0208335152323,\"fPixeltoXk\":-12.5000001862645,\"fPixeltoX\":0.0326336679579756,\"fAbsPixeltoYk\":0.431191573587827,\"fPixeltoYk\":-0.0219715465436017,\"fPixeltoY\":-3.90563588124518e-4,\"fXlowNDC\":0.00999999977648258,\"fYlowNDC\":0.00999999977648258,\"fXUpNDC\":0.490000000223517,\"fYUpNDC\":0.490000000223517,\"fWNDC\":0.480000000447035,\"fHNDC\":0.480000000447035,\"fAbsXlowNDC\":0.00999999977648258,\"fAbsYlowNDC\":0.00999999977648258,\"fAbsWNDC\":0.480000000447035,\"fAbsHNDC\":0.480000000447035,\"fUxmin\":-10,\"fUymin\":0,\"fUxmax\":10,\"fUymax\":0.175772359252752,\"fTheta\":30,\"fPhi\":30,\"fAspectRatio\":0,\"fNumber\":3,\"fTickx\":0,\"fTicky\":0,\"fLogx\":0,\"fLogy\":0,\"fLogz\":0,\"fPadPaint\":0,\"fCrosshair\":0,\"fCrosshairPos\":0,\"fBorderSize\":2,\"fBorderMode\":0,\"fModified\":false,\"fGridx\":false,\"fGridy\":false,\"fAbsCoord\":false,\"fEditable\":true,\"fFixedAspectRatio\":false,\"fPrimitives\":{\"_typename\":\"TList\",\"name\":\"TList\",\"arr\":[{\"_typename\":\"TFrame\",\"fUniqueID\":0,\"fBits\":8,\"fLineColor\":1,\"fLineStyle\":1,\"fLineWidth\":1,\"fFillColor\":0,\"fFillStyle\":1001,\"fX1\":-10,\"fY1\":0,\"fX2\":10,\"fY2\":0.175772359252752,\"fBorderSize\":1,\"fBorderMode\":0},{\"_typename\":\"TH1D\",\"fUniqueID\":0,\"fBits\":520,\"fName\":\"h_etaz\",\"fTitle\":\"\",\"fLineColor\":602,\"fLineStyle\":1,\"fLineWidth\":1,\"fFillColor\":0,\"fFillStyle\":1001,\"fMarkerColor\":600,\"fMarkerStyle\":20,\"fMarkerSize\":1,\"fNcells\":102,\"fXaxis\":{\"_typename\":\"TAxis\",\"fUniqueID\":0,\"fBits\":0,\"fName\":\"xaxis\",\"fTitle\":\"#eta\",\"fNdivisions\":510,\"fAxisColor\":1,\"fLabelColor\":1,\"fLabelFont\":42,\"fLabelOffset\":0.005,\"fLabelSize\":0.035,\"fTickLength\":0.03,\"fTitleOffset\":1,\"fTitleSize\":0.035,\"fTitleColor\":1,\"fTitleFont\":42,\"fNbins\":100,\"fXmin\":-10,\"fXmax\":10,\"fXbins\":[],\"fFirst\":0,\"fLast\":0,\"fBits2\":0,\"fTimeDisplay\":false,\"fTimeFormat\":\"\",\"fLabels\":null,\"fModLabs\":null},\"fYaxis\":{\"_typename\":\"TAxis\",\"fUniqueID\":0,\"fBits\":0,\"fName\":\"yaxis\",\"fTitle\":\"#frac{dN}{d#eta}\",\"fNdivisions\":510,\"fAxisColor\":1,\"fLabelColor\":1,\"fLabelFont\":42,\"fLabelOffset\":0.005,\"fLabelSize\":0.035,\"fTickLength\":0.03,\"fTitleOffset\":0,\"fTitleSize\":15,\"fTitleColor\":1,\"fTitleFont\":42,\"fNbins\":1,\"fXmin\":0,\"fXmax\":1,\"fXbins\":[],\"fFirst\":0,\"fLast\":0,\"fBits2\":0,\"fTimeDisplay\":false,\"fTimeFormat\":\"\",\"fLabels\":null,\"fModLabs\":null},\"fZaxis\":{\"_typename\":\"TAxis\",\"fUniqueID\":0,\"fBits\":0,\"fName\":\"zaxis\",\"fTitle\":\"\",\"fNdivisions\":510,\"fAxisColor\":1,\"fLabelColor\":1,\"fLabelFont\":42,\"fLabelOffset\":0.005,\"fLabelSize\":0.035,\"fTickLength\":0.03,\"fTitleOffset\":1,\"fTitleSize\":0.035,\"fTitleColor\":1,\"fTitleFont\":42,\"fNbins\":1,\"fXmin\":0,\"fXmax\":1,\"fXbins\":[],\"fFirst\":0,\"fLast\":0,\"fBits2\":0,\"fTimeDisplay\":false,\"fTimeFormat\":\"\",\"fLabels\":null,\"fModLabs\":null},\"fBarOffset\":0,\"fBarWidth\":1000,\"fEntries\":10000,\"fTsumw\":5,\"fTsumw2\":0.0025,\"fTsumwx\":-0.104433657073616,\"fTsumwx2\":43.6253763852209,\"fMaximum\":-1111,\"fMinimum\":-1111,\"fNormFactor\":0,\"fContour\":[],\"fSumw2\":[0,0,0,0,0,0,0,0,0,0,0,0,0,2.5e-7,1e-6,5e-7,2.5e-7,5e-7,7.5e-7,1.25e-6,1.25e-6,2.75e-6,5.75e-6,1e-5,1.05e-5,1.225e-5,1.675e-5,2.525e-5,2.95e-5,3.175e-5,4.325e-5,5.4e-5,5.5e-5,6.45e-5,6.7e-5,6.825e-5,7.9e-5,6.775e-5,7.075e-5,6.775e-5,7.2e-5,6e-5,5.425e-5,5.125e-5,4.25e-5,3.575e-5,3.575e-5,3.2e-5,2.7e-5,2.95e-5,2.875e-5,2.675e-5,2.35e-5,2.925e-5,3.525e-5,3.6e-5,4.2e-5,4.35e-5,5.475e-5,5.8e-5,5.4e-5,6.725e-5,6.825e-5,7.025e-5,7.375e-5,6.95e-5,7.925e-5,6.325e-5,6.125e-5,5.075e-5,4.825e-5,4e-5,3.35e-5,2.9e-5,2.225e-5,1.575e-5,1.375e-5,9.75e-6,6.5e-6,6.5e-6,2.75e-6,2.25e-6,1.75e-6,1.5e-6,7.5e-7,1e-6,5e-7,7.5e-7,0,2.5e-7,0,0,5e-7,0,0,0,0,0,0,0,0,0],\"fOption\":\"\",\"fFunctions\":{\"_typename\":\"TList\",\"name\":\"TList\",\"arr\":[],\"opt\":[]},\"fBufferSize\":0,\"fBuffer\":[],\"fBinStatErrOpt\":0,\"fStatOverflows\":2,\"fArray\":[0,0,0,0,0,0,0,0,0,0,0,0,0,5e-4,0.002,0.001,5e-4,0.001,0.0015,0.0025,0.0025,0.0055,0.0115,0.02,0.021,0.0245,0.0335,0.0505,0.059,0.0635,0.0865,0.108,0.11,0.129,0.134,0.1365,0.158,0.1355,0.1415,0.1355,0.144,0.12,0.1085,0.1025,0.085,0.0715,0.0715,0.064,0.054,0.059,0.0575,0.0535,0.047,0.0585,0.0705,0.072,0.084,0.087,0.1095,0.116,0.108,0.1345,0.1365,0.1405,0.1475,0.139,0.1585,0.1265,0.1225,0.1015,0.0965,0.08,0.067,0.058,0.0445,0.0315,0.0275,0.0195,0.013,0.013,0.0055,0.0045,0.0035,0.003,0.0015,0.002,0.001,0.0015,0,5e-4,0,0,0.001,0,0,0,0,0,0,0,0,0]}],\"opt\":[\"\",\"\"]},\"fExecs\":{\"_typename\":\"TList\",\"name\":\"TList\",\"arr\":[],\"opt\":[]},\"fName\":\"cz_3\",\"fTitle\":\"cz_3\",\"fNumPaletteColor\":0,\"fNextPaletteColor\":0},{\"_typename\":\"TPad\",\"fUniqueID\":0,\"fBits\":9,\"fLineColor\":1,\"fLineStyle\":1,\"fLineWidth\":1,\"fFillColor\":0,\"fFillStyle\":1001,\"fLeftMargin\":0.1,\"fRightMargin\":0.1,\"fBottomMargin\":0.1,\"fTopMargin\":0.1,\"fXfile\":2,\"fYfile\":2,\"fAfile\":1,\"fXstat\":0.99,\"fYstat\":0.99,\"fAstat\":2,\"fFrameFillColor\":0,\"fFrameLineColor\":1,\"fFrameFillStyle\":1001,\"fFrameLineStyle\":1,\"fFrameLineWidth\":1,\"fFrameBorderSize\":1,\"fFrameBorderMode\":0,\"fX1\":-6.25000046566131,\"fY1\":-0.0164465630430496,\"fX2\":56.2500004656613,\"fY2\":0.148019057584531,\"fXtoAbsPixelk\":890.568054280806,\"fXtoPixelk\":76.6080546375396,\"fXtoPixel\":12.2572798287678,\"fYtoAbsPixelk\":1104.02404685645,\"fYtoPixelk\":506.304047118413,\"fYtoPixel\":-3420.53250021046,\"fUtoAbsPixelk\":813.960049643266,\"fUtoPixelk\":5e-5,\"fUtoPixel\":766.080000713468,\"fVtoAbsPixelk\":1160.28005026196,\"fVtoPixelk\":562.560000523925,\"fVtoPixel\":-562.560000523925,\"fAbsPixeltoXk\":-72.6562513642421,\"fPixeltoXk\":-6.25000046566131,\"fPixeltoX\":0.0815841698949391,\"fAbsPixeltoYk\":0.322763779262007,\"fPixeltoYk\":-0.0164465630430496,\"fPixeltoY\":-2.92352141059461e-4,\"fXlowNDC\":0.509999999776483,\"fYlowNDC\":0.00999999977648258,\"fXUpNDC\":0.990000000223517,\"fYUpNDC\":0.490000000223517,\"fWNDC\":0.480000000447035,\"fHNDC\":0.480000000447035,\"fAbsXlowNDC\":0.509999999776483,\"fAbsYlowNDC\":0.00999999977648258,\"fAbsWNDC\":0.480000000447035,\"fAbsHNDC\":0.480000000447035,\"fUxmin\":0,\"fUymin\":0,\"fUxmax\":50,\"fUymax\":0.131572494541482,\"fTheta\":30,\"fPhi\":30,\"fAspectRatio\":0,\"fNumber\":4,\"fTickx\":0,\"fTicky\":0,\"fLogx\":0,\"fLogy\":0,\"fLogz\":0,\"fPadPaint\":0,\"fCrosshair\":0,\"fCrosshairPos\":0,\"fBorderSize\":2,\"fBorderMode\":0,\"fModified\":false,\"fGridx\":false,\"fGridy\":false,\"fAbsCoord\":false,\"fEditable\":true,\"fFixedAspectRatio\":false,\"fPrimitives\":{\"_typename\":\"TList\",\"name\":\"TList\",\"arr\":[{\"_typename\":\"TFrame\",\"fUniqueID\":0,\"fBits\":8,\"fLineColor\":1,\"fLineStyle\":1,\"fLineWidth\":1,\"fFillColor\":0,\"fFillStyle\":1001,\"fX1\":0,\"fY1\":0,\"fX2\":50,\"fY2\":0.131572494541482,\"fBorderSize\":1,\"fBorderMode\":0},{\"_typename\":\"TH1D\",\"fUniqueID\":0,\"fBits\":520,\"fName\":\"h_ptz\",\"fTitle\":\"\",\"fLineColor\":602,\"fLineStyle\":1,\"fLineWidth\":1,\"fFillColor\":0,\"fFillStyle\":1001,\"fMarkerColor\":600,\"fMarkerStyle\":20,\"fMarkerSize\":1,\"fNcells\":102,\"fXaxis\":{\"_typename\":\"TAxis\",\"fUniqueID\":0,\"fBits\":0,\"fName\":\"xaxis\",\"fTitle\":\"p_{T} [GeV\\/c]\",\"fNdivisions\":510,\"fAxisColor\":1,\"fLabelColor\":1,\"fLabelFont\":42,\"fLabelOffset\":0.005,\"fLabelSize\":0.035,\"fTickLength\":0.03,\"fTitleOffset\":1.5,\"fTitleSize\":0.035,\"fTitleColor\":1,\"fTitleFont\":42,\"fNbins\":100,\"fXmin\":0,\"fXmax\":50,\"fXbins\":[],\"fFirst\":0,\"fLast\":0,\"fBits2\":0,\"fTimeDisplay\":false,\"fTimeFormat\":\"\",\"fLabels\":null,\"fModLabs\":null},\"fYaxis\":{\"_typename\":\"TAxis\",\"fUniqueID\":0,\"fBits\":0,\"fName\":\"yaxis\",\"fTitle\":\"#frac{dN}{dp_{T}} [GeV\\/c]^{-1}\",\"fNdivisions\":510,\"fAxisColor\":1,\"fLabelColor\":1,\"fLabelFont\":42,\"fLabelOffset\":0.005,\"fLabelSize\":0.035,\"fTickLength\":0.03,\"fTitleOffset\":0,\"fTitleSize\":15,\"fTitleColor\":1,\"fTitleFont\":42,\"fNbins\":1,\"fXmin\":0,\"fXmax\":1,\"fXbins\":[],\"fFirst\":0,\"fLast\":0,\"fBits2\":0,\"fTimeDisplay\":false,\"fTimeFormat\":\"\",\"fLabels\":null,\"fModLabs\":null},\"fZaxis\":{\"_typename\":\"TAxis\",\"fUniqueID\":0,\"fBits\":0,\"fName\":\"zaxis\",\"fTitle\":\"\",\"fNdivisions\":510,\"fAxisColor\":1,\"fLabelColor\":1,\"fLabelFont\":42,\"fLabelOffset\":0.005,\"fLabelSize\":0.035,\"fTickLength\":0.03,\"fTitleOffset\":1,\"fTitleSize\":0.035,\"fTitleColor\":1,\"fTitleFont\":42,\"fNbins\":1,\"fXmin\":0,\"fXmax\":1,\"fXbins\":[],\"fFirst\":0,\"fLast\":0,\"fBits2\":0,\"fTimeDisplay\":false,\"fTimeFormat\":\"\",\"fLabels\":null,\"fModLabs\":null},\"fBarOffset\":0,\"fBarWidth\":1000,\"fEntries\":10000,\"fTsumw\":1.9888,\"fTsumw2\":3.9776e-4,\"fTsumwx\":16.1912724754898,\"fTsumwx2\":253.247337145746,\"fMaximum\":-1111,\"fMinimum\":-1111,\"fNormFactor\":0,\"fContour\":[],\"fSumw2\":[0,4.88e-6,1.14e-5,1.744e-5,1.932e-5,2.392e-5,2.408e-5,2.308e-5,2.208e-5,1.876e-5,1.796e-5,1.576e-5,1.48e-5,1.464e-5,1.168e-5,1.076e-5,8.56e-6,8.56e-6,8.68e-6,8.32e-6,7.6e-6,6.6e-6,6.2e-6,5.4e-6,5e-6,4.92e-6,3.8e-6,4.24e-6,3.84e-6,4.32e-6,3.68e-6,3.48e-6,2.8e-6,2.36e-6,2.68e-6,2.76e-6,2.36e-6,2e-6,1.8e-6,1.88e-6,1.84e-6,2.2e-6,1.64e-6,2e-6,1.52e-6,1.64e-6,1.12e-6,1.2e-6,1.32e-6,1e-6,8.4e-7,9.6e-7,9.6e-7,1.08e-6,1.16e-6,8.4e-7,4.8e-7,6.8e-7,4.8e-7,8.4e-7,6e-7,6e-7,4.8e-7,4.8e-7,4e-7,4.8e-7,2e-7,4.4e-7,5.2e-7,5.2e-7,3.2e-7,3.2e-7,4e-7,2.4e-7,3.2e-7,2.8e-7,3.2e-7,3.2e-7,4e-7,3.2e-7,4e-7,3.2e-7,2e-7,1.6e-7,3.2e-7,2.4e-7,1.2e-7,2e-7,2.4e-7,4e-8,2.4e-7,8e-8,8e-8,2e-7,2.4e-7,8e-8,1.6e-7,1.2e-7,4e-8,4e-8,8e-8,2.24e-6],\"fOption\":\"\",\"fFunctions\":{\"_typename\":\"TList\",\"name\":\"TList\",\"arr\":[],\"opt\":[]},\"fBufferSize\":0,\"fBuffer\":[],\"fBinStatErrOpt\":0,\"fStatOverflows\":2,\"fArray\":[0,0.0244,0.057,0.0872,0.0966,0.1196,0.1204,0.1154,0.1104,0.0938,0.0898,0.0788,0.074,0.0732,0.0584,0.0538,0.0428,0.0428,0.0434,0.0416,0.038,0.033,0.031,0.027,0.025,0.0246,0.019,0.0212,0.0192,0.0216,0.0184,0.0174,0.014,0.0118,0.0134,0.0138,0.0118,0.01,0.009,0.0094,0.0092,0.011,0.0082,0.01,0.0076,0.0082,0.0056,0.006,0.0066,0.005,0.0042,0.0048,0.0048,0.0054,0.0058,0.0042,0.0024,0.0034,0.0024,0.0042,0.003,0.003,0.0024,0.0024,0.002,0.0024,0.001,0.0022,0.0026,0.0026,0.0016,0.0016,0.002,0.0012,0.0016,0.0014,0.0016,0.0016,0.002,0.0016,0.002,0.0016,0.001,8e-4,0.0016,0.0012,6e-4,0.001,0.0012,2e-4,0.0012,4e-4,4e-4,0.001,0.0012,4e-4,8e-4,6e-4,2e-4,2e-4,4e-4,0.0112]}],\"opt\":[\"\",\"\"]},\"fExecs\":{\"_typename\":\"TList\",\"name\":\"TList\",\"arr\":[],\"opt\":[]},\"fName\":\"cz_4\",\"fTitle\":\"cz_4\",\"fNumPaletteColor\":0,\"fNextPaletteColor\":0},{\"_typename\":\"TStyle\",\"fUniqueID\":0,\"fBits\":0,\"fName\":\"Modern\",\"fTitle\":\"Modern Style\",\"fLineColor\":1,\"fLineStyle\":1,\"fLineWidth\":1,\"fFillColor\":19,\"fFillStyle\":1001,\"fMarkerColor\":1,\"fMarkerStyle\":1,\"fMarkerSize\":1,\"fTextAngle\":0,\"fTextSize\":0.05,\"fTextAlign\":11,\"fTextColor\":1,\"fTextFont\":62,\"fXaxis\":{\"_typename\":\"TAttAxis\",\"fNdivisions\":510,\"fAxisColor\":1,\"fLabelColor\":1,\"fLabelFont\":42,\"fLabelOffset\":0.005,\"fLabelSize\":0.035,\"fTickLength\":0.03,\"fTitleOffset\":1,\"fTitleSize\":0.035,\"fTitleColor\":1,\"fTitleFont\":42},\"fYaxis\":{\"_typename\":\"TAttAxis\",\"fNdivisions\":510,\"fAxisColor\":1,\"fLabelColor\":1,\"fLabelFont\":42,\"fLabelOffset\":0.005,\"fLabelSize\":0.035,\"fTickLength\":0.03,\"fTitleOffset\":0,\"fTitleSize\":0.035,\"fTitleColor\":1,\"fTitleFont\":42},\"fZaxis\":{\"_typename\":\"TAttAxis\",\"fNdivisions\":510,\"fAxisColor\":1,\"fLabelColor\":1,\"fLabelFont\":42,\"fLabelOffset\":0.005,\"fLabelSize\":0.035,\"fTickLength\":0.03,\"fTitleOffset\":1,\"fTitleSize\":0.035,\"fTitleColor\":1,\"fTitleFont\":42},\"fBarWidth\":1,\"fBarOffset\":0,\"fColorModelPS\":0,\"fDrawBorder\":0,\"fOptLogx\":0,\"fOptLogy\":0,\"fOptLogz\":0,\"fOptDate\":0,\"fOptStat\":0,\"fOptTitle\":1,\"fOptFile\":0,\"fOptFit\":0,\"fShowEventStatus\":0,\"fShowEditor\":0,\"fShowToolBar\":0,\"fNumberContours\":20,\"fAttDate\":{\"_typename\":\"TAttText\",\"fTextAngle\":0,\"fTextSize\":0.025,\"fTextAlign\":11,\"fTextColor\":1,\"fTextFont\":62},\"fDateX\":0.01,\"fDateY\":0.01,\"fEndErrorSize\":2,\"fErrorX\":0.5,\"fFuncColor\":2,\"fFuncStyle\":1,\"fFuncWidth\":2,\"fGridColor\":0,\"fGridStyle\":3,\"fGridWidth\":1,\"fLegendBorderSize\":1,\"fLegendFillColor\":0,\"fLegendFont\":42,\"fLegendTextSize\":0,\"fHatchesLineWidth\":1,\"fHatchesSpacing\":1,\"fFrameFillColor\":0,\"fFrameLineColor\":1,\"fFrameFillStyle\":1001,\"fFrameLineStyle\":1,\"fFrameLineWidth\":1,\"fFrameBorderSize\":1,\"fFrameBorderMode\":0,\"fHistFillColor\":0,\"fHistLineColor\":602,\"fHistFillStyle\":1001,\"fHistLineStyle\":1,\"fHistLineWidth\":1,\"fHistMinimumZero\":false,\"fHistTopMargin\":0.05,\"fCanvasPreferGL\":false,\"fCanvasColor\":0,\"fCanvasBorderSize\":2,\"fCanvasBorderMode\":0,\"fCanvasDefH\":500,\"fCanvasDefW\":700,\"fCanvasDefX\":10,\"fCanvasDefY\":10,\"fPadColor\":0,\"fPadBorderSize\":2,\"fPadBorderMode\":0,\"fPadBottomMargin\":0.1,\"fPadTopMargin\":0.1,\"fPadLeftMargin\":0.1,\"fPadRightMargin\":0.1,\"fPadGridX\":false,\"fPadGridY\":false,\"fPadTickX\":0,\"fPadTickY\":0,\"fPaperSizeX\":20,\"fPaperSizeY\":26,\"fScreenFactor\":1,\"fStatColor\":0,\"fStatTextColor\":1,\"fStatBorderSize\":1,\"fStatFont\":42,\"fStatFontSize\":0,\"fStatStyle\":1001,\"fStatFormat\":\"6.4g\",\"fStatX\":0.98,\"fStatY\":0.935,\"fStatW\":0.2,\"fStatH\":0.16,\"fStripDecimals\":true,\"fTitleAlign\":23,\"fTitleColor\":0,\"fTitleTextColor\":1,\"fTitleBorderSize\":0,\"fTitleFont\":42,\"fTitleFontSize\":0.05,\"fTitleStyle\":0,\"fTitleX\":0.5,\"fTitleY\":0.995,\"fTitleW\":0,\"fTitleH\":0,\"fLegoInnerR\":0.5,\"fLineStyle\":[\"\",\"  \",\" 12 12\",\" 4 8\",\" 12 16 4 16\",\" 20 12 4 12\",\" 20 12 4 12 4 12 4 12\",\" 20 20\",\" 20 12 4 12 4 12\",\" 80 20\",\" 80 40 4 40\",\"  \",\"  \",\"  \",\"  \",\"  \",\"  \",\"  \",\"  \",\"  \",\"  \",\"  \",\"  \",\"  \",\"  \",\"  \",\"  \",\"  \",\"  \",\"  \"],\"fHeaderPS\":\"\",\"fTitlePS\":\"\",\"fFitFormat\":\"5.4g\",\"fPaintTextFormat\":\"g\",\"fLineScalePS\":3,\"fJoinLinePS\":0,\"fCapLinePS\":0,\"fTimeOffset\":788918400,\"fImageScaling\":1}],\"opt\":[\"\",\"\",\"\",\"\",\"\"]},\"fExecs\":null,\"fName\":\"cz\",\"fTitle\":\"\",\"fNumPaletteColor\":0,\"fNextPaletteColor\":0,\"fDISPLAY\":\"$DISPLAY\",\"fDoubleBuffer\":0,\"fRetained\":true,\"fXsizeUser\":0,\"fYsizeUser\":0,\"fXsizeReal\":20,\"fYsizeReal\":15,\"fWindowTopX\":0,\"fWindowTopY\":0,\"fWindowWidth\":0,\"fWindowHeight\":0,\"fCw\":1596,\"fCh\":1172,\"fCatt\":{\"_typename\":\"TAttCanvas\",\"fXBetween\":2,\"fYBetween\":2,\"fTitleFromTop\":1.2,\"fXdate\":0.2,\"fYdate\":0.3,\"fAdate\":1},\"kMoveOpaque\":true,\"kResizeOpaque\":true,\"fHighLightColor\":2,\"fBatch\":true,\"kShowEventStatus\":false,\"kAutoExec\":true,\"kMenuBar\":true});\n",
       "   Core.settings.HandleKeys = false;\n",
       "   Core.draw(\"root_plot_1674749920261\", obj, \"\");\n",
       "}\n",
       "\n",
       "function script_load_root_plot_1674749920261(src, on_error) {\n",
       "    let script = document.createElement('script');\n",
       "    script.src = src;\n",
       "    script.onload = function() { display_root_plot_1674749920261(JSROOT); };\n",
       "    script.onerror = function() { script.remove(); on_error(); };\n",
       "    document.head.appendChild(script);\n",
       "}\n",
       "\n",
       "if (typeof requirejs !== 'undefined') {\n",
       "\n",
       "    // We are in jupyter notebooks, use require.js which should be configured already\n",
       "    requirejs.config({\n",
       "       paths: { 'JSRootCore' : [ 'scripts/JSRoot.core', 'https://root.cern/js/6.1.1/scripts/JSRoot.core.min', 'https://jsroot.gsi.de/6.1.1/scripts/JSRoot.core.min' ] }\n",
       "    })(['JSRootCore'],  function(Core) {\n",
       "       display_root_plot_1674749920261(Core);\n",
       "    });\n",
       "\n",
       "} else if (typeof JSROOT !== 'undefined') {\n",
       "\n",
       "   // JSROOT already loaded, just use it\n",
       "   display_root_plot_1674749920261(JSROOT);\n",
       "\n",
       "} else {\n",
       "\n",
       "    // We are in jupyterlab without require.js, directly loading jsroot\n",
       "    // Jupyterlab might be installed in a different base_url so we need to know it.\n",
       "    try {\n",
       "        var base_url = JSON.parse(document.getElementById('jupyter-config-data').innerHTML).baseUrl;\n",
       "    } catch(_) {\n",
       "        var base_url = '/';\n",
       "    }\n",
       "\n",
       "    // Try loading a local version of requirejs and fallback to cdn if not possible.\n",
       "    script_load_root_plot_1674749920261(base_url + 'static/scripts/JSRoot.core.js', function(){\n",
       "        console.error('Fail to load JSROOT locally, please check your jupyter_notebook_config.py file');\n",
       "        script_load_root_plot_1674749920261('https://root.cern/js/6.1.1/scripts/JSRoot.core.min.js', function(){\n",
       "            document.getElementById(\"root_plot_1674749920261\").innerHTML = \"Failed to load JSROOT\";\n",
       "        });\n",
       "    });\n",
       "}\n",
       "\n",
       "</script>\n"
      ],
      "text/plain": [
       "<IPython.core.display.HTML object>"
      ]
     },
     "metadata": {},
     "output_type": "display_data"
    }
   ],
   "source": [
    "nEvents=10000\n",
    "pythia = ROOT.TPythia8(False) #False - disables banner\n",
    "makePythiaSilent(pythia)\n",
    "pythia.ReadString(\"WeakSingleBoson:ffbar2gmZ = on\")\n",
    "pythia.ReadString(\"23:onMode = off\")\n",
    "pythia.ReadString(\"23:onIfAny = 11\")\n",
    "pythia.ReadString(\"HadronLevel:all = off\")\n",
    "pythia.ReadString(\"PhaseSpace:mHatMin = 70.\")\n",
    "pythia.ReadString(\"PhaseSpace:mHatMax = 110.\")\n",
    "pythia.ReadString(\"Random:setSeed = on\")\n",
    "pythia.ReadString(\"Random:seed = 0\")\n",
    "pythia.Initialize(2212 , -2212 , 630);\n",
    "particles = ROOT.TClonesArray(\"TParticle\", 1000) #prepare space for generated particles\n",
    "\n",
    "def getZCandidates(parts):\n",
    "    ep = [p for p in parts if isFinal(p,\"e+\")]\n",
    "    em = [p for p in parts if isFinal(p,\"e-\")]\n",
    "    return list(it.product(ep,em))\n",
    "\n",
    "h_rad=ROOT.TH1D(\"h_rad\",\"\",200,70,110)\n",
    "h_norad=ROOT.TH1D(\"h_norad\",\"\",200,70,110)\n",
    "h_pt=ROOT.TH1D(\"h_ptz\",\"\",100,0,50)\n",
    "h_eta=ROOT.TH1D(\"h_etaz\",\"\",100,-10,10)\n",
    "\n",
    "\n",
    "for i in range(nEvents):\n",
    "    pythia.GenerateEvent()\n",
    "    pythia.ImportParticles(particles,\"All\")\n",
    "    for pair in getZCandidates(particles):\n",
    "        h_rad.Fill(getMinv(pair))\n",
    "    pt=0\n",
    "    eta=0\n",
    "    for p in particles:\n",
    "        if p.GetName()==\"Z0\":\n",
    "            pt=p.Pt()\n",
    "            eta=p.Eta()\n",
    "    h_pt.Fill(pt)\n",
    "    h_eta.Fill(eta)\n",
    "\n",
    "pythia = ROOT.TPythia8(False)\n",
    "makePythiaSilent(pythia)\n",
    "pythia.ReadString(\"WeakSingleBoson:ffbar2gmZ = on\")\n",
    "pythia.ReadString(\"23:onMode = off\")\n",
    "pythia.ReadString(\"23:onIfAny = 11\")\n",
    "pythia.ReadString(\"HadronLevel:all = off\")\n",
    "pythia.ReadString(\"PhaseSpace:mHatMin = 70.\")\n",
    "pythia.ReadString(\"PhaseSpace:mHatMax = 110.\")\n",
    "pythia.ReadString(\"PartonLevel:FSR = off\")\n",
    "pythia.ReadString(\"Random:setSeed = on\")\n",
    "pythia.ReadString(\"Random:seed = 0\")\n",
    "pythia.Initialize(2212 , -2212 , 630);\n",
    "\n",
    "for i in range(nEvents):\n",
    "    pythia.GenerateEvent()\n",
    "    pythia.ImportParticles(particles,\"All\")\n",
    "    for pair in getZCandidates(particles):\n",
    "        h_norad.Fill(getMinv(pair))\n",
    "\n",
    "c_z = ROOT.TCanvas(\"cz\",\"\",1600,1200)\n",
    "c_z.Divide(2,2)\n",
    "c_z.cd(1)\n",
    "\n",
    "h_rad.Scale(1./(h_rad.GetMaximum()))\n",
    "h_norad.Scale(1./(h_norad.GetMaximum()))\n",
    "\n",
    "h_norad.SetLineColor(ROOT.kRed)\n",
    "h_norad.SetLineWidth(2)\n",
    "h_rad.SetLineWidth(2)\n",
    "h_norad.GetXaxis().SetTitle(\"M_{e^{+}e^{-}}\")\n",
    "h_norad.GetXaxis().SetTitleOffset(1.4)\n",
    "h_norad.GetYaxis().SetTitle(\"entries\")\n",
    "h_norad.Draw(\"hist\")\n",
    "h_rad.Draw(\"same hist\")\n",
    "leg=ROOT.TLegend(0.7,0.8,0.9,0.9)\n",
    "leg.AddEntry(h_norad,\"FSR OFF\")\n",
    "leg.AddEntry(h_rad,\"FSR ON\")\n",
    "leg.Draw()\n",
    "\n",
    "h_pt.SetMarkerStyle(ROOT.kFullCircle)\n",
    "h_pt.SetMarkerColor(ROOT.kBlue)\n",
    "h_pt.GetXaxis().SetTitle(\"p_{T} [GeV/c]\")\n",
    "h_pt.GetYaxis().SetTitle(\"#frac{dN}{dp_{T}} [GeV/c]^{-1}\")\n",
    "h_pt.GetXaxis().SetTitleOffset(1.5)\n",
    "h_pt.GetYaxis().SetTitleSize(15)\n",
    "bw=h_pt.GetBinWidth(1)\n",
    "h_pt.Scale(1./(bw*nEvents))\n",
    "\n",
    "h_eta.SetMarkerStyle(ROOT.kFullCircle)\n",
    "h_eta.SetMarkerColor(ROOT.kBlue)\n",
    "h_eta.GetXaxis().SetTitle(\"#eta\")\n",
    "h_eta.GetYaxis().SetTitle(\"#frac{dN}{d#eta}\")\n",
    "h_eta.GetYaxis().SetTitleSize(15)\n",
    "bw=h_eta.GetBinWidth(1)\n",
    "h_eta.Scale(1./(bw*nEvents))\n",
    "\n",
    "c_z.cd(3)\n",
    "h_eta.Draw()\n",
    "c_z.cd(4)\n",
    "h_pt.Draw()\n",
    "c_z.Draw()\n",
    "\n",
    "\n",
    "dnz=ctypes.c_double()\n",
    "nz=h_pt.IntegralAndError(0,-1,dnz,\"width\")\n",
    "\n",
    "print(\"Mean number of Z bosons per event: <N_Z>={:.3f} +/- {:.3f}\".format(nz,dnz.value))"
   ]
  },
  {
   "cell_type": "code",
   "execution_count": 18,
   "metadata": {},
   "outputs": [
    {
     "name": "stdout",
     "output_type": "stream",
     "text": [
      " *** TDatabasePDG::AddParticle: particle with PDGcode=90 already defined\n",
      " *** TDatabasePDG::AddParticle: particle with PDGcode=9900110 already defined\n",
      " *** TDatabasePDG::AddParticle: particle with PDGcode=9900210 already defined\n",
      " *** TDatabasePDG::AddParticle: particle with PDGcode=9900220 already defined\n",
      " *** TDatabasePDG::AddParticle: particle with PDGcode=9900330 already defined\n",
      " *** TDatabasePDG::AddParticle: particle with PDGcode=9900440 already defined\n",
      " *** TDatabasePDG::AddParticle: particle with PDGcode=9902110 already defined\n",
      " *** TDatabasePDG::AddParticle: particle with PDGcode=9902210 already defined\n",
      " PYTHIA Warning in MultipartonInteractions::init: maximum increased by factor 1.046\n"
     ]
    }
   ],
   "source": [
    "nEvents=10000\n",
    "pythia = ROOT.TPythia8(False)                       # false to suppress banner\n",
    "makePythiaSilent(pythia)                            # suppress most of pythia console output\n",
    "pythia.ReadString(\"WeakSingleBoson:ffbar2gmZ = on\") # select desired hard process\n",
    "pythia.ReadString(\"23:onMode = off\")                # disable all Z decay channels\n",
    "pythia.ReadString(\"23:onIfAny = 11\")                # enable Z decays to electrons\n",
    "pythia.ReadString(\"HadronLevel:all = off\")          # disable hadronisation\n",
    "pythia.ReadString(\"PhaseSpace:mHatMin = 70.\")       # lower phase space limit\n",
    "pythia.ReadString(\"PhaseSpace:mHatMax = 110.\")      # upper phase space limit\n",
    "pythia.ReadString(\"PartonLevel:FSR = on\")           # turn Final State Radiation on (note: it is on by default)\n",
    "pythia.ReadString(\"Random:setSeed = on\")            # random seed setup \n",
    "pythia.ReadString(\"Random:seed = 0\")                # random seed setup\n",
    "pythia.Initialize(2212 , -2212 , 630)               # initialize pythia\n",
    "particles = ROOT.TClonesArray(\"TParticle\", 1000)    # prepare space for generated particles\n",
    "\n",
    "#your solution goes here"
   ]
  }
 ],
 "metadata": {
  "kernelspec": {
   "display_name": "Python 3 (ipykernel)",
   "language": "python",
   "name": "python3"
  },
  "language_info": {
   "codemirror_mode": {
    "name": "ipython",
    "version": 3
   },
   "file_extension": ".py",
   "mimetype": "text/x-python",
   "name": "python",
   "nbconvert_exporter": "python",
   "pygments_lexer": "ipython3",
   "version": "3.8.10"
  }
 },
 "nbformat": 4,
 "nbformat_minor": 4
}
