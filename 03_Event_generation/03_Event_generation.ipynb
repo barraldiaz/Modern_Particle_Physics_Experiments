{
 "cells": [
  {
   "cell_type": "markdown",
   "metadata": {},
   "source": [
    "# Event generation\n",
    "Auhtor: Piotr Podlaski"
   ]
  },
  {
   "cell_type": "markdown",
   "metadata": {
    "tags": []
   },
   "source": [
    "## Load ROOT and necessary python packages"
   ]
  },
  {
   "cell_type": "code",
   "execution_count": 1,
   "metadata": {},
   "outputs": [
    {
     "name": "stdout",
     "output_type": "stream",
     "text": [
      "Welcome to JupyROOT 6.24/04\n"
     ]
    }
   ],
   "source": [
    "import ROOT\n",
    "import os, sys, subprocess, time\n",
    "import py8settings as py8s\n",
    "from py8settings import PDF\n",
    "import itertools as it\n",
    "\n",
    "%jsroot on"
   ]
  },
  {
   "cell_type": "markdown",
   "metadata": {},
   "source": [
    "## Play with Pythia8 settings and view events"
   ]
  },
  {
   "cell_type": "code",
   "execution_count": 2,
   "metadata": {},
   "outputs": [
    {
     "name": "stdout",
     "output_type": "stream",
     "text": [
      "You can now set the parameters for the incoming beams:\n"
     ]
    },
    {
     "data": {
      "application/vnd.jupyter.widget-view+json": {
       "model_id": "5a09078e6fea4f8699d8a7f8ced3e4b4",
       "version_major": 2,
       "version_minor": 0
      },
      "text/plain": [
       "interactive(children=(Dropdown(description='beam A id  [Beams:idA]', index=9, layout=Layout(width='750px'), op…"
      ]
     },
     "metadata": {},
     "output_type": "display_data"
    }
   ],
   "source": [
    "cmnd_file = \"settings.cmnd\"\n",
    "\n",
    "#we start fresh\n",
    "if os.path.exists(cmnd_file):\n",
    "    os.remove(cmnd_file)\n",
    "os.system(\"touch \"+cmnd_file)\n",
    "\n",
    "#beam settings:\n",
    "py8s.beam_settings(cmnd_file)"
   ]
  },
  {
   "cell_type": "code",
   "execution_count": 3,
   "metadata": {},
   "outputs": [
    {
     "name": "stdout",
     "output_type": "stream",
     "text": [
      "You can now select the number of events, settings for the random seed, and processes:\n"
     ]
    },
    {
     "data": {
      "application/vnd.jupyter.widget-view+json": {
       "model_id": "b0dba9537ce34e8cbf87f3023ab2f20b",
       "version_major": 2,
       "version_minor": 0
      },
      "text/plain": [
       "interactive(children=(IntText(value=100, description='# of events  [Main:numberOfEvents]', layout=Layout(width…"
      ]
     },
     "metadata": {},
     "output_type": "display_data"
    }
   ],
   "source": [
    "py8s.basic_settings(cmnd_file)"
   ]
  },
  {
   "cell_type": "code",
   "execution_count": 4,
   "metadata": {},
   "outputs": [
    {
     "name": "stdout",
     "output_type": "stream",
     "text": [
      "You can switch on/off different parts of the simulation:\n"
     ]
    },
    {
     "data": {
      "application/vnd.jupyter.widget-view+json": {
       "model_id": "b679d68697f84f4cb2e59a7c8eac9a66",
       "version_major": 2,
       "version_minor": 0
      },
      "text/plain": [
       "interactive(children=(Checkbox(value=True, description='multi-parton interactions  [PartonLevel:MPI]', layout=…"
      ]
     },
     "metadata": {},
     "output_type": "display_data"
    }
   ],
   "source": [
    "py8s.onoff_settings(cmnd_file)"
   ]
  },
  {
   "cell_type": "code",
   "execution_count": 5,
   "metadata": {},
   "outputs": [
    {
     "name": "stdout",
     "output_type": "stream",
     "text": [
      "You can now select the phase-space cuts for 2 final-state particles:\n"
     ]
    },
    {
     "data": {
      "application/vnd.jupyter.widget-view+json": {
       "model_id": "95f96c7406064108af76a5b2123843ec",
       "version_major": 2,
       "version_minor": 0
      },
      "text/plain": [
       "interactive(children=(FloatText(value=4.0, description='minimum invariant mass in GeV  [PhaseSpace:mHatMin]', …"
      ]
     },
     "metadata": {},
     "output_type": "display_data"
    }
   ],
   "source": [
    "# Write settings for phase-space cuts to file.\n",
    "py8s.pscuts_settings(cmnd_file, 2)"
   ]
  },
  {
   "cell_type": "code",
   "execution_count": 6,
   "metadata": {},
   "outputs": [
    {
     "name": "stdout",
     "output_type": "stream",
     "text": [
      "You can now set the main shower parameters:\n"
     ]
    },
    {
     "data": {
      "application/vnd.jupyter.widget-view+json": {
       "model_id": "947d4b70f2b146e8b593f0b2d20e6366",
       "version_major": 2,
       "version_minor": 0
      },
      "text/plain": [
       "interactive(children=(FloatText(value=0.1365, description='alphaS(m_Z) for final-state shower (0.06 - 0.25)  […"
      ]
     },
     "metadata": {},
     "output_type": "display_data"
    }
   ],
   "source": [
    "# Write settings for phase-space cuts to file.\n",
    "py8s.shower_settings(cmnd_file)"
   ]
  },
  {
   "cell_type": "code",
   "execution_count": 6,
   "metadata": {},
   "outputs": [],
   "source": [
    "# Write additional settings if needed.\n",
    "#py8s.more_settings(cmnd_file, [\"23:onMode = off\", \"23:onIfAny = 13\"])"
   ]
  },
  {
   "cell_type": "code",
   "execution_count": 7,
   "metadata": {
    "tags": []
   },
   "outputs": [
    {
     "data": {
      "text/plain": [
       "0"
      ]
     },
     "execution_count": 7,
     "metadata": {},
     "output_type": "execute_result"
    },
    {
     "name": "stdout",
     "output_type": "stream",
     "text": [
      "\n",
      " *------------------------------------------------------------------------------------* \n",
      " |                                                                                    | \n",
      " |  *------------------------------------------------------------------------------*  | \n",
      " |  |                                                                              |  | \n",
      " |  |                                                                              |  | \n",
      " |  |   PPP   Y   Y  TTTTT  H   H  III    A      Welcome to the Lund Monte Carlo!  |  | \n",
      " |  |   P  P   Y Y     T    H   H   I    A A     This is PYTHIA version 8.306      |  | \n",
      " |  |   PPP     Y      T    HHHHH   I   AAAAA    Last date of change: 28 Jun 2021  |  | \n",
      " |  |   P       Y      T    H   H   I   A   A                                      |  | \n",
      " |  |   P       Y      T    H   H  III  A   A    Now is 17 Feb 2022 at 18:44:46    |  | \n",
      " |  |                                                                              |  | \n",
      " |  |   Program documentation and an archive of historic versions is found on:     |  | \n",
      " |  |                                                                              |  | \n",
      " |  |                               https://pythia.org/                            |  | \n",
      " |  |                                                                              |  | \n",
      " |  |   PYTHIA is authored by a collaboration consisting of:                       |  | \n",
      " |  |                                                                              |  | \n",
      " |  |   Christian Bierlich, Nishita Desai, Leif Gellersen, Ilkka Helenius, Philip  |  | \n",
      " |  |   Ilten, Leif Lönnblad, Stephen Mrenna, Stefan Prestel, Christian Preuss,    |  | \n",
      " |  |   Torbjörn Sjöstrand, Peter Skands, Marius Utheim and Rob Verheyen.          |  | \n",
      " |  |                                                                              |  | \n",
      " |  |   The complete list of authors, including contact information and            |  | \n",
      " |  |   affiliations, can be found on https://pythia.org/.                         |  | \n",
      " |  |   Problems or bugs should be reported on email at authors@pythia.org.        |  | \n",
      " |  |                                                                              |  | \n",
      " |  |   The main program reference is 'An Introduction to PYTHIA 8.2',             |  | \n",
      " |  |   T. Sjöstrand et al, Comput. Phys. Commun. 191 (2015) 159                   |  | \n",
      " |  |   [arXiv:1410.3012 [hep-ph]]                                                 |  | \n",
      " |  |                                                                              |  | \n",
      " |  |   The main physics reference is the 'PYTHIA 6.4 Physics and Manual',         |  | \n",
      " |  |   T. Sjöstrand, S. Mrenna and P. Skands, JHEP05 (2006) 026 [hep-ph/0603175]  |  | \n",
      " |  |                                                                              |  | \n",
      " |  |   PYTHIA is released under the GNU General Public Licence version 2 or later.|  | \n",
      " |  |   Please respect the MCnet Guidelines for Event Generator Authors and Users. |  | \n",
      " |  |                                                                              |  | \n",
      " |  |   Disclaimer: this program comes without any guarantees.                     |  | \n",
      " |  |   Beware of errors and use common sense when interpreting results.           |  | \n",
      " |  |                                                                              |  | \n",
      " |  |   Copyright (C) 2021 Torbjörn Sjöstrand                                      |  | \n",
      " |  |                                                                              |  | \n",
      " |  |                                                                              |  | \n",
      " |  *------------------------------------------------------------------------------*  | \n",
      " |                                                                                    | \n",
      " *------------------------------------------------------------------------------------* \n",
      "\n",
      "\n",
      "INFORMATION:\n",
      "   Forcing PhaseSpace:pTHatMinDiverge to very small\n",
      "   value 0.05 GeV to prevent aggressive phase-space\n",
      "   restriction of deep-inelastic scattering configurations.\n",
      "   Default minimum value of 0.5 GeV may be reinstated from command\n",
      "   line or input file settings.\n",
      "\n",
      "NOTE THAT\n",
      "   2->2 processes in pp collisions require setting PhaseSpace:pTHatMin\n",
      "   2->2 processes in DIS collisions require setting PhaseSpace:Q2min\n",
      "   (see details in the ''Phase Space Cuts'' section of the online manual)\n",
      "\n",
      " *-------  PYTHIA Process Initialization  --------------------------*\n",
      " |                                                                  |\n",
      " | We collide e- with p+ at a CM energy of 3.003e+02 GeV            |\n",
      " |                                                                  |\n",
      " |------------------------------------------------------------------|\n",
      " |                                                    |             |\n",
      " | Subprocess                                    Code |   Estimated |\n",
      " |                                                    |    max (mb) |\n",
      " |                                                    |             |\n",
      " |------------------------------------------------------------------|\n",
      " |                                                    |             |\n",
      " | f f' -> f f' (t-channel gamma*/Z0)             211 |   2.062e-02 |\n",
      " | f_1 f_2 -> f_3 f_4 (t-channel W+-)             212 |   1.186e-05 |\n",
      " |                                                                  |\n",
      " *-------  End PYTHIA Process Initialization -----------------------*\n",
      "\n",
      " *-------  PYTHIA Flag + Mode + Parm + Word + FVec + MVec + PVec + WVec Settings (changes only)  ------------------* \n",
      " |                                                                                                                 | \n",
      " | Name                                          |                      Now |      Default         Min         Max | \n",
      " |                                               |                          |                                      | \n",
      " | Beams:eA                                      |                 27.50000 |     7000.000         0.0             | \n",
      " | Beams:eB                                      |                820.00000 |     7000.000         0.0             | \n",
      " | Beams:frameType                               |                        2 |            1           1           5 | \n",
      " | Beams:idA                                     |                       11 |         2212                         | \n",
      " | Main:numberOfEvents                           |                      100 |         1000           0             | \n",
      " | PhaseSpace:pTHatMin                           |                  1.00000 |          0.0         0.0             | \n",
      " | PhaseSpace:pTHatMinDiverge                    |                0.0500000 |      1.00000     0.50000             | \n",
      " | PhaseSpace:Q2Min                              |                  1.00000 |          0.0         0.0             | \n",
      " | WeakBosonExchange:all                         |                       on |          off                         | \n",
      " |                                                                                                                 | \n",
      " *-------  End PYTHIA Flag + Mode + Parm + Word + FVec + MVec + PVec + WVec Settings  -----------------------------* \n",
      "\n",
      " --------  PYTHIA Particle Data Table (changed only)  ------------------------------------------------------------------------------\n",
      " \n",
      "      id   name            antiName         spn chg col      m0        mWidth      mMin       mMax       tau0    res dec ext vis wid\n",
      "             no onMode   bRatio   meMode     products \n",
      "\n",
      " no particle data has been changed from its default value \n",
      "\n",
      " --------  End PYTHIA Particle Data Table  -----------------------------------------------------------------------------------------\n",
      "\n",
      " PYTHIA Info from Pythia::init: be aware that successive calls to init() do not clear previous settings.  \n",
      "\n",
      " *-------  PYTHIA Process Initialization  --------------------------*\n",
      " |                                                                  |\n",
      " | We collide e- with p+ at a CM energy of 3.003e+02 GeV            |\n",
      " |                                                                  |\n",
      " |------------------------------------------------------------------|\n",
      " |                                                    |             |\n",
      " | Subprocess                                    Code |   Estimated |\n",
      " |                                                    |    max (mb) |\n",
      " |                                                    |             |\n",
      " |------------------------------------------------------------------|\n",
      " |                                                    |             |\n",
      " | f f' -> f f' (t-channel gamma*/Z0)             211 |   2.062e-02 |\n",
      " | f_1 f_2 -> f_3 f_4 (t-channel W+-)             212 |   1.186e-05 |\n",
      " |                                                                  |\n",
      " *-------  End PYTHIA Process Initialization -----------------------*\n",
      "\n",
      " *-------  PYTHIA Flag + Mode + Parm + Word + FVec + MVec + PVec + WVec Settings (changes only)  ------------------* \n",
      " |                                                                                                                 | \n",
      " | Name                                          |                      Now |      Default         Min         Max | \n",
      " |                                               |                          |                                      | \n",
      " | Beams:eA                                      |                 27.50000 |     7000.000         0.0             | \n",
      " | Beams:eB                                      |                820.00000 |     7000.000         0.0             | \n",
      " | Beams:frameType                               |                        2 |            1           1           5 | \n",
      " | Beams:idA                                     |                       11 |         2212                         | \n",
      " | Main:numberOfEvents                           |                      100 |         1000           0             | \n",
      " | PhaseSpace:pTHatMin                           |                  1.00000 |          0.0         0.0             | \n",
      " | PhaseSpace:pTHatMinDiverge                    |                0.0500000 |      1.00000     0.50000             | \n",
      " | PhaseSpace:Q2Min                              |                  1.00000 |          0.0         0.0             | \n",
      " | WeakBosonExchange:all                         |                       on |          off                         | \n",
      " |                                                                                                                 | \n",
      " *-------  End PYTHIA Flag + Mode + Parm + Word + FVec + MVec + PVec + WVec Settings  -----------------------------* \n",
      "\n",
      " --------  PYTHIA Particle Data Table (changed only)  ------------------------------------------------------------------------------\n",
      " \n",
      "      id   name            antiName         spn chg col      m0        mWidth      mMin       mMax       tau0    res dec ext vis wid\n",
      "             no onMode   bRatio   meMode     products \n",
      "\n",
      " no particle data has been changed from its default value \n",
      "\n",
      " --------  End PYTHIA Particle Data Table  -----------------------------------------------------------------------------------------\n",
      "\n",
      " PYTHIA Warning in PhaseSpace2to2tauyz::trialKin: maximum for cross section violated  \n",
      "\n",
      " --------  PYTHIA Info Listing  ---------------------------------------- \n",
      " \n",
      " Beam A: id =     11, pz =  1.502e+02, e =  1.502e+02, m =  5.110e-04.\n",
      " Beam B: id =   2212, pz = -1.502e+02, e =  1.502e+02, m =  9.383e-01.\n",
      "\n",
      " In 1: id =   11, x =  9.988e-01, pdf =  2.410e+01 at Q2 =  4.093e+00.\n",
      " In 2: id =    3, x =  8.751e-04, pdf =  2.027e-01 at same Q2.\n",
      "\n",
      " Subprocess f f' -> f f' (t-channel gamma*/Z0) with code 211 is 2 -> 2.\n",
      " It has sHat =  7.884e+01,    tHat = -4.330e+00,    uHat = -7.451e+01,\n",
      "       pTHat =  2.017e+00,   m3Hat =  5.110e-04,   m4Hat =  5.000e-01,\n",
      "    thetaHat =  4.731e-01,  phiHat =  5.187e+00.\n",
      "     alphaEM =  7.498e-03,  alphaS =  3.386e-01    at Q2 =  4.093e+00.\n",
      "\n",
      " Impact parameter b =  0.000e+00 gives enhancement factor =  1.000e+00.\n",
      " Max pT scale for MPI =  3.003e+02, ISR =  2.023e+00, FSR =  2.023e+00.\n",
      " Number of MPI =     1, ISR =     2, FSRproc =     0, FSRreson =     0.\n",
      "\n",
      " --------  End PYTHIA Info Listing  ------------------------------------\n",
      "\n",
      " --------  PYTHIA Event Listing  (hard process)  -----------------------------------------------------------------------------------\n",
      " \n",
      "    no         id  name            status     mothers   daughters     colours      p_x        p_y        p_z         e          m \n",
      "     0         90  (system)           -11     0     0     0     0     0     0      0.000      0.000   -792.499    847.500    300.335\n",
      "     1         11  (e-)               -12     0     0     3     0     0     0      0.000      0.000     27.500     27.500      0.001\n",
      "     2       2212  (p+)               -12     0     0     4     0     0     0      0.000      0.000   -819.999    820.000      0.938\n",
      "     3         11  (e-)               -21     1     0     5     6     0     0      0.000      0.000     27.467     27.467      0.000\n",
      "     4          3  (s)                -21     2     0     5     6   101     0      0.000      0.000     -0.718      0.718      0.000\n",
      "     5         11  e-                  23     3     4     0     0     0     0      0.922     -1.793     25.837     25.915      0.001\n",
      "     6          3  s                   23     3     4     0     0   101     0     -0.922      1.793      0.913      2.269      0.500\n",
      "                                   Charge sum: -1.333           Momentum sum:      0.000      0.000     26.749     28.185      8.879\n",
      "\n",
      " --------  End PYTHIA Event Listing  -----------------------------------------------------------------------------------------------\n",
      "\n",
      " --------  PYTHIA Event Listing  (complete event)  ---------------------------------------------------------------------------------\n",
      " \n",
      "    no         id  name            status     mothers   daughters     colours      p_x        p_y        p_z         e          m \n",
      "     0         90  (system)           -11     0     0     0     0     0     0     -0.000     -0.000   -792.504    847.504    300.335\n",
      "     1         11  (e-)               -12     0     0    12     0     0     0      0.000     -0.000     27.500     27.500      0.001\n",
      "     2       2212  (p+)               -12     0     0    18     0     0     0      0.000      0.000   -820.003    820.004      0.938\n",
      "     3         11  (e-)               -21     7     7     5     6     0     0      0.000     -0.000     27.467     27.467      0.000\n",
      "     4          3  (s)                -21     8     0     5     6   101     0      0.000      0.000     -0.718      0.718      0.000\n",
      "     5         11  (e-)               -23     3     4     9     9     0     0      0.922     -1.793     25.837     25.915      0.001\n",
      "     6          3  (s)                -23     3     4    10    10   101     0     -0.922      1.793      0.913      2.269      0.500\n",
      "     7         11  (e-)               -42    12     0     3     3     0     0      0.000     -0.000     27.467     27.467      0.000\n",
      "     8         21  (g)                -41    13    13    11     4   101   102     -0.000      0.000     -2.127      2.127      0.000\n",
      "     9         11  (e-)               -44     5     5    14    14     0     0      0.960     -1.845     26.726     26.807      0.001\n",
      "    10          3  (s)                -44     6     6    15    15   101     0     -0.270      0.909     -0.285      1.109      0.500\n",
      "    11         -3  (sbar)             -43     8     0    16    16     0   102     -0.690      0.936     -1.101      1.678      0.500\n",
      "    12         11  (e-)               -41     1     0    17     7     0     0      0.000     -0.000     27.500     27.500      0.000\n",
      "    13         21  (g)                -42    18    18     8     8   101   102      0.000      0.000     -2.127      2.127      0.000\n",
      "    14         11  e-                  44     9     9     0     0     0     0      0.961     -1.845     26.726     26.807      0.001\n",
      "    15          3  (s)                -44    10    10    19    19   101     0     -0.270      0.909     -0.285      1.109      0.500\n",
      "    16         -3  (sbar)             -44    11    11    20    20     0   102     -0.690      0.936     -1.101      1.677      0.500\n",
      "    17         22  (gamma)            -43    12     0    21    21     0     0     -0.001     -0.000      0.033      0.033      0.000\n",
      "    18         21  (g)                -61     2     0    13    13   101   102      0.023      4.226     -5.150      6.662      0.000\n",
      "    19          3  (s)                -62    15    15    32    32   101     0      0.288      2.181     -2.687      3.509      0.500\n",
      "    20         -3  (sbar)             -62    16    16    25    25     0   102     -0.299      1.826     -2.911      3.485      0.500\n",
      "    21         22  gamma               62    17    17     0     0     0     0      0.044      0.103     -0.061      0.127      0.000\n",
      "    22       2203  (uu_1)             -63     2     0    33    33     0   101     -0.668     -1.200   -512.144    512.146      0.771\n",
      "    23          1  (d)                -63     2     0    24    24   102     0     -0.326     -1.066   -301.427    301.429      0.330\n",
      "    24          1  (d)                -71    23    23    26    31   102     0     -0.326     -1.066   -301.427    301.429      0.330\n",
      "    25         -3  (sbar)             -71    20    20    26    31     0   102     -0.299      1.826     -2.911      3.485      0.500\n",
      "    26       -211  pi-                 83    24    25     0     0     0     0      0.160     -0.356    -97.003     97.004      0.140\n",
      "    27        321  K+                  83    24    25     0     0     0     0     -0.484     -0.539   -132.086    132.089      0.494\n",
      "    28       -311  (Kbar0)            -83    24    25    41    41     0     0     -0.369      0.399    -56.009     56.014      0.498\n",
      "    29       2212  p+                  84    24    25     0     0     0     0      0.211     -0.092     -7.320      7.384      0.938\n",
      "    30       -323  (K*-)              -84    24    25    42    43     0     0      0.084     -0.085     -7.779      7.844      0.995\n",
      "    31      -3322  (Xibar0)           -84    24    25    50    51     0     0     -0.227      1.436     -4.139      4.580      1.315\n",
      "    32          3  (s)                -71    19    19    34    40   101     0      0.288      2.181     -2.687      3.509      0.500\n",
      "    33       2203  (uu_1)             -71    22    22    34    40     0   101     -0.668     -1.200   -512.144    512.146      0.771\n",
      "    34       -311  (Kbar0)            -83    32    33    44    44     0     0     -0.055      1.206     -1.436      1.941      0.498\n",
      "    35        313  (K*0)              -83    32    33    45    46     0     0     -0.201      0.642     -2.504      2.756      0.936\n",
      "    36       -321  K-                  83    32    33     0     0     0     0      0.574      0.201     -5.282      5.340      0.494\n",
      "    37        211  pi+                 84    32    33     0     0     0     0     -0.065     -0.145    -26.589     26.590      0.140\n",
      "    38        223  (omega)            -84    32    33    52    54     0     0     -0.023     -0.076   -123.753    123.755      0.773\n",
      "    39       2114  (Delta0)           -84    32    33    47    48     0     0     -0.176     -0.388   -257.279    257.282      1.211\n",
      "    40        211  pi+                 84    32    33     0     0     0     0     -0.434     -0.458    -97.988     97.990      0.140\n",
      "    41        310  (K_S0)             -91    28    28    55    56     0     0     -0.369      0.399    -56.009     56.014      0.498\n",
      "    42       -311  (Kbar0)            -91    30     0    49    49     0     0      0.189     -0.336     -6.399      6.430      0.498\n",
      "    43       -211  pi-                 91    30     0     0     0     0     0     -0.105      0.251     -1.381      1.414      0.140\n",
      "    44        310  (K_S0)             -91    34    34    57    58     0     0     -0.055      1.206     -1.436      1.941      0.498\n",
      "    45        321  K+                  91    35     0     0     0     0     0      0.173      0.398     -1.159      1.333      0.494\n",
      "    46       -211  pi-                 91    35     0     0     0     0     0     -0.374      0.243     -1.345      1.424      0.140\n",
      "    47       2112  n0                  91    39     0     0     0     0     0     -0.113     -0.274   -160.738    160.741      0.940\n",
      "    48        111  (pi0)              -91    39     0    59    60     0     0     -0.063     -0.114    -96.541     96.541      0.135\n",
      "    49        310  (K_S0)             -91    42    42    61    62     0     0      0.189     -0.336     -6.399      6.430      0.498\n",
      "    50      -3122  (Lambdabar0)       -91    31     0    63    64     0     0     -0.118      1.372     -3.813      4.205      1.116\n",
      "    51        111  (pi0)              -91    31     0    65    66     0     0     -0.110      0.064     -0.326      0.375      0.135\n",
      "    52        211  pi+                 91    38     0     0     0     0     0      0.104     -0.292    -42.484     42.485      0.140\n",
      "    53       -211  pi-                 91    38     0     0     0     0     0     -0.118      0.083    -26.760     26.761      0.140\n",
      "    54        111  (pi0)              -91    38     0    67    68     0     0     -0.010      0.132    -54.509     54.509      0.135\n",
      "    55        211  pi+                 91    41     0     0     0     0     0     -0.383      0.122    -31.123     31.126      0.140\n",
      "    56       -211  pi-                 91    41     0     0     0     0     0      0.014      0.277    -24.886     24.888      0.140\n",
      "    57        211  pi+                 91    44     0     0     0     0     0      0.022      1.004     -0.941      1.383      0.140\n",
      "    58       -211  pi-                 91    44     0     0     0     0     0     -0.077      0.203     -0.495      0.558      0.140\n",
      "    59         22  gamma               91    48     0     0     0     0     0     -0.046     -0.145    -75.186     75.186      0.000\n",
      "    60         22  gamma               91    48     0     0     0     0     0     -0.017      0.031    -21.355     21.355      0.000\n",
      "    61        211  pi+                 91    49     0     0     0     0     0     -0.068     -0.092     -3.668      3.672      0.140\n",
      "    62       -211  pi-                 91    49     0     0     0     0     0      0.257     -0.244     -2.731      2.757      0.140\n",
      "    63      -2112  nbar0               91    50     0     0     0     0     0     -0.148      1.218     -3.125      3.487      0.940\n",
      "    64        111  (pi0)              -91    50     0    69    70     0     0      0.030      0.153     -0.688      0.718      0.135\n",
      "    65         22  gamma               91    51     0     0     0     0     0     -0.031     -0.027     -0.020      0.046      0.000\n",
      "    66         22  gamma               91    51     0     0     0     0     0     -0.078      0.091     -0.306      0.329      0.000\n",
      "    67         22  gamma               91    54     0     0     0     0     0     -0.049      0.000    -11.083     11.083      0.000\n",
      "    68         22  gamma               91    54     0     0     0     0     0      0.040      0.132    -43.426     43.426      0.000\n",
      "    69         22  gamma               91    64     0     0     0     0     0      0.011     -0.014     -0.226      0.227      0.000\n",
      "    70         22  gamma               91    64     0     0     0     0     0      0.019      0.167     -0.462      0.491      0.000\n",
      "                                   Charge sum:  0.000           Momentum sum:     -0.000     -0.000   -792.503    847.504    300.336\n",
      "\n",
      " --------  End PYTHIA Event Listing  -----------------------------------------------------------------------------------------------\n",
      "\n",
      "\n",
      "Printed one event to output file event-settings.cmnd.dot\n",
      "Producing .ps figure by using the 'dot' command.\n",
      "Stored event visualization in file event-settings.cmnd.ps\n",
      "\n",
      "Created event visualization. Exiting event generation.\n",
      "\n"
     ]
    }
   ],
   "source": [
    "# Start pythia+dire.\n",
    "startdire = \"./pythia-examples/main300 --visualize_event --input \"+cmnd_file\n",
    "subprocess.call([\"bash\",\"-c\",startdire])"
   ]
  },
  {
   "cell_type": "code",
   "execution_count": 8,
   "metadata": {},
   "outputs": [
    {
     "data": {
      "text/html": [
       "<iframe src=event-settings.cmnd.pdf width=1280 height=1024></iframe>"
      ],
      "text/latex": [
       "\\includegraphics[width=1.0\\textwidth]{event-settings.cmnd.pdf}"
      ],
      "text/plain": [
       "<py8settings.PDF at 0x7f95f81b6310>"
      ]
     },
     "execution_count": 8,
     "metadata": {},
     "output_type": "execute_result"
    }
   ],
   "source": [
    "subprocess.call([\"bash\",\"-c\",\"dot -Tpdf event-\"+cmnd_file+\".dot -o event-\"+cmnd_file+\".pdf\"])\n",
    "PDF(\"event-\"+cmnd_file+\".pdf\",size=(1280,1024))"
   ]
  },
  {
   "cell_type": "markdown",
   "metadata": {},
   "source": [
    "# Run Pythia8 from ROOT interface"
   ]
  },
  {
   "cell_type": "markdown",
   "metadata": {},
   "source": [
    "First we prepare and initialize basic pythia configuration for generation of $p+p$ events at 14 TeV:\n",
    " * define helper function to suppress pythia messages\n",
    " * create `TPythia8` object\n",
    " * use `HardQCD:all` physics processes\n",
    " * set random seed to 42 (dummy number)\n",
    " * initialize pythia to simulate $p+p$ collisions at 14 TeV"
   ]
  },
  {
   "cell_type": "code",
   "execution_count": 9,
   "metadata": {
    "tags": []
   },
   "outputs": [
    {
     "name": "stdout",
     "output_type": "stream",
     "text": [
      " PYTHIA Warning in PhaseSpace2to2tauyz::trialKin: maximum for cross section violated  \n"
     ]
    }
   ],
   "source": [
    "def makePythiaSilent(pythia):\n",
    "    pythia.ReadString(\"Init:showMultipartonInteractions = off\")\n",
    "    pythia.ReadString(\"Init:showChangedParticleData = off\")\n",
    "    pythia.ReadString(\"Init:showProcesses = off\")\n",
    "    pythia.ReadString(\"Init:showChangedSettings = off\")\n",
    "    pythia.ReadString(\"Next:numberShowInfo = 0\")\n",
    "    pythia.ReadString(\"Next:numberShowProcess = 0\")\n",
    "    pythia.ReadString(\"Next:numberShowEvent = 0\")\n",
    "\n",
    "pythia = ROOT.TPythia8(False)\n",
    "makePythiaSilent(pythia)\n",
    "pythia.ReadString(\"HardQCD:all = on\")\n",
    "pythia.ReadString(\"Random:setSeed = on\")\n",
    "pythia.ReadString(\"Random:seed = 42\")\n",
    "pythia.Initialize(2212 , 2212 , 14000)\n",
    "particles = ROOT.TClonesArray(\"TParticle\", 1000) #prepare space for generated particles"
   ]
  },
  {
   "cell_type": "markdown",
   "metadata": {},
   "source": [
    "To see how does it work we generate a single event and take a look at particle listings:"
   ]
  },
  {
   "cell_type": "code",
   "execution_count": 10,
   "metadata": {
    "tags": []
   },
   "outputs": [
    {
     "name": "stdout",
     "output_type": "stream",
     "text": [
      "\n",
      " --------  PYTHIA Event Listing  (complete event)  ---------------------------------------------------------------------------------\n",
      " \n",
      "    no         id  name            status     mothers   daughters     colours      p_x        p_y        p_z         e          m \n",
      "     0         90  (system)           -11     0     0     0     0     0     0      0.000      0.000      0.000  14000.000  14000.000\n",
      "     1       2212  (p+)               -12     0     0    24     0     0     0      0.000      0.000   7000.000   7000.000      0.938\n",
      "     2       2212  (p+)               -12     0     0    25     0     0     0      0.000      0.000  -7000.000   7000.000      0.938\n",
      "     3         21  (g)                -21     7     0     5     6   101   102      0.000      0.000      0.913      0.913      0.000\n",
      "     4         21  (g)                -21     8     8     5     6   103   104      0.000      0.000    -14.311     14.311      0.000\n",
      "     5         21  (g)                -23     3     4     9     9   101   104      1.504     -1.393     -0.430      2.094      0.000\n",
      "     6         21  (g)                -23     3     4    10    10   103   102     -1.504      1.393    -12.968     13.129      0.000\n",
      "     7          2  (u)                -41    24    24    11     3   101     0      0.000      0.000     42.263     42.263      0.000\n",
      "     8         21  (g)                -42    25    25     4     4   103   104      0.000     -0.000    -14.311     14.311      0.000\n",
      "     9         21  (g)                -44     5     5    26    26   101   104      2.476     -1.804     -1.893      3.601      0.000\n",
      "    10         21  (g)                -44     6     6    14    14   103   102     -1.410      1.353    -11.472     11.637      0.000\n",
      "    11          2  (u)                -43     7     0    12    13   102     0     -1.066      0.450     41.318     41.336      0.330\n",
      "    12          2  (u)                -51    11     0    28    28   105     0     -1.106      0.938     21.079     21.131      0.330\n",
      "    13         21  (g)                -51    11     0    15    16   102   105      0.037     -0.485     20.219     20.225      0.000\n",
      "    14         21  (g)                -52    10    10    17    17   103   102     -1.407      1.351    -11.452     11.617      0.000\n",
      "    15         21  (g)                -51    13     0    20    20   106   105     -0.631     -0.221     19.295     19.306      0.000\n",
      "    16         21  (g)                -51    13     0    18    19   102   106      0.651     -0.248      0.791      1.054      0.000\n",
      "    17         21  (g)                -52    14    14    27    27   103   102     -1.391      1.335    -11.318     11.481      0.000\n",
      "    18          2  (u)                -51    16     0    30    30   102     0      0.564      0.474      2.705      2.823      0.330\n",
      "    19         -2  (ubar)             -51    16     0    23    23     0   106     -0.051     -0.771      2.315      2.463      0.330\n",
      "    20         21  (g)                -52    15    15    21    22   106   105     -0.492     -0.173     15.066     15.075      0.000\n",
      "    21         21  (g)                -51    20     0    29    29   107   105      0.257      0.266      4.641      4.655      0.000\n",
      "    22         21  (g)                -51    20     0    32    32   106   107     -0.756     -0.727     10.915     10.965      0.000\n",
      "    23         -2  (ubar)             -52    19    19    31    31     0   106     -0.044     -0.483      1.825      1.917      0.330\n",
      "    24          2  (u)                -61     1     0     7     7   101     0     -1.363     -2.285     42.306     42.390      0.000\n",
      "    25         21  (g)                -61     2     0     8     8   103   104     -0.228     -0.498    -14.294     14.304      0.000\n",
      "    26         21  (g)                -62     9     9    73    73   101   104      2.405     -1.946     -1.886      3.623      0.000\n",
      "    27         21  (g)                -62    17    17    53    53   103   102     -1.575      0.935    -11.304     11.451      0.000\n",
      "    28          2  (u)                -62    12    12    44    44   105     0     -1.786     -0.203     21.100     21.179      0.330\n",
      "    29         21  (g)                -62    21    21    45    45   107   105      0.107      0.015      4.650      4.651      0.000\n",
      "    30          2  (u)                -62    18    18    52    52   102     0      0.474      0.323      2.717      2.796      0.330\n",
      "    31         -2  (ubar)             -62    23    23    47    47     0   106     -0.106     -0.586      1.822      1.945      0.330\n",
      "    32         21  (g)                -62    22    22    46    46   106   107     -1.109     -1.320     10.913     11.049      0.000\n",
      "    33          2  (u)                -63     1     0    38    38   109     0      0.292      0.733     81.978     81.982      0.330\n",
      "    34       2101  (ud_0)             -63     1     0    74    74     0   101      0.396      0.550   6866.972   6866.972      0.579\n",
      "    35         -2  (ubar)             -63     1     0    39    39     0   109      0.675      1.001      8.650      8.740      0.330\n",
      "    36       2101  (ud_0)             -63     2     0    54    54     0   103      0.131     -0.012  -6801.910   6801.910      0.579\n",
      "    37          2  (u)                -63     2     0    72    72   104     0      0.097      0.510   -183.701    183.702      0.330\n",
      "    38          2  (u)                -71    33    33    40    43   109     0      0.292      0.733     81.978     81.982      0.330\n",
      "    39         -2  (ubar)             -71    35    35    40    43     0   109      0.675      1.001      8.650      8.740      0.330\n",
      "    40        221  (eta)              -83    38    39   132   134     0     0      0.045      0.366     49.744     49.748      0.548\n",
      "    41        211  pi+                 83    38    39     0     0     0     0      0.341      0.858     14.296     14.327      0.140\n",
      "    42        313  (K*0)              -83    38    39    99   100     0     0      0.142      0.114     18.934     18.955      0.872\n",
      "    43       -321  K-                  84    38    39     0     0     0     0      0.440      0.398      7.653      7.692      0.494\n",
      "    44          2  (u)                -71    28    28    48    51   105     0     -1.786     -0.203     21.100     21.179      0.330\n",
      "    45         21  (g)                -71    29    29    48    51   107   105      0.107      0.015      4.650      4.651      0.000\n",
      "    46         21  (g)                -71    32    32    48    51   106   107     -1.109     -1.320     10.913     11.049      0.000\n",
      "    47         -2  (ubar)             -71    31    31    48    51     0   106     -0.106     -0.586      1.822      1.945      0.330\n",
      "    48        113  (rho0)             -83    44    47   101   102     0     0     -0.532     -0.495     10.720     10.764      0.643\n",
      "    49        211  pi+                 83    44    47     0     0     0     0     -1.943     -0.399     18.733     18.838      0.140\n",
      "    50       -211  pi-                 84    44    47     0     0     0     0     -0.220     -0.654      2.133      2.246      0.140\n",
      "    51        113  (rho0)             -84    44    47   103   104     0     0     -0.200     -0.547      6.899      6.976      0.849\n",
      "    52          2  (u)                -71    30    30    55    71   102     0      0.474      0.323      2.717      2.796      0.330\n",
      "    53         21  (g)                -71    27    27    55    71   103   102     -1.575      0.935    -11.304     11.451      0.000\n",
      "    54       2101  (ud_0)             -71    36    36    55    71     0   103      0.131     -0.012  -6801.910   6801.910      0.579\n",
      "    55        213  (rho+)             -83    52    54   105   106     0     0      0.251      0.178      1.439      1.764      0.974\n",
      "    56        111  (pi0)              -83    52    54   135   136     0     0      0.102      0.086      0.156      0.246      0.135\n",
      "    57        111  (pi0)              -83    52    54   137   138     0     0     -0.318      0.067     -0.565      0.666      0.135\n",
      "    58        111  (pi0)              -83    52    54   139   140     0     0      0.258     -0.071     -0.338      0.452      0.135\n",
      "    59       2112  n0                  83    52    54     0     0     0     0     -0.267      0.081      0.389      1.054      0.940\n",
      "    60      -2212  pbar-               83    52    54     0     0     0     0      0.077      0.292     -3.458      3.595      0.938\n",
      "    61        321  K+                  83    52    54     0     0     0     0     -0.527      0.298     -1.567      1.751      0.494\n",
      "    62       -311  (Kbar0)            -84    52    54   107   107     0     0     -0.274      0.312     -3.496      3.555      0.498\n",
      "    63       -211  pi-                 84    52    54     0     0     0     0     -0.461      0.015    -22.035     22.040      0.140\n",
      "    64        213  (rho+)             -84    52    54   108   109     0     0      0.292     -0.136   -174.825    174.831      1.393\n",
      "    65        223  (omega)            -84    52    54   141   143     0     0     -0.163      0.323   -189.273    189.275      0.774\n",
      "    66        221  (eta)              -84    52    54   144   145     0     0      0.310     -0.151    -98.921     98.923      0.548\n",
      "    67        111  (pi0)              -84    52    54   146   147     0     0     -0.747      0.152  -1375.686   1375.686      0.135\n",
      "    68        111  (pi0)              -84    52    54   148   149     0     0      0.411     -0.058   -111.342    111.343      0.135\n",
      "    69        113  (rho0)             -84    52    54   110   111     0     0      0.271     -0.497  -1010.098   1010.099      0.747\n",
      "    70       2112  n0                  84    52    54     0     0     0     0     -0.450      0.139  -2524.417   2524.417      0.940\n",
      "    71        111  (pi0)              -84    52    54   150   151     0     0      0.266      0.216  -1296.460   1296.460      0.135\n",
      "    72          2  (u)                -71    37    37    75    98   104     0      0.097      0.510   -183.701    183.702      0.330\n",
      "    73         21  (g)                -71    26    26    75    98   101   104      2.405     -1.946     -1.886      3.623      0.000\n",
      "    74       2101  (ud_0)             -71    34    34    75    98     0   101      0.396      0.550   6866.972   6866.972      0.579\n",
      "    75        211  pi+                 83    72    74     0     0     0     0      0.266     -0.278    -20.656     20.660      0.140\n",
      "    76       -211  pi-                 83    72    74     0     0     0     0     -0.140     -0.030     -6.236      6.239      0.140\n",
      "    77        213  (rho+)             -83    72    74   112   113     0     0     -0.271      0.411    -99.876     99.882      0.885\n",
      "    78       -213  (rho-)             -83    72    74   114   115     0     0      0.188      0.326    -38.732     38.748      1.031\n",
      "    79        211  pi+                 83    72    74     0     0     0     0     -0.093     -0.274    -15.265     15.268      0.140\n",
      "    80        311  (K0)               -83    72    74   116   116     0     0      1.025     -0.180     -1.571      1.949      0.498\n",
      "    81       -311  (Kbar0)            -83    72    74   117   117     0     0     -0.087     -0.113     -0.456      0.690      0.498\n",
      "    82        111  (pi0)              -83    72    74   152   153     0     0      0.134     -0.856     -1.776      1.981      0.135\n",
      "    83       -211  pi-                 83    72    74     0     0     0     0      0.647      0.457      0.420      0.907      0.140\n",
      "    84        213  (rho+)             -83    72    74   118   119     0     0     -0.183     -0.185      0.888      1.265      0.862\n",
      "    85       -213  (rho-)             -83    72    74   120   121     0     0      0.768     -0.354     -0.195      1.215      0.851\n",
      "    86        111  (pi0)              -83    72    74   154   155     0     0      0.103     -0.441      0.916      1.030      0.135\n",
      "    87        321  K+                  83    72    74     0     0     0     0     -0.048      0.059      0.273      0.569      0.494\n",
      "    88       -313  (K*bar0)           -84    72    74   122   123     0     0      0.055      0.153      3.987      4.112      0.996\n",
      "    89       -213  (rho-)             -84    72    74   124   125     0     0     -0.136      0.231      9.851      9.920      1.139\n",
      "    90        223  (omega)            -84    72    74   156   158     0     0      0.179     -0.280     16.290     16.312      0.778\n",
      "    91        211  pi+                 84    72    74     0     0     0     0      0.024     -0.148     10.822     10.824      0.140\n",
      "    92        311  (K0)               -84    72    74   126   126     0     0     -0.012      0.187     15.294     15.303      0.498\n",
      "    93       -321  K-                  84    72    74     0     0     0     0     -0.211     -0.665     41.654     41.663      0.494\n",
      "    94        211  pi+                 84    72    74     0     0     0     0      0.373      0.700    108.925    108.927      0.140\n",
      "    95       -213  (rho-)             -84    72    74   127   128     0     0     -0.154      0.163    431.981    431.982      0.942\n",
      "    96        213  (rho+)             -84    72    74   129   130     0     0      0.151     -0.265   1355.509   1355.509      1.028\n",
      "    97        111  (pi0)              -84    72    74   159   160     0     0     -0.210     -0.390    290.333    290.334      0.135\n",
      "    98       2112  n0                  84    72    74     0     0     0     0      0.529      0.885   4579.005   4579.005      0.940\n",
      "    99        321  K+                  91    42     0     0     0     0     0      0.143      0.256      8.663      8.682      0.494\n",
      "   100       -211  pi-                 91    42     0     0     0     0     0     -0.002     -0.142     10.271     10.273      0.140\n",
      "   101        211  pi+                 91    48     0     0     0     0     0     -0.623     -0.478      9.253      9.288      0.140\n",
      "   102       -211  pi-                 91    48     0     0     0     0     0      0.091     -0.017      1.466      1.476      0.140\n",
      "   103        211  pi+                 91    51     0     0     0     0     0      0.135     -0.112      4.681      4.687      0.140\n",
      "   104       -211  pi-                 91    51     0     0     0     0     0     -0.335     -0.434      2.218      2.289      0.140\n",
      "   105        211  pi+                 91    55     0     0     0     0     0      0.401      0.201      0.202      0.511      0.140\n",
      "   106        111  (pi0)              -91    55     0   161   162     0     0     -0.150     -0.023      1.237      1.253      0.135\n",
      "   107        310  (K_S0)             -91    62    62   163   164     0     0     -0.274      0.312     -3.496      3.555      0.498\n",
      "   108        211  pi+                 91    64     0     0     0     0     0     -0.042      0.595    -69.720     69.722      0.140\n",
      "   109        111  (pi0)              -91    64     0   165   166     0     0      0.334     -0.731   -105.106    105.109      0.135\n",
      "   110        211  pi+                 91    69     0     0     0     0     0     -0.219     -0.277   -375.288    375.288      0.140\n",
      "   111       -211  pi-                 91    69     0     0     0     0     0      0.490     -0.220   -634.810    634.810      0.140\n",
      "   112        211  pi+                 91    77     0     0     0     0     0     -0.369      0.278    -94.060     94.061      0.140\n",
      "   113        111  (pi0)              -91    77     0   167   169     0     0      0.098      0.133     -5.817      5.821      0.135\n",
      "   114       -211  pi-                 91    78     0     0     0     0     0      0.131     -0.034    -33.710     33.711      0.140\n",
      "   115        111  (pi0)              -91    78     0   170   171     0     0      0.057      0.360     -5.022      5.037      0.135\n",
      "   116        310  (K_S0)             -91    80    80   172   173     0     0      1.025     -0.180     -1.571      1.949      0.498\n",
      "   117        310  (K_S0)             -91    81    81   174   175     0     0     -0.087     -0.113     -0.456      0.690      0.498\n",
      "   118        211  pi+                 91    84     0     0     0     0     0      0.225     -0.059      0.749      0.796      0.140\n",
      "   119        111  (pi0)              -91    84     0   176   177     0     0     -0.408     -0.126      0.139      0.469      0.135\n",
      "   120       -211  pi-                 91    85     0     0     0     0     0      0.387      0.083      0.235      0.481      0.140\n",
      "   121        111  (pi0)              -91    85     0   178   179     0     0      0.381     -0.436     -0.430      0.734      0.135\n",
      "   122       -311  (Kbar0)            -91    88     0   131   131     0     0      0.007      0.434      2.152      2.251      0.498\n",
      "   123        111  (pi0)              -91    88     0   180   181     0     0      0.049     -0.281      1.835      1.862      0.135\n",
      "   124       -211  pi-                 91    89     0     0     0     0     0     -0.298      0.269      1.321      1.388      0.140\n",
      "   125        111  (pi0)              -91    89     0   182   183     0     0      0.162     -0.037      8.530      8.533      0.135\n",
      "   126        310  (K_S0)             -91    92    92   184   185     0     0     -0.012      0.187     15.294     15.303      0.498\n",
      "   127       -211  pi-                 91    95     0     0     0     0     0      0.171      0.027    362.227    362.227      0.140\n",
      "   128        111  (pi0)              -91    95     0   186   187     0     0     -0.324      0.136     69.754     69.755      0.135\n",
      "   129        211  pi+                 91    96     0     0     0     0     0     -0.002      0.069     33.020     33.020      0.140\n",
      "   130        111  (pi0)              -91    96     0   188   189     0     0      0.153     -0.333   1322.489   1322.489      0.135\n",
      "   131        310  (K_S0)             -91   122   122   190   191     0     0      0.007      0.434      2.152      2.251      0.498\n",
      "   132        111  (pi0)              -91    40     0   192   193     0     0     -0.007      0.244     28.661     28.662      0.135\n",
      "   133        111  (pi0)              -91    40     0   194   195     0     0     -0.034      0.014      5.310      5.312      0.135\n",
      "   134        111  (pi0)              -91    40     0   196   197     0     0      0.086      0.108     15.772     15.773      0.135\n",
      "   135         22  gamma               91    56     0     0     0     0     0      0.012      0.095      0.057      0.111      0.000\n",
      "   136         22  gamma               91    56     0     0     0     0     0      0.091     -0.009      0.099      0.134      0.000\n",
      "   137         22  gamma               91    57     0     0     0     0     0     -0.094      0.077     -0.143      0.188      0.000\n",
      "   138         22  gamma               91    57     0     0     0     0     0     -0.225     -0.010     -0.422      0.478      0.000\n",
      "   139         22  gamma               91    58     0     0     0     0     0      0.192     -0.110     -0.274      0.352      0.000\n",
      "   140         22  gamma               91    58     0     0     0     0     0      0.066      0.039     -0.064      0.100      0.000\n",
      "   141        211  pi+                 91    65     0     0     0     0     0     -0.129      0.070    -33.496     33.496      0.140\n",
      "   142       -211  pi-                 91    65     0     0     0     0     0      0.211     -0.008    -52.753     52.754      0.140\n",
      "   143        111  (pi0)              -91    65     0   198   199     0     0     -0.245      0.261   -103.024    103.025      0.135\n",
      "   144         22  gamma               91    66     0     0     0     0     0      0.006     -0.260    -66.407     66.408      0.000\n",
      "   145         22  gamma               91    66     0     0     0     0     0      0.304      0.110    -32.513     32.515      0.000\n",
      "   146         22  gamma               91    67     0     0     0     0     0     -0.430      0.072   -898.520    898.520      0.000\n",
      "   147         22  gamma               91    67     0     0     0     0     0     -0.318      0.079   -477.165    477.166      0.000\n",
      "   148         22  gamma               91    68     0     0     0     0     0      0.038      0.006     -3.911      3.911      0.000\n",
      "   149         22  gamma               91    68     0     0     0     0     0      0.373     -0.064   -107.432    107.432      0.000\n",
      "   150         22  gamma               91    71     0     0     0     0     0      0.133      0.025   -514.132    514.132      0.000\n",
      "   151         22  gamma               91    71     0     0     0     0     0      0.134      0.191   -782.328    782.328      0.000\n",
      "   152         22  gamma               91    82     0     0     0     0     0      0.153     -0.768     -1.532      1.721      0.000\n",
      "   153         22  gamma               91    82     0     0     0     0     0     -0.019     -0.088     -0.244      0.260      0.000\n",
      "   154         22  gamma               91    86     0     0     0     0     0      0.079     -0.248      0.658      0.708      0.000\n",
      "   155         22  gamma               91    86     0     0     0     0     0      0.024     -0.193      0.257      0.322      0.000\n",
      "   156        211  pi+                 91    90     0     0     0     0     0     -0.170      0.009      4.993      4.998      0.140\n",
      "   157       -211  pi-                 91    90     0     0     0     0     0      0.072     -0.186      7.242      7.246      0.140\n",
      "   158        111  (pi0)              -91    90     0   200   201     0     0      0.277     -0.103      4.055      4.068      0.135\n",
      "   159         22  gamma               91    97     0     0     0     0     0     -0.228     -0.334    253.011    253.012      0.000\n",
      "   160         22  gamma               91    97     0     0     0     0     0      0.018     -0.056     37.322     37.322      0.000\n",
      "   161         22  gamma               91   106     0     0     0     0     0     -0.019      0.049      0.284      0.289      0.000\n",
      "   162         22  gamma               91   106     0     0     0     0     0     -0.131     -0.072      0.953      0.965      0.000\n",
      "   163        211  pi+                 91   107     0     0     0     0     0     -0.175      0.141     -0.688      0.737      0.140\n",
      "   164       -211  pi-                 91   107     0     0     0     0     0     -0.099      0.171     -2.808      2.818      0.140\n",
      "   165         22  gamma               91   109     0     0     0     0     0      0.046     -0.250    -31.760     31.761      0.000\n",
      "   166         22  gamma               91   109     0     0     0     0     0      0.288     -0.481    -73.346     73.348      0.000\n",
      "   167         22  gamma               91   113     0     0     0     0     0      0.082      0.054     -4.687      4.688      0.000\n",
      "   168         11  e-                  91   113     0     0     0     0     0      0.010      0.050     -0.684      0.686      0.001\n",
      "   169        -11  e+                  91   113     0     0     0     0     0      0.006      0.029     -0.446      0.447      0.001\n",
      "   170         22  gamma               91   115     0     0     0     0     0      0.040      0.177     -1.635      1.645      0.000\n",
      "   171         22  gamma               91   115     0     0     0     0     0      0.017      0.183     -3.387      3.392      0.000\n",
      "   172        211  pi+                 91   116     0     0     0     0     0      0.111     -0.068     -0.122      0.227      0.140\n",
      "   173       -211  pi-                 91   116     0     0     0     0     0      0.914     -0.111     -1.449      1.722      0.140\n",
      "   174        211  pi+                 91   117     0     0     0     0     0     -0.188      0.001     -0.419      0.480      0.140\n",
      "   175       -211  pi-                 91   117     0     0     0     0     0      0.101     -0.114     -0.037      0.210      0.140\n",
      "   176         22  gamma               91   119     0     0     0     0     0     -0.123     -0.028      0.108      0.166      0.000\n",
      "   177         22  gamma               91   119     0     0     0     0     0     -0.285     -0.098      0.031      0.303      0.000\n",
      "   178         22  gamma               91   121     0     0     0     0     0      0.074     -0.077     -0.021      0.109      0.000\n",
      "   179         22  gamma               91   121     0     0     0     0     0      0.308     -0.359     -0.409      0.625      0.000\n",
      "   180         22  gamma               91   123     0     0     0     0     0      0.002     -0.184      0.778      0.799      0.000\n",
      "   181         22  gamma               91   123     0     0     0     0     0      0.047     -0.097      1.057      1.062      0.000\n",
      "   182         22  gamma               91   125     0     0     0     0     0      0.059     -0.035      6.242      6.242      0.000\n",
      "   183         22  gamma               91   125     0     0     0     0     0      0.103     -0.002      2.288      2.290      0.000\n",
      "   184        211  pi+                 91   126     0     0     0     0     0     -0.200      0.078      5.673      5.679      0.140\n",
      "   185       -211  pi-                 91   126     0     0     0     0     0      0.188      0.109      9.621      9.624      0.140\n",
      "   186         22  gamma               91   128     0     0     0     0     0     -0.213      0.019     42.529     42.530      0.000\n",
      "   187         22  gamma               91   128     0     0     0     0     0     -0.112      0.117     27.225     27.226      0.000\n",
      "   188         22  gamma               91   130     0     0     0     0     0      0.105     -0.138    806.626    806.626      0.000\n",
      "   189         22  gamma               91   130     0     0     0     0     0      0.049     -0.195    515.863    515.863      0.000\n",
      "   190        211  pi+                 91   131     0     0     0     0     0      0.131      0.267      0.651      0.729      0.140\n",
      "   191       -211  pi-                 91   131     0     0     0     0     0     -0.125      0.167      1.501      1.522      0.140\n",
      "   192         22  gamma               91   132     0     0     0     0     0     -0.045      0.071      5.094      5.094      0.000\n",
      "   193         22  gamma               91   132     0     0     0     0     0      0.038      0.173     23.567     23.568      0.000\n",
      "   194         22  gamma               91   133     0     0     0     0     0      0.035      0.044      3.248      3.249      0.000\n",
      "   195         22  gamma               91   133     0     0     0     0     0     -0.069     -0.029      2.062      2.063      0.000\n",
      "   196         22  gamma               91   134     0     0     0     0     0     -0.001     -0.016      0.312      0.313      0.000\n",
      "   197         22  gamma               91   134     0     0     0     0     0      0.087      0.124     15.460     15.461      0.000\n",
      "   198         22  gamma               91   143     0     0     0     0     0     -0.036      0.114    -43.319     43.319      0.000\n",
      "   199         22  gamma               91   143     0     0     0     0     0     -0.208      0.148    -59.705     59.706      0.000\n",
      "   200         22  gamma               91   158     0     0     0     0     0      0.286     -0.079      3.576      3.589      0.000\n",
      "   201         22  gamma               91   158     0     0     0     0     0     -0.009     -0.025      0.479      0.480      0.000\n",
      "                                   Charge sum:  2.000           Momentum sum:      0.000      0.000      0.000  14000.000  14000.000\n",
      "\n",
      " --------  End PYTHIA Event Listing  -----------------------------------------------------------------------------------------------\n"
     ]
    }
   ],
   "source": [
    "pythia.GenerateEvent()\n",
    "pythia.EventListing()"
   ]
  },
  {
   "cell_type": "markdown",
   "metadata": {},
   "source": [
    "### Prepare PDG database and helper functions for particle identification"
   ]
  },
  {
   "cell_type": "markdown",
   "metadata": {},
   "source": [
    "* initialize `TDatabasePDG`\n",
    "* write function to tell if particle is *final* (i.e. simulation of its evolution by pythia is finished). Hint: *final* particles have positive status codes\n",
    "* add a second argument which will allow to filter by the particle type as well, keeping the function behaviour when only one argument is provided\n",
    "* write a function that computes ivariant mass of the pair of particles\n",
    "* the two defined functions assume that (a pair of) `TParticle` object(s) is passed to them"
   ]
  },
  {
   "cell_type": "code",
   "execution_count": 11,
   "metadata": {},
   "outputs": [],
   "source": [
    "PDG=ROOT.TDatabasePDG.Instance()\n",
    "\n",
    "def isFinal(p,typ=None):\n",
    "    if typ==None:\n",
    "        return p.GetStatusCode()>0\n",
    "    else:\n",
    "        code=PDG.GetParticle(typ).PdgCode()\n",
    "        return p.GetStatusCode()>0 and p.GetPdgCode()==code\n",
    "\n",
    "\n",
    "def getMinv(pair):\n",
    "    p4_1=ROOT.TLorentzVector()\n",
    "    p4_2=ROOT.TLorentzVector()\n",
    "    pair[0].Momentum(p4_1)\n",
    "    pair[1].Momentum(p4_2)\n",
    "    p4=p4_1+p4_2\n",
    "    return p4.M()"
   ]
  },
  {
   "cell_type": "markdown",
   "metadata": {},
   "source": [
    "## Properties of hadron production in $p+p$ interactions"
   ]
  },
  {
   "cell_type": "markdown",
   "metadata": {},
   "source": [
    "### Generate 10000 $p+p$ events at 14 TeV and draw $\\frac{\\mathrm{d} N}{\\mathrm{d}\\eta}$ and  $\\frac{1}{p_T}\\frac{\\mathrm{d} N}{\\mathrm{d}p_T}$ distributions of $p$, $\\pi^+$ and $K^+$"
   ]
  },
  {
   "cell_type": "markdown",
   "metadata": {},
   "source": [
    "* create list of particles' names in consideration\n",
    "* use dictionaries to provide labels and colors for plotting, particle names should be used as keys\n",
    "* in similar fashion initialize dictionaries of histograms (`TH1D`)\n",
    "* invoke `TH1D::Sumw2()` method on each histogram to enable calculation of Poissonian errors\n",
    "* generate events and fill histograms\n",
    "* format histograms:\n",
    "  * set markers to `ROOT.kFullCircle` for all histograms\n",
    "  * set colors according to dictionaries defined at the begening\n",
    "  * find out what is the maximal value of $y$ axis on $\\eta$ and $p_T$ plots (among all particles)\n",
    "  * scale histograms by $\\frac{1}{\\Delta x \\cdot N}$, where $\\Delta x$ is the bin width and $N$ is the number of events"
   ]
  },
  {
   "cell_type": "code",
   "execution_count": 12,
   "metadata": {
    "tags": []
   },
   "outputs": [
    {
     "name": "stdout",
     "output_type": "stream",
     "text": [
      " PYTHIA Warning in Pythia::check: energy-momentum not quite conserved  \n",
      " PYTHIA Warning in StringFragmentation::fragmentToJunction: bad convergence junction rest frame  \n",
      "\n",
      " Pythia::next(): 1000 events have been generated \n",
      " PYTHIA Error in StringFragmentation::fragment: stuck in joining  \n",
      " PYTHIA Error in Pythia::next: hadronLevel failed; try again  \n",
      "\n",
      " Pythia::next(): 2000 events have been generated \n",
      " PYTHIA Warning in Pythia::check: not quite matched particle energy/momentum/mass  \n",
      "\n",
      " Pythia::next(): 3000 events have been generated \n",
      " PYTHIA Warning in SimpleSpaceShower::pT2nextQCD: weight above unity  \n",
      "\n",
      " Pythia::next(): 4000 events have been generated \n",
      "\n",
      " Pythia::next(): 5000 events have been generated \n",
      "\n",
      " Pythia::next(): 6000 events have been generated \n",
      "\n",
      " Pythia::next(): 7000 events have been generated \n",
      "\n",
      " Pythia::next(): 8000 events have been generated \n",
      "\n",
      " Pythia::next(): 9000 events have been generated \n",
      " PYTHIA Error in SimpleSpaceShower::pT2nearThreshold: stuck in loop  \n",
      "\n",
      " Pythia::next(): 10000 events have been generated \n"
     ]
    },
    {
     "name": "stderr",
     "output_type": "stream",
     "text": [
      "Warning in <TParticle::SetPdgCode>: PDG code 9010221 unknown from TDatabasePDG\n",
      "Warning in <TParticle::SetPdgCode>: PDG code 9010221 unknown from TDatabasePDG\n",
      "Warning in <TParticle::SetPdgCode>: PDG code 9942003 unknown from TDatabasePDG\n",
      "Warning in <TParticle::SetPdgCode>: PDG code 9942003 unknown from TDatabasePDG\n",
      "Warning in <TParticle::SetPdgCode>: PDG code 9942003 unknown from TDatabasePDG\n",
      "Warning in <TParticle::SetPdgCode>: PDG code 9942003 unknown from TDatabasePDG\n",
      "Warning in <TParticle::SetPdgCode>: PDG code 9942003 unknown from TDatabasePDG\n",
      "Warning in <TParticle::SetPdgCode>: PDG code 9942003 unknown from TDatabasePDG\n",
      "Warning in <TParticle::SetPdgCode>: PDG code 9942003 unknown from TDatabasePDG\n",
      "Warning in <TParticle::SetPdgCode>: PDG code 9942003 unknown from TDatabasePDG\n"
     ]
    }
   ],
   "source": [
    "nEvents=10000\n",
    "parts=[\"proton\", \"pi+\", \"K+\"]\n",
    "labels={\"proton\": \"p\", \"pi+\": \"#pi^{+}\", \"K+\": \"K^{+}\"}\n",
    "colors={\"proton\": ROOT.kBlack, \"pi+\": ROOT.kBlue, \"K+\": ROOT.kRed}\n",
    "heta={}\n",
    "hpt={}\n",
    "\n",
    "for p in parts:\n",
    "    heta[p]=ROOT.TH1D(\"eta\"+p,\"\",120,-12,12)\n",
    "    heta[p].Sumw2()\n",
    "    hpt[p]=ROOT.TH1D(\"pt\"+p,\"\",50,0,10)\n",
    "    hpt[p].Sumw2()\n",
    "\n",
    "def fillHistos(p):\n",
    "    name=p.GetName()\n",
    "    if name in parts:\n",
    "        heta[name].Fill(p.Eta())\n",
    "        hpt[name].Fill(p.Pt(),1/(p.Pt()))\n",
    "\n",
    "#generate events\n",
    "for i in range(nEvents):\n",
    "    pythia.GenerateEvent()\n",
    "    pythia.ImportParticles(particles,\"All\")\n",
    "    for p in particles:\n",
    "        if isFinal(p):\n",
    "            fillHistos(p)\n",
    "\n",
    "#format and normalize histograms, find ranges on y axes\n",
    "maxeta=0\n",
    "maxpt=0\n",
    "for p in parts:\n",
    "    heta[p].SetMarkerStyle(ROOT.kFullCircle)\n",
    "    heta[p].SetMarkerColor(colors[p])\n",
    "    bw=heta[p].GetBinWidth(1)\n",
    "    heta[p].Scale(1./(bw*nEvents))\n",
    "    maxeta=max(maxeta,heta[p].GetMaximum())\n",
    "    \n",
    "    hpt[p].SetMarkerStyle(ROOT.kFullCircle)\n",
    "    hpt[p].SetMarkerColor(colors[p])\n",
    "    bw=hpt[p].GetBinWidth(1)\n",
    "    hpt[p].Scale(1./(bw*nEvents))\n",
    "    maxpt=max(maxpt,hpt[p].GetMaximum())"
   ]
  },
  {
   "cell_type": "markdown",
   "metadata": {},
   "source": [
    "Now, once simuation is complete and histograms are filled we proceed to drawing them:\n",
    "* create `TCanvas` and divide it into two pads along $x$ axis\n",
    "* prepare `TLegend` (the same for both plots for simplicity, sybbols for differend kinds of particles are identical)\n",
    "* prepare *frames* for plotting (axes with correct labels and ranges)\n",
    "  * for $\\frac{1}{p_T}\\frac{\\mathrm{d} N}{\\mathrm{d}p_T}$ set logarithmic scale on $y$ axis\n",
    "* plot the histograms and and legends"
   ]
  },
  {
   "cell_type": "code",
   "execution_count": 13,
   "metadata": {},
   "outputs": [],
   "source": [
    "c_etapt = ROOT.TCanvas(\"c_etapt\",\"\",1600,600)\n",
    "c_etapt.Divide(2,1)"
   ]
  },
  {
   "cell_type": "code",
   "execution_count": 14,
   "metadata": {},
   "outputs": [
    {
     "data": {
      "text/html": [
       "\n",
       "\n",
       "<div id=\"root_plot_1645123631090\"\n",
       "     style=\"width: 1596px; height: 572px\">\n",
       "</div>\n",
       "<script>\n",
       "\n",
       "function display_root_plot_1645123631090(Core) {\n",
       "   let obj = Core.parse({\"_typename\":\"TCanvas\",\"fUniqueID\":0,\"fBits\":3342344,\"fLineColor\":1,\"fLineStyle\":1,\"fLineWidth\":1,\"fFillColor\":0,\"fFillStyle\":1001,\"fLeftMargin\":0.1,\"fRightMargin\":0.1,\"fBottomMargin\":0.1,\"fTopMargin\":0.1,\"fXfile\":2,\"fYfile\":2,\"fAfile\":1,\"fXstat\":0.99,\"fYstat\":0.99,\"fAstat\":2,\"fFrameFillColor\":0,\"fFrameLineColor\":1,\"fFrameFillStyle\":1001,\"fFrameLineStyle\":1,\"fFrameLineWidth\":1,\"fFrameBorderSize\":1,\"fFrameBorderMode\":0,\"fX1\":0,\"fY1\":0,\"fX2\":1,\"fY2\":1,\"fXtoAbsPixelk\":5e-5,\"fXtoPixelk\":5e-5,\"fXtoPixel\":1596,\"fYtoAbsPixelk\":572.00005,\"fYtoPixelk\":572.00005,\"fYtoPixel\":-572,\"fUtoAbsPixelk\":5e-5,\"fUtoPixelk\":5e-5,\"fUtoPixel\":1596,\"fVtoAbsPixelk\":572.00005,\"fVtoPixelk\":572,\"fVtoPixel\":-572,\"fAbsPixeltoXk\":0,\"fPixeltoXk\":0,\"fPixeltoX\":6.265664160401e-4,\"fAbsPixeltoYk\":1,\"fPixeltoYk\":0,\"fPixeltoY\":-0.00174825174825175,\"fXlowNDC\":0,\"fYlowNDC\":0,\"fXUpNDC\":1,\"fYUpNDC\":1,\"fWNDC\":1,\"fHNDC\":1,\"fAbsXlowNDC\":0,\"fAbsYlowNDC\":0,\"fAbsWNDC\":1,\"fAbsHNDC\":1,\"fUxmin\":0,\"fUymin\":0,\"fUxmax\":1,\"fUymax\":1,\"fTheta\":30,\"fPhi\":30,\"fAspectRatio\":0,\"fNumber\":0,\"fTickx\":0,\"fTicky\":0,\"fLogx\":0,\"fLogy\":0,\"fLogz\":0,\"fPadPaint\":0,\"fCrosshair\":0,\"fCrosshairPos\":0,\"fBorderSize\":2,\"fBorderMode\":0,\"fModified\":false,\"fGridx\":false,\"fGridy\":false,\"fAbsCoord\":false,\"fEditable\":true,\"fFixedAspectRatio\":false,\"fPrimitives\":{\"_typename\":\"TList\",\"name\":\"TList\",\"arr\":[{\"_typename\":\"TPad\",\"fUniqueID\":0,\"fBits\":9,\"fLineColor\":1,\"fLineStyle\":1,\"fLineWidth\":1,\"fFillColor\":0,\"fFillStyle\":1001,\"fLeftMargin\":0.1,\"fRightMargin\":0.1,\"fBottomMargin\":0.1,\"fTopMargin\":0.1,\"fXfile\":2,\"fYfile\":2,\"fAfile\":1,\"fXstat\":0.99,\"fYstat\":0.99,\"fAstat\":2,\"fFrameFillColor\":0,\"fFrameLineColor\":1,\"fFrameFillStyle\":1001,\"fFrameLineStyle\":1,\"fFrameLineWidth\":1,\"fFrameBorderSize\":1,\"fFrameBorderMode\":0,\"fX1\":-1.25000009313226,\"fY1\":-6.58806650896204,\"fX2\":11.2500000931323,\"fY2\":4.66193365867603,\"fXtoAbsPixelk\":92.5680542808058,\"fXtoPixelk\":76.6080546375396,\"fXtoPixel\":61.2863991438388,\"fYtoAbsPixelk\":238.012804890673,\"fYtoPixelk\":232.292805018525,\"fYtoPixel\":-49.8275548357963,\"fUtoAbsPixelk\":15.9600496432662,\"fUtoPixelk\":5e-5,\"fUtoPixel\":766.080000713468,\"fVtoAbsPixelk\":566.280050127852,\"fVtoPixelk\":560.560000255704,\"fVtoPixel\":-560.560000255704,\"fAbsPixeltoXk\":-1.51041675761614,\"fPixeltoXk\":-1.25000009313226,\"fPixeltoX\":0.0163168339789878,\"fAbsPixeltoYk\":4.77672957613572,\"fPixeltoYk\":-6.58806650896204,\"fPixeltoY\":-0.0200692167876878,\"fXlowNDC\":0.00999999977648258,\"fYlowNDC\":0.00999999977648258,\"fXUpNDC\":0.490000000223517,\"fYUpNDC\":0.990000000223517,\"fWNDC\":0.480000000447035,\"fHNDC\":0.980000000447035,\"fAbsXlowNDC\":0.00999999977648258,\"fAbsYlowNDC\":0.00999999977648258,\"fAbsWNDC\":0.480000000447035,\"fAbsHNDC\":0.980000000447035,\"fUxmin\":0,\"fUymin\":-5.463066425143,\"fUxmax\":10,\"fUymax\":3.536933574857,\"fTheta\":30,\"fPhi\":30,\"fAspectRatio\":0,\"fNumber\":1,\"fTickx\":0,\"fTicky\":0,\"fLogx\":0,\"fLogy\":1,\"fLogz\":0,\"fPadPaint\":0,\"fCrosshair\":0,\"fCrosshairPos\":0,\"fBorderSize\":2,\"fBorderMode\":0,\"fModified\":false,\"fGridx\":false,\"fGridy\":false,\"fAbsCoord\":false,\"fEditable\":true,\"fFixedAspectRatio\":false,\"fPrimitives\":{\"_typename\":\"TList\",\"name\":\"TList\",\"arr\":[{\"_typename\":\"TFrame\",\"fUniqueID\":0,\"fBits\":8,\"fLineColor\":1,\"fLineStyle\":1,\"fLineWidth\":1,\"fFillColor\":0,\"fFillStyle\":1001,\"fX1\":0,\"fY1\":-5.463066425143,\"fX2\":10,\"fY2\":3.536933574857,\"fBorderSize\":1,\"fBorderMode\":0},{\"_typename\":\"TH1F\",\"fUniqueID\":0,\"fBits\":521,\"fName\":\"hframe\",\"fTitle\":\"\",\"fLineColor\":602,\"fLineStyle\":1,\"fLineWidth\":1,\"fFillColor\":0,\"fFillStyle\":1001,\"fMarkerColor\":1,\"fMarkerStyle\":1,\"fMarkerSize\":1,\"fNcells\":1002,\"fXaxis\":{\"_typename\":\"TAxis\",\"fUniqueID\":0,\"fBits\":0,\"fName\":\"xaxis\",\"fTitle\":\"p_{T} [GeV\\/c]\",\"fNdivisions\":510,\"fAxisColor\":1,\"fLabelColor\":1,\"fLabelFont\":42,\"fLabelOffset\":0.005,\"fLabelSize\":0.035,\"fTickLength\":0.03,\"fTitleOffset\":1.5,\"fTitleSize\":0.035,\"fTitleColor\":1,\"fTitleFont\":42,\"fNbins\":1000,\"fXmin\":0,\"fXmax\":10,\"fXbins\":[],\"fFirst\":0,\"fLast\":0,\"fBits2\":0,\"fTimeDisplay\":false,\"fTimeFormat\":\"\",\"fLabels\":null,\"fModLabs\":null},\"fYaxis\":{\"_typename\":\"TAxis\",\"fUniqueID\":0,\"fBits\":0,\"fName\":\"yaxis\",\"fTitle\":\"#frac{1}{p_{T}}#frac{dN}{dp_{T}} [GeV\\/c]^{-2}\",\"fNdivisions\":510,\"fAxisColor\":1,\"fLabelColor\":1,\"fLabelFont\":42,\"fLabelOffset\":0.005,\"fLabelSize\":0.035,\"fTickLength\":0.03,\"fTitleOffset\":0,\"fTitleSize\":15,\"fTitleColor\":1,\"fTitleFont\":42,\"fNbins\":1,\"fXmin\":3.44297266626005e-6,\"fXmax\":3442.97266626005,\"fXbins\":[],\"fFirst\":0,\"fLast\":0,\"fBits2\":0,\"fTimeDisplay\":false,\"fTimeFormat\":\"\",\"fLabels\":null,\"fModLabs\":null},\"fZaxis\":{\"_typename\":\"TAxis\",\"fUniqueID\":0,\"fBits\":0,\"fName\":\"zaxis\",\"fTitle\":\"\",\"fNdivisions\":510,\"fAxisColor\":1,\"fLabelColor\":1,\"fLabelFont\":42,\"fLabelOffset\":0.005,\"fLabelSize\":0.035,\"fTickLength\":0.03,\"fTitleOffset\":1,\"fTitleSize\":0.035,\"fTitleColor\":1,\"fTitleFont\":42,\"fNbins\":1,\"fXmin\":0,\"fXmax\":1,\"fXbins\":[],\"fFirst\":0,\"fLast\":0,\"fBits2\":0,\"fTimeDisplay\":false,\"fTimeFormat\":\"\",\"fLabels\":null,\"fModLabs\":null},\"fBarOffset\":0,\"fBarWidth\":1000,\"fEntries\":0,\"fTsumw\":0,\"fTsumw2\":0,\"fTsumwx\":0,\"fTsumwx2\":0,\"fMaximum\":3442.97266626005,\"fMinimum\":3.44297266626005e-6,\"fNormFactor\":0,\"fContour\":[],\"fSumw2\":[],\"fOption\":\"\",\"fFunctions\":{\"_typename\":\"TList\",\"name\":\"TList\",\"arr\":[],\"opt\":[]},\"fBufferSize\":0,\"fBuffer\":[],\"fBinStatErrOpt\":0,\"fStatOverflows\":2,\"fArray\":[0,0,0,0,0,0,0,0,0,0,0,0,0,0,0,0,0,0,0,0,0,0,0,0,0,0,0,0,0,0,0,0,0,0,0,0,0,0,0,0,0,0,0,0,0,0,0,0,0,0,0,0,0,0,0,0,0,0,0,0,0,0,0,0,0,0,0,0,0,0,0,0,0,0,0,0,0,0,0,0,0,0,0,0,0,0,0,0,0,0,0,0,0,0,0,0,0,0,0,0,0,0,0,0,0,0,0,0,0,0,0,0,0,0,0,0,0,0,0,0,0,0,0,0,0,0,0,0,0,0,0,0,0,0,0,0,0,0,0,0,0,0,0,0,0,0,0,0,0,0,0,0,0,0,0,0,0,0,0,0,0,0,0,0,0,0,0,0,0,0,0,0,0,0,0,0,0,0,0,0,0,0,0,0,0,0,0,0,0,0,0,0,0,0,0,0,0,0,0,0,0,0,0,0,0,0,0,0,0,0,0,0,0,0,0,0,0,0,0,0,0,0,0,0,0,0,0,0,0,0,0,0,0,0,0,0,0,0,0,0,0,0,0,0,0,0,0,0,0,0,0,0,0,0,0,0,0,0,0,0,0,0,0,0,0,0,0,0,0,0,0,0,0,0,0,0,0,0,0,0,0,0,0,0,0,0,0,0,0,0,0,0,0,0,0,0,0,0,0,0,0,0,0,0,0,0,0,0,0,0,0,0,0,0,0,0,0,0,0,0,0,0,0,0,0,0,0,0,0,0,0,0,0,0,0,0,0,0,0,0,0,0,0,0,0,0,0,0,0,0,0,0,0,0,0,0,0,0,0,0,0,0,0,0,0,0,0,0,0,0,0,0,0,0,0,0,0,0,0,0,0,0,0,0,0,0,0,0,0,0,0,0,0,0,0,0,0,0,0,0,0,0,0,0,0,0,0,0,0,0,0,0,0,0,0,0,0,0,0,0,0,0,0,0,0,0,0,0,0,0,0,0,0,0,0,0,0,0,0,0,0,0,0,0,0,0,0,0,0,0,0,0,0,0,0,0,0,0,0,0,0,0,0,0,0,0,0,0,0,0,0,0,0,0,0,0,0,0,0,0,0,0,0,0,0,0,0,0,0,0,0,0,0,0,0,0,0,0,0,0,0,0,0,0,0,0,0,0,0,0,0,0,0,0,0,0,0,0,0,0,0,0,0,0,0,0,0,0,0,0,0,0,0,0,0,0,0,0,0,0,0,0,0,0,0,0,0,0,0,0,0,0,0,0,0,0,0,0,0,0,0,0,0,0,0,0,0,0,0,0,0,0,0,0,0,0,0,0,0,0,0,0,0,0,0,0,0,0,0,0,0,0,0,0,0,0,0,0,0,0,0,0,0,0,0,0,0,0,0,0,0,0,0,0,0,0,0,0,0,0,0,0,0,0,0,0,0,0,0,0,0,0,0,0,0,0,0,0,0,0,0,0,0,0,0,0,0,0,0,0,0,0,0,0,0,0,0,0,0,0,0,0,0,0,0,0,0,0,0,0,0,0,0,0,0,0,0,0,0,0,0,0,0,0,0,0,0,0,0,0,0,0,0,0,0,0,0,0,0,0,0,0,0,0,0,0,0,0,0,0,0,0,0,0,0,0,0,0,0,0,0,0,0,0,0,0,0,0,0,0,0,0,0,0,0,0,0,0,0,0,0,0,0,0,0,0,0,0,0,0,0,0,0,0,0,0,0,0,0,0,0,0,0,0,0,0,0,0,0,0,0,0,0,0,0,0,0,0,0,0,0,0,0,0,0,0,0,0,0,0,0,0,0,0,0,0,0,0,0,0,0,0,0,0,0,0,0,0,0,0,0,0,0,0,0,0,0,0,0,0,0,0,0,0,0,0,0,0,0,0,0,0,0,0,0,0,0,0,0,0,0,0,0,0,0,0,0,0,0,0,0,0,0,0,0,0,0,0,0,0,0,0,0,0,0,0,0,0,0,0,0,0,0,0,0,0,0,0,0,0,0,0,0,0,0,0,0,0,0,0,0,0,0,0,0,0,0,0,0,0,0,0,0,0,0,0,0,0,0,0,0,0,0,0,0,0,0,0,0,0,0,0,0,0,0,0,0,0,0,0,0,0,0,0,0,0,0,0,0,0,0,0,0,0,0,0,0,0,0,0,0,0,0,0,0,0,0,0,0,0,0,0,0,0,0,0,0,0,0,0,0,0,0,0,0,0,0,0,0,0,0,0,0,0,0,0,0,0,0,0,0,0,0,0,0,0,0,0,0,0,0,0]},{\"_typename\":\"TH1D\",\"fUniqueID\":0,\"fBits\":8,\"fName\":\"ptproton\",\"fTitle\":\"\",\"fLineColor\":602,\"fLineStyle\":1,\"fLineWidth\":1,\"fFillColor\":0,\"fFillStyle\":1001,\"fMarkerColor\":1,\"fMarkerStyle\":20,\"fMarkerSize\":1,\"fNcells\":52,\"fXaxis\":{\"_typename\":\"TAxis\",\"fUniqueID\":0,\"fBits\":0,\"fName\":\"xaxis\",\"fTitle\":\"\",\"fNdivisions\":510,\"fAxisColor\":1,\"fLabelColor\":1,\"fLabelFont\":42,\"fLabelOffset\":0.005,\"fLabelSize\":0.035,\"fTickLength\":0.03,\"fTitleOffset\":1,\"fTitleSize\":0.035,\"fTitleColor\":1,\"fTitleFont\":42,\"fNbins\":50,\"fXmin\":0,\"fXmax\":10,\"fXbins\":[],\"fFirst\":0,\"fLast\":0,\"fBits2\":0,\"fTimeDisplay\":false,\"fTimeFormat\":\"\",\"fLabels\":null,\"fModLabs\":null},\"fYaxis\":{\"_typename\":\"TAxis\",\"fUniqueID\":0,\"fBits\":0,\"fName\":\"yaxis\",\"fTitle\":\"\",\"fNdivisions\":510,\"fAxisColor\":1,\"fLabelColor\":1,\"fLabelFont\":42,\"fLabelOffset\":0.005,\"fLabelSize\":0.035,\"fTickLength\":0.03,\"fTitleOffset\":0,\"fTitleSize\":0.035,\"fTitleColor\":1,\"fTitleFont\":42,\"fNbins\":1,\"fXmin\":0,\"fXmax\":1,\"fXbins\":[],\"fFirst\":0,\"fLast\":0,\"fBits2\":0,\"fTimeDisplay\":false,\"fTimeFormat\":\"\",\"fLabels\":null,\"fModLabs\":null},\"fZaxis\":{\"_typename\":\"TAxis\",\"fUniqueID\":0,\"fBits\":0,\"fName\":\"zaxis\",\"fTitle\":\"\",\"fNdivisions\":510,\"fAxisColor\":1,\"fLabelColor\":1,\"fLabelFont\":42,\"fLabelOffset\":0.005,\"fLabelSize\":0.035,\"fTickLength\":0.03,\"fTitleOffset\":1,\"fTitleSize\":0.035,\"fTitleColor\":1,\"fTitleFont\":42,\"fNbins\":1,\"fXmin\":0,\"fXmax\":1,\"fXbins\":[],\"fFirst\":0,\"fLast\":0,\"fBits2\":0,\"fTimeDisplay\":false,\"fTimeFormat\":\"\",\"fLabels\":null,\"fModLabs\":null},\"fBarOffset\":0,\"fBarWidth\":1000,\"fEntries\":26901,\"fTsumw\":45.5321631432772,\"fTsumw2\":0.256189769991311,\"fTsumwx\":13.4505,\"fTsumwx2\":6.78186517473843,\"fMaximum\":-1111,\"fMinimum\":-1111,\"fNormFactor\":0,\"fContour\":[],\"fSumw2\":[0,0.220602942686883,0.0250059104906365,0.0074829777958281,0.00217226816970519,6.25123060511635e-4,1.82134741745586e-4,6.82482026160907e-5,2.54675366814872e-5,1.29373093346695e-5,4.79557263201278e-6,3.58820335598905e-6,1.26075760813434e-6,7.19878863493628e-7,6.132646063591e-7,3.61318124094976e-7,1.31257150125851e-7,7.18510110517941e-8,4.09013896636448e-8,5.49491932899452e-8,1.6959451581633e-8,4.61648743649358e-8,2.77795262661973e-8,1.19405837570043e-8,1.09043326220572e-8,0,0,0,8.29466504520454e-9,0,0,0,0,0,0,0,0,0,0,0,0,0,0,0,0,0,0,0,0,0,0,0],\"fOption\":\"\",\"fFunctions\":{\"_typename\":\"TList\",\"name\":\"TList\",\"arr\":[],\"opt\":[]},\"fBufferSize\":0,\"fBuffer\":[],\"fBinStatErrOpt\":0,\"fStatOverflows\":2,\"fArray\":[0,19.5319535396775,14.0101669655816,7.19634455023758,2.95754472405777,1.09707966139773,0.394347674628078,0.174691184465617,0.0754725764496021,0.043733802726182,0.0181832203166389,0.0149099568869242,0.00572389037728371,0.00359868053546407,0.00332171205664639,0.00208193746432088,8.09999545224199e-4,4.6426492721392e-4,2.86010604804486e-4,4.05947422910115e-4,1.30228459184746e-4,3.721371728966e-4,2.35706443720612e-4,1.09272978164797e-4,1.04423812524047e-4,0,0,0,9.10750517167272e-5,0,0,0,0,0,0,0,0,0,0,0,0,0,0,0,0,0,0,0,0,0,0,0]},{\"_typename\":\"TH1D\",\"fUniqueID\":0,\"fBits\":8,\"fName\":\"ptpi+\",\"fTitle\":\"\",\"fLineColor\":602,\"fLineStyle\":1,\"fLineWidth\":1,\"fFillColor\":0,\"fFillStyle\":1001,\"fMarkerColor\":600,\"fMarkerStyle\":20,\"fMarkerSize\":1,\"fNcells\":52,\"fXaxis\":{\"_typename\":\"TAxis\",\"fUniqueID\":0,\"fBits\":0,\"fName\":\"xaxis\",\"fTitle\":\"\",\"fNdivisions\":510,\"fAxisColor\":1,\"fLabelColor\":1,\"fLabelFont\":42,\"fLabelOffset\":0.005,\"fLabelSize\":0.035,\"fTickLength\":0.03,\"fTitleOffset\":1,\"fTitleSize\":0.035,\"fTitleColor\":1,\"fTitleFont\":42,\"fNbins\":50,\"fXmin\":0,\"fXmax\":10,\"fXbins\":[],\"fFirst\":0,\"fLast\":0,\"fBits2\":0,\"fTimeDisplay\":false,\"fTimeFormat\":\"\",\"fLabels\":null,\"fModLabs\":null},\"fYaxis\":{\"_typename\":\"TAxis\",\"fUniqueID\":0,\"fBits\":0,\"fName\":\"yaxis\",\"fTitle\":\"\",\"fNdivisions\":510,\"fAxisColor\":1,\"fLabelColor\":1,\"fLabelFont\":42,\"fLabelOffset\":0.005,\"fLabelSize\":0.035,\"fTickLength\":0.03,\"fTitleOffset\":0,\"fTitleSize\":0.035,\"fTitleColor\":1,\"fTitleFont\":42,\"fNbins\":1,\"fXmin\":0,\"fXmax\":1,\"fXbins\":[],\"fFirst\":0,\"fLast\":0,\"fBits2\":0,\"fTimeDisplay\":false,\"fTimeFormat\":\"\",\"fLabels\":null,\"fModLabs\":null},\"fZaxis\":{\"_typename\":\"TAxis\",\"fUniqueID\":0,\"fBits\":0,\"fName\":\"zaxis\",\"fTitle\":\"\",\"fNdivisions\":510,\"fAxisColor\":1,\"fLabelColor\":1,\"fLabelFont\":42,\"fLabelOffset\":0.005,\"fLabelSize\":0.035,\"fTickLength\":0.03,\"fTitleOffset\":1,\"fTitleSize\":0.035,\"fTitleColor\":1,\"fTitleFont\":42,\"fNbins\":1,\"fXmin\":0,\"fXmax\":1,\"fXbins\":[],\"fFirst\":0,\"fLast\":0,\"fBits2\":0,\"fTimeDisplay\":false,\"fTimeFormat\":\"\",\"fLabels\":null,\"fModLabs\":null},\"fBarOffset\":0,\"fBarWidth\":1000,\"fEntries\":227372,\"fTsumw\":560.517505459318,\"fTsumw2\":6.50686672808055,\"fTsumwx\":113.686,\"fTsumwx2\":43.0977153109913,\"fMaximum\":-1111,\"fMinimum\":-1111,\"fNormFactor\":0,\"fContour\":[],\"fSumw2\":[0,6.17444330811499,0.266117245560987,0.0512301139404042,0.0112178473187183,0.00271065571648788,7.2511545159164e-4,2.41535174285117e-4,9.48777099043341e-5,4.26914564943139e-5,1.99177864025591e-5,9.61210839835645e-6,5.87107669817083e-6,3.05788824831193e-6,2.27726241538247e-6,7.56598963828333e-7,5.74175631832482e-7,4.87692964380022e-7,1.87531809693104e-7,1.828735802961e-7,1.48504088141689e-7,6.03797376445526e-8,3.98551855475008e-8,3.61823696754805e-8,3.45075536294331e-8,2.09033765912271e-8,1.90045596997245e-8,9.13309605079853e-9,1.64790316412621e-8,7.69175549459498e-9,7.12841155393653e-9,0,1.28725239845528e-8,0,0,0,0,0,0,0,0,0,0,0,0,0,0,0,0,0,0,0],\"fOption\":\"\",\"fFunctions\":{\"_typename\":\"TList\",\"name\":\"TList\",\"arr\":[],\"opt\":[]},\"fBufferSize\":0,\"fBuffer\":[],\"fBinStatErrOpt\":0,\"fStatOverflows\":2,\"fArray\":[0,344.297266626005,144.738305730177,48.741485087179,15.1826718694531,4.75833047997674,1.56693104874068,0.618543148104589,0.28208705929331,0.14440224776903,0.075442408568109,0.0401711641764166,0.026865508425338,0.0153406311751587,0.0122564909978651,0.00434830705450847,0.00355344312350484,0.0031996921444134,0.00129909688525265,0.0013520628879768,0.00115591423073202,4.91373550592085e-4,3.45774521935412e-4,3.29461969496415e-4,3.21747815372379e-4,2.04431446948433e-4,1.9495850532893e-4,9.55672331439941e-5,1.81543522516399e-4,8.77026538628962e-5,8.44299209636994e-5,0,1.60451819143038e-4,0,0,0,0,0,0,0,0,0,0,0,0,0,0,0,0,0,0,0]},{\"_typename\":\"TH1D\",\"fUniqueID\":0,\"fBits\":8,\"fName\":\"ptK+\",\"fTitle\":\"\",\"fLineColor\":602,\"fLineStyle\":1,\"fLineWidth\":1,\"fFillColor\":0,\"fFillStyle\":1001,\"fMarkerColor\":632,\"fMarkerStyle\":20,\"fMarkerSize\":1,\"fNcells\":52,\"fXaxis\":{\"_typename\":\"TAxis\",\"fUniqueID\":0,\"fBits\":0,\"fName\":\"xaxis\",\"fTitle\":\"\",\"fNdivisions\":510,\"fAxisColor\":1,\"fLabelColor\":1,\"fLabelFont\":42,\"fLabelOffset\":0.005,\"fLabelSize\":0.035,\"fTickLength\":0.03,\"fTitleOffset\":1,\"fTitleSize\":0.035,\"fTitleColor\":1,\"fTitleFont\":42,\"fNbins\":50,\"fXmin\":0,\"fXmax\":10,\"fXbins\":[],\"fFirst\":0,\"fLast\":0,\"fBits2\":0,\"fTimeDisplay\":false,\"fTimeFormat\":\"\",\"fLabels\":null,\"fModLabs\":null},\"fYaxis\":{\"_typename\":\"TAxis\",\"fUniqueID\":0,\"fBits\":0,\"fName\":\"yaxis\",\"fTitle\":\"\",\"fNdivisions\":510,\"fAxisColor\":1,\"fLabelColor\":1,\"fLabelFont\":42,\"fLabelOffset\":0.005,\"fLabelSize\":0.035,\"fTickLength\":0.03,\"fTitleOffset\":0,\"fTitleSize\":0.035,\"fTitleColor\":1,\"fTitleFont\":42,\"fNbins\":1,\"fXmin\":0,\"fXmax\":1,\"fXbins\":[],\"fFirst\":0,\"fLast\":0,\"fBits2\":0,\"fTimeDisplay\":false,\"fTimeFormat\":\"\",\"fLabels\":null,\"fModLabs\":null},\"fZaxis\":{\"_typename\":\"TAxis\",\"fUniqueID\":0,\"fBits\":0,\"fName\":\"zaxis\",\"fTitle\":\"\",\"fNdivisions\":510,\"fAxisColor\":1,\"fLabelColor\":1,\"fLabelFont\":42,\"fLabelOffset\":0.005,\"fLabelSize\":0.035,\"fTickLength\":0.03,\"fTitleOffset\":1,\"fTitleSize\":0.035,\"fTitleColor\":1,\"fTitleFont\":42,\"fNbins\":1,\"fXmin\":0,\"fXmax\":1,\"fXbins\":[],\"fFirst\":0,\"fLast\":0,\"fBits2\":0,\"fTimeDisplay\":false,\"fTimeFormat\":\"\",\"fLabels\":null,\"fModLabs\":null},\"fBarOffset\":0,\"fBarWidth\":1000,\"fEntries\":23849,\"fTsumw\":44.4058971237108,\"fTsumw2\":1.55998897562144,\"fTsumwx\":11.9245,\"fTsumwx2\":5.76754353128371,\"fMaximum\":-1111,\"fMinimum\":-1111,\"fNormFactor\":0,\"fContour\":[],\"fSumw2\":[0,1.52716257972793,0.023946383362442,0.00641538243391493,0.0017728948986464,4.52676685765728e-4,1.38996385870046e-4,5.48015629258484e-5,2.12277896709246e-5,1.11264619360146e-5,5.2835742518515e-6,3.17229608509776e-6,2.2452900038266e-6,7.94996498970975e-7,4.09747644371973e-7,3.56454477683392e-7,2.09333619544488e-7,2.27763094342731e-7,5.84099335696135e-8,7.33420603534443e-8,1.70007009610335e-8,2.96111888280091e-8,0,1.27572021178227e-8,0,0,0,0,8.38100127181989e-9,0,7.35458309777705e-9,0,0,0,0,0,0,0,0,0,0,0,0,0,0,0,0,0,0,0,0,0],\"fOption\":\"\",\"fFunctions\":{\"_typename\":\"TList\",\"name\":\"TList\",\"arr\":[],\"opt\":[]},\"fBufferSize\":0,\"fBuffer\":[],\"fBinStatErrOpt\":0,\"fStatOverflows\":2,\"fArray\":[0,21.0957705017563,13.3603209091758,6.15542251322108,2.40159152861416,0.795705984008283,0.299492875509115,0.140717928494447,0.0631198811357801,0.0375672709617095,0.0198971882430486,0.0133230564150053,0.0102693826598481,0.00398608723284326,0.00221713277437623,0.00206774608881278,0.00129388656727835,0.00150903262207966,4.18603499564515e-4,5.41624654339845e-4,1.30386736139201e-4,2.43348881426049e-4,0,1.12947784917734e-4,0,0,0,0,9.15478086674929e-5,0,8.57588660009976e-5,0,0,0,0,0,0,0,0,0,0,0,0,0,0,0,0,0,0,0,0,0]},{\"_typename\":\"TLegend\",\"fUniqueID\":0,\"fBits\":8,\"fLineColor\":1,\"fLineStyle\":1,\"fLineWidth\":1,\"fFillColor\":0,\"fFillStyle\":1001,\"fX1\":9.00000013411046,\"fY1\":1.35537188276793,\"fX2\":12.0000001788139,\"fY2\":1.66815001242869,\"fX1NDC\":0.8,\"fY1NDC\":0.75,\"fX2NDC\":0.9,\"fY2NDC\":0.9,\"fBorderSize\":1,\"fInit\":1,\"fShadowColor\":1,\"fCornerRadius\":0,\"fOption\":\"brNDC\",\"fName\":\"TPave\",\"fTextAngle\":0,\"fTextSize\":0,\"fTextAlign\":12,\"fTextColor\":1,\"fTextFont\":42,\"fPrimitives\":{\"_typename\":\"TList\",\"name\":\"TList\",\"arr\":[{\"_typename\":\"TLegendEntry\",\"fUniqueID\":0,\"fBits\":0,\"fTextAngle\":0,\"fTextSize\":0,\"fTextAlign\":0,\"fTextColor\":0,\"fTextFont\":42,\"fLineColor\":602,\"fLineStyle\":1,\"fLineWidth\":1,\"fFillColor\":0,\"fFillStyle\":1001,\"fMarkerColor\":1,\"fMarkerStyle\":20,\"fMarkerSize\":1,\"fObject\":{\"$ref\":10},\"fLabel\":\"p\",\"fOption\":\"lpf\"},{\"_typename\":\"TLegendEntry\",\"fUniqueID\":0,\"fBits\":0,\"fTextAngle\":0,\"fTextSize\":0,\"fTextAlign\":0,\"fTextColor\":0,\"fTextFont\":42,\"fLineColor\":602,\"fLineStyle\":1,\"fLineWidth\":1,\"fFillColor\":0,\"fFillStyle\":1001,\"fMarkerColor\":600,\"fMarkerStyle\":20,\"fMarkerSize\":1,\"fObject\":{\"$ref\":15},\"fLabel\":\"#pi^{+}\",\"fOption\":\"lpf\"},{\"_typename\":\"TLegendEntry\",\"fUniqueID\":0,\"fBits\":0,\"fTextAngle\":0,\"fTextSize\":0,\"fTextAlign\":0,\"fTextColor\":0,\"fTextFont\":42,\"fLineColor\":602,\"fLineStyle\":1,\"fLineWidth\":1,\"fFillColor\":0,\"fFillStyle\":1001,\"fMarkerColor\":632,\"fMarkerStyle\":20,\"fMarkerSize\":1,\"fObject\":{\"$ref\":20},\"fLabel\":\"K^{+}\",\"fOption\":\"lpf\"}],\"opt\":[\"lpf\",\"lpf\",\"lpf\"]},\"fEntrySeparation\":0.1,\"fMargin\":0.25,\"fNColumns\":1,\"fColumnSeparation\":0}],\"opt\":[\"\",\"\",\"p same\",\"p same\",\"p same\",\"\"]},\"fExecs\":{\"_typename\":\"TList\",\"name\":\"TList\",\"arr\":[],\"opt\":[]},\"fName\":\"c_etapt_1\",\"fTitle\":\"c_etapt_1\",\"fNumPaletteColor\":0,\"fNextPaletteColor\":0},{\"_typename\":\"TPad\",\"fUniqueID\":0,\"fBits\":9,\"fLineColor\":1,\"fLineStyle\":1,\"fLineWidth\":1,\"fFillColor\":0,\"fFillStyle\":1001,\"fLeftMargin\":0.1,\"fRightMargin\":0.1,\"fBottomMargin\":0.1,\"fTopMargin\":0.1,\"fXfile\":2,\"fYfile\":2,\"fAfile\":1,\"fXstat\":0.99,\"fYstat\":0.99,\"fAstat\":2,\"fFrameFillColor\":0,\"fFrameLineColor\":1,\"fFrameFillStyle\":1001,\"fFrameLineStyle\":1,\"fFrameLineWidth\":1,\"fFrameBorderSize\":1,\"fFrameBorderMode\":0,\"fX1\":-15.0000002235174,\"fY1\":-0.208518765535858,\"fX2\":15.0000002235174,\"fY2\":1.87666876553586,\"fXtoAbsPixelk\":1197.00005,\"fXtoPixelk\":383.040050356734,\"fXtoPixel\":25.5359996432662,\"fYtoAbsPixelk\":510.224046761083,\"fYtoPixelk\":504.504046888935,\"fYtoPixel\":-268.829537824636,\"fUtoAbsPixelk\":813.960049643266,\"fUtoPixelk\":5e-5,\"fUtoPixel\":766.080000713468,\"fVtoAbsPixelk\":566.280050127852,\"fVtoPixelk\":560.560000255704,\"fVtoPixel\":-560.560000255704,\"fAbsPixeltoXk\":-46.8750006548362,\"fPixeltoXk\":-15.0000002235174,\"fPixeltoX\":0.0391604015495708,\"fAbsPixeltoYk\":1.89794618883701,\"fPixeltoYk\":-0.208518765535858,\"fPixeltoY\":-0.00371982933159794,\"fXlowNDC\":0.509999999776483,\"fYlowNDC\":0.00999999977648258,\"fXUpNDC\":0.990000000223517,\"fYUpNDC\":0.990000000223517,\"fWNDC\":0.480000000447035,\"fHNDC\":0.980000000447035,\"fAbsXlowNDC\":0.509999999776483,\"fAbsYlowNDC\":0.00999999977648258,\"fAbsWNDC\":0.480000000447035,\"fAbsHNDC\":0.980000000447035,\"fUxmin\":-12,\"fUymin\":0,\"fUxmax\":12,\"fUymax\":1.66815,\"fTheta\":30,\"fPhi\":30,\"fAspectRatio\":0,\"fNumber\":2,\"fTickx\":0,\"fTicky\":0,\"fLogx\":0,\"fLogy\":0,\"fLogz\":0,\"fPadPaint\":0,\"fCrosshair\":0,\"fCrosshairPos\":0,\"fBorderSize\":2,\"fBorderMode\":0,\"fModified\":false,\"fGridx\":false,\"fGridy\":false,\"fAbsCoord\":false,\"fEditable\":true,\"fFixedAspectRatio\":false,\"fPrimitives\":{\"_typename\":\"TList\",\"name\":\"TList\",\"arr\":[{\"_typename\":\"TFrame\",\"fUniqueID\":0,\"fBits\":8,\"fLineColor\":1,\"fLineStyle\":1,\"fLineWidth\":1,\"fFillColor\":0,\"fFillStyle\":1001,\"fX1\":-12,\"fY1\":0,\"fX2\":12,\"fY2\":1.66815,\"fBorderSize\":1,\"fBorderMode\":0},{\"_typename\":\"TH1F\",\"fUniqueID\":0,\"fBits\":521,\"fName\":\"hframe\",\"fTitle\":\"\",\"fLineColor\":602,\"fLineStyle\":1,\"fLineWidth\":1,\"fFillColor\":0,\"fFillStyle\":1001,\"fMarkerColor\":1,\"fMarkerStyle\":1,\"fMarkerSize\":1,\"fNcells\":1002,\"fXaxis\":{\"_typename\":\"TAxis\",\"fUniqueID\":0,\"fBits\":0,\"fName\":\"xaxis\",\"fTitle\":\"#eta\",\"fNdivisions\":510,\"fAxisColor\":1,\"fLabelColor\":1,\"fLabelFont\":42,\"fLabelOffset\":0.005,\"fLabelSize\":0.035,\"fTickLength\":0.03,\"fTitleOffset\":1,\"fTitleSize\":0.035,\"fTitleColor\":1,\"fTitleFont\":42,\"fNbins\":1000,\"fXmin\":-12,\"fXmax\":12,\"fXbins\":[],\"fFirst\":0,\"fLast\":0,\"fBits2\":0,\"fTimeDisplay\":false,\"fTimeFormat\":\"\",\"fLabels\":null,\"fModLabs\":null},\"fYaxis\":{\"_typename\":\"TAxis\",\"fUniqueID\":0,\"fBits\":0,\"fName\":\"yaxis\",\"fTitle\":\"#frac{dN}{d#eta} \",\"fNdivisions\":510,\"fAxisColor\":1,\"fLabelColor\":1,\"fLabelFont\":42,\"fLabelOffset\":0.005,\"fLabelSize\":0.035,\"fTickLength\":0.03,\"fTitleOffset\":0,\"fTitleSize\":15,\"fTitleColor\":1,\"fTitleFont\":42,\"fNbins\":1,\"fXmin\":0,\"fXmax\":1.66815,\"fXbins\":[],\"fFirst\":0,\"fLast\":0,\"fBits2\":0,\"fTimeDisplay\":false,\"fTimeFormat\":\"\",\"fLabels\":null,\"fModLabs\":null},\"fZaxis\":{\"_typename\":\"TAxis\",\"fUniqueID\":0,\"fBits\":0,\"fName\":\"zaxis\",\"fTitle\":\"\",\"fNdivisions\":510,\"fAxisColor\":1,\"fLabelColor\":1,\"fLabelFont\":42,\"fLabelOffset\":0.005,\"fLabelSize\":0.035,\"fTickLength\":0.03,\"fTitleOffset\":1,\"fTitleSize\":0.035,\"fTitleColor\":1,\"fTitleFont\":42,\"fNbins\":1,\"fXmin\":0,\"fXmax\":1,\"fXbins\":[],\"fFirst\":0,\"fLast\":0,\"fBits2\":0,\"fTimeDisplay\":false,\"fTimeFormat\":\"\",\"fLabels\":null,\"fModLabs\":null},\"fBarOffset\":0,\"fBarWidth\":1000,\"fEntries\":0,\"fTsumw\":0,\"fTsumw2\":0,\"fTsumwx\":0,\"fTsumwx2\":0,\"fMaximum\":1.66815,\"fMinimum\":0,\"fNormFactor\":0,\"fContour\":[],\"fSumw2\":[],\"fOption\":\"\",\"fFunctions\":{\"_typename\":\"TList\",\"name\":\"TList\",\"arr\":[],\"opt\":[]},\"fBufferSize\":0,\"fBuffer\":[],\"fBinStatErrOpt\":0,\"fStatOverflows\":2,\"fArray\":[0,0,0,0,0,0,0,0,0,0,0,0,0,0,0,0,0,0,0,0,0,0,0,0,0,0,0,0,0,0,0,0,0,0,0,0,0,0,0,0,0,0,0,0,0,0,0,0,0,0,0,0,0,0,0,0,0,0,0,0,0,0,0,0,0,0,0,0,0,0,0,0,0,0,0,0,0,0,0,0,0,0,0,0,0,0,0,0,0,0,0,0,0,0,0,0,0,0,0,0,0,0,0,0,0,0,0,0,0,0,0,0,0,0,0,0,0,0,0,0,0,0,0,0,0,0,0,0,0,0,0,0,0,0,0,0,0,0,0,0,0,0,0,0,0,0,0,0,0,0,0,0,0,0,0,0,0,0,0,0,0,0,0,0,0,0,0,0,0,0,0,0,0,0,0,0,0,0,0,0,0,0,0,0,0,0,0,0,0,0,0,0,0,0,0,0,0,0,0,0,0,0,0,0,0,0,0,0,0,0,0,0,0,0,0,0,0,0,0,0,0,0,0,0,0,0,0,0,0,0,0,0,0,0,0,0,0,0,0,0,0,0,0,0,0,0,0,0,0,0,0,0,0,0,0,0,0,0,0,0,0,0,0,0,0,0,0,0,0,0,0,0,0,0,0,0,0,0,0,0,0,0,0,0,0,0,0,0,0,0,0,0,0,0,0,0,0,0,0,0,0,0,0,0,0,0,0,0,0,0,0,0,0,0,0,0,0,0,0,0,0,0,0,0,0,0,0,0,0,0,0,0,0,0,0,0,0,0,0,0,0,0,0,0,0,0,0,0,0,0,0,0,0,0,0,0,0,0,0,0,0,0,0,0,0,0,0,0,0,0,0,0,0,0,0,0,0,0,0,0,0,0,0,0,0,0,0,0,0,0,0,0,0,0,0,0,0,0,0,0,0,0,0,0,0,0,0,0,0,0,0,0,0,0,0,0,0,0,0,0,0,0,0,0,0,0,0,0,0,0,0,0,0,0,0,0,0,0,0,0,0,0,0,0,0,0,0,0,0,0,0,0,0,0,0,0,0,0,0,0,0,0,0,0,0,0,0,0,0,0,0,0,0,0,0,0,0,0,0,0,0,0,0,0,0,0,0,0,0,0,0,0,0,0,0,0,0,0,0,0,0,0,0,0,0,0,0,0,0,0,0,0,0,0,0,0,0,0,0,0,0,0,0,0,0,0,0,0,0,0,0,0,0,0,0,0,0,0,0,0,0,0,0,0,0,0,0,0,0,0,0,0,0,0,0,0,0,0,0,0,0,0,0,0,0,0,0,0,0,0,0,0,0,0,0,0,0,0,0,0,0,0,0,0,0,0,0,0,0,0,0,0,0,0,0,0,0,0,0,0,0,0,0,0,0,0,0,0,0,0,0,0,0,0,0,0,0,0,0,0,0,0,0,0,0,0,0,0,0,0,0,0,0,0,0,0,0,0,0,0,0,0,0,0,0,0,0,0,0,0,0,0,0,0,0,0,0,0,0,0,0,0,0,0,0,0,0,0,0,0,0,0,0,0,0,0,0,0,0,0,0,0,0,0,0,0,0,0,0,0,0,0,0,0,0,0,0,0,0,0,0,0,0,0,0,0,0,0,0,0,0,0,0,0,0,0,0,0,0,0,0,0,0,0,0,0,0,0,0,0,0,0,0,0,0,0,0,0,0,0,0,0,0,0,0,0,0,0,0,0,0,0,0,0,0,0,0,0,0,0,0,0,0,0,0,0,0,0,0,0,0,0,0,0,0,0,0,0,0,0,0,0,0,0,0,0,0,0,0,0,0,0,0,0,0,0,0,0,0,0,0,0,0,0,0,0,0,0,0,0,0,0,0,0,0,0,0,0,0,0,0,0,0,0,0,0,0,0,0,0,0,0,0,0,0,0,0,0,0,0,0,0,0,0,0,0,0,0,0,0,0,0,0,0,0,0,0,0,0,0,0,0,0,0,0,0,0,0,0,0,0,0,0,0,0,0,0,0,0,0,0,0,0,0,0,0,0,0,0,0,0,0,0,0,0,0,0,0,0,0,0,0,0,0,0,0,0,0,0,0,0,0,0,0,0,0,0,0,0,0,0,0,0,0,0,0,0,0,0,0,0,0,0,0,0,0,0,0,0,0,0,0,0,0,0,0,0,0,0,0,0,0,0,0,0,0,0,0,0,0,0,0,0,0,0,0,0,0,0,0,0,0,0,0,0,0,0,0,0,0,0,0,0,0,0,0,0,0,0,0,0,0,0,0,0,0,0,0,0,0,0,0]},{\"_typename\":\"TH1D\",\"fUniqueID\":0,\"fBits\":8,\"fName\":\"etaproton\",\"fTitle\":\"\",\"fLineColor\":602,\"fLineStyle\":1,\"fLineWidth\":1,\"fFillColor\":0,\"fFillStyle\":1001,\"fMarkerColor\":1,\"fMarkerStyle\":20,\"fMarkerSize\":1,\"fNcells\":122,\"fXaxis\":{\"_typename\":\"TAxis\",\"fUniqueID\":0,\"fBits\":0,\"fName\":\"xaxis\",\"fTitle\":\"\",\"fNdivisions\":510,\"fAxisColor\":1,\"fLabelColor\":1,\"fLabelFont\":42,\"fLabelOffset\":0.005,\"fLabelSize\":0.035,\"fTickLength\":0.03,\"fTitleOffset\":1,\"fTitleSize\":0.035,\"fTitleColor\":1,\"fTitleFont\":42,\"fNbins\":120,\"fXmin\":-12,\"fXmax\":12,\"fXbins\":[],\"fFirst\":0,\"fLast\":0,\"fBits2\":0,\"fTimeDisplay\":false,\"fTimeFormat\":\"\",\"fLabels\":null,\"fModLabs\":null},\"fYaxis\":{\"_typename\":\"TAxis\",\"fUniqueID\":0,\"fBits\":0,\"fName\":\"yaxis\",\"fTitle\":\"\",\"fNdivisions\":510,\"fAxisColor\":1,\"fLabelColor\":1,\"fLabelFont\":42,\"fLabelOffset\":0.005,\"fLabelSize\":0.035,\"fTickLength\":0.03,\"fTitleOffset\":0,\"fTitleSize\":0.035,\"fTitleColor\":1,\"fTitleFont\":42,\"fNbins\":1,\"fXmin\":0,\"fXmax\":1,\"fXbins\":[],\"fFirst\":0,\"fLast\":0,\"fBits2\":0,\"fTimeDisplay\":false,\"fTimeFormat\":\"\",\"fLabels\":null,\"fModLabs\":null},\"fZaxis\":{\"_typename\":\"TAxis\",\"fUniqueID\":0,\"fBits\":0,\"fName\":\"zaxis\",\"fTitle\":\"\",\"fNdivisions\":510,\"fAxisColor\":1,\"fLabelColor\":1,\"fLabelFont\":42,\"fLabelOffset\":0.005,\"fLabelSize\":0.035,\"fTickLength\":0.03,\"fTitleOffset\":1,\"fTitleSize\":0.035,\"fTitleColor\":1,\"fTitleFont\":42,\"fNbins\":1,\"fXmin\":0,\"fXmax\":1,\"fXbins\":[],\"fFirst\":0,\"fLast\":0,\"fBits2\":0,\"fTimeDisplay\":false,\"fTimeFormat\":\"\",\"fLabels\":null,\"fModLabs\":null},\"fBarOffset\":0,\"fBarWidth\":1000,\"fEntries\":26901,\"fTsumw\":13.4315,\"fTsumw2\":0.00671575,\"fTsumwx\":0.218473523226644,\"fTsumwx2\":659.603802785016,\"fMaximum\":-1111,\"fMinimum\":-1111,\"fNormFactor\":0,\"fContour\":[],\"fSumw2\":[4.75e-6,1.5e-6,2.75e-6,5.25e-6,7.5e-6,9.75e-6,1.325e-5,2.15e-5,3.3e-5,4.55e-5,6.15e-5,8.425e-5,1.0625e-4,1.1975e-4,1.485e-4,1.465e-4,1.4675e-4,1.295e-4,1.1675e-4,9.45e-5,8.275e-5,7.2e-5,6.575e-5,5.55e-5,5.4e-5,5.175e-5,4.725e-5,4.925e-5,4.6e-5,5.4e-5,5.6e-5,4.875e-5,5.2e-5,5.175e-5,5.35e-5,5.55e-5,5.375e-5,5.125e-5,5.025e-5,5.125e-5,5.375e-5,5.875e-5,5.875e-5,5.675e-5,5.475e-5,4.725e-5,5.575e-5,5.7e-5,5.5e-5,5.075e-5,5e-5,4.05e-5,4.5e-5,3.775e-5,4.175e-5,3.65e-5,3.275e-5,3.5e-5,2.95e-5,3.025e-5,2.4e-5,3.05e-5,2.9e-5,2.65e-5,3.55e-5,3.175e-5,3.1e-5,3.6e-5,3.725e-5,4.225e-5,4.65e-5,4.85e-5,5.175e-5,5.3e-5,5.475e-5,5.125e-5,5.7e-5,5.95e-5,6.075e-5,6.425e-5,5.6e-5,5.4e-5,5.5e-5,5.45e-5,5.35e-5,5.775e-5,5.425e-5,5.525e-5,5.25e-5,5.225e-5,5.1e-5,4.925e-5,5.475e-5,5.025e-5,4.85e-5,4.625e-5,5.925e-5,5.6e-5,5.925e-5,6.3e-5,7.2e-5,7.1e-5,1.005e-4,1.1075e-4,1.335e-4,1.4225e-4,1.4125e-4,1.4425e-4,1.1675e-4,1.0875e-4,8.875e-5,6.175e-5,4.425e-5,3.3e-5,2.275e-5,1.975e-5,8.5e-6,7.75e-6,4.25e-6,4.25e-6,2.25e-6,4.75e-6],\"fOption\":\"\",\"fFunctions\":{\"_typename\":\"TList\",\"name\":\"TList\",\"arr\":[],\"opt\":[]},\"fBufferSize\":0,\"fBuffer\":[],\"fBinStatErrOpt\":0,\"fStatOverflows\":2,\"fArray\":[0.0095,0.003,0.0055,0.0105,0.015,0.0195,0.0265,0.043,0.066,0.091,0.123,0.1685,0.2125,0.2395,0.297,0.293,0.2935,0.259,0.2335,0.189,0.1655,0.144,0.1315,0.111,0.108,0.1035,0.0945,0.0985,0.092,0.108,0.112,0.0975,0.104,0.1035,0.107,0.111,0.1075,0.1025,0.1005,0.1025,0.1075,0.1175,0.1175,0.1135,0.1095,0.0945,0.1115,0.114,0.11,0.1015,0.1,0.081,0.09,0.0755,0.0835,0.073,0.0655,0.07,0.059,0.0605,0.048,0.061,0.058,0.053,0.071,0.0635,0.062,0.072,0.0745,0.0845,0.093,0.097,0.1035,0.106,0.1095,0.1025,0.114,0.119,0.1215,0.1285,0.112,0.108,0.11,0.109,0.107,0.1155,0.1085,0.1105,0.105,0.1045,0.102,0.0985,0.1095,0.1005,0.097,0.0925,0.1185,0.112,0.1185,0.126,0.144,0.142,0.201,0.2215,0.267,0.2845,0.2825,0.2885,0.2335,0.2175,0.1775,0.1235,0.0885,0.066,0.0455,0.0395,0.017,0.0155,0.0085,0.0085,0.0045,0.0095]},{\"_typename\":\"TH1D\",\"fUniqueID\":0,\"fBits\":8,\"fName\":\"etapi+\",\"fTitle\":\"\",\"fLineColor\":602,\"fLineStyle\":1,\"fLineWidth\":1,\"fFillColor\":0,\"fFillStyle\":1001,\"fMarkerColor\":600,\"fMarkerStyle\":20,\"fMarkerSize\":1,\"fNcells\":122,\"fXaxis\":{\"_typename\":\"TAxis\",\"fUniqueID\":0,\"fBits\":0,\"fName\":\"xaxis\",\"fTitle\":\"\",\"fNdivisions\":510,\"fAxisColor\":1,\"fLabelColor\":1,\"fLabelFont\":42,\"fLabelOffset\":0.005,\"fLabelSize\":0.035,\"fTickLength\":0.03,\"fTitleOffset\":1,\"fTitleSize\":0.035,\"fTitleColor\":1,\"fTitleFont\":42,\"fNbins\":120,\"fXmin\":-12,\"fXmax\":12,\"fXbins\":[],\"fFirst\":0,\"fLast\":0,\"fBits2\":0,\"fTimeDisplay\":false,\"fTimeFormat\":\"\",\"fLabels\":null,\"fModLabs\":null},\"fYaxis\":{\"_typename\":\"TAxis\",\"fUniqueID\":0,\"fBits\":0,\"fName\":\"yaxis\",\"fTitle\":\"\",\"fNdivisions\":510,\"fAxisColor\":1,\"fLabelColor\":1,\"fLabelFont\":42,\"fLabelOffset\":0.005,\"fLabelSize\":0.035,\"fTickLength\":0.03,\"fTitleOffset\":0,\"fTitleSize\":0.035,\"fTitleColor\":1,\"fTitleFont\":42,\"fNbins\":1,\"fXmin\":0,\"fXmax\":1,\"fXbins\":[],\"fFirst\":0,\"fLast\":0,\"fBits2\":0,\"fTimeDisplay\":false,\"fTimeFormat\":\"\",\"fLabels\":null,\"fModLabs\":null},\"fZaxis\":{\"_typename\":\"TAxis\",\"fUniqueID\":0,\"fBits\":0,\"fName\":\"zaxis\",\"fTitle\":\"\",\"fNdivisions\":510,\"fAxisColor\":1,\"fLabelColor\":1,\"fLabelFont\":42,\"fLabelOffset\":0.005,\"fLabelSize\":0.035,\"fTickLength\":0.03,\"fTitleOffset\":1,\"fTitleSize\":0.035,\"fTitleColor\":1,\"fTitleFont\":42,\"fNbins\":1,\"fXmin\":0,\"fXmax\":1,\"fXbins\":[],\"fFirst\":0,\"fLast\":0,\"fBits2\":0,\"fTimeDisplay\":false,\"fTimeFormat\":\"\",\"fLabels\":null,\"fModLabs\":null},\"fBarOffset\":0,\"fBarWidth\":1000,\"fEntries\":227372,\"fTsumw\":113.679,\"fTsumw2\":0.0568395,\"fTsumwx\":-0.326444044164017,\"fTsumwx2\":2680.85037683397,\"fMaximum\":-1111,\"fMinimum\":-1111,\"fNormFactor\":0,\"fContour\":[],\"fSumw2\":[2.25e-6,1e-6,2.5e-7,1e-6,5.5e-6,6e-6,7.75e-6,1.175e-5,1.575e-5,2.55e-5,3.925e-5,5.475e-5,7.875e-5,9.75e-5,1.2875e-4,1.675e-4,2.1225e-4,2.765e-4,3.185e-4,3.5625e-4,3.6975e-4,4.025e-4,4.36e-4,4.73e-4,4.98e-4,5.1425e-4,5.58e-4,5.685e-4,5.9075e-4,6.085e-4,6.0325e-4,6.3175e-4,6.3e-4,6.4225e-4,6.5175e-4,6.7825e-4,6.995e-4,7.0525e-4,6.9725e-4,7.38e-4,7.3575e-4,7.3725e-4,7.24e-4,7.5825e-4,7.3225e-4,7.225e-4,7.36e-4,7.35e-4,7.42e-4,7.3125e-4,7.3975e-4,7.1375e-4,7.28e-4,7.09e-4,7.12e-4,6.8475e-4,6.8675e-4,6.635e-4,6.4375e-4,6.5575e-4,6.4975e-4,6.3125e-4,6.4925e-4,6.6425e-4,6.805e-4,6.79e-4,6.75e-4,7.0425e-4,6.9875e-4,7.305e-4,7.3225e-4,7.4825e-4,7.37e-4,7.28e-4,7.5675e-4,7.365e-4,7.455e-4,7.01e-4,7.39e-4,7.0975e-4,7.185e-4,7.165e-4,7.2975e-4,7.0875e-4,6.8325e-4,6.8975e-4,6.9625e-4,6.745e-4,6.7825e-4,6.28e-4,6.3625e-4,5.96e-4,5.87e-4,5.7425e-4,5.5525e-4,5.4175e-4,5.3675e-4,5.0725e-4,4.7e-4,4.475e-4,4.11e-4,3.7175e-4,3.4875e-4,3.2e-4,2.6975e-4,2.235e-4,1.655e-4,1.3425e-4,9.8e-5,7.6e-5,4.875e-5,3.35e-5,2.525e-5,1.575e-5,1.175e-5,8e-6,6e-6,3.25e-6,1.75e-6,1.5e-6,1.25e-6,1.25e-6],\"fOption\":\"\",\"fFunctions\":{\"_typename\":\"TList\",\"name\":\"TList\",\"arr\":[],\"opt\":[]},\"fBufferSize\":0,\"fBuffer\":[],\"fBinStatErrOpt\":0,\"fStatOverflows\":2,\"fArray\":[0.0045,0.002,5e-4,0.002,0.011,0.012,0.0155,0.0235,0.0315,0.051,0.0785,0.1095,0.1575,0.195,0.2575,0.335,0.4245,0.553,0.637,0.7125,0.7395,0.805,0.872,0.946,0.996,1.0285,1.116,1.137,1.1815,1.217,1.2065,1.2635,1.26,1.2845,1.3035,1.3565,1.399,1.4105,1.3945,1.476,1.4715,1.4745,1.448,1.5165,1.4645,1.445,1.472,1.47,1.484,1.4625,1.4795,1.4275,1.456,1.418,1.424,1.3695,1.3735,1.327,1.2875,1.3115,1.2995,1.2625,1.2985,1.3285,1.361,1.358,1.35,1.4085,1.3975,1.461,1.4645,1.4965,1.474,1.456,1.5135,1.473,1.491,1.402,1.478,1.4195,1.437,1.433,1.4595,1.4175,1.3665,1.3795,1.3925,1.349,1.3565,1.256,1.2725,1.192,1.174,1.1485,1.1105,1.0835,1.0735,1.0145,0.94,0.895,0.822,0.7435,0.6975,0.64,0.5395,0.447,0.331,0.2685,0.196,0.152,0.0975,0.067,0.0505,0.0315,0.0235,0.016,0.012,0.0065,0.0035,0.003,0.0025,0.0025]},{\"_typename\":\"TH1D\",\"fUniqueID\":0,\"fBits\":8,\"fName\":\"etaK+\",\"fTitle\":\"\",\"fLineColor\":602,\"fLineStyle\":1,\"fLineWidth\":1,\"fFillColor\":0,\"fFillStyle\":1001,\"fMarkerColor\":632,\"fMarkerStyle\":20,\"fMarkerSize\":1,\"fNcells\":122,\"fXaxis\":{\"_typename\":\"TAxis\",\"fUniqueID\":0,\"fBits\":0,\"fName\":\"xaxis\",\"fTitle\":\"\",\"fNdivisions\":510,\"fAxisColor\":1,\"fLabelColor\":1,\"fLabelFont\":42,\"fLabelOffset\":0.005,\"fLabelSize\":0.035,\"fTickLength\":0.03,\"fTitleOffset\":1,\"fTitleSize\":0.035,\"fTitleColor\":1,\"fTitleFont\":42,\"fNbins\":120,\"fXmin\":-12,\"fXmax\":12,\"fXbins\":[],\"fFirst\":0,\"fLast\":0,\"fBits2\":0,\"fTimeDisplay\":false,\"fTimeFormat\":\"\",\"fLabels\":null,\"fModLabs\":null},\"fYaxis\":{\"_typename\":\"TAxis\",\"fUniqueID\":0,\"fBits\":0,\"fName\":\"yaxis\",\"fTitle\":\"\",\"fNdivisions\":510,\"fAxisColor\":1,\"fLabelColor\":1,\"fLabelFont\":42,\"fLabelOffset\":0.005,\"fLabelSize\":0.035,\"fTickLength\":0.03,\"fTitleOffset\":0,\"fTitleSize\":0.035,\"fTitleColor\":1,\"fTitleFont\":42,\"fNbins\":1,\"fXmin\":0,\"fXmax\":1,\"fXbins\":[],\"fFirst\":0,\"fLast\":0,\"fBits2\":0,\"fTimeDisplay\":false,\"fTimeFormat\":\"\",\"fLabels\":null,\"fModLabs\":null},\"fZaxis\":{\"_typename\":\"TAxis\",\"fUniqueID\":0,\"fBits\":0,\"fName\":\"zaxis\",\"fTitle\":\"\",\"fNdivisions\":510,\"fAxisColor\":1,\"fLabelColor\":1,\"fLabelFont\":42,\"fLabelOffset\":0.005,\"fLabelSize\":0.035,\"fTickLength\":0.03,\"fTitleOffset\":1,\"fTitleSize\":0.035,\"fTitleColor\":1,\"fTitleFont\":42,\"fNbins\":1,\"fXmin\":0,\"fXmax\":1,\"fXbins\":[],\"fFirst\":0,\"fLast\":0,\"fBits2\":0,\"fTimeDisplay\":false,\"fTimeFormat\":\"\",\"fLabels\":null,\"fModLabs\":null},\"fBarOffset\":0,\"fBarWidth\":1000,\"fEntries\":23849,\"fTsumw\":11.922,\"fTsumw2\":0.005961,\"fTsumwx\":-0.0287176608871195,\"fTsumwx2\":293.866976827667,\"fMaximum\":-1111,\"fMinimum\":-1111,\"fNormFactor\":0,\"fContour\":[],\"fSumw2\":[7.5e-7,0,0,0,0,2.5e-7,7.5e-7,1.25e-6,3.25e-6,3.5e-6,3e-6,7.5e-6,7.5e-6,1.325e-5,1.65e-5,1.775e-5,2.4e-5,2.525e-5,3.675e-5,3.45e-5,4.55e-5,4.9e-5,4.525e-5,5.225e-5,5.675e-5,5.25e-5,6.35e-5,6.85e-5,6.575e-5,6.125e-5,6.9e-5,6.925e-5,6.95e-5,8.075e-5,7.225e-5,7.475e-5,7.3e-5,7.4e-5,8.325e-5,7.925e-5,7.6e-5,7.275e-5,8.075e-5,7.325e-5,8.125e-5,8.1e-5,7.8e-5,6.8e-5,8.125e-5,7.25e-5,7.875e-5,7.875e-5,6.975e-5,6.85e-5,6.45e-5,6.575e-5,6.1e-5,5.4e-5,5.275e-5,5.125e-5,4.825e-5,6.075e-5,5.35e-5,5.55e-5,5.7e-5,6.05e-5,5.775e-5,6.425e-5,7.45e-5,7.75e-5,7.45e-5,8.5e-5,7.95e-5,8.05e-5,7.925e-5,8.525e-5,7.525e-5,7.95e-5,8.55e-5,7.2e-5,8.125e-5,8.4e-5,7.775e-5,7.775e-5,7.8e-5,7.35e-5,7.75e-5,7.85e-5,7.525e-5,7.55e-5,6.75e-5,6.05e-5,6.85e-5,5.775e-5,6.05e-5,6.375e-5,6.075e-5,5.125e-5,5.575e-5,4.675e-5,4.55e-5,3.925e-5,3.05e-5,3.35e-5,2.725e-5,2.5e-5,1.7e-5,1.675e-5,1.3e-5,9e-6,6e-6,3.25e-6,1.5e-6,1.5e-6,1.75e-6,7.5e-7,5e-7,7.5e-7,5e-7,0,0,5e-7],\"fOption\":\"\",\"fFunctions\":{\"_typename\":\"TList\",\"name\":\"TList\",\"arr\":[],\"opt\":[]},\"fBufferSize\":0,\"fBuffer\":[],\"fBinStatErrOpt\":0,\"fStatOverflows\":2,\"fArray\":[0.0015,0,0,0,0,5e-4,0.0015,0.0025,0.0065,0.007,0.006,0.015,0.015,0.0265,0.033,0.0355,0.048,0.0505,0.0735,0.069,0.091,0.098,0.0905,0.1045,0.1135,0.105,0.127,0.137,0.1315,0.1225,0.138,0.1385,0.139,0.1615,0.1445,0.1495,0.146,0.148,0.1665,0.1585,0.152,0.1455,0.1615,0.1465,0.1625,0.162,0.156,0.136,0.1625,0.145,0.1575,0.1575,0.1395,0.137,0.129,0.1315,0.122,0.108,0.1055,0.1025,0.0965,0.1215,0.107,0.111,0.114,0.121,0.1155,0.1285,0.149,0.155,0.149,0.17,0.159,0.161,0.1585,0.1705,0.1505,0.159,0.171,0.144,0.1625,0.168,0.1555,0.1555,0.156,0.147,0.155,0.157,0.1505,0.151,0.135,0.121,0.137,0.1155,0.121,0.1275,0.1215,0.1025,0.1115,0.0935,0.091,0.0785,0.061,0.067,0.0545,0.05,0.034,0.0335,0.026,0.018,0.012,0.0065,0.003,0.003,0.0035,0.0015,0.001,0.0015,0.001,0,0,0.001]},{\"$ref\":25}],\"opt\":[\"\",\"\",\"p same\",\"p same\",\"p same\",\"\"]},\"fExecs\":{\"_typename\":\"TList\",\"name\":\"TList\",\"arr\":[],\"opt\":[]},\"fName\":\"c_etapt_2\",\"fTitle\":\"c_etapt_2\",\"fNumPaletteColor\":0,\"fNextPaletteColor\":0},{\"_typename\":\"TStyle\",\"fUniqueID\":0,\"fBits\":0,\"fName\":\"Modern\",\"fTitle\":\"Modern Style\",\"fLineColor\":1,\"fLineStyle\":1,\"fLineWidth\":1,\"fFillColor\":19,\"fFillStyle\":1001,\"fMarkerColor\":1,\"fMarkerStyle\":1,\"fMarkerSize\":1,\"fTextAngle\":0,\"fTextSize\":0.05,\"fTextAlign\":11,\"fTextColor\":1,\"fTextFont\":62,\"fXaxis\":{\"_typename\":\"TAttAxis\",\"fNdivisions\":510,\"fAxisColor\":1,\"fLabelColor\":1,\"fLabelFont\":42,\"fLabelOffset\":0.005,\"fLabelSize\":0.035,\"fTickLength\":0.03,\"fTitleOffset\":1,\"fTitleSize\":0.035,\"fTitleColor\":1,\"fTitleFont\":42},\"fYaxis\":{\"_typename\":\"TAttAxis\",\"fNdivisions\":510,\"fAxisColor\":1,\"fLabelColor\":1,\"fLabelFont\":42,\"fLabelOffset\":0.005,\"fLabelSize\":0.035,\"fTickLength\":0.03,\"fTitleOffset\":0,\"fTitleSize\":0.035,\"fTitleColor\":1,\"fTitleFont\":42},\"fZaxis\":{\"_typename\":\"TAttAxis\",\"fNdivisions\":510,\"fAxisColor\":1,\"fLabelColor\":1,\"fLabelFont\":42,\"fLabelOffset\":0.005,\"fLabelSize\":0.035,\"fTickLength\":0.03,\"fTitleOffset\":1,\"fTitleSize\":0.035,\"fTitleColor\":1,\"fTitleFont\":42},\"fBarWidth\":1,\"fBarOffset\":0,\"fColorModelPS\":0,\"fDrawBorder\":0,\"fOptLogx\":0,\"fOptLogy\":0,\"fOptLogz\":0,\"fOptDate\":0,\"fOptStat\":1111,\"fOptTitle\":1,\"fOptFile\":0,\"fOptFit\":0,\"fShowEventStatus\":0,\"fShowEditor\":0,\"fShowToolBar\":0,\"fNumberContours\":20,\"fAttDate\":{\"_typename\":\"TAttText\",\"fTextAngle\":0,\"fTextSize\":0.025,\"fTextAlign\":11,\"fTextColor\":1,\"fTextFont\":62},\"fDateX\":0.01,\"fDateY\":0.01,\"fEndErrorSize\":2,\"fErrorX\":0.5,\"fFuncColor\":2,\"fFuncStyle\":1,\"fFuncWidth\":2,\"fGridColor\":0,\"fGridStyle\":3,\"fGridWidth\":1,\"fLegendBorderSize\":1,\"fLegendFillColor\":0,\"fLegendFont\":42,\"fLegendTextSize\":0,\"fHatchesLineWidth\":1,\"fHatchesSpacing\":1,\"fFrameFillColor\":0,\"fFrameLineColor\":1,\"fFrameFillStyle\":1001,\"fFrameLineStyle\":1,\"fFrameLineWidth\":1,\"fFrameBorderSize\":1,\"fFrameBorderMode\":0,\"fHistFillColor\":0,\"fHistLineColor\":602,\"fHistFillStyle\":1001,\"fHistLineStyle\":1,\"fHistLineWidth\":1,\"fHistMinimumZero\":false,\"fHistTopMargin\":0.05,\"fCanvasPreferGL\":false,\"fCanvasColor\":0,\"fCanvasBorderSize\":2,\"fCanvasBorderMode\":0,\"fCanvasDefH\":500,\"fCanvasDefW\":700,\"fCanvasDefX\":10,\"fCanvasDefY\":10,\"fPadColor\":0,\"fPadBorderSize\":2,\"fPadBorderMode\":0,\"fPadBottomMargin\":0.1,\"fPadTopMargin\":0.1,\"fPadLeftMargin\":0.1,\"fPadRightMargin\":0.1,\"fPadGridX\":false,\"fPadGridY\":false,\"fPadTickX\":0,\"fPadTickY\":0,\"fPaperSizeX\":20,\"fPaperSizeY\":26,\"fScreenFactor\":1,\"fStatColor\":0,\"fStatTextColor\":1,\"fStatBorderSize\":1,\"fStatFont\":42,\"fStatFontSize\":0,\"fStatStyle\":1001,\"fStatFormat\":\"6.4g\",\"fStatX\":0.98,\"fStatY\":0.935,\"fStatW\":0.2,\"fStatH\":0.16,\"fStripDecimals\":true,\"fTitleAlign\":23,\"fTitleColor\":0,\"fTitleTextColor\":1,\"fTitleBorderSize\":0,\"fTitleFont\":42,\"fTitleFontSize\":0.05,\"fTitleStyle\":0,\"fTitleX\":0.5,\"fTitleY\":0.995,\"fTitleW\":0,\"fTitleH\":0,\"fLegoInnerR\":0.5,\"fLineStyle\":[\"\",\"  \",\" 12 12\",\" 4 8\",\" 12 16 4 16\",\" 20 12 4 12\",\" 20 12 4 12 4 12 4 12\",\" 20 20\",\" 20 12 4 12 4 12\",\" 80 20\",\" 80 40 4 40\",\"  \",\"  \",\"  \",\"  \",\"  \",\"  \",\"  \",\"  \",\"  \",\"  \",\"  \",\"  \",\"  \",\"  \",\"  \",\"  \",\"  \",\"  \",\"  \"],\"fHeaderPS\":\"\",\"fTitlePS\":\"\",\"fFitFormat\":\"5.4g\",\"fPaintTextFormat\":\"g\",\"fLineScalePS\":3,\"fJoinLinePS\":0,\"fCapLinePS\":0,\"fTimeOffset\":788918400,\"fImageScaling\":1}],\"opt\":[\"\",\"\",\"\"]},\"fExecs\":null,\"fName\":\"c_etapt\",\"fTitle\":\"\",\"fNumPaletteColor\":0,\"fNextPaletteColor\":0,\"fDISPLAY\":\"$DISPLAY\",\"fDoubleBuffer\":0,\"fRetained\":true,\"fXsizeUser\":0,\"fYsizeUser\":0,\"fXsizeReal\":20,\"fYsizeReal\":7.5,\"fWindowTopX\":0,\"fWindowTopY\":0,\"fWindowWidth\":0,\"fWindowHeight\":0,\"fCw\":1596,\"fCh\":572,\"fCatt\":{\"_typename\":\"TAttCanvas\",\"fXBetween\":2,\"fYBetween\":2,\"fTitleFromTop\":1.2,\"fXdate\":0.2,\"fYdate\":0.3,\"fAdate\":1},\"kMoveOpaque\":true,\"kResizeOpaque\":true,\"fHighLightColor\":2,\"fBatch\":true,\"kShowEventStatus\":false,\"kAutoExec\":true,\"kMenuBar\":true});\n",
       "   Core.settings.HandleKeys = false;\n",
       "   Core.draw(\"root_plot_1645123631090\", obj, \"\");\n",
       "}\n",
       "\n",
       "function script_load_root_plot_1645123631090(src, on_error) {\n",
       "    let script = document.createElement('script');\n",
       "    script.src = src;\n",
       "    script.onload = function() { display_root_plot_1645123631090(JSROOT); };\n",
       "    script.onerror = function() { script.remove(); on_error(); };\n",
       "    document.head.appendChild(script);\n",
       "}\n",
       "\n",
       "if (typeof requirejs !== 'undefined') {\n",
       "\n",
       "    // We are in jupyter notebooks, use require.js which should be configured already\n",
       "    requirejs.config({\n",
       "       paths: { 'JSRootCore' : [ 'scripts/JSRoot.core', 'https://root.cern/js/6.1.1/scripts/JSRoot.core.min', 'https://jsroot.gsi.de/6.1.1/scripts/JSRoot.core.min' ] }\n",
       "    })(['JSRootCore'],  function(Core) {\n",
       "       display_root_plot_1645123631090(Core);\n",
       "    });\n",
       "\n",
       "} else if (typeof JSROOT !== 'undefined') {\n",
       "\n",
       "   // JSROOT already loaded, just use it\n",
       "   display_root_plot_1645123631090(JSROOT);\n",
       "\n",
       "} else {\n",
       "\n",
       "    // We are in jupyterlab without require.js, directly loading jsroot\n",
       "    // Jupyterlab might be installed in a different base_url so we need to know it.\n",
       "    try {\n",
       "        var base_url = JSON.parse(document.getElementById('jupyter-config-data').innerHTML).baseUrl;\n",
       "    } catch(_) {\n",
       "        var base_url = '/';\n",
       "    }\n",
       "\n",
       "    // Try loading a local version of requirejs and fallback to cdn if not possible.\n",
       "    script_load_root_plot_1645123631090(base_url + 'static/scripts/JSRoot.core.js', function(){\n",
       "        console.error('Fail to load JSROOT locally, please check your jupyter_notebook_config.py file');\n",
       "        script_load_root_plot_1645123631090('https://root.cern/js/6.1.1/scripts/JSRoot.core.min.js', function(){\n",
       "            document.getElementById(\"root_plot_1645123631090\").innerHTML = \"Failed to load JSROOT\";\n",
       "        });\n",
       "    });\n",
       "}\n",
       "\n",
       "</script>\n"
      ],
      "text/plain": [
       "<IPython.core.display.HTML object>"
      ]
     },
     "metadata": {},
     "output_type": "display_data"
    }
   ],
   "source": [
    "leg=ROOT.TLegend(0.8,0.75,0.9,0.9)\n",
    "for p in parts:\n",
    "    leg.AddEntry(hpt[p], labels[p])\n",
    "\n",
    "c_etapt.cd(1).SetLogy()\n",
    "frame_pt=c_etapt.cd(1).DrawFrame(0,maxpt*1e-8,10,10*maxpt)\n",
    "frame_pt.GetXaxis().SetTitle(\"p_{T} [GeV/c]\")\n",
    "frame_pt.GetXaxis().SetTitleOffset(1.5)\n",
    "frame_pt.GetYaxis().SetTitleSize(15)\n",
    "frame_pt.GetYaxis().SetTitle(\"#frac{1}{p_{T}}#frac{dN}{dp_{T}} [GeV/c]^{-2}\")\n",
    "frame_pt.Draw()\n",
    "for p in parts:\n",
    "    hpt[p].Draw(\"p same\")\n",
    "leg.Draw()\n",
    "\n",
    "c_etapt.cd(2)\n",
    "frame_eta=c_etapt.cd(2).DrawFrame(-12,0,12,1.1*maxeta)\n",
    "frame_eta.GetXaxis().SetTitle(\"#eta\")\n",
    "frame_eta.GetYaxis().SetTitleSize(15)\n",
    "frame_eta.GetYaxis().SetTitle(\"#frac{dN}{d#eta} \")\n",
    "frame_eta.Draw()\n",
    "for p in parts:\n",
    "    heta[p].Draw(\"p same\")\n",
    "    \n",
    "leg.Draw()\n",
    "\n",
    "c_etapt.Draw()"
   ]
  },
  {
   "cell_type": "markdown",
   "metadata": {},
   "source": [
    "## $K^*$ meson production"
   ]
  },
  {
   "cell_type": "markdown",
   "metadata": {},
   "source": [
    "### Generate 10000 $p+p$ events at 14 TeV and look for $K^*$ meson by plotting invariant mass of $\\pi^-K^+$ pairs. Compare this spectrum with invariant mass spectrum of produced $K^*$'s decaying into kaon and pion."
   ]
  },
  {
   "cell_type": "markdown",
   "metadata": {},
   "source": [
    "* create two one dimensional histograms to hold invariant masses of  $\\pi^--K^+$ pairs and $K^*$ mesons (300 bins each, range (0.5,2) GeV/$c^2$)\n",
    "* during event generation in each event separately create lists of $\\pi^-$'s and $K^+$'s and fill invariant mass histogram with invariant masses of all possible $\\pi^--K^+$ pairs, use `getMinv` function defined above\n",
    "  * HINT: use `itertools.product` (`it.product`), if `A` and `B` are lists, then `list(it.product(A,B))` is the list of all possible pairs where one element is from `A` and the other is from `B`\n",
    "* second histogram should be filled with invariant masses of $K^*$'s decaying to pion and kaon, use `TParticle::GetDaughter(int n)` method (e.g. `p.GetDaugther(0), p.GetDaugther(1)`) to select the desired decay channel, this method returns *index* of the daughter particle - in order to access corresponding `TParticle` opject we have to directly access `particles[p.GetDaughter(0)]`\n",
    "* create new `TCanvas`, present the two distributions on one plot with apropriate axes labels, different colors and legend"
   ]
  },
  {
   "cell_type": "code",
   "execution_count": 15,
   "metadata": {
    "collapsed": true,
    "jupyter": {
     "outputs_hidden": true,
     "source_hidden": true
    },
    "tags": []
   },
   "outputs": [
    {
     "name": "stdout",
     "output_type": "stream",
     "text": [
      "\n",
      " Pythia::next(): 11000 events have been generated \n",
      "\n",
      " Pythia::next(): 12000 events have been generated \n",
      "\n",
      " Pythia::next(): 13000 events have been generated \n",
      " PYTHIA Error in StringFragmentation::fragmentToJunction: caught in junction flavour loop  \n",
      "\n",
      " Pythia::next(): 14000 events have been generated \n",
      "\n",
      " Pythia::next(): 15000 events have been generated \n",
      "\n",
      " Pythia::next(): 16000 events have been generated \n",
      "\n",
      " Pythia::next(): 17000 events have been generated \n",
      "\n",
      " Pythia::next(): 18000 events have been generated \n",
      "\n",
      " Pythia::next(): 19000 events have been generated \n",
      "\n",
      " Pythia::next(): 20000 events have been generated \n"
     ]
    },
    {
     "data": {
      "text/html": [
       "\n",
       "\n",
       "<div id=\"root_plot_1645123714159\"\n",
       "     style=\"width: 1020px; height: 740px\">\n",
       "</div>\n",
       "<script>\n",
       "\n",
       "function display_root_plot_1645123714159(Core) {\n",
       "   let obj = Core.parse({\"_typename\":\"TCanvas\",\"fUniqueID\":0,\"fBits\":3342344,\"fLineColor\":1,\"fLineStyle\":1,\"fLineWidth\":1,\"fFillColor\":0,\"fFillStyle\":1001,\"fLeftMargin\":0.1,\"fRightMargin\":0.1,\"fBottomMargin\":0.1,\"fTopMargin\":0.1,\"fXfile\":2,\"fYfile\":2,\"fAfile\":1,\"fXstat\":0.99,\"fYstat\":0.99,\"fAstat\":2,\"fFrameFillColor\":0,\"fFrameLineColor\":1,\"fFrameFillStyle\":1001,\"fFrameLineStyle\":1,\"fFrameLineWidth\":1,\"fFrameBorderSize\":1,\"fFrameBorderMode\":0,\"fX1\":0.312499986030161,\"fY1\":-205.800015333296,\"fX2\":2.18750001396984,\"fY2\":1852.2000153333,\"fXtoAbsPixelk\":-169.99993986721,\"fXtoPixelk\":-169.99993986721,\"fXtoPixel\":543.999991893768,\"fYtoAbsPixelk\":666.000045589256,\"fYtoPixelk\":666.000045589256,\"fYtoPixel\":-0.35957239503068,\"fUtoAbsPixelk\":5e-5,\"fUtoPixelk\":5e-5,\"fUtoPixel\":1020,\"fVtoAbsPixelk\":740.00005,\"fVtoPixelk\":740,\"fVtoPixel\":-740,\"fAbsPixeltoXk\":0.312499986030161,\"fPixeltoXk\":0.312499986030161,\"fPixeltoX\":0.00183823532150949,\"fAbsPixeltoYk\":1852.2000153333,\"fPixeltoYk\":-205.800015333296,\"fPixeltoY\":-2.78108112252242,\"fXlowNDC\":0,\"fYlowNDC\":0,\"fXUpNDC\":1,\"fYUpNDC\":1,\"fWNDC\":1,\"fHNDC\":1,\"fAbsXlowNDC\":0,\"fAbsYlowNDC\":0,\"fAbsWNDC\":1,\"fAbsHNDC\":1,\"fUxmin\":0.5,\"fUymin\":0,\"fUxmax\":2,\"fUymax\":1646.4,\"fTheta\":30,\"fPhi\":30,\"fAspectRatio\":0,\"fNumber\":0,\"fTickx\":0,\"fTicky\":0,\"fLogx\":0,\"fLogy\":0,\"fLogz\":0,\"fPadPaint\":0,\"fCrosshair\":0,\"fCrosshairPos\":0,\"fBorderSize\":2,\"fBorderMode\":0,\"fModified\":false,\"fGridx\":false,\"fGridy\":false,\"fAbsCoord\":false,\"fEditable\":true,\"fFixedAspectRatio\":false,\"fPrimitives\":{\"_typename\":\"TList\",\"name\":\"TList\",\"arr\":[{\"_typename\":\"TFrame\",\"fUniqueID\":0,\"fBits\":8,\"fLineColor\":1,\"fLineStyle\":1,\"fLineWidth\":1,\"fFillColor\":0,\"fFillStyle\":1001,\"fX1\":0.5,\"fY1\":0,\"fX2\":2,\"fY2\":1646.4,\"fBorderSize\":1,\"fBorderMode\":0},{\"_typename\":\"TH1D\",\"fUniqueID\":0,\"fBits\":8,\"fName\":\"h_all\",\"fTitle\":\"\",\"fLineColor\":602,\"fLineStyle\":1,\"fLineWidth\":2,\"fFillColor\":0,\"fFillStyle\":1001,\"fMarkerColor\":1,\"fMarkerStyle\":1,\"fMarkerSize\":1,\"fNcells\":302,\"fXaxis\":{\"_typename\":\"TAxis\",\"fUniqueID\":0,\"fBits\":0,\"fName\":\"xaxis\",\"fTitle\":\"M_{#pi^{-}K^{+}} [GeV\\/#it{c}^{2}]\",\"fNdivisions\":510,\"fAxisColor\":1,\"fLabelColor\":1,\"fLabelFont\":42,\"fLabelOffset\":0.005,\"fLabelSize\":0.035,\"fTickLength\":0.03,\"fTitleOffset\":1.1,\"fTitleSize\":0.035,\"fTitleColor\":1,\"fTitleFont\":42,\"fNbins\":300,\"fXmin\":0.5,\"fXmax\":2,\"fXbins\":[],\"fFirst\":0,\"fLast\":0,\"fBits2\":0,\"fTimeDisplay\":false,\"fTimeFormat\":\"\",\"fLabels\":null,\"fModLabs\":null},\"fYaxis\":{\"_typename\":\"TAxis\",\"fUniqueID\":0,\"fBits\":0,\"fName\":\"yaxis\",\"fTitle\":\"Entries\",\"fNdivisions\":510,\"fAxisColor\":1,\"fLabelColor\":1,\"fLabelFont\":42,\"fLabelOffset\":0.005,\"fLabelSize\":0.035,\"fTickLength\":0.03,\"fTitleOffset\":0,\"fTitleSize\":0.035,\"fTitleColor\":1,\"fTitleFont\":42,\"fNbins\":1,\"fXmin\":0,\"fXmax\":1,\"fXbins\":[],\"fFirst\":0,\"fLast\":0,\"fBits2\":0,\"fTimeDisplay\":false,\"fTimeFormat\":\"\",\"fLabels\":null,\"fModLabs\":null},\"fZaxis\":{\"_typename\":\"TAxis\",\"fUniqueID\":0,\"fBits\":0,\"fName\":\"zaxis\",\"fTitle\":\"\",\"fNdivisions\":510,\"fAxisColor\":1,\"fLabelColor\":1,\"fLabelFont\":42,\"fLabelOffset\":0.005,\"fLabelSize\":0.035,\"fTickLength\":0.03,\"fTitleOffset\":1,\"fTitleSize\":0.035,\"fTitleColor\":1,\"fTitleFont\":42,\"fNbins\":1,\"fXmin\":0,\"fXmax\":1,\"fXbins\":[],\"fFirst\":0,\"fLast\":0,\"fBits2\":0,\"fTimeDisplay\":false,\"fTimeFormat\":\"\",\"fLabels\":null,\"fModLabs\":null},\"fBarOffset\":0,\"fBarWidth\":1000,\"fEntries\":682435,\"fTsumw\":224205,\"fTsumw2\":224205,\"fTsumwx\":269607.127135014,\"fTsumwx2\":354289.249533584,\"fMaximum\":-1111,\"fMinimum\":-1111,\"fNormFactor\":0,\"fContour\":[],\"fSumw2\":[],\"fOption\":\"\",\"fFunctions\":{\"_typename\":\"TList\",\"name\":\"TList\",\"arr\":[],\"opt\":[]},\"fBufferSize\":0,\"fBuffer\":[],\"fBinStatErrOpt\":0,\"fStatOverflows\":2,\"fArray\":[0,0,0,0,0,0,0,0,0,0,0,0,0,0,0,0,0,0,0,0,0,0,0,0,0,0,0,45,297,404,494,590,603,729,715,765,806,855,923,933,951,960,1004,1035,1007,1044,1113,1084,1115,1094,1143,1156,1177,1196,1152,1166,1127,1143,1210,1260,1190,1197,1201,1191,1173,1222,1247,1194,1237,1244,1286,1316,1341,1295,1420,1443,1365,1511,1545,1535,1568,1519,1468,1424,1377,1384,1319,1292,1328,1157,1159,1162,1264,1134,1157,1163,1132,1158,1118,1141,1185,1158,1172,1135,1108,1122,1073,1101,1072,1096,1067,1063,1111,1072,1024,1093,1040,1052,1030,1010,1006,1035,998,976,1020,994,1009,986,1056,985,963,928,961,943,994,890,901,939,962,917,900,922,936,876,856,949,861,922,867,922,836,901,799,898,847,802,816,814,830,812,815,801,814,752,782,810,759,766,766,747,797,754,767,781,728,716,761,752,769,725,730,767,721,707,709,744,734,685,674,669,741,719,673,637,666,671,662,680,642,693,684,689,659,616,635,685,650,658,655,610,636,654,693,643,623,593,564,586,606,622,612,638,567,572,603,589,621,586,620,610,560,582,575,519,563,596,586,538,578,515,583,598,536,547,539,540,577,529,497,525,550,537,525,547,515,511,522,498,504,475,525,512,481,497,505,557,481,519,496,487,517,456,509,509,476,494,469,481,480,479,442,483,481,474,436,447,475,466,477,402,481,412,448,451,477,461,424,451,427,418,424,458230]},{\"_typename\":\"TH1D\",\"fUniqueID\":0,\"fBits\":8,\"fName\":\"h_pure\",\"fTitle\":\"\",\"fLineColor\":632,\"fLineStyle\":1,\"fLineWidth\":2,\"fFillColor\":0,\"fFillStyle\":1001,\"fMarkerColor\":1,\"fMarkerStyle\":1,\"fMarkerSize\":1,\"fNcells\":302,\"fXaxis\":{\"_typename\":\"TAxis\",\"fUniqueID\":0,\"fBits\":0,\"fName\":\"xaxis\",\"fTitle\":\"\",\"fNdivisions\":510,\"fAxisColor\":1,\"fLabelColor\":1,\"fLabelFont\":42,\"fLabelOffset\":0.005,\"fLabelSize\":0.035,\"fTickLength\":0.03,\"fTitleOffset\":1,\"fTitleSize\":0.035,\"fTitleColor\":1,\"fTitleFont\":42,\"fNbins\":300,\"fXmin\":0.5,\"fXmax\":2,\"fXbins\":[],\"fFirst\":0,\"fLast\":0,\"fBits2\":0,\"fTimeDisplay\":false,\"fTimeFormat\":\"\",\"fLabels\":null,\"fModLabs\":null},\"fYaxis\":{\"_typename\":\"TAxis\",\"fUniqueID\":0,\"fBits\":0,\"fName\":\"yaxis\",\"fTitle\":\"\",\"fNdivisions\":510,\"fAxisColor\":1,\"fLabelColor\":1,\"fLabelFont\":42,\"fLabelOffset\":0.005,\"fLabelSize\":0.035,\"fTickLength\":0.03,\"fTitleOffset\":0,\"fTitleSize\":0.035,\"fTitleColor\":1,\"fTitleFont\":42,\"fNbins\":1,\"fXmin\":0,\"fXmax\":1,\"fXbins\":[],\"fFirst\":0,\"fLast\":0,\"fBits2\":0,\"fTimeDisplay\":false,\"fTimeFormat\":\"\",\"fLabels\":null,\"fModLabs\":null},\"fZaxis\":{\"_typename\":\"TAxis\",\"fUniqueID\":0,\"fBits\":0,\"fName\":\"zaxis\",\"fTitle\":\"\",\"fNdivisions\":510,\"fAxisColor\":1,\"fLabelColor\":1,\"fLabelFont\":42,\"fLabelOffset\":0.005,\"fLabelSize\":0.035,\"fTickLength\":0.03,\"fTitleOffset\":1,\"fTitleSize\":0.035,\"fTitleColor\":1,\"fTitleFont\":42,\"fNbins\":1,\"fXmin\":0,\"fXmax\":1,\"fXbins\":[],\"fFirst\":0,\"fLast\":0,\"fBits2\":0,\"fTimeDisplay\":false,\"fTimeFormat\":\"\",\"fLabels\":null,\"fModLabs\":null},\"fBarOffset\":0,\"fBarWidth\":1000,\"fEntries\":5177,\"fTsumw\":5177,\"fTsumw2\":5177,\"fTsumwx\":4717.0284679705,\"fTsumwx2\":4320.87346153959,\"fMaximum\":-1111,\"fMinimum\":-1111,\"fNormFactor\":0,\"fContour\":[],\"fSumw2\":[],\"fOption\":\"\",\"fFunctions\":{\"_typename\":\"TList\",\"name\":\"TList\",\"arr\":[],\"opt\":[]},\"fBufferSize\":0,\"fBuffer\":[],\"fBinStatErrOpt\":0,\"fStatOverflows\":2,\"fArray\":[0,0,0,0,0,0,0,0,0,0,0,0,0,0,0,0,0,0,0,0,0,0,0,0,0,0,0,0,0,0,0,0,1,2,1,0,1,1,1,2,2,2,3,3,6,5,1,3,2,3,5,3,6,3,7,7,6,6,12,15,16,11,25,19,31,25,32,43,42,50,68,72,78,134,158,181,232,276,348,328,331,315,290,228,203,167,151,108,96,86,66,47,60,53,37,43,34,35,31,34,38,26,24,19,20,21,25,6,19,20,13,12,7,15,16,16,7,12,5,10,15,6,10,9,11,5,9,6,5,7,6,6,7,6,9,7,4,5,5,7,8,0,0,0,0,0,0,0,0,0,0,0,0,0,0,0,0,0,0,0,0,0,0,0,0,0,0,0,0,0,0,0,0,0,0,0,0,0,0,0,0,0,0,0,0,0,0,0,0,0,0,0,0,0,0,0,0,0,0,0,0,0,0,0,0,0,0,0,0,0,0,0,0,0,0,0,0,0,0,0,0,0,0,0,0,0,0,0,0,0,0,0,0,0,0,0,0,0,0,0,0,0,0,0,0,0,0,0,0,0,0,0,0,0,0,0,0,0,0,0,0,0,0,0,0,0,0,0,0,0,0,0,0,0,0,0,0,0,0,0,0,0,0,0,0,0,0,0,0,0,0,0,0,0,0,0,0,0,0,0,0,0]},{\"_typename\":\"TLegend\",\"fUniqueID\":0,\"fBits\":8,\"fLineColor\":1,\"fLineStyle\":1,\"fLineWidth\":1,\"fFillColor\":0,\"fFillStyle\":1001,\"fX1\":1.25,\"fY1\":1234.80000613332,\"fX2\":2.00000001117587,\"fY2\":1646.40001226664,\"fX1NDC\":0.5,\"fY1NDC\":0.7,\"fX2NDC\":0.9,\"fY2NDC\":0.9,\"fBorderSize\":1,\"fInit\":1,\"fShadowColor\":1,\"fCornerRadius\":0,\"fOption\":\"brNDC\",\"fName\":\"TPave\",\"fTextAngle\":0,\"fTextSize\":0,\"fTextAlign\":12,\"fTextColor\":1,\"fTextFont\":42,\"fPrimitives\":{\"_typename\":\"TList\",\"name\":\"TList\",\"arr\":[{\"_typename\":\"TLegendEntry\",\"fUniqueID\":0,\"fBits\":0,\"fTextAngle\":0,\"fTextSize\":0,\"fTextAlign\":0,\"fTextColor\":0,\"fTextFont\":42,\"fLineColor\":602,\"fLineStyle\":1,\"fLineWidth\":2,\"fFillColor\":0,\"fFillStyle\":1001,\"fMarkerColor\":1,\"fMarkerStyle\":1,\"fMarkerSize\":1,\"fObject\":{\"$ref\":3},\"fLabel\":\"all #pi^{-}K^{+} pairs\",\"fOption\":\"lpf\"},{\"_typename\":\"TLegendEntry\",\"fUniqueID\":0,\"fBits\":0,\"fTextAngle\":0,\"fTextSize\":0,\"fTextAlign\":0,\"fTextColor\":0,\"fTextFont\":42,\"fLineColor\":632,\"fLineStyle\":1,\"fLineWidth\":2,\"fFillColor\":0,\"fFillStyle\":1001,\"fMarkerColor\":1,\"fMarkerStyle\":1,\"fMarkerSize\":1,\"fObject\":{\"$ref\":8},\"fLabel\":\"#pi^{-}K^{+} pairs from K^{*} decay\",\"fOption\":\"lpf\"}],\"opt\":[\"lpf\",\"lpf\"]},\"fEntrySeparation\":0.1,\"fMargin\":0.25,\"fNColumns\":1,\"fColumnSeparation\":0},{\"_typename\":\"TStyle\",\"fUniqueID\":0,\"fBits\":0,\"fName\":\"Modern\",\"fTitle\":\"Modern Style\",\"fLineColor\":1,\"fLineStyle\":1,\"fLineWidth\":1,\"fFillColor\":19,\"fFillStyle\":1001,\"fMarkerColor\":1,\"fMarkerStyle\":1,\"fMarkerSize\":1,\"fTextAngle\":0,\"fTextSize\":0.05,\"fTextAlign\":11,\"fTextColor\":1,\"fTextFont\":62,\"fXaxis\":{\"_typename\":\"TAttAxis\",\"fNdivisions\":510,\"fAxisColor\":1,\"fLabelColor\":1,\"fLabelFont\":42,\"fLabelOffset\":0.005,\"fLabelSize\":0.035,\"fTickLength\":0.03,\"fTitleOffset\":1,\"fTitleSize\":0.035,\"fTitleColor\":1,\"fTitleFont\":42},\"fYaxis\":{\"_typename\":\"TAttAxis\",\"fNdivisions\":510,\"fAxisColor\":1,\"fLabelColor\":1,\"fLabelFont\":42,\"fLabelOffset\":0.005,\"fLabelSize\":0.035,\"fTickLength\":0.03,\"fTitleOffset\":0,\"fTitleSize\":0.035,\"fTitleColor\":1,\"fTitleFont\":42},\"fZaxis\":{\"_typename\":\"TAttAxis\",\"fNdivisions\":510,\"fAxisColor\":1,\"fLabelColor\":1,\"fLabelFont\":42,\"fLabelOffset\":0.005,\"fLabelSize\":0.035,\"fTickLength\":0.03,\"fTitleOffset\":1,\"fTitleSize\":0.035,\"fTitleColor\":1,\"fTitleFont\":42},\"fBarWidth\":1,\"fBarOffset\":0,\"fColorModelPS\":0,\"fDrawBorder\":0,\"fOptLogx\":0,\"fOptLogy\":0,\"fOptLogz\":0,\"fOptDate\":0,\"fOptStat\":0,\"fOptTitle\":1,\"fOptFile\":0,\"fOptFit\":0,\"fShowEventStatus\":0,\"fShowEditor\":0,\"fShowToolBar\":0,\"fNumberContours\":20,\"fAttDate\":{\"_typename\":\"TAttText\",\"fTextAngle\":0,\"fTextSize\":0.025,\"fTextAlign\":11,\"fTextColor\":1,\"fTextFont\":62},\"fDateX\":0.01,\"fDateY\":0.01,\"fEndErrorSize\":2,\"fErrorX\":0.5,\"fFuncColor\":2,\"fFuncStyle\":1,\"fFuncWidth\":2,\"fGridColor\":0,\"fGridStyle\":3,\"fGridWidth\":1,\"fLegendBorderSize\":1,\"fLegendFillColor\":0,\"fLegendFont\":42,\"fLegendTextSize\":0,\"fHatchesLineWidth\":1,\"fHatchesSpacing\":1,\"fFrameFillColor\":0,\"fFrameLineColor\":1,\"fFrameFillStyle\":1001,\"fFrameLineStyle\":1,\"fFrameLineWidth\":1,\"fFrameBorderSize\":1,\"fFrameBorderMode\":0,\"fHistFillColor\":0,\"fHistLineColor\":602,\"fHistFillStyle\":1001,\"fHistLineStyle\":1,\"fHistLineWidth\":1,\"fHistMinimumZero\":false,\"fHistTopMargin\":0.05,\"fCanvasPreferGL\":false,\"fCanvasColor\":0,\"fCanvasBorderSize\":2,\"fCanvasBorderMode\":0,\"fCanvasDefH\":500,\"fCanvasDefW\":700,\"fCanvasDefX\":10,\"fCanvasDefY\":10,\"fPadColor\":0,\"fPadBorderSize\":2,\"fPadBorderMode\":0,\"fPadBottomMargin\":0.1,\"fPadTopMargin\":0.1,\"fPadLeftMargin\":0.1,\"fPadRightMargin\":0.1,\"fPadGridX\":false,\"fPadGridY\":false,\"fPadTickX\":0,\"fPadTickY\":0,\"fPaperSizeX\":20,\"fPaperSizeY\":26,\"fScreenFactor\":1,\"fStatColor\":0,\"fStatTextColor\":1,\"fStatBorderSize\":1,\"fStatFont\":42,\"fStatFontSize\":0,\"fStatStyle\":1001,\"fStatFormat\":\"6.4g\",\"fStatX\":0.98,\"fStatY\":0.935,\"fStatW\":0.2,\"fStatH\":0.16,\"fStripDecimals\":true,\"fTitleAlign\":23,\"fTitleColor\":0,\"fTitleTextColor\":1,\"fTitleBorderSize\":0,\"fTitleFont\":42,\"fTitleFontSize\":0.05,\"fTitleStyle\":0,\"fTitleX\":0.5,\"fTitleY\":0.995,\"fTitleW\":0,\"fTitleH\":0,\"fLegoInnerR\":0.5,\"fLineStyle\":[\"\",\"  \",\" 12 12\",\" 4 8\",\" 12 16 4 16\",\" 20 12 4 12\",\" 20 12 4 12 4 12 4 12\",\" 20 20\",\" 20 12 4 12 4 12\",\" 80 20\",\" 80 40 4 40\",\"  \",\"  \",\"  \",\"  \",\"  \",\"  \",\"  \",\"  \",\"  \",\"  \",\"  \",\"  \",\"  \",\"  \",\"  \",\"  \",\"  \",\"  \",\"  \"],\"fHeaderPS\":\"\",\"fTitlePS\":\"\",\"fFitFormat\":\"5.4g\",\"fPaintTextFormat\":\"g\",\"fLineScalePS\":3,\"fJoinLinePS\":0,\"fCapLinePS\":0,\"fTimeOffset\":788918400,\"fImageScaling\":1}],\"opt\":[\"\",\"\",\"same\",\"\",\"\"]},\"fExecs\":null,\"fName\":\"c\",\"fTitle\":\"\",\"fNumPaletteColor\":0,\"fNextPaletteColor\":0,\"fDISPLAY\":\"$DISPLAY\",\"fDoubleBuffer\":0,\"fRetained\":true,\"fXsizeUser\":0,\"fYsizeUser\":0,\"fXsizeReal\":20,\"fYsizeReal\":15,\"fWindowTopX\":0,\"fWindowTopY\":0,\"fWindowWidth\":0,\"fWindowHeight\":0,\"fCw\":1020,\"fCh\":740,\"fCatt\":{\"_typename\":\"TAttCanvas\",\"fXBetween\":2,\"fYBetween\":2,\"fTitleFromTop\":1.2,\"fXdate\":0.2,\"fYdate\":0.3,\"fAdate\":1},\"kMoveOpaque\":true,\"kResizeOpaque\":true,\"fHighLightColor\":2,\"fBatch\":true,\"kShowEventStatus\":false,\"kAutoExec\":true,\"kMenuBar\":true});\n",
       "   Core.settings.HandleKeys = false;\n",
       "   Core.draw(\"root_plot_1645123714159\", obj, \"\");\n",
       "}\n",
       "\n",
       "function script_load_root_plot_1645123714159(src, on_error) {\n",
       "    let script = document.createElement('script');\n",
       "    script.src = src;\n",
       "    script.onload = function() { display_root_plot_1645123714159(JSROOT); };\n",
       "    script.onerror = function() { script.remove(); on_error(); };\n",
       "    document.head.appendChild(script);\n",
       "}\n",
       "\n",
       "if (typeof requirejs !== 'undefined') {\n",
       "\n",
       "    // We are in jupyter notebooks, use require.js which should be configured already\n",
       "    requirejs.config({\n",
       "       paths: { 'JSRootCore' : [ 'scripts/JSRoot.core', 'https://root.cern/js/6.1.1/scripts/JSRoot.core.min', 'https://jsroot.gsi.de/6.1.1/scripts/JSRoot.core.min' ] }\n",
       "    })(['JSRootCore'],  function(Core) {\n",
       "       display_root_plot_1645123714159(Core);\n",
       "    });\n",
       "\n",
       "} else if (typeof JSROOT !== 'undefined') {\n",
       "\n",
       "   // JSROOT already loaded, just use it\n",
       "   display_root_plot_1645123714159(JSROOT);\n",
       "\n",
       "} else {\n",
       "\n",
       "    // We are in jupyterlab without require.js, directly loading jsroot\n",
       "    // Jupyterlab might be installed in a different base_url so we need to know it.\n",
       "    try {\n",
       "        var base_url = JSON.parse(document.getElementById('jupyter-config-data').innerHTML).baseUrl;\n",
       "    } catch(_) {\n",
       "        var base_url = '/';\n",
       "    }\n",
       "\n",
       "    // Try loading a local version of requirejs and fallback to cdn if not possible.\n",
       "    script_load_root_plot_1645123714159(base_url + 'static/scripts/JSRoot.core.js', function(){\n",
       "        console.error('Fail to load JSROOT locally, please check your jupyter_notebook_config.py file');\n",
       "        script_load_root_plot_1645123714159('https://root.cern/js/6.1.1/scripts/JSRoot.core.min.js', function(){\n",
       "            document.getElementById(\"root_plot_1645123714159\").innerHTML = \"Failed to load JSROOT\";\n",
       "        });\n",
       "    });\n",
       "}\n",
       "\n",
       "</script>\n"
      ],
      "text/plain": [
       "<IPython.core.display.HTML object>"
      ]
     },
     "metadata": {},
     "output_type": "display_data"
    }
   ],
   "source": [
    "nEvents=10000\n",
    "h=ROOT.TH1D(\"h_all\",\"\",300,0.5,2)\n",
    "hpure=ROOT.TH1D(\"h_pure\",\"\",300,0.5,2)\n",
    "\n",
    "def getKstarCandidates(parts):\n",
    "    pim = [p for p in parts if isFinal(p,\"pi-\")]\n",
    "    kp = [p for p in parts if isFinal(p,\"K+\")]\n",
    "    return list(it.product(pim,kp))\n",
    "\n",
    "\n",
    "for i in range(nEvents):\n",
    "    pythia.GenerateEvent()\n",
    "    pythia.ImportParticles(particles,\"All\")\n",
    "    #for all possible pi- K+ pairs we fill invariant mass histogram\n",
    "    for pair in getKstarCandidates(particles):\n",
    "        h.Fill(getMinv(pair))\n",
    "    #now we look for actual K*'s that decayed:\n",
    "    for p in particles:\n",
    "        if p.GetName()==\"K*0\":\n",
    "            #we accept K* only if it decayed to pion and kaon\n",
    "            d0=particles[p.GetDaughter(0)].GetName()\n",
    "            d1=particles[p.GetDaughter(1)].GetName()\n",
    "            if {d0,d1} != {\"pi-\",\"K+\"}:\n",
    "                continue\n",
    "            p4=ROOT.TLorentzVector()\n",
    "            p.Momentum(p4)\n",
    "            hpure.Fill(p4.M())\n",
    "\n",
    "\n",
    "c_kstar = ROOT.TCanvas(\"c\",\"\",1024,768)\n",
    "ROOT.gStyle.SetOptStat(0)\n",
    "h.GetXaxis().SetTitle(\"M_{#pi^{-}K^{+}} [GeV/#it{c}^{2}]\")\n",
    "h.GetXaxis().SetTitleOffset(1.1)\n",
    "h.GetYaxis().SetTitle(\"Entries\")\n",
    "h.SetLineWidth(2)\n",
    "h.Draw()\n",
    "hpure.SetLineWidth(2)\n",
    "hpure.SetLineColor(ROOT.kRed)\n",
    "hpure.Draw(\"same\")\n",
    "leg=ROOT.TLegend(0.5,0.7,0.9,0.9)\n",
    "leg.AddEntry(h,\"all #pi^{-}K^{+} pairs\")\n",
    "leg.AddEntry(hpure,\"#pi^{-}K^{+} pairs from K^{*} decay\")\n",
    "leg.Draw()\n",
    "c_kstar.Draw()"
   ]
  },
  {
   "cell_type": "code",
   "execution_count": 66,
   "metadata": {},
   "outputs": [],
   "source": [
    "nEvents=10000\n",
    "\n",
    "#your solution goes here\n",
    "\n",
    "for i in range(nEvents):\n",
    "    pythia.GenerateEvent()\n",
    "    pythia.ImportParticles(particles,\"All\")"
   ]
  },
  {
   "cell_type": "markdown",
   "metadata": {
    "tags": []
   },
   "source": [
    "## $Z$ boson production in $p+\\bar{p}$ collisions"
   ]
  },
  {
   "cell_type": "markdown",
   "metadata": {},
   "source": [
    "### Generate 10000 $p+\\bar{p}$ events at 630 GeV of $Z$ production ($Z$ discovery at CERN SPS)."
   ]
  },
  {
   "cell_type": "markdown",
   "metadata": {},
   "source": [
    "Setup:\n",
    "* in order to look at $Z$ boson production we limit physics list of Pythia8 to include only hard $f\\bar{f}\\to Z \\to f\\bar{f}$ processes\n",
    "* moreover, we will disable all $Z$ decay modes other than $Z\\to e^+e^-$, in which the particle was discovered\n",
    "* to speed up the simulation we disable hadronisation (we are interested only in leptonic final states)\n",
    "* we also limit phase space to $\\pm 20$ GeV around the $Z$ resonance\n",
    "To do:\n",
    "* select candidates for products of $Z$ decay in each event and plot their invariant mass distribution in range 70-110 GeV\n",
    "* check influence of final state radiation on the spectrum - generate additional 10000 events with FSR turned off\n",
    "* normalize histograms so that their maxima are at $1$\n",
    "* draw both distributions (as a histograms, option `\"hist\"`) on the same plot with axis labels and a legend"
   ]
  },
  {
   "cell_type": "code",
   "execution_count": 18,
   "metadata": {
    "collapsed": true,
    "jupyter": {
     "outputs_hidden": true,
     "source_hidden": true
    },
    "tags": []
   },
   "outputs": [
    {
     "name": "stdout",
     "output_type": "stream",
     "text": [
      " *** TDatabasePDG::AddParticle: particle with PDGcode=90 already defined\n",
      " *** TDatabasePDG::AddParticle: particle with PDGcode=9900110 already defined\n",
      " *** TDatabasePDG::AddParticle: particle with PDGcode=9900210 already defined\n",
      " *** TDatabasePDG::AddParticle: particle with PDGcode=9900220 already defined\n",
      " *** TDatabasePDG::AddParticle: particle with PDGcode=9900330 already defined\n",
      " *** TDatabasePDG::AddParticle: particle with PDGcode=9900440 already defined\n",
      " *** TDatabasePDG::AddParticle: particle with PDGcode=9902110 already defined\n",
      " *** TDatabasePDG::AddParticle: particle with PDGcode=9902210 already defined\n",
      " PYTHIA Warning in JunctionSplitting::SplitJunPairs: parallel junction state not allowed.  \n",
      " PYTHIA Warning in JunctionSplitting::CheckColours: Not possible to split junctions; making new colours  \n",
      " PYTHIA Error in BeamRemnants::add: failed to find physical colour state after colour reconnection  \n",
      "\n",
      " Pythia::next(): 1000 events have been generated \n",
      "\n",
      " Pythia::next(): 2000 events have been generated \n",
      "\n",
      " Pythia::next(): 3000 events have been generated \n",
      " PYTHIA Error in SimpleSpaceShower::pT2nearThreshold: stuck in loop  \n",
      " PYTHIA Warning in MultipartonInteractions::pTnext: weight above unity  \n",
      "\n",
      " Pythia::next(): 4000 events have been generated \n",
      " PYTHIA Warning in SimpleSpaceShower::pT2nextQCD: weight above unity  \n",
      "\n",
      " Pythia::next(): 5000 events have been generated \n",
      " PYTHIA Error in BeamRemnants::setKinematics: kinematics construction failed  \n",
      "\n",
      " Pythia::next(): 6000 events have been generated \n",
      "\n",
      " Pythia::next(): 7000 events have been generated \n",
      "\n",
      " Pythia::next(): 8000 events have been generated \n",
      "\n",
      " Pythia::next(): 9000 events have been generated \n",
      " *** TDatabasePDG::AddParticle: particle with PDGcode=90 already defined\n",
      " *** TDatabasePDG::AddParticle: particle with PDGcode=9900110 already defined\n",
      " *** TDatabasePDG::AddParticle: particle with PDGcode=9900210 already defined\n",
      " *** TDatabasePDG::AddParticle: particle with PDGcode=9900220 already defined\n",
      " *** TDatabasePDG::AddParticle: particle with PDGcode=9900330 already defined\n",
      " *** TDatabasePDG::AddParticle: particle with PDGcode=9900440 already defined\n",
      " *** TDatabasePDG::AddParticle: particle with PDGcode=9902110 already defined\n",
      " *** TDatabasePDG::AddParticle: particle with PDGcode=9902210 already defined\n",
      " PYTHIA Warning in JunctionSplitting::SplitJunPairs: parallel junction state not allowed.  \n",
      " PYTHIA Warning in JunctionSplitting::CheckColours: Not possible to split junctions; making new colours  \n",
      " PYTHIA Error in BeamRemnants::add: failed to find physical colour state after colour reconnection  \n",
      "\n",
      " Pythia::next(): 1000 events have been generated \n",
      " PYTHIA Error in BeamRemnants::setKinematics: kinematics construction failed  \n",
      "\n",
      " Pythia::next(): 2000 events have been generated \n",
      "\n",
      " Pythia::next(): 3000 events have been generated \n",
      "\n",
      " Pythia::next(): 4000 events have been generated \n",
      "\n",
      " Pythia::next(): 5000 events have been generated \n",
      "\n",
      " Pythia::next(): 6000 events have been generated \n",
      "\n",
      " Pythia::next(): 7000 events have been generated \n",
      "\n",
      " Pythia::next(): 8000 events have been generated \n",
      "\n",
      " Pythia::next(): 9000 events have been generated \n"
     ]
    },
    {
     "name": "stderr",
     "output_type": "stream",
     "text": [
      "Warning in <TROOT::Append>: Replacing existing TH1: h_rad (Potential memory leak).\n",
      "Warning in <TROOT::Append>: Replacing existing TH1: h_norad (Potential memory leak).\n",
      "Warning in <TCanvas::Constructor>: Deleting canvas with same name: cz\n"
     ]
    },
    {
     "data": {
      "text/html": [
       "\n",
       "\n",
       "<div id=\"root_plot_1645124185158\"\n",
       "     style=\"width: 1020px; height: 740px\">\n",
       "</div>\n",
       "<script>\n",
       "\n",
       "function display_root_plot_1645124185158(Core) {\n",
       "   let obj = Core.parse({\"_typename\":\"TCanvas\",\"fUniqueID\":0,\"fBits\":3342344,\"fLineColor\":1,\"fLineStyle\":1,\"fLineWidth\":1,\"fFillColor\":0,\"fFillStyle\":1001,\"fLeftMargin\":0.1,\"fRightMargin\":0.1,\"fBottomMargin\":0.1,\"fTopMargin\":0.1,\"fXfile\":2,\"fYfile\":2,\"fAfile\":1,\"fXstat\":0.99,\"fYstat\":0.99,\"fAstat\":2,\"fFrameFillColor\":0,\"fFrameLineColor\":1,\"fFrameFillStyle\":1001,\"fFrameLineStyle\":1,\"fFrameLineWidth\":1,\"fFrameBorderSize\":1,\"fFrameBorderMode\":0,\"fX1\":64.9999996274709,\"fY1\":-0.131250009778888,\"fX2\":115.000000372529,\"fY2\":1.18125000977889,\"fXtoAbsPixelk\":-1325.99992264147,\"fXtoPixelk\":-1325.99992264147,\"fXtoPixel\":20.3999996960163,\"fYtoAbsPixelk\":666.000045589256,\"fYtoPixelk\":666.000045589256,\"fYtoPixel\":-563.809515408107,\"fUtoAbsPixelk\":5e-5,\"fUtoPixelk\":5e-5,\"fUtoPixel\":1020,\"fVtoAbsPixelk\":740.00005,\"fVtoPixelk\":740,\"fVtoPixel\":-740,\"fAbsPixeltoXk\":64.9999996274709,\"fPixeltoXk\":64.9999996274709,\"fPixeltoX\":0.0490196085735864,\"fAbsPixeltoYk\":1.18125000977889,\"fPixeltoYk\":-0.131250009778888,\"fPixeltoY\":-0.00177364867507807,\"fXlowNDC\":0,\"fYlowNDC\":0,\"fXUpNDC\":1,\"fYUpNDC\":1,\"fWNDC\":1,\"fHNDC\":1,\"fAbsXlowNDC\":0,\"fAbsYlowNDC\":0,\"fAbsWNDC\":1,\"fAbsHNDC\":1,\"fUxmin\":70,\"fUymin\":0,\"fUxmax\":110,\"fUymax\":1.05,\"fTheta\":30,\"fPhi\":30,\"fAspectRatio\":0,\"fNumber\":0,\"fTickx\":0,\"fTicky\":0,\"fLogx\":0,\"fLogy\":0,\"fLogz\":0,\"fPadPaint\":0,\"fCrosshair\":0,\"fCrosshairPos\":0,\"fBorderSize\":2,\"fBorderMode\":0,\"fModified\":false,\"fGridx\":false,\"fGridy\":false,\"fAbsCoord\":false,\"fEditable\":true,\"fFixedAspectRatio\":false,\"fPrimitives\":{\"_typename\":\"TList\",\"name\":\"TList\",\"arr\":[{\"_typename\":\"TFrame\",\"fUniqueID\":0,\"fBits\":8,\"fLineColor\":1,\"fLineStyle\":1,\"fLineWidth\":1,\"fFillColor\":0,\"fFillStyle\":1001,\"fX1\":70,\"fY1\":0,\"fX2\":110,\"fY2\":1.05,\"fBorderSize\":1,\"fBorderMode\":0},{\"_typename\":\"TH1D\",\"fUniqueID\":0,\"fBits\":520,\"fName\":\"h_norad\",\"fTitle\":\"\",\"fLineColor\":632,\"fLineStyle\":1,\"fLineWidth\":2,\"fFillColor\":0,\"fFillStyle\":1001,\"fMarkerColor\":1,\"fMarkerStyle\":1,\"fMarkerSize\":1,\"fNcells\":202,\"fXaxis\":{\"_typename\":\"TAxis\",\"fUniqueID\":0,\"fBits\":0,\"fName\":\"xaxis\",\"fTitle\":\"M_{e^{+}e^{-}}\",\"fNdivisions\":510,\"fAxisColor\":1,\"fLabelColor\":1,\"fLabelFont\":42,\"fLabelOffset\":0.005,\"fLabelSize\":0.035,\"fTickLength\":0.03,\"fTitleOffset\":1.4,\"fTitleSize\":0.035,\"fTitleColor\":1,\"fTitleFont\":42,\"fNbins\":200,\"fXmin\":70,\"fXmax\":110,\"fXbins\":[],\"fFirst\":0,\"fLast\":0,\"fBits2\":0,\"fTimeDisplay\":false,\"fTimeFormat\":\"\",\"fLabels\":null,\"fModLabs\":null},\"fYaxis\":{\"_typename\":\"TAxis\",\"fUniqueID\":0,\"fBits\":0,\"fName\":\"yaxis\",\"fTitle\":\"entries\",\"fNdivisions\":510,\"fAxisColor\":1,\"fLabelColor\":1,\"fLabelFont\":42,\"fLabelOffset\":0.005,\"fLabelSize\":0.035,\"fTickLength\":0.03,\"fTitleOffset\":0,\"fTitleSize\":0.035,\"fTitleColor\":1,\"fTitleFont\":42,\"fNbins\":1,\"fXmin\":0,\"fXmax\":1,\"fXbins\":[],\"fFirst\":0,\"fLast\":0,\"fBits2\":0,\"fTimeDisplay\":false,\"fTimeFormat\":\"\",\"fLabels\":null,\"fModLabs\":null},\"fZaxis\":{\"_typename\":\"TAxis\",\"fUniqueID\":0,\"fBits\":0,\"fName\":\"zaxis\",\"fTitle\":\"\",\"fNdivisions\":510,\"fAxisColor\":1,\"fLabelColor\":1,\"fLabelFont\":42,\"fLabelOffset\":0.005,\"fLabelSize\":0.035,\"fTickLength\":0.03,\"fTitleOffset\":1,\"fTitleSize\":0.035,\"fTitleColor\":1,\"fTitleFont\":42,\"fNbins\":1,\"fXmin\":0,\"fXmax\":1,\"fXbins\":[],\"fFirst\":0,\"fLast\":0,\"fBits2\":0,\"fTimeDisplay\":false,\"fTimeFormat\":\"\",\"fLabels\":null,\"fModLabs\":null},\"fBarOffset\":0,\"fBarWidth\":1000,\"fEntries\":10000,\"fTsumw\":18.5873605947955,\"fTsumw2\":0.0345489973880958,\"fTsumwx\":1686.04712036638,\"fTsumwx2\":153291.125377438,\"fMaximum\":-1111,\"fMinimum\":-1111,\"fNormFactor\":0,\"fContour\":[],\"fSumw2\":[0,2.07293984328575e-5,6.90979947761916e-6,1.38195989552383e-5,1.72744986940479e-5,2.41842981716671e-5,2.07293984328575e-5,1.38195989552383e-5,1.38195989552383e-5,1.72744986940479e-5,3.80038971269054e-5,6.90979947761916e-6,3.10940976492862e-5,1.72744986940479e-5,1.38195989552383e-5,1.72744986940479e-5,1.03646992164287e-5,1.72744986940479e-5,6.90979947761916e-6,2.41842981716671e-5,1.72744986940479e-5,2.07293984328575e-5,2.07293984328575e-5,2.76391979104766e-5,6.90979947761916e-6,2.41842981716671e-5,1.38195989552383e-5,1.72744986940479e-5,2.41842981716671e-5,3.10940976492862e-5,2.41842981716671e-5,1.03646992164287e-5,3.10940976492862e-5,1.38195989552383e-5,3.10940976492862e-5,3.80038971269054e-5,3.10940976492862e-5,1.72744986940479e-5,4.49136966045245e-5,2.41842981716671e-5,4.1458796865715e-5,3.80038971269054e-5,1.38195989552383e-5,3.45489973880958e-5,3.80038971269054e-5,2.41842981716671e-5,2.07293984328575e-5,4.1458796865715e-5,3.45489973880958e-5,3.10940976492862e-5,3.80038971269054e-5,2.41842981716671e-5,3.80038971269054e-5,3.45489973880958e-5,2.41842981716671e-5,3.45489973880958e-5,4.83685963433341e-5,5.18234960821437e-5,3.80038971269054e-5,3.80038971269054e-5,3.80038971269054e-5,2.76391979104766e-5,3.80038971269054e-5,4.1458796865715e-5,4.49136966045245e-5,6.21881952985724e-5,5.52783958209533e-5,4.83685963433341e-5,7.25528945150012e-5,3.80038971269054e-5,5.87332955597628e-5,5.52783958209533e-5,5.87332955597628e-5,3.45489973880958e-5,6.21881952985724e-5,8.98273932090491e-5,9.32822929478586e-5,5.18234960821437e-5,9.67371926866682e-5,1.20921490858335e-4,9.32822929478586e-5,1.24376390597145e-4,1.6238028772405e-4,1.20921490858335e-4,1.24376390597145e-4,1.52015588507621e-4,1.6238028772405e-4,1.96929285112146e-4,2.4875278119429e-4,2.31478282500242e-4,2.4875278119429e-4,3.42035074142148e-4,2.28023382761432e-4,3.90403670485483e-4,3.55854673097387e-4,4.18042868395959e-4,4.73321264216912e-4,5.52783958209533e-4,6.70250549329058e-4,8.2226613783668e-4,9.08638631306919e-4,0.00105374442033692,0.00119885020936692,0.00135086579787455,0.00149597158690455,0.00174126946836003,0.00185873605947955,0.00176199886679289,0.00165489697488979,0.00156506958168074,0.00128867760257597,0.0011539365127624,9.95011124777159e-4,7.3934854410525e-4,7.3934854410525e-4,6.49521150896201e-4,5.18234960821437e-4,4.28407567612388e-4,4.18042868395959e-4,3.21305675709291e-4,2.72937079365957e-4,2.24568483022623e-4,2.62572380149528e-4,2.07293984328575e-4,1.72744986940479e-4,2.17658683545003e-4,1.48560688768812e-4,1.38195989552383e-4,1.24376390597145e-4,1.6238028772405e-4,1.07101891903097e-4,1.17466591119526e-4,1.00192092425478e-4,4.49136966045245e-5,7.94626939926203e-5,8.63724934702395e-5,6.21881952985724e-5,6.21881952985724e-5,7.25528945150012e-5,6.21881952985724e-5,4.83685963433341e-5,3.80038971269054e-5,7.25528945150012e-5,2.76391979104766e-5,4.1458796865715e-5,4.1458796865715e-5,4.83685963433341e-5,2.41842981716671e-5,3.45489973880958e-5,4.49136966045245e-5,2.41842981716671e-5,2.07293984328575e-5,3.45489973880958e-5,1.72744986940479e-5,4.1458796865715e-5,4.1458796865715e-5,1.03646992164287e-5,2.41842981716671e-5,6.90979947761916e-6,2.41842981716671e-5,1.03646992164287e-5,1.72744986940479e-5,2.76391979104766e-5,2.41842981716671e-5,1.03646992164287e-5,1.38195989552383e-5,2.41842981716671e-5,1.72744986940479e-5,1.03646992164287e-5,2.07293984328575e-5,1.38195989552383e-5,1.38195989552383e-5,1.03646992164287e-5,6.90979947761916e-6,3.45489973880958e-6,1.72744986940479e-5,2.41842981716671e-5,1.38195989552383e-5,3.45489973880958e-6,1.72744986940479e-5,3.45489973880958e-6,1.03646992164287e-5,1.03646992164287e-5,3.45489973880958e-6,1.72744986940479e-5,0,1.03646992164287e-5,0,1.38195989552383e-5,2.07293984328575e-5,2.07293984328575e-5,1.03646992164287e-5,1.03646992164287e-5,1.03646992164287e-5,6.90979947761916e-6,6.90979947761916e-6,1.38195989552383e-5,1.03646992164287e-5,3.45489973880958e-6,1.72744986940479e-5,1.72744986940479e-5,0],\"fOption\":\"\",\"fFunctions\":{\"_typename\":\"TList\",\"name\":\"TList\",\"arr\":[],\"opt\":[]},\"fBufferSize\":0,\"fBuffer\":[],\"fBinStatErrOpt\":0,\"fStatOverflows\":2,\"fArray\":[0,0.0111524163568773,0.00371747211895911,0.00743494423791822,0.00929368029739777,0.0130111524163569,0.0111524163568773,0.00743494423791822,0.00743494423791822,0.00929368029739777,0.0204460966542751,0.00371747211895911,0.016728624535316,0.00929368029739777,0.00743494423791822,0.00929368029739777,0.00557620817843866,0.00929368029739777,0.00371747211895911,0.0130111524163569,0.00929368029739777,0.0111524163568773,0.0111524163568773,0.0148698884758364,0.00371747211895911,0.0130111524163569,0.00743494423791822,0.00929368029739777,0.0130111524163569,0.016728624535316,0.0130111524163569,0.00557620817843866,0.016728624535316,0.00743494423791822,0.016728624535316,0.0204460966542751,0.016728624535316,0.00929368029739777,0.0241635687732342,0.0130111524163569,0.0223048327137546,0.0204460966542751,0.00743494423791822,0.0185873605947955,0.0204460966542751,0.0130111524163569,0.0111524163568773,0.0223048327137546,0.0185873605947955,0.016728624535316,0.0204460966542751,0.0130111524163569,0.0204460966542751,0.0185873605947955,0.0130111524163569,0.0185873605947955,0.0260223048327138,0.0278810408921933,0.0204460966542751,0.0204460966542751,0.0204460966542751,0.0148698884758364,0.0204460966542751,0.0223048327137546,0.0241635687732342,0.033457249070632,0.0297397769516729,0.0260223048327138,0.0390334572490706,0.0204460966542751,0.0315985130111524,0.0297397769516729,0.0315985130111524,0.0185873605947955,0.033457249070632,0.0483271375464684,0.050185873605948,0.0278810408921933,0.0520446096654275,0.0650557620817844,0.050185873605948,0.0669144981412639,0.087360594795539,0.0650557620817844,0.0669144981412639,0.0817843866171004,0.087360594795539,0.105947955390335,0.133828996282528,0.12453531598513,0.133828996282528,0.184014869888476,0.122676579925651,0.21003717472119,0.191449814126394,0.224907063197026,0.254646840148699,0.297397769516729,0.360594795539033,0.442379182156134,0.488847583643123,0.566914498141264,0.644981412639405,0.726765799256506,0.804832713754647,0.936802973977695,1,0.947955390334572,0.890334572490706,0.842007434944238,0.693308550185874,0.620817843866171,0.535315985130111,0.397769516728625,0.397769516728625,0.349442379182156,0.278810408921933,0.230483271375465,0.224907063197026,0.172862453531599,0.146840148698885,0.120817843866171,0.141263940520446,0.111524163568773,0.0929368029739777,0.117100371747212,0.0799256505576208,0.0743494423791821,0.0669144981412639,0.087360594795539,0.0576208178438662,0.0631970260223048,0.0539033457249071,0.0241635687732342,0.0427509293680297,0.0464684014869888,0.033457249070632,0.033457249070632,0.0390334572490706,0.033457249070632,0.0260223048327138,0.0204460966542751,0.0390334572490706,0.0148698884758364,0.0223048327137546,0.0223048327137546,0.0260223048327138,0.0130111524163569,0.0185873605947955,0.0241635687732342,0.0130111524163569,0.0111524163568773,0.0185873605947955,0.00929368029739777,0.0223048327137546,0.0223048327137546,0.00557620817843866,0.0130111524163569,0.00371747211895911,0.0130111524163569,0.00557620817843866,0.00929368029739777,0.0148698884758364,0.0130111524163569,0.00557620817843866,0.00743494423791822,0.0130111524163569,0.00929368029739777,0.00557620817843866,0.0111524163568773,0.00743494423791822,0.00743494423791822,0.00557620817843866,0.00371747211895911,0.00185873605947955,0.00929368029739777,0.0130111524163569,0.00743494423791822,0.00185873605947955,0.00929368029739777,0.00185873605947955,0.00557620817843866,0.00557620817843866,0.00185873605947955,0.00929368029739777,0,0.00557620817843866,0,0.00743494423791822,0.0111524163568773,0.0111524163568773,0.00557620817843866,0.00557620817843866,0.00557620817843866,0.00371747211895911,0.00371747211895911,0.00743494423791822,0.00557620817843866,0.00185873605947955,0.00929368029739777,0.00929368029739777,0]},{\"_typename\":\"TH1D\",\"fUniqueID\":0,\"fBits\":520,\"fName\":\"h_rad\",\"fTitle\":\"\",\"fLineColor\":602,\"fLineStyle\":1,\"fLineWidth\":2,\"fFillColor\":0,\"fFillStyle\":1001,\"fMarkerColor\":1,\"fMarkerStyle\":1,\"fMarkerSize\":1,\"fNcells\":202,\"fXaxis\":{\"_typename\":\"TAxis\",\"fUniqueID\":0,\"fBits\":0,\"fName\":\"xaxis\",\"fTitle\":\"\",\"fNdivisions\":510,\"fAxisColor\":1,\"fLabelColor\":1,\"fLabelFont\":42,\"fLabelOffset\":0.005,\"fLabelSize\":0.035,\"fTickLength\":0.03,\"fTitleOffset\":1,\"fTitleSize\":0.035,\"fTitleColor\":1,\"fTitleFont\":42,\"fNbins\":200,\"fXmin\":70,\"fXmax\":110,\"fXbins\":[],\"fFirst\":0,\"fLast\":0,\"fBits2\":0,\"fTimeDisplay\":false,\"fTimeFormat\":\"\",\"fLabels\":null,\"fModLabs\":null},\"fYaxis\":{\"_typename\":\"TAxis\",\"fUniqueID\":0,\"fBits\":0,\"fName\":\"yaxis\",\"fTitle\":\"\",\"fNdivisions\":510,\"fAxisColor\":1,\"fLabelColor\":1,\"fLabelFont\":42,\"fLabelOffset\":0.005,\"fLabelSize\":0.035,\"fTickLength\":0.03,\"fTitleOffset\":0,\"fTitleSize\":0.035,\"fTitleColor\":1,\"fTitleFont\":42,\"fNbins\":1,\"fXmin\":0,\"fXmax\":1,\"fXbins\":[],\"fFirst\":0,\"fLast\":0,\"fBits2\":0,\"fTimeDisplay\":false,\"fTimeFormat\":\"\",\"fLabels\":null,\"fModLabs\":null},\"fZaxis\":{\"_typename\":\"TAxis\",\"fUniqueID\":0,\"fBits\":0,\"fName\":\"zaxis\",\"fTitle\":\"\",\"fNdivisions\":510,\"fAxisColor\":1,\"fLabelColor\":1,\"fLabelFont\":42,\"fLabelOffset\":0.005,\"fLabelSize\":0.035,\"fTickLength\":0.03,\"fTitleOffset\":1,\"fTitleSize\":0.035,\"fTitleColor\":1,\"fTitleFont\":42,\"fNbins\":1,\"fXmin\":0,\"fXmax\":1,\"fXbins\":[],\"fFirst\":0,\"fLast\":0,\"fBits2\":0,\"fTimeDisplay\":false,\"fTimeFormat\":\"\",\"fLabels\":null,\"fModLabs\":null},\"fBarOffset\":0,\"fBarWidth\":1000,\"fEntries\":10102,\"fTsumw\":22.9853658536585,\"fTsumw2\":0.0560618679357525,\"fTsumwx\":2052.12790089093,\"fTsumwx2\":183865.105261313,\"fMaximum\":-1111,\"fMinimum\":-1111,\"fNormFactor\":0,\"fContour\":[],\"fSumw2\":[0.00403331350386675,5.94883997620464e-5,5.94883997620464e-5,6.54372397382511e-5,4.75907198096371e-5,4.75907198096371e-5,3.56930398572278e-5,7.73349196906603e-5,6.54372397382511e-5,7.13860797144557e-5,7.73349196906603e-5,7.73349196906603e-5,5.35395597858418e-5,7.13860797144557e-5,7.73349196906603e-5,5.94883997620464e-5,5.94883997620464e-5,7.13860797144557e-5,8.92325996430696e-5,5.94883997620464e-5,8.3283759666865e-5,4.75907198096371e-5,5.35395597858418e-5,6.54372397382511e-5,8.3283759666865e-5,7.73349196906603e-5,1.01130279595479e-4,5.35395597858418e-5,1.13027959547888e-4,4.75907198096371e-5,7.73349196906603e-5,1.13027959547888e-4,7.73349196906603e-5,1.01130279595479e-4,8.3283759666865e-5,1.07079119571684e-4,5.94883997620464e-5,1.24925639500297e-4,1.24925639500297e-4,9.51814396192742e-5,5.94883997620464e-5,1.30874479476502e-4,7.13860797144557e-5,6.54372397382511e-5,1.18976799524093e-4,1.36823319452707e-4,1.13027959547888e-4,1.18976799524093e-4,1.36823319452707e-4,8.92325996430696e-5,1.07079119571684e-4,1.18976799524093e-4,8.92325996430696e-5,1.36823319452707e-4,1.36823319452707e-4,1.48720999405116e-4,1.01130279595479e-4,1.42772159428911e-4,1.96311719214753e-4,1.36823319452707e-4,1.72516359309935e-4,1.01130279595479e-4,2.14158239143367e-4,1.30874479476502e-4,1.90362879238548e-4,1.90362879238548e-4,1.6656751933373e-4,2.08209399167162e-4,2.73646638905413e-4,1.90362879238548e-4,1.78465199286139e-4,1.90362879238548e-4,2.14158239143367e-4,2.20107079119572e-4,3.27186198691255e-4,2.4390243902439e-4,2.49851279000595e-4,2.37953599048186e-4,2.37953599048186e-4,3.45032718619869e-4,3.3313503866746e-4,3.80725758477097e-4,3.21237358715051e-4,3.39083878643665e-4,3.68828078524688e-4,4.04521118381916e-4,4.52111838191553e-4,5.23497917906008e-4,4.9970255800119e-4,4.40214158239143e-4,6.18679357525283e-4,6.84116597263534e-4,6.18679357525283e-4,8.68530636525878e-4,8.14991076740036e-4,8.98274836406901e-4,8.80428316478287e-4,0.00105889351576443,0.00118381915526472,0.00121356335514575,0.00133254015466984,0.00162403331350387,0.0019274241522903,0.00195716835217133,0.00215942891136228,0.0024390243902439,0.00221296847114813,0.00227245687091017,0.00197501487209994,0.00181439619274242,0.00176680547293278,0.00138607971445568,0.00130279595478882,9.45865556216538e-4,7.31707317073171e-4,7.49553837001785e-4,5.47293277810827e-4,5.53242117787032e-4,4.16418798334325e-4,4.16418798334325e-4,3.74776918500892e-4,3.03390838786437e-4,3.27186198691255e-4,2.73646638905413e-4,2.49851279000595e-4,1.72516359309935e-4,2.49851279000595e-4,1.6656751933373e-4,1.30874479476502e-4,1.90362879238548e-4,1.36823319452707e-4,1.54669839381321e-4,1.84414039262344e-4,8.92325996430696e-5,9.51814396192742e-5,8.3283759666865e-5,5.94883997620464e-5,7.73349196906603e-5,7.73349196906603e-5,7.13860797144557e-5,7.13860797144557e-5,3.56930398572278e-5,7.13860797144557e-5,4.16418798334325e-5,3.56930398572278e-5,5.94883997620464e-5,3.56930398572278e-5,4.16418798334325e-5,4.16418798334325e-5,6.54372397382511e-5,1.78465199286139e-5,5.35395597858418e-5,2.97441998810232e-5,4.75907198096371e-5,2.37953599048186e-5,4.16418798334325e-5,4.75907198096371e-5,4.16418798334325e-5,5.94883997620464e-6,2.97441998810232e-5,5.94883997620464e-6,5.35395597858418e-5,2.37953599048186e-5,1.78465199286139e-5,2.37953599048186e-5,2.37953599048186e-5,2.37953599048186e-5,2.97441998810232e-5,3.56930398572278e-5,1.78465199286139e-5,1.78465199286139e-5,2.97441998810232e-5,1.78465199286139e-5,2.37953599048186e-5,4.75907198096371e-5,2.97441998810232e-5,2.37953599048186e-5,1.78465199286139e-5,1.78465199286139e-5,1.18976799524093e-5,1.78465199286139e-5,3.56930398572278e-5,2.37953599048186e-5,2.37953599048186e-5,1.78465199286139e-5,5.94883997620464e-6,2.37953599048186e-5,2.37953599048186e-5,5.94883997620464e-6,5.94883997620464e-6,0,5.94883997620464e-6,5.94883997620464e-6,0,5.94883997620464e-6,1.18976799524093e-5,1.78465199286139e-5,1.78465199286139e-5,0,1.18976799524093e-5,1.18976799524093e-5,0],\"fOption\":\"\",\"fFunctions\":{\"_typename\":\"TList\",\"name\":\"TList\",\"arr\":[],\"opt\":[]},\"fBufferSize\":0,\"fBuffer\":[],\"fBinStatErrOpt\":0,\"fStatOverflows\":2,\"fArray\":[1.65365853658537,0.024390243902439,0.024390243902439,0.0268292682926829,0.0195121951219512,0.0195121951219512,0.0146341463414634,0.0317073170731707,0.0268292682926829,0.0292682926829268,0.0317073170731707,0.0317073170731707,0.0219512195121951,0.0292682926829268,0.0317073170731707,0.024390243902439,0.024390243902439,0.0292682926829268,0.0365853658536585,0.024390243902439,0.0341463414634146,0.0195121951219512,0.0219512195121951,0.0268292682926829,0.0341463414634146,0.0317073170731707,0.0414634146341463,0.0219512195121951,0.0463414634146341,0.0195121951219512,0.0317073170731707,0.0463414634146341,0.0317073170731707,0.0414634146341463,0.0341463414634146,0.0439024390243902,0.024390243902439,0.0512195121951219,0.0512195121951219,0.0390243902439024,0.024390243902439,0.0536585365853659,0.0292682926829268,0.0268292682926829,0.0487804878048781,0.0560975609756098,0.0463414634146341,0.0487804878048781,0.0560975609756098,0.0365853658536585,0.0439024390243902,0.0487804878048781,0.0365853658536585,0.0560975609756098,0.0560975609756098,0.0609756097560976,0.0414634146341463,0.0585365853658537,0.0804878048780488,0.0560975609756098,0.0707317073170732,0.0414634146341463,0.0878048780487805,0.0536585365853659,0.0780487804878049,0.0780487804878049,0.0682926829268293,0.0853658536585366,0.11219512195122,0.0780487804878049,0.0731707317073171,0.0780487804878049,0.0878048780487805,0.0902439024390244,0.134146341463415,0.1,0.102439024390244,0.0975609756097561,0.0975609756097561,0.141463414634146,0.136585365853659,0.15609756097561,0.131707317073171,0.139024390243902,0.151219512195122,0.165853658536585,0.185365853658537,0.214634146341463,0.204878048780488,0.180487804878049,0.253658536585366,0.280487804878049,0.253658536585366,0.35609756097561,0.334146341463415,0.368292682926829,0.360975609756098,0.434146341463415,0.485365853658537,0.497560975609756,0.546341463414634,0.665853658536585,0.790243902439024,0.802439024390244,0.885365853658537,1,0.907317073170732,0.931707317073171,0.809756097560976,0.74390243902439,0.724390243902439,0.568292682926829,0.534146341463415,0.38780487804878,0.3,0.307317073170732,0.224390243902439,0.226829268292683,0.170731707317073,0.170731707317073,0.153658536585366,0.124390243902439,0.134146341463415,0.11219512195122,0.102439024390244,0.0707317073170732,0.102439024390244,0.0682926829268293,0.0536585365853659,0.0780487804878049,0.0560975609756098,0.0634146341463415,0.075609756097561,0.0365853658536585,0.0390243902439024,0.0341463414634146,0.024390243902439,0.0317073170731707,0.0317073170731707,0.0292682926829268,0.0292682926829268,0.0146341463414634,0.0292682926829268,0.0170731707317073,0.0146341463414634,0.024390243902439,0.0146341463414634,0.0170731707317073,0.0170731707317073,0.0268292682926829,0.00731707317073171,0.0219512195121951,0.0121951219512195,0.0195121951219512,0.00975609756097561,0.0170731707317073,0.0195121951219512,0.0170731707317073,0.0024390243902439,0.0121951219512195,0.0024390243902439,0.0219512195121951,0.00975609756097561,0.00731707317073171,0.00975609756097561,0.00975609756097561,0.00975609756097561,0.0121951219512195,0.0146341463414634,0.00731707317073171,0.00731707317073171,0.0121951219512195,0.00731707317073171,0.00975609756097561,0.0195121951219512,0.0121951219512195,0.00975609756097561,0.00731707317073171,0.00731707317073171,0.0048780487804878,0.00731707317073171,0.0146341463414634,0.00975609756097561,0.00975609756097561,0.00731707317073171,0.0024390243902439,0.00975609756097561,0.00975609756097561,0.0024390243902439,0.0024390243902439,0,0.0024390243902439,0.0024390243902439,0,0.0024390243902439,0.0048780487804878,0.00731707317073171,0.00731707317073171,0,0.0048780487804878,0.0048780487804878,0]},{\"_typename\":\"TLegend\",\"fUniqueID\":0,\"fBits\":8,\"fLineColor\":1,\"fLineStyle\":1,\"fLineWidth\":1,\"fFillColor\":0,\"fFillStyle\":1001,\"fX1\":100.000000149012,\"fY1\":0.918750005867333,\"fX2\":110.000000298023,\"fY2\":1.05000000782311,\"fX1NDC\":0.7,\"fY1NDC\":0.8,\"fX2NDC\":0.9,\"fY2NDC\":0.9,\"fBorderSize\":1,\"fInit\":1,\"fShadowColor\":1,\"fCornerRadius\":0,\"fOption\":\"brNDC\",\"fName\":\"TPave\",\"fTextAngle\":0,\"fTextSize\":0,\"fTextAlign\":12,\"fTextColor\":1,\"fTextFont\":42,\"fPrimitives\":{\"_typename\":\"TList\",\"name\":\"TList\",\"arr\":[{\"_typename\":\"TLegendEntry\",\"fUniqueID\":0,\"fBits\":0,\"fTextAngle\":0,\"fTextSize\":0,\"fTextAlign\":0,\"fTextColor\":0,\"fTextFont\":42,\"fLineColor\":632,\"fLineStyle\":1,\"fLineWidth\":2,\"fFillColor\":0,\"fFillStyle\":1001,\"fMarkerColor\":1,\"fMarkerStyle\":1,\"fMarkerSize\":1,\"fObject\":{\"$ref\":3},\"fLabel\":\"FSR OFF\",\"fOption\":\"lpf\"},{\"_typename\":\"TLegendEntry\",\"fUniqueID\":0,\"fBits\":0,\"fTextAngle\":0,\"fTextSize\":0,\"fTextAlign\":0,\"fTextColor\":0,\"fTextFont\":42,\"fLineColor\":602,\"fLineStyle\":1,\"fLineWidth\":2,\"fFillColor\":0,\"fFillStyle\":1001,\"fMarkerColor\":1,\"fMarkerStyle\":1,\"fMarkerSize\":1,\"fObject\":{\"$ref\":8},\"fLabel\":\"FSR ON\",\"fOption\":\"lpf\"}],\"opt\":[\"lpf\",\"lpf\"]},\"fEntrySeparation\":0.1,\"fMargin\":0.25,\"fNColumns\":1,\"fColumnSeparation\":0},{\"_typename\":\"TStyle\",\"fUniqueID\":0,\"fBits\":0,\"fName\":\"Modern\",\"fTitle\":\"Modern Style\",\"fLineColor\":1,\"fLineStyle\":1,\"fLineWidth\":1,\"fFillColor\":19,\"fFillStyle\":1001,\"fMarkerColor\":1,\"fMarkerStyle\":1,\"fMarkerSize\":1,\"fTextAngle\":0,\"fTextSize\":0.05,\"fTextAlign\":11,\"fTextColor\":1,\"fTextFont\":62,\"fXaxis\":{\"_typename\":\"TAttAxis\",\"fNdivisions\":510,\"fAxisColor\":1,\"fLabelColor\":1,\"fLabelFont\":42,\"fLabelOffset\":0.005,\"fLabelSize\":0.035,\"fTickLength\":0.03,\"fTitleOffset\":1,\"fTitleSize\":0.035,\"fTitleColor\":1,\"fTitleFont\":42},\"fYaxis\":{\"_typename\":\"TAttAxis\",\"fNdivisions\":510,\"fAxisColor\":1,\"fLabelColor\":1,\"fLabelFont\":42,\"fLabelOffset\":0.005,\"fLabelSize\":0.035,\"fTickLength\":0.03,\"fTitleOffset\":0,\"fTitleSize\":0.035,\"fTitleColor\":1,\"fTitleFont\":42},\"fZaxis\":{\"_typename\":\"TAttAxis\",\"fNdivisions\":510,\"fAxisColor\":1,\"fLabelColor\":1,\"fLabelFont\":42,\"fLabelOffset\":0.005,\"fLabelSize\":0.035,\"fTickLength\":0.03,\"fTitleOffset\":1,\"fTitleSize\":0.035,\"fTitleColor\":1,\"fTitleFont\":42},\"fBarWidth\":1,\"fBarOffset\":0,\"fColorModelPS\":0,\"fDrawBorder\":0,\"fOptLogx\":0,\"fOptLogy\":0,\"fOptLogz\":0,\"fOptDate\":0,\"fOptStat\":0,\"fOptTitle\":1,\"fOptFile\":0,\"fOptFit\":0,\"fShowEventStatus\":0,\"fShowEditor\":0,\"fShowToolBar\":0,\"fNumberContours\":20,\"fAttDate\":{\"_typename\":\"TAttText\",\"fTextAngle\":0,\"fTextSize\":0.025,\"fTextAlign\":11,\"fTextColor\":1,\"fTextFont\":62},\"fDateX\":0.01,\"fDateY\":0.01,\"fEndErrorSize\":2,\"fErrorX\":0.5,\"fFuncColor\":2,\"fFuncStyle\":1,\"fFuncWidth\":2,\"fGridColor\":0,\"fGridStyle\":3,\"fGridWidth\":1,\"fLegendBorderSize\":1,\"fLegendFillColor\":0,\"fLegendFont\":42,\"fLegendTextSize\":0,\"fHatchesLineWidth\":1,\"fHatchesSpacing\":1,\"fFrameFillColor\":0,\"fFrameLineColor\":1,\"fFrameFillStyle\":1001,\"fFrameLineStyle\":1,\"fFrameLineWidth\":1,\"fFrameBorderSize\":1,\"fFrameBorderMode\":0,\"fHistFillColor\":0,\"fHistLineColor\":602,\"fHistFillStyle\":1001,\"fHistLineStyle\":1,\"fHistLineWidth\":1,\"fHistMinimumZero\":false,\"fHistTopMargin\":0.05,\"fCanvasPreferGL\":false,\"fCanvasColor\":0,\"fCanvasBorderSize\":2,\"fCanvasBorderMode\":0,\"fCanvasDefH\":500,\"fCanvasDefW\":700,\"fCanvasDefX\":10,\"fCanvasDefY\":10,\"fPadColor\":0,\"fPadBorderSize\":2,\"fPadBorderMode\":0,\"fPadBottomMargin\":0.1,\"fPadTopMargin\":0.1,\"fPadLeftMargin\":0.1,\"fPadRightMargin\":0.1,\"fPadGridX\":false,\"fPadGridY\":false,\"fPadTickX\":0,\"fPadTickY\":0,\"fPaperSizeX\":20,\"fPaperSizeY\":26,\"fScreenFactor\":1,\"fStatColor\":0,\"fStatTextColor\":1,\"fStatBorderSize\":1,\"fStatFont\":42,\"fStatFontSize\":0,\"fStatStyle\":1001,\"fStatFormat\":\"6.4g\",\"fStatX\":0.98,\"fStatY\":0.935,\"fStatW\":0.2,\"fStatH\":0.16,\"fStripDecimals\":true,\"fTitleAlign\":23,\"fTitleColor\":0,\"fTitleTextColor\":1,\"fTitleBorderSize\":0,\"fTitleFont\":42,\"fTitleFontSize\":0.05,\"fTitleStyle\":0,\"fTitleX\":0.5,\"fTitleY\":0.995,\"fTitleW\":0,\"fTitleH\":0,\"fLegoInnerR\":0.5,\"fLineStyle\":[\"\",\"  \",\" 12 12\",\" 4 8\",\" 12 16 4 16\",\" 20 12 4 12\",\" 20 12 4 12 4 12 4 12\",\" 20 20\",\" 20 12 4 12 4 12\",\" 80 20\",\" 80 40 4 40\",\"  \",\"  \",\"  \",\"  \",\"  \",\"  \",\"  \",\"  \",\"  \",\"  \",\"  \",\"  \",\"  \",\"  \",\"  \",\"  \",\"  \",\"  \",\"  \"],\"fHeaderPS\":\"\",\"fTitlePS\":\"\",\"fFitFormat\":\"5.4g\",\"fPaintTextFormat\":\"g\",\"fLineScalePS\":3,\"fJoinLinePS\":0,\"fCapLinePS\":0,\"fTimeOffset\":788918400,\"fImageScaling\":1}],\"opt\":[\"\",\"hist\",\"same hist\",\"\",\"\"]},\"fExecs\":null,\"fName\":\"cz\",\"fTitle\":\"\",\"fNumPaletteColor\":0,\"fNextPaletteColor\":0,\"fDISPLAY\":\"$DISPLAY\",\"fDoubleBuffer\":0,\"fRetained\":true,\"fXsizeUser\":0,\"fYsizeUser\":0,\"fXsizeReal\":20,\"fYsizeReal\":15,\"fWindowTopX\":0,\"fWindowTopY\":0,\"fWindowWidth\":0,\"fWindowHeight\":0,\"fCw\":1020,\"fCh\":740,\"fCatt\":{\"_typename\":\"TAttCanvas\",\"fXBetween\":2,\"fYBetween\":2,\"fTitleFromTop\":1.2,\"fXdate\":0.2,\"fYdate\":0.3,\"fAdate\":1},\"kMoveOpaque\":true,\"kResizeOpaque\":true,\"fHighLightColor\":2,\"fBatch\":true,\"kShowEventStatus\":false,\"kAutoExec\":true,\"kMenuBar\":true});\n",
       "   Core.settings.HandleKeys = false;\n",
       "   Core.draw(\"root_plot_1645124185158\", obj, \"\");\n",
       "}\n",
       "\n",
       "function script_load_root_plot_1645124185158(src, on_error) {\n",
       "    let script = document.createElement('script');\n",
       "    script.src = src;\n",
       "    script.onload = function() { display_root_plot_1645124185158(JSROOT); };\n",
       "    script.onerror = function() { script.remove(); on_error(); };\n",
       "    document.head.appendChild(script);\n",
       "}\n",
       "\n",
       "if (typeof requirejs !== 'undefined') {\n",
       "\n",
       "    // We are in jupyter notebooks, use require.js which should be configured already\n",
       "    requirejs.config({\n",
       "       paths: { 'JSRootCore' : [ 'scripts/JSRoot.core', 'https://root.cern/js/6.1.1/scripts/JSRoot.core.min', 'https://jsroot.gsi.de/6.1.1/scripts/JSRoot.core.min' ] }\n",
       "    })(['JSRootCore'],  function(Core) {\n",
       "       display_root_plot_1645124185158(Core);\n",
       "    });\n",
       "\n",
       "} else if (typeof JSROOT !== 'undefined') {\n",
       "\n",
       "   // JSROOT already loaded, just use it\n",
       "   display_root_plot_1645124185158(JSROOT);\n",
       "\n",
       "} else {\n",
       "\n",
       "    // We are in jupyterlab without require.js, directly loading jsroot\n",
       "    // Jupyterlab might be installed in a different base_url so we need to know it.\n",
       "    try {\n",
       "        var base_url = JSON.parse(document.getElementById('jupyter-config-data').innerHTML).baseUrl;\n",
       "    } catch(_) {\n",
       "        var base_url = '/';\n",
       "    }\n",
       "\n",
       "    // Try loading a local version of requirejs and fallback to cdn if not possible.\n",
       "    script_load_root_plot_1645124185158(base_url + 'static/scripts/JSRoot.core.js', function(){\n",
       "        console.error('Fail to load JSROOT locally, please check your jupyter_notebook_config.py file');\n",
       "        script_load_root_plot_1645124185158('https://root.cern/js/6.1.1/scripts/JSRoot.core.min.js', function(){\n",
       "            document.getElementById(\"root_plot_1645124185158\").innerHTML = \"Failed to load JSROOT\";\n",
       "        });\n",
       "    });\n",
       "}\n",
       "\n",
       "</script>\n"
      ],
      "text/plain": [
       "<IPython.core.display.HTML object>"
      ]
     },
     "metadata": {},
     "output_type": "display_data"
    }
   ],
   "source": [
    "nEvents=10000\n",
    "pythia = ROOT.TPythia8(False) #False - disables banner\n",
    "makePythiaSilent(pythia)\n",
    "pythia.ReadString(\"WeakSingleBoson:ffbar2gmZ = on\")\n",
    "pythia.ReadString(\"23:onMode = off\")\n",
    "pythia.ReadString(\"23:onIfAny = 11\")\n",
    "pythia.ReadString(\"HadronLevel:all = off\")\n",
    "pythia.ReadString(\"PhaseSpace:mHatMin = 70.\")\n",
    "pythia.ReadString(\"PhaseSpace:mHatMax = 110.\")\n",
    "pythia.ReadString(\"Random:setSeed = on\")\n",
    "pythia.ReadString(\"Random:seed = 42\")\n",
    "pythia.Initialize(2212 , -2212 , 630);\n",
    "particles = ROOT.TClonesArray(\"TParticle\", 1000) #prepare space for generated particles\n",
    "\n",
    "def getZCandidates(parts):\n",
    "    ep = [p for p in parts if isFinal(p,\"e+\")]\n",
    "    em = [p for p in parts if isFinal(p,\"e-\")]\n",
    "    return list(it.product(ep,em))\n",
    "\n",
    "h_rad=ROOT.TH1D(\"h_rad\",\"\",200,70,110)\n",
    "h_norad=ROOT.TH1D(\"h_norad\",\"\",200,70,110)\n",
    "\n",
    "for i in range(nEvents):\n",
    "    pythia.GenerateEvent();\n",
    "    pythia.ImportParticles(particles,\"All\")\n",
    "    #for all possible pi- K+ pairs we fill invariant mass histogram\n",
    "    for pair in getZCandidates(particles):\n",
    "        h_rad.Fill(getMinv(pair))\n",
    "\n",
    "pythia = ROOT.TPythia8(False)\n",
    "makePythiaSilent(pythia)\n",
    "pythia.ReadString(\"WeakSingleBoson:ffbar2gmZ = on\")\n",
    "pythia.ReadString(\"23:onMode = off\")\n",
    "pythia.ReadString(\"23:onIfAny = 11\")\n",
    "pythia.ReadString(\"HadronLevel:all = off\")\n",
    "pythia.ReadString(\"PhaseSpace:mHatMin = 70.\")\n",
    "pythia.ReadString(\"PhaseSpace:mHatMax = 110.\")\n",
    "pythia.ReadString(\"PartonLevel:FSR = off\")\n",
    "pythia.ReadString(\"Random:setSeed = on\")\n",
    "pythia.ReadString(\"Random:seed = 42\")\n",
    "pythia.Initialize(2212 , -2212 , 630);\n",
    "\n",
    "for i in range(nEvents):\n",
    "    pythia.GenerateEvent();\n",
    "    pythia.ImportParticles(particles,\"All\")\n",
    "    #for all possible pi- K+ pairs we fill invariant mass histogram\n",
    "    for pair in getZCandidates(particles):\n",
    "        h_norad.Fill(getMinv(pair))\n",
    "\n",
    "c_z = ROOT.TCanvas(\"cz\",\"\",1024,768)\n",
    "\n",
    "h_rad.Scale(1./(h_rad.GetMaximum()))\n",
    "h_norad.Scale(1./(h_norad.GetMaximum()))\n",
    "\n",
    "h_norad.SetLineColor(ROOT.kRed)\n",
    "h_norad.SetLineWidth(2)\n",
    "h_rad.SetLineWidth(2)\n",
    "h_norad.GetXaxis().SetTitle(\"M_{e^{+}e^{-}}\")\n",
    "h_norad.GetXaxis().SetTitleOffset(1.4)\n",
    "h_norad.GetYaxis().SetTitle(\"entries\")\n",
    "h_norad.Draw(\"hist\")\n",
    "h_rad.Draw(\"same hist\")\n",
    "leg=ROOT.TLegend(0.7,0.8,0.9,0.9)\n",
    "leg.AddEntry(h_norad,\"FSR OFF\")\n",
    "leg.AddEntry(h_rad,\"FSR ON\")\n",
    "leg.Draw()\n",
    "c_z.Draw()"
   ]
  },
  {
   "cell_type": "code",
   "execution_count": 69,
   "metadata": {},
   "outputs": [],
   "source": [
    "nEvents=10000\n",
    "pythia = ROOT.TPythia8(False) #false to suppress banner\n",
    "makePythiaSilent(pythia)\n",
    "pythia.ReadString(\"WeakSingleBoson:ffbar2gmZ = on\") # select desired hard process\n",
    "pythia.ReadString(\"23:onMode = off\")                # disable all Z decay channels\n",
    "pythia.ReadString(\"23:onIfAny = 11\")                # enable Z decays to electrons\n",
    "pythia.ReadString(\"HadronLevel:all = off\")\n",
    "pythia.ReadString(\"PhaseSpace:mHatMin = 70.\")\n",
    "pythia.ReadString(\"PhaseSpace:mHatMax = 110.\")\n",
    "pythia.ReadString(\"Random:setSeed = on\")\n",
    "pythia.ReadString(\"Random:seed = 42\")\n",
    "pythia.Initialize(2212 , -2212 , 630)\n",
    "particles = ROOT.TClonesArray(\"TParticle\", 1000) #prepare space for generated particles\n",
    "\n",
    "#your solution goes here"
   ]
  },
  {
   "cell_type": "code",
   "execution_count": null,
   "metadata": {},
   "outputs": [],
   "source": []
  }
 ],
 "metadata": {
  "kernelspec": {
   "display_name": "Python 3",
   "language": "python",
   "name": "python3"
  },
  "language_info": {
   "codemirror_mode": {
    "name": "ipython",
    "version": 3
   },
   "file_extension": ".py",
   "mimetype": "text/x-python",
   "name": "python",
   "nbconvert_exporter": "python",
   "pygments_lexer": "ipython3",
   "version": "3.9.7"
  }
 },
 "nbformat": 4,
 "nbformat_minor": 4
}
