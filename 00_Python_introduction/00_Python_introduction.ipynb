{
 "cells": [
  {
   "cell_type": "markdown",
   "metadata": {
    "colab_type": "text",
    "id": "MonTGYfCIDu_",
    "tags": []
   },
   "source": [
    "# Python and computing tools introduction\n",
    "Auhtor: Artur Kalinowski"
   ]
  },
  {
   "cell_type": "markdown",
   "metadata": {
    "tags": []
   },
   "source": [
    "# Containers\n",
    "\n",
    "During the class we will use multiple packages and programs specific for high energy physics (HEP). To avoid the burden of installing and configuring them on every machine, we will use virtual environments known as containers. Containers are lightweight versions of old time virtual machines. Two popular environments used to run the containers are:\n",
    "\n",
    "* [Aptainer](https://apptainer.org/) (previously singularity)\n",
    "* [Docker](https://www.docker.com/)\n",
    "\n",
    "Both Docker and Aptainer can use the same input files. Docker is available for any operating system, Aptainer only for Linux ones. We will use a \n",
    "[akalinow/root-fedora35](https://hub.docker.com/repository/docker/akalinow/root-fedora35/general) container prepared for the classes. This is a container based on Fedora Linux ditribution, and conains all packages we will use during the classes.\n",
    "\n",
    "Detailes instruction on installing and starting Docker are given [here](https://github.com/akalinow/Modern_Particle_Physics_Experiments/blob/2022_2023/Docker/README.md)"
   ]
  },
  {
   "cell_type": "markdown",
   "metadata": {},
   "source": [
    "## Docker installation and setup on Windows\n",
    "\n",
    "Now we go through docker setup on Windows...."
   ]
  },
  {
   "cell_type": "markdown",
   "metadata": {},
   "source": [
    "## Docker installation on Linux\n",
    "\n",
    "...in the mean time people with Linux go through Docker installation on Linux.\n",
    "Singularity installation is a bit more time consuming and should be made at home. \n",
    "`We recommend` to use singularity if possible, as it is more convenient."
   ]
  },
  {
   "cell_type": "markdown",
   "metadata": {},
   "source": [
    "# Jupyter\n",
    "\n",
    "We will acces the computing environment with [Jupyter](https://jupyter.org/). Most of the topics will be covered with Jupyter notebooks, but we can also access the Linux terminal, and execute commands there. Instructions how to start the Jupyter server and connect to is are [here](https://github.com/akalinow/Modern_Particle_Physics_Experiments/blob/2022_2023/Docker/README.md).\n",
    "\n",
    "Now we start the jupyter and connect to it..."
   ]
  },
  {
   "cell_type": "markdown",
   "metadata": {},
   "source": [
    "# Visual Studio Code\n",
    "\n",
    "Visual studio code has a number of usefull extentions allowing to connect to running containers. `We encourage` you to try it at home."
   ]
  },
  {
   "cell_type": "markdown",
   "metadata": {},
   "source": [
    "# Python introduction"
   ]
  },
  {
   "cell_type": "code",
   "execution_count": 1,
   "metadata": {},
   "outputs": [],
   "source": [
    "#Single line comment starts with a single hash sign: #\n",
    "\n",
    "'''\n",
    "Multi line comment starts and ends with triple quatation mark.\n",
    "'''\n",
    "\n",
    "# A library is loaded with import\n",
    "import math\n",
    "\n",
    "# A library can be loaded, and given an alias \n",
    "import math as m\n",
    "\n",
    "# A single module or function witin library is loaded with\n",
    "from math import atan"
   ]
  },
  {
   "cell_type": "code",
   "execution_count": 2,
   "metadata": {},
   "outputs": [
    {
     "name": "stdout",
     "output_type": "stream",
     "text": [
      "Helo world.\n",
      "Pi is roughly 3.14, more precisely 3.1416\n",
      "Quarks have thre colors:  \u001b[31mR\u001b[0m \u001b[32mG\u001b[0m \u001b[34mB\u001b[0m\n",
      "['__doc__', '__loader__', '__name__', '__package__', '__spec__', 'acos', 'acosh', 'asin', 'asinh', 'atan', 'atan2', 'atanh', 'ceil', 'comb', 'copysign', 'cos', 'cosh', 'degrees', 'dist', 'e', 'erf', 'erfc', 'exp', 'expm1', 'fabs', 'factorial', 'floor', 'fmod', 'frexp', 'fsum', 'gamma', 'gcd', 'hypot', 'inf', 'isclose', 'isfinite', 'isinf', 'isnan', 'isqrt', 'ldexp', 'lgamma', 'log', 'log10', 'log1p', 'log2', 'modf', 'nan', 'perm', 'pi', 'pow', 'prod', 'radians', 'remainder', 'sin', 'sinh', 'sqrt', 'tan', 'tanh', 'tau', 'trunc']\n"
     ]
    }
   ],
   "source": [
    "# Printout to screen is made with `print(...)` function\n",
    "print(\"Helo world.\")\n",
    "\n",
    "#Nice formatting can be made with `format(...)` function of a string class:\n",
    "print(\"Pi is roughly {}, more precisely {:.4f}\".format(3.14, 4.0*atan(1.0)))\n",
    "\n",
    "#An eycandy colored text can be printer using package colored\n",
    "from termcolor import colored\n",
    "\n",
    "print(\"Quarks have thre colors: \",colored(\"R\",\"red\"),colored(\"G\",\"green\"),colored(\"B\",\"blue\") )\n",
    "\n",
    "# Library, but also class members can be listed with dir(...) function:\n",
    "print(dir(math))"
   ]
  },
  {
   "cell_type": "code",
   "execution_count": 3,
   "metadata": {},
   "outputs": [
    {
     "name": "stdout",
     "output_type": "stream",
     "text": [
      "A string variable.\n",
      "The \"text\" variable has type <class 'str'>\n",
      "['__add__', '__class__', '__contains__', '__delattr__', '__dir__', '__doc__', '__eq__', '__format__', '__ge__', '__getattribute__', '__getitem__', '__getnewargs__', '__gt__', '__hash__', '__init__', '__init_subclass__', '__iter__', '__le__', '__len__', '__lt__', '__mod__', '__mul__', '__ne__', '__new__', '__reduce__', '__reduce_ex__', '__repr__', '__rmod__', '__rmul__', '__setattr__', '__sizeof__', '__str__', '__subclasshook__', 'capitalize', 'casefold', 'center', 'count', 'encode', 'endswith', 'expandtabs', 'find', 'format', 'format_map', 'index', 'isalnum', 'isalpha', 'isascii', 'isdecimal', 'isdigit', 'isidentifier', 'islower', 'isnumeric', 'isprintable', 'isspace', 'istitle', 'isupper', 'join', 'ljust', 'lower', 'lstrip', 'maketrans', 'partition', 'replace', 'rfind', 'rindex', 'rjust', 'rpartition', 'rsplit', 'rstrip', 'split', 'splitlines', 'startswith', 'strip', 'swapcase', 'title', 'translate', 'upper', 'zfill']\n"
     ]
    }
   ],
   "source": [
    "#Variables are defined with name and value. Typing is not required\n",
    "text = \"A string variable.\"\n",
    "\n",
    "print(text)\n",
    "print(\"The \\\"text\\\" variable has type\",type(text))\n",
    "\n",
    "#Object variables and methods can be listed with dir(...) function:\n",
    "print(dir(text))"
   ]
  },
  {
   "cell_type": "code",
   "execution_count": 4,
   "metadata": {},
   "outputs": [
    {
     "name": "stdout",
     "output_type": "stream",
     "text": [
      "x variable is odd\n",
      "0 1 2 3 4 5 6 7 8 9 "
     ]
    }
   ],
   "source": [
    "#Conditional statement is created using if, elif and else statements:\n",
    "x = 11\n",
    "\n",
    "if x%2==0:\n",
    "    print(\"x variable is even\")\n",
    "elif x%2==1:\n",
    "    print(\"x variable is odd\")\n",
    "else:\n",
    "    print(colored(\"This branch should never activate\",\"red\"))\n",
    "    \n",
    "#Iteration is made with for statement:\n",
    "for x in range(0,10):\n",
    "    print(x, end=\" \")  "
   ]
  },
  {
   "cell_type": "code",
   "execution_count": 5,
   "metadata": {},
   "outputs": [
    {
     "name": "stdout",
     "output_type": "stream",
     "text": [
      "Value of list item with index 0 is 1\n",
      "Value of tuple item with index 0 is 10\n",
      "The full dictionary: {'one': 1, 'two': 2, 'three': 3}\n",
      "Value of dictionary item with index \"one\" is 1\n"
     ]
    }
   ],
   "source": [
    "#Some basic composite types:\n",
    "\n",
    "# List\n",
    "x = [1,2,3,4,5]\n",
    "\n",
    "index = 0\n",
    "print(\"Value of list item with index {} is {}\".format(index,x[index]))\n",
    "\n",
    "# Tuple - a constant list\n",
    "x = (10,20)\n",
    "print(\"Value of tuple item with index {} is {}\".format(index,x[index]))\n",
    "#x[0] = 12\n",
    "\n",
    "# Dictionary - an \"list\" indexed by key objects\n",
    "empty_dict = {}\n",
    "x = {\"one\": 1, \"two\": 2, \"three\": 3}\n",
    "print(\"The full dictionary:\",x)\n",
    "index = \"one\"\n",
    "print(\"Value of dictionary item with index \\\"{}\\\" is {}\".format(index,x[index]))"
   ]
  },
  {
   "cell_type": "code",
   "execution_count": 6,
   "metadata": {},
   "outputs": [
    {
     "name": "stdout",
     "output_type": "stream",
     "text": [
      "Type of x is  <class 'tuple'>\n",
      "Content of x is:  (2, 4)\n",
      "a = 2, b = 4\n",
      "c = 4, d = 2\n"
     ]
    }
   ],
   "source": [
    "## Functions are defined with def statement.\n",
    "## functions can return many values - in that case a function returns tuple\n",
    "\n",
    "def myFunc(x):\n",
    "    return x, x**2\n",
    "\n",
    "x = myFunc(2)\n",
    "\n",
    "print(\"Type of x is \",type(x))\n",
    "print(\"Content of x is: \",x)\n",
    "\n",
    "#Multiple values returned by function cen be directly assigned to variables\n",
    "a,b = myFunc(2)\n",
    "print(\"a = {}, b = {}\".format(a,b))\n",
    "\n",
    "#It is also possible to catch only selected variables\n",
    "_,c = myFunc(2)\n",
    "d,_ = myFunc(2)\n",
    "print(\"c = {}, d = {}\".format(c,d))"
   ]
  },
  {
   "cell_type": "markdown",
   "metadata": {},
   "source": [
    "# Introduction to packages used during the Workshop\n",
    "\n",
    "During this workshop we will use only a core set of packages used for computation and plotting:\n",
    "\n",
    "* [numpy](https://numpy.org/) - The fundamental package for scientific computing with Python\n",
    "* [matplotlib](https://matplotlib.org/) - Visualization with Python"
   ]
  },
  {
   "cell_type": "code",
   "execution_count": 7,
   "metadata": {},
   "outputs": [],
   "source": [
    "import numpy as np\n",
    "import matplotlib.pyplot as plt"
   ]
  },
  {
   "cell_type": "markdown",
   "metadata": {
    "tags": []
   },
   "source": [
    "## Numpy"
   ]
  },
  {
   "cell_type": "code",
   "execution_count": null,
   "metadata": {},
   "outputs": [],
   "source": [
    "#Numpy is a powerful library for mathematical operations. In particular is provides advanced matrix operations.\n",
    "\n",
    "x = np.array([(1,2,1),(5,5,4), (0,1,2)])\n",
    "print(\"x :\\n\",x)\n",
    "print(\"The shape of x is: {} \\n\".format(x.shape))\n",
    "\n",
    "y = np.identity(x.shape[0])\n",
    "\n",
    "#Most of the matrix operations are element-wise\n",
    "print(\"Result of x+y:\\n {} \\n\".format(x+y))\n",
    "\n",
    "#Ordinary mathematical matrix operations have to selected with proper method:\n",
    "print(\"Result of x dot y:\\n {}\\n\".format(x.dot(y)))\n",
    "\n",
    "#Matrices are extended (broadcasted) when dimensions do not allow for element wise operations.\n",
    "#the broadcasting is performed if is it possible for given input matrices shape:\n",
    "y = np.array([[1,2,3]])\n",
    "print(\"y maxtrix is: \\n {} \\n\".format(y))\n",
    "print(\"Result of x*y:\\n {}\\n\".format(x*y))\n",
    "\n",
    "#The broadcasting is performed if is it possible for given input matrices shape.\n",
    "#Select first two columns of the y matrix:\n",
    "y = y[:,0:2]\n",
    "print(\"y maxtrix is: \\n {} \\n\".format(y))\n",
    "print(\"Result of x*y:\\n {}\\n\".format(x*y))"
   ]
  },
  {
   "cell_type": "markdown",
   "metadata": {
    "tags": []
   },
   "source": [
    "## Matplotlib"
   ]
  },
  {
   "cell_type": "code",
   "execution_count": 98,
   "metadata": {},
   "outputs": [
    {
     "data": {
      "image/png": "[encoded data removed]",
      "text/plain": [
       "<Figure size 504x360 with 1 Axes>"
      ]
     },
     "metadata": {
      "needs_background": "light"
     },
     "output_type": "display_data"
    }
   ],
   "source": [
    "# Basic plots are made with matplotlib library. More advanced plots, including interactive plots can be made with plotly library\n",
    "\n",
    "x = np.arange(0,2.0*np.pi,0.01)\n",
    "y1 = np.sin(x)\n",
    "y2 = np.cos(x)\n",
    "\n",
    "plt.figure(figsize=(7, 5))\n",
    "plt.plot(x, y1, label=\"sin(x)\")\n",
    "plt.plot(x, y2, label=\"cos(x)\")\n",
    "plt.plot(x, 2*y2, label=\"2*cos(x)\")\n",
    "plt.legend()\n",
    "plt.xlabel('x')\n",
    "\n",
    "#Add traling semicolon to supress printout in the cell output\n",
    "plt.ylabel('y');"
   ]
  },
  {
   "cell_type": "code",
   "execution_count": 97,
   "metadata": {},
   "outputs": [
    {
     "data": {
      "image/png": "[encoded data removed]",
      "text/plain": [
       "<Figure size 432x288 with 1 Axes>"
      ]
     },
     "metadata": {
      "needs_background": "light"
     },
     "output_type": "display_data"
    }
   ],
   "source": [
    "plt.plot(y1, label=\"sin(x)\");"
   ]
  }
 ],
 "metadata": {
  "colab": {
   "collapsed_sections": [],
   "name": "01a_Powtórka_numpy.ipynb",
   "provenance": [
    {
     "file_id": "0BzwQ_Lscn8yDWnZVeHU1MjluWFU",
     "timestamp": 1546856440599
    }
   ]
  },
  "kernelspec": {
   "display_name": "Python 3 (ipykernel)",
   "language": "python",
   "name": "python3"
  },
  "language_info": {
   "codemirror_mode": {
    "name": "ipython",
    "version": 3
   },
   "file_extension": ".py",
   "mimetype": "text/x-python",
   "name": "python",
   "nbconvert_exporter": "python",
   "pygments_lexer": "ipython3",
   "version": "3.8.10"
  },
  "toc-autonumbering": false,
  "toc-showcode": false,
  "toc-showmarkdowntxt": false,
  "toc-showtags": false
 },
 "nbformat": 4,
 "nbformat_minor": 4
}
