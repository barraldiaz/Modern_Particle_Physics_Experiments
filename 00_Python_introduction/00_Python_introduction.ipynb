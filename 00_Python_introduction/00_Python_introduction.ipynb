{
 "cells": [
  {
   "cell_type": "markdown",
   "metadata": {
    "colab_type": "text",
    "id": "MonTGYfCIDu_",
    "tags": []
   },
   "source": [
    "# Python and computing tools introduction\n",
    "Auhtor: Artur Kalinowski"
   ]
  },
  {
   "cell_type": "markdown",
   "metadata": {
    "tags": []
   },
   "source": [
    "## Containers\n",
    "\n",
    "During the class we will use multiple packages and programs specific for high energy physics (HEP). To avoid the burden of installing and configuring them on every machine, we will use virtual environments known as containers. Containers are lightweight versions of old time virtual machines. Two popular environments used to run the containers are:\n",
    "\n",
    "* [Aptainer](https://apptainer.org/) (previously singularity)\n",
    "* [Docker](https://www.docker.com/)\n",
    "\n",
    "Both Docker and Aptainer can use the same input files. Docker is available for any operating system, Aptainer only for Linux ones. \n",
    "\n",
    "You can check the full list of packages installed in the image we will use: [akalinow/root-fedora35](https://hub.docker.com/repository/docker/akalinow/root-fedora35/general).\n",
    "\n",
    "\n",
    "Detailes instruction on installing and starting containers are given [here](https://github.com/akalinow/Modern_Particle_Physics_Experiments/blob/2022_2023/Docker/README.md)"
   ]
  },
  {
   "cell_type": "markdown",
   "metadata": {},
   "source": [
    "## Docker installation and setup on Windows\n",
    "\n",
    "Now we go through docker setup on Windows...."
   ]
  },
  {
   "cell_type": "markdown",
   "metadata": {},
   "source": [
    "## Docker installation on Linux\n",
    "\n",
    "...in the mean time peaople with Linux go through Docker installation on Linux.\n",
    "Singularity installation is a bit more time consuming and should be made at home. We recommend to use singularity if possible, as it is more convenient."
   ]
  },
  {
   "cell_type": "markdown",
   "metadata": {},
   "source": [
    "## Jupyter\n",
    "\n",
    "We will acces the computing environment with Jupyter. Most of the topic will be covered with Jupyter notebooks, but we can also access the Linux terminal, \n",
    "and execute command there."
   ]
  },
  {
   "cell_type": "markdown",
   "metadata": {},
   "source": [
    "## Visual Studio Code\n",
    "\n",
    "Visual studio code has a nuimber of usefull extentions allowing to connect to running containers. We encourage you to try it at home."
   ]
  },
  {
   "cell_type": "code",
   "execution_count": null,
   "metadata": {},
   "outputs": [],
   "source": []
  }
 ],
 "metadata": {
  "colab": {
   "collapsed_sections": [],
   "name": "01a_Powtórka_numpy.ipynb",
   "provenance": [
    {
     "file_id": "0BzwQ_Lscn8yDWnZVeHU1MjluWFU",
     "timestamp": 1546856440599
    }
   ]
  },
  "kernelspec": {
   "display_name": "Python 3 (ipykernel)",
   "language": "python",
   "name": "python3"
  },
  "language_info": {
   "codemirror_mode": {
    "name": "ipython",
    "version": 3
   },
   "file_extension": ".py",
   "mimetype": "text/x-python",
   "name": "python",
   "nbconvert_exporter": "python",
   "pygments_lexer": "ipython3",
   "version": "3.8.10"
  },
  "toc-autonumbering": false,
  "toc-showcode": false,
  "toc-showmarkdowntxt": false,
  "toc-showtags": false
 },
 "nbformat": 4,
 "nbformat_minor": 4
}
