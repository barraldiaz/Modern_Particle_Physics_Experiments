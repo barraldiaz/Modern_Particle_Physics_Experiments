{
 "cells": [
  {
   "cell_type": "markdown",
   "metadata": {
    "tags": []
   },
   "source": [
    "# Lecture 6: Particle Identification Detectors\n",
    "\n",
    "Author: Aleksander Filip Żarnecki (University of Warsaw)"
   ]
  },
  {
   "cell_type": "markdown",
   "metadata": {
    "tags": []
   },
   "source": [
    "### Import libraries "
   ]
  },
  {
   "cell_type": "code",
   "execution_count": 1,
   "metadata": {},
   "outputs": [],
   "source": [
    "import math\n",
    "import numpy as np\n",
    "from matplotlib import pyplot as plt"
   ]
  },
  {
   "cell_type": "markdown",
   "metadata": {
    "tags": []
   },
   "source": [
    "## Part I: Time-of-Flight detectors"
   ]
  },
  {
   "cell_type": "code",
   "execution_count": 2,
   "metadata": {},
   "outputs": [],
   "source": [
    "# Time of particle propagation in uniform magnetic field\n",
    "# (unit charge assumed, |q| = 1e !)\n",
    "\n",
    "# Magnetic field [T]\n",
    "B = 3.5\n",
    "\n",
    "# Distance (IP to ToF detector) [m]\n",
    "d = 1.8\n",
    "\n",
    "# Speed of light [m/s]\n",
    "\n",
    "c = 3E+08    "
   ]
  },
  {
   "cell_type": "code",
   "execution_count": 13,
   "metadata": {},
   "outputs": [],
   "source": [
    "# Propagation time for given momentum [GeV/c] and mass [GeV/c^2]\n",
    "# Assuming particle perpendicular to beam axis\n",
    "\n",
    "def propTime(p,m) :\n",
    "    \n",
    "    # Particle velocity (in c units)\n",
    "    \n",
    "    beta = p/np.sqrt(p*p+m*m)\n",
    "    \n",
    "    # Curvature radius in magnetic field [m]\n",
    "    \n",
    "    R = p/B * 1E+09/c       # Additional numerical factor from G(eV)\n",
    "    \n",
    "    if R > d/2 :\n",
    "        l = 2*R*np.arcsin(d/2./R)\n",
    "        t = l/(beta*c)\n",
    "        \n",
    "    else:\n",
    "        t = -1              # curvature too small\n",
    "\n",
    "    return t"
   ]
  },
  {
   "cell_type": "code",
   "execution_count": 4,
   "metadata": {},
   "outputs": [],
   "source": [
    "# Reconstruct particle mass from momentum and time\n",
    "\n",
    "def recMass(p,t) :\n",
    "    \n",
    "    # Curvature radius in magnetic field [m]\n",
    "    \n",
    "    R = p/B * 1E+09/c       # Additional numerical factor from G(eV)\n",
    "    \n",
    "    # Velocity as distance over time\n",
    "    \n",
    "    l = 2*R*np.arcsin(d/2./R)\n",
    "    beta = l/t/c\n",
    "    \n",
    "    mass = p * np.sqrt((1/beta/beta - 1)*(beta>0)*(beta<1))\n",
    "    \n",
    "    return mass"
   ]
  },
  {
   "cell_type": "code",
   "execution_count": 16,
   "metadata": {},
   "outputs": [
    {
     "name": "stdout",
     "output_type": "stream",
     "text": [
      "Reconstructed test mass:  0.13956999999999967  GeV\n"
     ]
    }
   ],
   "source": [
    "# Test procedure consistency\n",
    "\n",
    "me  = 0.0005109989461  # e+\n",
    "mpi = 0.13957    # pi+\n",
    "mK = 0.493677    # K+\n",
    "mp = 0.938272    # p\n",
    "\n",
    "p0 = 1.0  # in GeV \n",
    "\n",
    "t0 = propTime(p0,mpi)\n",
    "\n",
    "m1 = recMass(p0,t0)\n",
    "\n",
    "print(\"Reconstructed test mass: \",m1,\" GeV\")"
   ]
  },
  {
   "cell_type": "code",
   "execution_count": 6,
   "metadata": {},
   "outputs": [],
   "source": [
    "# Generate multiple measurements with given measurement precision\n",
    "\n",
    "dp = 1E-03  # Relative precision in momentum\n",
    "dt = 3E-11  # Time measurement precision (30ps)\n",
    "\n",
    "def mcGen(p,m,Nmc):\n",
    "\n",
    "    # Actual propagation time\n",
    "    \n",
    "    t = propTime(p,m)\n",
    "    \n",
    "    # Measured values\n",
    "    \n",
    "    tmeas = np.random.normal(loc=t, scale=dt, size=Nmc)\n",
    "    pmeas = np.random.normal(loc=p, scale=p*dp, size=Nmc)\n",
    "    \n",
    "    mmeas = recMass(pmeas,tmeas)\n",
    "    \n",
    "    return mmeas"
   ]
  },
  {
   "cell_type": "code",
   "execution_count": 21,
   "metadata": {},
   "outputs": [
    {
     "data": {
      "image/png": "[encoded data removed]",
      "text/plain": [
       "<Figure size 864x576 with 1 Axes>"
      ]
     },
     "metadata": {
      "needs_background": "light"
     },
     "output_type": "display_data"
    }
   ],
   "source": [
    "# Number of generations \n",
    "\n",
    "Nmc = 10000\n",
    "\n",
    "# Particle momentum for comparison\n",
    "\n",
    "p0 = 7  # in GeV\n",
    "\n",
    "# Generate pseudo-data for three considered particles\n",
    "\n",
    "mcpi = mcGen(p0,mpi,Nmc)\n",
    "mcK = mcGen(p0,mK,Nmc)\n",
    "mcp = mcGen(p0,mp,Nmc)\n",
    "\n",
    "plt.figure(figsize=(12,8))\n",
    "\n",
    "plt.hist(mcp,log=False,histtype='step',color='green',linewidth=3, bins=50,range=(0.,1.5),label='proton')\n",
    "\n",
    "ymin, ymax = plt.ylim()\n",
    "\n",
    "plt.hist(mcK,log=False,histtype='step',color='red',linewidth=3, bins=50,range=(0.,1.5),label='kaon')\n",
    "plt.hist(mcpi,log=False,histtype='step',linewidth=3, bins=50,range=(0.,1.5),label='pion')\n",
    "\n",
    "plt.ylim(ymin,1.2*ymax)\n",
    "\n",
    "#plt.hist(xy[:,0],density=True,log=False,histtype='step',color='red',bins=50,range=(-1.,1.),label='Rejection')\n",
    "         \n",
    "plt.xlabel('Reconstructed mass [GeV]',size=20)\n",
    "plt.ylabel('Events',size=20)\n",
    "plt.xticks(fontsize=16)\n",
    "plt.yticks(fontsize=16)\n",
    "# plt.yticks([0,1,2],['Ground','Meta-stable','Excited'],fontsize=16)\n",
    "plt.title(\"Time of flight performance for p = \"+str(p0)+\" GeV\",size=24)\n",
    "plt.legend(title='Particle',title_fontsize=18,fontsize=16);\n",
    "\n",
    "fname = '06_tof_'+str(p0)+'.png'\n",
    "\n",
    "plt.savefig(fname,format='png')\n",
    "\n",
    "plt.show()"
   ]
  },
  {
   "cell_type": "markdown",
   "metadata": {
    "tags": []
   },
   "source": [
    "## Part II: Transition radiation detectors"
   ]
  },
  {
   "cell_type": "code",
   "execution_count": 8,
   "metadata": {},
   "outputs": [],
   "source": [
    "# Fine coupling constant (low energy limit)\n",
    "\n",
    "aem = 1.0/137.035999139     \n",
    "\n",
    "# Energy corresponding to plasma frequency i radiator [eV]\n",
    "\n",
    "hwp = 20\n",
    "\n",
    "# Photon detection threshold  [eV]\n",
    "\n",
    "hwth = 1000   # 1 keV , soft X-ray\n",
    "\n",
    "# Saturation effects enter for gamma greater than\n",
    "\n",
    "gsat = 3000\n"
   ]
  },
  {
   "cell_type": "code",
   "execution_count": 9,
   "metadata": {},
   "outputs": [],
   "source": [
    "# Probability of radiation (above energy threshold) for single boundary transition (vacuum - radiator)\n",
    "# (assuming unit particle charge |q| = e)\n",
    "\n",
    "def muRad(gamma):\n",
    "\n",
    "    rlog = np.log(gamma*hwp/hwth)\n",
    "\n",
    "    mu = aem/np.pi * (np.power(rlog - 1, 2)*(rlog>0) + np.pi*np.pi/12)\n",
    "    \n",
    "    return mu\n",
    "    "
   ]
  },
  {
   "cell_type": "code",
   "execution_count": 10,
   "metadata": {},
   "outputs": [],
   "source": [
    "# Generation of expected energy sum of independent photon emissions\n",
    "\n",
    "def radEne(gamma,Nrad):\n",
    "    \n",
    "    rlog = np.log(gamma*hwp/hwth)\n",
    "    \n",
    "    ur = np.random.uniform(0,rlog,size=Nrad)\n",
    "    \n",
    "    er = (rlog>0) * hwth * np.exp(ur)\n",
    "    \n",
    "    return np.sum(er)\n"
   ]
  },
  {
   "cell_type": "code",
   "execution_count": 22,
   "metadata": {},
   "outputs": [],
   "source": [
    "# Expected energy loss [MeV] in for multiple layers\n",
    "\n",
    "def mcTdr(p,m,Ntrd,Nmc):\n",
    "\n",
    "    betagamma = p/m\n",
    "    gamma = np.sqrt(1+betagamma*betagamma)\n",
    "\n",
    "    if gamma > gsat : \n",
    "        gamma = gsat\n",
    "\n",
    "    mu1 = muRad(gamma)         # Probability of radiation in single transition\n",
    "        \n",
    "    etab = np.empty(Nmc)\n",
    "       \n",
    "    for imc in range(Nmc):\n",
    "        \n",
    "        Nrad = np.random.poisson(Ntrd*mu1)\n",
    "\n",
    "        etab[imc] = radEne(gamma,Nrad)/1E+06    # changing from eV to MeV\n",
    "        \n",
    "    return etab"
   ]
  },
  {
   "cell_type": "code",
   "execution_count": 27,
   "metadata": {},
   "outputs": [
    {
     "data": {
      "image/png": "[encoded data removed]",
      "text/plain": [
       "<Figure size 864x576 with 1 Axes>"
      ]
     },
     "metadata": {
      "needs_background": "light"
     },
     "output_type": "display_data"
    }
   ],
   "source": [
    "# Number of generations \n",
    "\n",
    "Nmc = 10000\n",
    "\n",
    "# Number of Tdr layers\n",
    "\n",
    "Ntdr = 300\n",
    "\n",
    "# Particle momentum for comparison [GeV]\n",
    "\n",
    "p0 = 1000\n",
    "\n",
    "# Generate pseudo-data for considered particles\n",
    "\n",
    "tdre = mcTdr(p0,me,Ntdr,Nmc)\n",
    "tdrp = mcTdr(p0,mp,Ntdr,Nmc)\n",
    "tdrpi = mcTdr(p0,mpi,Ntdr,Nmc)\n",
    "\n",
    "# Histogram range\n",
    "\n",
    "Emax = 0.5\n",
    "\n",
    "plt.figure(figsize=(12,8))\n",
    "\n",
    "plt.hist(tdre,log=True,histtype='step',color='red',linewidth=3, bins=50,range=(0.,Emax),label='positon')\n",
    "plt.hist(tdrpi,log=True,histtype='step',linewidth=3, bins=50,range=(0.,Emax),label='pion')\n",
    "plt.hist(tdrp,log=True,histtype='step',color='green',linewidth=3, bins=50,range=(0.,Emax),label='proton')\n",
    "\n",
    "ymin, ymax = plt.ylim()\n",
    "plt.ylim(0.3,1.2*ymax)\n",
    "\n",
    "#plt.hist(xy[:,0],density=True,log=False,histtype='step',color='red',bins=50,range=(-1.,1.),label='Rejection')\n",
    "         \n",
    "plt.xlabel('Total radiation [MeV]',size=20)\n",
    "plt.ylabel('Events',size=20)\n",
    "plt.xticks(fontsize=16)\n",
    "plt.yticks(fontsize=16)\n",
    "# plt.yticks([0,1,2],['Ground','Meta-stable','Excited'],fontsize=16)\n",
    "plt.title(\"Transition radiation for p = \"+str(p0)+\" GeV\",size=24)\n",
    "plt.legend(title='Particle',title_fontsize=18,fontsize=16);\n",
    "\n",
    "fname = '06_tdr_'+str(p0)+'.png'\n",
    "\n",
    "plt.savefig(fname,format='png')\n",
    "\n",
    "plt.show()"
   ]
  },
  {
   "cell_type": "code",
   "execution_count": null,
   "metadata": {},
   "outputs": [],
   "source": []
  },
  {
   "cell_type": "code",
   "execution_count": null,
   "metadata": {},
   "outputs": [],
   "source": []
  }
 ],
 "metadata": {
  "kernelspec": {
   "display_name": "Python 3",
   "language": "python",
   "name": "python3"
  },
  "language_info": {
   "codemirror_mode": {
    "name": "ipython",
    "version": 3
   },
   "file_extension": ".py",
   "mimetype": "text/x-python",
   "name": "python",
   "nbconvert_exporter": "python",
   "pygments_lexer": "ipython3",
   "version": "3.9.7"
  }
 },
 "nbformat": 4,
 "nbformat_minor": 4
}
